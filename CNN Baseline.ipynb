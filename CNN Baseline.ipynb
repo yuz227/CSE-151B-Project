{
 "cells": [
  {
   "cell_type": "code",
   "execution_count": null,
   "id": "9a2313be",
   "metadata": {},
   "outputs": [],
   "source": []
  },
  {
   "cell_type": "code",
   "execution_count": 1,
   "id": "576eacf5",
   "metadata": {},
   "outputs": [],
   "source": [
    "!pip install numpy==1.26.4 pandas==2.2.2 bottleneck==1.3.8 xarray zarr dask lightning matplotlib wandb cftime einops --quiet\n",
    "\n",
    "import os\n",
    "from datetime import datetime\n",
    "import numpy as np\n",
    "import xarray as xr\n",
    "import dask.array as da\n",
    "import torch\n",
    "import torch.nn as nn\n",
    "import torch.optim as optim\n",
    "import matplotlib.pyplot as plt\n",
    "from torch.utils.data import Dataset, DataLoader\n",
    "import lightning.pytorch as pl"
   ]
  },
  {
   "cell_type": "code",
   "execution_count": null,
   "id": "e0255ac3",
   "metadata": {},
   "outputs": [],
   "source": [
    "pip uninstall torch torchvision torchaudio -y"
   ]
  },
  {
   "cell_type": "code",
   "execution_count": null,
   "id": "2a9ad7cb",
   "metadata": {},
   "outputs": [],
   "source": [
    "pip install torch torchvision torchaudio --index-url https://download.pytorch.org/whl/cu121"
   ]
  },
  {
   "cell_type": "code",
   "execution_count": null,
   "id": "b8d7bb4a",
   "metadata": {},
   "outputs": [],
   "source": []
  },
  {
   "cell_type": "code",
   "execution_count": 2,
   "id": "a2b0a098",
   "metadata": {},
   "outputs": [
    {
     "data": {
      "text/html": [
       "<div><svg style=\"position: absolute; width: 0; height: 0; overflow: hidden\">\n",
       "<defs>\n",
       "<symbol id=\"icon-database\" viewBox=\"0 0 32 32\">\n",
       "<path d=\"M16 0c-8.837 0-16 2.239-16 5v4c0 2.761 7.163 5 16 5s16-2.239 16-5v-4c0-2.761-7.163-5-16-5z\"></path>\n",
       "<path d=\"M16 17c-8.837 0-16-2.239-16-5v6c0 2.761 7.163 5 16 5s16-2.239 16-5v-6c0 2.761-7.163 5-16 5z\"></path>\n",
       "<path d=\"M16 26c-8.837 0-16-2.239-16-5v6c0 2.761 7.163 5 16 5s16-2.239 16-5v-6c0 2.761-7.163 5-16 5z\"></path>\n",
       "</symbol>\n",
       "<symbol id=\"icon-file-text2\" viewBox=\"0 0 32 32\">\n",
       "<path d=\"M28.681 7.159c-0.694-0.947-1.662-2.053-2.724-3.116s-2.169-2.030-3.116-2.724c-1.612-1.182-2.393-1.319-2.841-1.319h-15.5c-1.378 0-2.5 1.121-2.5 2.5v27c0 1.378 1.122 2.5 2.5 2.5h23c1.378 0 2.5-1.122 2.5-2.5v-19.5c0-0.448-0.137-1.23-1.319-2.841zM24.543 5.457c0.959 0.959 1.712 1.825 2.268 2.543h-4.811v-4.811c0.718 0.556 1.584 1.309 2.543 2.268zM28 29.5c0 0.271-0.229 0.5-0.5 0.5h-23c-0.271 0-0.5-0.229-0.5-0.5v-27c0-0.271 0.229-0.5 0.5-0.5 0 0 15.499-0 15.5 0v7c0 0.552 0.448 1 1 1h7v19.5z\"></path>\n",
       "<path d=\"M23 26h-14c-0.552 0-1-0.448-1-1s0.448-1 1-1h14c0.552 0 1 0.448 1 1s-0.448 1-1 1z\"></path>\n",
       "<path d=\"M23 22h-14c-0.552 0-1-0.448-1-1s0.448-1 1-1h14c0.552 0 1 0.448 1 1s-0.448 1-1 1z\"></path>\n",
       "<path d=\"M23 18h-14c-0.552 0-1-0.448-1-1s0.448-1 1-1h14c0.552 0 1 0.448 1 1s-0.448 1-1 1z\"></path>\n",
       "</symbol>\n",
       "</defs>\n",
       "</svg>\n",
       "<style>/* CSS stylesheet for displaying xarray objects in jupyterlab.\n",
       " *\n",
       " */\n",
       "\n",
       ":root {\n",
       "  --xr-font-color0: var(--jp-content-font-color0, rgba(0, 0, 0, 1));\n",
       "  --xr-font-color2: var(--jp-content-font-color2, rgba(0, 0, 0, 0.54));\n",
       "  --xr-font-color3: var(--jp-content-font-color3, rgba(0, 0, 0, 0.38));\n",
       "  --xr-border-color: var(--jp-border-color2, #e0e0e0);\n",
       "  --xr-disabled-color: var(--jp-layout-color3, #bdbdbd);\n",
       "  --xr-background-color: var(--jp-layout-color0, white);\n",
       "  --xr-background-color-row-even: var(--jp-layout-color1, white);\n",
       "  --xr-background-color-row-odd: var(--jp-layout-color2, #eeeeee);\n",
       "}\n",
       "\n",
       "html[theme=dark],\n",
       "body[data-theme=dark],\n",
       "body.vscode-dark {\n",
       "  --xr-font-color0: rgba(255, 255, 255, 1);\n",
       "  --xr-font-color2: rgba(255, 255, 255, 0.54);\n",
       "  --xr-font-color3: rgba(255, 255, 255, 0.38);\n",
       "  --xr-border-color: #1F1F1F;\n",
       "  --xr-disabled-color: #515151;\n",
       "  --xr-background-color: #111111;\n",
       "  --xr-background-color-row-even: #111111;\n",
       "  --xr-background-color-row-odd: #313131;\n",
       "}\n",
       "\n",
       ".xr-wrap {\n",
       "  display: block !important;\n",
       "  min-width: 300px;\n",
       "  max-width: 700px;\n",
       "}\n",
       "\n",
       ".xr-text-repr-fallback {\n",
       "  /* fallback to plain text repr when CSS is not injected (untrusted notebook) */\n",
       "  display: none;\n",
       "}\n",
       "\n",
       ".xr-header {\n",
       "  padding-top: 6px;\n",
       "  padding-bottom: 6px;\n",
       "  margin-bottom: 4px;\n",
       "  border-bottom: solid 1px var(--xr-border-color);\n",
       "}\n",
       "\n",
       ".xr-header > div,\n",
       ".xr-header > ul {\n",
       "  display: inline;\n",
       "  margin-top: 0;\n",
       "  margin-bottom: 0;\n",
       "}\n",
       "\n",
       ".xr-obj-type,\n",
       ".xr-array-name {\n",
       "  margin-left: 2px;\n",
       "  margin-right: 10px;\n",
       "}\n",
       "\n",
       ".xr-obj-type {\n",
       "  color: var(--xr-font-color2);\n",
       "}\n",
       "\n",
       ".xr-sections {\n",
       "  padding-left: 0 !important;\n",
       "  display: grid;\n",
       "  grid-template-columns: 150px auto auto 1fr 20px 20px;\n",
       "}\n",
       "\n",
       ".xr-section-item {\n",
       "  display: contents;\n",
       "}\n",
       "\n",
       ".xr-section-item input {\n",
       "  display: none;\n",
       "}\n",
       "\n",
       ".xr-section-item input + label {\n",
       "  color: var(--xr-disabled-color);\n",
       "}\n",
       "\n",
       ".xr-section-item input:enabled + label {\n",
       "  cursor: pointer;\n",
       "  color: var(--xr-font-color2);\n",
       "}\n",
       "\n",
       ".xr-section-item input:enabled + label:hover {\n",
       "  color: var(--xr-font-color0);\n",
       "}\n",
       "\n",
       ".xr-section-summary {\n",
       "  grid-column: 1;\n",
       "  color: var(--xr-font-color2);\n",
       "  font-weight: 500;\n",
       "}\n",
       "\n",
       ".xr-section-summary > span {\n",
       "  display: inline-block;\n",
       "  padding-left: 0.5em;\n",
       "}\n",
       "\n",
       ".xr-section-summary-in:disabled + label {\n",
       "  color: var(--xr-font-color2);\n",
       "}\n",
       "\n",
       ".xr-section-summary-in + label:before {\n",
       "  display: inline-block;\n",
       "  content: '►';\n",
       "  font-size: 11px;\n",
       "  width: 15px;\n",
       "  text-align: center;\n",
       "}\n",
       "\n",
       ".xr-section-summary-in:disabled + label:before {\n",
       "  color: var(--xr-disabled-color);\n",
       "}\n",
       "\n",
       ".xr-section-summary-in:checked + label:before {\n",
       "  content: '▼';\n",
       "}\n",
       "\n",
       ".xr-section-summary-in:checked + label > span {\n",
       "  display: none;\n",
       "}\n",
       "\n",
       ".xr-section-summary,\n",
       ".xr-section-inline-details {\n",
       "  padding-top: 4px;\n",
       "  padding-bottom: 4px;\n",
       "}\n",
       "\n",
       ".xr-section-inline-details {\n",
       "  grid-column: 2 / -1;\n",
       "}\n",
       "\n",
       ".xr-section-details {\n",
       "  display: none;\n",
       "  grid-column: 1 / -1;\n",
       "  margin-bottom: 5px;\n",
       "}\n",
       "\n",
       ".xr-section-summary-in:checked ~ .xr-section-details {\n",
       "  display: contents;\n",
       "}\n",
       "\n",
       ".xr-array-wrap {\n",
       "  grid-column: 1 / -1;\n",
       "  display: grid;\n",
       "  grid-template-columns: 20px auto;\n",
       "}\n",
       "\n",
       ".xr-array-wrap > label {\n",
       "  grid-column: 1;\n",
       "  vertical-align: top;\n",
       "}\n",
       "\n",
       ".xr-preview {\n",
       "  color: var(--xr-font-color3);\n",
       "}\n",
       "\n",
       ".xr-array-preview,\n",
       ".xr-array-data {\n",
       "  padding: 0 5px !important;\n",
       "  grid-column: 2;\n",
       "}\n",
       "\n",
       ".xr-array-data,\n",
       ".xr-array-in:checked ~ .xr-array-preview {\n",
       "  display: none;\n",
       "}\n",
       "\n",
       ".xr-array-in:checked ~ .xr-array-data,\n",
       ".xr-array-preview {\n",
       "  display: inline-block;\n",
       "}\n",
       "\n",
       ".xr-dim-list {\n",
       "  display: inline-block !important;\n",
       "  list-style: none;\n",
       "  padding: 0 !important;\n",
       "  margin: 0;\n",
       "}\n",
       "\n",
       ".xr-dim-list li {\n",
       "  display: inline-block;\n",
       "  padding: 0;\n",
       "  margin: 0;\n",
       "}\n",
       "\n",
       ".xr-dim-list:before {\n",
       "  content: '(';\n",
       "}\n",
       "\n",
       ".xr-dim-list:after {\n",
       "  content: ')';\n",
       "}\n",
       "\n",
       ".xr-dim-list li:not(:last-child):after {\n",
       "  content: ',';\n",
       "  padding-right: 5px;\n",
       "}\n",
       "\n",
       ".xr-has-index {\n",
       "  font-weight: bold;\n",
       "}\n",
       "\n",
       ".xr-var-list,\n",
       ".xr-var-item {\n",
       "  display: contents;\n",
       "}\n",
       "\n",
       ".xr-var-item > div,\n",
       ".xr-var-item label,\n",
       ".xr-var-item > .xr-var-name span {\n",
       "  background-color: var(--xr-background-color-row-even);\n",
       "  margin-bottom: 0;\n",
       "}\n",
       "\n",
       ".xr-var-item > .xr-var-name:hover span {\n",
       "  padding-right: 5px;\n",
       "}\n",
       "\n",
       ".xr-var-list > li:nth-child(odd) > div,\n",
       ".xr-var-list > li:nth-child(odd) > label,\n",
       ".xr-var-list > li:nth-child(odd) > .xr-var-name span {\n",
       "  background-color: var(--xr-background-color-row-odd);\n",
       "}\n",
       "\n",
       ".xr-var-name {\n",
       "  grid-column: 1;\n",
       "}\n",
       "\n",
       ".xr-var-dims {\n",
       "  grid-column: 2;\n",
       "}\n",
       "\n",
       ".xr-var-dtype {\n",
       "  grid-column: 3;\n",
       "  text-align: right;\n",
       "  color: var(--xr-font-color2);\n",
       "}\n",
       "\n",
       ".xr-var-preview {\n",
       "  grid-column: 4;\n",
       "}\n",
       "\n",
       ".xr-index-preview {\n",
       "  grid-column: 2 / 5;\n",
       "  color: var(--xr-font-color2);\n",
       "}\n",
       "\n",
       ".xr-var-name,\n",
       ".xr-var-dims,\n",
       ".xr-var-dtype,\n",
       ".xr-preview,\n",
       ".xr-attrs dt {\n",
       "  white-space: nowrap;\n",
       "  overflow: hidden;\n",
       "  text-overflow: ellipsis;\n",
       "  padding-right: 10px;\n",
       "}\n",
       "\n",
       ".xr-var-name:hover,\n",
       ".xr-var-dims:hover,\n",
       ".xr-var-dtype:hover,\n",
       ".xr-attrs dt:hover {\n",
       "  overflow: visible;\n",
       "  width: auto;\n",
       "  z-index: 1;\n",
       "}\n",
       "\n",
       ".xr-var-attrs,\n",
       ".xr-var-data,\n",
       ".xr-index-data {\n",
       "  display: none;\n",
       "  background-color: var(--xr-background-color) !important;\n",
       "  padding-bottom: 5px !important;\n",
       "}\n",
       "\n",
       ".xr-var-attrs-in:checked ~ .xr-var-attrs,\n",
       ".xr-var-data-in:checked ~ .xr-var-data,\n",
       ".xr-index-data-in:checked ~ .xr-index-data {\n",
       "  display: block;\n",
       "}\n",
       "\n",
       ".xr-var-data > table {\n",
       "  float: right;\n",
       "}\n",
       "\n",
       ".xr-var-name span,\n",
       ".xr-var-data,\n",
       ".xr-index-name div,\n",
       ".xr-index-data,\n",
       ".xr-attrs {\n",
       "  padding-left: 25px !important;\n",
       "}\n",
       "\n",
       ".xr-attrs,\n",
       ".xr-var-attrs,\n",
       ".xr-var-data,\n",
       ".xr-index-data {\n",
       "  grid-column: 1 / -1;\n",
       "}\n",
       "\n",
       "dl.xr-attrs {\n",
       "  padding: 0;\n",
       "  margin: 0;\n",
       "  display: grid;\n",
       "  grid-template-columns: 125px auto;\n",
       "}\n",
       "\n",
       ".xr-attrs dt,\n",
       ".xr-attrs dd {\n",
       "  padding: 0;\n",
       "  margin: 0;\n",
       "  float: left;\n",
       "  padding-right: 10px;\n",
       "  width: auto;\n",
       "}\n",
       "\n",
       ".xr-attrs dt {\n",
       "  font-weight: normal;\n",
       "  grid-column: 1;\n",
       "}\n",
       "\n",
       ".xr-attrs dt:hover span {\n",
       "  display: inline-block;\n",
       "  background: var(--xr-background-color);\n",
       "  padding-right: 10px;\n",
       "}\n",
       "\n",
       ".xr-attrs dd {\n",
       "  grid-column: 2;\n",
       "  white-space: pre-wrap;\n",
       "  word-break: break-all;\n",
       "}\n",
       "\n",
       ".xr-icon-database,\n",
       ".xr-icon-file-text2,\n",
       ".xr-no-icon {\n",
       "  display: inline-block;\n",
       "  vertical-align: middle;\n",
       "  width: 1em;\n",
       "  height: 1.5em !important;\n",
       "  stroke-width: 0;\n",
       "  stroke: currentColor;\n",
       "  fill: currentColor;\n",
       "}\n",
       "</style><pre class='xr-text-repr-fallback'>&lt;xarray.Dataset&gt;\n",
       "Dimensions:    (ssp: 4, time: 1021, latitude: 48, longitude: 72, x: 72, y: 48,\n",
       "                member_id: 3)\n",
       "Coordinates:\n",
       "    lat        (x, y) float64 dask.array&lt;chunksize=(72, 48), meta=np.ndarray&gt;\n",
       "  * latitude   (latitude) float64 -89.05 -85.26 -81.47 ... 81.47 85.26 89.05\n",
       "    lon        (x, y) float64 dask.array&lt;chunksize=(72, 48), meta=np.ndarray&gt;\n",
       "  * longitude  (longitude) float64 1.25 6.25 11.25 16.25 ... 346.2 351.2 356.2\n",
       "  * member_id  (member_id) int64 0 1 2\n",
       "  * ssp        (ssp) &lt;U6 &#x27;ssp126&#x27; &#x27;ssp245&#x27; &#x27;ssp370&#x27; &#x27;ssp585&#x27;\n",
       "  * time       (time) object 2015-01-15 00:00:00 ... 2100-01-15 00:00:00\n",
       "  * x          (x) float64 1.875 6.875 11.88 16.88 ... 341.9 346.9 351.9 356.9\n",
       "  * y          (y) float64 -88.59 -84.82 -81.05 -77.28 ... 81.05 84.82 88.59\n",
       "Data variables:\n",
       "    BC         (ssp, time, latitude, longitude) float64 dask.array&lt;chunksize=(1, 24, 48, 72), meta=np.ndarray&gt;\n",
       "    CH4        (ssp, time) float64 dask.array&lt;chunksize=(1, 24), meta=np.ndarray&gt;\n",
       "    CO2        (ssp, time) float64 dask.array&lt;chunksize=(1, 24), meta=np.ndarray&gt;\n",
       "    SO2        (ssp, time, latitude, longitude) float64 dask.array&lt;chunksize=(1, 24, 48, 72), meta=np.ndarray&gt;\n",
       "    pr         (ssp, time, member_id, y, x) float32 dask.array&lt;chunksize=(1, 24, 1, 48, 72), meta=np.ndarray&gt;\n",
       "    rsdt       (ssp, time, y, x) float32 dask.array&lt;chunksize=(1, 24, 48, 72), meta=np.ndarray&gt;\n",
       "    tas        (ssp, time, member_id, y, x) float32 dask.array&lt;chunksize=(1, 24, 1, 48, 72), meta=np.ndarray&gt;\n",
       "Attributes:\n",
       "    original_member_ids:  [&#x27;r10i1p1f1&#x27;, &#x27;r11i1p1f1&#x27;, &#x27;r4i1p1f1&#x27;]\n",
       "    precipitation_units:  mm/day (converted from kg m-2 s-1)\n",
       "    source:               CMIP6 data processed for CSE151B\n",
       "    ssp:                  ssp126</pre><div class='xr-wrap' style='display:none'><div class='xr-header'><div class='xr-obj-type'>xarray.Dataset</div></div><ul class='xr-sections'><li class='xr-section-item'><input id='section-0043186f-31f4-4cf2-9a13-75de6ce0ef77' class='xr-section-summary-in' type='checkbox' disabled ><label for='section-0043186f-31f4-4cf2-9a13-75de6ce0ef77' class='xr-section-summary'  title='Expand/collapse section'>Dimensions:</label><div class='xr-section-inline-details'><ul class='xr-dim-list'><li><span class='xr-has-index'>ssp</span>: 4</li><li><span class='xr-has-index'>time</span>: 1021</li><li><span class='xr-has-index'>latitude</span>: 48</li><li><span class='xr-has-index'>longitude</span>: 72</li><li><span class='xr-has-index'>x</span>: 72</li><li><span class='xr-has-index'>y</span>: 48</li><li><span class='xr-has-index'>member_id</span>: 3</li></ul></div><div class='xr-section-details'></div></li><li class='xr-section-item'><input id='section-abf2cd19-3428-4dc6-a4c3-e7375b27791b' class='xr-section-summary-in' type='checkbox'  checked><label for='section-abf2cd19-3428-4dc6-a4c3-e7375b27791b' class='xr-section-summary' >Coordinates: <span>(9)</span></label><div class='xr-section-inline-details'></div><div class='xr-section-details'><ul class='xr-var-list'><li class='xr-var-item'><div class='xr-var-name'><span>lat</span></div><div class='xr-var-dims'>(x, y)</div><div class='xr-var-dtype'>float64</div><div class='xr-var-preview xr-preview'>dask.array&lt;chunksize=(72, 48), meta=np.ndarray&gt;</div><input id='attrs-9e8fc521-79c5-4622-935a-cebe18cfbfaa' class='xr-var-attrs-in' type='checkbox' disabled><label for='attrs-9e8fc521-79c5-4622-935a-cebe18cfbfaa' title='Show/Hide attributes'><svg class='icon xr-icon-file-text2'><use xlink:href='#icon-file-text2'></use></svg></label><input id='data-856d551a-e52e-4d86-9f31-e4f693778147' class='xr-var-data-in' type='checkbox'><label for='data-856d551a-e52e-4d86-9f31-e4f693778147' title='Show/Hide data repr'><svg class='icon xr-icon-database'><use xlink:href='#icon-database'></use></svg></label><div class='xr-var-attrs'><dl class='xr-attrs'></dl></div><div class='xr-var-data'><table>\n",
       "    <tr>\n",
       "        <td>\n",
       "            <table style=\"border-collapse: collapse;\">\n",
       "                <thead>\n",
       "                    <tr>\n",
       "                        <td> </td>\n",
       "                        <th> Array </th>\n",
       "                        <th> Chunk </th>\n",
       "                    </tr>\n",
       "                </thead>\n",
       "                <tbody>\n",
       "                    \n",
       "                    <tr>\n",
       "                        <th> Bytes </th>\n",
       "                        <td> 27.00 kiB </td>\n",
       "                        <td> 27.00 kiB </td>\n",
       "                    </tr>\n",
       "                    \n",
       "                    <tr>\n",
       "                        <th> Shape </th>\n",
       "                        <td> (72, 48) </td>\n",
       "                        <td> (72, 48) </td>\n",
       "                    </tr>\n",
       "                    <tr>\n",
       "                        <th> Dask graph </th>\n",
       "                        <td colspan=\"2\"> 1 chunks in 2 graph layers </td>\n",
       "                    </tr>\n",
       "                    <tr>\n",
       "                        <th> Data type </th>\n",
       "                        <td colspan=\"2\"> float64 numpy.ndarray </td>\n",
       "                    </tr>\n",
       "                </tbody>\n",
       "            </table>\n",
       "        </td>\n",
       "        <td>\n",
       "        <svg width=\"130\" height=\"170\" style=\"stroke:rgb(0,0,0);stroke-width:1\" >\n",
       "\n",
       "  <!-- Horizontal lines -->\n",
       "  <line x1=\"0\" y1=\"0\" x2=\"80\" y2=\"0\" style=\"stroke-width:2\" />\n",
       "  <line x1=\"0\" y1=\"120\" x2=\"80\" y2=\"120\" style=\"stroke-width:2\" />\n",
       "\n",
       "  <!-- Vertical lines -->\n",
       "  <line x1=\"0\" y1=\"0\" x2=\"0\" y2=\"120\" style=\"stroke-width:2\" />\n",
       "  <line x1=\"80\" y1=\"0\" x2=\"80\" y2=\"120\" style=\"stroke-width:2\" />\n",
       "\n",
       "  <!-- Colored Rectangle -->\n",
       "  <polygon points=\"0.0,0.0 80.0,0.0 80.0,120.0 0.0,120.0\" style=\"fill:#ECB172A0;stroke-width:0\"/>\n",
       "\n",
       "  <!-- Text -->\n",
       "  <text x=\"40.000000\" y=\"140.000000\" font-size=\"1.0rem\" font-weight=\"100\" text-anchor=\"middle\" >48</text>\n",
       "  <text x=\"100.000000\" y=\"60.000000\" font-size=\"1.0rem\" font-weight=\"100\" text-anchor=\"middle\" transform=\"rotate(0,100.000000,60.000000)\">72</text>\n",
       "</svg>\n",
       "        </td>\n",
       "    </tr>\n",
       "</table></div></li><li class='xr-var-item'><div class='xr-var-name'><span class='xr-has-index'>latitude</span></div><div class='xr-var-dims'>(latitude)</div><div class='xr-var-dtype'>float64</div><div class='xr-var-preview xr-preview'>-89.05 -85.26 ... 85.26 89.05</div><input id='attrs-2229a877-5011-4dd3-8498-fdcb709d5f9f' class='xr-var-attrs-in' type='checkbox' ><label for='attrs-2229a877-5011-4dd3-8498-fdcb709d5f9f' title='Show/Hide attributes'><svg class='icon xr-icon-file-text2'><use xlink:href='#icon-file-text2'></use></svg></label><input id='data-3984ffe7-84aa-41e5-9fd2-8f75d4daecb5' class='xr-var-data-in' type='checkbox'><label for='data-3984ffe7-84aa-41e5-9fd2-8f75d4daecb5' title='Show/Hide data repr'><svg class='icon xr-icon-database'><use xlink:href='#icon-database'></use></svg></label><div class='xr-var-attrs'><dl class='xr-attrs'><dt><span>units :</span></dt><dd>degrees</dd></dl></div><div class='xr-var-data'><pre>array([-89.052632, -85.263158, -81.473684, -77.684211, -73.894737, -70.105263,\n",
       "       -66.315789, -62.526316, -58.736842, -54.947368, -51.157895, -47.368421,\n",
       "       -43.578947, -39.789474, -36.      , -32.210526, -28.421053, -24.631579,\n",
       "       -20.842105, -17.052632, -13.263158,  -9.473684,  -5.684211,  -1.894737,\n",
       "         1.894737,   5.684211,   9.473684,  13.263158,  17.052632,  20.842105,\n",
       "        24.631579,  28.421053,  32.210526,  36.      ,  39.789474,  43.578947,\n",
       "        47.368421,  51.157895,  54.947368,  58.736842,  62.526316,  66.315789,\n",
       "        70.105263,  73.894737,  77.684211,  81.473684,  85.263158,  89.052632])</pre></div></li><li class='xr-var-item'><div class='xr-var-name'><span>lon</span></div><div class='xr-var-dims'>(x, y)</div><div class='xr-var-dtype'>float64</div><div class='xr-var-preview xr-preview'>dask.array&lt;chunksize=(72, 48), meta=np.ndarray&gt;</div><input id='attrs-a0897839-a316-41e5-8aaf-aa6de8c0b199' class='xr-var-attrs-in' type='checkbox' disabled><label for='attrs-a0897839-a316-41e5-8aaf-aa6de8c0b199' title='Show/Hide attributes'><svg class='icon xr-icon-file-text2'><use xlink:href='#icon-file-text2'></use></svg></label><input id='data-47538a32-8d3c-42d2-83ee-230892e19853' class='xr-var-data-in' type='checkbox'><label for='data-47538a32-8d3c-42d2-83ee-230892e19853' title='Show/Hide data repr'><svg class='icon xr-icon-database'><use xlink:href='#icon-database'></use></svg></label><div class='xr-var-attrs'><dl class='xr-attrs'></dl></div><div class='xr-var-data'><table>\n",
       "    <tr>\n",
       "        <td>\n",
       "            <table style=\"border-collapse: collapse;\">\n",
       "                <thead>\n",
       "                    <tr>\n",
       "                        <td> </td>\n",
       "                        <th> Array </th>\n",
       "                        <th> Chunk </th>\n",
       "                    </tr>\n",
       "                </thead>\n",
       "                <tbody>\n",
       "                    \n",
       "                    <tr>\n",
       "                        <th> Bytes </th>\n",
       "                        <td> 27.00 kiB </td>\n",
       "                        <td> 27.00 kiB </td>\n",
       "                    </tr>\n",
       "                    \n",
       "                    <tr>\n",
       "                        <th> Shape </th>\n",
       "                        <td> (72, 48) </td>\n",
       "                        <td> (72, 48) </td>\n",
       "                    </tr>\n",
       "                    <tr>\n",
       "                        <th> Dask graph </th>\n",
       "                        <td colspan=\"2\"> 1 chunks in 2 graph layers </td>\n",
       "                    </tr>\n",
       "                    <tr>\n",
       "                        <th> Data type </th>\n",
       "                        <td colspan=\"2\"> float64 numpy.ndarray </td>\n",
       "                    </tr>\n",
       "                </tbody>\n",
       "            </table>\n",
       "        </td>\n",
       "        <td>\n",
       "        <svg width=\"130\" height=\"170\" style=\"stroke:rgb(0,0,0);stroke-width:1\" >\n",
       "\n",
       "  <!-- Horizontal lines -->\n",
       "  <line x1=\"0\" y1=\"0\" x2=\"80\" y2=\"0\" style=\"stroke-width:2\" />\n",
       "  <line x1=\"0\" y1=\"120\" x2=\"80\" y2=\"120\" style=\"stroke-width:2\" />\n",
       "\n",
       "  <!-- Vertical lines -->\n",
       "  <line x1=\"0\" y1=\"0\" x2=\"0\" y2=\"120\" style=\"stroke-width:2\" />\n",
       "  <line x1=\"80\" y1=\"0\" x2=\"80\" y2=\"120\" style=\"stroke-width:2\" />\n",
       "\n",
       "  <!-- Colored Rectangle -->\n",
       "  <polygon points=\"0.0,0.0 80.0,0.0 80.0,120.0 0.0,120.0\" style=\"fill:#ECB172A0;stroke-width:0\"/>\n",
       "\n",
       "  <!-- Text -->\n",
       "  <text x=\"40.000000\" y=\"140.000000\" font-size=\"1.0rem\" font-weight=\"100\" text-anchor=\"middle\" >48</text>\n",
       "  <text x=\"100.000000\" y=\"60.000000\" font-size=\"1.0rem\" font-weight=\"100\" text-anchor=\"middle\" transform=\"rotate(0,100.000000,60.000000)\">72</text>\n",
       "</svg>\n",
       "        </td>\n",
       "    </tr>\n",
       "</table></div></li><li class='xr-var-item'><div class='xr-var-name'><span class='xr-has-index'>longitude</span></div><div class='xr-var-dims'>(longitude)</div><div class='xr-var-dtype'>float64</div><div class='xr-var-preview xr-preview'>1.25 6.25 11.25 ... 351.2 356.2</div><input id='attrs-275623f6-ba2b-41dc-8c33-66fbb064561f' class='xr-var-attrs-in' type='checkbox' disabled><label for='attrs-275623f6-ba2b-41dc-8c33-66fbb064561f' title='Show/Hide attributes'><svg class='icon xr-icon-file-text2'><use xlink:href='#icon-file-text2'></use></svg></label><input id='data-b010c075-26da-40e7-ae73-7cd9e69ef876' class='xr-var-data-in' type='checkbox'><label for='data-b010c075-26da-40e7-ae73-7cd9e69ef876' title='Show/Hide data repr'><svg class='icon xr-icon-database'><use xlink:href='#icon-database'></use></svg></label><div class='xr-var-attrs'><dl class='xr-attrs'></dl></div><div class='xr-var-data'><pre>array([  1.25,   6.25,  11.25,  16.25,  21.25,  26.25,  31.25,  36.25,  41.25,\n",
       "        46.25,  51.25,  56.25,  61.25,  66.25,  71.25,  76.25,  81.25,  86.25,\n",
       "        91.25,  96.25, 101.25, 106.25, 111.25, 116.25, 121.25, 126.25, 131.25,\n",
       "       136.25, 141.25, 146.25, 151.25, 156.25, 161.25, 166.25, 171.25, 176.25,\n",
       "       181.25, 186.25, 191.25, 196.25, 201.25, 206.25, 211.25, 216.25, 221.25,\n",
       "       226.25, 231.25, 236.25, 241.25, 246.25, 251.25, 256.25, 261.25, 266.25,\n",
       "       271.25, 276.25, 281.25, 286.25, 291.25, 296.25, 301.25, 306.25, 311.25,\n",
       "       316.25, 321.25, 326.25, 331.25, 336.25, 341.25, 346.25, 351.25, 356.25])</pre></div></li><li class='xr-var-item'><div class='xr-var-name'><span class='xr-has-index'>member_id</span></div><div class='xr-var-dims'>(member_id)</div><div class='xr-var-dtype'>int64</div><div class='xr-var-preview xr-preview'>0 1 2</div><input id='attrs-4ea734d6-d51b-4f3d-a1b6-060a30d3b8cb' class='xr-var-attrs-in' type='checkbox' disabled><label for='attrs-4ea734d6-d51b-4f3d-a1b6-060a30d3b8cb' title='Show/Hide attributes'><svg class='icon xr-icon-file-text2'><use xlink:href='#icon-file-text2'></use></svg></label><input id='data-0d7f18e1-e22c-44ca-ba7c-f7b5a213028a' class='xr-var-data-in' type='checkbox'><label for='data-0d7f18e1-e22c-44ca-ba7c-f7b5a213028a' title='Show/Hide data repr'><svg class='icon xr-icon-database'><use xlink:href='#icon-database'></use></svg></label><div class='xr-var-attrs'><dl class='xr-attrs'></dl></div><div class='xr-var-data'><pre>array([0, 1, 2], dtype=int64)</pre></div></li><li class='xr-var-item'><div class='xr-var-name'><span class='xr-has-index'>ssp</span></div><div class='xr-var-dims'>(ssp)</div><div class='xr-var-dtype'>&lt;U6</div><div class='xr-var-preview xr-preview'>&#x27;ssp126&#x27; &#x27;ssp245&#x27; &#x27;ssp370&#x27; &#x27;ssp585&#x27;</div><input id='attrs-cff6e1c5-cddd-4be0-a9e8-0ab6382fe47b' class='xr-var-attrs-in' type='checkbox' disabled><label for='attrs-cff6e1c5-cddd-4be0-a9e8-0ab6382fe47b' title='Show/Hide attributes'><svg class='icon xr-icon-file-text2'><use xlink:href='#icon-file-text2'></use></svg></label><input id='data-802e1630-9c17-427b-b297-cd3b7f1ba7f9' class='xr-var-data-in' type='checkbox'><label for='data-802e1630-9c17-427b-b297-cd3b7f1ba7f9' title='Show/Hide data repr'><svg class='icon xr-icon-database'><use xlink:href='#icon-database'></use></svg></label><div class='xr-var-attrs'><dl class='xr-attrs'></dl></div><div class='xr-var-data'><pre>array([&#x27;ssp126&#x27;, &#x27;ssp245&#x27;, &#x27;ssp370&#x27;, &#x27;ssp585&#x27;], dtype=&#x27;&lt;U6&#x27;)</pre></div></li><li class='xr-var-item'><div class='xr-var-name'><span class='xr-has-index'>time</span></div><div class='xr-var-dims'>(time)</div><div class='xr-var-dtype'>object</div><div class='xr-var-preview xr-preview'>2015-01-15 00:00:00 ... 2100-01-...</div><input id='attrs-ca304db1-ec25-49e5-8d64-7c25c4f91909' class='xr-var-attrs-in' type='checkbox' disabled><label for='attrs-ca304db1-ec25-49e5-8d64-7c25c4f91909' title='Show/Hide attributes'><svg class='icon xr-icon-file-text2'><use xlink:href='#icon-file-text2'></use></svg></label><input id='data-947d44f4-b9b1-4d24-884f-4e74159be6e6' class='xr-var-data-in' type='checkbox'><label for='data-947d44f4-b9b1-4d24-884f-4e74159be6e6' title='Show/Hide data repr'><svg class='icon xr-icon-database'><use xlink:href='#icon-database'></use></svg></label><div class='xr-var-attrs'><dl class='xr-attrs'></dl></div><div class='xr-var-data'><pre>array([cftime.DatetimeNoLeap(2015, 1, 15, 0, 0, 0, 0, has_year_zero=True),\n",
       "       cftime.DatetimeNoLeap(2015, 2, 15, 0, 0, 0, 0, has_year_zero=True),\n",
       "       cftime.DatetimeNoLeap(2015, 3, 15, 0, 0, 0, 0, has_year_zero=True), ...,\n",
       "       cftime.DatetimeNoLeap(2099, 11, 15, 0, 0, 0, 0, has_year_zero=True),\n",
       "       cftime.DatetimeNoLeap(2099, 12, 15, 0, 0, 0, 0, has_year_zero=True),\n",
       "       cftime.DatetimeNoLeap(2100, 1, 15, 0, 0, 0, 0, has_year_zero=True)],\n",
       "      dtype=object)</pre></div></li><li class='xr-var-item'><div class='xr-var-name'><span class='xr-has-index'>x</span></div><div class='xr-var-dims'>(x)</div><div class='xr-var-dtype'>float64</div><div class='xr-var-preview xr-preview'>1.875 6.875 11.88 ... 351.9 356.9</div><input id='attrs-d5dd2a04-3c7a-4001-8a3b-37ce7a64c6a3' class='xr-var-attrs-in' type='checkbox' ><label for='attrs-d5dd2a04-3c7a-4001-8a3b-37ce7a64c6a3' title='Show/Hide attributes'><svg class='icon xr-icon-file-text2'><use xlink:href='#icon-file-text2'></use></svg></label><input id='data-2fc642be-edaf-4728-a7d9-8acbe88cef7d' class='xr-var-data-in' type='checkbox'><label for='data-2fc642be-edaf-4728-a7d9-8acbe88cef7d' title='Show/Hide data repr'><svg class='icon xr-icon-database'><use xlink:href='#icon-database'></use></svg></label><div class='xr-var-attrs'><dl class='xr-attrs'><dt><span>axis :</span></dt><dd>X</dd><dt><span>bounds :</span></dt><dd>lon_bnds</dd><dt><span>standard_name :</span></dt><dd>longitude</dd><dt><span>title :</span></dt><dd>Longitude</dd><dt><span>type :</span></dt><dd>double</dd><dt><span>units :</span></dt><dd>degrees_east</dd><dt><span>valid_max :</span></dt><dd>360.0</dd><dt><span>valid_min :</span></dt><dd>0.0</dd></dl></div><div class='xr-var-data'><pre>array([  1.875,   6.875,  11.875,  16.875,  21.875,  26.875,  31.875,  36.875,\n",
       "        41.875,  46.875,  51.875,  56.875,  61.875,  66.875,  71.875,  76.875,\n",
       "        81.875,  86.875,  91.875,  96.875, 101.875, 106.875, 111.875, 116.875,\n",
       "       121.875, 126.875, 131.875, 136.875, 141.875, 146.875, 151.875, 156.875,\n",
       "       161.875, 166.875, 171.875, 176.875, 181.875, 186.875, 191.875, 196.875,\n",
       "       201.875, 206.875, 211.875, 216.875, 221.875, 226.875, 231.875, 236.875,\n",
       "       241.875, 246.875, 251.875, 256.875, 261.875, 266.875, 271.875, 276.875,\n",
       "       281.875, 286.875, 291.875, 296.875, 301.875, 306.875, 311.875, 316.875,\n",
       "       321.875, 326.875, 331.875, 336.875, 341.875, 346.875, 351.875, 356.875])</pre></div></li><li class='xr-var-item'><div class='xr-var-name'><span class='xr-has-index'>y</span></div><div class='xr-var-dims'>(y)</div><div class='xr-var-dtype'>float64</div><div class='xr-var-preview xr-preview'>-88.59 -84.82 ... 84.82 88.59</div><input id='attrs-307db4f6-a169-4df1-a851-2e32ea123af8' class='xr-var-attrs-in' type='checkbox' ><label for='attrs-307db4f6-a169-4df1-a851-2e32ea123af8' title='Show/Hide attributes'><svg class='icon xr-icon-file-text2'><use xlink:href='#icon-file-text2'></use></svg></label><input id='data-8471509b-fa26-4bf2-ba67-093eea27deb5' class='xr-var-data-in' type='checkbox'><label for='data-8471509b-fa26-4bf2-ba67-093eea27deb5' title='Show/Hide data repr'><svg class='icon xr-icon-database'><use xlink:href='#icon-database'></use></svg></label><div class='xr-var-attrs'><dl class='xr-attrs'><dt><span>axis :</span></dt><dd>Y</dd><dt><span>bounds :</span></dt><dd>lat_bnds</dd><dt><span>standard_name :</span></dt><dd>latitude</dd><dt><span>title :</span></dt><dd>Latitude</dd><dt><span>type :</span></dt><dd>double</dd><dt><span>units :</span></dt><dd>degrees_north</dd><dt><span>valid_max :</span></dt><dd>90.0</dd><dt><span>valid_min :</span></dt><dd>-90.0</dd></dl></div><div class='xr-var-data'><pre>array([-88.586387, -84.816754, -81.04712 , -77.277487, -73.507853, -69.73822 ,\n",
       "       -65.968586, -62.198953, -58.429319, -54.659686, -50.890052, -47.120419,\n",
       "       -43.350785, -39.581152, -35.811518, -32.041885, -28.272251, -24.502618,\n",
       "       -20.732984, -16.963351, -13.193717,  -9.424084,  -5.65445 ,  -1.884817,\n",
       "         1.884817,   5.65445 ,   9.424084,  13.193717,  16.963351,  20.732984,\n",
       "        24.502618,  28.272251,  32.041885,  35.811518,  39.581152,  43.350785,\n",
       "        47.120419,  50.890052,  54.659686,  58.429319,  62.198953,  65.968586,\n",
       "        69.73822 ,  73.507853,  77.277487,  81.04712 ,  84.816754,  88.586387])</pre></div></li></ul></div></li><li class='xr-section-item'><input id='section-ebcfafbb-0a81-44f9-9de3-1ce5cc029332' class='xr-section-summary-in' type='checkbox'  checked><label for='section-ebcfafbb-0a81-44f9-9de3-1ce5cc029332' class='xr-section-summary' >Data variables: <span>(7)</span></label><div class='xr-section-inline-details'></div><div class='xr-section-details'><ul class='xr-var-list'><li class='xr-var-item'><div class='xr-var-name'><span>BC</span></div><div class='xr-var-dims'>(ssp, time, latitude, longitude)</div><div class='xr-var-dtype'>float64</div><div class='xr-var-preview xr-preview'>dask.array&lt;chunksize=(1, 24, 48, 72), meta=np.ndarray&gt;</div><input id='attrs-d417c927-2c42-40fd-8937-14942b05a846' class='xr-var-attrs-in' type='checkbox' ><label for='attrs-d417c927-2c42-40fd-8937-14942b05a846' title='Show/Hide attributes'><svg class='icon xr-icon-file-text2'><use xlink:href='#icon-file-text2'></use></svg></label><input id='data-ff765fd2-f99e-4465-b82f-4ab199431af7' class='xr-var-data-in' type='checkbox'><label for='data-ff765fd2-f99e-4465-b82f-4ab199431af7' title='Show/Hide data repr'><svg class='icon xr-icon-database'><use xlink:href='#icon-database'></use></svg></label><div class='xr-var-attrs'><dl class='xr-attrs'><dt><span>regrid_method :</span></dt><dd>conservative</dd></dl></div><div class='xr-var-data'><table>\n",
       "    <tr>\n",
       "        <td>\n",
       "            <table style=\"border-collapse: collapse;\">\n",
       "                <thead>\n",
       "                    <tr>\n",
       "                        <td> </td>\n",
       "                        <th> Array </th>\n",
       "                        <th> Chunk </th>\n",
       "                    </tr>\n",
       "                </thead>\n",
       "                <tbody>\n",
       "                    \n",
       "                    <tr>\n",
       "                        <th> Bytes </th>\n",
       "                        <td> 107.68 MiB </td>\n",
       "                        <td> 648.00 kiB </td>\n",
       "                    </tr>\n",
       "                    \n",
       "                    <tr>\n",
       "                        <th> Shape </th>\n",
       "                        <td> (4, 1021, 48, 72) </td>\n",
       "                        <td> (1, 24, 48, 72) </td>\n",
       "                    </tr>\n",
       "                    <tr>\n",
       "                        <th> Dask graph </th>\n",
       "                        <td colspan=\"2\"> 172 chunks in 2 graph layers </td>\n",
       "                    </tr>\n",
       "                    <tr>\n",
       "                        <th> Data type </th>\n",
       "                        <td colspan=\"2\"> float64 numpy.ndarray </td>\n",
       "                    </tr>\n",
       "                </tbody>\n",
       "            </table>\n",
       "        </td>\n",
       "        <td>\n",
       "        <svg width=\"347\" height=\"154\" style=\"stroke:rgb(0,0,0);stroke-width:1\" >\n",
       "\n",
       "  <!-- Horizontal lines -->\n",
       "  <line x1=\"0\" y1=\"0\" x2=\"25\" y2=\"0\" style=\"stroke-width:2\" />\n",
       "  <line x1=\"0\" y1=\"25\" x2=\"25\" y2=\"25\" style=\"stroke-width:2\" />\n",
       "\n",
       "  <!-- Vertical lines -->\n",
       "  <line x1=\"0\" y1=\"0\" x2=\"0\" y2=\"25\" style=\"stroke-width:2\" />\n",
       "  <line x1=\"6\" y1=\"0\" x2=\"6\" y2=\"25\" />\n",
       "  <line x1=\"12\" y1=\"0\" x2=\"12\" y2=\"25\" />\n",
       "  <line x1=\"19\" y1=\"0\" x2=\"19\" y2=\"25\" />\n",
       "  <line x1=\"25\" y1=\"0\" x2=\"25\" y2=\"25\" style=\"stroke-width:2\" />\n",
       "\n",
       "  <!-- Colored Rectangle -->\n",
       "  <polygon points=\"0.0,0.0 25.412616514582485,0.0 25.412616514582485,25.412616514582485 0.0,25.412616514582485\" style=\"fill:#ECB172A0;stroke-width:0\"/>\n",
       "\n",
       "  <!-- Text -->\n",
       "  <text x=\"12.706308\" y=\"45.412617\" font-size=\"1.0rem\" font-weight=\"100\" text-anchor=\"middle\" >4</text>\n",
       "  <text x=\"45.412617\" y=\"12.706308\" font-size=\"1.0rem\" font-weight=\"100\" text-anchor=\"middle\" transform=\"rotate(0,45.412617,12.706308)\">1</text>\n",
       "\n",
       "\n",
       "  <!-- Horizontal lines -->\n",
       "  <line x1=\"95\" y1=\"0\" x2=\"165\" y2=\"70\" style=\"stroke-width:2\" />\n",
       "  <line x1=\"95\" y1=\"34\" x2=\"165\" y2=\"104\" style=\"stroke-width:2\" />\n",
       "\n",
       "  <!-- Vertical lines -->\n",
       "  <line x1=\"95\" y1=\"0\" x2=\"95\" y2=\"34\" style=\"stroke-width:2\" />\n",
       "  <line x1=\"96\" y1=\"1\" x2=\"96\" y2=\"35\" />\n",
       "  <line x1=\"98\" y1=\"3\" x2=\"98\" y2=\"37\" />\n",
       "  <line x1=\"101\" y1=\"6\" x2=\"101\" y2=\"40\" />\n",
       "  <line x1=\"103\" y1=\"8\" x2=\"103\" y2=\"42\" />\n",
       "  <line x1=\"104\" y1=\"9\" x2=\"104\" y2=\"44\" />\n",
       "  <line x1=\"108\" y1=\"13\" x2=\"108\" y2=\"47\" />\n",
       "  <line x1=\"109\" y1=\"14\" x2=\"109\" y2=\"49\" />\n",
       "  <line x1=\"111\" y1=\"16\" x2=\"111\" y2=\"50\" />\n",
       "  <line x1=\"114\" y1=\"19\" x2=\"114\" y2=\"54\" />\n",
       "  <line x1=\"116\" y1=\"21\" x2=\"116\" y2=\"55\" />\n",
       "  <line x1=\"118\" y1=\"23\" x2=\"118\" y2=\"57\" />\n",
       "  <line x1=\"121\" y1=\"26\" x2=\"121\" y2=\"60\" />\n",
       "  <line x1=\"123\" y1=\"28\" x2=\"123\" y2=\"62\" />\n",
       "  <line x1=\"124\" y1=\"29\" x2=\"124\" y2=\"63\" />\n",
       "  <line x1=\"128\" y1=\"33\" x2=\"128\" y2=\"67\" />\n",
       "  <line x1=\"129\" y1=\"34\" x2=\"129\" y2=\"68\" />\n",
       "  <line x1=\"131\" y1=\"36\" x2=\"131\" y2=\"70\" />\n",
       "  <line x1=\"134\" y1=\"39\" x2=\"134\" y2=\"73\" />\n",
       "  <line x1=\"136\" y1=\"41\" x2=\"136\" y2=\"75\" />\n",
       "  <line x1=\"138\" y1=\"43\" x2=\"138\" y2=\"77\" />\n",
       "  <line x1=\"141\" y1=\"46\" x2=\"141\" y2=\"80\" />\n",
       "  <line x1=\"143\" y1=\"48\" x2=\"143\" y2=\"82\" />\n",
       "  <line x1=\"144\" y1=\"49\" x2=\"144\" y2=\"83\" />\n",
       "  <line x1=\"148\" y1=\"53\" x2=\"148\" y2=\"87\" />\n",
       "  <line x1=\"149\" y1=\"54\" x2=\"149\" y2=\"88\" />\n",
       "  <line x1=\"151\" y1=\"56\" x2=\"151\" y2=\"90\" />\n",
       "  <line x1=\"154\" y1=\"59\" x2=\"154\" y2=\"93\" />\n",
       "  <line x1=\"156\" y1=\"61\" x2=\"156\" y2=\"95\" />\n",
       "  <line x1=\"158\" y1=\"63\" x2=\"158\" y2=\"97\" />\n",
       "  <line x1=\"161\" y1=\"66\" x2=\"161\" y2=\"100\" />\n",
       "  <line x1=\"163\" y1=\"68\" x2=\"163\" y2=\"102\" />\n",
       "  <line x1=\"165\" y1=\"70\" x2=\"165\" y2=\"104\" style=\"stroke-width:2\" />\n",
       "\n",
       "  <!-- Colored Rectangle -->\n",
       "  <polygon points=\"95.0,0.0 165.58823529411765,70.58823529411765 165.58823529411765,104.71179459284565 95.0,34.12355929872799\" style=\"fill:#8B4903A0;stroke-width:0\"/>\n",
       "\n",
       "  <!-- Horizontal lines -->\n",
       "  <line x1=\"95\" y1=\"0\" x2=\"131\" y2=\"0\" style=\"stroke-width:2\" />\n",
       "  <line x1=\"96\" y1=\"1\" x2=\"133\" y2=\"1\" />\n",
       "  <line x1=\"98\" y1=\"3\" x2=\"134\" y2=\"3\" />\n",
       "  <line x1=\"101\" y1=\"6\" x2=\"138\" y2=\"6\" />\n",
       "  <line x1=\"103\" y1=\"8\" x2=\"139\" y2=\"8\" />\n",
       "  <line x1=\"104\" y1=\"9\" x2=\"141\" y2=\"9\" />\n",
       "  <line x1=\"108\" y1=\"13\" x2=\"144\" y2=\"13\" />\n",
       "  <line x1=\"109\" y1=\"14\" x2=\"146\" y2=\"14\" />\n",
       "  <line x1=\"111\" y1=\"16\" x2=\"148\" y2=\"16\" />\n",
       "  <line x1=\"114\" y1=\"19\" x2=\"151\" y2=\"19\" />\n",
       "  <line x1=\"116\" y1=\"21\" x2=\"153\" y2=\"21\" />\n",
       "  <line x1=\"118\" y1=\"23\" x2=\"154\" y2=\"23\" />\n",
       "  <line x1=\"121\" y1=\"26\" x2=\"158\" y2=\"26\" />\n",
       "  <line x1=\"123\" y1=\"28\" x2=\"159\" y2=\"28\" />\n",
       "  <line x1=\"124\" y1=\"29\" x2=\"161\" y2=\"29\" />\n",
       "  <line x1=\"128\" y1=\"33\" x2=\"164\" y2=\"33\" />\n",
       "  <line x1=\"129\" y1=\"34\" x2=\"166\" y2=\"34\" />\n",
       "  <line x1=\"131\" y1=\"36\" x2=\"168\" y2=\"36\" />\n",
       "  <line x1=\"134\" y1=\"39\" x2=\"171\" y2=\"39\" />\n",
       "  <line x1=\"136\" y1=\"41\" x2=\"173\" y2=\"41\" />\n",
       "  <line x1=\"138\" y1=\"43\" x2=\"174\" y2=\"43\" />\n",
       "  <line x1=\"141\" y1=\"46\" x2=\"178\" y2=\"46\" />\n",
       "  <line x1=\"143\" y1=\"48\" x2=\"179\" y2=\"48\" />\n",
       "  <line x1=\"144\" y1=\"49\" x2=\"181\" y2=\"49\" />\n",
       "  <line x1=\"148\" y1=\"53\" x2=\"184\" y2=\"53\" />\n",
       "  <line x1=\"149\" y1=\"54\" x2=\"186\" y2=\"54\" />\n",
       "  <line x1=\"151\" y1=\"56\" x2=\"187\" y2=\"56\" />\n",
       "  <line x1=\"154\" y1=\"59\" x2=\"191\" y2=\"59\" />\n",
       "  <line x1=\"156\" y1=\"61\" x2=\"192\" y2=\"61\" />\n",
       "  <line x1=\"158\" y1=\"63\" x2=\"194\" y2=\"63\" />\n",
       "  <line x1=\"161\" y1=\"66\" x2=\"197\" y2=\"66\" />\n",
       "  <line x1=\"163\" y1=\"68\" x2=\"199\" y2=\"68\" />\n",
       "  <line x1=\"165\" y1=\"70\" x2=\"202\" y2=\"70\" style=\"stroke-width:2\" />\n",
       "\n",
       "  <!-- Vertical lines -->\n",
       "  <line x1=\"95\" y1=\"0\" x2=\"165\" y2=\"70\" style=\"stroke-width:2\" />\n",
       "  <line x1=\"131\" y1=\"0\" x2=\"202\" y2=\"70\" style=\"stroke-width:2\" />\n",
       "\n",
       "  <!-- Colored Rectangle -->\n",
       "  <polygon points=\"95.0,0.0 131.58335873970168,0.0 202.17159403381933,70.58823529411765 165.58823529411765,70.58823529411765\" style=\"fill:#8B4903A0;stroke-width:0\"/>\n",
       "\n",
       "  <!-- Horizontal lines -->\n",
       "  <line x1=\"165\" y1=\"70\" x2=\"202\" y2=\"70\" style=\"stroke-width:2\" />\n",
       "  <line x1=\"165\" y1=\"104\" x2=\"202\" y2=\"104\" style=\"stroke-width:2\" />\n",
       "\n",
       "  <!-- Vertical lines -->\n",
       "  <line x1=\"165\" y1=\"70\" x2=\"165\" y2=\"104\" style=\"stroke-width:2\" />\n",
       "  <line x1=\"202\" y1=\"70\" x2=\"202\" y2=\"104\" style=\"stroke-width:2\" />\n",
       "\n",
       "  <!-- Colored Rectangle -->\n",
       "  <polygon points=\"165.58823529411765,70.58823529411765 202.17159403381933,70.58823529411765 202.17159403381933,104.71179459284565 165.58823529411765,104.71179459284565\" style=\"fill:#ECB172A0;stroke-width:0\"/>\n",
       "\n",
       "  <!-- Text -->\n",
       "  <text x=\"183.879915\" y=\"124.711795\" font-size=\"1.0rem\" font-weight=\"100\" text-anchor=\"middle\" >72</text>\n",
       "  <text x=\"222.171594\" y=\"87.650015\" font-size=\"1.0rem\" font-weight=\"100\" text-anchor=\"middle\" transform=\"rotate(0,222.171594,87.650015)\">48</text>\n",
       "  <text x=\"120.294118\" y=\"89.417677\" font-size=\"1.0rem\" font-weight=\"100\" text-anchor=\"middle\" transform=\"rotate(45,120.294118,89.417677)\">1021</text>\n",
       "</svg>\n",
       "        </td>\n",
       "    </tr>\n",
       "</table></div></li><li class='xr-var-item'><div class='xr-var-name'><span>CH4</span></div><div class='xr-var-dims'>(ssp, time)</div><div class='xr-var-dtype'>float64</div><div class='xr-var-preview xr-preview'>dask.array&lt;chunksize=(1, 24), meta=np.ndarray&gt;</div><input id='attrs-aa1f1ba0-ab35-4952-b1d0-37267fd951c5' class='xr-var-attrs-in' type='checkbox' disabled><label for='attrs-aa1f1ba0-ab35-4952-b1d0-37267fd951c5' title='Show/Hide attributes'><svg class='icon xr-icon-file-text2'><use xlink:href='#icon-file-text2'></use></svg></label><input id='data-6783d85b-2bc0-4628-b53c-5caab06da379' class='xr-var-data-in' type='checkbox'><label for='data-6783d85b-2bc0-4628-b53c-5caab06da379' title='Show/Hide data repr'><svg class='icon xr-icon-database'><use xlink:href='#icon-database'></use></svg></label><div class='xr-var-attrs'><dl class='xr-attrs'></dl></div><div class='xr-var-data'><table>\n",
       "    <tr>\n",
       "        <td>\n",
       "            <table style=\"border-collapse: collapse;\">\n",
       "                <thead>\n",
       "                    <tr>\n",
       "                        <td> </td>\n",
       "                        <th> Array </th>\n",
       "                        <th> Chunk </th>\n",
       "                    </tr>\n",
       "                </thead>\n",
       "                <tbody>\n",
       "                    \n",
       "                    <tr>\n",
       "                        <th> Bytes </th>\n",
       "                        <td> 31.91 kiB </td>\n",
       "                        <td> 192 B </td>\n",
       "                    </tr>\n",
       "                    \n",
       "                    <tr>\n",
       "                        <th> Shape </th>\n",
       "                        <td> (4, 1021) </td>\n",
       "                        <td> (1, 24) </td>\n",
       "                    </tr>\n",
       "                    <tr>\n",
       "                        <th> Dask graph </th>\n",
       "                        <td colspan=\"2\"> 172 chunks in 2 graph layers </td>\n",
       "                    </tr>\n",
       "                    <tr>\n",
       "                        <th> Data type </th>\n",
       "                        <td colspan=\"2\"> float64 numpy.ndarray </td>\n",
       "                    </tr>\n",
       "                </tbody>\n",
       "            </table>\n",
       "        </td>\n",
       "        <td>\n",
       "        <svg width=\"170\" height=\"75\" style=\"stroke:rgb(0,0,0);stroke-width:1\" >\n",
       "\n",
       "  <!-- Horizontal lines -->\n",
       "  <line x1=\"0\" y1=\"0\" x2=\"120\" y2=\"0\" style=\"stroke-width:2\" />\n",
       "  <line x1=\"0\" y1=\"6\" x2=\"120\" y2=\"6\" />\n",
       "  <line x1=\"0\" y1=\"12\" x2=\"120\" y2=\"12\" />\n",
       "  <line x1=\"0\" y1=\"19\" x2=\"120\" y2=\"19\" />\n",
       "  <line x1=\"0\" y1=\"25\" x2=\"120\" y2=\"25\" style=\"stroke-width:2\" />\n",
       "\n",
       "  <!-- Vertical lines -->\n",
       "  <line x1=\"0\" y1=\"0\" x2=\"0\" y2=\"25\" style=\"stroke-width:2\" />\n",
       "  <line x1=\"5\" y1=\"0\" x2=\"5\" y2=\"25\" />\n",
       "  <line x1=\"11\" y1=\"0\" x2=\"11\" y2=\"25\" />\n",
       "  <line x1=\"16\" y1=\"0\" x2=\"16\" y2=\"25\" />\n",
       "  <line x1=\"25\" y1=\"0\" x2=\"25\" y2=\"25\" />\n",
       "  <line x1=\"31\" y1=\"0\" x2=\"31\" y2=\"25\" />\n",
       "  <line x1=\"36\" y1=\"0\" x2=\"36\" y2=\"25\" />\n",
       "  <line x1=\"42\" y1=\"0\" x2=\"42\" y2=\"25\" />\n",
       "  <line x1=\"50\" y1=\"0\" x2=\"50\" y2=\"25\" />\n",
       "  <line x1=\"56\" y1=\"0\" x2=\"56\" y2=\"25\" />\n",
       "  <line x1=\"62\" y1=\"0\" x2=\"62\" y2=\"25\" />\n",
       "  <line x1=\"67\" y1=\"0\" x2=\"67\" y2=\"25\" />\n",
       "  <line x1=\"76\" y1=\"0\" x2=\"76\" y2=\"25\" />\n",
       "  <line x1=\"81\" y1=\"0\" x2=\"81\" y2=\"25\" />\n",
       "  <line x1=\"87\" y1=\"0\" x2=\"87\" y2=\"25\" />\n",
       "  <line x1=\"93\" y1=\"0\" x2=\"93\" y2=\"25\" />\n",
       "  <line x1=\"101\" y1=\"0\" x2=\"101\" y2=\"25\" />\n",
       "  <line x1=\"107\" y1=\"0\" x2=\"107\" y2=\"25\" />\n",
       "  <line x1=\"112\" y1=\"0\" x2=\"112\" y2=\"25\" />\n",
       "  <line x1=\"120\" y1=\"0\" x2=\"120\" y2=\"25\" style=\"stroke-width:2\" />\n",
       "\n",
       "  <!-- Colored Rectangle -->\n",
       "  <polygon points=\"0.0,0.0 120.0,0.0 120.0,25.412616514582485 0.0,25.412616514582485\" style=\"fill:#8B4903A0;stroke-width:0\"/>\n",
       "\n",
       "  <!-- Text -->\n",
       "  <text x=\"60.000000\" y=\"45.412617\" font-size=\"1.0rem\" font-weight=\"100\" text-anchor=\"middle\" >1021</text>\n",
       "  <text x=\"140.000000\" y=\"12.706308\" font-size=\"1.0rem\" font-weight=\"100\" text-anchor=\"middle\" transform=\"rotate(0,140.000000,12.706308)\">4</text>\n",
       "</svg>\n",
       "        </td>\n",
       "    </tr>\n",
       "</table></div></li><li class='xr-var-item'><div class='xr-var-name'><span>CO2</span></div><div class='xr-var-dims'>(ssp, time)</div><div class='xr-var-dtype'>float64</div><div class='xr-var-preview xr-preview'>dask.array&lt;chunksize=(1, 24), meta=np.ndarray&gt;</div><input id='attrs-bf0aa93a-0319-4cf0-9eb0-47f53c270ac9' class='xr-var-attrs-in' type='checkbox' disabled><label for='attrs-bf0aa93a-0319-4cf0-9eb0-47f53c270ac9' title='Show/Hide attributes'><svg class='icon xr-icon-file-text2'><use xlink:href='#icon-file-text2'></use></svg></label><input id='data-f10cf18b-54c1-4ddb-9bb8-b10431d473c1' class='xr-var-data-in' type='checkbox'><label for='data-f10cf18b-54c1-4ddb-9bb8-b10431d473c1' title='Show/Hide data repr'><svg class='icon xr-icon-database'><use xlink:href='#icon-database'></use></svg></label><div class='xr-var-attrs'><dl class='xr-attrs'></dl></div><div class='xr-var-data'><table>\n",
       "    <tr>\n",
       "        <td>\n",
       "            <table style=\"border-collapse: collapse;\">\n",
       "                <thead>\n",
       "                    <tr>\n",
       "                        <td> </td>\n",
       "                        <th> Array </th>\n",
       "                        <th> Chunk </th>\n",
       "                    </tr>\n",
       "                </thead>\n",
       "                <tbody>\n",
       "                    \n",
       "                    <tr>\n",
       "                        <th> Bytes </th>\n",
       "                        <td> 31.91 kiB </td>\n",
       "                        <td> 192 B </td>\n",
       "                    </tr>\n",
       "                    \n",
       "                    <tr>\n",
       "                        <th> Shape </th>\n",
       "                        <td> (4, 1021) </td>\n",
       "                        <td> (1, 24) </td>\n",
       "                    </tr>\n",
       "                    <tr>\n",
       "                        <th> Dask graph </th>\n",
       "                        <td colspan=\"2\"> 172 chunks in 2 graph layers </td>\n",
       "                    </tr>\n",
       "                    <tr>\n",
       "                        <th> Data type </th>\n",
       "                        <td colspan=\"2\"> float64 numpy.ndarray </td>\n",
       "                    </tr>\n",
       "                </tbody>\n",
       "            </table>\n",
       "        </td>\n",
       "        <td>\n",
       "        <svg width=\"170\" height=\"75\" style=\"stroke:rgb(0,0,0);stroke-width:1\" >\n",
       "\n",
       "  <!-- Horizontal lines -->\n",
       "  <line x1=\"0\" y1=\"0\" x2=\"120\" y2=\"0\" style=\"stroke-width:2\" />\n",
       "  <line x1=\"0\" y1=\"6\" x2=\"120\" y2=\"6\" />\n",
       "  <line x1=\"0\" y1=\"12\" x2=\"120\" y2=\"12\" />\n",
       "  <line x1=\"0\" y1=\"19\" x2=\"120\" y2=\"19\" />\n",
       "  <line x1=\"0\" y1=\"25\" x2=\"120\" y2=\"25\" style=\"stroke-width:2\" />\n",
       "\n",
       "  <!-- Vertical lines -->\n",
       "  <line x1=\"0\" y1=\"0\" x2=\"0\" y2=\"25\" style=\"stroke-width:2\" />\n",
       "  <line x1=\"5\" y1=\"0\" x2=\"5\" y2=\"25\" />\n",
       "  <line x1=\"11\" y1=\"0\" x2=\"11\" y2=\"25\" />\n",
       "  <line x1=\"16\" y1=\"0\" x2=\"16\" y2=\"25\" />\n",
       "  <line x1=\"25\" y1=\"0\" x2=\"25\" y2=\"25\" />\n",
       "  <line x1=\"31\" y1=\"0\" x2=\"31\" y2=\"25\" />\n",
       "  <line x1=\"36\" y1=\"0\" x2=\"36\" y2=\"25\" />\n",
       "  <line x1=\"42\" y1=\"0\" x2=\"42\" y2=\"25\" />\n",
       "  <line x1=\"50\" y1=\"0\" x2=\"50\" y2=\"25\" />\n",
       "  <line x1=\"56\" y1=\"0\" x2=\"56\" y2=\"25\" />\n",
       "  <line x1=\"62\" y1=\"0\" x2=\"62\" y2=\"25\" />\n",
       "  <line x1=\"67\" y1=\"0\" x2=\"67\" y2=\"25\" />\n",
       "  <line x1=\"76\" y1=\"0\" x2=\"76\" y2=\"25\" />\n",
       "  <line x1=\"81\" y1=\"0\" x2=\"81\" y2=\"25\" />\n",
       "  <line x1=\"87\" y1=\"0\" x2=\"87\" y2=\"25\" />\n",
       "  <line x1=\"93\" y1=\"0\" x2=\"93\" y2=\"25\" />\n",
       "  <line x1=\"101\" y1=\"0\" x2=\"101\" y2=\"25\" />\n",
       "  <line x1=\"107\" y1=\"0\" x2=\"107\" y2=\"25\" />\n",
       "  <line x1=\"112\" y1=\"0\" x2=\"112\" y2=\"25\" />\n",
       "  <line x1=\"120\" y1=\"0\" x2=\"120\" y2=\"25\" style=\"stroke-width:2\" />\n",
       "\n",
       "  <!-- Colored Rectangle -->\n",
       "  <polygon points=\"0.0,0.0 120.0,0.0 120.0,25.412616514582485 0.0,25.412616514582485\" style=\"fill:#8B4903A0;stroke-width:0\"/>\n",
       "\n",
       "  <!-- Text -->\n",
       "  <text x=\"60.000000\" y=\"45.412617\" font-size=\"1.0rem\" font-weight=\"100\" text-anchor=\"middle\" >1021</text>\n",
       "  <text x=\"140.000000\" y=\"12.706308\" font-size=\"1.0rem\" font-weight=\"100\" text-anchor=\"middle\" transform=\"rotate(0,140.000000,12.706308)\">4</text>\n",
       "</svg>\n",
       "        </td>\n",
       "    </tr>\n",
       "</table></div></li><li class='xr-var-item'><div class='xr-var-name'><span>SO2</span></div><div class='xr-var-dims'>(ssp, time, latitude, longitude)</div><div class='xr-var-dtype'>float64</div><div class='xr-var-preview xr-preview'>dask.array&lt;chunksize=(1, 24, 48, 72), meta=np.ndarray&gt;</div><input id='attrs-7d7c55fd-7032-4f04-9a47-eb3f1e459679' class='xr-var-attrs-in' type='checkbox' ><label for='attrs-7d7c55fd-7032-4f04-9a47-eb3f1e459679' title='Show/Hide attributes'><svg class='icon xr-icon-file-text2'><use xlink:href='#icon-file-text2'></use></svg></label><input id='data-8b2c8232-5b2e-4e62-bcbf-9d53a554c6b3' class='xr-var-data-in' type='checkbox'><label for='data-8b2c8232-5b2e-4e62-bcbf-9d53a554c6b3' title='Show/Hide data repr'><svg class='icon xr-icon-database'><use xlink:href='#icon-database'></use></svg></label><div class='xr-var-attrs'><dl class='xr-attrs'><dt><span>regrid_method :</span></dt><dd>conservative</dd></dl></div><div class='xr-var-data'><table>\n",
       "    <tr>\n",
       "        <td>\n",
       "            <table style=\"border-collapse: collapse;\">\n",
       "                <thead>\n",
       "                    <tr>\n",
       "                        <td> </td>\n",
       "                        <th> Array </th>\n",
       "                        <th> Chunk </th>\n",
       "                    </tr>\n",
       "                </thead>\n",
       "                <tbody>\n",
       "                    \n",
       "                    <tr>\n",
       "                        <th> Bytes </th>\n",
       "                        <td> 107.68 MiB </td>\n",
       "                        <td> 648.00 kiB </td>\n",
       "                    </tr>\n",
       "                    \n",
       "                    <tr>\n",
       "                        <th> Shape </th>\n",
       "                        <td> (4, 1021, 48, 72) </td>\n",
       "                        <td> (1, 24, 48, 72) </td>\n",
       "                    </tr>\n",
       "                    <tr>\n",
       "                        <th> Dask graph </th>\n",
       "                        <td colspan=\"2\"> 172 chunks in 2 graph layers </td>\n",
       "                    </tr>\n",
       "                    <tr>\n",
       "                        <th> Data type </th>\n",
       "                        <td colspan=\"2\"> float64 numpy.ndarray </td>\n",
       "                    </tr>\n",
       "                </tbody>\n",
       "            </table>\n",
       "        </td>\n",
       "        <td>\n",
       "        <svg width=\"347\" height=\"154\" style=\"stroke:rgb(0,0,0);stroke-width:1\" >\n",
       "\n",
       "  <!-- Horizontal lines -->\n",
       "  <line x1=\"0\" y1=\"0\" x2=\"25\" y2=\"0\" style=\"stroke-width:2\" />\n",
       "  <line x1=\"0\" y1=\"25\" x2=\"25\" y2=\"25\" style=\"stroke-width:2\" />\n",
       "\n",
       "  <!-- Vertical lines -->\n",
       "  <line x1=\"0\" y1=\"0\" x2=\"0\" y2=\"25\" style=\"stroke-width:2\" />\n",
       "  <line x1=\"6\" y1=\"0\" x2=\"6\" y2=\"25\" />\n",
       "  <line x1=\"12\" y1=\"0\" x2=\"12\" y2=\"25\" />\n",
       "  <line x1=\"19\" y1=\"0\" x2=\"19\" y2=\"25\" />\n",
       "  <line x1=\"25\" y1=\"0\" x2=\"25\" y2=\"25\" style=\"stroke-width:2\" />\n",
       "\n",
       "  <!-- Colored Rectangle -->\n",
       "  <polygon points=\"0.0,0.0 25.412616514582485,0.0 25.412616514582485,25.412616514582485 0.0,25.412616514582485\" style=\"fill:#ECB172A0;stroke-width:0\"/>\n",
       "\n",
       "  <!-- Text -->\n",
       "  <text x=\"12.706308\" y=\"45.412617\" font-size=\"1.0rem\" font-weight=\"100\" text-anchor=\"middle\" >4</text>\n",
       "  <text x=\"45.412617\" y=\"12.706308\" font-size=\"1.0rem\" font-weight=\"100\" text-anchor=\"middle\" transform=\"rotate(0,45.412617,12.706308)\">1</text>\n",
       "\n",
       "\n",
       "  <!-- Horizontal lines -->\n",
       "  <line x1=\"95\" y1=\"0\" x2=\"165\" y2=\"70\" style=\"stroke-width:2\" />\n",
       "  <line x1=\"95\" y1=\"34\" x2=\"165\" y2=\"104\" style=\"stroke-width:2\" />\n",
       "\n",
       "  <!-- Vertical lines -->\n",
       "  <line x1=\"95\" y1=\"0\" x2=\"95\" y2=\"34\" style=\"stroke-width:2\" />\n",
       "  <line x1=\"96\" y1=\"1\" x2=\"96\" y2=\"35\" />\n",
       "  <line x1=\"98\" y1=\"3\" x2=\"98\" y2=\"37\" />\n",
       "  <line x1=\"101\" y1=\"6\" x2=\"101\" y2=\"40\" />\n",
       "  <line x1=\"103\" y1=\"8\" x2=\"103\" y2=\"42\" />\n",
       "  <line x1=\"104\" y1=\"9\" x2=\"104\" y2=\"44\" />\n",
       "  <line x1=\"108\" y1=\"13\" x2=\"108\" y2=\"47\" />\n",
       "  <line x1=\"109\" y1=\"14\" x2=\"109\" y2=\"49\" />\n",
       "  <line x1=\"111\" y1=\"16\" x2=\"111\" y2=\"50\" />\n",
       "  <line x1=\"114\" y1=\"19\" x2=\"114\" y2=\"54\" />\n",
       "  <line x1=\"116\" y1=\"21\" x2=\"116\" y2=\"55\" />\n",
       "  <line x1=\"118\" y1=\"23\" x2=\"118\" y2=\"57\" />\n",
       "  <line x1=\"121\" y1=\"26\" x2=\"121\" y2=\"60\" />\n",
       "  <line x1=\"123\" y1=\"28\" x2=\"123\" y2=\"62\" />\n",
       "  <line x1=\"124\" y1=\"29\" x2=\"124\" y2=\"63\" />\n",
       "  <line x1=\"128\" y1=\"33\" x2=\"128\" y2=\"67\" />\n",
       "  <line x1=\"129\" y1=\"34\" x2=\"129\" y2=\"68\" />\n",
       "  <line x1=\"131\" y1=\"36\" x2=\"131\" y2=\"70\" />\n",
       "  <line x1=\"134\" y1=\"39\" x2=\"134\" y2=\"73\" />\n",
       "  <line x1=\"136\" y1=\"41\" x2=\"136\" y2=\"75\" />\n",
       "  <line x1=\"138\" y1=\"43\" x2=\"138\" y2=\"77\" />\n",
       "  <line x1=\"141\" y1=\"46\" x2=\"141\" y2=\"80\" />\n",
       "  <line x1=\"143\" y1=\"48\" x2=\"143\" y2=\"82\" />\n",
       "  <line x1=\"144\" y1=\"49\" x2=\"144\" y2=\"83\" />\n",
       "  <line x1=\"148\" y1=\"53\" x2=\"148\" y2=\"87\" />\n",
       "  <line x1=\"149\" y1=\"54\" x2=\"149\" y2=\"88\" />\n",
       "  <line x1=\"151\" y1=\"56\" x2=\"151\" y2=\"90\" />\n",
       "  <line x1=\"154\" y1=\"59\" x2=\"154\" y2=\"93\" />\n",
       "  <line x1=\"156\" y1=\"61\" x2=\"156\" y2=\"95\" />\n",
       "  <line x1=\"158\" y1=\"63\" x2=\"158\" y2=\"97\" />\n",
       "  <line x1=\"161\" y1=\"66\" x2=\"161\" y2=\"100\" />\n",
       "  <line x1=\"163\" y1=\"68\" x2=\"163\" y2=\"102\" />\n",
       "  <line x1=\"165\" y1=\"70\" x2=\"165\" y2=\"104\" style=\"stroke-width:2\" />\n",
       "\n",
       "  <!-- Colored Rectangle -->\n",
       "  <polygon points=\"95.0,0.0 165.58823529411765,70.58823529411765 165.58823529411765,104.71179459284565 95.0,34.12355929872799\" style=\"fill:#8B4903A0;stroke-width:0\"/>\n",
       "\n",
       "  <!-- Horizontal lines -->\n",
       "  <line x1=\"95\" y1=\"0\" x2=\"131\" y2=\"0\" style=\"stroke-width:2\" />\n",
       "  <line x1=\"96\" y1=\"1\" x2=\"133\" y2=\"1\" />\n",
       "  <line x1=\"98\" y1=\"3\" x2=\"134\" y2=\"3\" />\n",
       "  <line x1=\"101\" y1=\"6\" x2=\"138\" y2=\"6\" />\n",
       "  <line x1=\"103\" y1=\"8\" x2=\"139\" y2=\"8\" />\n",
       "  <line x1=\"104\" y1=\"9\" x2=\"141\" y2=\"9\" />\n",
       "  <line x1=\"108\" y1=\"13\" x2=\"144\" y2=\"13\" />\n",
       "  <line x1=\"109\" y1=\"14\" x2=\"146\" y2=\"14\" />\n",
       "  <line x1=\"111\" y1=\"16\" x2=\"148\" y2=\"16\" />\n",
       "  <line x1=\"114\" y1=\"19\" x2=\"151\" y2=\"19\" />\n",
       "  <line x1=\"116\" y1=\"21\" x2=\"153\" y2=\"21\" />\n",
       "  <line x1=\"118\" y1=\"23\" x2=\"154\" y2=\"23\" />\n",
       "  <line x1=\"121\" y1=\"26\" x2=\"158\" y2=\"26\" />\n",
       "  <line x1=\"123\" y1=\"28\" x2=\"159\" y2=\"28\" />\n",
       "  <line x1=\"124\" y1=\"29\" x2=\"161\" y2=\"29\" />\n",
       "  <line x1=\"128\" y1=\"33\" x2=\"164\" y2=\"33\" />\n",
       "  <line x1=\"129\" y1=\"34\" x2=\"166\" y2=\"34\" />\n",
       "  <line x1=\"131\" y1=\"36\" x2=\"168\" y2=\"36\" />\n",
       "  <line x1=\"134\" y1=\"39\" x2=\"171\" y2=\"39\" />\n",
       "  <line x1=\"136\" y1=\"41\" x2=\"173\" y2=\"41\" />\n",
       "  <line x1=\"138\" y1=\"43\" x2=\"174\" y2=\"43\" />\n",
       "  <line x1=\"141\" y1=\"46\" x2=\"178\" y2=\"46\" />\n",
       "  <line x1=\"143\" y1=\"48\" x2=\"179\" y2=\"48\" />\n",
       "  <line x1=\"144\" y1=\"49\" x2=\"181\" y2=\"49\" />\n",
       "  <line x1=\"148\" y1=\"53\" x2=\"184\" y2=\"53\" />\n",
       "  <line x1=\"149\" y1=\"54\" x2=\"186\" y2=\"54\" />\n",
       "  <line x1=\"151\" y1=\"56\" x2=\"187\" y2=\"56\" />\n",
       "  <line x1=\"154\" y1=\"59\" x2=\"191\" y2=\"59\" />\n",
       "  <line x1=\"156\" y1=\"61\" x2=\"192\" y2=\"61\" />\n",
       "  <line x1=\"158\" y1=\"63\" x2=\"194\" y2=\"63\" />\n",
       "  <line x1=\"161\" y1=\"66\" x2=\"197\" y2=\"66\" />\n",
       "  <line x1=\"163\" y1=\"68\" x2=\"199\" y2=\"68\" />\n",
       "  <line x1=\"165\" y1=\"70\" x2=\"202\" y2=\"70\" style=\"stroke-width:2\" />\n",
       "\n",
       "  <!-- Vertical lines -->\n",
       "  <line x1=\"95\" y1=\"0\" x2=\"165\" y2=\"70\" style=\"stroke-width:2\" />\n",
       "  <line x1=\"131\" y1=\"0\" x2=\"202\" y2=\"70\" style=\"stroke-width:2\" />\n",
       "\n",
       "  <!-- Colored Rectangle -->\n",
       "  <polygon points=\"95.0,0.0 131.58335873970168,0.0 202.17159403381933,70.58823529411765 165.58823529411765,70.58823529411765\" style=\"fill:#8B4903A0;stroke-width:0\"/>\n",
       "\n",
       "  <!-- Horizontal lines -->\n",
       "  <line x1=\"165\" y1=\"70\" x2=\"202\" y2=\"70\" style=\"stroke-width:2\" />\n",
       "  <line x1=\"165\" y1=\"104\" x2=\"202\" y2=\"104\" style=\"stroke-width:2\" />\n",
       "\n",
       "  <!-- Vertical lines -->\n",
       "  <line x1=\"165\" y1=\"70\" x2=\"165\" y2=\"104\" style=\"stroke-width:2\" />\n",
       "  <line x1=\"202\" y1=\"70\" x2=\"202\" y2=\"104\" style=\"stroke-width:2\" />\n",
       "\n",
       "  <!-- Colored Rectangle -->\n",
       "  <polygon points=\"165.58823529411765,70.58823529411765 202.17159403381933,70.58823529411765 202.17159403381933,104.71179459284565 165.58823529411765,104.71179459284565\" style=\"fill:#ECB172A0;stroke-width:0\"/>\n",
       "\n",
       "  <!-- Text -->\n",
       "  <text x=\"183.879915\" y=\"124.711795\" font-size=\"1.0rem\" font-weight=\"100\" text-anchor=\"middle\" >72</text>\n",
       "  <text x=\"222.171594\" y=\"87.650015\" font-size=\"1.0rem\" font-weight=\"100\" text-anchor=\"middle\" transform=\"rotate(0,222.171594,87.650015)\">48</text>\n",
       "  <text x=\"120.294118\" y=\"89.417677\" font-size=\"1.0rem\" font-weight=\"100\" text-anchor=\"middle\" transform=\"rotate(45,120.294118,89.417677)\">1021</text>\n",
       "</svg>\n",
       "        </td>\n",
       "    </tr>\n",
       "</table></div></li><li class='xr-var-item'><div class='xr-var-name'><span>pr</span></div><div class='xr-var-dims'>(ssp, time, member_id, y, x)</div><div class='xr-var-dtype'>float32</div><div class='xr-var-preview xr-preview'>dask.array&lt;chunksize=(1, 24, 1, 48, 72), meta=np.ndarray&gt;</div><input id='attrs-bc91354c-a4fa-42f2-a031-09dd965f62db' class='xr-var-attrs-in' type='checkbox' ><label for='attrs-bc91354c-a4fa-42f2-a031-09dd965f62db' title='Show/Hide attributes'><svg class='icon xr-icon-file-text2'><use xlink:href='#icon-file-text2'></use></svg></label><input id='data-1000c7b0-fb32-45d2-8588-2719316bb914' class='xr-var-data-in' type='checkbox'><label for='data-1000c7b0-fb32-45d2-8588-2719316bb914' title='Show/Hide data repr'><svg class='icon xr-icon-database'><use xlink:href='#icon-database'></use></svg></label><div class='xr-var-attrs'><dl class='xr-attrs'><dt><span>conversion_applied :</span></dt><dd>multiplied by 86400 to convert from kg m-2 s-1 to mm/day</dd><dt><span>original_units :</span></dt><dd>kg/m²/s</dd><dt><span>units :</span></dt><dd>mm/day</dd></dl></div><div class='xr-var-data'><table>\n",
       "    <tr>\n",
       "        <td>\n",
       "            <table style=\"border-collapse: collapse;\">\n",
       "                <thead>\n",
       "                    <tr>\n",
       "                        <td> </td>\n",
       "                        <th> Array </th>\n",
       "                        <th> Chunk </th>\n",
       "                    </tr>\n",
       "                </thead>\n",
       "                <tbody>\n",
       "                    \n",
       "                    <tr>\n",
       "                        <th> Bytes </th>\n",
       "                        <td> 161.53 MiB </td>\n",
       "                        <td> 324.00 kiB </td>\n",
       "                    </tr>\n",
       "                    \n",
       "                    <tr>\n",
       "                        <th> Shape </th>\n",
       "                        <td> (4, 1021, 3, 48, 72) </td>\n",
       "                        <td> (1, 24, 1, 48, 72) </td>\n",
       "                    </tr>\n",
       "                    <tr>\n",
       "                        <th> Dask graph </th>\n",
       "                        <td colspan=\"2\"> 516 chunks in 2 graph layers </td>\n",
       "                    </tr>\n",
       "                    <tr>\n",
       "                        <th> Data type </th>\n",
       "                        <td colspan=\"2\"> float32 numpy.ndarray </td>\n",
       "                    </tr>\n",
       "                </tbody>\n",
       "            </table>\n",
       "        </td>\n",
       "        <td>\n",
       "        <svg width=\"481\" height=\"99\" style=\"stroke:rgb(0,0,0);stroke-width:1\" >\n",
       "\n",
       "  <!-- Horizontal lines -->\n",
       "  <line x1=\"0\" y1=\"0\" x2=\"120\" y2=\"0\" style=\"stroke-width:2\" />\n",
       "  <line x1=\"0\" y1=\"6\" x2=\"120\" y2=\"6\" />\n",
       "  <line x1=\"0\" y1=\"12\" x2=\"120\" y2=\"12\" />\n",
       "  <line x1=\"0\" y1=\"19\" x2=\"120\" y2=\"19\" />\n",
       "  <line x1=\"0\" y1=\"25\" x2=\"120\" y2=\"25\" style=\"stroke-width:2\" />\n",
       "\n",
       "  <!-- Vertical lines -->\n",
       "  <line x1=\"0\" y1=\"0\" x2=\"0\" y2=\"25\" style=\"stroke-width:2\" />\n",
       "  <line x1=\"2\" y1=\"0\" x2=\"2\" y2=\"25\" />\n",
       "  <line x1=\"5\" y1=\"0\" x2=\"5\" y2=\"25\" />\n",
       "  <line x1=\"11\" y1=\"0\" x2=\"11\" y2=\"25\" />\n",
       "  <line x1=\"14\" y1=\"0\" x2=\"14\" y2=\"25\" />\n",
       "  <line x1=\"16\" y1=\"0\" x2=\"16\" y2=\"25\" />\n",
       "  <line x1=\"22\" y1=\"0\" x2=\"22\" y2=\"25\" />\n",
       "  <line x1=\"25\" y1=\"0\" x2=\"25\" y2=\"25\" />\n",
       "  <line x1=\"28\" y1=\"0\" x2=\"28\" y2=\"25\" />\n",
       "  <line x1=\"33\" y1=\"0\" x2=\"33\" y2=\"25\" />\n",
       "  <line x1=\"36\" y1=\"0\" x2=\"36\" y2=\"25\" />\n",
       "  <line x1=\"39\" y1=\"0\" x2=\"39\" y2=\"25\" />\n",
       "  <line x1=\"45\" y1=\"0\" x2=\"45\" y2=\"25\" />\n",
       "  <line x1=\"47\" y1=\"0\" x2=\"47\" y2=\"25\" />\n",
       "  <line x1=\"50\" y1=\"0\" x2=\"50\" y2=\"25\" />\n",
       "  <line x1=\"56\" y1=\"0\" x2=\"56\" y2=\"25\" />\n",
       "  <line x1=\"59\" y1=\"0\" x2=\"59\" y2=\"25\" />\n",
       "  <line x1=\"62\" y1=\"0\" x2=\"62\" y2=\"25\" />\n",
       "  <line x1=\"67\" y1=\"0\" x2=\"67\" y2=\"25\" />\n",
       "  <line x1=\"70\" y1=\"0\" x2=\"70\" y2=\"25\" />\n",
       "  <line x1=\"73\" y1=\"0\" x2=\"73\" y2=\"25\" />\n",
       "  <line x1=\"78\" y1=\"0\" x2=\"78\" y2=\"25\" />\n",
       "  <line x1=\"81\" y1=\"0\" x2=\"81\" y2=\"25\" />\n",
       "  <line x1=\"84\" y1=\"0\" x2=\"84\" y2=\"25\" />\n",
       "  <line x1=\"90\" y1=\"0\" x2=\"90\" y2=\"25\" />\n",
       "  <line x1=\"93\" y1=\"0\" x2=\"93\" y2=\"25\" />\n",
       "  <line x1=\"95\" y1=\"0\" x2=\"95\" y2=\"25\" />\n",
       "  <line x1=\"101\" y1=\"0\" x2=\"101\" y2=\"25\" />\n",
       "  <line x1=\"104\" y1=\"0\" x2=\"104\" y2=\"25\" />\n",
       "  <line x1=\"107\" y1=\"0\" x2=\"107\" y2=\"25\" />\n",
       "  <line x1=\"112\" y1=\"0\" x2=\"112\" y2=\"25\" />\n",
       "  <line x1=\"115\" y1=\"0\" x2=\"115\" y2=\"25\" />\n",
       "  <line x1=\"120\" y1=\"0\" x2=\"120\" y2=\"25\" style=\"stroke-width:2\" />\n",
       "\n",
       "  <!-- Colored Rectangle -->\n",
       "  <polygon points=\"0.0,0.0 120.0,0.0 120.0,25.412616514582485 0.0,25.412616514582485\" style=\"fill:#8B4903A0;stroke-width:0\"/>\n",
       "\n",
       "  <!-- Text -->\n",
       "  <text x=\"60.000000\" y=\"45.412617\" font-size=\"1.0rem\" font-weight=\"100\" text-anchor=\"middle\" >1021</text>\n",
       "  <text x=\"140.000000\" y=\"12.706308\" font-size=\"1.0rem\" font-weight=\"100\" text-anchor=\"middle\" transform=\"rotate(0,140.000000,12.706308)\">4</text>\n",
       "\n",
       "\n",
       "  <!-- Horizontal lines -->\n",
       "  <line x1=\"190\" y1=\"0\" x2=\"204\" y2=\"14\" style=\"stroke-width:2\" />\n",
       "  <line x1=\"190\" y1=\"34\" x2=\"204\" y2=\"49\" style=\"stroke-width:2\" />\n",
       "\n",
       "  <!-- Vertical lines -->\n",
       "  <line x1=\"190\" y1=\"0\" x2=\"190\" y2=\"34\" style=\"stroke-width:2\" />\n",
       "  <line x1=\"194\" y1=\"4\" x2=\"194\" y2=\"39\" />\n",
       "  <line x1=\"199\" y1=\"9\" x2=\"199\" y2=\"44\" />\n",
       "  <line x1=\"204\" y1=\"14\" x2=\"204\" y2=\"49\" style=\"stroke-width:2\" />\n",
       "\n",
       "  <!-- Colored Rectangle -->\n",
       "  <polygon points=\"190.0,0.0 204.9485979497544,14.948597949754403 204.9485979497544,49.07215724848239 190.0,34.12355929872799\" style=\"fill:#ECB172A0;stroke-width:0\"/>\n",
       "\n",
       "  <!-- Horizontal lines -->\n",
       "  <line x1=\"190\" y1=\"0\" x2=\"226\" y2=\"0\" style=\"stroke-width:2\" />\n",
       "  <line x1=\"194\" y1=\"4\" x2=\"231\" y2=\"4\" />\n",
       "  <line x1=\"199\" y1=\"9\" x2=\"236\" y2=\"9\" />\n",
       "  <line x1=\"204\" y1=\"14\" x2=\"241\" y2=\"14\" style=\"stroke-width:2\" />\n",
       "\n",
       "  <!-- Vertical lines -->\n",
       "  <line x1=\"190\" y1=\"0\" x2=\"204\" y2=\"14\" style=\"stroke-width:2\" />\n",
       "  <line x1=\"226\" y1=\"0\" x2=\"241\" y2=\"14\" style=\"stroke-width:2\" />\n",
       "\n",
       "  <!-- Colored Rectangle -->\n",
       "  <polygon points=\"190.0,0.0 226.58335873970168,0.0 241.53195668945608,14.948597949754403 204.9485979497544,14.948597949754403\" style=\"fill:#ECB172A0;stroke-width:0\"/>\n",
       "\n",
       "  <!-- Horizontal lines -->\n",
       "  <line x1=\"204\" y1=\"14\" x2=\"241\" y2=\"14\" style=\"stroke-width:2\" />\n",
       "  <line x1=\"204\" y1=\"49\" x2=\"241\" y2=\"49\" style=\"stroke-width:2\" />\n",
       "\n",
       "  <!-- Vertical lines -->\n",
       "  <line x1=\"204\" y1=\"14\" x2=\"204\" y2=\"49\" style=\"stroke-width:2\" />\n",
       "  <line x1=\"241\" y1=\"14\" x2=\"241\" y2=\"49\" style=\"stroke-width:2\" />\n",
       "\n",
       "  <!-- Colored Rectangle -->\n",
       "  <polygon points=\"204.9485979497544,14.948597949754403 241.53195668945608,14.948597949754403 241.53195668945608,49.07215724848239 204.9485979497544,49.07215724848239\" style=\"fill:#ECB172A0;stroke-width:0\"/>\n",
       "\n",
       "  <!-- Text -->\n",
       "  <text x=\"223.240277\" y=\"69.072157\" font-size=\"1.0rem\" font-weight=\"100\" text-anchor=\"middle\" >72</text>\n",
       "  <text x=\"261.531957\" y=\"32.010378\" font-size=\"1.0rem\" font-weight=\"100\" text-anchor=\"middle\" transform=\"rotate(0,261.531957,32.010378)\">48</text>\n",
       "  <text x=\"187.474299\" y=\"61.597858\" font-size=\"1.0rem\" font-weight=\"100\" text-anchor=\"middle\" transform=\"rotate(45,187.474299,61.597858)\">3</text>\n",
       "</svg>\n",
       "        </td>\n",
       "    </tr>\n",
       "</table></div></li><li class='xr-var-item'><div class='xr-var-name'><span>rsdt</span></div><div class='xr-var-dims'>(ssp, time, y, x)</div><div class='xr-var-dtype'>float32</div><div class='xr-var-preview xr-preview'>dask.array&lt;chunksize=(1, 24, 48, 72), meta=np.ndarray&gt;</div><input id='attrs-860f65b2-e300-45b5-9682-7a1360e5af33' class='xr-var-attrs-in' type='checkbox' ><label for='attrs-860f65b2-e300-45b5-9682-7a1360e5af33' title='Show/Hide attributes'><svg class='icon xr-icon-file-text2'><use xlink:href='#icon-file-text2'></use></svg></label><input id='data-6fac3045-bc22-4acd-a4e2-af95ab854977' class='xr-var-data-in' type='checkbox'><label for='data-6fac3045-bc22-4acd-a4e2-af95ab854977' title='Show/Hide data repr'><svg class='icon xr-icon-database'><use xlink:href='#icon-database'></use></svg></label><div class='xr-var-attrs'><dl class='xr-attrs'><dt><span>cell_measures :</span></dt><dd>area: areacella</dd><dt><span>cell_methods :</span></dt><dd>area: time: mean</dd><dt><span>comment :</span></dt><dd>SOLIN</dd><dt><span>description :</span></dt><dd>at the top of the atmosphere</dd><dt><span>frequency :</span></dt><dd>mon</dd><dt><span>id :</span></dt><dd>rsdt</dd><dt><span>long_name :</span></dt><dd>TOA Incident Shortwave Radiation</dd><dt><span>mipTable :</span></dt><dd>Amon</dd><dt><span>out_name :</span></dt><dd>rsdt</dd><dt><span>positive :</span></dt><dd>down</dd><dt><span>prov :</span></dt><dd>Amon ((isd.003))</dd><dt><span>realm :</span></dt><dd>atmos</dd><dt><span>standard_name :</span></dt><dd>toa_incoming_shortwave_flux</dd><dt><span>time :</span></dt><dd>time</dd><dt><span>time_label :</span></dt><dd>time-mean</dd><dt><span>time_title :</span></dt><dd>Temporal mean</dd><dt><span>title :</span></dt><dd>TOA Incident Shortwave Radiation</dd><dt><span>type :</span></dt><dd>real</dd><dt><span>units :</span></dt><dd>W/m²</dd><dt><span>variable_id :</span></dt><dd>rsdt</dd></dl></div><div class='xr-var-data'><table>\n",
       "    <tr>\n",
       "        <td>\n",
       "            <table style=\"border-collapse: collapse;\">\n",
       "                <thead>\n",
       "                    <tr>\n",
       "                        <td> </td>\n",
       "                        <th> Array </th>\n",
       "                        <th> Chunk </th>\n",
       "                    </tr>\n",
       "                </thead>\n",
       "                <tbody>\n",
       "                    \n",
       "                    <tr>\n",
       "                        <th> Bytes </th>\n",
       "                        <td> 53.84 MiB </td>\n",
       "                        <td> 324.00 kiB </td>\n",
       "                    </tr>\n",
       "                    \n",
       "                    <tr>\n",
       "                        <th> Shape </th>\n",
       "                        <td> (4, 1021, 48, 72) </td>\n",
       "                        <td> (1, 24, 48, 72) </td>\n",
       "                    </tr>\n",
       "                    <tr>\n",
       "                        <th> Dask graph </th>\n",
       "                        <td colspan=\"2\"> 172 chunks in 2 graph layers </td>\n",
       "                    </tr>\n",
       "                    <tr>\n",
       "                        <th> Data type </th>\n",
       "                        <td colspan=\"2\"> float32 numpy.ndarray </td>\n",
       "                    </tr>\n",
       "                </tbody>\n",
       "            </table>\n",
       "        </td>\n",
       "        <td>\n",
       "        <svg width=\"347\" height=\"154\" style=\"stroke:rgb(0,0,0);stroke-width:1\" >\n",
       "\n",
       "  <!-- Horizontal lines -->\n",
       "  <line x1=\"0\" y1=\"0\" x2=\"25\" y2=\"0\" style=\"stroke-width:2\" />\n",
       "  <line x1=\"0\" y1=\"25\" x2=\"25\" y2=\"25\" style=\"stroke-width:2\" />\n",
       "\n",
       "  <!-- Vertical lines -->\n",
       "  <line x1=\"0\" y1=\"0\" x2=\"0\" y2=\"25\" style=\"stroke-width:2\" />\n",
       "  <line x1=\"6\" y1=\"0\" x2=\"6\" y2=\"25\" />\n",
       "  <line x1=\"12\" y1=\"0\" x2=\"12\" y2=\"25\" />\n",
       "  <line x1=\"19\" y1=\"0\" x2=\"19\" y2=\"25\" />\n",
       "  <line x1=\"25\" y1=\"0\" x2=\"25\" y2=\"25\" style=\"stroke-width:2\" />\n",
       "\n",
       "  <!-- Colored Rectangle -->\n",
       "  <polygon points=\"0.0,0.0 25.412616514582485,0.0 25.412616514582485,25.412616514582485 0.0,25.412616514582485\" style=\"fill:#ECB172A0;stroke-width:0\"/>\n",
       "\n",
       "  <!-- Text -->\n",
       "  <text x=\"12.706308\" y=\"45.412617\" font-size=\"1.0rem\" font-weight=\"100\" text-anchor=\"middle\" >4</text>\n",
       "  <text x=\"45.412617\" y=\"12.706308\" font-size=\"1.0rem\" font-weight=\"100\" text-anchor=\"middle\" transform=\"rotate(0,45.412617,12.706308)\">1</text>\n",
       "\n",
       "\n",
       "  <!-- Horizontal lines -->\n",
       "  <line x1=\"95\" y1=\"0\" x2=\"165\" y2=\"70\" style=\"stroke-width:2\" />\n",
       "  <line x1=\"95\" y1=\"34\" x2=\"165\" y2=\"104\" style=\"stroke-width:2\" />\n",
       "\n",
       "  <!-- Vertical lines -->\n",
       "  <line x1=\"95\" y1=\"0\" x2=\"95\" y2=\"34\" style=\"stroke-width:2\" />\n",
       "  <line x1=\"96\" y1=\"1\" x2=\"96\" y2=\"35\" />\n",
       "  <line x1=\"98\" y1=\"3\" x2=\"98\" y2=\"37\" />\n",
       "  <line x1=\"101\" y1=\"6\" x2=\"101\" y2=\"40\" />\n",
       "  <line x1=\"103\" y1=\"8\" x2=\"103\" y2=\"42\" />\n",
       "  <line x1=\"104\" y1=\"9\" x2=\"104\" y2=\"44\" />\n",
       "  <line x1=\"108\" y1=\"13\" x2=\"108\" y2=\"47\" />\n",
       "  <line x1=\"109\" y1=\"14\" x2=\"109\" y2=\"49\" />\n",
       "  <line x1=\"111\" y1=\"16\" x2=\"111\" y2=\"50\" />\n",
       "  <line x1=\"114\" y1=\"19\" x2=\"114\" y2=\"54\" />\n",
       "  <line x1=\"116\" y1=\"21\" x2=\"116\" y2=\"55\" />\n",
       "  <line x1=\"118\" y1=\"23\" x2=\"118\" y2=\"57\" />\n",
       "  <line x1=\"121\" y1=\"26\" x2=\"121\" y2=\"60\" />\n",
       "  <line x1=\"123\" y1=\"28\" x2=\"123\" y2=\"62\" />\n",
       "  <line x1=\"124\" y1=\"29\" x2=\"124\" y2=\"63\" />\n",
       "  <line x1=\"128\" y1=\"33\" x2=\"128\" y2=\"67\" />\n",
       "  <line x1=\"129\" y1=\"34\" x2=\"129\" y2=\"68\" />\n",
       "  <line x1=\"131\" y1=\"36\" x2=\"131\" y2=\"70\" />\n",
       "  <line x1=\"134\" y1=\"39\" x2=\"134\" y2=\"73\" />\n",
       "  <line x1=\"136\" y1=\"41\" x2=\"136\" y2=\"75\" />\n",
       "  <line x1=\"138\" y1=\"43\" x2=\"138\" y2=\"77\" />\n",
       "  <line x1=\"141\" y1=\"46\" x2=\"141\" y2=\"80\" />\n",
       "  <line x1=\"143\" y1=\"48\" x2=\"143\" y2=\"82\" />\n",
       "  <line x1=\"144\" y1=\"49\" x2=\"144\" y2=\"83\" />\n",
       "  <line x1=\"148\" y1=\"53\" x2=\"148\" y2=\"87\" />\n",
       "  <line x1=\"149\" y1=\"54\" x2=\"149\" y2=\"88\" />\n",
       "  <line x1=\"151\" y1=\"56\" x2=\"151\" y2=\"90\" />\n",
       "  <line x1=\"154\" y1=\"59\" x2=\"154\" y2=\"93\" />\n",
       "  <line x1=\"156\" y1=\"61\" x2=\"156\" y2=\"95\" />\n",
       "  <line x1=\"158\" y1=\"63\" x2=\"158\" y2=\"97\" />\n",
       "  <line x1=\"161\" y1=\"66\" x2=\"161\" y2=\"100\" />\n",
       "  <line x1=\"163\" y1=\"68\" x2=\"163\" y2=\"102\" />\n",
       "  <line x1=\"165\" y1=\"70\" x2=\"165\" y2=\"104\" style=\"stroke-width:2\" />\n",
       "\n",
       "  <!-- Colored Rectangle -->\n",
       "  <polygon points=\"95.0,0.0 165.58823529411765,70.58823529411765 165.58823529411765,104.71179459284565 95.0,34.12355929872799\" style=\"fill:#8B4903A0;stroke-width:0\"/>\n",
       "\n",
       "  <!-- Horizontal lines -->\n",
       "  <line x1=\"95\" y1=\"0\" x2=\"131\" y2=\"0\" style=\"stroke-width:2\" />\n",
       "  <line x1=\"96\" y1=\"1\" x2=\"133\" y2=\"1\" />\n",
       "  <line x1=\"98\" y1=\"3\" x2=\"134\" y2=\"3\" />\n",
       "  <line x1=\"101\" y1=\"6\" x2=\"138\" y2=\"6\" />\n",
       "  <line x1=\"103\" y1=\"8\" x2=\"139\" y2=\"8\" />\n",
       "  <line x1=\"104\" y1=\"9\" x2=\"141\" y2=\"9\" />\n",
       "  <line x1=\"108\" y1=\"13\" x2=\"144\" y2=\"13\" />\n",
       "  <line x1=\"109\" y1=\"14\" x2=\"146\" y2=\"14\" />\n",
       "  <line x1=\"111\" y1=\"16\" x2=\"148\" y2=\"16\" />\n",
       "  <line x1=\"114\" y1=\"19\" x2=\"151\" y2=\"19\" />\n",
       "  <line x1=\"116\" y1=\"21\" x2=\"153\" y2=\"21\" />\n",
       "  <line x1=\"118\" y1=\"23\" x2=\"154\" y2=\"23\" />\n",
       "  <line x1=\"121\" y1=\"26\" x2=\"158\" y2=\"26\" />\n",
       "  <line x1=\"123\" y1=\"28\" x2=\"159\" y2=\"28\" />\n",
       "  <line x1=\"124\" y1=\"29\" x2=\"161\" y2=\"29\" />\n",
       "  <line x1=\"128\" y1=\"33\" x2=\"164\" y2=\"33\" />\n",
       "  <line x1=\"129\" y1=\"34\" x2=\"166\" y2=\"34\" />\n",
       "  <line x1=\"131\" y1=\"36\" x2=\"168\" y2=\"36\" />\n",
       "  <line x1=\"134\" y1=\"39\" x2=\"171\" y2=\"39\" />\n",
       "  <line x1=\"136\" y1=\"41\" x2=\"173\" y2=\"41\" />\n",
       "  <line x1=\"138\" y1=\"43\" x2=\"174\" y2=\"43\" />\n",
       "  <line x1=\"141\" y1=\"46\" x2=\"178\" y2=\"46\" />\n",
       "  <line x1=\"143\" y1=\"48\" x2=\"179\" y2=\"48\" />\n",
       "  <line x1=\"144\" y1=\"49\" x2=\"181\" y2=\"49\" />\n",
       "  <line x1=\"148\" y1=\"53\" x2=\"184\" y2=\"53\" />\n",
       "  <line x1=\"149\" y1=\"54\" x2=\"186\" y2=\"54\" />\n",
       "  <line x1=\"151\" y1=\"56\" x2=\"187\" y2=\"56\" />\n",
       "  <line x1=\"154\" y1=\"59\" x2=\"191\" y2=\"59\" />\n",
       "  <line x1=\"156\" y1=\"61\" x2=\"192\" y2=\"61\" />\n",
       "  <line x1=\"158\" y1=\"63\" x2=\"194\" y2=\"63\" />\n",
       "  <line x1=\"161\" y1=\"66\" x2=\"197\" y2=\"66\" />\n",
       "  <line x1=\"163\" y1=\"68\" x2=\"199\" y2=\"68\" />\n",
       "  <line x1=\"165\" y1=\"70\" x2=\"202\" y2=\"70\" style=\"stroke-width:2\" />\n",
       "\n",
       "  <!-- Vertical lines -->\n",
       "  <line x1=\"95\" y1=\"0\" x2=\"165\" y2=\"70\" style=\"stroke-width:2\" />\n",
       "  <line x1=\"131\" y1=\"0\" x2=\"202\" y2=\"70\" style=\"stroke-width:2\" />\n",
       "\n",
       "  <!-- Colored Rectangle -->\n",
       "  <polygon points=\"95.0,0.0 131.58335873970168,0.0 202.17159403381933,70.58823529411765 165.58823529411765,70.58823529411765\" style=\"fill:#8B4903A0;stroke-width:0\"/>\n",
       "\n",
       "  <!-- Horizontal lines -->\n",
       "  <line x1=\"165\" y1=\"70\" x2=\"202\" y2=\"70\" style=\"stroke-width:2\" />\n",
       "  <line x1=\"165\" y1=\"104\" x2=\"202\" y2=\"104\" style=\"stroke-width:2\" />\n",
       "\n",
       "  <!-- Vertical lines -->\n",
       "  <line x1=\"165\" y1=\"70\" x2=\"165\" y2=\"104\" style=\"stroke-width:2\" />\n",
       "  <line x1=\"202\" y1=\"70\" x2=\"202\" y2=\"104\" style=\"stroke-width:2\" />\n",
       "\n",
       "  <!-- Colored Rectangle -->\n",
       "  <polygon points=\"165.58823529411765,70.58823529411765 202.17159403381933,70.58823529411765 202.17159403381933,104.71179459284565 165.58823529411765,104.71179459284565\" style=\"fill:#ECB172A0;stroke-width:0\"/>\n",
       "\n",
       "  <!-- Text -->\n",
       "  <text x=\"183.879915\" y=\"124.711795\" font-size=\"1.0rem\" font-weight=\"100\" text-anchor=\"middle\" >72</text>\n",
       "  <text x=\"222.171594\" y=\"87.650015\" font-size=\"1.0rem\" font-weight=\"100\" text-anchor=\"middle\" transform=\"rotate(0,222.171594,87.650015)\">48</text>\n",
       "  <text x=\"120.294118\" y=\"89.417677\" font-size=\"1.0rem\" font-weight=\"100\" text-anchor=\"middle\" transform=\"rotate(45,120.294118,89.417677)\">1021</text>\n",
       "</svg>\n",
       "        </td>\n",
       "    </tr>\n",
       "</table></div></li><li class='xr-var-item'><div class='xr-var-name'><span>tas</span></div><div class='xr-var-dims'>(ssp, time, member_id, y, x)</div><div class='xr-var-dtype'>float32</div><div class='xr-var-preview xr-preview'>dask.array&lt;chunksize=(1, 24, 1, 48, 72), meta=np.ndarray&gt;</div><input id='attrs-7e540b8b-9630-4880-a419-35973a98c885' class='xr-var-attrs-in' type='checkbox' ><label for='attrs-7e540b8b-9630-4880-a419-35973a98c885' title='Show/Hide attributes'><svg class='icon xr-icon-file-text2'><use xlink:href='#icon-file-text2'></use></svg></label><input id='data-355755ac-55e9-44de-a62f-0b5718fbbe72' class='xr-var-data-in' type='checkbox'><label for='data-355755ac-55e9-44de-a62f-0b5718fbbe72' title='Show/Hide data repr'><svg class='icon xr-icon-database'><use xlink:href='#icon-database'></use></svg></label><div class='xr-var-attrs'><dl class='xr-attrs'><dt><span>cell_measures :</span></dt><dd>area: areacella</dd><dt><span>cell_methods :</span></dt><dd>area: time: mean</dd><dt><span>comment :</span></dt><dd>TREFHT</dd><dt><span>description :</span></dt><dd>near-surface (usually, 2 meter) air temperature</dd><dt><span>frequency :</span></dt><dd>day</dd><dt><span>id :</span></dt><dd>tas</dd><dt><span>long_name :</span></dt><dd>Near-Surface Air Temperature</dd><dt><span>mipTable :</span></dt><dd>day</dd><dt><span>out_name :</span></dt><dd>tas</dd><dt><span>prov :</span></dt><dd>day ((isd.003))</dd><dt><span>realm :</span></dt><dd>atmos</dd><dt><span>standard_name :</span></dt><dd>air_temperature</dd><dt><span>time :</span></dt><dd>time</dd><dt><span>time_label :</span></dt><dd>time-mean</dd><dt><span>time_title :</span></dt><dd>Temporal mean</dd><dt><span>title :</span></dt><dd>Near-Surface Air Temperature</dd><dt><span>type :</span></dt><dd>real</dd><dt><span>units :</span></dt><dd>K</dd><dt><span>variable_id :</span></dt><dd>tas</dd></dl></div><div class='xr-var-data'><table>\n",
       "    <tr>\n",
       "        <td>\n",
       "            <table style=\"border-collapse: collapse;\">\n",
       "                <thead>\n",
       "                    <tr>\n",
       "                        <td> </td>\n",
       "                        <th> Array </th>\n",
       "                        <th> Chunk </th>\n",
       "                    </tr>\n",
       "                </thead>\n",
       "                <tbody>\n",
       "                    \n",
       "                    <tr>\n",
       "                        <th> Bytes </th>\n",
       "                        <td> 161.53 MiB </td>\n",
       "                        <td> 324.00 kiB </td>\n",
       "                    </tr>\n",
       "                    \n",
       "                    <tr>\n",
       "                        <th> Shape </th>\n",
       "                        <td> (4, 1021, 3, 48, 72) </td>\n",
       "                        <td> (1, 24, 1, 48, 72) </td>\n",
       "                    </tr>\n",
       "                    <tr>\n",
       "                        <th> Dask graph </th>\n",
       "                        <td colspan=\"2\"> 516 chunks in 2 graph layers </td>\n",
       "                    </tr>\n",
       "                    <tr>\n",
       "                        <th> Data type </th>\n",
       "                        <td colspan=\"2\"> float32 numpy.ndarray </td>\n",
       "                    </tr>\n",
       "                </tbody>\n",
       "            </table>\n",
       "        </td>\n",
       "        <td>\n",
       "        <svg width=\"481\" height=\"99\" style=\"stroke:rgb(0,0,0);stroke-width:1\" >\n",
       "\n",
       "  <!-- Horizontal lines -->\n",
       "  <line x1=\"0\" y1=\"0\" x2=\"120\" y2=\"0\" style=\"stroke-width:2\" />\n",
       "  <line x1=\"0\" y1=\"6\" x2=\"120\" y2=\"6\" />\n",
       "  <line x1=\"0\" y1=\"12\" x2=\"120\" y2=\"12\" />\n",
       "  <line x1=\"0\" y1=\"19\" x2=\"120\" y2=\"19\" />\n",
       "  <line x1=\"0\" y1=\"25\" x2=\"120\" y2=\"25\" style=\"stroke-width:2\" />\n",
       "\n",
       "  <!-- Vertical lines -->\n",
       "  <line x1=\"0\" y1=\"0\" x2=\"0\" y2=\"25\" style=\"stroke-width:2\" />\n",
       "  <line x1=\"2\" y1=\"0\" x2=\"2\" y2=\"25\" />\n",
       "  <line x1=\"5\" y1=\"0\" x2=\"5\" y2=\"25\" />\n",
       "  <line x1=\"11\" y1=\"0\" x2=\"11\" y2=\"25\" />\n",
       "  <line x1=\"14\" y1=\"0\" x2=\"14\" y2=\"25\" />\n",
       "  <line x1=\"16\" y1=\"0\" x2=\"16\" y2=\"25\" />\n",
       "  <line x1=\"22\" y1=\"0\" x2=\"22\" y2=\"25\" />\n",
       "  <line x1=\"25\" y1=\"0\" x2=\"25\" y2=\"25\" />\n",
       "  <line x1=\"28\" y1=\"0\" x2=\"28\" y2=\"25\" />\n",
       "  <line x1=\"33\" y1=\"0\" x2=\"33\" y2=\"25\" />\n",
       "  <line x1=\"36\" y1=\"0\" x2=\"36\" y2=\"25\" />\n",
       "  <line x1=\"39\" y1=\"0\" x2=\"39\" y2=\"25\" />\n",
       "  <line x1=\"45\" y1=\"0\" x2=\"45\" y2=\"25\" />\n",
       "  <line x1=\"47\" y1=\"0\" x2=\"47\" y2=\"25\" />\n",
       "  <line x1=\"50\" y1=\"0\" x2=\"50\" y2=\"25\" />\n",
       "  <line x1=\"56\" y1=\"0\" x2=\"56\" y2=\"25\" />\n",
       "  <line x1=\"59\" y1=\"0\" x2=\"59\" y2=\"25\" />\n",
       "  <line x1=\"62\" y1=\"0\" x2=\"62\" y2=\"25\" />\n",
       "  <line x1=\"67\" y1=\"0\" x2=\"67\" y2=\"25\" />\n",
       "  <line x1=\"70\" y1=\"0\" x2=\"70\" y2=\"25\" />\n",
       "  <line x1=\"73\" y1=\"0\" x2=\"73\" y2=\"25\" />\n",
       "  <line x1=\"78\" y1=\"0\" x2=\"78\" y2=\"25\" />\n",
       "  <line x1=\"81\" y1=\"0\" x2=\"81\" y2=\"25\" />\n",
       "  <line x1=\"84\" y1=\"0\" x2=\"84\" y2=\"25\" />\n",
       "  <line x1=\"90\" y1=\"0\" x2=\"90\" y2=\"25\" />\n",
       "  <line x1=\"93\" y1=\"0\" x2=\"93\" y2=\"25\" />\n",
       "  <line x1=\"95\" y1=\"0\" x2=\"95\" y2=\"25\" />\n",
       "  <line x1=\"101\" y1=\"0\" x2=\"101\" y2=\"25\" />\n",
       "  <line x1=\"104\" y1=\"0\" x2=\"104\" y2=\"25\" />\n",
       "  <line x1=\"107\" y1=\"0\" x2=\"107\" y2=\"25\" />\n",
       "  <line x1=\"112\" y1=\"0\" x2=\"112\" y2=\"25\" />\n",
       "  <line x1=\"115\" y1=\"0\" x2=\"115\" y2=\"25\" />\n",
       "  <line x1=\"120\" y1=\"0\" x2=\"120\" y2=\"25\" style=\"stroke-width:2\" />\n",
       "\n",
       "  <!-- Colored Rectangle -->\n",
       "  <polygon points=\"0.0,0.0 120.0,0.0 120.0,25.412616514582485 0.0,25.412616514582485\" style=\"fill:#8B4903A0;stroke-width:0\"/>\n",
       "\n",
       "  <!-- Text -->\n",
       "  <text x=\"60.000000\" y=\"45.412617\" font-size=\"1.0rem\" font-weight=\"100\" text-anchor=\"middle\" >1021</text>\n",
       "  <text x=\"140.000000\" y=\"12.706308\" font-size=\"1.0rem\" font-weight=\"100\" text-anchor=\"middle\" transform=\"rotate(0,140.000000,12.706308)\">4</text>\n",
       "\n",
       "\n",
       "  <!-- Horizontal lines -->\n",
       "  <line x1=\"190\" y1=\"0\" x2=\"204\" y2=\"14\" style=\"stroke-width:2\" />\n",
       "  <line x1=\"190\" y1=\"34\" x2=\"204\" y2=\"49\" style=\"stroke-width:2\" />\n",
       "\n",
       "  <!-- Vertical lines -->\n",
       "  <line x1=\"190\" y1=\"0\" x2=\"190\" y2=\"34\" style=\"stroke-width:2\" />\n",
       "  <line x1=\"194\" y1=\"4\" x2=\"194\" y2=\"39\" />\n",
       "  <line x1=\"199\" y1=\"9\" x2=\"199\" y2=\"44\" />\n",
       "  <line x1=\"204\" y1=\"14\" x2=\"204\" y2=\"49\" style=\"stroke-width:2\" />\n",
       "\n",
       "  <!-- Colored Rectangle -->\n",
       "  <polygon points=\"190.0,0.0 204.9485979497544,14.948597949754403 204.9485979497544,49.07215724848239 190.0,34.12355929872799\" style=\"fill:#ECB172A0;stroke-width:0\"/>\n",
       "\n",
       "  <!-- Horizontal lines -->\n",
       "  <line x1=\"190\" y1=\"0\" x2=\"226\" y2=\"0\" style=\"stroke-width:2\" />\n",
       "  <line x1=\"194\" y1=\"4\" x2=\"231\" y2=\"4\" />\n",
       "  <line x1=\"199\" y1=\"9\" x2=\"236\" y2=\"9\" />\n",
       "  <line x1=\"204\" y1=\"14\" x2=\"241\" y2=\"14\" style=\"stroke-width:2\" />\n",
       "\n",
       "  <!-- Vertical lines -->\n",
       "  <line x1=\"190\" y1=\"0\" x2=\"204\" y2=\"14\" style=\"stroke-width:2\" />\n",
       "  <line x1=\"226\" y1=\"0\" x2=\"241\" y2=\"14\" style=\"stroke-width:2\" />\n",
       "\n",
       "  <!-- Colored Rectangle -->\n",
       "  <polygon points=\"190.0,0.0 226.58335873970168,0.0 241.53195668945608,14.948597949754403 204.9485979497544,14.948597949754403\" style=\"fill:#ECB172A0;stroke-width:0\"/>\n",
       "\n",
       "  <!-- Horizontal lines -->\n",
       "  <line x1=\"204\" y1=\"14\" x2=\"241\" y2=\"14\" style=\"stroke-width:2\" />\n",
       "  <line x1=\"204\" y1=\"49\" x2=\"241\" y2=\"49\" style=\"stroke-width:2\" />\n",
       "\n",
       "  <!-- Vertical lines -->\n",
       "  <line x1=\"204\" y1=\"14\" x2=\"204\" y2=\"49\" style=\"stroke-width:2\" />\n",
       "  <line x1=\"241\" y1=\"14\" x2=\"241\" y2=\"49\" style=\"stroke-width:2\" />\n",
       "\n",
       "  <!-- Colored Rectangle -->\n",
       "  <polygon points=\"204.9485979497544,14.948597949754403 241.53195668945608,14.948597949754403 241.53195668945608,49.07215724848239 204.9485979497544,49.07215724848239\" style=\"fill:#ECB172A0;stroke-width:0\"/>\n",
       "\n",
       "  <!-- Text -->\n",
       "  <text x=\"223.240277\" y=\"69.072157\" font-size=\"1.0rem\" font-weight=\"100\" text-anchor=\"middle\" >72</text>\n",
       "  <text x=\"261.531957\" y=\"32.010378\" font-size=\"1.0rem\" font-weight=\"100\" text-anchor=\"middle\" transform=\"rotate(0,261.531957,32.010378)\">48</text>\n",
       "  <text x=\"187.474299\" y=\"61.597858\" font-size=\"1.0rem\" font-weight=\"100\" text-anchor=\"middle\" transform=\"rotate(45,187.474299,61.597858)\">3</text>\n",
       "</svg>\n",
       "        </td>\n",
       "    </tr>\n",
       "</table></div></li></ul></div></li><li class='xr-section-item'><input id='section-11b8907b-51ce-434a-aa1b-8e125f490603' class='xr-section-summary-in' type='checkbox'  ><label for='section-11b8907b-51ce-434a-aa1b-8e125f490603' class='xr-section-summary' >Indexes: <span>(7)</span></label><div class='xr-section-inline-details'></div><div class='xr-section-details'><ul class='xr-var-list'><li class='xr-var-item'><div class='xr-index-name'><div>latitude</div></div><div class='xr-index-preview'>PandasIndex</div><div></div><input id='index-5fd3dced-2fd5-430f-bb92-aa76c202739f' class='xr-index-data-in' type='checkbox'/><label for='index-5fd3dced-2fd5-430f-bb92-aa76c202739f' title='Show/Hide index repr'><svg class='icon xr-icon-database'><use xlink:href='#icon-database'></use></svg></label><div class='xr-index-data'><pre>PandasIndex(Index([ -89.05263157894737,  -85.26315789473685,  -81.47368421052632,\n",
       "         -77.6842105263158,  -73.89473684210526,  -70.10526315789474,\n",
       "        -66.31578947368422, -62.526315789473685, -58.736842105263165,\n",
       "        -54.94736842105263,  -51.15789473684211,  -47.36842105263158,\n",
       "       -43.578947368421055,  -39.78947368421053,               -36.0,\n",
       "        -32.21052631578948, -28.421052631578952, -24.631578947368425,\n",
       "       -20.842105263157897,  -17.05263157894737,  -13.26315789473685,\n",
       "        -9.473684210526315,  -5.684210526315795, -1.8947368421052673,\n",
       "        1.8947368421052602,  5.6842105263157805,   9.473684210526315,\n",
       "        13.263157894736835,  17.052631578947363,   20.84210526315789,\n",
       "         24.63157894736841,  28.421052631578945,  32.210526315789465,\n",
       "         35.99999999999999,   39.78947368421052,   43.57894736842104,\n",
       "         47.36842105263156,   51.15789473684211,   54.94736842105263,\n",
       "         58.73684210526315,   62.52631578947367,   66.31578947368419,\n",
       "         70.10526315789474,   73.89473684210526,   77.68421052631578,\n",
       "          81.4736842105263,   85.26315789473682,   89.05263157894737],\n",
       "      dtype=&#x27;float64&#x27;, name=&#x27;latitude&#x27;))</pre></div></li><li class='xr-var-item'><div class='xr-index-name'><div>longitude</div></div><div class='xr-index-preview'>PandasIndex</div><div></div><input id='index-73e6fb30-ba73-4808-ba46-251849a49a07' class='xr-index-data-in' type='checkbox'/><label for='index-73e6fb30-ba73-4808-ba46-251849a49a07' title='Show/Hide index repr'><svg class='icon xr-icon-database'><use xlink:href='#icon-database'></use></svg></label><div class='xr-index-data'><pre>PandasIndex(Index([  1.25,   6.25,  11.25,  16.25,  21.25,  26.25,  31.25,  36.25,  41.25,\n",
       "        46.25,  51.25,  56.25,  61.25,  66.25,  71.25,  76.25,  81.25,  86.25,\n",
       "        91.25,  96.25, 101.25, 106.25, 111.25, 116.25, 121.25, 126.25, 131.25,\n",
       "       136.25, 141.25, 146.25, 151.25, 156.25, 161.25, 166.25, 171.25, 176.25,\n",
       "       181.25, 186.25, 191.25, 196.25, 201.25, 206.25, 211.25, 216.25, 221.25,\n",
       "       226.25, 231.25, 236.25, 241.25, 246.25, 251.25, 256.25, 261.25, 266.25,\n",
       "       271.25, 276.25, 281.25, 286.25, 291.25, 296.25, 301.25, 306.25, 311.25,\n",
       "       316.25, 321.25, 326.25, 331.25, 336.25, 341.25, 346.25, 351.25, 356.25],\n",
       "      dtype=&#x27;float64&#x27;, name=&#x27;longitude&#x27;))</pre></div></li><li class='xr-var-item'><div class='xr-index-name'><div>member_id</div></div><div class='xr-index-preview'>PandasIndex</div><div></div><input id='index-37999051-45e3-4428-beb9-f2b0e6c4235a' class='xr-index-data-in' type='checkbox'/><label for='index-37999051-45e3-4428-beb9-f2b0e6c4235a' title='Show/Hide index repr'><svg class='icon xr-icon-database'><use xlink:href='#icon-database'></use></svg></label><div class='xr-index-data'><pre>PandasIndex(Index([0, 1, 2], dtype=&#x27;int64&#x27;, name=&#x27;member_id&#x27;))</pre></div></li><li class='xr-var-item'><div class='xr-index-name'><div>ssp</div></div><div class='xr-index-preview'>PandasIndex</div><div></div><input id='index-6c22ed24-660c-49df-8d8e-2329be4f8a53' class='xr-index-data-in' type='checkbox'/><label for='index-6c22ed24-660c-49df-8d8e-2329be4f8a53' title='Show/Hide index repr'><svg class='icon xr-icon-database'><use xlink:href='#icon-database'></use></svg></label><div class='xr-index-data'><pre>PandasIndex(Index([&#x27;ssp126&#x27;, &#x27;ssp245&#x27;, &#x27;ssp370&#x27;, &#x27;ssp585&#x27;], dtype=&#x27;object&#x27;, name=&#x27;ssp&#x27;))</pre></div></li><li class='xr-var-item'><div class='xr-index-name'><div>time</div></div><div class='xr-index-preview'>PandasIndex</div><div></div><input id='index-efc9157f-9c7a-432e-954d-79e4fd769262' class='xr-index-data-in' type='checkbox'/><label for='index-efc9157f-9c7a-432e-954d-79e4fd769262' title='Show/Hide index repr'><svg class='icon xr-icon-database'><use xlink:href='#icon-database'></use></svg></label><div class='xr-index-data'><pre>PandasIndex(CFTimeIndex([2015-01-15 00:00:00, 2015-02-15 00:00:00, 2015-03-15 00:00:00,\n",
       "             2015-04-15 00:00:00, 2015-05-15 00:00:00, 2015-06-15 00:00:00,\n",
       "             2015-07-15 00:00:00, 2015-08-15 00:00:00, 2015-09-15 00:00:00,\n",
       "             2015-10-15 00:00:00,\n",
       "             ...\n",
       "             2099-04-15 00:00:00, 2099-05-15 00:00:00, 2099-06-15 00:00:00,\n",
       "             2099-07-15 00:00:00, 2099-08-15 00:00:00, 2099-09-15 00:00:00,\n",
       "             2099-10-15 00:00:00, 2099-11-15 00:00:00, 2099-12-15 00:00:00,\n",
       "             2100-01-15 00:00:00],\n",
       "            dtype=&#x27;object&#x27;, length=1021, calendar=&#x27;noleap&#x27;, freq=&#x27;None&#x27;))</pre></div></li><li class='xr-var-item'><div class='xr-index-name'><div>x</div></div><div class='xr-index-preview'>PandasIndex</div><div></div><input id='index-7838486a-cde4-4398-8f77-bf893b88ab77' class='xr-index-data-in' type='checkbox'/><label for='index-7838486a-cde4-4398-8f77-bf893b88ab77' title='Show/Hide index repr'><svg class='icon xr-icon-database'><use xlink:href='#icon-database'></use></svg></label><div class='xr-index-data'><pre>PandasIndex(Index([  1.875,   6.875,  11.875,  16.875,  21.875,  26.875,  31.875,  36.875,\n",
       "        41.875,  46.875,  51.875,  56.875,  61.875,  66.875,  71.875,  76.875,\n",
       "        81.875,  86.875,  91.875,  96.875, 101.875, 106.875, 111.875, 116.875,\n",
       "       121.875, 126.875, 131.875, 136.875, 141.875, 146.875, 151.875, 156.875,\n",
       "       161.875, 166.875, 171.875, 176.875, 181.875, 186.875, 191.875, 196.875,\n",
       "       201.875, 206.875, 211.875, 216.875, 221.875, 226.875, 231.875, 236.875,\n",
       "       241.875, 246.875, 251.875, 256.875, 261.875, 266.875, 271.875, 276.875,\n",
       "       281.875, 286.875, 291.875, 296.875, 301.875, 306.875, 311.875, 316.875,\n",
       "       321.875, 326.875, 331.875, 336.875, 341.875, 346.875, 351.875, 356.875],\n",
       "      dtype=&#x27;float64&#x27;, name=&#x27;x&#x27;))</pre></div></li><li class='xr-var-item'><div class='xr-index-name'><div>y</div></div><div class='xr-index-preview'>PandasIndex</div><div></div><input id='index-2169b675-70d5-411a-b92a-bbc52a821416' class='xr-index-data-in' type='checkbox'/><label for='index-2169b675-70d5-411a-b92a-bbc52a821416' title='Show/Hide index repr'><svg class='icon xr-icon-database'><use xlink:href='#icon-database'></use></svg></label><div class='xr-index-data'><pre>PandasIndex(Index([ -88.58638743455498,  -84.81675392670157,  -81.04712041884817,\n",
       "        -77.27748691099475,  -73.50785340314135,  -69.73821989528795,\n",
       "        -65.96858638743456,  -62.19895287958116,  -58.42931937172774,\n",
       "       -54.659685863874344,  -50.89005235602094,  -47.12041884816754,\n",
       "        -43.35078534031414,  -39.58115183246073,  -35.81151832460733,\n",
       "        -32.04188481675392, -28.272251308900525, -24.502617801047123,\n",
       "       -20.732984293193716, -16.963350785340317, -13.193717277486911,\n",
       "        -9.424083769633508,  -5.654450261780106, -1.8848167539267031,\n",
       "        1.8848167539266996,   5.654450261780106,   9.424083769633505,\n",
       "        13.193717277486911,  16.963350785340314,  20.732984293193716,\n",
       "         24.50261780104712,  28.272251308900522,   32.04188481675393,\n",
       "         35.81151832460733,   39.58115183246073,   43.35078534031413,\n",
       "         47.12041884816754,  50.890052356020945,  54.659685863874344,\n",
       "         58.42931937172774,   62.19895287958115,   65.96858638743456,\n",
       "         69.73821989528795,   73.50785340314135,   77.27748691099477,\n",
       "         81.04712041884817,   84.81675392670157,   88.58638743455498],\n",
       "      dtype=&#x27;float64&#x27;, name=&#x27;y&#x27;))</pre></div></li></ul></div></li><li class='xr-section-item'><input id='section-185b5196-2696-40e9-bf10-59b23762692f' class='xr-section-summary-in' type='checkbox'  checked><label for='section-185b5196-2696-40e9-bf10-59b23762692f' class='xr-section-summary' >Attributes: <span>(4)</span></label><div class='xr-section-inline-details'></div><div class='xr-section-details'><dl class='xr-attrs'><dt><span>original_member_ids :</span></dt><dd>[&#x27;r10i1p1f1&#x27;, &#x27;r11i1p1f1&#x27;, &#x27;r4i1p1f1&#x27;]</dd><dt><span>precipitation_units :</span></dt><dd>mm/day (converted from kg m-2 s-1)</dd><dt><span>source :</span></dt><dd>CMIP6 data processed for CSE151B</dd><dt><span>ssp :</span></dt><dd>ssp126</dd></dl></div></li></ul></div></div>"
      ],
      "text/plain": [
       "<xarray.Dataset>\n",
       "Dimensions:    (ssp: 4, time: 1021, latitude: 48, longitude: 72, x: 72, y: 48,\n",
       "                member_id: 3)\n",
       "Coordinates:\n",
       "    lat        (x, y) float64 dask.array<chunksize=(72, 48), meta=np.ndarray>\n",
       "  * latitude   (latitude) float64 -89.05 -85.26 -81.47 ... 81.47 85.26 89.05\n",
       "    lon        (x, y) float64 dask.array<chunksize=(72, 48), meta=np.ndarray>\n",
       "  * longitude  (longitude) float64 1.25 6.25 11.25 16.25 ... 346.2 351.2 356.2\n",
       "  * member_id  (member_id) int64 0 1 2\n",
       "  * ssp        (ssp) <U6 'ssp126' 'ssp245' 'ssp370' 'ssp585'\n",
       "  * time       (time) object 2015-01-15 00:00:00 ... 2100-01-15 00:00:00\n",
       "  * x          (x) float64 1.875 6.875 11.88 16.88 ... 341.9 346.9 351.9 356.9\n",
       "  * y          (y) float64 -88.59 -84.82 -81.05 -77.28 ... 81.05 84.82 88.59\n",
       "Data variables:\n",
       "    BC         (ssp, time, latitude, longitude) float64 dask.array<chunksize=(1, 24, 48, 72), meta=np.ndarray>\n",
       "    CH4        (ssp, time) float64 dask.array<chunksize=(1, 24), meta=np.ndarray>\n",
       "    CO2        (ssp, time) float64 dask.array<chunksize=(1, 24), meta=np.ndarray>\n",
       "    SO2        (ssp, time, latitude, longitude) float64 dask.array<chunksize=(1, 24, 48, 72), meta=np.ndarray>\n",
       "    pr         (ssp, time, member_id, y, x) float32 dask.array<chunksize=(1, 24, 1, 48, 72), meta=np.ndarray>\n",
       "    rsdt       (ssp, time, y, x) float32 dask.array<chunksize=(1, 24, 48, 72), meta=np.ndarray>\n",
       "    tas        (ssp, time, member_id, y, x) float32 dask.array<chunksize=(1, 24, 1, 48, 72), meta=np.ndarray>\n",
       "Attributes:\n",
       "    original_member_ids:  ['r10i1p1f1', 'r11i1p1f1', 'r4i1p1f1']\n",
       "    precipitation_units:  mm/day (converted from kg m-2 s-1)\n",
       "    source:               CMIP6 data processed for CSE151B\n",
       "    ssp:                  ssp126"
      ]
     },
     "execution_count": 2,
     "metadata": {},
     "output_type": "execute_result"
    }
   ],
   "source": [
    "data_path = \"processed_data_cse151b_v2_corrupted_ssp245/processed_data_cse151b_v2_corrupted_ssp245.zarr\"\n",
    "data = xr.open_zarr(data_path)\n",
    "data"
   ]
  },
  {
   "cell_type": "code",
   "execution_count": 3,
   "id": "929bdeed",
   "metadata": {},
   "outputs": [
    {
     "name": "stderr",
     "output_type": "stream",
     "text": [
      "Seed set to 42\n"
     ]
    }
   ],
   "source": [
    "# ----------------------------------------------\n",
    "# 🔧 Imports & Setup\n",
    "import numpy as np\n",
    "import pandas as pd\n",
    "import xarray as xr\n",
    "import dask.array as da\n",
    "import torch\n",
    "import torch.nn as nn\n",
    "import torch.optim as optim\n",
    "import pytorch_lightning as pl\n",
    "from torch.utils.data import Dataset, DataLoader\n",
    "from pytorch_lightning import Trainer\n",
    "from datetime import datetime\n",
    "# ----------------------------------------------\n",
    "\n",
    "# ----------------------------------------------\n",
    "# 📦 Config (keep your original structure)\n",
    "config = {\n",
    "    \"data\": {\n",
    "        \"path\": data_path,\n",
    "        \"input_vars\": [\"CO2\", \"SO2\", \"CH4\", \"BC\", \"rsdt\"],\n",
    "        \"output_vars\": [\"tas\", \"pr\"],\n",
    "        \"target_member_id\": 0,\n",
    "        \"train_ssps\": [\"ssp126\", \"ssp370\", \"ssp585\"],\n",
    "        \"test_ssp\": \"ssp245\",\n",
    "        \"test_months\": 360,\n",
    "        \"batch_size\": 64,\n",
    "        \"num_workers\": 0, # Previously 4\n",
    "    },\n",
    "    \"model\": {\n",
    "        \"type\": \"simple_cnn\",\n",
    "        \"kernel_size\": 3,\n",
    "        \"init_dim\": 64,\n",
    "        \"depth\": 4,\n",
    "        \"dropout_rate\": 0.1,\n",
    "    },\n",
    "    \"training\": {\n",
    "        \"lr\": 1e-3,\n",
    "    },\n",
    "    \"trainer\": {\n",
    "        \"max_epochs\": 10,\n",
    "        \"accelerator\": \"gpu\",\n",
    "        \"devices\": \"1\",\n",
    "        \"precision\": 32,\n",
    "        \"deterministic\": True,\n",
    "        \"num_sanity_val_steps\": 0,\n",
    "    },\n",
    "    \"seed\": 42,\n",
    "}\n",
    "pl.seed_everything(config[\"seed\"])\n",
    "# ----------------------------------------------\n",
    "\n",
    "# ----------------------------------------------\n",
    "# Helper: Latitude Weights\n",
    "def get_lat_weights(lat_vals):\n",
    "    lat_rad = np.deg2rad(lat_vals)\n",
    "    weights = np.cos(lat_rad)\n",
    "    return weights / np.mean(weights)"
   ]
  },
  {
   "cell_type": "code",
   "execution_count": 4,
   "id": "97c3aa57",
   "metadata": {},
   "outputs": [],
   "source": [
    "def get_lat_weights(latitude_values):\n",
    "    lat_rad = np.deg2rad(latitude_values)\n",
    "    weights = np.cos(lat_rad)\n",
    "    return weights / np.mean(weights)"
   ]
  },
  {
   "cell_type": "code",
   "execution_count": 5,
   "id": "50c51e15",
   "metadata": {},
   "outputs": [],
   "source": [
    "class ResidualBlock(nn.Module):\n",
    "    def __init__(self, in_channels, out_channels, kernel_size=3, stride=1):\n",
    "        super().__init__()\n",
    "        self.conv1 = nn.Conv2d(in_channels, out_channels, kernel_size, stride=stride, padding=kernel_size // 2)\n",
    "        self.bn1 = nn.BatchNorm2d(out_channels)\n",
    "        self.relu = nn.ReLU(inplace=True)\n",
    "        self.conv2 = nn.Conv2d(out_channels, out_channels, kernel_size, padding=kernel_size // 2)\n",
    "        self.bn2 = nn.BatchNorm2d(out_channels)\n",
    "        self.skip = nn.Sequential()\n",
    "        if stride != 1 or in_channels != out_channels:\n",
    "            self.skip = nn.Sequential(\n",
    "                nn.Conv2d(in_channels, out_channels, kernel_size=1, stride=stride), nn.BatchNorm2d(out_channels)\n",
    "            )\n",
    "\n",
    "    def forward(self, x):\n",
    "        identity = x\n",
    "        out = self.relu(self.bn1(self.conv1(x)))\n",
    "        out = self.bn2(self.conv2(out))\n",
    "        out += self.skip(identity)\n",
    "        return self.relu(out)\n",
    "\n",
    "class SimpleCNN(nn.Module):\n",
    "    def __init__(self, n_input_channels, n_output_channels, kernel_size=3, init_dim=64, depth=4, dropout_rate=0.2):\n",
    "        super().__init__()\n",
    "        self.initial = nn.Sequential(\n",
    "            nn.Conv2d(n_input_channels, init_dim, kernel_size=kernel_size, padding=kernel_size // 2),\n",
    "            nn.BatchNorm2d(init_dim),\n",
    "            nn.ReLU(inplace=True),\n",
    "        )\n",
    "        self.res_blocks = nn.ModuleList()\n",
    "        current_dim = init_dim\n",
    "        for i in range(depth):\n",
    "            out_dim = current_dim * 2 if i < depth - 1 else current_dim\n",
    "            self.res_blocks.append(ResidualBlock(current_dim, out_dim))\n",
    "            if i < depth - 1:\n",
    "                current_dim *= 2\n",
    "        self.dropout = nn.Dropout2d(dropout_rate)\n",
    "        self.final = nn.Sequential(\n",
    "            nn.Conv2d(current_dim, current_dim // 2, kernel_size=kernel_size, padding=kernel_size // 2),\n",
    "            nn.BatchNorm2d(current_dim // 2),\n",
    "            nn.ReLU(inplace=True),\n",
    "            nn.Conv2d(current_dim // 2, n_output_channels, kernel_size=1),\n",
    "        )\n",
    "\n",
    "    def forward(self, x):\n",
    "        x = self.initial(x)\n",
    "        for res_block in self.res_blocks:\n",
    "            x = res_block(x)\n",
    "        return self.final(self.dropout(x))\n"
   ]
  },
  {
   "cell_type": "code",
   "execution_count": 6,
   "id": "0d94a75b",
   "metadata": {},
   "outputs": [],
   "source": [
    "class Normalizer:\n",
    "    def __init__(self):\n",
    "        self.mean_in, self.std_in = None, None\n",
    "        self.mean_out, self.std_out = None, None\n",
    "\n",
    "    def set_input_statistics(self, mean, std):\n",
    "        self.mean_in = mean\n",
    "        self.std_in = std\n",
    "\n",
    "    def set_output_statistics(self, mean, std):\n",
    "        self.mean_out = mean\n",
    "        self.std_out = std\n",
    "\n",
    "    def normalize(self, data, data_type):\n",
    "        if data_type == \"input\":\n",
    "            return (data - self.mean_in) / self.std_in\n",
    "        elif data_type == \"output\":\n",
    "            return (data - self.mean_out) / self.std_out\n",
    "\n",
    "    def inverse_transform_output(self, data):\n",
    "        return data * self.std_out + self.mean_out\n"
   ]
  },
  {
   "cell_type": "code",
   "execution_count": 7,
   "id": "1f7380b6",
   "metadata": {},
   "outputs": [],
   "source": [
    "class ClimateDataset(Dataset):\n",
    "    def __init__(self, inputs_dask, outputs_dask, output_is_normalized=True):\n",
    "        self.size = inputs_dask.shape[0]\n",
    "        print(f\"Creating dataset with {self.size} samples...\")\n",
    "\n",
    "        inputs_np = inputs_dask.compute()\n",
    "        outputs_np = outputs_dask.compute()\n",
    "\n",
    "        self.inputs = torch.from_numpy(inputs_np).float()\n",
    "        self.outputs = torch.from_numpy(outputs_np).float()\n",
    "\n",
    "        if torch.isnan(self.inputs).any() or torch.isnan(self.outputs).any():\n",
    "            raise ValueError(\"NaNs found in dataset\")\n",
    "\n",
    "    def __len__(self):\n",
    "        return self.size\n",
    "\n",
    "    def __getitem__(self, idx):\n",
    "        return self.inputs[idx], self.outputs[idx]\n",
    "\n",
    "\n",
    "class ClimateDataModule(pl.LightningDataModule):\n",
    "    def __init__(\n",
    "        self,\n",
    "        path,\n",
    "        input_vars,\n",
    "        output_vars,\n",
    "        train_ssps,\n",
    "        test_ssp,\n",
    "        target_member_id,\n",
    "        # val_split=0.1,\n",
    "        test_months=360,\n",
    "        batch_size=32,\n",
    "        num_workers=0,\n",
    "        seed=42,\n",
    "    ):\n",
    "        super().__init__()\n",
    "        self.path = path\n",
    "        self.input_vars = input_vars\n",
    "        self.output_vars = output_vars\n",
    "        self.train_ssps = train_ssps\n",
    "        self.test_ssp = test_ssp\n",
    "        self.target_member_id = target_member_id\n",
    "        # self.val_split = val_split\n",
    "        self.test_months = test_months\n",
    "        self.batch_size = batch_size\n",
    "        self.num_workers = num_workers\n",
    "        self.seed = seed\n",
    "        self.normalizer = Normalizer()\n",
    "\n",
    "    def prepare_data(self):\n",
    "        assert os.path.exists(self.path), f\"Data path not found: {self.path}\"\n",
    "\n",
    "    def setup(self, stage=None):\n",
    "        ds = xr.open_zarr(self.path, consolidated=False, chunks={\"time\": 24})\n",
    "        spatial_template = ds[\"rsdt\"].isel(time=0, ssp=0, drop=True)\n",
    "\n",
    "        def load_ssp(ssp):\n",
    "            input_dask, output_dask = [], []\n",
    "            for var in self.input_vars:\n",
    "                da_var = ds[var].sel(ssp=ssp)\n",
    "                if \"latitude\" in da_var.dims:\n",
    "                    da_var = da_var.rename({\"latitude\": \"y\", \"longitude\": \"x\"})\n",
    "                if \"member_id\" in da_var.dims:\n",
    "                    da_var = da_var.sel(member_id=self.target_member_id)\n",
    "                if set(da_var.dims) == {\"time\"}:\n",
    "                    da_var = da_var.broadcast_like(spatial_template).transpose(\"time\", \"y\", \"x\")\n",
    "                input_dask.append(da_var.data)\n",
    "\n",
    "            for var in self.output_vars:\n",
    "                da_out = ds[var].sel(ssp=ssp, member_id=self.target_member_id)\n",
    "                if \"latitude\" in da_out.dims:\n",
    "                    da_out = da_out.rename({\"latitude\": \"y\", \"longitude\": \"x\"})\n",
    "                output_dask.append(da_out.data)\n",
    "\n",
    "            return da.stack(input_dask, axis=1), da.stack(output_dask, axis=1)\n",
    "\n",
    "        train_input, train_output, val_input, val_output = [], [], None, None\n",
    "\n",
    "        for ssp in self.train_ssps:\n",
    "            x, y = load_ssp(ssp)\n",
    "            if ssp == \"ssp370\":\n",
    "                val_input = x[-self.test_months:]\n",
    "                val_output = y[-self.test_months:]\n",
    "                train_input.append(x[:-self.test_months])\n",
    "                train_output.append(y[:-self.test_months])\n",
    "            else:\n",
    "                train_input.append(x)\n",
    "                train_output.append(y)\n",
    "\n",
    "        train_input = da.concatenate(train_input, axis=0)\n",
    "        train_output = da.concatenate(train_output, axis=0)\n",
    "\n",
    "        self.normalizer.set_input_statistics(\n",
    "            mean=da.nanmean(train_input, axis=(0, 2, 3), keepdims=True).compute(),\n",
    "            std=da.nanstd(train_input, axis=(0, 2, 3), keepdims=True).compute(),\n",
    "        )\n",
    "        self.normalizer.set_output_statistics(\n",
    "            mean=da.nanmean(train_output, axis=(0, 2, 3), keepdims=True).compute(),\n",
    "            std=da.nanstd(train_output, axis=(0, 2, 3), keepdims=True).compute(),\n",
    "        )\n",
    "\n",
    "        train_input_norm = self.normalizer.normalize(train_input, \"input\")\n",
    "        train_output_norm = self.normalizer.normalize(train_output, \"output\")\n",
    "        val_input_norm = self.normalizer.normalize(val_input, \"input\")\n",
    "        val_output_norm = self.normalizer.normalize(val_output, \"output\")\n",
    "\n",
    "        test_input, test_output = load_ssp(self.test_ssp)\n",
    "        test_input = test_input[-self.test_months:]\n",
    "        test_output = test_output[-self.test_months:]\n",
    "        test_input_norm = self.normalizer.normalize(test_input, \"input\")\n",
    "\n",
    "        self.train_dataset = ClimateDataset(train_input_norm, train_output_norm)\n",
    "        self.val_dataset = ClimateDataset(val_input_norm, val_output_norm)\n",
    "        self.test_dataset = ClimateDataset(test_input_norm, test_output, output_is_normalized=False)\n",
    "\n",
    "        self.lat = spatial_template.y.values\n",
    "        self.lon = spatial_template.x.values\n",
    "        self.area_weights = xr.DataArray(get_lat_weights(self.lat), dims=[\"y\"], coords={\"y\": self.lat})\n",
    "\n",
    "    def train_dataloader(self):\n",
    "        return DataLoader(self.train_dataset, batch_size=self.batch_size, shuffle=True,\n",
    "                          num_workers=self.num_workers, pin_memory=True)\n",
    "\n",
    "    def val_dataloader(self):\n",
    "        return DataLoader(self.val_dataset, batch_size=self.batch_size, shuffle=False,\n",
    "                          num_workers=self.num_workers, pin_memory=True)\n",
    "\n",
    "    def test_dataloader(self):\n",
    "        return DataLoader(self.test_dataset, batch_size=self.batch_size, shuffle=False,\n",
    "                          num_workers=self.num_workers, pin_memory=True)\n",
    "\n",
    "    def get_lat_weights(self):\n",
    "        return self.area_weights\n",
    "\n",
    "    def get_coords(self):\n",
    "        return self.lat, self.lon"
   ]
  },
  {
   "cell_type": "code",
   "execution_count": 8,
   "id": "9c884315",
   "metadata": {},
   "outputs": [],
   "source": [
    "import pandas as pd\n",
    "\n",
    "class ClimateEmulationModule(pl.LightningModule):\n",
    "    def __init__(self, model, learning_rate=1e-4):\n",
    "        super().__init__()\n",
    "        self.model = model\n",
    "        self.save_hyperparameters(ignore=['model']) # Save all hyperparameters except the model to self.hparams.<param_name>\n",
    "        self.criterion = nn.MSELoss()\n",
    "        self.normalizer = None\n",
    "        self.val_preds, self.val_targets = [], []\n",
    "        self.test_preds, self.test_targets = [], []\n",
    "\n",
    "    def forward(self, x):\n",
    "        return self.model(x)\n",
    "\n",
    "    def on_fit_start(self):\n",
    "        self.normalizer = self.trainer.datamodule.normalizer  # Get the normalizer from the datamodule (see above)\n",
    "\n",
    "    def training_step(self, batch, batch_idx):\n",
    "        x, y = batch # Unpack inputs and targets (this is the output of the _getitem_ method in the Dataset above)\n",
    "        y_hat = self(x)   # Forward pass\n",
    "        loss = self.criterion(y_hat, y)  # Calculate loss\n",
    "        self.log(\"train/loss\", loss)  # Log loss for tracking\n",
    "        return loss\n",
    "\n",
    "    def validation_step(self, batch, batch_idx):\n",
    "        x, y = batch\n",
    "        y_hat = self(x)\n",
    "        loss = self.criterion(y_hat, y)\n",
    "        self.log(\"val/loss\", loss)\n",
    "\n",
    "        y_hat_np = self.normalizer.inverse_transform_output(y_hat.detach().cpu().numpy())\n",
    "        y_np = self.normalizer.inverse_transform_output(y.detach().cpu().numpy())\n",
    "        self.val_preds.append(y_hat_np)\n",
    "        self.val_targets.append(y_np)\n",
    "\n",
    "        return loss\n",
    "\n",
    "    def on_validation_epoch_end(self):\n",
    "        # Concatenate all predictions and ground truths from each val step/batch into one array\n",
    "        preds = np.concatenate(self.val_preds, axis=0)\n",
    "        trues = np.concatenate(self.val_targets, axis=0)\n",
    "        self._evaluate(preds, trues, phase=\"val\")\n",
    "        np.save(\"val_preds.npy\", preds)\n",
    "        np.save(\"val_trues.npy\", trues)\n",
    "        self.val_preds.clear()\n",
    "        self.val_targets.clear()\n",
    "\n",
    "    def test_step(self, batch, batch_idx):\n",
    "        x, y = batch\n",
    "        y_hat = self(x)\n",
    "        y_hat_np = self.normalizer.inverse_transform_output(y_hat.detach().cpu().numpy())\n",
    "        y_np = y.detach().cpu().numpy()\n",
    "        self.test_preds.append(y_hat_np)\n",
    "        self.test_targets.append(y_np)\n",
    "\n",
    "    def on_test_epoch_end(self):\n",
    "        # Concatenate all predictions and ground truths from each test step/batch into one array\n",
    "        preds = np.concatenate(self.test_preds, axis=0)\n",
    "        trues = np.concatenate(self.test_targets, axis=0)\n",
    "        self._evaluate(preds, trues, phase=\"test\")\n",
    "        self._save_submission(preds)\n",
    "        self.test_preds.clear()\n",
    "        self.test_targets.clear()\n",
    "\n",
    "    def configure_optimizers(self):\n",
    "        return optim.Adam(self.parameters(), lr=self.hparams.learning_rate)\n",
    "\n",
    "    def _evaluate(self, preds, trues, phase=\"val\"):\n",
    "        datamodule = self.trainer.datamodule\n",
    "        area_weights = datamodule.get_lat_weights()\n",
    "        lat, lon = datamodule.get_coords()\n",
    "        time = np.arange(preds.shape[0])\n",
    "        output_vars = datamodule.output_vars\n",
    "\n",
    "        for i, var in enumerate(output_vars):\n",
    "            p = preds[:, i]\n",
    "            t = trues[:, i]\n",
    "            p_xr = xr.DataArray(p, dims=[\"time\", \"y\", \"x\"], coords={\"time\": time, \"y\": lat, \"x\": lon})\n",
    "            t_xr = xr.DataArray(t, dims=[\"time\", \"y\", \"x\"], coords={\"time\": time, \"y\": lat, \"x\": lon})\n",
    "\n",
    "            # RMSE\n",
    "            rmse = np.sqrt(((p_xr - t_xr) ** 2).weighted(area_weights).mean((\"time\", \"y\", \"x\")).item())\n",
    "            # RMSE of time-mean\n",
    "            mean_rmse = np.sqrt(((p_xr.mean(\"time\") - t_xr.mean(\"time\")) ** 2).weighted(area_weights).mean((\"y\", \"x\")).item())\n",
    "            # MAE of time-stddev\n",
    "            std_mae = np.abs(p_xr.std(\"time\") - t_xr.std(\"time\")).weighted(area_weights).mean((\"y\", \"x\")).item()\n",
    "\n",
    "            print(f\"[{phase.upper()}] {var}: RMSE={rmse:.4f}, Time-Mean RMSE={mean_rmse:.4f}, Time-Stddev MAE={std_mae:.4f}\")\n",
    "            self.log_dict({\n",
    "                f\"{phase}/{var}/rmse\": rmse,\n",
    "                f\"{phase}/{var}/time_mean_rmse\": mean_rmse,\n",
    "                f\"{phase}/{var}/time_std_mae\": std_mae,\n",
    "            })\n",
    "\n",
    "    def _save_submission(self, predictions):\n",
    "        datamodule = self.trainer.datamodule\n",
    "        lat, lon = datamodule.get_coords()\n",
    "        output_vars = datamodule.output_vars\n",
    "        time = np.arange(predictions.shape[0])\n",
    "\n",
    "        rows = []\n",
    "        for t_idx, t in enumerate(time):\n",
    "            for var_idx, var in enumerate(output_vars):\n",
    "                for y_idx, y in enumerate(lat):\n",
    "                    for x_idx, x in enumerate(lon):\n",
    "                        row_id = f\"t{t_idx:03d}_{var}_{y:.2f}_{x:.2f}\"\n",
    "                        pred = predictions[t_idx, var_idx, y_idx, x_idx]\n",
    "                        rows.append({\"ID\": row_id, \"Prediction\": pred})\n",
    "\n",
    "        df = pd.DataFrame(rows)\n",
    "        os.makedirs(\"submissions\", exist_ok=True)\n",
    "        filepath = f\"submissions/kaggle_submission_{datetime.now().strftime('%Y%m%d_%H%M%S')}.csv\"\n",
    "        df.to_csv(filepath, index=False)\n",
    "        print(f\"✅ Submission saved to: {filepath}\")"
   ]
  },
  {
   "cell_type": "code",
   "execution_count": null,
   "id": "8280254a",
   "metadata": {},
   "outputs": [],
   "source": []
  },
  {
   "cell_type": "code",
   "execution_count": null,
   "id": "e5351bbe",
   "metadata": {},
   "outputs": [],
   "source": []
  },
  {
   "cell_type": "code",
   "execution_count": null,
   "id": "116862f6",
   "metadata": {},
   "outputs": [],
   "source": []
  },
  {
   "cell_type": "code",
   "execution_count": null,
   "id": "a09a0168",
   "metadata": {},
   "outputs": [],
   "source": []
  },
  {
   "cell_type": "code",
   "execution_count": null,
   "id": "d68d38ca",
   "metadata": {},
   "outputs": [],
   "source": []
  },
  {
   "cell_type": "code",
   "execution_count": 9,
   "id": "d7052a38",
   "metadata": {},
   "outputs": [
    {
     "name": "stdout",
     "output_type": "stream",
     "text": [
      "Creating dataset with 2703 samples...\n",
      "Creating dataset with 360 samples...\n",
      "Creating dataset with 360 samples...\n"
     ]
    }
   ],
   "source": [
    "# ----------------------------------------------\n",
    "# 🧑‍💻 Run the Full Pipeline\n",
    "# Load data\n",
    "datamodule = ClimateDataModule(\n",
    "    path=config[\"data\"][\"path\"],\n",
    "    input_vars=config[\"data\"][\"input_vars\"],\n",
    "    output_vars=config[\"data\"][\"output_vars\"],\n",
    "    train_ssps=config[\"data\"][\"train_ssps\"],\n",
    "    test_ssp=config[\"data\"][\"test_ssp\"],\n",
    "    target_member_id=config[\"data\"][\"target_member_id\"],\n",
    "    test_months=config[\"data\"][\"test_months\"],\n",
    "    batch_size=config[\"data\"][\"batch_size\"],\n",
    "    num_workers=config[\"data\"][\"num_workers\"],\n",
    "    seed=config[\"seed\"]\n",
    ")\n",
    "\n",
    "datamodule.prepare_data()\n",
    "datamodule.setup()\n",
    "\n",
    "# Initialize model\n",
    "model = SimpleCNN(\n",
    "    n_input_channels=len(config[\"data\"][\"input_vars\"]),\n",
    "    n_output_channels=len(config[\"data\"][\"output_vars\"]),\n",
    "    kernel_size=config[\"model\"][\"kernel_size\"],\n",
    "    init_dim=config[\"model\"][\"init_dim\"],\n",
    "    depth=config[\"model\"][\"depth\"],\n",
    "    dropout_rate=config[\"model\"][\"dropout_rate\"]\n",
    ")\n",
    "\n",
    "# Lightning wrapper\n",
    "climate_model = ClimateEmulationModule(\n",
    "    model=model,\n",
    "    learning_rate=config[\"training\"][\"lr\"]\n",
    ")"
   ]
  },
  {
   "cell_type": "code",
   "execution_count": 10,
   "id": "69a2fade",
   "metadata": {},
   "outputs": [
    {
     "name": "stderr",
     "output_type": "stream",
     "text": [
      "Using default `ModelCheckpoint`. Consider installing `litmodels` package to enable `LitModelCheckpoint` for automatic upload to the Lightning model registry.\n",
      "GPU available: True (cuda), used: True\n",
      "TPU available: False, using: 0 TPU cores\n",
      "HPU available: False, using: 0 HPUs\n",
      "You are using a CUDA device ('NVIDIA GeForce RTX 3070 Ti Laptop GPU') that has Tensor Cores. To properly utilize them, you should set `torch.set_float32_matmul_precision('medium' | 'high')` which will trade-off precision for performance. For more details, read https://pytorch.org/docs/stable/generated/torch.set_float32_matmul_precision.html#torch.set_float32_matmul_precision\n"
     ]
    },
    {
     "name": "stdout",
     "output_type": "stream",
     "text": [
      "Creating dataset with 2703 samples...\n",
      "Creating dataset with 360 samples...\n",
      "Creating dataset with 360 samples...\n"
     ]
    },
    {
     "name": "stderr",
     "output_type": "stream",
     "text": [
      "LOCAL_RANK: 0 - CUDA_VISIBLE_DEVICES: [0]\n",
      "\n",
      "  | Name      | Type      | Params | Mode \n",
      "------------------------------------------------\n",
      "0 | model     | SimpleCNN | 10.7 M | train\n",
      "1 | criterion | MSELoss   | 0      | train\n",
      "------------------------------------------------\n",
      "10.7 M    Trainable params\n",
      "0         Non-trainable params\n",
      "10.7 M    Total params\n",
      "42.923    Total estimated model params size (MB)\n",
      "47        Modules in train mode\n",
      "0         Modules in eval mode\n",
      "C:\\Users\\20187\\anaconda3\\Lib\\site-packages\\pytorch_lightning\\trainer\\connectors\\data_connector.py:425: The 'train_dataloader' does not have many workers which may be a bottleneck. Consider increasing the value of the `num_workers` argument` to `num_workers=19` in the `DataLoader` to improve performance.\n",
      "C:\\Users\\20187\\anaconda3\\Lib\\site-packages\\pytorch_lightning\\loops\\fit_loop.py:310: The number of training batches (43) is smaller than the logging interval Trainer(log_every_n_steps=50). Set a lower value for log_every_n_steps if you want to see logs for the training epoch.\n",
      "C:\\Users\\20187\\anaconda3\\Lib\\site-packages\\pytorch_lightning\\trainer\\connectors\\data_connector.py:425: The 'val_dataloader' does not have many workers which may be a bottleneck. Consider increasing the value of the `num_workers` argument` to `num_workers=19` in the `DataLoader` to improve performance.\n"
     ]
    },
    {
     "data": {
      "application/vnd.jupyter.widget-view+json": {
       "model_id": "119109ea58624ec2ae13e5d605adc81a",
       "version_major": 2,
       "version_minor": 0
      },
      "text/plain": [
       "Training: |                                                                                      | 0/? [00:00<…"
      ]
     },
     "metadata": {},
     "output_type": "display_data"
    },
    {
     "data": {
      "application/vnd.jupyter.widget-view+json": {
       "model_id": "",
       "version_major": 2,
       "version_minor": 0
      },
      "text/plain": [
       "Validation: |                                                                                    | 0/? [00:00<…"
      ]
     },
     "metadata": {},
     "output_type": "display_data"
    },
    {
     "name": "stdout",
     "output_type": "stream",
     "text": [
      "[VAL] tas: RMSE=9.4835, Time-Mean RMSE=7.3192, Time-Stddev MAE=3.0782\n",
      "[VAL] pr: RMSE=3.4197, Time-Mean RMSE=1.9932, Time-Stddev MAE=1.7016\n"
     ]
    },
    {
     "data": {
      "application/vnd.jupyter.widget-view+json": {
       "model_id": "",
       "version_major": 2,
       "version_minor": 0
      },
      "text/plain": [
       "Validation: |                                                                                    | 0/? [00:00<…"
      ]
     },
     "metadata": {},
     "output_type": "display_data"
    },
    {
     "name": "stdout",
     "output_type": "stream",
     "text": [
      "[VAL] tas: RMSE=7.8612, Time-Mean RMSE=6.1371, Time-Stddev MAE=1.9981\n",
      "[VAL] pr: RMSE=3.2736, Time-Mean RMSE=1.7712, Time-Stddev MAE=1.7356\n"
     ]
    },
    {
     "data": {
      "application/vnd.jupyter.widget-view+json": {
       "model_id": "",
       "version_major": 2,
       "version_minor": 0
      },
      "text/plain": [
       "Validation: |                                                                                    | 0/? [00:00<…"
      ]
     },
     "metadata": {},
     "output_type": "display_data"
    },
    {
     "name": "stdout",
     "output_type": "stream",
     "text": [
      "[VAL] tas: RMSE=6.6655, Time-Mean RMSE=5.0392, Time-Stddev MAE=1.8081\n",
      "[VAL] pr: RMSE=3.1979, Time-Mean RMSE=1.6800, Time-Stddev MAE=1.6009\n"
     ]
    },
    {
     "data": {
      "application/vnd.jupyter.widget-view+json": {
       "model_id": "",
       "version_major": 2,
       "version_minor": 0
      },
      "text/plain": [
       "Validation: |                                                                                    | 0/? [00:00<…"
      ]
     },
     "metadata": {},
     "output_type": "display_data"
    },
    {
     "name": "stdout",
     "output_type": "stream",
     "text": [
      "[VAL] tas: RMSE=5.9263, Time-Mean RMSE=4.3676, Time-Stddev MAE=1.6535\n",
      "[VAL] pr: RMSE=3.0644, Time-Mean RMSE=1.4773, Time-Stddev MAE=1.5070\n"
     ]
    },
    {
     "data": {
      "application/vnd.jupyter.widget-view+json": {
       "model_id": "",
       "version_major": 2,
       "version_minor": 0
      },
      "text/plain": [
       "Validation: |                                                                                    | 0/? [00:00<…"
      ]
     },
     "metadata": {},
     "output_type": "display_data"
    },
    {
     "name": "stdout",
     "output_type": "stream",
     "text": [
      "[VAL] tas: RMSE=5.8199, Time-Mean RMSE=4.1755, Time-Stddev MAE=1.6026\n",
      "[VAL] pr: RMSE=2.9271, Time-Mean RMSE=1.2373, Time-Stddev MAE=1.5186\n"
     ]
    },
    {
     "data": {
      "application/vnd.jupyter.widget-view+json": {
       "model_id": "",
       "version_major": 2,
       "version_minor": 0
      },
      "text/plain": [
       "Validation: |                                                                                    | 0/? [00:00<…"
      ]
     },
     "metadata": {},
     "output_type": "display_data"
    },
    {
     "name": "stdout",
     "output_type": "stream",
     "text": [
      "[VAL] tas: RMSE=5.1446, Time-Mean RMSE=3.4846, Time-Stddev MAE=1.3581\n",
      "[VAL] pr: RMSE=2.8522, Time-Mean RMSE=1.0914, Time-Stddev MAE=1.3420\n"
     ]
    },
    {
     "data": {
      "application/vnd.jupyter.widget-view+json": {
       "model_id": "",
       "version_major": 2,
       "version_minor": 0
      },
      "text/plain": [
       "Validation: |                                                                                    | 0/? [00:00<…"
      ]
     },
     "metadata": {},
     "output_type": "display_data"
    },
    {
     "name": "stdout",
     "output_type": "stream",
     "text": [
      "[VAL] tas: RMSE=5.0710, Time-Mean RMSE=3.3928, Time-Stddev MAE=1.5201\n",
      "[VAL] pr: RMSE=2.7635, Time-Mean RMSE=0.9229, Time-Stddev MAE=1.4003\n"
     ]
    },
    {
     "data": {
      "application/vnd.jupyter.widget-view+json": {
       "model_id": "",
       "version_major": 2,
       "version_minor": 0
      },
      "text/plain": [
       "Validation: |                                                                                    | 0/? [00:00<…"
      ]
     },
     "metadata": {},
     "output_type": "display_data"
    },
    {
     "name": "stdout",
     "output_type": "stream",
     "text": [
      "[VAL] tas: RMSE=4.9516, Time-Mean RMSE=3.4845, Time-Stddev MAE=1.3517\n",
      "[VAL] pr: RMSE=2.7266, Time-Mean RMSE=0.9171, Time-Stddev MAE=1.4063\n"
     ]
    },
    {
     "data": {
      "application/vnd.jupyter.widget-view+json": {
       "model_id": "",
       "version_major": 2,
       "version_minor": 0
      },
      "text/plain": [
       "Validation: |                                                                                    | 0/? [00:00<…"
      ]
     },
     "metadata": {},
     "output_type": "display_data"
    },
    {
     "name": "stdout",
     "output_type": "stream",
     "text": [
      "[VAL] tas: RMSE=4.3921, Time-Mean RMSE=2.9801, Time-Stddev MAE=1.0870\n",
      "[VAL] pr: RMSE=2.7542, Time-Mean RMSE=1.0023, Time-Stddev MAE=1.4704\n"
     ]
    },
    {
     "data": {
      "application/vnd.jupyter.widget-view+json": {
       "model_id": "",
       "version_major": 2,
       "version_minor": 0
      },
      "text/plain": [
       "Validation: |                                                                                    | 0/? [00:00<…"
      ]
     },
     "metadata": {},
     "output_type": "display_data"
    },
    {
     "name": "stdout",
     "output_type": "stream",
     "text": [
      "[VAL] tas: RMSE=4.6929, Time-Mean RMSE=3.4156, Time-Stddev MAE=1.1408\n",
      "[VAL] pr: RMSE=2.6764, Time-Mean RMSE=0.8260, Time-Stddev MAE=1.4429\n"
     ]
    },
    {
     "name": "stderr",
     "output_type": "stream",
     "text": [
      "`Trainer.fit` stopped: `max_epochs=10` reached.\n"
     ]
    }
   ],
   "source": [
    "# Train\n",
    "trainer = Trainer(**config[\"trainer\"])\n",
    "trainer.fit(climate_model, datamodule=datamodule)"
   ]
  },
  {
   "cell_type": "code",
   "execution_count": null,
   "id": "a83491a1",
   "metadata": {},
   "outputs": [],
   "source": [
    "config[\"trainer\"][\"max_epochs\"] = 20"
   ]
  },
  {
   "cell_type": "code",
   "execution_count": 16,
   "id": "bbbb78aa",
   "metadata": {},
   "outputs": [],
   "source": [
    "# Save model checkpoint manually after training completes\n",
    "trainer.save_checkpoint(\"climate_model_epoch10.ckpt\")"
   ]
  },
  {
   "cell_type": "code",
   "execution_count": null,
   "id": "b48e3c39",
   "metadata": {},
   "outputs": [],
   "source": []
  },
  {
   "cell_type": "code",
   "execution_count": 17,
   "id": "f3ae6320",
   "metadata": {
    "scrolled": true
   },
   "outputs": [
    {
     "name": "stderr",
     "output_type": "stream",
     "text": [
      "Using default `ModelCheckpoint`. Consider installing `litmodels` package to enable `LitModelCheckpoint` for automatic upload to the Lightning model registry.\n",
      "GPU available: True (cuda), used: True\n",
      "TPU available: False, using: 0 TPU cores\n",
      "HPU available: False, using: 0 HPUs\n"
     ]
    },
    {
     "name": "stdout",
     "output_type": "stream",
     "text": [
      "Creating dataset with 2703 samples...\n",
      "Creating dataset with 360 samples...\n",
      "Creating dataset with 360 samples...\n"
     ]
    },
    {
     "name": "stderr",
     "output_type": "stream",
     "text": [
      "LOCAL_RANK: 0 - CUDA_VISIBLE_DEVICES: [0]\n",
      "\n",
      "  | Name      | Type      | Params | Mode \n",
      "------------------------------------------------\n",
      "0 | model     | SimpleCNN | 10.7 M | train\n",
      "1 | criterion | MSELoss   | 0      | train\n",
      "------------------------------------------------\n",
      "10.7 M    Trainable params\n",
      "0         Non-trainable params\n",
      "10.7 M    Total params\n",
      "42.923    Total estimated model params size (MB)\n",
      "47        Modules in train mode\n",
      "0         Modules in eval mode\n",
      "C:\\Users\\20187\\anaconda3\\Lib\\site-packages\\pytorch_lightning\\trainer\\connectors\\data_connector.py:425: The 'train_dataloader' does not have many workers which may be a bottleneck. Consider increasing the value of the `num_workers` argument` to `num_workers=19` in the `DataLoader` to improve performance.\n",
      "C:\\Users\\20187\\anaconda3\\Lib\\site-packages\\pytorch_lightning\\loops\\fit_loop.py:310: The number of training batches (43) is smaller than the logging interval Trainer(log_every_n_steps=50). Set a lower value for log_every_n_steps if you want to see logs for the training epoch.\n",
      "C:\\Users\\20187\\anaconda3\\Lib\\site-packages\\pytorch_lightning\\trainer\\connectors\\data_connector.py:425: The 'val_dataloader' does not have many workers which may be a bottleneck. Consider increasing the value of the `num_workers` argument` to `num_workers=19` in the `DataLoader` to improve performance.\n"
     ]
    },
    {
     "data": {
      "application/vnd.jupyter.widget-view+json": {
       "model_id": "63789c40d6f946aa93a312ae4445d2a7",
       "version_major": 2,
       "version_minor": 0
      },
      "text/plain": [
       "Training: |                                                                                      | 0/? [00:00<…"
      ]
     },
     "metadata": {},
     "output_type": "display_data"
    },
    {
     "data": {
      "application/vnd.jupyter.widget-view+json": {
       "model_id": "",
       "version_major": 2,
       "version_minor": 0
      },
      "text/plain": [
       "Validation: |                                                                                    | 0/? [00:00<…"
      ]
     },
     "metadata": {},
     "output_type": "display_data"
    },
    {
     "name": "stdout",
     "output_type": "stream",
     "text": [
      "[VAL] tas: RMSE=5.2995, Time-Mean RMSE=3.7118, Time-Stddev MAE=1.2842\n",
      "[VAL] pr: RMSE=2.8293, Time-Mean RMSE=1.0736, Time-Stddev MAE=1.4355\n"
     ]
    },
    {
     "data": {
      "application/vnd.jupyter.widget-view+json": {
       "model_id": "",
       "version_major": 2,
       "version_minor": 0
      },
      "text/plain": [
       "Validation: |                                                                                    | 0/? [00:00<…"
      ]
     },
     "metadata": {},
     "output_type": "display_data"
    },
    {
     "name": "stdout",
     "output_type": "stream",
     "text": [
      "[VAL] tas: RMSE=4.6158, Time-Mean RMSE=3.0671, Time-Stddev MAE=1.1675\n",
      "[VAL] pr: RMSE=2.6788, Time-Mean RMSE=0.7902, Time-Stddev MAE=1.4446\n"
     ]
    },
    {
     "data": {
      "application/vnd.jupyter.widget-view+json": {
       "model_id": "",
       "version_major": 2,
       "version_minor": 0
      },
      "text/plain": [
       "Validation: |                                                                                    | 0/? [00:00<…"
      ]
     },
     "metadata": {},
     "output_type": "display_data"
    },
    {
     "name": "stdout",
     "output_type": "stream",
     "text": [
      "[VAL] tas: RMSE=4.5147, Time-Mean RMSE=3.2167, Time-Stddev MAE=1.0903\n",
      "[VAL] pr: RMSE=2.7177, Time-Mean RMSE=1.0077, Time-Stddev MAE=1.3835\n"
     ]
    },
    {
     "data": {
      "application/vnd.jupyter.widget-view+json": {
       "model_id": "",
       "version_major": 2,
       "version_minor": 0
      },
      "text/plain": [
       "Validation: |                                                                                    | 0/? [00:00<…"
      ]
     },
     "metadata": {},
     "output_type": "display_data"
    },
    {
     "name": "stdout",
     "output_type": "stream",
     "text": [
      "[VAL] tas: RMSE=4.1117, Time-Mean RMSE=2.7248, Time-Stddev MAE=1.1593\n",
      "[VAL] pr: RMSE=2.6382, Time-Mean RMSE=0.7531, Time-Stddev MAE=1.3411\n"
     ]
    },
    {
     "data": {
      "application/vnd.jupyter.widget-view+json": {
       "model_id": "",
       "version_major": 2,
       "version_minor": 0
      },
      "text/plain": [
       "Validation: |                                                                                    | 0/? [00:00<…"
      ]
     },
     "metadata": {},
     "output_type": "display_data"
    },
    {
     "name": "stdout",
     "output_type": "stream",
     "text": [
      "[VAL] tas: RMSE=4.0821, Time-Mean RMSE=2.8099, Time-Stddev MAE=0.9650\n",
      "[VAL] pr: RMSE=2.5322, Time-Mean RMSE=0.5713, Time-Stddev MAE=1.3248\n"
     ]
    },
    {
     "data": {
      "application/vnd.jupyter.widget-view+json": {
       "model_id": "",
       "version_major": 2,
       "version_minor": 0
      },
      "text/plain": [
       "Validation: |                                                                                    | 0/? [00:00<…"
      ]
     },
     "metadata": {},
     "output_type": "display_data"
    },
    {
     "name": "stdout",
     "output_type": "stream",
     "text": [
      "[VAL] tas: RMSE=4.2198, Time-Mean RMSE=2.9424, Time-Stddev MAE=0.8731\n",
      "[VAL] pr: RMSE=2.5987, Time-Mean RMSE=0.6974, Time-Stddev MAE=1.2595\n"
     ]
    },
    {
     "data": {
      "application/vnd.jupyter.widget-view+json": {
       "model_id": "",
       "version_major": 2,
       "version_minor": 0
      },
      "text/plain": [
       "Validation: |                                                                                    | 0/? [00:00<…"
      ]
     },
     "metadata": {},
     "output_type": "display_data"
    },
    {
     "name": "stdout",
     "output_type": "stream",
     "text": [
      "[VAL] tas: RMSE=4.1693, Time-Mean RMSE=3.0071, Time-Stddev MAE=0.9607\n",
      "[VAL] pr: RMSE=2.4939, Time-Mean RMSE=0.5126, Time-Stddev MAE=1.2583\n"
     ]
    },
    {
     "data": {
      "application/vnd.jupyter.widget-view+json": {
       "model_id": "",
       "version_major": 2,
       "version_minor": 0
      },
      "text/plain": [
       "Validation: |                                                                                    | 0/? [00:00<…"
      ]
     },
     "metadata": {},
     "output_type": "display_data"
    },
    {
     "name": "stdout",
     "output_type": "stream",
     "text": [
      "[VAL] tas: RMSE=4.4976, Time-Mean RMSE=3.3805, Time-Stddev MAE=0.9232\n",
      "[VAL] pr: RMSE=2.6091, Time-Mean RMSE=0.8692, Time-Stddev MAE=1.2478\n"
     ]
    },
    {
     "data": {
      "application/vnd.jupyter.widget-view+json": {
       "model_id": "",
       "version_major": 2,
       "version_minor": 0
      },
      "text/plain": [
       "Validation: |                                                                                    | 0/? [00:00<…"
      ]
     },
     "metadata": {},
     "output_type": "display_data"
    },
    {
     "name": "stdout",
     "output_type": "stream",
     "text": [
      "[VAL] tas: RMSE=3.9714, Time-Mean RMSE=2.7928, Time-Stddev MAE=0.7887\n",
      "[VAL] pr: RMSE=2.4664, Time-Mean RMSE=0.7345, Time-Stddev MAE=1.2620\n"
     ]
    },
    {
     "data": {
      "application/vnd.jupyter.widget-view+json": {
       "model_id": "",
       "version_major": 2,
       "version_minor": 0
      },
      "text/plain": [
       "Validation: |                                                                                    | 0/? [00:00<…"
      ]
     },
     "metadata": {},
     "output_type": "display_data"
    },
    {
     "name": "stdout",
     "output_type": "stream",
     "text": [
      "[VAL] tas: RMSE=3.5710, Time-Mean RMSE=2.2405, Time-Stddev MAE=0.8923\n",
      "[VAL] pr: RMSE=2.3706, Time-Mean RMSE=0.4875, Time-Stddev MAE=1.2256\n"
     ]
    },
    {
     "data": {
      "application/vnd.jupyter.widget-view+json": {
       "model_id": "",
       "version_major": 2,
       "version_minor": 0
      },
      "text/plain": [
       "Validation: |                                                                                    | 0/? [00:00<…"
      ]
     },
     "metadata": {},
     "output_type": "display_data"
    },
    {
     "name": "stdout",
     "output_type": "stream",
     "text": [
      "[VAL] tas: RMSE=3.3878, Time-Mean RMSE=1.9675, Time-Stddev MAE=0.9372\n",
      "[VAL] pr: RMSE=2.4677, Time-Mean RMSE=0.6806, Time-Stddev MAE=1.2070\n"
     ]
    },
    {
     "data": {
      "application/vnd.jupyter.widget-view+json": {
       "model_id": "",
       "version_major": 2,
       "version_minor": 0
      },
      "text/plain": [
       "Validation: |                                                                                    | 0/? [00:00<…"
      ]
     },
     "metadata": {},
     "output_type": "display_data"
    },
    {
     "name": "stdout",
     "output_type": "stream",
     "text": [
      "[VAL] tas: RMSE=3.1424, Time-Mean RMSE=1.6542, Time-Stddev MAE=0.6958\n",
      "[VAL] pr: RMSE=2.4637, Time-Mean RMSE=0.7807, Time-Stddev MAE=1.1849\n"
     ]
    },
    {
     "data": {
      "application/vnd.jupyter.widget-view+json": {
       "model_id": "",
       "version_major": 2,
       "version_minor": 0
      },
      "text/plain": [
       "Validation: |                                                                                    | 0/? [00:00<…"
      ]
     },
     "metadata": {},
     "output_type": "display_data"
    },
    {
     "name": "stdout",
     "output_type": "stream",
     "text": [
      "[VAL] tas: RMSE=2.9680, Time-Mean RMSE=1.5545, Time-Stddev MAE=0.6765\n",
      "[VAL] pr: RMSE=2.2741, Time-Mean RMSE=0.5375, Time-Stddev MAE=1.0756\n"
     ]
    },
    {
     "data": {
      "application/vnd.jupyter.widget-view+json": {
       "model_id": "",
       "version_major": 2,
       "version_minor": 0
      },
      "text/plain": [
       "Validation: |                                                                                    | 0/? [00:00<…"
      ]
     },
     "metadata": {},
     "output_type": "display_data"
    },
    {
     "name": "stdout",
     "output_type": "stream",
     "text": [
      "[VAL] tas: RMSE=3.2230, Time-Mean RMSE=2.0011, Time-Stddev MAE=1.0074\n",
      "[VAL] pr: RMSE=2.4348, Time-Mean RMSE=0.8045, Time-Stddev MAE=1.1461\n"
     ]
    },
    {
     "data": {
      "application/vnd.jupyter.widget-view+json": {
       "model_id": "",
       "version_major": 2,
       "version_minor": 0
      },
      "text/plain": [
       "Validation: |                                                                                    | 0/? [00:00<…"
      ]
     },
     "metadata": {},
     "output_type": "display_data"
    },
    {
     "name": "stdout",
     "output_type": "stream",
     "text": [
      "[VAL] tas: RMSE=2.7939, Time-Mean RMSE=1.3666, Time-Stddev MAE=0.8139\n",
      "[VAL] pr: RMSE=2.1827, Time-Mean RMSE=0.4396, Time-Stddev MAE=0.9868\n"
     ]
    },
    {
     "data": {
      "application/vnd.jupyter.widget-view+json": {
       "model_id": "",
       "version_major": 2,
       "version_minor": 0
      },
      "text/plain": [
       "Validation: |                                                                                    | 0/? [00:00<…"
      ]
     },
     "metadata": {},
     "output_type": "display_data"
    },
    {
     "name": "stdout",
     "output_type": "stream",
     "text": [
      "[VAL] tas: RMSE=2.6667, Time-Mean RMSE=1.2886, Time-Stddev MAE=0.6369\n",
      "[VAL] pr: RMSE=2.2465, Time-Mean RMSE=0.6458, Time-Stddev MAE=0.9252\n"
     ]
    },
    {
     "data": {
      "application/vnd.jupyter.widget-view+json": {
       "model_id": "",
       "version_major": 2,
       "version_minor": 0
      },
      "text/plain": [
       "Validation: |                                                                                    | 0/? [00:00<…"
      ]
     },
     "metadata": {},
     "output_type": "display_data"
    },
    {
     "name": "stdout",
     "output_type": "stream",
     "text": [
      "[VAL] tas: RMSE=2.6229, Time-Mean RMSE=1.2313, Time-Stddev MAE=0.6900\n",
      "[VAL] pr: RMSE=2.1501, Time-Mean RMSE=0.4341, Time-Stddev MAE=0.9401\n"
     ]
    },
    {
     "data": {
      "application/vnd.jupyter.widget-view+json": {
       "model_id": "",
       "version_major": 2,
       "version_minor": 0
      },
      "text/plain": [
       "Validation: |                                                                                    | 0/? [00:00<…"
      ]
     },
     "metadata": {},
     "output_type": "display_data"
    },
    {
     "name": "stdout",
     "output_type": "stream",
     "text": [
      "[VAL] tas: RMSE=2.5783, Time-Mean RMSE=1.3211, Time-Stddev MAE=0.6580\n",
      "[VAL] pr: RMSE=2.1236, Time-Mean RMSE=0.5325, Time-Stddev MAE=0.8868\n"
     ]
    },
    {
     "data": {
      "application/vnd.jupyter.widget-view+json": {
       "model_id": "",
       "version_major": 2,
       "version_minor": 0
      },
      "text/plain": [
       "Validation: |                                                                                    | 0/? [00:00<…"
      ]
     },
     "metadata": {},
     "output_type": "display_data"
    },
    {
     "name": "stdout",
     "output_type": "stream",
     "text": [
      "[VAL] tas: RMSE=2.5183, Time-Mean RMSE=1.2098, Time-Stddev MAE=0.6618\n",
      "[VAL] pr: RMSE=2.1096, Time-Mean RMSE=0.4211, Time-Stddev MAE=0.9301\n"
     ]
    },
    {
     "data": {
      "application/vnd.jupyter.widget-view+json": {
       "model_id": "",
       "version_major": 2,
       "version_minor": 0
      },
      "text/plain": [
       "Validation: |                                                                                    | 0/? [00:00<…"
      ]
     },
     "metadata": {},
     "output_type": "display_data"
    },
    {
     "name": "stdout",
     "output_type": "stream",
     "text": [
      "[VAL] tas: RMSE=2.6200, Time-Mean RMSE=1.5575, Time-Stddev MAE=0.7563\n",
      "[VAL] pr: RMSE=2.0799, Time-Mean RMSE=0.4725, Time-Stddev MAE=0.9136\n"
     ]
    },
    {
     "name": "stderr",
     "output_type": "stream",
     "text": [
      "`Trainer.fit` stopped: `max_epochs=20` reached.\n"
     ]
    }
   ],
   "source": [
    "# Recreate your model instance first (same args as before)\n",
    "model = SimpleCNN(\n",
    "    n_input_channels=len(config[\"data\"][\"input_vars\"]),\n",
    "    n_output_channels=len(config[\"data\"][\"output_vars\"]),\n",
    "    kernel_size=config[\"model\"][\"kernel_size\"],\n",
    "    init_dim=config[\"model\"][\"init_dim\"],\n",
    "    depth=config[\"model\"][\"depth\"],\n",
    "    dropout_rate=config[\"model\"][\"dropout_rate\"]\n",
    ")\n",
    "\n",
    "# Load full LightningModule from checkpoint\n",
    "climate_model = ClimateEmulationModule.load_from_checkpoint(\n",
    "    checkpoint_path=\"climate_model_epoch10.ckpt\",\n",
    "    model=model,\n",
    "    learning_rate=config[\"training\"][\"lr\"]\n",
    ")\n",
    "\n",
    "# Update epochs if you want to continue further\n",
    "# config[\"trainer\"][\"max_epochs\"] = \n",
    "\n",
    "# Recreate trainer and continue training\n",
    "trainer = Trainer(**config[\"trainer\"])\n",
    "trainer.fit(climate_model, datamodule=datamodule)"
   ]
  },
  {
   "cell_type": "code",
   "execution_count": null,
   "id": "1c1659cb",
   "metadata": {},
   "outputs": [],
   "source": []
  },
  {
   "cell_type": "code",
   "execution_count": 23,
   "id": "3f033d68",
   "metadata": {},
   "outputs": [
    {
     "name": "stdout",
     "output_type": "stream",
     "text": [
      "Creating dataset with 2703 samples...\n",
      "Creating dataset with 360 samples...\n",
      "Creating dataset with 360 samples...\n"
     ]
    },
    {
     "name": "stderr",
     "output_type": "stream",
     "text": [
      "C:\\Users\\20187\\anaconda3\\Lib\\site-packages\\pytorch_lightning\\callbacks\\model_checkpoint.py:654: Checkpoint directory C:\\Users\\20187\\CSE 151B\\Project\\lightning_logs\\version_20\\checkpoints exists and is not empty.\n",
      "LOCAL_RANK: 0 - CUDA_VISIBLE_DEVICES: [0]\n",
      "\n",
      "  | Name      | Type      | Params | Mode \n",
      "------------------------------------------------\n",
      "0 | model     | SimpleCNN | 10.7 M | train\n",
      "1 | criterion | MSELoss   | 0      | train\n",
      "------------------------------------------------\n",
      "10.7 M    Trainable params\n",
      "0         Non-trainable params\n",
      "10.7 M    Total params\n",
      "42.923    Total estimated model params size (MB)\n",
      "47        Modules in train mode\n",
      "0         Modules in eval mode\n",
      "C:\\Users\\20187\\anaconda3\\Lib\\site-packages\\pytorch_lightning\\trainer\\connectors\\data_connector.py:425: The 'train_dataloader' does not have many workers which may be a bottleneck. Consider increasing the value of the `num_workers` argument` to `num_workers=19` in the `DataLoader` to improve performance.\n",
      "C:\\Users\\20187\\anaconda3\\Lib\\site-packages\\pytorch_lightning\\loops\\fit_loop.py:310: The number of training batches (43) is smaller than the logging interval Trainer(log_every_n_steps=50). Set a lower value for log_every_n_steps if you want to see logs for the training epoch.\n",
      "`Trainer.fit` stopped: `max_epochs=20` reached.\n"
     ]
    }
   ],
   "source": [
    "climate_model = ClimateEmulationModule.load_from_checkpoint(\n",
    "    checkpoint_path=\"climate_model_epoch30.ckpt\",\n",
    "    model=model,\n",
    "    learning_rate=config[\"training\"][\"lr\"]\n",
    ")\n",
    "trainer.fit(climate_model, datamodule=datamodule)"
   ]
  },
  {
   "cell_type": "code",
   "execution_count": 24,
   "id": "d5302f32",
   "metadata": {
    "scrolled": false
   },
   "outputs": [
    {
     "name": "stdout",
     "output_type": "stream",
     "text": [
      "Creating dataset with 2703 samples...\n",
      "Creating dataset with 360 samples...\n",
      "Creating dataset with 360 samples...\n"
     ]
    },
    {
     "name": "stderr",
     "output_type": "stream",
     "text": [
      "LOCAL_RANK: 0 - CUDA_VISIBLE_DEVICES: [0]\n",
      "C:\\Users\\20187\\anaconda3\\Lib\\site-packages\\pytorch_lightning\\trainer\\connectors\\data_connector.py:425: The 'val_dataloader' does not have many workers which may be a bottleneck. Consider increasing the value of the `num_workers` argument` to `num_workers=19` in the `DataLoader` to improve performance.\n"
     ]
    },
    {
     "data": {
      "application/vnd.jupyter.widget-view+json": {
       "model_id": "95e28df67b3d44328922db1ae4905a50",
       "version_major": 2,
       "version_minor": 0
      },
      "text/plain": [
       "Validation: |                                                                                    | 0/? [00:00<…"
      ]
     },
     "metadata": {},
     "output_type": "display_data"
    },
    {
     "name": "stdout",
     "output_type": "stream",
     "text": [
      "[VAL] tas: RMSE=2.6200, Time-Mean RMSE=1.5575, Time-Stddev MAE=0.7563\n",
      "[VAL] pr: RMSE=2.0799, Time-Mean RMSE=0.4725, Time-Stddev MAE=0.9136\n"
     ]
    },
    {
     "data": {
      "text/html": [
       "<pre style=\"white-space:pre;overflow-x:auto;line-height:normal;font-family:Menlo,'DejaVu Sans Mono',consolas,'Courier New',monospace\">┏━━━━━━━━━━━━━━━━━━━━━━━━━━━┳━━━━━━━━━━━━━━━━━━━━━━━━━━━┓\n",
       "┃<span style=\"font-weight: bold\">      Validate metric      </span>┃<span style=\"font-weight: bold\">       DataLoader 0        </span>┃\n",
       "┡━━━━━━━━━━━━━━━━━━━━━━━━━━━╇━━━━━━━━━━━━━━━━━━━━━━━━━━━┩\n",
       "│<span style=\"color: #008080; text-decoration-color: #008080\">         val/loss          </span>│<span style=\"color: #800080; text-decoration-color: #800080\">    0.18110010027885437    </span>│\n",
       "│<span style=\"color: #008080; text-decoration-color: #008080\">        val/pr/rmse        </span>│<span style=\"color: #800080; text-decoration-color: #800080\">    2.0799059867858887     </span>│\n",
       "│<span style=\"color: #008080; text-decoration-color: #008080\">   val/pr/time_mean_rmse   </span>│<span style=\"color: #800080; text-decoration-color: #800080\">    0.4725455045700073     </span>│\n",
       "│<span style=\"color: #008080; text-decoration-color: #008080\">    val/pr/time_std_mae    </span>│<span style=\"color: #800080; text-decoration-color: #800080\">    0.9135953187942505     </span>│\n",
       "│<span style=\"color: #008080; text-decoration-color: #008080\">       val/tas/rmse        </span>│<span style=\"color: #800080; text-decoration-color: #800080\">    2.6200196743011475     </span>│\n",
       "│<span style=\"color: #008080; text-decoration-color: #008080\">  val/tas/time_mean_rmse   </span>│<span style=\"color: #800080; text-decoration-color: #800080\">     1.557510256767273     </span>│\n",
       "│<span style=\"color: #008080; text-decoration-color: #008080\">   val/tas/time_std_mae    </span>│<span style=\"color: #800080; text-decoration-color: #800080\">    0.7563069462776184     </span>│\n",
       "└───────────────────────────┴───────────────────────────┘\n",
       "</pre>\n"
      ],
      "text/plain": [
       "┏━━━━━━━━━━━━━━━━━━━━━━━━━━━┳━━━━━━━━━━━━━━━━━━━━━━━━━━━┓\n",
       "┃\u001b[1m \u001b[0m\u001b[1m     Validate metric     \u001b[0m\u001b[1m \u001b[0m┃\u001b[1m \u001b[0m\u001b[1m      DataLoader 0       \u001b[0m\u001b[1m \u001b[0m┃\n",
       "┡━━━━━━━━━━━━━━━━━━━━━━━━━━━╇━━━━━━━━━━━━━━━━━━━━━━━━━━━┩\n",
       "│\u001b[36m \u001b[0m\u001b[36m        val/loss         \u001b[0m\u001b[36m \u001b[0m│\u001b[35m \u001b[0m\u001b[35m   0.18110010027885437   \u001b[0m\u001b[35m \u001b[0m│\n",
       "│\u001b[36m \u001b[0m\u001b[36m       val/pr/rmse       \u001b[0m\u001b[36m \u001b[0m│\u001b[35m \u001b[0m\u001b[35m   2.0799059867858887    \u001b[0m\u001b[35m \u001b[0m│\n",
       "│\u001b[36m \u001b[0m\u001b[36m  val/pr/time_mean_rmse  \u001b[0m\u001b[36m \u001b[0m│\u001b[35m \u001b[0m\u001b[35m   0.4725455045700073    \u001b[0m\u001b[35m \u001b[0m│\n",
       "│\u001b[36m \u001b[0m\u001b[36m   val/pr/time_std_mae   \u001b[0m\u001b[36m \u001b[0m│\u001b[35m \u001b[0m\u001b[35m   0.9135953187942505    \u001b[0m\u001b[35m \u001b[0m│\n",
       "│\u001b[36m \u001b[0m\u001b[36m      val/tas/rmse       \u001b[0m\u001b[36m \u001b[0m│\u001b[35m \u001b[0m\u001b[35m   2.6200196743011475    \u001b[0m\u001b[35m \u001b[0m│\n",
       "│\u001b[36m \u001b[0m\u001b[36m val/tas/time_mean_rmse  \u001b[0m\u001b[36m \u001b[0m│\u001b[35m \u001b[0m\u001b[35m    1.557510256767273    \u001b[0m\u001b[35m \u001b[0m│\n",
       "│\u001b[36m \u001b[0m\u001b[36m  val/tas/time_std_mae   \u001b[0m\u001b[36m \u001b[0m│\u001b[35m \u001b[0m\u001b[35m   0.7563069462776184    \u001b[0m\u001b[35m \u001b[0m│\n",
       "└───────────────────────────┴───────────────────────────┘\n"
      ]
     },
     "metadata": {},
     "output_type": "display_data"
    },
    {
     "name": "stdout",
     "output_type": "stream",
     "text": [
      "Creating dataset with 2703 samples...\n",
      "Creating dataset with 360 samples...\n",
      "Creating dataset with 360 samples...\n"
     ]
    },
    {
     "name": "stderr",
     "output_type": "stream",
     "text": [
      "LOCAL_RANK: 0 - CUDA_VISIBLE_DEVICES: [0]\n",
      "C:\\Users\\20187\\anaconda3\\Lib\\site-packages\\pytorch_lightning\\trainer\\connectors\\data_connector.py:425: The 'test_dataloader' does not have many workers which may be a bottleneck. Consider increasing the value of the `num_workers` argument` to `num_workers=19` in the `DataLoader` to improve performance.\n"
     ]
    },
    {
     "data": {
      "application/vnd.jupyter.widget-view+json": {
       "model_id": "5e9a37566db7422dbcd7f4b216eb9059",
       "version_major": 2,
       "version_minor": 0
      },
      "text/plain": [
       "Testing: |                                                                                       | 0/? [00:00<…"
      ]
     },
     "metadata": {},
     "output_type": "display_data"
    },
    {
     "name": "stdout",
     "output_type": "stream",
     "text": [
      "[TEST] tas: RMSE=290.4695, Time-Mean RMSE=290.4334, Time-Stddev MAE=3.3395\n",
      "[TEST] pr: RMSE=4.1874, Time-Mean RMSE=3.8210, Time-Stddev MAE=1.2334\n",
      "✅ Submission saved to: submissions/kaggle_submission_20250515_051931.csv\n"
     ]
    },
    {
     "data": {
      "text/html": [
       "<pre style=\"white-space:pre;overflow-x:auto;line-height:normal;font-family:Menlo,'DejaVu Sans Mono',consolas,'Courier New',monospace\">┏━━━━━━━━━━━━━━━━━━━━━━━━━━━┳━━━━━━━━━━━━━━━━━━━━━━━━━━━┓\n",
       "┃<span style=\"font-weight: bold\">        Test metric        </span>┃<span style=\"font-weight: bold\">       DataLoader 0        </span>┃\n",
       "┡━━━━━━━━━━━━━━━━━━━━━━━━━━━╇━━━━━━━━━━━━━━━━━━━━━━━━━━━┩\n",
       "│<span style=\"color: #008080; text-decoration-color: #008080\">       test/pr/rmse        </span>│<span style=\"color: #800080; text-decoration-color: #800080\">     4.187388896942139     </span>│\n",
       "│<span style=\"color: #008080; text-decoration-color: #008080\">  test/pr/time_mean_rmse   </span>│<span style=\"color: #800080; text-decoration-color: #800080\">    3.8209924697875977     </span>│\n",
       "│<span style=\"color: #008080; text-decoration-color: #008080\">   test/pr/time_std_mae    </span>│<span style=\"color: #800080; text-decoration-color: #800080\">     1.233386754989624     </span>│\n",
       "│<span style=\"color: #008080; text-decoration-color: #008080\">       test/tas/rmse       </span>│<span style=\"color: #800080; text-decoration-color: #800080\">     290.469482421875      </span>│\n",
       "│<span style=\"color: #008080; text-decoration-color: #008080\">  test/tas/time_mean_rmse  </span>│<span style=\"color: #800080; text-decoration-color: #800080\">     290.4334411621094     </span>│\n",
       "│<span style=\"color: #008080; text-decoration-color: #008080\">   test/tas/time_std_mae   </span>│<span style=\"color: #800080; text-decoration-color: #800080\">    3.3395166397094727     </span>│\n",
       "└───────────────────────────┴───────────────────────────┘\n",
       "</pre>\n"
      ],
      "text/plain": [
       "┏━━━━━━━━━━━━━━━━━━━━━━━━━━━┳━━━━━━━━━━━━━━━━━━━━━━━━━━━┓\n",
       "┃\u001b[1m \u001b[0m\u001b[1m       Test metric       \u001b[0m\u001b[1m \u001b[0m┃\u001b[1m \u001b[0m\u001b[1m      DataLoader 0       \u001b[0m\u001b[1m \u001b[0m┃\n",
       "┡━━━━━━━━━━━━━━━━━━━━━━━━━━━╇━━━━━━━━━━━━━━━━━━━━━━━━━━━┩\n",
       "│\u001b[36m \u001b[0m\u001b[36m      test/pr/rmse       \u001b[0m\u001b[36m \u001b[0m│\u001b[35m \u001b[0m\u001b[35m    4.187388896942139    \u001b[0m\u001b[35m \u001b[0m│\n",
       "│\u001b[36m \u001b[0m\u001b[36m test/pr/time_mean_rmse  \u001b[0m\u001b[36m \u001b[0m│\u001b[35m \u001b[0m\u001b[35m   3.8209924697875977    \u001b[0m\u001b[35m \u001b[0m│\n",
       "│\u001b[36m \u001b[0m\u001b[36m  test/pr/time_std_mae   \u001b[0m\u001b[36m \u001b[0m│\u001b[35m \u001b[0m\u001b[35m    1.233386754989624    \u001b[0m\u001b[35m \u001b[0m│\n",
       "│\u001b[36m \u001b[0m\u001b[36m      test/tas/rmse      \u001b[0m\u001b[36m \u001b[0m│\u001b[35m \u001b[0m\u001b[35m    290.469482421875     \u001b[0m\u001b[35m \u001b[0m│\n",
       "│\u001b[36m \u001b[0m\u001b[36m test/tas/time_mean_rmse \u001b[0m\u001b[36m \u001b[0m│\u001b[35m \u001b[0m\u001b[35m    290.4334411621094    \u001b[0m\u001b[35m \u001b[0m│\n",
       "│\u001b[36m \u001b[0m\u001b[36m  test/tas/time_std_mae  \u001b[0m\u001b[36m \u001b[0m│\u001b[35m \u001b[0m\u001b[35m   3.3395166397094727    \u001b[0m\u001b[35m \u001b[0m│\n",
       "└───────────────────────────┴───────────────────────────┘\n"
      ]
     },
     "metadata": {},
     "output_type": "display_data"
    },
    {
     "data": {
      "text/plain": [
       "[{'test/tas/rmse': 290.469482421875,\n",
       "  'test/tas/time_mean_rmse': 290.4334411621094,\n",
       "  'test/tas/time_std_mae': 3.3395166397094727,\n",
       "  'test/pr/rmse': 4.187388896942139,\n",
       "  'test/pr/time_mean_rmse': 3.8209924697875977,\n",
       "  'test/pr/time_std_mae': 1.233386754989624}]"
      ]
     },
     "execution_count": 24,
     "metadata": {},
     "output_type": "execute_result"
    }
   ],
   "source": [
    "# Validate + Test + CSV Generation\n",
    "trainer.validate(climate_model, datamodule=datamodule)\n",
    "trainer.test(climate_model, datamodule=datamodule)\n",
    "# ----------------------------------------------"
   ]
  },
  {
   "cell_type": "markdown",
   "id": "6b0cf987",
   "metadata": {},
   "source": [
    "## Save Best & Every 5 Epochs"
   ]
  },
  {
   "cell_type": "code",
   "execution_count": 14,
   "id": "9aa7f7c4",
   "metadata": {},
   "outputs": [],
   "source": [
    "from pytorch_lightning.callbacks import ModelCheckpoint\n",
    "\n",
    "# Save best val_loss model\n",
    "best_ckpt_callback = ModelCheckpoint(\n",
    "    dirpath=\"checkpoints/\",\n",
    "    filename=\"best-{epoch:02d}-{val_loss:.4f}\",\n",
    "    save_top_k=1,\n",
    "    monitor=\"val/loss\",\n",
    "    mode=\"min\"\n",
    ")\n",
    "\n",
    "# Save every 5 epochs\n",
    "periodic_ckpt_callback = ModelCheckpoint(\n",
    "    dirpath=\"checkpoints/\",\n",
    "    filename=\"epoch{epoch:02d}\",\n",
    "    save_top_k=-1,              # Keep all periodic checkpoints\n",
    "    every_n_epochs=5            # Save every 5 epochs\n",
    ")"
   ]
  },
  {
   "cell_type": "markdown",
   "id": "a6d5141a",
   "metadata": {},
   "source": [
    "## Handling CNN Baseline Overfitting (Unreported In .ipynb)"
   ]
  },
  {
   "cell_type": "code",
   "execution_count": 15,
   "id": "74e1f1c6",
   "metadata": {},
   "outputs": [],
   "source": [
    "config[\"model\"][\"dropout_rate\"] = 0.3\n",
    "config[\"data\"][\"batch_size\"] = 32\n",
    "config[\"training\"][\"lr\"] = 8e-4\n",
    "config[\"trainer\"][\"precision\"] = 16"
   ]
  },
  {
   "cell_type": "code",
   "execution_count": 16,
   "id": "a7626da7",
   "metadata": {},
   "outputs": [],
   "source": [
    "# Update epochs if you want to continue further\n",
    "config[\"trainer\"][\"max_epochs\"] = 30"
   ]
  },
  {
   "cell_type": "code",
   "execution_count": 17,
   "id": "d1c6105e",
   "metadata": {
    "scrolled": false
   },
   "outputs": [
    {
     "name": "stderr",
     "output_type": "stream",
     "text": [
      "C:\\Users\\20187\\anaconda3\\Lib\\site-packages\\lightning_fabric\\connector.py:571: `precision=16` is supported for historical reasons but its usage is discouraged. Please set your precision to 16-mixed instead!\n",
      "Using 16bit Automatic Mixed Precision (AMP)\n",
      "GPU available: True (cuda), used: True\n",
      "TPU available: False, using: 0 TPU cores\n",
      "HPU available: False, using: 0 HPUs\n",
      "You are using a CUDA device ('NVIDIA GeForce RTX 3070 Ti Laptop GPU') that has Tensor Cores. To properly utilize them, you should set `torch.set_float32_matmul_precision('medium' | 'high')` which will trade-off precision for performance. For more details, read https://pytorch.org/docs/stable/generated/torch.set_float32_matmul_precision.html#torch.set_float32_matmul_precision\n"
     ]
    },
    {
     "name": "stdout",
     "output_type": "stream",
     "text": [
      "Creating dataset with 2703 samples...\n",
      "Creating dataset with 360 samples...\n",
      "Creating dataset with 360 samples...\n"
     ]
    },
    {
     "name": "stderr",
     "output_type": "stream",
     "text": [
      "C:\\Users\\20187\\anaconda3\\Lib\\site-packages\\pytorch_lightning\\callbacks\\model_checkpoint.py:654: Checkpoint directory C:\\Users\\20187\\CSE 151B\\Project\\checkpoints exists and is not empty.\n",
      "LOCAL_RANK: 0 - CUDA_VISIBLE_DEVICES: [0]\n",
      "\n",
      "  | Name      | Type      | Params | Mode \n",
      "------------------------------------------------\n",
      "0 | model     | SimpleCNN | 10.7 M | train\n",
      "1 | criterion | MSELoss   | 0      | train\n",
      "------------------------------------------------\n",
      "10.7 M    Trainable params\n",
      "0         Non-trainable params\n",
      "10.7 M    Total params\n",
      "42.923    Total estimated model params size (MB)\n",
      "47        Modules in train mode\n",
      "0         Modules in eval mode\n",
      "C:\\Users\\20187\\anaconda3\\Lib\\site-packages\\pytorch_lightning\\trainer\\connectors\\data_connector.py:425: The 'train_dataloader' does not have many workers which may be a bottleneck. Consider increasing the value of the `num_workers` argument` to `num_workers=19` in the `DataLoader` to improve performance.\n",
      "C:\\Users\\20187\\anaconda3\\Lib\\site-packages\\pytorch_lightning\\loops\\fit_loop.py:310: The number of training batches (43) is smaller than the logging interval Trainer(log_every_n_steps=50). Set a lower value for log_every_n_steps if you want to see logs for the training epoch.\n",
      "C:\\Users\\20187\\anaconda3\\Lib\\site-packages\\pytorch_lightning\\trainer\\connectors\\data_connector.py:425: The 'val_dataloader' does not have many workers which may be a bottleneck. Consider increasing the value of the `num_workers` argument` to `num_workers=19` in the `DataLoader` to improve performance.\n"
     ]
    },
    {
     "data": {
      "application/vnd.jupyter.widget-view+json": {
       "model_id": "fe52626941614cb7bd0bfa8800e90a7b",
       "version_major": 2,
       "version_minor": 0
      },
      "text/plain": [
       "Training: |                                                                                      | 0/? [00:00<…"
      ]
     },
     "metadata": {},
     "output_type": "display_data"
    },
    {
     "data": {
      "application/vnd.jupyter.widget-view+json": {
       "model_id": "",
       "version_major": 2,
       "version_minor": 0
      },
      "text/plain": [
       "Validation: |                                                                                    | 0/? [00:00<…"
      ]
     },
     "metadata": {},
     "output_type": "display_data"
    },
    {
     "name": "stdout",
     "output_type": "stream",
     "text": [
      "[VAL] tas: RMSE=1.7188, Time-Mean RMSE=0.8794, Time-Stddev MAE=0.3687\n",
      "[VAL] pr: RMSE=1.9678, Time-Mean RMSE=0.2845, Time-Stddev MAE=0.7947\n"
     ]
    },
    {
     "data": {
      "application/vnd.jupyter.widget-view+json": {
       "model_id": "",
       "version_major": 2,
       "version_minor": 0
      },
      "text/plain": [
       "Validation: |                                                                                    | 0/? [00:00<…"
      ]
     },
     "metadata": {},
     "output_type": "display_data"
    },
    {
     "name": "stdout",
     "output_type": "stream",
     "text": [
      "[VAL] tas: RMSE=1.6646, Time-Mean RMSE=0.7259, Time-Stddev MAE=0.4663\n",
      "[VAL] pr: RMSE=1.9818, Time-Mean RMSE=0.3092, Time-Stddev MAE=0.8489\n"
     ]
    },
    {
     "data": {
      "application/vnd.jupyter.widget-view+json": {
       "model_id": "",
       "version_major": 2,
       "version_minor": 0
      },
      "text/plain": [
       "Validation: |                                                                                    | 0/? [00:00<…"
      ]
     },
     "metadata": {},
     "output_type": "display_data"
    },
    {
     "name": "stdout",
     "output_type": "stream",
     "text": [
      "[VAL] tas: RMSE=1.8270, Time-Mean RMSE=1.0451, Time-Stddev MAE=0.4681\n",
      "[VAL] pr: RMSE=1.9799, Time-Mean RMSE=0.2909, Time-Stddev MAE=0.8330\n"
     ]
    },
    {
     "data": {
      "application/vnd.jupyter.widget-view+json": {
       "model_id": "",
       "version_major": 2,
       "version_minor": 0
      },
      "text/plain": [
       "Validation: |                                                                                    | 0/? [00:00<…"
      ]
     },
     "metadata": {},
     "output_type": "display_data"
    },
    {
     "name": "stdout",
     "output_type": "stream",
     "text": [
      "[VAL] tas: RMSE=1.8975, Time-Mean RMSE=0.9890, Time-Stddev MAE=0.4450\n",
      "[VAL] pr: RMSE=2.0907, Time-Mean RMSE=0.4206, Time-Stddev MAE=0.8853\n"
     ]
    },
    {
     "data": {
      "application/vnd.jupyter.widget-view+json": {
       "model_id": "",
       "version_major": 2,
       "version_minor": 0
      },
      "text/plain": [
       "Validation: |                                                                                    | 0/? [00:00<…"
      ]
     },
     "metadata": {},
     "output_type": "display_data"
    },
    {
     "name": "stdout",
     "output_type": "stream",
     "text": [
      "[VAL] tas: RMSE=1.7945, Time-Mean RMSE=0.8151, Time-Stddev MAE=0.4059\n",
      "[VAL] pr: RMSE=2.0007, Time-Mean RMSE=0.3114, Time-Stddev MAE=0.8205\n"
     ]
    },
    {
     "data": {
      "application/vnd.jupyter.widget-view+json": {
       "model_id": "",
       "version_major": 2,
       "version_minor": 0
      },
      "text/plain": [
       "Validation: |                                                                                    | 0/? [00:00<…"
      ]
     },
     "metadata": {},
     "output_type": "display_data"
    },
    {
     "name": "stdout",
     "output_type": "stream",
     "text": [
      "[VAL] tas: RMSE=1.6662, Time-Mean RMSE=0.7513, Time-Stddev MAE=0.4074\n",
      "[VAL] pr: RMSE=1.9937, Time-Mean RMSE=0.3077, Time-Stddev MAE=0.7702\n"
     ]
    },
    {
     "data": {
      "application/vnd.jupyter.widget-view+json": {
       "model_id": "",
       "version_major": 2,
       "version_minor": 0
      },
      "text/plain": [
       "Validation: |                                                                                    | 0/? [00:00<…"
      ]
     },
     "metadata": {},
     "output_type": "display_data"
    },
    {
     "name": "stdout",
     "output_type": "stream",
     "text": [
      "[VAL] tas: RMSE=1.9015, Time-Mean RMSE=0.8416, Time-Stddev MAE=0.4083\n",
      "[VAL] pr: RMSE=2.1577, Time-Mean RMSE=0.4875, Time-Stddev MAE=0.8453\n"
     ]
    },
    {
     "data": {
      "application/vnd.jupyter.widget-view+json": {
       "model_id": "",
       "version_major": 2,
       "version_minor": 0
      },
      "text/plain": [
       "Validation: |                                                                                    | 0/? [00:00<…"
      ]
     },
     "metadata": {},
     "output_type": "display_data"
    },
    {
     "name": "stdout",
     "output_type": "stream",
     "text": [
      "[VAL] tas: RMSE=1.8142, Time-Mean RMSE=0.9227, Time-Stddev MAE=0.4441\n",
      "[VAL] pr: RMSE=2.0974, Time-Mean RMSE=0.4502, Time-Stddev MAE=0.8708\n"
     ]
    },
    {
     "data": {
      "application/vnd.jupyter.widget-view+json": {
       "model_id": "",
       "version_major": 2,
       "version_minor": 0
      },
      "text/plain": [
       "Validation: |                                                                                    | 0/? [00:00<…"
      ]
     },
     "metadata": {},
     "output_type": "display_data"
    },
    {
     "name": "stdout",
     "output_type": "stream",
     "text": [
      "[VAL] tas: RMSE=1.6098, Time-Mean RMSE=0.6942, Time-Stddev MAE=0.3937\n",
      "[VAL] pr: RMSE=1.9623, Time-Mean RMSE=0.2816, Time-Stddev MAE=0.7852\n"
     ]
    },
    {
     "data": {
      "application/vnd.jupyter.widget-view+json": {
       "model_id": "",
       "version_major": 2,
       "version_minor": 0
      },
      "text/plain": [
       "Validation: |                                                                                    | 0/? [00:00<…"
      ]
     },
     "metadata": {},
     "output_type": "display_data"
    },
    {
     "name": "stdout",
     "output_type": "stream",
     "text": [
      "[VAL] tas: RMSE=1.5932, Time-Mean RMSE=0.6939, Time-Stddev MAE=0.3512\n",
      "[VAL] pr: RMSE=1.9630, Time-Mean RMSE=0.2838, Time-Stddev MAE=0.7296\n"
     ]
    },
    {
     "data": {
      "application/vnd.jupyter.widget-view+json": {
       "model_id": "",
       "version_major": 2,
       "version_minor": 0
      },
      "text/plain": [
       "Validation: |                                                                                    | 0/? [00:00<…"
      ]
     },
     "metadata": {},
     "output_type": "display_data"
    },
    {
     "name": "stdout",
     "output_type": "stream",
     "text": [
      "[VAL] tas: RMSE=1.5713, Time-Mean RMSE=0.6962, Time-Stddev MAE=0.3328\n",
      "[VAL] pr: RMSE=1.9908, Time-Mean RMSE=0.3027, Time-Stddev MAE=0.8030\n"
     ]
    },
    {
     "data": {
      "application/vnd.jupyter.widget-view+json": {
       "model_id": "",
       "version_major": 2,
       "version_minor": 0
      },
      "text/plain": [
       "Validation: |                                                                                    | 0/? [00:00<…"
      ]
     },
     "metadata": {},
     "output_type": "display_data"
    },
    {
     "name": "stdout",
     "output_type": "stream",
     "text": [
      "[VAL] tas: RMSE=1.6786, Time-Mean RMSE=0.7490, Time-Stddev MAE=0.4169\n",
      "[VAL] pr: RMSE=1.9846, Time-Mean RMSE=0.3160, Time-Stddev MAE=0.8388\n"
     ]
    },
    {
     "data": {
      "application/vnd.jupyter.widget-view+json": {
       "model_id": "",
       "version_major": 2,
       "version_minor": 0
      },
      "text/plain": [
       "Validation: |                                                                                    | 0/? [00:00<…"
      ]
     },
     "metadata": {},
     "output_type": "display_data"
    },
    {
     "name": "stdout",
     "output_type": "stream",
     "text": [
      "[VAL] tas: RMSE=1.7260, Time-Mean RMSE=0.9785, Time-Stddev MAE=0.3759\n",
      "[VAL] pr: RMSE=1.9572, Time-Mean RMSE=0.2721, Time-Stddev MAE=0.7725\n"
     ]
    },
    {
     "data": {
      "application/vnd.jupyter.widget-view+json": {
       "model_id": "",
       "version_major": 2,
       "version_minor": 0
      },
      "text/plain": [
       "Validation: |                                                                                    | 0/? [00:00<…"
      ]
     },
     "metadata": {},
     "output_type": "display_data"
    },
    {
     "name": "stdout",
     "output_type": "stream",
     "text": [
      "[VAL] tas: RMSE=1.5711, Time-Mean RMSE=0.7164, Time-Stddev MAE=0.3251\n",
      "[VAL] pr: RMSE=1.9532, Time-Mean RMSE=0.2638, Time-Stddev MAE=0.7793\n"
     ]
    },
    {
     "data": {
      "application/vnd.jupyter.widget-view+json": {
       "model_id": "",
       "version_major": 2,
       "version_minor": 0
      },
      "text/plain": [
       "Validation: |                                                                                    | 0/? [00:00<…"
      ]
     },
     "metadata": {},
     "output_type": "display_data"
    },
    {
     "name": "stdout",
     "output_type": "stream",
     "text": [
      "[VAL] tas: RMSE=1.5175, Time-Mean RMSE=0.6147, Time-Stddev MAE=0.3427\n",
      "[VAL] pr: RMSE=1.9550, Time-Mean RMSE=0.2438, Time-Stddev MAE=0.7777\n"
     ]
    },
    {
     "data": {
      "application/vnd.jupyter.widget-view+json": {
       "model_id": "",
       "version_major": 2,
       "version_minor": 0
      },
      "text/plain": [
       "Validation: |                                                                                    | 0/? [00:00<…"
      ]
     },
     "metadata": {},
     "output_type": "display_data"
    },
    {
     "name": "stdout",
     "output_type": "stream",
     "text": [
      "[VAL] tas: RMSE=1.4884, Time-Mean RMSE=0.5759, Time-Stddev MAE=0.3258\n",
      "[VAL] pr: RMSE=1.9552, Time-Mean RMSE=0.2696, Time-Stddev MAE=0.7574\n"
     ]
    },
    {
     "data": {
      "application/vnd.jupyter.widget-view+json": {
       "model_id": "",
       "version_major": 2,
       "version_minor": 0
      },
      "text/plain": [
       "Validation: |                                                                                    | 0/? [00:00<…"
      ]
     },
     "metadata": {},
     "output_type": "display_data"
    },
    {
     "name": "stdout",
     "output_type": "stream",
     "text": [
      "[VAL] tas: RMSE=1.4905, Time-Mean RMSE=0.5679, Time-Stddev MAE=0.3209\n",
      "[VAL] pr: RMSE=1.9565, Time-Mean RMSE=0.2812, Time-Stddev MAE=0.7678\n"
     ]
    },
    {
     "data": {
      "application/vnd.jupyter.widget-view+json": {
       "model_id": "",
       "version_major": 2,
       "version_minor": 0
      },
      "text/plain": [
       "Validation: |                                                                                    | 0/? [00:00<…"
      ]
     },
     "metadata": {},
     "output_type": "display_data"
    },
    {
     "name": "stdout",
     "output_type": "stream",
     "text": [
      "[VAL] tas: RMSE=1.4898, Time-Mean RMSE=0.6026, Time-Stddev MAE=0.3033\n",
      "[VAL] pr: RMSE=1.9528, Time-Mean RMSE=0.2714, Time-Stddev MAE=0.7732\n"
     ]
    },
    {
     "data": {
      "application/vnd.jupyter.widget-view+json": {
       "model_id": "",
       "version_major": 2,
       "version_minor": 0
      },
      "text/plain": [
       "Validation: |                                                                                    | 0/? [00:00<…"
      ]
     },
     "metadata": {},
     "output_type": "display_data"
    },
    {
     "name": "stdout",
     "output_type": "stream",
     "text": [
      "[VAL] tas: RMSE=1.5650, Time-Mean RMSE=0.7784, Time-Stddev MAE=0.2663\n",
      "[VAL] pr: RMSE=1.9476, Time-Mean RMSE=0.2381, Time-Stddev MAE=0.7502\n"
     ]
    },
    {
     "data": {
      "application/vnd.jupyter.widget-view+json": {
       "model_id": "",
       "version_major": 2,
       "version_minor": 0
      },
      "text/plain": [
       "Validation: |                                                                                    | 0/? [00:00<…"
      ]
     },
     "metadata": {},
     "output_type": "display_data"
    },
    {
     "name": "stdout",
     "output_type": "stream",
     "text": [
      "[VAL] tas: RMSE=1.6745, Time-Mean RMSE=0.9598, Time-Stddev MAE=0.3293\n",
      "[VAL] pr: RMSE=1.9695, Time-Mean RMSE=0.3213, Time-Stddev MAE=0.7868\n"
     ]
    },
    {
     "data": {
      "application/vnd.jupyter.widget-view+json": {
       "model_id": "",
       "version_major": 2,
       "version_minor": 0
      },
      "text/plain": [
       "Validation: |                                                                                    | 0/? [00:00<…"
      ]
     },
     "metadata": {},
     "output_type": "display_data"
    },
    {
     "name": "stdout",
     "output_type": "stream",
     "text": [
      "[VAL] tas: RMSE=1.5665, Time-Mean RMSE=0.7669, Time-Stddev MAE=0.3298\n",
      "[VAL] pr: RMSE=1.9518, Time-Mean RMSE=0.2563, Time-Stddev MAE=0.7660\n"
     ]
    },
    {
     "data": {
      "application/vnd.jupyter.widget-view+json": {
       "model_id": "",
       "version_major": 2,
       "version_minor": 0
      },
      "text/plain": [
       "Validation: |                                                                                    | 0/? [00:00<…"
      ]
     },
     "metadata": {},
     "output_type": "display_data"
    },
    {
     "name": "stdout",
     "output_type": "stream",
     "text": [
      "[VAL] tas: RMSE=1.5272, Time-Mean RMSE=0.7075, Time-Stddev MAE=0.3559\n",
      "[VAL] pr: RMSE=1.9615, Time-Mean RMSE=0.2916, Time-Stddev MAE=0.7885\n"
     ]
    },
    {
     "data": {
      "application/vnd.jupyter.widget-view+json": {
       "model_id": "",
       "version_major": 2,
       "version_minor": 0
      },
      "text/plain": [
       "Validation: |                                                                                    | 0/? [00:00<…"
      ]
     },
     "metadata": {},
     "output_type": "display_data"
    },
    {
     "name": "stdout",
     "output_type": "stream",
     "text": [
      "[VAL] tas: RMSE=1.5330, Time-Mean RMSE=0.7283, Time-Stddev MAE=0.2944\n",
      "[VAL] pr: RMSE=1.9553, Time-Mean RMSE=0.2832, Time-Stddev MAE=0.7433\n"
     ]
    },
    {
     "data": {
      "application/vnd.jupyter.widget-view+json": {
       "model_id": "",
       "version_major": 2,
       "version_minor": 0
      },
      "text/plain": [
       "Validation: |                                                                                    | 0/? [00:00<…"
      ]
     },
     "metadata": {},
     "output_type": "display_data"
    },
    {
     "name": "stdout",
     "output_type": "stream",
     "text": [
      "[VAL] tas: RMSE=1.5215, Time-Mean RMSE=0.6792, Time-Stddev MAE=0.3437\n",
      "[VAL] pr: RMSE=1.9632, Time-Mean RMSE=0.3038, Time-Stddev MAE=0.7661\n"
     ]
    },
    {
     "data": {
      "application/vnd.jupyter.widget-view+json": {
       "model_id": "",
       "version_major": 2,
       "version_minor": 0
      },
      "text/plain": [
       "Validation: |                                                                                    | 0/? [00:00<…"
      ]
     },
     "metadata": {},
     "output_type": "display_data"
    },
    {
     "name": "stdout",
     "output_type": "stream",
     "text": [
      "[VAL] tas: RMSE=1.5696, Time-Mean RMSE=0.7870, Time-Stddev MAE=0.3489\n",
      "[VAL] pr: RMSE=1.9602, Time-Mean RMSE=0.2931, Time-Stddev MAE=0.7962\n"
     ]
    },
    {
     "data": {
      "application/vnd.jupyter.widget-view+json": {
       "model_id": "",
       "version_major": 2,
       "version_minor": 0
      },
      "text/plain": [
       "Validation: |                                                                                    | 0/? [00:00<…"
      ]
     },
     "metadata": {},
     "output_type": "display_data"
    },
    {
     "name": "stdout",
     "output_type": "stream",
     "text": [
      "[VAL] tas: RMSE=1.5535, Time-Mean RMSE=0.7716, Time-Stddev MAE=0.3648\n",
      "[VAL] pr: RMSE=1.9569, Time-Mean RMSE=0.2871, Time-Stddev MAE=0.7897\n"
     ]
    },
    {
     "data": {
      "application/vnd.jupyter.widget-view+json": {
       "model_id": "",
       "version_major": 2,
       "version_minor": 0
      },
      "text/plain": [
       "Validation: |                                                                                    | 0/? [00:00<…"
      ]
     },
     "metadata": {},
     "output_type": "display_data"
    },
    {
     "name": "stdout",
     "output_type": "stream",
     "text": [
      "[VAL] tas: RMSE=1.4791, Time-Mean RMSE=0.5928, Time-Stddev MAE=0.2978\n",
      "[VAL] pr: RMSE=1.9564, Time-Mean RMSE=0.2678, Time-Stddev MAE=0.7656\n"
     ]
    },
    {
     "data": {
      "application/vnd.jupyter.widget-view+json": {
       "model_id": "",
       "version_major": 2,
       "version_minor": 0
      },
      "text/plain": [
       "Validation: |                                                                                    | 0/? [00:00<…"
      ]
     },
     "metadata": {},
     "output_type": "display_data"
    },
    {
     "name": "stdout",
     "output_type": "stream",
     "text": [
      "[VAL] tas: RMSE=1.4416, Time-Mean RMSE=0.5531, Time-Stddev MAE=0.3553\n",
      "[VAL] pr: RMSE=1.9617, Time-Mean RMSE=0.2892, Time-Stddev MAE=0.7730\n"
     ]
    },
    {
     "data": {
      "application/vnd.jupyter.widget-view+json": {
       "model_id": "",
       "version_major": 2,
       "version_minor": 0
      },
      "text/plain": [
       "Validation: |                                                                                    | 0/? [00:00<…"
      ]
     },
     "metadata": {},
     "output_type": "display_data"
    },
    {
     "name": "stdout",
     "output_type": "stream",
     "text": [
      "[VAL] tas: RMSE=1.5018, Time-Mean RMSE=0.5906, Time-Stddev MAE=0.3692\n",
      "[VAL] pr: RMSE=1.9586, Time-Mean RMSE=0.2543, Time-Stddev MAE=0.7600\n"
     ]
    },
    {
     "data": {
      "application/vnd.jupyter.widget-view+json": {
       "model_id": "",
       "version_major": 2,
       "version_minor": 0
      },
      "text/plain": [
       "Validation: |                                                                                    | 0/? [00:00<…"
      ]
     },
     "metadata": {},
     "output_type": "display_data"
    },
    {
     "name": "stdout",
     "output_type": "stream",
     "text": [
      "[VAL] tas: RMSE=1.5676, Time-Mean RMSE=0.7390, Time-Stddev MAE=0.3603\n",
      "[VAL] pr: RMSE=1.9519, Time-Mean RMSE=0.2478, Time-Stddev MAE=0.7582\n"
     ]
    },
    {
     "name": "stderr",
     "output_type": "stream",
     "text": [
      "`Trainer.fit` stopped: `max_epochs=30` reached.\n"
     ]
    }
   ],
   "source": [
    "# Recreate your model instance first (same args as before)\n",
    "model = SimpleCNN(\n",
    "    n_input_channels=len(config[\"data\"][\"input_vars\"]),\n",
    "    n_output_channels=len(config[\"data\"][\"output_vars\"]),\n",
    "    kernel_size=config[\"model\"][\"kernel_size\"],\n",
    "    init_dim=config[\"model\"][\"init_dim\"],\n",
    "    depth=config[\"model\"][\"depth\"],\n",
    "    dropout_rate=config[\"model\"][\"dropout_rate\"]\n",
    ")\n",
    "\n",
    "# Load full LightningModule from checkpoint\n",
    "climate_model = ClimateEmulationModule.load_from_checkpoint(\n",
    "    checkpoint_path=\"checkpoints/epochepoch=29.ckpt\",\n",
    "    model=model,\n",
    "    learning_rate=config[\"training\"][\"lr\"]\n",
    ")\n",
    "\n",
    "# Trainer\n",
    "trainer = Trainer(\n",
    "    **config[\"trainer\"],\n",
    "    callbacks=[best_ckpt_callback, periodic_ckpt_callback]\n",
    ")\n",
    "trainer.fit(climate_model, datamodule=datamodule)"
   ]
  },
  {
   "cell_type": "code",
   "execution_count": 19,
   "id": "9c8da017",
   "metadata": {},
   "outputs": [
    {
     "name": "stdout",
     "output_type": "stream",
     "text": [
      "Creating dataset with 2703 samples...\n",
      "Creating dataset with 360 samples...\n"
     ]
    },
    {
     "name": "stderr",
     "output_type": "stream",
     "text": [
      "LOCAL_RANK: 0 - CUDA_VISIBLE_DEVICES: [0]\n"
     ]
    },
    {
     "name": "stdout",
     "output_type": "stream",
     "text": [
      "Creating dataset with 360 samples...\n"
     ]
    },
    {
     "name": "stderr",
     "output_type": "stream",
     "text": [
      "C:\\Users\\20187\\anaconda3\\Lib\\site-packages\\pytorch_lightning\\trainer\\connectors\\data_connector.py:425: The 'val_dataloader' does not have many workers which may be a bottleneck. Consider increasing the value of the `num_workers` argument` to `num_workers=19` in the `DataLoader` to improve performance.\n"
     ]
    },
    {
     "data": {
      "application/vnd.jupyter.widget-view+json": {
       "model_id": "cfa9674b96e04436bbf5fd5bbcfdca55",
       "version_major": 2,
       "version_minor": 0
      },
      "text/plain": [
       "Validation: |                                                                                    | 0/? [00:00<…"
      ]
     },
     "metadata": {},
     "output_type": "display_data"
    },
    {
     "name": "stdout",
     "output_type": "stream",
     "text": [
      "[VAL] tas: RMSE=1.5676, Time-Mean RMSE=0.7390, Time-Stddev MAE=0.3603\n",
      "[VAL] pr: RMSE=1.9519, Time-Mean RMSE=0.2478, Time-Stddev MAE=0.7582\n"
     ]
    },
    {
     "data": {
      "text/html": [
       "<pre style=\"white-space:pre;overflow-x:auto;line-height:normal;font-family:Menlo,'DejaVu Sans Mono',consolas,'Courier New',monospace\">┏━━━━━━━━━━━━━━━━━━━━━━━━━━━┳━━━━━━━━━━━━━━━━━━━━━━━━━━━┓\n",
       "┃<span style=\"font-weight: bold\">      Validate metric      </span>┃<span style=\"font-weight: bold\">       DataLoader 0        </span>┃\n",
       "┡━━━━━━━━━━━━━━━━━━━━━━━━━━━╇━━━━━━━━━━━━━━━━━━━━━━━━━━━┩\n",
       "│<span style=\"color: #008080; text-decoration-color: #008080\">         val/loss          </span>│<span style=\"color: #800080; text-decoration-color: #800080\">    0.1550581455230713     </span>│\n",
       "│<span style=\"color: #008080; text-decoration-color: #008080\">        val/pr/rmse        </span>│<span style=\"color: #800080; text-decoration-color: #800080\">    1.9519227743148804     </span>│\n",
       "│<span style=\"color: #008080; text-decoration-color: #008080\">   val/pr/time_mean_rmse   </span>│<span style=\"color: #800080; text-decoration-color: #800080\">    0.24782462418079376    </span>│\n",
       "│<span style=\"color: #008080; text-decoration-color: #008080\">    val/pr/time_std_mae    </span>│<span style=\"color: #800080; text-decoration-color: #800080\">    0.7581828832626343     </span>│\n",
       "│<span style=\"color: #008080; text-decoration-color: #008080\">       val/tas/rmse        </span>│<span style=\"color: #800080; text-decoration-color: #800080\">    1.5676149129867554     </span>│\n",
       "│<span style=\"color: #008080; text-decoration-color: #008080\">  val/tas/time_mean_rmse   </span>│<span style=\"color: #800080; text-decoration-color: #800080\">    0.7389711141586304     </span>│\n",
       "│<span style=\"color: #008080; text-decoration-color: #008080\">   val/tas/time_std_mae    </span>│<span style=\"color: #800080; text-decoration-color: #800080\">    0.3603017032146454     </span>│\n",
       "└───────────────────────────┴───────────────────────────┘\n",
       "</pre>\n"
      ],
      "text/plain": [
       "┏━━━━━━━━━━━━━━━━━━━━━━━━━━━┳━━━━━━━━━━━━━━━━━━━━━━━━━━━┓\n",
       "┃\u001b[1m \u001b[0m\u001b[1m     Validate metric     \u001b[0m\u001b[1m \u001b[0m┃\u001b[1m \u001b[0m\u001b[1m      DataLoader 0       \u001b[0m\u001b[1m \u001b[0m┃\n",
       "┡━━━━━━━━━━━━━━━━━━━━━━━━━━━╇━━━━━━━━━━━━━━━━━━━━━━━━━━━┩\n",
       "│\u001b[36m \u001b[0m\u001b[36m        val/loss         \u001b[0m\u001b[36m \u001b[0m│\u001b[35m \u001b[0m\u001b[35m   0.1550581455230713    \u001b[0m\u001b[35m \u001b[0m│\n",
       "│\u001b[36m \u001b[0m\u001b[36m       val/pr/rmse       \u001b[0m\u001b[36m \u001b[0m│\u001b[35m \u001b[0m\u001b[35m   1.9519227743148804    \u001b[0m\u001b[35m \u001b[0m│\n",
       "│\u001b[36m \u001b[0m\u001b[36m  val/pr/time_mean_rmse  \u001b[0m\u001b[36m \u001b[0m│\u001b[35m \u001b[0m\u001b[35m   0.24782462418079376   \u001b[0m\u001b[35m \u001b[0m│\n",
       "│\u001b[36m \u001b[0m\u001b[36m   val/pr/time_std_mae   \u001b[0m\u001b[36m \u001b[0m│\u001b[35m \u001b[0m\u001b[35m   0.7581828832626343    \u001b[0m\u001b[35m \u001b[0m│\n",
       "│\u001b[36m \u001b[0m\u001b[36m      val/tas/rmse       \u001b[0m\u001b[36m \u001b[0m│\u001b[35m \u001b[0m\u001b[35m   1.5676149129867554    \u001b[0m\u001b[35m \u001b[0m│\n",
       "│\u001b[36m \u001b[0m\u001b[36m val/tas/time_mean_rmse  \u001b[0m\u001b[36m \u001b[0m│\u001b[35m \u001b[0m\u001b[35m   0.7389711141586304    \u001b[0m\u001b[35m \u001b[0m│\n",
       "│\u001b[36m \u001b[0m\u001b[36m  val/tas/time_std_mae   \u001b[0m\u001b[36m \u001b[0m│\u001b[35m \u001b[0m\u001b[35m   0.3603017032146454    \u001b[0m\u001b[35m \u001b[0m│\n",
       "└───────────────────────────┴───────────────────────────┘\n"
      ]
     },
     "metadata": {},
     "output_type": "display_data"
    },
    {
     "name": "stdout",
     "output_type": "stream",
     "text": [
      "Creating dataset with 2703 samples...\n",
      "Creating dataset with 360 samples...\n",
      "Creating dataset with 360 samples...\n"
     ]
    },
    {
     "name": "stderr",
     "output_type": "stream",
     "text": [
      "LOCAL_RANK: 0 - CUDA_VISIBLE_DEVICES: [0]\n",
      "C:\\Users\\20187\\anaconda3\\Lib\\site-packages\\pytorch_lightning\\trainer\\connectors\\data_connector.py:425: The 'test_dataloader' does not have many workers which may be a bottleneck. Consider increasing the value of the `num_workers` argument` to `num_workers=19` in the `DataLoader` to improve performance.\n"
     ]
    },
    {
     "data": {
      "application/vnd.jupyter.widget-view+json": {
       "model_id": "b4a3dbbc04504cb68627507557646c74",
       "version_major": 2,
       "version_minor": 0
      },
      "text/plain": [
       "Testing: |                                                                                       | 0/? [00:00<…"
      ]
     },
     "metadata": {},
     "output_type": "display_data"
    },
    {
     "name": "stdout",
     "output_type": "stream",
     "text": [
      "[TEST] tas: RMSE=291.3141, Time-Mean RMSE=291.2725, Time-Stddev MAE=3.5250\n",
      "[TEST] pr: RMSE=4.2762, Time-Mean RMSE=3.8072, Time-Stddev MAE=1.3873\n",
      "✅ Submission saved to: submissions/kaggle_submission_20250515_171308.csv\n"
     ]
    },
    {
     "data": {
      "text/html": [
       "<pre style=\"white-space:pre;overflow-x:auto;line-height:normal;font-family:Menlo,'DejaVu Sans Mono',consolas,'Courier New',monospace\">┏━━━━━━━━━━━━━━━━━━━━━━━━━━━┳━━━━━━━━━━━━━━━━━━━━━━━━━━━┓\n",
       "┃<span style=\"font-weight: bold\">        Test metric        </span>┃<span style=\"font-weight: bold\">       DataLoader 0        </span>┃\n",
       "┡━━━━━━━━━━━━━━━━━━━━━━━━━━━╇━━━━━━━━━━━━━━━━━━━━━━━━━━━┩\n",
       "│<span style=\"color: #008080; text-decoration-color: #008080\">       test/pr/rmse        </span>│<span style=\"color: #800080; text-decoration-color: #800080\">     4.276188850402832     </span>│\n",
       "│<span style=\"color: #008080; text-decoration-color: #008080\">  test/pr/time_mean_rmse   </span>│<span style=\"color: #800080; text-decoration-color: #800080\">     3.807217836380005     </span>│\n",
       "│<span style=\"color: #008080; text-decoration-color: #008080\">   test/pr/time_std_mae    </span>│<span style=\"color: #800080; text-decoration-color: #800080\">    1.3872519731521606     </span>│\n",
       "│<span style=\"color: #008080; text-decoration-color: #008080\">       test/tas/rmse       </span>│<span style=\"color: #800080; text-decoration-color: #800080\">     291.3140869140625     </span>│\n",
       "│<span style=\"color: #008080; text-decoration-color: #008080\">  test/tas/time_mean_rmse  </span>│<span style=\"color: #800080; text-decoration-color: #800080\">    291.27252197265625     </span>│\n",
       "│<span style=\"color: #008080; text-decoration-color: #008080\">   test/tas/time_std_mae   </span>│<span style=\"color: #800080; text-decoration-color: #800080\">    3.5249547958374023     </span>│\n",
       "└───────────────────────────┴───────────────────────────┘\n",
       "</pre>\n"
      ],
      "text/plain": [
       "┏━━━━━━━━━━━━━━━━━━━━━━━━━━━┳━━━━━━━━━━━━━━━━━━━━━━━━━━━┓\n",
       "┃\u001b[1m \u001b[0m\u001b[1m       Test metric       \u001b[0m\u001b[1m \u001b[0m┃\u001b[1m \u001b[0m\u001b[1m      DataLoader 0       \u001b[0m\u001b[1m \u001b[0m┃\n",
       "┡━━━━━━━━━━━━━━━━━━━━━━━━━━━╇━━━━━━━━━━━━━━━━━━━━━━━━━━━┩\n",
       "│\u001b[36m \u001b[0m\u001b[36m      test/pr/rmse       \u001b[0m\u001b[36m \u001b[0m│\u001b[35m \u001b[0m\u001b[35m    4.276188850402832    \u001b[0m\u001b[35m \u001b[0m│\n",
       "│\u001b[36m \u001b[0m\u001b[36m test/pr/time_mean_rmse  \u001b[0m\u001b[36m \u001b[0m│\u001b[35m \u001b[0m\u001b[35m    3.807217836380005    \u001b[0m\u001b[35m \u001b[0m│\n",
       "│\u001b[36m \u001b[0m\u001b[36m  test/pr/time_std_mae   \u001b[0m\u001b[36m \u001b[0m│\u001b[35m \u001b[0m\u001b[35m   1.3872519731521606    \u001b[0m\u001b[35m \u001b[0m│\n",
       "│\u001b[36m \u001b[0m\u001b[36m      test/tas/rmse      \u001b[0m\u001b[36m \u001b[0m│\u001b[35m \u001b[0m\u001b[35m    291.3140869140625    \u001b[0m\u001b[35m \u001b[0m│\n",
       "│\u001b[36m \u001b[0m\u001b[36m test/tas/time_mean_rmse \u001b[0m\u001b[36m \u001b[0m│\u001b[35m \u001b[0m\u001b[35m   291.27252197265625    \u001b[0m\u001b[35m \u001b[0m│\n",
       "│\u001b[36m \u001b[0m\u001b[36m  test/tas/time_std_mae  \u001b[0m\u001b[36m \u001b[0m│\u001b[35m \u001b[0m\u001b[35m   3.5249547958374023    \u001b[0m\u001b[35m \u001b[0m│\n",
       "└───────────────────────────┴───────────────────────────┘\n"
      ]
     },
     "metadata": {},
     "output_type": "display_data"
    },
    {
     "data": {
      "text/plain": [
       "[{'test/tas/rmse': 291.3140869140625,\n",
       "  'test/tas/time_mean_rmse': 291.27252197265625,\n",
       "  'test/tas/time_std_mae': 3.5249547958374023,\n",
       "  'test/pr/rmse': 4.276188850402832,\n",
       "  'test/pr/time_mean_rmse': 3.807217836380005,\n",
       "  'test/pr/time_std_mae': 1.3872519731521606}]"
      ]
     },
     "execution_count": 19,
     "metadata": {},
     "output_type": "execute_result"
    }
   ],
   "source": [
    "# Validate + Test + CSV Generation\n",
    "trainer.validate(climate_model, datamodule=datamodule)\n",
    "trainer.test(climate_model, datamodule=datamodule)\n",
    "# ----------------------------------------------"
   ]
  },
  {
   "cell_type": "code",
   "execution_count": null,
   "id": "3f9b5552",
   "metadata": {},
   "outputs": [],
   "source": []
  },
  {
   "cell_type": "code",
   "execution_count": 41,
   "id": "aa6a8103",
   "metadata": {},
   "outputs": [
    {
     "name": "stdout",
     "output_type": "stream",
     "text": [
      "Creating dataset with 2703 samples...\n",
      "Creating dataset with 360 samples...\n",
      "Creating dataset with 360 samples...\n"
     ]
    },
    {
     "name": "stderr",
     "output_type": "stream",
     "text": [
      "LOCAL_RANK: 0 - CUDA_VISIBLE_DEVICES: [0]\n",
      "C:\\Users\\20187\\anaconda3\\Lib\\site-packages\\pytorch_lightning\\trainer\\connectors\\data_connector.py:425: The 'val_dataloader' does not have many workers which may be a bottleneck. Consider increasing the value of the `num_workers` argument` to `num_workers=19` in the `DataLoader` to improve performance.\n"
     ]
    },
    {
     "data": {
      "application/vnd.jupyter.widget-view+json": {
       "model_id": "f93dacd30f6f41c497ff66e005974ecb",
       "version_major": 2,
       "version_minor": 0
      },
      "text/plain": [
       "Validation: |                                                                                    | 0/? [00:00<…"
      ]
     },
     "metadata": {},
     "output_type": "display_data"
    },
    {
     "name": "stdout",
     "output_type": "stream",
     "text": [
      "[VAL] tas: RMSE=1.6417, Time-Mean RMSE=0.8057, Time-Stddev MAE=0.3777\n",
      "[VAL] pr: RMSE=1.9570, Time-Mean RMSE=0.2708, Time-Stddev MAE=0.7904\n"
     ]
    },
    {
     "data": {
      "text/html": [
       "<pre style=\"white-space:pre;overflow-x:auto;line-height:normal;font-family:Menlo,'DejaVu Sans Mono',consolas,'Courier New',monospace\">┏━━━━━━━━━━━━━━━━━━━━━━━━━━━┳━━━━━━━━━━━━━━━━━━━━━━━━━━━┓\n",
       "┃<span style=\"font-weight: bold\">      Validate metric      </span>┃<span style=\"font-weight: bold\">       DataLoader 0        </span>┃\n",
       "┡━━━━━━━━━━━━━━━━━━━━━━━━━━━╇━━━━━━━━━━━━━━━━━━━━━━━━━━━┩\n",
       "│<span style=\"color: #008080; text-decoration-color: #008080\">         val/loss          </span>│<span style=\"color: #800080; text-decoration-color: #800080\">    0.1557563692331314     </span>│\n",
       "│<span style=\"color: #008080; text-decoration-color: #008080\">        val/pr/rmse        </span>│<span style=\"color: #800080; text-decoration-color: #800080\">    1.9569790363311768     </span>│\n",
       "│<span style=\"color: #008080; text-decoration-color: #008080\">   val/pr/time_mean_rmse   </span>│<span style=\"color: #800080; text-decoration-color: #800080\">    0.2707831859588623     </span>│\n",
       "│<span style=\"color: #008080; text-decoration-color: #008080\">    val/pr/time_std_mae    </span>│<span style=\"color: #800080; text-decoration-color: #800080\">    0.7903997898101807     </span>│\n",
       "│<span style=\"color: #008080; text-decoration-color: #008080\">       val/tas/rmse        </span>│<span style=\"color: #800080; text-decoration-color: #800080\">    1.6416664123535156     </span>│\n",
       "│<span style=\"color: #008080; text-decoration-color: #008080\">  val/tas/time_mean_rmse   </span>│<span style=\"color: #800080; text-decoration-color: #800080\">     0.805653989315033     </span>│\n",
       "│<span style=\"color: #008080; text-decoration-color: #008080\">   val/tas/time_std_mae    </span>│<span style=\"color: #800080; text-decoration-color: #800080\">    0.3777344524860382     </span>│\n",
       "└───────────────────────────┴───────────────────────────┘\n",
       "</pre>\n"
      ],
      "text/plain": [
       "┏━━━━━━━━━━━━━━━━━━━━━━━━━━━┳━━━━━━━━━━━━━━━━━━━━━━━━━━━┓\n",
       "┃\u001b[1m \u001b[0m\u001b[1m     Validate metric     \u001b[0m\u001b[1m \u001b[0m┃\u001b[1m \u001b[0m\u001b[1m      DataLoader 0       \u001b[0m\u001b[1m \u001b[0m┃\n",
       "┡━━━━━━━━━━━━━━━━━━━━━━━━━━━╇━━━━━━━━━━━━━━━━━━━━━━━━━━━┩\n",
       "│\u001b[36m \u001b[0m\u001b[36m        val/loss         \u001b[0m\u001b[36m \u001b[0m│\u001b[35m \u001b[0m\u001b[35m   0.1557563692331314    \u001b[0m\u001b[35m \u001b[0m│\n",
       "│\u001b[36m \u001b[0m\u001b[36m       val/pr/rmse       \u001b[0m\u001b[36m \u001b[0m│\u001b[35m \u001b[0m\u001b[35m   1.9569790363311768    \u001b[0m\u001b[35m \u001b[0m│\n",
       "│\u001b[36m \u001b[0m\u001b[36m  val/pr/time_mean_rmse  \u001b[0m\u001b[36m \u001b[0m│\u001b[35m \u001b[0m\u001b[35m   0.2707831859588623    \u001b[0m\u001b[35m \u001b[0m│\n",
       "│\u001b[36m \u001b[0m\u001b[36m   val/pr/time_std_mae   \u001b[0m\u001b[36m \u001b[0m│\u001b[35m \u001b[0m\u001b[35m   0.7903997898101807    \u001b[0m\u001b[35m \u001b[0m│\n",
       "│\u001b[36m \u001b[0m\u001b[36m      val/tas/rmse       \u001b[0m\u001b[36m \u001b[0m│\u001b[35m \u001b[0m\u001b[35m   1.6416664123535156    \u001b[0m\u001b[35m \u001b[0m│\n",
       "│\u001b[36m \u001b[0m\u001b[36m val/tas/time_mean_rmse  \u001b[0m\u001b[36m \u001b[0m│\u001b[35m \u001b[0m\u001b[35m    0.805653989315033    \u001b[0m\u001b[35m \u001b[0m│\n",
       "│\u001b[36m \u001b[0m\u001b[36m  val/tas/time_std_mae   \u001b[0m\u001b[36m \u001b[0m│\u001b[35m \u001b[0m\u001b[35m   0.3777344524860382    \u001b[0m\u001b[35m \u001b[0m│\n",
       "└───────────────────────────┴───────────────────────────┘\n"
      ]
     },
     "metadata": {},
     "output_type": "display_data"
    },
    {
     "name": "stdout",
     "output_type": "stream",
     "text": [
      "Creating dataset with 2703 samples...\n",
      "Creating dataset with 360 samples...\n",
      "Creating dataset with 360 samples...\n"
     ]
    },
    {
     "name": "stderr",
     "output_type": "stream",
     "text": [
      "LOCAL_RANK: 0 - CUDA_VISIBLE_DEVICES: [0]\n",
      "C:\\Users\\20187\\anaconda3\\Lib\\site-packages\\pytorch_lightning\\trainer\\connectors\\data_connector.py:425: The 'test_dataloader' does not have many workers which may be a bottleneck. Consider increasing the value of the `num_workers` argument` to `num_workers=19` in the `DataLoader` to improve performance.\n"
     ]
    },
    {
     "data": {
      "application/vnd.jupyter.widget-view+json": {
       "model_id": "da75f16efe124ef88eee5f447542a158",
       "version_major": 2,
       "version_minor": 0
      },
      "text/plain": [
       "Testing: |                                                                                       | 0/? [00:00<…"
      ]
     },
     "metadata": {},
     "output_type": "display_data"
    },
    {
     "name": "stdout",
     "output_type": "stream",
     "text": [
      "[TEST] tas: RMSE=290.8429, Time-Mean RMSE=290.8008, Time-Stddev MAE=3.5328\n",
      "[TEST] pr: RMSE=4.1636, Time-Mean RMSE=3.7179, Time-Stddev MAE=1.3353\n",
      "✅ Submission saved to: submissions/kaggle_submission_20250515_065412.csv\n"
     ]
    },
    {
     "data": {
      "text/html": [
       "<pre style=\"white-space:pre;overflow-x:auto;line-height:normal;font-family:Menlo,'DejaVu Sans Mono',consolas,'Courier New',monospace\">┏━━━━━━━━━━━━━━━━━━━━━━━━━━━┳━━━━━━━━━━━━━━━━━━━━━━━━━━━┓\n",
       "┃<span style=\"font-weight: bold\">        Test metric        </span>┃<span style=\"font-weight: bold\">       DataLoader 0        </span>┃\n",
       "┡━━━━━━━━━━━━━━━━━━━━━━━━━━━╇━━━━━━━━━━━━━━━━━━━━━━━━━━━┩\n",
       "│<span style=\"color: #008080; text-decoration-color: #008080\">       test/pr/rmse        </span>│<span style=\"color: #800080; text-decoration-color: #800080\">    4.1635942459106445     </span>│\n",
       "│<span style=\"color: #008080; text-decoration-color: #008080\">  test/pr/time_mean_rmse   </span>│<span style=\"color: #800080; text-decoration-color: #800080\">     3.717919111251831     </span>│\n",
       "│<span style=\"color: #008080; text-decoration-color: #008080\">   test/pr/time_std_mae    </span>│<span style=\"color: #800080; text-decoration-color: #800080\">     1.335269570350647     </span>│\n",
       "│<span style=\"color: #008080; text-decoration-color: #008080\">       test/tas/rmse       </span>│<span style=\"color: #800080; text-decoration-color: #800080\">     290.8428955078125     </span>│\n",
       "│<span style=\"color: #008080; text-decoration-color: #008080\">  test/tas/time_mean_rmse  </span>│<span style=\"color: #800080; text-decoration-color: #800080\">     290.8007507324219     </span>│\n",
       "│<span style=\"color: #008080; text-decoration-color: #008080\">   test/tas/time_std_mae   </span>│<span style=\"color: #800080; text-decoration-color: #800080\">     3.532803535461426     </span>│\n",
       "└───────────────────────────┴───────────────────────────┘\n",
       "</pre>\n"
      ],
      "text/plain": [
       "┏━━━━━━━━━━━━━━━━━━━━━━━━━━━┳━━━━━━━━━━━━━━━━━━━━━━━━━━━┓\n",
       "┃\u001b[1m \u001b[0m\u001b[1m       Test metric       \u001b[0m\u001b[1m \u001b[0m┃\u001b[1m \u001b[0m\u001b[1m      DataLoader 0       \u001b[0m\u001b[1m \u001b[0m┃\n",
       "┡━━━━━━━━━━━━━━━━━━━━━━━━━━━╇━━━━━━━━━━━━━━━━━━━━━━━━━━━┩\n",
       "│\u001b[36m \u001b[0m\u001b[36m      test/pr/rmse       \u001b[0m\u001b[36m \u001b[0m│\u001b[35m \u001b[0m\u001b[35m   4.1635942459106445    \u001b[0m\u001b[35m \u001b[0m│\n",
       "│\u001b[36m \u001b[0m\u001b[36m test/pr/time_mean_rmse  \u001b[0m\u001b[36m \u001b[0m│\u001b[35m \u001b[0m\u001b[35m    3.717919111251831    \u001b[0m\u001b[35m \u001b[0m│\n",
       "│\u001b[36m \u001b[0m\u001b[36m  test/pr/time_std_mae   \u001b[0m\u001b[36m \u001b[0m│\u001b[35m \u001b[0m\u001b[35m    1.335269570350647    \u001b[0m\u001b[35m \u001b[0m│\n",
       "│\u001b[36m \u001b[0m\u001b[36m      test/tas/rmse      \u001b[0m\u001b[36m \u001b[0m│\u001b[35m \u001b[0m\u001b[35m    290.8428955078125    \u001b[0m\u001b[35m \u001b[0m│\n",
       "│\u001b[36m \u001b[0m\u001b[36m test/tas/time_mean_rmse \u001b[0m\u001b[36m \u001b[0m│\u001b[35m \u001b[0m\u001b[35m    290.8007507324219    \u001b[0m\u001b[35m \u001b[0m│\n",
       "│\u001b[36m \u001b[0m\u001b[36m  test/tas/time_std_mae  \u001b[0m\u001b[36m \u001b[0m│\u001b[35m \u001b[0m\u001b[35m    3.532803535461426    \u001b[0m\u001b[35m \u001b[0m│\n",
       "└───────────────────────────┴───────────────────────────┘\n"
      ]
     },
     "metadata": {},
     "output_type": "display_data"
    },
    {
     "data": {
      "text/plain": [
       "[{'test/tas/rmse': 290.8428955078125,\n",
       "  'test/tas/time_mean_rmse': 290.8007507324219,\n",
       "  'test/tas/time_std_mae': 3.532803535461426,\n",
       "  'test/pr/rmse': 4.1635942459106445,\n",
       "  'test/pr/time_mean_rmse': 3.717919111251831,\n",
       "  'test/pr/time_std_mae': 1.335269570350647}]"
      ]
     },
     "execution_count": 41,
     "metadata": {},
     "output_type": "execute_result"
    }
   ],
   "source": [
    "# Validate + Test + CSV Generation\n",
    "trainer.validate(climate_model, datamodule=datamodule)\n",
    "trainer.test(climate_model, datamodule=datamodule)\n",
    "# ----------------------------------------------"
   ]
  }
 ],
 "metadata": {
  "kernelspec": {
   "display_name": "Python 3 (ipykernel)",
   "language": "python",
   "name": "python3"
  },
  "language_info": {
   "codemirror_mode": {
    "name": "ipython",
    "version": 3
   },
   "file_extension": ".py",
   "mimetype": "text/x-python",
   "name": "python",
   "nbconvert_exporter": "python",
   "pygments_lexer": "ipython3",
   "version": "3.11.5"
  }
 },
 "nbformat": 4,
 "nbformat_minor": 5
}
