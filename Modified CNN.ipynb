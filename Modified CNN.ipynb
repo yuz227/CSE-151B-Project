{
 "cells": [
  {
   "cell_type": "code",
   "execution_count": 35,
   "id": "b16b50f9",
   "metadata": {},
   "outputs": [],
   "source": [
    "!pip install numpy==1.26.4 pandas==2.2.2 bottleneck==1.3.8 xarray zarr dask lightning matplotlib wandb cftime einops --quiet\n",
    "\n",
    "import os\n",
    "from datetime import datetime\n",
    "import numpy as np\n",
    "import xarray as xr\n",
    "import dask.array as da\n",
    "import torch\n",
    "import torch.nn as nn\n",
    "import torch.optim as optim\n",
    "import matplotlib.pyplot as plt\n",
    "from torch.utils.data import Dataset, DataLoader\n",
    "import lightning.pytorch as pl"
   ]
  },
  {
   "cell_type": "code",
   "execution_count": 36,
   "id": "13c8c15b",
   "metadata": {},
   "outputs": [
    {
     "data": {
      "text/html": [
       "<div><svg style=\"position: absolute; width: 0; height: 0; overflow: hidden\">\n",
       "<defs>\n",
       "<symbol id=\"icon-database\" viewBox=\"0 0 32 32\">\n",
       "<path d=\"M16 0c-8.837 0-16 2.239-16 5v4c0 2.761 7.163 5 16 5s16-2.239 16-5v-4c0-2.761-7.163-5-16-5z\"></path>\n",
       "<path d=\"M16 17c-8.837 0-16-2.239-16-5v6c0 2.761 7.163 5 16 5s16-2.239 16-5v-6c0 2.761-7.163 5-16 5z\"></path>\n",
       "<path d=\"M16 26c-8.837 0-16-2.239-16-5v6c0 2.761 7.163 5 16 5s16-2.239 16-5v-6c0 2.761-7.163 5-16 5z\"></path>\n",
       "</symbol>\n",
       "<symbol id=\"icon-file-text2\" viewBox=\"0 0 32 32\">\n",
       "<path d=\"M28.681 7.159c-0.694-0.947-1.662-2.053-2.724-3.116s-2.169-2.030-3.116-2.724c-1.612-1.182-2.393-1.319-2.841-1.319h-15.5c-1.378 0-2.5 1.121-2.5 2.5v27c0 1.378 1.122 2.5 2.5 2.5h23c1.378 0 2.5-1.122 2.5-2.5v-19.5c0-0.448-0.137-1.23-1.319-2.841zM24.543 5.457c0.959 0.959 1.712 1.825 2.268 2.543h-4.811v-4.811c0.718 0.556 1.584 1.309 2.543 2.268zM28 29.5c0 0.271-0.229 0.5-0.5 0.5h-23c-0.271 0-0.5-0.229-0.5-0.5v-27c0-0.271 0.229-0.5 0.5-0.5 0 0 15.499-0 15.5 0v7c0 0.552 0.448 1 1 1h7v19.5z\"></path>\n",
       "<path d=\"M23 26h-14c-0.552 0-1-0.448-1-1s0.448-1 1-1h14c0.552 0 1 0.448 1 1s-0.448 1-1 1z\"></path>\n",
       "<path d=\"M23 22h-14c-0.552 0-1-0.448-1-1s0.448-1 1-1h14c0.552 0 1 0.448 1 1s-0.448 1-1 1z\"></path>\n",
       "<path d=\"M23 18h-14c-0.552 0-1-0.448-1-1s0.448-1 1-1h14c0.552 0 1 0.448 1 1s-0.448 1-1 1z\"></path>\n",
       "</symbol>\n",
       "</defs>\n",
       "</svg>\n",
       "<style>/* CSS stylesheet for displaying xarray objects in jupyterlab.\n",
       " *\n",
       " */\n",
       "\n",
       ":root {\n",
       "  --xr-font-color0: var(--jp-content-font-color0, rgba(0, 0, 0, 1));\n",
       "  --xr-font-color2: var(--jp-content-font-color2, rgba(0, 0, 0, 0.54));\n",
       "  --xr-font-color3: var(--jp-content-font-color3, rgba(0, 0, 0, 0.38));\n",
       "  --xr-border-color: var(--jp-border-color2, #e0e0e0);\n",
       "  --xr-disabled-color: var(--jp-layout-color3, #bdbdbd);\n",
       "  --xr-background-color: var(--jp-layout-color0, white);\n",
       "  --xr-background-color-row-even: var(--jp-layout-color1, white);\n",
       "  --xr-background-color-row-odd: var(--jp-layout-color2, #eeeeee);\n",
       "}\n",
       "\n",
       "html[theme=dark],\n",
       "body[data-theme=dark],\n",
       "body.vscode-dark {\n",
       "  --xr-font-color0: rgba(255, 255, 255, 1);\n",
       "  --xr-font-color2: rgba(255, 255, 255, 0.54);\n",
       "  --xr-font-color3: rgba(255, 255, 255, 0.38);\n",
       "  --xr-border-color: #1F1F1F;\n",
       "  --xr-disabled-color: #515151;\n",
       "  --xr-background-color: #111111;\n",
       "  --xr-background-color-row-even: #111111;\n",
       "  --xr-background-color-row-odd: #313131;\n",
       "}\n",
       "\n",
       ".xr-wrap {\n",
       "  display: block !important;\n",
       "  min-width: 300px;\n",
       "  max-width: 700px;\n",
       "}\n",
       "\n",
       ".xr-text-repr-fallback {\n",
       "  /* fallback to plain text repr when CSS is not injected (untrusted notebook) */\n",
       "  display: none;\n",
       "}\n",
       "\n",
       ".xr-header {\n",
       "  padding-top: 6px;\n",
       "  padding-bottom: 6px;\n",
       "  margin-bottom: 4px;\n",
       "  border-bottom: solid 1px var(--xr-border-color);\n",
       "}\n",
       "\n",
       ".xr-header > div,\n",
       ".xr-header > ul {\n",
       "  display: inline;\n",
       "  margin-top: 0;\n",
       "  margin-bottom: 0;\n",
       "}\n",
       "\n",
       ".xr-obj-type,\n",
       ".xr-array-name {\n",
       "  margin-left: 2px;\n",
       "  margin-right: 10px;\n",
       "}\n",
       "\n",
       ".xr-obj-type {\n",
       "  color: var(--xr-font-color2);\n",
       "}\n",
       "\n",
       ".xr-sections {\n",
       "  padding-left: 0 !important;\n",
       "  display: grid;\n",
       "  grid-template-columns: 150px auto auto 1fr 20px 20px;\n",
       "}\n",
       "\n",
       ".xr-section-item {\n",
       "  display: contents;\n",
       "}\n",
       "\n",
       ".xr-section-item input {\n",
       "  display: none;\n",
       "}\n",
       "\n",
       ".xr-section-item input + label {\n",
       "  color: var(--xr-disabled-color);\n",
       "}\n",
       "\n",
       ".xr-section-item input:enabled + label {\n",
       "  cursor: pointer;\n",
       "  color: var(--xr-font-color2);\n",
       "}\n",
       "\n",
       ".xr-section-item input:enabled + label:hover {\n",
       "  color: var(--xr-font-color0);\n",
       "}\n",
       "\n",
       ".xr-section-summary {\n",
       "  grid-column: 1;\n",
       "  color: var(--xr-font-color2);\n",
       "  font-weight: 500;\n",
       "}\n",
       "\n",
       ".xr-section-summary > span {\n",
       "  display: inline-block;\n",
       "  padding-left: 0.5em;\n",
       "}\n",
       "\n",
       ".xr-section-summary-in:disabled + label {\n",
       "  color: var(--xr-font-color2);\n",
       "}\n",
       "\n",
       ".xr-section-summary-in + label:before {\n",
       "  display: inline-block;\n",
       "  content: '►';\n",
       "  font-size: 11px;\n",
       "  width: 15px;\n",
       "  text-align: center;\n",
       "}\n",
       "\n",
       ".xr-section-summary-in:disabled + label:before {\n",
       "  color: var(--xr-disabled-color);\n",
       "}\n",
       "\n",
       ".xr-section-summary-in:checked + label:before {\n",
       "  content: '▼';\n",
       "}\n",
       "\n",
       ".xr-section-summary-in:checked + label > span {\n",
       "  display: none;\n",
       "}\n",
       "\n",
       ".xr-section-summary,\n",
       ".xr-section-inline-details {\n",
       "  padding-top: 4px;\n",
       "  padding-bottom: 4px;\n",
       "}\n",
       "\n",
       ".xr-section-inline-details {\n",
       "  grid-column: 2 / -1;\n",
       "}\n",
       "\n",
       ".xr-section-details {\n",
       "  display: none;\n",
       "  grid-column: 1 / -1;\n",
       "  margin-bottom: 5px;\n",
       "}\n",
       "\n",
       ".xr-section-summary-in:checked ~ .xr-section-details {\n",
       "  display: contents;\n",
       "}\n",
       "\n",
       ".xr-array-wrap {\n",
       "  grid-column: 1 / -1;\n",
       "  display: grid;\n",
       "  grid-template-columns: 20px auto;\n",
       "}\n",
       "\n",
       ".xr-array-wrap > label {\n",
       "  grid-column: 1;\n",
       "  vertical-align: top;\n",
       "}\n",
       "\n",
       ".xr-preview {\n",
       "  color: var(--xr-font-color3);\n",
       "}\n",
       "\n",
       ".xr-array-preview,\n",
       ".xr-array-data {\n",
       "  padding: 0 5px !important;\n",
       "  grid-column: 2;\n",
       "}\n",
       "\n",
       ".xr-array-data,\n",
       ".xr-array-in:checked ~ .xr-array-preview {\n",
       "  display: none;\n",
       "}\n",
       "\n",
       ".xr-array-in:checked ~ .xr-array-data,\n",
       ".xr-array-preview {\n",
       "  display: inline-block;\n",
       "}\n",
       "\n",
       ".xr-dim-list {\n",
       "  display: inline-block !important;\n",
       "  list-style: none;\n",
       "  padding: 0 !important;\n",
       "  margin: 0;\n",
       "}\n",
       "\n",
       ".xr-dim-list li {\n",
       "  display: inline-block;\n",
       "  padding: 0;\n",
       "  margin: 0;\n",
       "}\n",
       "\n",
       ".xr-dim-list:before {\n",
       "  content: '(';\n",
       "}\n",
       "\n",
       ".xr-dim-list:after {\n",
       "  content: ')';\n",
       "}\n",
       "\n",
       ".xr-dim-list li:not(:last-child):after {\n",
       "  content: ',';\n",
       "  padding-right: 5px;\n",
       "}\n",
       "\n",
       ".xr-has-index {\n",
       "  font-weight: bold;\n",
       "}\n",
       "\n",
       ".xr-var-list,\n",
       ".xr-var-item {\n",
       "  display: contents;\n",
       "}\n",
       "\n",
       ".xr-var-item > div,\n",
       ".xr-var-item label,\n",
       ".xr-var-item > .xr-var-name span {\n",
       "  background-color: var(--xr-background-color-row-even);\n",
       "  margin-bottom: 0;\n",
       "}\n",
       "\n",
       ".xr-var-item > .xr-var-name:hover span {\n",
       "  padding-right: 5px;\n",
       "}\n",
       "\n",
       ".xr-var-list > li:nth-child(odd) > div,\n",
       ".xr-var-list > li:nth-child(odd) > label,\n",
       ".xr-var-list > li:nth-child(odd) > .xr-var-name span {\n",
       "  background-color: var(--xr-background-color-row-odd);\n",
       "}\n",
       "\n",
       ".xr-var-name {\n",
       "  grid-column: 1;\n",
       "}\n",
       "\n",
       ".xr-var-dims {\n",
       "  grid-column: 2;\n",
       "}\n",
       "\n",
       ".xr-var-dtype {\n",
       "  grid-column: 3;\n",
       "  text-align: right;\n",
       "  color: var(--xr-font-color2);\n",
       "}\n",
       "\n",
       ".xr-var-preview {\n",
       "  grid-column: 4;\n",
       "}\n",
       "\n",
       ".xr-index-preview {\n",
       "  grid-column: 2 / 5;\n",
       "  color: var(--xr-font-color2);\n",
       "}\n",
       "\n",
       ".xr-var-name,\n",
       ".xr-var-dims,\n",
       ".xr-var-dtype,\n",
       ".xr-preview,\n",
       ".xr-attrs dt {\n",
       "  white-space: nowrap;\n",
       "  overflow: hidden;\n",
       "  text-overflow: ellipsis;\n",
       "  padding-right: 10px;\n",
       "}\n",
       "\n",
       ".xr-var-name:hover,\n",
       ".xr-var-dims:hover,\n",
       ".xr-var-dtype:hover,\n",
       ".xr-attrs dt:hover {\n",
       "  overflow: visible;\n",
       "  width: auto;\n",
       "  z-index: 1;\n",
       "}\n",
       "\n",
       ".xr-var-attrs,\n",
       ".xr-var-data,\n",
       ".xr-index-data {\n",
       "  display: none;\n",
       "  background-color: var(--xr-background-color) !important;\n",
       "  padding-bottom: 5px !important;\n",
       "}\n",
       "\n",
       ".xr-var-attrs-in:checked ~ .xr-var-attrs,\n",
       ".xr-var-data-in:checked ~ .xr-var-data,\n",
       ".xr-index-data-in:checked ~ .xr-index-data {\n",
       "  display: block;\n",
       "}\n",
       "\n",
       ".xr-var-data > table {\n",
       "  float: right;\n",
       "}\n",
       "\n",
       ".xr-var-name span,\n",
       ".xr-var-data,\n",
       ".xr-index-name div,\n",
       ".xr-index-data,\n",
       ".xr-attrs {\n",
       "  padding-left: 25px !important;\n",
       "}\n",
       "\n",
       ".xr-attrs,\n",
       ".xr-var-attrs,\n",
       ".xr-var-data,\n",
       ".xr-index-data {\n",
       "  grid-column: 1 / -1;\n",
       "}\n",
       "\n",
       "dl.xr-attrs {\n",
       "  padding: 0;\n",
       "  margin: 0;\n",
       "  display: grid;\n",
       "  grid-template-columns: 125px auto;\n",
       "}\n",
       "\n",
       ".xr-attrs dt,\n",
       ".xr-attrs dd {\n",
       "  padding: 0;\n",
       "  margin: 0;\n",
       "  float: left;\n",
       "  padding-right: 10px;\n",
       "  width: auto;\n",
       "}\n",
       "\n",
       ".xr-attrs dt {\n",
       "  font-weight: normal;\n",
       "  grid-column: 1;\n",
       "}\n",
       "\n",
       ".xr-attrs dt:hover span {\n",
       "  display: inline-block;\n",
       "  background: var(--xr-background-color);\n",
       "  padding-right: 10px;\n",
       "}\n",
       "\n",
       ".xr-attrs dd {\n",
       "  grid-column: 2;\n",
       "  white-space: pre-wrap;\n",
       "  word-break: break-all;\n",
       "}\n",
       "\n",
       ".xr-icon-database,\n",
       ".xr-icon-file-text2,\n",
       ".xr-no-icon {\n",
       "  display: inline-block;\n",
       "  vertical-align: middle;\n",
       "  width: 1em;\n",
       "  height: 1.5em !important;\n",
       "  stroke-width: 0;\n",
       "  stroke: currentColor;\n",
       "  fill: currentColor;\n",
       "}\n",
       "</style><pre class='xr-text-repr-fallback'>&lt;xarray.Dataset&gt;\n",
       "Dimensions:    (ssp: 4, time: 1021, latitude: 48, longitude: 72, x: 72, y: 48,\n",
       "                member_id: 3)\n",
       "Coordinates:\n",
       "    lat        (x, y) float64 dask.array&lt;chunksize=(72, 48), meta=np.ndarray&gt;\n",
       "  * latitude   (latitude) float64 -89.05 -85.26 -81.47 ... 81.47 85.26 89.05\n",
       "    lon        (x, y) float64 dask.array&lt;chunksize=(72, 48), meta=np.ndarray&gt;\n",
       "  * longitude  (longitude) float64 1.25 6.25 11.25 16.25 ... 346.2 351.2 356.2\n",
       "  * member_id  (member_id) int64 0 1 2\n",
       "  * ssp        (ssp) &lt;U6 &#x27;ssp126&#x27; &#x27;ssp245&#x27; &#x27;ssp370&#x27; &#x27;ssp585&#x27;\n",
       "  * time       (time) object 2015-01-15 00:00:00 ... 2100-01-15 00:00:00\n",
       "  * x          (x) float64 1.875 6.875 11.88 16.88 ... 341.9 346.9 351.9 356.9\n",
       "  * y          (y) float64 -88.59 -84.82 -81.05 -77.28 ... 81.05 84.82 88.59\n",
       "Data variables:\n",
       "    BC         (ssp, time, latitude, longitude) float64 dask.array&lt;chunksize=(1, 24, 48, 72), meta=np.ndarray&gt;\n",
       "    CH4        (ssp, time) float64 dask.array&lt;chunksize=(1, 24), meta=np.ndarray&gt;\n",
       "    CO2        (ssp, time) float64 dask.array&lt;chunksize=(1, 24), meta=np.ndarray&gt;\n",
       "    SO2        (ssp, time, latitude, longitude) float64 dask.array&lt;chunksize=(1, 24, 48, 72), meta=np.ndarray&gt;\n",
       "    pr         (ssp, time, member_id, y, x) float32 dask.array&lt;chunksize=(1, 24, 1, 48, 72), meta=np.ndarray&gt;\n",
       "    rsdt       (ssp, time, y, x) float32 dask.array&lt;chunksize=(1, 24, 48, 72), meta=np.ndarray&gt;\n",
       "    tas        (ssp, time, member_id, y, x) float32 dask.array&lt;chunksize=(1, 24, 1, 48, 72), meta=np.ndarray&gt;\n",
       "Attributes:\n",
       "    original_member_ids:  [&#x27;r10i1p1f1&#x27;, &#x27;r11i1p1f1&#x27;, &#x27;r4i1p1f1&#x27;]\n",
       "    precipitation_units:  mm/day (converted from kg m-2 s-1)\n",
       "    source:               CMIP6 data processed for CSE151B\n",
       "    ssp:                  ssp126</pre><div class='xr-wrap' style='display:none'><div class='xr-header'><div class='xr-obj-type'>xarray.Dataset</div></div><ul class='xr-sections'><li class='xr-section-item'><input id='section-f07e86c6-b946-442a-81ed-cf371abe78be' class='xr-section-summary-in' type='checkbox' disabled ><label for='section-f07e86c6-b946-442a-81ed-cf371abe78be' class='xr-section-summary'  title='Expand/collapse section'>Dimensions:</label><div class='xr-section-inline-details'><ul class='xr-dim-list'><li><span class='xr-has-index'>ssp</span>: 4</li><li><span class='xr-has-index'>time</span>: 1021</li><li><span class='xr-has-index'>latitude</span>: 48</li><li><span class='xr-has-index'>longitude</span>: 72</li><li><span class='xr-has-index'>x</span>: 72</li><li><span class='xr-has-index'>y</span>: 48</li><li><span class='xr-has-index'>member_id</span>: 3</li></ul></div><div class='xr-section-details'></div></li><li class='xr-section-item'><input id='section-3ac3a9c7-f5d9-48c8-a00b-5c4ca31d24bd' class='xr-section-summary-in' type='checkbox'  checked><label for='section-3ac3a9c7-f5d9-48c8-a00b-5c4ca31d24bd' class='xr-section-summary' >Coordinates: <span>(9)</span></label><div class='xr-section-inline-details'></div><div class='xr-section-details'><ul class='xr-var-list'><li class='xr-var-item'><div class='xr-var-name'><span>lat</span></div><div class='xr-var-dims'>(x, y)</div><div class='xr-var-dtype'>float64</div><div class='xr-var-preview xr-preview'>dask.array&lt;chunksize=(72, 48), meta=np.ndarray&gt;</div><input id='attrs-855c7809-778f-43b5-9676-da8aef7f8b86' class='xr-var-attrs-in' type='checkbox' disabled><label for='attrs-855c7809-778f-43b5-9676-da8aef7f8b86' title='Show/Hide attributes'><svg class='icon xr-icon-file-text2'><use xlink:href='#icon-file-text2'></use></svg></label><input id='data-f7555ea5-f99a-463e-8d6e-2149ed9688a4' class='xr-var-data-in' type='checkbox'><label for='data-f7555ea5-f99a-463e-8d6e-2149ed9688a4' title='Show/Hide data repr'><svg class='icon xr-icon-database'><use xlink:href='#icon-database'></use></svg></label><div class='xr-var-attrs'><dl class='xr-attrs'></dl></div><div class='xr-var-data'><table>\n",
       "    <tr>\n",
       "        <td>\n",
       "            <table style=\"border-collapse: collapse;\">\n",
       "                <thead>\n",
       "                    <tr>\n",
       "                        <td> </td>\n",
       "                        <th> Array </th>\n",
       "                        <th> Chunk </th>\n",
       "                    </tr>\n",
       "                </thead>\n",
       "                <tbody>\n",
       "                    \n",
       "                    <tr>\n",
       "                        <th> Bytes </th>\n",
       "                        <td> 27.00 kiB </td>\n",
       "                        <td> 27.00 kiB </td>\n",
       "                    </tr>\n",
       "                    \n",
       "                    <tr>\n",
       "                        <th> Shape </th>\n",
       "                        <td> (72, 48) </td>\n",
       "                        <td> (72, 48) </td>\n",
       "                    </tr>\n",
       "                    <tr>\n",
       "                        <th> Dask graph </th>\n",
       "                        <td colspan=\"2\"> 1 chunks in 2 graph layers </td>\n",
       "                    </tr>\n",
       "                    <tr>\n",
       "                        <th> Data type </th>\n",
       "                        <td colspan=\"2\"> float64 numpy.ndarray </td>\n",
       "                    </tr>\n",
       "                </tbody>\n",
       "            </table>\n",
       "        </td>\n",
       "        <td>\n",
       "        <svg width=\"130\" height=\"170\" style=\"stroke:rgb(0,0,0);stroke-width:1\" >\n",
       "\n",
       "  <!-- Horizontal lines -->\n",
       "  <line x1=\"0\" y1=\"0\" x2=\"80\" y2=\"0\" style=\"stroke-width:2\" />\n",
       "  <line x1=\"0\" y1=\"120\" x2=\"80\" y2=\"120\" style=\"stroke-width:2\" />\n",
       "\n",
       "  <!-- Vertical lines -->\n",
       "  <line x1=\"0\" y1=\"0\" x2=\"0\" y2=\"120\" style=\"stroke-width:2\" />\n",
       "  <line x1=\"80\" y1=\"0\" x2=\"80\" y2=\"120\" style=\"stroke-width:2\" />\n",
       "\n",
       "  <!-- Colored Rectangle -->\n",
       "  <polygon points=\"0.0,0.0 80.0,0.0 80.0,120.0 0.0,120.0\" style=\"fill:#ECB172A0;stroke-width:0\"/>\n",
       "\n",
       "  <!-- Text -->\n",
       "  <text x=\"40.000000\" y=\"140.000000\" font-size=\"1.0rem\" font-weight=\"100\" text-anchor=\"middle\" >48</text>\n",
       "  <text x=\"100.000000\" y=\"60.000000\" font-size=\"1.0rem\" font-weight=\"100\" text-anchor=\"middle\" transform=\"rotate(0,100.000000,60.000000)\">72</text>\n",
       "</svg>\n",
       "        </td>\n",
       "    </tr>\n",
       "</table></div></li><li class='xr-var-item'><div class='xr-var-name'><span class='xr-has-index'>latitude</span></div><div class='xr-var-dims'>(latitude)</div><div class='xr-var-dtype'>float64</div><div class='xr-var-preview xr-preview'>-89.05 -85.26 ... 85.26 89.05</div><input id='attrs-b10c6c4e-8bd8-4af7-92b8-5b22ebd03535' class='xr-var-attrs-in' type='checkbox' ><label for='attrs-b10c6c4e-8bd8-4af7-92b8-5b22ebd03535' title='Show/Hide attributes'><svg class='icon xr-icon-file-text2'><use xlink:href='#icon-file-text2'></use></svg></label><input id='data-744524c6-7bfe-41bd-8eb8-bda956821752' class='xr-var-data-in' type='checkbox'><label for='data-744524c6-7bfe-41bd-8eb8-bda956821752' title='Show/Hide data repr'><svg class='icon xr-icon-database'><use xlink:href='#icon-database'></use></svg></label><div class='xr-var-attrs'><dl class='xr-attrs'><dt><span>units :</span></dt><dd>degrees</dd></dl></div><div class='xr-var-data'><pre>array([-89.052632, -85.263158, -81.473684, -77.684211, -73.894737, -70.105263,\n",
       "       -66.315789, -62.526316, -58.736842, -54.947368, -51.157895, -47.368421,\n",
       "       -43.578947, -39.789474, -36.      , -32.210526, -28.421053, -24.631579,\n",
       "       -20.842105, -17.052632, -13.263158,  -9.473684,  -5.684211,  -1.894737,\n",
       "         1.894737,   5.684211,   9.473684,  13.263158,  17.052632,  20.842105,\n",
       "        24.631579,  28.421053,  32.210526,  36.      ,  39.789474,  43.578947,\n",
       "        47.368421,  51.157895,  54.947368,  58.736842,  62.526316,  66.315789,\n",
       "        70.105263,  73.894737,  77.684211,  81.473684,  85.263158,  89.052632])</pre></div></li><li class='xr-var-item'><div class='xr-var-name'><span>lon</span></div><div class='xr-var-dims'>(x, y)</div><div class='xr-var-dtype'>float64</div><div class='xr-var-preview xr-preview'>dask.array&lt;chunksize=(72, 48), meta=np.ndarray&gt;</div><input id='attrs-b2172e03-679e-4f41-bdb2-29255f0f35ac' class='xr-var-attrs-in' type='checkbox' disabled><label for='attrs-b2172e03-679e-4f41-bdb2-29255f0f35ac' title='Show/Hide attributes'><svg class='icon xr-icon-file-text2'><use xlink:href='#icon-file-text2'></use></svg></label><input id='data-5d105738-a867-47a4-bf25-c38654fad34c' class='xr-var-data-in' type='checkbox'><label for='data-5d105738-a867-47a4-bf25-c38654fad34c' title='Show/Hide data repr'><svg class='icon xr-icon-database'><use xlink:href='#icon-database'></use></svg></label><div class='xr-var-attrs'><dl class='xr-attrs'></dl></div><div class='xr-var-data'><table>\n",
       "    <tr>\n",
       "        <td>\n",
       "            <table style=\"border-collapse: collapse;\">\n",
       "                <thead>\n",
       "                    <tr>\n",
       "                        <td> </td>\n",
       "                        <th> Array </th>\n",
       "                        <th> Chunk </th>\n",
       "                    </tr>\n",
       "                </thead>\n",
       "                <tbody>\n",
       "                    \n",
       "                    <tr>\n",
       "                        <th> Bytes </th>\n",
       "                        <td> 27.00 kiB </td>\n",
       "                        <td> 27.00 kiB </td>\n",
       "                    </tr>\n",
       "                    \n",
       "                    <tr>\n",
       "                        <th> Shape </th>\n",
       "                        <td> (72, 48) </td>\n",
       "                        <td> (72, 48) </td>\n",
       "                    </tr>\n",
       "                    <tr>\n",
       "                        <th> Dask graph </th>\n",
       "                        <td colspan=\"2\"> 1 chunks in 2 graph layers </td>\n",
       "                    </tr>\n",
       "                    <tr>\n",
       "                        <th> Data type </th>\n",
       "                        <td colspan=\"2\"> float64 numpy.ndarray </td>\n",
       "                    </tr>\n",
       "                </tbody>\n",
       "            </table>\n",
       "        </td>\n",
       "        <td>\n",
       "        <svg width=\"130\" height=\"170\" style=\"stroke:rgb(0,0,0);stroke-width:1\" >\n",
       "\n",
       "  <!-- Horizontal lines -->\n",
       "  <line x1=\"0\" y1=\"0\" x2=\"80\" y2=\"0\" style=\"stroke-width:2\" />\n",
       "  <line x1=\"0\" y1=\"120\" x2=\"80\" y2=\"120\" style=\"stroke-width:2\" />\n",
       "\n",
       "  <!-- Vertical lines -->\n",
       "  <line x1=\"0\" y1=\"0\" x2=\"0\" y2=\"120\" style=\"stroke-width:2\" />\n",
       "  <line x1=\"80\" y1=\"0\" x2=\"80\" y2=\"120\" style=\"stroke-width:2\" />\n",
       "\n",
       "  <!-- Colored Rectangle -->\n",
       "  <polygon points=\"0.0,0.0 80.0,0.0 80.0,120.0 0.0,120.0\" style=\"fill:#ECB172A0;stroke-width:0\"/>\n",
       "\n",
       "  <!-- Text -->\n",
       "  <text x=\"40.000000\" y=\"140.000000\" font-size=\"1.0rem\" font-weight=\"100\" text-anchor=\"middle\" >48</text>\n",
       "  <text x=\"100.000000\" y=\"60.000000\" font-size=\"1.0rem\" font-weight=\"100\" text-anchor=\"middle\" transform=\"rotate(0,100.000000,60.000000)\">72</text>\n",
       "</svg>\n",
       "        </td>\n",
       "    </tr>\n",
       "</table></div></li><li class='xr-var-item'><div class='xr-var-name'><span class='xr-has-index'>longitude</span></div><div class='xr-var-dims'>(longitude)</div><div class='xr-var-dtype'>float64</div><div class='xr-var-preview xr-preview'>1.25 6.25 11.25 ... 351.2 356.2</div><input id='attrs-a1afbf64-5313-4f98-ba06-852e858fdaa4' class='xr-var-attrs-in' type='checkbox' disabled><label for='attrs-a1afbf64-5313-4f98-ba06-852e858fdaa4' title='Show/Hide attributes'><svg class='icon xr-icon-file-text2'><use xlink:href='#icon-file-text2'></use></svg></label><input id='data-700b7918-eb8e-4829-8007-d4d3345b9ee4' class='xr-var-data-in' type='checkbox'><label for='data-700b7918-eb8e-4829-8007-d4d3345b9ee4' title='Show/Hide data repr'><svg class='icon xr-icon-database'><use xlink:href='#icon-database'></use></svg></label><div class='xr-var-attrs'><dl class='xr-attrs'></dl></div><div class='xr-var-data'><pre>array([  1.25,   6.25,  11.25,  16.25,  21.25,  26.25,  31.25,  36.25,  41.25,\n",
       "        46.25,  51.25,  56.25,  61.25,  66.25,  71.25,  76.25,  81.25,  86.25,\n",
       "        91.25,  96.25, 101.25, 106.25, 111.25, 116.25, 121.25, 126.25, 131.25,\n",
       "       136.25, 141.25, 146.25, 151.25, 156.25, 161.25, 166.25, 171.25, 176.25,\n",
       "       181.25, 186.25, 191.25, 196.25, 201.25, 206.25, 211.25, 216.25, 221.25,\n",
       "       226.25, 231.25, 236.25, 241.25, 246.25, 251.25, 256.25, 261.25, 266.25,\n",
       "       271.25, 276.25, 281.25, 286.25, 291.25, 296.25, 301.25, 306.25, 311.25,\n",
       "       316.25, 321.25, 326.25, 331.25, 336.25, 341.25, 346.25, 351.25, 356.25])</pre></div></li><li class='xr-var-item'><div class='xr-var-name'><span class='xr-has-index'>member_id</span></div><div class='xr-var-dims'>(member_id)</div><div class='xr-var-dtype'>int64</div><div class='xr-var-preview xr-preview'>0 1 2</div><input id='attrs-5277a5db-c6ed-4bd8-a564-620aa3ef1f65' class='xr-var-attrs-in' type='checkbox' disabled><label for='attrs-5277a5db-c6ed-4bd8-a564-620aa3ef1f65' title='Show/Hide attributes'><svg class='icon xr-icon-file-text2'><use xlink:href='#icon-file-text2'></use></svg></label><input id='data-93e39e57-9b96-4794-af0d-e90b71d6c7d8' class='xr-var-data-in' type='checkbox'><label for='data-93e39e57-9b96-4794-af0d-e90b71d6c7d8' title='Show/Hide data repr'><svg class='icon xr-icon-database'><use xlink:href='#icon-database'></use></svg></label><div class='xr-var-attrs'><dl class='xr-attrs'></dl></div><div class='xr-var-data'><pre>array([0, 1, 2], dtype=int64)</pre></div></li><li class='xr-var-item'><div class='xr-var-name'><span class='xr-has-index'>ssp</span></div><div class='xr-var-dims'>(ssp)</div><div class='xr-var-dtype'>&lt;U6</div><div class='xr-var-preview xr-preview'>&#x27;ssp126&#x27; &#x27;ssp245&#x27; &#x27;ssp370&#x27; &#x27;ssp585&#x27;</div><input id='attrs-e41a97fa-9b32-4ef4-9d38-0e0c41b6c68f' class='xr-var-attrs-in' type='checkbox' disabled><label for='attrs-e41a97fa-9b32-4ef4-9d38-0e0c41b6c68f' title='Show/Hide attributes'><svg class='icon xr-icon-file-text2'><use xlink:href='#icon-file-text2'></use></svg></label><input id='data-2e8688a9-9aaf-4660-a6f0-187a331fc746' class='xr-var-data-in' type='checkbox'><label for='data-2e8688a9-9aaf-4660-a6f0-187a331fc746' title='Show/Hide data repr'><svg class='icon xr-icon-database'><use xlink:href='#icon-database'></use></svg></label><div class='xr-var-attrs'><dl class='xr-attrs'></dl></div><div class='xr-var-data'><pre>array([&#x27;ssp126&#x27;, &#x27;ssp245&#x27;, &#x27;ssp370&#x27;, &#x27;ssp585&#x27;], dtype=&#x27;&lt;U6&#x27;)</pre></div></li><li class='xr-var-item'><div class='xr-var-name'><span class='xr-has-index'>time</span></div><div class='xr-var-dims'>(time)</div><div class='xr-var-dtype'>object</div><div class='xr-var-preview xr-preview'>2015-01-15 00:00:00 ... 2100-01-...</div><input id='attrs-5838214d-7dc7-4baf-b272-907dc725e12c' class='xr-var-attrs-in' type='checkbox' disabled><label for='attrs-5838214d-7dc7-4baf-b272-907dc725e12c' title='Show/Hide attributes'><svg class='icon xr-icon-file-text2'><use xlink:href='#icon-file-text2'></use></svg></label><input id='data-8d28548d-3dc1-4842-9029-5fe40dfb39d4' class='xr-var-data-in' type='checkbox'><label for='data-8d28548d-3dc1-4842-9029-5fe40dfb39d4' title='Show/Hide data repr'><svg class='icon xr-icon-database'><use xlink:href='#icon-database'></use></svg></label><div class='xr-var-attrs'><dl class='xr-attrs'></dl></div><div class='xr-var-data'><pre>array([cftime.DatetimeNoLeap(2015, 1, 15, 0, 0, 0, 0, has_year_zero=True),\n",
       "       cftime.DatetimeNoLeap(2015, 2, 15, 0, 0, 0, 0, has_year_zero=True),\n",
       "       cftime.DatetimeNoLeap(2015, 3, 15, 0, 0, 0, 0, has_year_zero=True), ...,\n",
       "       cftime.DatetimeNoLeap(2099, 11, 15, 0, 0, 0, 0, has_year_zero=True),\n",
       "       cftime.DatetimeNoLeap(2099, 12, 15, 0, 0, 0, 0, has_year_zero=True),\n",
       "       cftime.DatetimeNoLeap(2100, 1, 15, 0, 0, 0, 0, has_year_zero=True)],\n",
       "      dtype=object)</pre></div></li><li class='xr-var-item'><div class='xr-var-name'><span class='xr-has-index'>x</span></div><div class='xr-var-dims'>(x)</div><div class='xr-var-dtype'>float64</div><div class='xr-var-preview xr-preview'>1.875 6.875 11.88 ... 351.9 356.9</div><input id='attrs-680d230a-403d-4314-94b0-d67409394e09' class='xr-var-attrs-in' type='checkbox' ><label for='attrs-680d230a-403d-4314-94b0-d67409394e09' title='Show/Hide attributes'><svg class='icon xr-icon-file-text2'><use xlink:href='#icon-file-text2'></use></svg></label><input id='data-a8ebffbe-cfbb-4a62-a942-f703b47a5b09' class='xr-var-data-in' type='checkbox'><label for='data-a8ebffbe-cfbb-4a62-a942-f703b47a5b09' title='Show/Hide data repr'><svg class='icon xr-icon-database'><use xlink:href='#icon-database'></use></svg></label><div class='xr-var-attrs'><dl class='xr-attrs'><dt><span>axis :</span></dt><dd>X</dd><dt><span>bounds :</span></dt><dd>lon_bnds</dd><dt><span>standard_name :</span></dt><dd>longitude</dd><dt><span>title :</span></dt><dd>Longitude</dd><dt><span>type :</span></dt><dd>double</dd><dt><span>units :</span></dt><dd>degrees_east</dd><dt><span>valid_max :</span></dt><dd>360.0</dd><dt><span>valid_min :</span></dt><dd>0.0</dd></dl></div><div class='xr-var-data'><pre>array([  1.875,   6.875,  11.875,  16.875,  21.875,  26.875,  31.875,  36.875,\n",
       "        41.875,  46.875,  51.875,  56.875,  61.875,  66.875,  71.875,  76.875,\n",
       "        81.875,  86.875,  91.875,  96.875, 101.875, 106.875, 111.875, 116.875,\n",
       "       121.875, 126.875, 131.875, 136.875, 141.875, 146.875, 151.875, 156.875,\n",
       "       161.875, 166.875, 171.875, 176.875, 181.875, 186.875, 191.875, 196.875,\n",
       "       201.875, 206.875, 211.875, 216.875, 221.875, 226.875, 231.875, 236.875,\n",
       "       241.875, 246.875, 251.875, 256.875, 261.875, 266.875, 271.875, 276.875,\n",
       "       281.875, 286.875, 291.875, 296.875, 301.875, 306.875, 311.875, 316.875,\n",
       "       321.875, 326.875, 331.875, 336.875, 341.875, 346.875, 351.875, 356.875])</pre></div></li><li class='xr-var-item'><div class='xr-var-name'><span class='xr-has-index'>y</span></div><div class='xr-var-dims'>(y)</div><div class='xr-var-dtype'>float64</div><div class='xr-var-preview xr-preview'>-88.59 -84.82 ... 84.82 88.59</div><input id='attrs-b14475a6-06b3-4e3c-b60d-85d57d36f0bb' class='xr-var-attrs-in' type='checkbox' ><label for='attrs-b14475a6-06b3-4e3c-b60d-85d57d36f0bb' title='Show/Hide attributes'><svg class='icon xr-icon-file-text2'><use xlink:href='#icon-file-text2'></use></svg></label><input id='data-374ec9b8-87da-4811-8cca-20ed8a8b213d' class='xr-var-data-in' type='checkbox'><label for='data-374ec9b8-87da-4811-8cca-20ed8a8b213d' title='Show/Hide data repr'><svg class='icon xr-icon-database'><use xlink:href='#icon-database'></use></svg></label><div class='xr-var-attrs'><dl class='xr-attrs'><dt><span>axis :</span></dt><dd>Y</dd><dt><span>bounds :</span></dt><dd>lat_bnds</dd><dt><span>standard_name :</span></dt><dd>latitude</dd><dt><span>title :</span></dt><dd>Latitude</dd><dt><span>type :</span></dt><dd>double</dd><dt><span>units :</span></dt><dd>degrees_north</dd><dt><span>valid_max :</span></dt><dd>90.0</dd><dt><span>valid_min :</span></dt><dd>-90.0</dd></dl></div><div class='xr-var-data'><pre>array([-88.586387, -84.816754, -81.04712 , -77.277487, -73.507853, -69.73822 ,\n",
       "       -65.968586, -62.198953, -58.429319, -54.659686, -50.890052, -47.120419,\n",
       "       -43.350785, -39.581152, -35.811518, -32.041885, -28.272251, -24.502618,\n",
       "       -20.732984, -16.963351, -13.193717,  -9.424084,  -5.65445 ,  -1.884817,\n",
       "         1.884817,   5.65445 ,   9.424084,  13.193717,  16.963351,  20.732984,\n",
       "        24.502618,  28.272251,  32.041885,  35.811518,  39.581152,  43.350785,\n",
       "        47.120419,  50.890052,  54.659686,  58.429319,  62.198953,  65.968586,\n",
       "        69.73822 ,  73.507853,  77.277487,  81.04712 ,  84.816754,  88.586387])</pre></div></li></ul></div></li><li class='xr-section-item'><input id='section-47cda33f-9049-4eb1-8e0d-7c5bbd37e70e' class='xr-section-summary-in' type='checkbox'  checked><label for='section-47cda33f-9049-4eb1-8e0d-7c5bbd37e70e' class='xr-section-summary' >Data variables: <span>(7)</span></label><div class='xr-section-inline-details'></div><div class='xr-section-details'><ul class='xr-var-list'><li class='xr-var-item'><div class='xr-var-name'><span>BC</span></div><div class='xr-var-dims'>(ssp, time, latitude, longitude)</div><div class='xr-var-dtype'>float64</div><div class='xr-var-preview xr-preview'>dask.array&lt;chunksize=(1, 24, 48, 72), meta=np.ndarray&gt;</div><input id='attrs-0016ba14-f64c-4bb3-9d91-25539f8966a7' class='xr-var-attrs-in' type='checkbox' ><label for='attrs-0016ba14-f64c-4bb3-9d91-25539f8966a7' title='Show/Hide attributes'><svg class='icon xr-icon-file-text2'><use xlink:href='#icon-file-text2'></use></svg></label><input id='data-56590f0f-7c7f-4120-a1b7-4bbbc3fb7633' class='xr-var-data-in' type='checkbox'><label for='data-56590f0f-7c7f-4120-a1b7-4bbbc3fb7633' title='Show/Hide data repr'><svg class='icon xr-icon-database'><use xlink:href='#icon-database'></use></svg></label><div class='xr-var-attrs'><dl class='xr-attrs'><dt><span>regrid_method :</span></dt><dd>conservative</dd></dl></div><div class='xr-var-data'><table>\n",
       "    <tr>\n",
       "        <td>\n",
       "            <table style=\"border-collapse: collapse;\">\n",
       "                <thead>\n",
       "                    <tr>\n",
       "                        <td> </td>\n",
       "                        <th> Array </th>\n",
       "                        <th> Chunk </th>\n",
       "                    </tr>\n",
       "                </thead>\n",
       "                <tbody>\n",
       "                    \n",
       "                    <tr>\n",
       "                        <th> Bytes </th>\n",
       "                        <td> 107.68 MiB </td>\n",
       "                        <td> 648.00 kiB </td>\n",
       "                    </tr>\n",
       "                    \n",
       "                    <tr>\n",
       "                        <th> Shape </th>\n",
       "                        <td> (4, 1021, 48, 72) </td>\n",
       "                        <td> (1, 24, 48, 72) </td>\n",
       "                    </tr>\n",
       "                    <tr>\n",
       "                        <th> Dask graph </th>\n",
       "                        <td colspan=\"2\"> 172 chunks in 2 graph layers </td>\n",
       "                    </tr>\n",
       "                    <tr>\n",
       "                        <th> Data type </th>\n",
       "                        <td colspan=\"2\"> float64 numpy.ndarray </td>\n",
       "                    </tr>\n",
       "                </tbody>\n",
       "            </table>\n",
       "        </td>\n",
       "        <td>\n",
       "        <svg width=\"347\" height=\"154\" style=\"stroke:rgb(0,0,0);stroke-width:1\" >\n",
       "\n",
       "  <!-- Horizontal lines -->\n",
       "  <line x1=\"0\" y1=\"0\" x2=\"25\" y2=\"0\" style=\"stroke-width:2\" />\n",
       "  <line x1=\"0\" y1=\"25\" x2=\"25\" y2=\"25\" style=\"stroke-width:2\" />\n",
       "\n",
       "  <!-- Vertical lines -->\n",
       "  <line x1=\"0\" y1=\"0\" x2=\"0\" y2=\"25\" style=\"stroke-width:2\" />\n",
       "  <line x1=\"6\" y1=\"0\" x2=\"6\" y2=\"25\" />\n",
       "  <line x1=\"12\" y1=\"0\" x2=\"12\" y2=\"25\" />\n",
       "  <line x1=\"19\" y1=\"0\" x2=\"19\" y2=\"25\" />\n",
       "  <line x1=\"25\" y1=\"0\" x2=\"25\" y2=\"25\" style=\"stroke-width:2\" />\n",
       "\n",
       "  <!-- Colored Rectangle -->\n",
       "  <polygon points=\"0.0,0.0 25.412616514582485,0.0 25.412616514582485,25.412616514582485 0.0,25.412616514582485\" style=\"fill:#ECB172A0;stroke-width:0\"/>\n",
       "\n",
       "  <!-- Text -->\n",
       "  <text x=\"12.706308\" y=\"45.412617\" font-size=\"1.0rem\" font-weight=\"100\" text-anchor=\"middle\" >4</text>\n",
       "  <text x=\"45.412617\" y=\"12.706308\" font-size=\"1.0rem\" font-weight=\"100\" text-anchor=\"middle\" transform=\"rotate(0,45.412617,12.706308)\">1</text>\n",
       "\n",
       "\n",
       "  <!-- Horizontal lines -->\n",
       "  <line x1=\"95\" y1=\"0\" x2=\"165\" y2=\"70\" style=\"stroke-width:2\" />\n",
       "  <line x1=\"95\" y1=\"34\" x2=\"165\" y2=\"104\" style=\"stroke-width:2\" />\n",
       "\n",
       "  <!-- Vertical lines -->\n",
       "  <line x1=\"95\" y1=\"0\" x2=\"95\" y2=\"34\" style=\"stroke-width:2\" />\n",
       "  <line x1=\"96\" y1=\"1\" x2=\"96\" y2=\"35\" />\n",
       "  <line x1=\"98\" y1=\"3\" x2=\"98\" y2=\"37\" />\n",
       "  <line x1=\"101\" y1=\"6\" x2=\"101\" y2=\"40\" />\n",
       "  <line x1=\"103\" y1=\"8\" x2=\"103\" y2=\"42\" />\n",
       "  <line x1=\"104\" y1=\"9\" x2=\"104\" y2=\"44\" />\n",
       "  <line x1=\"108\" y1=\"13\" x2=\"108\" y2=\"47\" />\n",
       "  <line x1=\"109\" y1=\"14\" x2=\"109\" y2=\"49\" />\n",
       "  <line x1=\"111\" y1=\"16\" x2=\"111\" y2=\"50\" />\n",
       "  <line x1=\"114\" y1=\"19\" x2=\"114\" y2=\"54\" />\n",
       "  <line x1=\"116\" y1=\"21\" x2=\"116\" y2=\"55\" />\n",
       "  <line x1=\"118\" y1=\"23\" x2=\"118\" y2=\"57\" />\n",
       "  <line x1=\"121\" y1=\"26\" x2=\"121\" y2=\"60\" />\n",
       "  <line x1=\"123\" y1=\"28\" x2=\"123\" y2=\"62\" />\n",
       "  <line x1=\"124\" y1=\"29\" x2=\"124\" y2=\"63\" />\n",
       "  <line x1=\"128\" y1=\"33\" x2=\"128\" y2=\"67\" />\n",
       "  <line x1=\"129\" y1=\"34\" x2=\"129\" y2=\"68\" />\n",
       "  <line x1=\"131\" y1=\"36\" x2=\"131\" y2=\"70\" />\n",
       "  <line x1=\"134\" y1=\"39\" x2=\"134\" y2=\"73\" />\n",
       "  <line x1=\"136\" y1=\"41\" x2=\"136\" y2=\"75\" />\n",
       "  <line x1=\"138\" y1=\"43\" x2=\"138\" y2=\"77\" />\n",
       "  <line x1=\"141\" y1=\"46\" x2=\"141\" y2=\"80\" />\n",
       "  <line x1=\"143\" y1=\"48\" x2=\"143\" y2=\"82\" />\n",
       "  <line x1=\"144\" y1=\"49\" x2=\"144\" y2=\"83\" />\n",
       "  <line x1=\"148\" y1=\"53\" x2=\"148\" y2=\"87\" />\n",
       "  <line x1=\"149\" y1=\"54\" x2=\"149\" y2=\"88\" />\n",
       "  <line x1=\"151\" y1=\"56\" x2=\"151\" y2=\"90\" />\n",
       "  <line x1=\"154\" y1=\"59\" x2=\"154\" y2=\"93\" />\n",
       "  <line x1=\"156\" y1=\"61\" x2=\"156\" y2=\"95\" />\n",
       "  <line x1=\"158\" y1=\"63\" x2=\"158\" y2=\"97\" />\n",
       "  <line x1=\"161\" y1=\"66\" x2=\"161\" y2=\"100\" />\n",
       "  <line x1=\"163\" y1=\"68\" x2=\"163\" y2=\"102\" />\n",
       "  <line x1=\"165\" y1=\"70\" x2=\"165\" y2=\"104\" style=\"stroke-width:2\" />\n",
       "\n",
       "  <!-- Colored Rectangle -->\n",
       "  <polygon points=\"95.0,0.0 165.58823529411765,70.58823529411765 165.58823529411765,104.71179459284565 95.0,34.12355929872799\" style=\"fill:#8B4903A0;stroke-width:0\"/>\n",
       "\n",
       "  <!-- Horizontal lines -->\n",
       "  <line x1=\"95\" y1=\"0\" x2=\"131\" y2=\"0\" style=\"stroke-width:2\" />\n",
       "  <line x1=\"96\" y1=\"1\" x2=\"133\" y2=\"1\" />\n",
       "  <line x1=\"98\" y1=\"3\" x2=\"134\" y2=\"3\" />\n",
       "  <line x1=\"101\" y1=\"6\" x2=\"138\" y2=\"6\" />\n",
       "  <line x1=\"103\" y1=\"8\" x2=\"139\" y2=\"8\" />\n",
       "  <line x1=\"104\" y1=\"9\" x2=\"141\" y2=\"9\" />\n",
       "  <line x1=\"108\" y1=\"13\" x2=\"144\" y2=\"13\" />\n",
       "  <line x1=\"109\" y1=\"14\" x2=\"146\" y2=\"14\" />\n",
       "  <line x1=\"111\" y1=\"16\" x2=\"148\" y2=\"16\" />\n",
       "  <line x1=\"114\" y1=\"19\" x2=\"151\" y2=\"19\" />\n",
       "  <line x1=\"116\" y1=\"21\" x2=\"153\" y2=\"21\" />\n",
       "  <line x1=\"118\" y1=\"23\" x2=\"154\" y2=\"23\" />\n",
       "  <line x1=\"121\" y1=\"26\" x2=\"158\" y2=\"26\" />\n",
       "  <line x1=\"123\" y1=\"28\" x2=\"159\" y2=\"28\" />\n",
       "  <line x1=\"124\" y1=\"29\" x2=\"161\" y2=\"29\" />\n",
       "  <line x1=\"128\" y1=\"33\" x2=\"164\" y2=\"33\" />\n",
       "  <line x1=\"129\" y1=\"34\" x2=\"166\" y2=\"34\" />\n",
       "  <line x1=\"131\" y1=\"36\" x2=\"168\" y2=\"36\" />\n",
       "  <line x1=\"134\" y1=\"39\" x2=\"171\" y2=\"39\" />\n",
       "  <line x1=\"136\" y1=\"41\" x2=\"173\" y2=\"41\" />\n",
       "  <line x1=\"138\" y1=\"43\" x2=\"174\" y2=\"43\" />\n",
       "  <line x1=\"141\" y1=\"46\" x2=\"178\" y2=\"46\" />\n",
       "  <line x1=\"143\" y1=\"48\" x2=\"179\" y2=\"48\" />\n",
       "  <line x1=\"144\" y1=\"49\" x2=\"181\" y2=\"49\" />\n",
       "  <line x1=\"148\" y1=\"53\" x2=\"184\" y2=\"53\" />\n",
       "  <line x1=\"149\" y1=\"54\" x2=\"186\" y2=\"54\" />\n",
       "  <line x1=\"151\" y1=\"56\" x2=\"187\" y2=\"56\" />\n",
       "  <line x1=\"154\" y1=\"59\" x2=\"191\" y2=\"59\" />\n",
       "  <line x1=\"156\" y1=\"61\" x2=\"192\" y2=\"61\" />\n",
       "  <line x1=\"158\" y1=\"63\" x2=\"194\" y2=\"63\" />\n",
       "  <line x1=\"161\" y1=\"66\" x2=\"197\" y2=\"66\" />\n",
       "  <line x1=\"163\" y1=\"68\" x2=\"199\" y2=\"68\" />\n",
       "  <line x1=\"165\" y1=\"70\" x2=\"202\" y2=\"70\" style=\"stroke-width:2\" />\n",
       "\n",
       "  <!-- Vertical lines -->\n",
       "  <line x1=\"95\" y1=\"0\" x2=\"165\" y2=\"70\" style=\"stroke-width:2\" />\n",
       "  <line x1=\"131\" y1=\"0\" x2=\"202\" y2=\"70\" style=\"stroke-width:2\" />\n",
       "\n",
       "  <!-- Colored Rectangle -->\n",
       "  <polygon points=\"95.0,0.0 131.58335873970168,0.0 202.17159403381933,70.58823529411765 165.58823529411765,70.58823529411765\" style=\"fill:#8B4903A0;stroke-width:0\"/>\n",
       "\n",
       "  <!-- Horizontal lines -->\n",
       "  <line x1=\"165\" y1=\"70\" x2=\"202\" y2=\"70\" style=\"stroke-width:2\" />\n",
       "  <line x1=\"165\" y1=\"104\" x2=\"202\" y2=\"104\" style=\"stroke-width:2\" />\n",
       "\n",
       "  <!-- Vertical lines -->\n",
       "  <line x1=\"165\" y1=\"70\" x2=\"165\" y2=\"104\" style=\"stroke-width:2\" />\n",
       "  <line x1=\"202\" y1=\"70\" x2=\"202\" y2=\"104\" style=\"stroke-width:2\" />\n",
       "\n",
       "  <!-- Colored Rectangle -->\n",
       "  <polygon points=\"165.58823529411765,70.58823529411765 202.17159403381933,70.58823529411765 202.17159403381933,104.71179459284565 165.58823529411765,104.71179459284565\" style=\"fill:#ECB172A0;stroke-width:0\"/>\n",
       "\n",
       "  <!-- Text -->\n",
       "  <text x=\"183.879915\" y=\"124.711795\" font-size=\"1.0rem\" font-weight=\"100\" text-anchor=\"middle\" >72</text>\n",
       "  <text x=\"222.171594\" y=\"87.650015\" font-size=\"1.0rem\" font-weight=\"100\" text-anchor=\"middle\" transform=\"rotate(0,222.171594,87.650015)\">48</text>\n",
       "  <text x=\"120.294118\" y=\"89.417677\" font-size=\"1.0rem\" font-weight=\"100\" text-anchor=\"middle\" transform=\"rotate(45,120.294118,89.417677)\">1021</text>\n",
       "</svg>\n",
       "        </td>\n",
       "    </tr>\n",
       "</table></div></li><li class='xr-var-item'><div class='xr-var-name'><span>CH4</span></div><div class='xr-var-dims'>(ssp, time)</div><div class='xr-var-dtype'>float64</div><div class='xr-var-preview xr-preview'>dask.array&lt;chunksize=(1, 24), meta=np.ndarray&gt;</div><input id='attrs-0a32f69b-d7bb-4209-be8a-4a7db4400b65' class='xr-var-attrs-in' type='checkbox' disabled><label for='attrs-0a32f69b-d7bb-4209-be8a-4a7db4400b65' title='Show/Hide attributes'><svg class='icon xr-icon-file-text2'><use xlink:href='#icon-file-text2'></use></svg></label><input id='data-e08afa43-0124-45f0-827f-9225e0e0b602' class='xr-var-data-in' type='checkbox'><label for='data-e08afa43-0124-45f0-827f-9225e0e0b602' title='Show/Hide data repr'><svg class='icon xr-icon-database'><use xlink:href='#icon-database'></use></svg></label><div class='xr-var-attrs'><dl class='xr-attrs'></dl></div><div class='xr-var-data'><table>\n",
       "    <tr>\n",
       "        <td>\n",
       "            <table style=\"border-collapse: collapse;\">\n",
       "                <thead>\n",
       "                    <tr>\n",
       "                        <td> </td>\n",
       "                        <th> Array </th>\n",
       "                        <th> Chunk </th>\n",
       "                    </tr>\n",
       "                </thead>\n",
       "                <tbody>\n",
       "                    \n",
       "                    <tr>\n",
       "                        <th> Bytes </th>\n",
       "                        <td> 31.91 kiB </td>\n",
       "                        <td> 192 B </td>\n",
       "                    </tr>\n",
       "                    \n",
       "                    <tr>\n",
       "                        <th> Shape </th>\n",
       "                        <td> (4, 1021) </td>\n",
       "                        <td> (1, 24) </td>\n",
       "                    </tr>\n",
       "                    <tr>\n",
       "                        <th> Dask graph </th>\n",
       "                        <td colspan=\"2\"> 172 chunks in 2 graph layers </td>\n",
       "                    </tr>\n",
       "                    <tr>\n",
       "                        <th> Data type </th>\n",
       "                        <td colspan=\"2\"> float64 numpy.ndarray </td>\n",
       "                    </tr>\n",
       "                </tbody>\n",
       "            </table>\n",
       "        </td>\n",
       "        <td>\n",
       "        <svg width=\"170\" height=\"75\" style=\"stroke:rgb(0,0,0);stroke-width:1\" >\n",
       "\n",
       "  <!-- Horizontal lines -->\n",
       "  <line x1=\"0\" y1=\"0\" x2=\"120\" y2=\"0\" style=\"stroke-width:2\" />\n",
       "  <line x1=\"0\" y1=\"6\" x2=\"120\" y2=\"6\" />\n",
       "  <line x1=\"0\" y1=\"12\" x2=\"120\" y2=\"12\" />\n",
       "  <line x1=\"0\" y1=\"19\" x2=\"120\" y2=\"19\" />\n",
       "  <line x1=\"0\" y1=\"25\" x2=\"120\" y2=\"25\" style=\"stroke-width:2\" />\n",
       "\n",
       "  <!-- Vertical lines -->\n",
       "  <line x1=\"0\" y1=\"0\" x2=\"0\" y2=\"25\" style=\"stroke-width:2\" />\n",
       "  <line x1=\"5\" y1=\"0\" x2=\"5\" y2=\"25\" />\n",
       "  <line x1=\"11\" y1=\"0\" x2=\"11\" y2=\"25\" />\n",
       "  <line x1=\"16\" y1=\"0\" x2=\"16\" y2=\"25\" />\n",
       "  <line x1=\"25\" y1=\"0\" x2=\"25\" y2=\"25\" />\n",
       "  <line x1=\"31\" y1=\"0\" x2=\"31\" y2=\"25\" />\n",
       "  <line x1=\"36\" y1=\"0\" x2=\"36\" y2=\"25\" />\n",
       "  <line x1=\"42\" y1=\"0\" x2=\"42\" y2=\"25\" />\n",
       "  <line x1=\"50\" y1=\"0\" x2=\"50\" y2=\"25\" />\n",
       "  <line x1=\"56\" y1=\"0\" x2=\"56\" y2=\"25\" />\n",
       "  <line x1=\"62\" y1=\"0\" x2=\"62\" y2=\"25\" />\n",
       "  <line x1=\"67\" y1=\"0\" x2=\"67\" y2=\"25\" />\n",
       "  <line x1=\"76\" y1=\"0\" x2=\"76\" y2=\"25\" />\n",
       "  <line x1=\"81\" y1=\"0\" x2=\"81\" y2=\"25\" />\n",
       "  <line x1=\"87\" y1=\"0\" x2=\"87\" y2=\"25\" />\n",
       "  <line x1=\"93\" y1=\"0\" x2=\"93\" y2=\"25\" />\n",
       "  <line x1=\"101\" y1=\"0\" x2=\"101\" y2=\"25\" />\n",
       "  <line x1=\"107\" y1=\"0\" x2=\"107\" y2=\"25\" />\n",
       "  <line x1=\"112\" y1=\"0\" x2=\"112\" y2=\"25\" />\n",
       "  <line x1=\"120\" y1=\"0\" x2=\"120\" y2=\"25\" style=\"stroke-width:2\" />\n",
       "\n",
       "  <!-- Colored Rectangle -->\n",
       "  <polygon points=\"0.0,0.0 120.0,0.0 120.0,25.412616514582485 0.0,25.412616514582485\" style=\"fill:#8B4903A0;stroke-width:0\"/>\n",
       "\n",
       "  <!-- Text -->\n",
       "  <text x=\"60.000000\" y=\"45.412617\" font-size=\"1.0rem\" font-weight=\"100\" text-anchor=\"middle\" >1021</text>\n",
       "  <text x=\"140.000000\" y=\"12.706308\" font-size=\"1.0rem\" font-weight=\"100\" text-anchor=\"middle\" transform=\"rotate(0,140.000000,12.706308)\">4</text>\n",
       "</svg>\n",
       "        </td>\n",
       "    </tr>\n",
       "</table></div></li><li class='xr-var-item'><div class='xr-var-name'><span>CO2</span></div><div class='xr-var-dims'>(ssp, time)</div><div class='xr-var-dtype'>float64</div><div class='xr-var-preview xr-preview'>dask.array&lt;chunksize=(1, 24), meta=np.ndarray&gt;</div><input id='attrs-41309b7a-38e3-49a4-8a83-7f85f6f6eda0' class='xr-var-attrs-in' type='checkbox' disabled><label for='attrs-41309b7a-38e3-49a4-8a83-7f85f6f6eda0' title='Show/Hide attributes'><svg class='icon xr-icon-file-text2'><use xlink:href='#icon-file-text2'></use></svg></label><input id='data-8293a968-95b6-4f5b-a6fe-9889c2de07e7' class='xr-var-data-in' type='checkbox'><label for='data-8293a968-95b6-4f5b-a6fe-9889c2de07e7' title='Show/Hide data repr'><svg class='icon xr-icon-database'><use xlink:href='#icon-database'></use></svg></label><div class='xr-var-attrs'><dl class='xr-attrs'></dl></div><div class='xr-var-data'><table>\n",
       "    <tr>\n",
       "        <td>\n",
       "            <table style=\"border-collapse: collapse;\">\n",
       "                <thead>\n",
       "                    <tr>\n",
       "                        <td> </td>\n",
       "                        <th> Array </th>\n",
       "                        <th> Chunk </th>\n",
       "                    </tr>\n",
       "                </thead>\n",
       "                <tbody>\n",
       "                    \n",
       "                    <tr>\n",
       "                        <th> Bytes </th>\n",
       "                        <td> 31.91 kiB </td>\n",
       "                        <td> 192 B </td>\n",
       "                    </tr>\n",
       "                    \n",
       "                    <tr>\n",
       "                        <th> Shape </th>\n",
       "                        <td> (4, 1021) </td>\n",
       "                        <td> (1, 24) </td>\n",
       "                    </tr>\n",
       "                    <tr>\n",
       "                        <th> Dask graph </th>\n",
       "                        <td colspan=\"2\"> 172 chunks in 2 graph layers </td>\n",
       "                    </tr>\n",
       "                    <tr>\n",
       "                        <th> Data type </th>\n",
       "                        <td colspan=\"2\"> float64 numpy.ndarray </td>\n",
       "                    </tr>\n",
       "                </tbody>\n",
       "            </table>\n",
       "        </td>\n",
       "        <td>\n",
       "        <svg width=\"170\" height=\"75\" style=\"stroke:rgb(0,0,0);stroke-width:1\" >\n",
       "\n",
       "  <!-- Horizontal lines -->\n",
       "  <line x1=\"0\" y1=\"0\" x2=\"120\" y2=\"0\" style=\"stroke-width:2\" />\n",
       "  <line x1=\"0\" y1=\"6\" x2=\"120\" y2=\"6\" />\n",
       "  <line x1=\"0\" y1=\"12\" x2=\"120\" y2=\"12\" />\n",
       "  <line x1=\"0\" y1=\"19\" x2=\"120\" y2=\"19\" />\n",
       "  <line x1=\"0\" y1=\"25\" x2=\"120\" y2=\"25\" style=\"stroke-width:2\" />\n",
       "\n",
       "  <!-- Vertical lines -->\n",
       "  <line x1=\"0\" y1=\"0\" x2=\"0\" y2=\"25\" style=\"stroke-width:2\" />\n",
       "  <line x1=\"5\" y1=\"0\" x2=\"5\" y2=\"25\" />\n",
       "  <line x1=\"11\" y1=\"0\" x2=\"11\" y2=\"25\" />\n",
       "  <line x1=\"16\" y1=\"0\" x2=\"16\" y2=\"25\" />\n",
       "  <line x1=\"25\" y1=\"0\" x2=\"25\" y2=\"25\" />\n",
       "  <line x1=\"31\" y1=\"0\" x2=\"31\" y2=\"25\" />\n",
       "  <line x1=\"36\" y1=\"0\" x2=\"36\" y2=\"25\" />\n",
       "  <line x1=\"42\" y1=\"0\" x2=\"42\" y2=\"25\" />\n",
       "  <line x1=\"50\" y1=\"0\" x2=\"50\" y2=\"25\" />\n",
       "  <line x1=\"56\" y1=\"0\" x2=\"56\" y2=\"25\" />\n",
       "  <line x1=\"62\" y1=\"0\" x2=\"62\" y2=\"25\" />\n",
       "  <line x1=\"67\" y1=\"0\" x2=\"67\" y2=\"25\" />\n",
       "  <line x1=\"76\" y1=\"0\" x2=\"76\" y2=\"25\" />\n",
       "  <line x1=\"81\" y1=\"0\" x2=\"81\" y2=\"25\" />\n",
       "  <line x1=\"87\" y1=\"0\" x2=\"87\" y2=\"25\" />\n",
       "  <line x1=\"93\" y1=\"0\" x2=\"93\" y2=\"25\" />\n",
       "  <line x1=\"101\" y1=\"0\" x2=\"101\" y2=\"25\" />\n",
       "  <line x1=\"107\" y1=\"0\" x2=\"107\" y2=\"25\" />\n",
       "  <line x1=\"112\" y1=\"0\" x2=\"112\" y2=\"25\" />\n",
       "  <line x1=\"120\" y1=\"0\" x2=\"120\" y2=\"25\" style=\"stroke-width:2\" />\n",
       "\n",
       "  <!-- Colored Rectangle -->\n",
       "  <polygon points=\"0.0,0.0 120.0,0.0 120.0,25.412616514582485 0.0,25.412616514582485\" style=\"fill:#8B4903A0;stroke-width:0\"/>\n",
       "\n",
       "  <!-- Text -->\n",
       "  <text x=\"60.000000\" y=\"45.412617\" font-size=\"1.0rem\" font-weight=\"100\" text-anchor=\"middle\" >1021</text>\n",
       "  <text x=\"140.000000\" y=\"12.706308\" font-size=\"1.0rem\" font-weight=\"100\" text-anchor=\"middle\" transform=\"rotate(0,140.000000,12.706308)\">4</text>\n",
       "</svg>\n",
       "        </td>\n",
       "    </tr>\n",
       "</table></div></li><li class='xr-var-item'><div class='xr-var-name'><span>SO2</span></div><div class='xr-var-dims'>(ssp, time, latitude, longitude)</div><div class='xr-var-dtype'>float64</div><div class='xr-var-preview xr-preview'>dask.array&lt;chunksize=(1, 24, 48, 72), meta=np.ndarray&gt;</div><input id='attrs-9642deab-92be-409e-9f68-7b4b28c4752a' class='xr-var-attrs-in' type='checkbox' ><label for='attrs-9642deab-92be-409e-9f68-7b4b28c4752a' title='Show/Hide attributes'><svg class='icon xr-icon-file-text2'><use xlink:href='#icon-file-text2'></use></svg></label><input id='data-33b4a68d-cb4c-4d38-9b2c-bf5494c8a980' class='xr-var-data-in' type='checkbox'><label for='data-33b4a68d-cb4c-4d38-9b2c-bf5494c8a980' title='Show/Hide data repr'><svg class='icon xr-icon-database'><use xlink:href='#icon-database'></use></svg></label><div class='xr-var-attrs'><dl class='xr-attrs'><dt><span>regrid_method :</span></dt><dd>conservative</dd></dl></div><div class='xr-var-data'><table>\n",
       "    <tr>\n",
       "        <td>\n",
       "            <table style=\"border-collapse: collapse;\">\n",
       "                <thead>\n",
       "                    <tr>\n",
       "                        <td> </td>\n",
       "                        <th> Array </th>\n",
       "                        <th> Chunk </th>\n",
       "                    </tr>\n",
       "                </thead>\n",
       "                <tbody>\n",
       "                    \n",
       "                    <tr>\n",
       "                        <th> Bytes </th>\n",
       "                        <td> 107.68 MiB </td>\n",
       "                        <td> 648.00 kiB </td>\n",
       "                    </tr>\n",
       "                    \n",
       "                    <tr>\n",
       "                        <th> Shape </th>\n",
       "                        <td> (4, 1021, 48, 72) </td>\n",
       "                        <td> (1, 24, 48, 72) </td>\n",
       "                    </tr>\n",
       "                    <tr>\n",
       "                        <th> Dask graph </th>\n",
       "                        <td colspan=\"2\"> 172 chunks in 2 graph layers </td>\n",
       "                    </tr>\n",
       "                    <tr>\n",
       "                        <th> Data type </th>\n",
       "                        <td colspan=\"2\"> float64 numpy.ndarray </td>\n",
       "                    </tr>\n",
       "                </tbody>\n",
       "            </table>\n",
       "        </td>\n",
       "        <td>\n",
       "        <svg width=\"347\" height=\"154\" style=\"stroke:rgb(0,0,0);stroke-width:1\" >\n",
       "\n",
       "  <!-- Horizontal lines -->\n",
       "  <line x1=\"0\" y1=\"0\" x2=\"25\" y2=\"0\" style=\"stroke-width:2\" />\n",
       "  <line x1=\"0\" y1=\"25\" x2=\"25\" y2=\"25\" style=\"stroke-width:2\" />\n",
       "\n",
       "  <!-- Vertical lines -->\n",
       "  <line x1=\"0\" y1=\"0\" x2=\"0\" y2=\"25\" style=\"stroke-width:2\" />\n",
       "  <line x1=\"6\" y1=\"0\" x2=\"6\" y2=\"25\" />\n",
       "  <line x1=\"12\" y1=\"0\" x2=\"12\" y2=\"25\" />\n",
       "  <line x1=\"19\" y1=\"0\" x2=\"19\" y2=\"25\" />\n",
       "  <line x1=\"25\" y1=\"0\" x2=\"25\" y2=\"25\" style=\"stroke-width:2\" />\n",
       "\n",
       "  <!-- Colored Rectangle -->\n",
       "  <polygon points=\"0.0,0.0 25.412616514582485,0.0 25.412616514582485,25.412616514582485 0.0,25.412616514582485\" style=\"fill:#ECB172A0;stroke-width:0\"/>\n",
       "\n",
       "  <!-- Text -->\n",
       "  <text x=\"12.706308\" y=\"45.412617\" font-size=\"1.0rem\" font-weight=\"100\" text-anchor=\"middle\" >4</text>\n",
       "  <text x=\"45.412617\" y=\"12.706308\" font-size=\"1.0rem\" font-weight=\"100\" text-anchor=\"middle\" transform=\"rotate(0,45.412617,12.706308)\">1</text>\n",
       "\n",
       "\n",
       "  <!-- Horizontal lines -->\n",
       "  <line x1=\"95\" y1=\"0\" x2=\"165\" y2=\"70\" style=\"stroke-width:2\" />\n",
       "  <line x1=\"95\" y1=\"34\" x2=\"165\" y2=\"104\" style=\"stroke-width:2\" />\n",
       "\n",
       "  <!-- Vertical lines -->\n",
       "  <line x1=\"95\" y1=\"0\" x2=\"95\" y2=\"34\" style=\"stroke-width:2\" />\n",
       "  <line x1=\"96\" y1=\"1\" x2=\"96\" y2=\"35\" />\n",
       "  <line x1=\"98\" y1=\"3\" x2=\"98\" y2=\"37\" />\n",
       "  <line x1=\"101\" y1=\"6\" x2=\"101\" y2=\"40\" />\n",
       "  <line x1=\"103\" y1=\"8\" x2=\"103\" y2=\"42\" />\n",
       "  <line x1=\"104\" y1=\"9\" x2=\"104\" y2=\"44\" />\n",
       "  <line x1=\"108\" y1=\"13\" x2=\"108\" y2=\"47\" />\n",
       "  <line x1=\"109\" y1=\"14\" x2=\"109\" y2=\"49\" />\n",
       "  <line x1=\"111\" y1=\"16\" x2=\"111\" y2=\"50\" />\n",
       "  <line x1=\"114\" y1=\"19\" x2=\"114\" y2=\"54\" />\n",
       "  <line x1=\"116\" y1=\"21\" x2=\"116\" y2=\"55\" />\n",
       "  <line x1=\"118\" y1=\"23\" x2=\"118\" y2=\"57\" />\n",
       "  <line x1=\"121\" y1=\"26\" x2=\"121\" y2=\"60\" />\n",
       "  <line x1=\"123\" y1=\"28\" x2=\"123\" y2=\"62\" />\n",
       "  <line x1=\"124\" y1=\"29\" x2=\"124\" y2=\"63\" />\n",
       "  <line x1=\"128\" y1=\"33\" x2=\"128\" y2=\"67\" />\n",
       "  <line x1=\"129\" y1=\"34\" x2=\"129\" y2=\"68\" />\n",
       "  <line x1=\"131\" y1=\"36\" x2=\"131\" y2=\"70\" />\n",
       "  <line x1=\"134\" y1=\"39\" x2=\"134\" y2=\"73\" />\n",
       "  <line x1=\"136\" y1=\"41\" x2=\"136\" y2=\"75\" />\n",
       "  <line x1=\"138\" y1=\"43\" x2=\"138\" y2=\"77\" />\n",
       "  <line x1=\"141\" y1=\"46\" x2=\"141\" y2=\"80\" />\n",
       "  <line x1=\"143\" y1=\"48\" x2=\"143\" y2=\"82\" />\n",
       "  <line x1=\"144\" y1=\"49\" x2=\"144\" y2=\"83\" />\n",
       "  <line x1=\"148\" y1=\"53\" x2=\"148\" y2=\"87\" />\n",
       "  <line x1=\"149\" y1=\"54\" x2=\"149\" y2=\"88\" />\n",
       "  <line x1=\"151\" y1=\"56\" x2=\"151\" y2=\"90\" />\n",
       "  <line x1=\"154\" y1=\"59\" x2=\"154\" y2=\"93\" />\n",
       "  <line x1=\"156\" y1=\"61\" x2=\"156\" y2=\"95\" />\n",
       "  <line x1=\"158\" y1=\"63\" x2=\"158\" y2=\"97\" />\n",
       "  <line x1=\"161\" y1=\"66\" x2=\"161\" y2=\"100\" />\n",
       "  <line x1=\"163\" y1=\"68\" x2=\"163\" y2=\"102\" />\n",
       "  <line x1=\"165\" y1=\"70\" x2=\"165\" y2=\"104\" style=\"stroke-width:2\" />\n",
       "\n",
       "  <!-- Colored Rectangle -->\n",
       "  <polygon points=\"95.0,0.0 165.58823529411765,70.58823529411765 165.58823529411765,104.71179459284565 95.0,34.12355929872799\" style=\"fill:#8B4903A0;stroke-width:0\"/>\n",
       "\n",
       "  <!-- Horizontal lines -->\n",
       "  <line x1=\"95\" y1=\"0\" x2=\"131\" y2=\"0\" style=\"stroke-width:2\" />\n",
       "  <line x1=\"96\" y1=\"1\" x2=\"133\" y2=\"1\" />\n",
       "  <line x1=\"98\" y1=\"3\" x2=\"134\" y2=\"3\" />\n",
       "  <line x1=\"101\" y1=\"6\" x2=\"138\" y2=\"6\" />\n",
       "  <line x1=\"103\" y1=\"8\" x2=\"139\" y2=\"8\" />\n",
       "  <line x1=\"104\" y1=\"9\" x2=\"141\" y2=\"9\" />\n",
       "  <line x1=\"108\" y1=\"13\" x2=\"144\" y2=\"13\" />\n",
       "  <line x1=\"109\" y1=\"14\" x2=\"146\" y2=\"14\" />\n",
       "  <line x1=\"111\" y1=\"16\" x2=\"148\" y2=\"16\" />\n",
       "  <line x1=\"114\" y1=\"19\" x2=\"151\" y2=\"19\" />\n",
       "  <line x1=\"116\" y1=\"21\" x2=\"153\" y2=\"21\" />\n",
       "  <line x1=\"118\" y1=\"23\" x2=\"154\" y2=\"23\" />\n",
       "  <line x1=\"121\" y1=\"26\" x2=\"158\" y2=\"26\" />\n",
       "  <line x1=\"123\" y1=\"28\" x2=\"159\" y2=\"28\" />\n",
       "  <line x1=\"124\" y1=\"29\" x2=\"161\" y2=\"29\" />\n",
       "  <line x1=\"128\" y1=\"33\" x2=\"164\" y2=\"33\" />\n",
       "  <line x1=\"129\" y1=\"34\" x2=\"166\" y2=\"34\" />\n",
       "  <line x1=\"131\" y1=\"36\" x2=\"168\" y2=\"36\" />\n",
       "  <line x1=\"134\" y1=\"39\" x2=\"171\" y2=\"39\" />\n",
       "  <line x1=\"136\" y1=\"41\" x2=\"173\" y2=\"41\" />\n",
       "  <line x1=\"138\" y1=\"43\" x2=\"174\" y2=\"43\" />\n",
       "  <line x1=\"141\" y1=\"46\" x2=\"178\" y2=\"46\" />\n",
       "  <line x1=\"143\" y1=\"48\" x2=\"179\" y2=\"48\" />\n",
       "  <line x1=\"144\" y1=\"49\" x2=\"181\" y2=\"49\" />\n",
       "  <line x1=\"148\" y1=\"53\" x2=\"184\" y2=\"53\" />\n",
       "  <line x1=\"149\" y1=\"54\" x2=\"186\" y2=\"54\" />\n",
       "  <line x1=\"151\" y1=\"56\" x2=\"187\" y2=\"56\" />\n",
       "  <line x1=\"154\" y1=\"59\" x2=\"191\" y2=\"59\" />\n",
       "  <line x1=\"156\" y1=\"61\" x2=\"192\" y2=\"61\" />\n",
       "  <line x1=\"158\" y1=\"63\" x2=\"194\" y2=\"63\" />\n",
       "  <line x1=\"161\" y1=\"66\" x2=\"197\" y2=\"66\" />\n",
       "  <line x1=\"163\" y1=\"68\" x2=\"199\" y2=\"68\" />\n",
       "  <line x1=\"165\" y1=\"70\" x2=\"202\" y2=\"70\" style=\"stroke-width:2\" />\n",
       "\n",
       "  <!-- Vertical lines -->\n",
       "  <line x1=\"95\" y1=\"0\" x2=\"165\" y2=\"70\" style=\"stroke-width:2\" />\n",
       "  <line x1=\"131\" y1=\"0\" x2=\"202\" y2=\"70\" style=\"stroke-width:2\" />\n",
       "\n",
       "  <!-- Colored Rectangle -->\n",
       "  <polygon points=\"95.0,0.0 131.58335873970168,0.0 202.17159403381933,70.58823529411765 165.58823529411765,70.58823529411765\" style=\"fill:#8B4903A0;stroke-width:0\"/>\n",
       "\n",
       "  <!-- Horizontal lines -->\n",
       "  <line x1=\"165\" y1=\"70\" x2=\"202\" y2=\"70\" style=\"stroke-width:2\" />\n",
       "  <line x1=\"165\" y1=\"104\" x2=\"202\" y2=\"104\" style=\"stroke-width:2\" />\n",
       "\n",
       "  <!-- Vertical lines -->\n",
       "  <line x1=\"165\" y1=\"70\" x2=\"165\" y2=\"104\" style=\"stroke-width:2\" />\n",
       "  <line x1=\"202\" y1=\"70\" x2=\"202\" y2=\"104\" style=\"stroke-width:2\" />\n",
       "\n",
       "  <!-- Colored Rectangle -->\n",
       "  <polygon points=\"165.58823529411765,70.58823529411765 202.17159403381933,70.58823529411765 202.17159403381933,104.71179459284565 165.58823529411765,104.71179459284565\" style=\"fill:#ECB172A0;stroke-width:0\"/>\n",
       "\n",
       "  <!-- Text -->\n",
       "  <text x=\"183.879915\" y=\"124.711795\" font-size=\"1.0rem\" font-weight=\"100\" text-anchor=\"middle\" >72</text>\n",
       "  <text x=\"222.171594\" y=\"87.650015\" font-size=\"1.0rem\" font-weight=\"100\" text-anchor=\"middle\" transform=\"rotate(0,222.171594,87.650015)\">48</text>\n",
       "  <text x=\"120.294118\" y=\"89.417677\" font-size=\"1.0rem\" font-weight=\"100\" text-anchor=\"middle\" transform=\"rotate(45,120.294118,89.417677)\">1021</text>\n",
       "</svg>\n",
       "        </td>\n",
       "    </tr>\n",
       "</table></div></li><li class='xr-var-item'><div class='xr-var-name'><span>pr</span></div><div class='xr-var-dims'>(ssp, time, member_id, y, x)</div><div class='xr-var-dtype'>float32</div><div class='xr-var-preview xr-preview'>dask.array&lt;chunksize=(1, 24, 1, 48, 72), meta=np.ndarray&gt;</div><input id='attrs-20637fa4-3d41-4dcd-aad1-148f2b90ec4e' class='xr-var-attrs-in' type='checkbox' ><label for='attrs-20637fa4-3d41-4dcd-aad1-148f2b90ec4e' title='Show/Hide attributes'><svg class='icon xr-icon-file-text2'><use xlink:href='#icon-file-text2'></use></svg></label><input id='data-4fa3e18a-183f-429c-be64-a7851ba1ab69' class='xr-var-data-in' type='checkbox'><label for='data-4fa3e18a-183f-429c-be64-a7851ba1ab69' title='Show/Hide data repr'><svg class='icon xr-icon-database'><use xlink:href='#icon-database'></use></svg></label><div class='xr-var-attrs'><dl class='xr-attrs'><dt><span>conversion_applied :</span></dt><dd>multiplied by 86400 to convert from kg m-2 s-1 to mm/day</dd><dt><span>original_units :</span></dt><dd>kg/m²/s</dd><dt><span>units :</span></dt><dd>mm/day</dd></dl></div><div class='xr-var-data'><table>\n",
       "    <tr>\n",
       "        <td>\n",
       "            <table style=\"border-collapse: collapse;\">\n",
       "                <thead>\n",
       "                    <tr>\n",
       "                        <td> </td>\n",
       "                        <th> Array </th>\n",
       "                        <th> Chunk </th>\n",
       "                    </tr>\n",
       "                </thead>\n",
       "                <tbody>\n",
       "                    \n",
       "                    <tr>\n",
       "                        <th> Bytes </th>\n",
       "                        <td> 161.53 MiB </td>\n",
       "                        <td> 324.00 kiB </td>\n",
       "                    </tr>\n",
       "                    \n",
       "                    <tr>\n",
       "                        <th> Shape </th>\n",
       "                        <td> (4, 1021, 3, 48, 72) </td>\n",
       "                        <td> (1, 24, 1, 48, 72) </td>\n",
       "                    </tr>\n",
       "                    <tr>\n",
       "                        <th> Dask graph </th>\n",
       "                        <td colspan=\"2\"> 516 chunks in 2 graph layers </td>\n",
       "                    </tr>\n",
       "                    <tr>\n",
       "                        <th> Data type </th>\n",
       "                        <td colspan=\"2\"> float32 numpy.ndarray </td>\n",
       "                    </tr>\n",
       "                </tbody>\n",
       "            </table>\n",
       "        </td>\n",
       "        <td>\n",
       "        <svg width=\"481\" height=\"99\" style=\"stroke:rgb(0,0,0);stroke-width:1\" >\n",
       "\n",
       "  <!-- Horizontal lines -->\n",
       "  <line x1=\"0\" y1=\"0\" x2=\"120\" y2=\"0\" style=\"stroke-width:2\" />\n",
       "  <line x1=\"0\" y1=\"6\" x2=\"120\" y2=\"6\" />\n",
       "  <line x1=\"0\" y1=\"12\" x2=\"120\" y2=\"12\" />\n",
       "  <line x1=\"0\" y1=\"19\" x2=\"120\" y2=\"19\" />\n",
       "  <line x1=\"0\" y1=\"25\" x2=\"120\" y2=\"25\" style=\"stroke-width:2\" />\n",
       "\n",
       "  <!-- Vertical lines -->\n",
       "  <line x1=\"0\" y1=\"0\" x2=\"0\" y2=\"25\" style=\"stroke-width:2\" />\n",
       "  <line x1=\"2\" y1=\"0\" x2=\"2\" y2=\"25\" />\n",
       "  <line x1=\"5\" y1=\"0\" x2=\"5\" y2=\"25\" />\n",
       "  <line x1=\"11\" y1=\"0\" x2=\"11\" y2=\"25\" />\n",
       "  <line x1=\"14\" y1=\"0\" x2=\"14\" y2=\"25\" />\n",
       "  <line x1=\"16\" y1=\"0\" x2=\"16\" y2=\"25\" />\n",
       "  <line x1=\"22\" y1=\"0\" x2=\"22\" y2=\"25\" />\n",
       "  <line x1=\"25\" y1=\"0\" x2=\"25\" y2=\"25\" />\n",
       "  <line x1=\"28\" y1=\"0\" x2=\"28\" y2=\"25\" />\n",
       "  <line x1=\"33\" y1=\"0\" x2=\"33\" y2=\"25\" />\n",
       "  <line x1=\"36\" y1=\"0\" x2=\"36\" y2=\"25\" />\n",
       "  <line x1=\"39\" y1=\"0\" x2=\"39\" y2=\"25\" />\n",
       "  <line x1=\"45\" y1=\"0\" x2=\"45\" y2=\"25\" />\n",
       "  <line x1=\"47\" y1=\"0\" x2=\"47\" y2=\"25\" />\n",
       "  <line x1=\"50\" y1=\"0\" x2=\"50\" y2=\"25\" />\n",
       "  <line x1=\"56\" y1=\"0\" x2=\"56\" y2=\"25\" />\n",
       "  <line x1=\"59\" y1=\"0\" x2=\"59\" y2=\"25\" />\n",
       "  <line x1=\"62\" y1=\"0\" x2=\"62\" y2=\"25\" />\n",
       "  <line x1=\"67\" y1=\"0\" x2=\"67\" y2=\"25\" />\n",
       "  <line x1=\"70\" y1=\"0\" x2=\"70\" y2=\"25\" />\n",
       "  <line x1=\"73\" y1=\"0\" x2=\"73\" y2=\"25\" />\n",
       "  <line x1=\"78\" y1=\"0\" x2=\"78\" y2=\"25\" />\n",
       "  <line x1=\"81\" y1=\"0\" x2=\"81\" y2=\"25\" />\n",
       "  <line x1=\"84\" y1=\"0\" x2=\"84\" y2=\"25\" />\n",
       "  <line x1=\"90\" y1=\"0\" x2=\"90\" y2=\"25\" />\n",
       "  <line x1=\"93\" y1=\"0\" x2=\"93\" y2=\"25\" />\n",
       "  <line x1=\"95\" y1=\"0\" x2=\"95\" y2=\"25\" />\n",
       "  <line x1=\"101\" y1=\"0\" x2=\"101\" y2=\"25\" />\n",
       "  <line x1=\"104\" y1=\"0\" x2=\"104\" y2=\"25\" />\n",
       "  <line x1=\"107\" y1=\"0\" x2=\"107\" y2=\"25\" />\n",
       "  <line x1=\"112\" y1=\"0\" x2=\"112\" y2=\"25\" />\n",
       "  <line x1=\"115\" y1=\"0\" x2=\"115\" y2=\"25\" />\n",
       "  <line x1=\"120\" y1=\"0\" x2=\"120\" y2=\"25\" style=\"stroke-width:2\" />\n",
       "\n",
       "  <!-- Colored Rectangle -->\n",
       "  <polygon points=\"0.0,0.0 120.0,0.0 120.0,25.412616514582485 0.0,25.412616514582485\" style=\"fill:#8B4903A0;stroke-width:0\"/>\n",
       "\n",
       "  <!-- Text -->\n",
       "  <text x=\"60.000000\" y=\"45.412617\" font-size=\"1.0rem\" font-weight=\"100\" text-anchor=\"middle\" >1021</text>\n",
       "  <text x=\"140.000000\" y=\"12.706308\" font-size=\"1.0rem\" font-weight=\"100\" text-anchor=\"middle\" transform=\"rotate(0,140.000000,12.706308)\">4</text>\n",
       "\n",
       "\n",
       "  <!-- Horizontal lines -->\n",
       "  <line x1=\"190\" y1=\"0\" x2=\"204\" y2=\"14\" style=\"stroke-width:2\" />\n",
       "  <line x1=\"190\" y1=\"34\" x2=\"204\" y2=\"49\" style=\"stroke-width:2\" />\n",
       "\n",
       "  <!-- Vertical lines -->\n",
       "  <line x1=\"190\" y1=\"0\" x2=\"190\" y2=\"34\" style=\"stroke-width:2\" />\n",
       "  <line x1=\"194\" y1=\"4\" x2=\"194\" y2=\"39\" />\n",
       "  <line x1=\"199\" y1=\"9\" x2=\"199\" y2=\"44\" />\n",
       "  <line x1=\"204\" y1=\"14\" x2=\"204\" y2=\"49\" style=\"stroke-width:2\" />\n",
       "\n",
       "  <!-- Colored Rectangle -->\n",
       "  <polygon points=\"190.0,0.0 204.9485979497544,14.948597949754403 204.9485979497544,49.07215724848239 190.0,34.12355929872799\" style=\"fill:#ECB172A0;stroke-width:0\"/>\n",
       "\n",
       "  <!-- Horizontal lines -->\n",
       "  <line x1=\"190\" y1=\"0\" x2=\"226\" y2=\"0\" style=\"stroke-width:2\" />\n",
       "  <line x1=\"194\" y1=\"4\" x2=\"231\" y2=\"4\" />\n",
       "  <line x1=\"199\" y1=\"9\" x2=\"236\" y2=\"9\" />\n",
       "  <line x1=\"204\" y1=\"14\" x2=\"241\" y2=\"14\" style=\"stroke-width:2\" />\n",
       "\n",
       "  <!-- Vertical lines -->\n",
       "  <line x1=\"190\" y1=\"0\" x2=\"204\" y2=\"14\" style=\"stroke-width:2\" />\n",
       "  <line x1=\"226\" y1=\"0\" x2=\"241\" y2=\"14\" style=\"stroke-width:2\" />\n",
       "\n",
       "  <!-- Colored Rectangle -->\n",
       "  <polygon points=\"190.0,0.0 226.58335873970168,0.0 241.53195668945608,14.948597949754403 204.9485979497544,14.948597949754403\" style=\"fill:#ECB172A0;stroke-width:0\"/>\n",
       "\n",
       "  <!-- Horizontal lines -->\n",
       "  <line x1=\"204\" y1=\"14\" x2=\"241\" y2=\"14\" style=\"stroke-width:2\" />\n",
       "  <line x1=\"204\" y1=\"49\" x2=\"241\" y2=\"49\" style=\"stroke-width:2\" />\n",
       "\n",
       "  <!-- Vertical lines -->\n",
       "  <line x1=\"204\" y1=\"14\" x2=\"204\" y2=\"49\" style=\"stroke-width:2\" />\n",
       "  <line x1=\"241\" y1=\"14\" x2=\"241\" y2=\"49\" style=\"stroke-width:2\" />\n",
       "\n",
       "  <!-- Colored Rectangle -->\n",
       "  <polygon points=\"204.9485979497544,14.948597949754403 241.53195668945608,14.948597949754403 241.53195668945608,49.07215724848239 204.9485979497544,49.07215724848239\" style=\"fill:#ECB172A0;stroke-width:0\"/>\n",
       "\n",
       "  <!-- Text -->\n",
       "  <text x=\"223.240277\" y=\"69.072157\" font-size=\"1.0rem\" font-weight=\"100\" text-anchor=\"middle\" >72</text>\n",
       "  <text x=\"261.531957\" y=\"32.010378\" font-size=\"1.0rem\" font-weight=\"100\" text-anchor=\"middle\" transform=\"rotate(0,261.531957,32.010378)\">48</text>\n",
       "  <text x=\"187.474299\" y=\"61.597858\" font-size=\"1.0rem\" font-weight=\"100\" text-anchor=\"middle\" transform=\"rotate(45,187.474299,61.597858)\">3</text>\n",
       "</svg>\n",
       "        </td>\n",
       "    </tr>\n",
       "</table></div></li><li class='xr-var-item'><div class='xr-var-name'><span>rsdt</span></div><div class='xr-var-dims'>(ssp, time, y, x)</div><div class='xr-var-dtype'>float32</div><div class='xr-var-preview xr-preview'>dask.array&lt;chunksize=(1, 24, 48, 72), meta=np.ndarray&gt;</div><input id='attrs-b3819478-ff73-4f8f-9a70-0134dbb758eb' class='xr-var-attrs-in' type='checkbox' ><label for='attrs-b3819478-ff73-4f8f-9a70-0134dbb758eb' title='Show/Hide attributes'><svg class='icon xr-icon-file-text2'><use xlink:href='#icon-file-text2'></use></svg></label><input id='data-b47d37f5-1826-4b3b-9eb1-2aae733bbfaf' class='xr-var-data-in' type='checkbox'><label for='data-b47d37f5-1826-4b3b-9eb1-2aae733bbfaf' title='Show/Hide data repr'><svg class='icon xr-icon-database'><use xlink:href='#icon-database'></use></svg></label><div class='xr-var-attrs'><dl class='xr-attrs'><dt><span>cell_measures :</span></dt><dd>area: areacella</dd><dt><span>cell_methods :</span></dt><dd>area: time: mean</dd><dt><span>comment :</span></dt><dd>SOLIN</dd><dt><span>description :</span></dt><dd>at the top of the atmosphere</dd><dt><span>frequency :</span></dt><dd>mon</dd><dt><span>id :</span></dt><dd>rsdt</dd><dt><span>long_name :</span></dt><dd>TOA Incident Shortwave Radiation</dd><dt><span>mipTable :</span></dt><dd>Amon</dd><dt><span>out_name :</span></dt><dd>rsdt</dd><dt><span>positive :</span></dt><dd>down</dd><dt><span>prov :</span></dt><dd>Amon ((isd.003))</dd><dt><span>realm :</span></dt><dd>atmos</dd><dt><span>standard_name :</span></dt><dd>toa_incoming_shortwave_flux</dd><dt><span>time :</span></dt><dd>time</dd><dt><span>time_label :</span></dt><dd>time-mean</dd><dt><span>time_title :</span></dt><dd>Temporal mean</dd><dt><span>title :</span></dt><dd>TOA Incident Shortwave Radiation</dd><dt><span>type :</span></dt><dd>real</dd><dt><span>units :</span></dt><dd>W/m²</dd><dt><span>variable_id :</span></dt><dd>rsdt</dd></dl></div><div class='xr-var-data'><table>\n",
       "    <tr>\n",
       "        <td>\n",
       "            <table style=\"border-collapse: collapse;\">\n",
       "                <thead>\n",
       "                    <tr>\n",
       "                        <td> </td>\n",
       "                        <th> Array </th>\n",
       "                        <th> Chunk </th>\n",
       "                    </tr>\n",
       "                </thead>\n",
       "                <tbody>\n",
       "                    \n",
       "                    <tr>\n",
       "                        <th> Bytes </th>\n",
       "                        <td> 53.84 MiB </td>\n",
       "                        <td> 324.00 kiB </td>\n",
       "                    </tr>\n",
       "                    \n",
       "                    <tr>\n",
       "                        <th> Shape </th>\n",
       "                        <td> (4, 1021, 48, 72) </td>\n",
       "                        <td> (1, 24, 48, 72) </td>\n",
       "                    </tr>\n",
       "                    <tr>\n",
       "                        <th> Dask graph </th>\n",
       "                        <td colspan=\"2\"> 172 chunks in 2 graph layers </td>\n",
       "                    </tr>\n",
       "                    <tr>\n",
       "                        <th> Data type </th>\n",
       "                        <td colspan=\"2\"> float32 numpy.ndarray </td>\n",
       "                    </tr>\n",
       "                </tbody>\n",
       "            </table>\n",
       "        </td>\n",
       "        <td>\n",
       "        <svg width=\"347\" height=\"154\" style=\"stroke:rgb(0,0,0);stroke-width:1\" >\n",
       "\n",
       "  <!-- Horizontal lines -->\n",
       "  <line x1=\"0\" y1=\"0\" x2=\"25\" y2=\"0\" style=\"stroke-width:2\" />\n",
       "  <line x1=\"0\" y1=\"25\" x2=\"25\" y2=\"25\" style=\"stroke-width:2\" />\n",
       "\n",
       "  <!-- Vertical lines -->\n",
       "  <line x1=\"0\" y1=\"0\" x2=\"0\" y2=\"25\" style=\"stroke-width:2\" />\n",
       "  <line x1=\"6\" y1=\"0\" x2=\"6\" y2=\"25\" />\n",
       "  <line x1=\"12\" y1=\"0\" x2=\"12\" y2=\"25\" />\n",
       "  <line x1=\"19\" y1=\"0\" x2=\"19\" y2=\"25\" />\n",
       "  <line x1=\"25\" y1=\"0\" x2=\"25\" y2=\"25\" style=\"stroke-width:2\" />\n",
       "\n",
       "  <!-- Colored Rectangle -->\n",
       "  <polygon points=\"0.0,0.0 25.412616514582485,0.0 25.412616514582485,25.412616514582485 0.0,25.412616514582485\" style=\"fill:#ECB172A0;stroke-width:0\"/>\n",
       "\n",
       "  <!-- Text -->\n",
       "  <text x=\"12.706308\" y=\"45.412617\" font-size=\"1.0rem\" font-weight=\"100\" text-anchor=\"middle\" >4</text>\n",
       "  <text x=\"45.412617\" y=\"12.706308\" font-size=\"1.0rem\" font-weight=\"100\" text-anchor=\"middle\" transform=\"rotate(0,45.412617,12.706308)\">1</text>\n",
       "\n",
       "\n",
       "  <!-- Horizontal lines -->\n",
       "  <line x1=\"95\" y1=\"0\" x2=\"165\" y2=\"70\" style=\"stroke-width:2\" />\n",
       "  <line x1=\"95\" y1=\"34\" x2=\"165\" y2=\"104\" style=\"stroke-width:2\" />\n",
       "\n",
       "  <!-- Vertical lines -->\n",
       "  <line x1=\"95\" y1=\"0\" x2=\"95\" y2=\"34\" style=\"stroke-width:2\" />\n",
       "  <line x1=\"96\" y1=\"1\" x2=\"96\" y2=\"35\" />\n",
       "  <line x1=\"98\" y1=\"3\" x2=\"98\" y2=\"37\" />\n",
       "  <line x1=\"101\" y1=\"6\" x2=\"101\" y2=\"40\" />\n",
       "  <line x1=\"103\" y1=\"8\" x2=\"103\" y2=\"42\" />\n",
       "  <line x1=\"104\" y1=\"9\" x2=\"104\" y2=\"44\" />\n",
       "  <line x1=\"108\" y1=\"13\" x2=\"108\" y2=\"47\" />\n",
       "  <line x1=\"109\" y1=\"14\" x2=\"109\" y2=\"49\" />\n",
       "  <line x1=\"111\" y1=\"16\" x2=\"111\" y2=\"50\" />\n",
       "  <line x1=\"114\" y1=\"19\" x2=\"114\" y2=\"54\" />\n",
       "  <line x1=\"116\" y1=\"21\" x2=\"116\" y2=\"55\" />\n",
       "  <line x1=\"118\" y1=\"23\" x2=\"118\" y2=\"57\" />\n",
       "  <line x1=\"121\" y1=\"26\" x2=\"121\" y2=\"60\" />\n",
       "  <line x1=\"123\" y1=\"28\" x2=\"123\" y2=\"62\" />\n",
       "  <line x1=\"124\" y1=\"29\" x2=\"124\" y2=\"63\" />\n",
       "  <line x1=\"128\" y1=\"33\" x2=\"128\" y2=\"67\" />\n",
       "  <line x1=\"129\" y1=\"34\" x2=\"129\" y2=\"68\" />\n",
       "  <line x1=\"131\" y1=\"36\" x2=\"131\" y2=\"70\" />\n",
       "  <line x1=\"134\" y1=\"39\" x2=\"134\" y2=\"73\" />\n",
       "  <line x1=\"136\" y1=\"41\" x2=\"136\" y2=\"75\" />\n",
       "  <line x1=\"138\" y1=\"43\" x2=\"138\" y2=\"77\" />\n",
       "  <line x1=\"141\" y1=\"46\" x2=\"141\" y2=\"80\" />\n",
       "  <line x1=\"143\" y1=\"48\" x2=\"143\" y2=\"82\" />\n",
       "  <line x1=\"144\" y1=\"49\" x2=\"144\" y2=\"83\" />\n",
       "  <line x1=\"148\" y1=\"53\" x2=\"148\" y2=\"87\" />\n",
       "  <line x1=\"149\" y1=\"54\" x2=\"149\" y2=\"88\" />\n",
       "  <line x1=\"151\" y1=\"56\" x2=\"151\" y2=\"90\" />\n",
       "  <line x1=\"154\" y1=\"59\" x2=\"154\" y2=\"93\" />\n",
       "  <line x1=\"156\" y1=\"61\" x2=\"156\" y2=\"95\" />\n",
       "  <line x1=\"158\" y1=\"63\" x2=\"158\" y2=\"97\" />\n",
       "  <line x1=\"161\" y1=\"66\" x2=\"161\" y2=\"100\" />\n",
       "  <line x1=\"163\" y1=\"68\" x2=\"163\" y2=\"102\" />\n",
       "  <line x1=\"165\" y1=\"70\" x2=\"165\" y2=\"104\" style=\"stroke-width:2\" />\n",
       "\n",
       "  <!-- Colored Rectangle -->\n",
       "  <polygon points=\"95.0,0.0 165.58823529411765,70.58823529411765 165.58823529411765,104.71179459284565 95.0,34.12355929872799\" style=\"fill:#8B4903A0;stroke-width:0\"/>\n",
       "\n",
       "  <!-- Horizontal lines -->\n",
       "  <line x1=\"95\" y1=\"0\" x2=\"131\" y2=\"0\" style=\"stroke-width:2\" />\n",
       "  <line x1=\"96\" y1=\"1\" x2=\"133\" y2=\"1\" />\n",
       "  <line x1=\"98\" y1=\"3\" x2=\"134\" y2=\"3\" />\n",
       "  <line x1=\"101\" y1=\"6\" x2=\"138\" y2=\"6\" />\n",
       "  <line x1=\"103\" y1=\"8\" x2=\"139\" y2=\"8\" />\n",
       "  <line x1=\"104\" y1=\"9\" x2=\"141\" y2=\"9\" />\n",
       "  <line x1=\"108\" y1=\"13\" x2=\"144\" y2=\"13\" />\n",
       "  <line x1=\"109\" y1=\"14\" x2=\"146\" y2=\"14\" />\n",
       "  <line x1=\"111\" y1=\"16\" x2=\"148\" y2=\"16\" />\n",
       "  <line x1=\"114\" y1=\"19\" x2=\"151\" y2=\"19\" />\n",
       "  <line x1=\"116\" y1=\"21\" x2=\"153\" y2=\"21\" />\n",
       "  <line x1=\"118\" y1=\"23\" x2=\"154\" y2=\"23\" />\n",
       "  <line x1=\"121\" y1=\"26\" x2=\"158\" y2=\"26\" />\n",
       "  <line x1=\"123\" y1=\"28\" x2=\"159\" y2=\"28\" />\n",
       "  <line x1=\"124\" y1=\"29\" x2=\"161\" y2=\"29\" />\n",
       "  <line x1=\"128\" y1=\"33\" x2=\"164\" y2=\"33\" />\n",
       "  <line x1=\"129\" y1=\"34\" x2=\"166\" y2=\"34\" />\n",
       "  <line x1=\"131\" y1=\"36\" x2=\"168\" y2=\"36\" />\n",
       "  <line x1=\"134\" y1=\"39\" x2=\"171\" y2=\"39\" />\n",
       "  <line x1=\"136\" y1=\"41\" x2=\"173\" y2=\"41\" />\n",
       "  <line x1=\"138\" y1=\"43\" x2=\"174\" y2=\"43\" />\n",
       "  <line x1=\"141\" y1=\"46\" x2=\"178\" y2=\"46\" />\n",
       "  <line x1=\"143\" y1=\"48\" x2=\"179\" y2=\"48\" />\n",
       "  <line x1=\"144\" y1=\"49\" x2=\"181\" y2=\"49\" />\n",
       "  <line x1=\"148\" y1=\"53\" x2=\"184\" y2=\"53\" />\n",
       "  <line x1=\"149\" y1=\"54\" x2=\"186\" y2=\"54\" />\n",
       "  <line x1=\"151\" y1=\"56\" x2=\"187\" y2=\"56\" />\n",
       "  <line x1=\"154\" y1=\"59\" x2=\"191\" y2=\"59\" />\n",
       "  <line x1=\"156\" y1=\"61\" x2=\"192\" y2=\"61\" />\n",
       "  <line x1=\"158\" y1=\"63\" x2=\"194\" y2=\"63\" />\n",
       "  <line x1=\"161\" y1=\"66\" x2=\"197\" y2=\"66\" />\n",
       "  <line x1=\"163\" y1=\"68\" x2=\"199\" y2=\"68\" />\n",
       "  <line x1=\"165\" y1=\"70\" x2=\"202\" y2=\"70\" style=\"stroke-width:2\" />\n",
       "\n",
       "  <!-- Vertical lines -->\n",
       "  <line x1=\"95\" y1=\"0\" x2=\"165\" y2=\"70\" style=\"stroke-width:2\" />\n",
       "  <line x1=\"131\" y1=\"0\" x2=\"202\" y2=\"70\" style=\"stroke-width:2\" />\n",
       "\n",
       "  <!-- Colored Rectangle -->\n",
       "  <polygon points=\"95.0,0.0 131.58335873970168,0.0 202.17159403381933,70.58823529411765 165.58823529411765,70.58823529411765\" style=\"fill:#8B4903A0;stroke-width:0\"/>\n",
       "\n",
       "  <!-- Horizontal lines -->\n",
       "  <line x1=\"165\" y1=\"70\" x2=\"202\" y2=\"70\" style=\"stroke-width:2\" />\n",
       "  <line x1=\"165\" y1=\"104\" x2=\"202\" y2=\"104\" style=\"stroke-width:2\" />\n",
       "\n",
       "  <!-- Vertical lines -->\n",
       "  <line x1=\"165\" y1=\"70\" x2=\"165\" y2=\"104\" style=\"stroke-width:2\" />\n",
       "  <line x1=\"202\" y1=\"70\" x2=\"202\" y2=\"104\" style=\"stroke-width:2\" />\n",
       "\n",
       "  <!-- Colored Rectangle -->\n",
       "  <polygon points=\"165.58823529411765,70.58823529411765 202.17159403381933,70.58823529411765 202.17159403381933,104.71179459284565 165.58823529411765,104.71179459284565\" style=\"fill:#ECB172A0;stroke-width:0\"/>\n",
       "\n",
       "  <!-- Text -->\n",
       "  <text x=\"183.879915\" y=\"124.711795\" font-size=\"1.0rem\" font-weight=\"100\" text-anchor=\"middle\" >72</text>\n",
       "  <text x=\"222.171594\" y=\"87.650015\" font-size=\"1.0rem\" font-weight=\"100\" text-anchor=\"middle\" transform=\"rotate(0,222.171594,87.650015)\">48</text>\n",
       "  <text x=\"120.294118\" y=\"89.417677\" font-size=\"1.0rem\" font-weight=\"100\" text-anchor=\"middle\" transform=\"rotate(45,120.294118,89.417677)\">1021</text>\n",
       "</svg>\n",
       "        </td>\n",
       "    </tr>\n",
       "</table></div></li><li class='xr-var-item'><div class='xr-var-name'><span>tas</span></div><div class='xr-var-dims'>(ssp, time, member_id, y, x)</div><div class='xr-var-dtype'>float32</div><div class='xr-var-preview xr-preview'>dask.array&lt;chunksize=(1, 24, 1, 48, 72), meta=np.ndarray&gt;</div><input id='attrs-d4335b8a-e0e3-45fd-b3ff-38bc79eb6d79' class='xr-var-attrs-in' type='checkbox' ><label for='attrs-d4335b8a-e0e3-45fd-b3ff-38bc79eb6d79' title='Show/Hide attributes'><svg class='icon xr-icon-file-text2'><use xlink:href='#icon-file-text2'></use></svg></label><input id='data-fdcf941e-1a83-407a-badc-1aff68a082c7' class='xr-var-data-in' type='checkbox'><label for='data-fdcf941e-1a83-407a-badc-1aff68a082c7' title='Show/Hide data repr'><svg class='icon xr-icon-database'><use xlink:href='#icon-database'></use></svg></label><div class='xr-var-attrs'><dl class='xr-attrs'><dt><span>cell_measures :</span></dt><dd>area: areacella</dd><dt><span>cell_methods :</span></dt><dd>area: time: mean</dd><dt><span>comment :</span></dt><dd>TREFHT</dd><dt><span>description :</span></dt><dd>near-surface (usually, 2 meter) air temperature</dd><dt><span>frequency :</span></dt><dd>day</dd><dt><span>id :</span></dt><dd>tas</dd><dt><span>long_name :</span></dt><dd>Near-Surface Air Temperature</dd><dt><span>mipTable :</span></dt><dd>day</dd><dt><span>out_name :</span></dt><dd>tas</dd><dt><span>prov :</span></dt><dd>day ((isd.003))</dd><dt><span>realm :</span></dt><dd>atmos</dd><dt><span>standard_name :</span></dt><dd>air_temperature</dd><dt><span>time :</span></dt><dd>time</dd><dt><span>time_label :</span></dt><dd>time-mean</dd><dt><span>time_title :</span></dt><dd>Temporal mean</dd><dt><span>title :</span></dt><dd>Near-Surface Air Temperature</dd><dt><span>type :</span></dt><dd>real</dd><dt><span>units :</span></dt><dd>K</dd><dt><span>variable_id :</span></dt><dd>tas</dd></dl></div><div class='xr-var-data'><table>\n",
       "    <tr>\n",
       "        <td>\n",
       "            <table style=\"border-collapse: collapse;\">\n",
       "                <thead>\n",
       "                    <tr>\n",
       "                        <td> </td>\n",
       "                        <th> Array </th>\n",
       "                        <th> Chunk </th>\n",
       "                    </tr>\n",
       "                </thead>\n",
       "                <tbody>\n",
       "                    \n",
       "                    <tr>\n",
       "                        <th> Bytes </th>\n",
       "                        <td> 161.53 MiB </td>\n",
       "                        <td> 324.00 kiB </td>\n",
       "                    </tr>\n",
       "                    \n",
       "                    <tr>\n",
       "                        <th> Shape </th>\n",
       "                        <td> (4, 1021, 3, 48, 72) </td>\n",
       "                        <td> (1, 24, 1, 48, 72) </td>\n",
       "                    </tr>\n",
       "                    <tr>\n",
       "                        <th> Dask graph </th>\n",
       "                        <td colspan=\"2\"> 516 chunks in 2 graph layers </td>\n",
       "                    </tr>\n",
       "                    <tr>\n",
       "                        <th> Data type </th>\n",
       "                        <td colspan=\"2\"> float32 numpy.ndarray </td>\n",
       "                    </tr>\n",
       "                </tbody>\n",
       "            </table>\n",
       "        </td>\n",
       "        <td>\n",
       "        <svg width=\"481\" height=\"99\" style=\"stroke:rgb(0,0,0);stroke-width:1\" >\n",
       "\n",
       "  <!-- Horizontal lines -->\n",
       "  <line x1=\"0\" y1=\"0\" x2=\"120\" y2=\"0\" style=\"stroke-width:2\" />\n",
       "  <line x1=\"0\" y1=\"6\" x2=\"120\" y2=\"6\" />\n",
       "  <line x1=\"0\" y1=\"12\" x2=\"120\" y2=\"12\" />\n",
       "  <line x1=\"0\" y1=\"19\" x2=\"120\" y2=\"19\" />\n",
       "  <line x1=\"0\" y1=\"25\" x2=\"120\" y2=\"25\" style=\"stroke-width:2\" />\n",
       "\n",
       "  <!-- Vertical lines -->\n",
       "  <line x1=\"0\" y1=\"0\" x2=\"0\" y2=\"25\" style=\"stroke-width:2\" />\n",
       "  <line x1=\"2\" y1=\"0\" x2=\"2\" y2=\"25\" />\n",
       "  <line x1=\"5\" y1=\"0\" x2=\"5\" y2=\"25\" />\n",
       "  <line x1=\"11\" y1=\"0\" x2=\"11\" y2=\"25\" />\n",
       "  <line x1=\"14\" y1=\"0\" x2=\"14\" y2=\"25\" />\n",
       "  <line x1=\"16\" y1=\"0\" x2=\"16\" y2=\"25\" />\n",
       "  <line x1=\"22\" y1=\"0\" x2=\"22\" y2=\"25\" />\n",
       "  <line x1=\"25\" y1=\"0\" x2=\"25\" y2=\"25\" />\n",
       "  <line x1=\"28\" y1=\"0\" x2=\"28\" y2=\"25\" />\n",
       "  <line x1=\"33\" y1=\"0\" x2=\"33\" y2=\"25\" />\n",
       "  <line x1=\"36\" y1=\"0\" x2=\"36\" y2=\"25\" />\n",
       "  <line x1=\"39\" y1=\"0\" x2=\"39\" y2=\"25\" />\n",
       "  <line x1=\"45\" y1=\"0\" x2=\"45\" y2=\"25\" />\n",
       "  <line x1=\"47\" y1=\"0\" x2=\"47\" y2=\"25\" />\n",
       "  <line x1=\"50\" y1=\"0\" x2=\"50\" y2=\"25\" />\n",
       "  <line x1=\"56\" y1=\"0\" x2=\"56\" y2=\"25\" />\n",
       "  <line x1=\"59\" y1=\"0\" x2=\"59\" y2=\"25\" />\n",
       "  <line x1=\"62\" y1=\"0\" x2=\"62\" y2=\"25\" />\n",
       "  <line x1=\"67\" y1=\"0\" x2=\"67\" y2=\"25\" />\n",
       "  <line x1=\"70\" y1=\"0\" x2=\"70\" y2=\"25\" />\n",
       "  <line x1=\"73\" y1=\"0\" x2=\"73\" y2=\"25\" />\n",
       "  <line x1=\"78\" y1=\"0\" x2=\"78\" y2=\"25\" />\n",
       "  <line x1=\"81\" y1=\"0\" x2=\"81\" y2=\"25\" />\n",
       "  <line x1=\"84\" y1=\"0\" x2=\"84\" y2=\"25\" />\n",
       "  <line x1=\"90\" y1=\"0\" x2=\"90\" y2=\"25\" />\n",
       "  <line x1=\"93\" y1=\"0\" x2=\"93\" y2=\"25\" />\n",
       "  <line x1=\"95\" y1=\"0\" x2=\"95\" y2=\"25\" />\n",
       "  <line x1=\"101\" y1=\"0\" x2=\"101\" y2=\"25\" />\n",
       "  <line x1=\"104\" y1=\"0\" x2=\"104\" y2=\"25\" />\n",
       "  <line x1=\"107\" y1=\"0\" x2=\"107\" y2=\"25\" />\n",
       "  <line x1=\"112\" y1=\"0\" x2=\"112\" y2=\"25\" />\n",
       "  <line x1=\"115\" y1=\"0\" x2=\"115\" y2=\"25\" />\n",
       "  <line x1=\"120\" y1=\"0\" x2=\"120\" y2=\"25\" style=\"stroke-width:2\" />\n",
       "\n",
       "  <!-- Colored Rectangle -->\n",
       "  <polygon points=\"0.0,0.0 120.0,0.0 120.0,25.412616514582485 0.0,25.412616514582485\" style=\"fill:#8B4903A0;stroke-width:0\"/>\n",
       "\n",
       "  <!-- Text -->\n",
       "  <text x=\"60.000000\" y=\"45.412617\" font-size=\"1.0rem\" font-weight=\"100\" text-anchor=\"middle\" >1021</text>\n",
       "  <text x=\"140.000000\" y=\"12.706308\" font-size=\"1.0rem\" font-weight=\"100\" text-anchor=\"middle\" transform=\"rotate(0,140.000000,12.706308)\">4</text>\n",
       "\n",
       "\n",
       "  <!-- Horizontal lines -->\n",
       "  <line x1=\"190\" y1=\"0\" x2=\"204\" y2=\"14\" style=\"stroke-width:2\" />\n",
       "  <line x1=\"190\" y1=\"34\" x2=\"204\" y2=\"49\" style=\"stroke-width:2\" />\n",
       "\n",
       "  <!-- Vertical lines -->\n",
       "  <line x1=\"190\" y1=\"0\" x2=\"190\" y2=\"34\" style=\"stroke-width:2\" />\n",
       "  <line x1=\"194\" y1=\"4\" x2=\"194\" y2=\"39\" />\n",
       "  <line x1=\"199\" y1=\"9\" x2=\"199\" y2=\"44\" />\n",
       "  <line x1=\"204\" y1=\"14\" x2=\"204\" y2=\"49\" style=\"stroke-width:2\" />\n",
       "\n",
       "  <!-- Colored Rectangle -->\n",
       "  <polygon points=\"190.0,0.0 204.9485979497544,14.948597949754403 204.9485979497544,49.07215724848239 190.0,34.12355929872799\" style=\"fill:#ECB172A0;stroke-width:0\"/>\n",
       "\n",
       "  <!-- Horizontal lines -->\n",
       "  <line x1=\"190\" y1=\"0\" x2=\"226\" y2=\"0\" style=\"stroke-width:2\" />\n",
       "  <line x1=\"194\" y1=\"4\" x2=\"231\" y2=\"4\" />\n",
       "  <line x1=\"199\" y1=\"9\" x2=\"236\" y2=\"9\" />\n",
       "  <line x1=\"204\" y1=\"14\" x2=\"241\" y2=\"14\" style=\"stroke-width:2\" />\n",
       "\n",
       "  <!-- Vertical lines -->\n",
       "  <line x1=\"190\" y1=\"0\" x2=\"204\" y2=\"14\" style=\"stroke-width:2\" />\n",
       "  <line x1=\"226\" y1=\"0\" x2=\"241\" y2=\"14\" style=\"stroke-width:2\" />\n",
       "\n",
       "  <!-- Colored Rectangle -->\n",
       "  <polygon points=\"190.0,0.0 226.58335873970168,0.0 241.53195668945608,14.948597949754403 204.9485979497544,14.948597949754403\" style=\"fill:#ECB172A0;stroke-width:0\"/>\n",
       "\n",
       "  <!-- Horizontal lines -->\n",
       "  <line x1=\"204\" y1=\"14\" x2=\"241\" y2=\"14\" style=\"stroke-width:2\" />\n",
       "  <line x1=\"204\" y1=\"49\" x2=\"241\" y2=\"49\" style=\"stroke-width:2\" />\n",
       "\n",
       "  <!-- Vertical lines -->\n",
       "  <line x1=\"204\" y1=\"14\" x2=\"204\" y2=\"49\" style=\"stroke-width:2\" />\n",
       "  <line x1=\"241\" y1=\"14\" x2=\"241\" y2=\"49\" style=\"stroke-width:2\" />\n",
       "\n",
       "  <!-- Colored Rectangle -->\n",
       "  <polygon points=\"204.9485979497544,14.948597949754403 241.53195668945608,14.948597949754403 241.53195668945608,49.07215724848239 204.9485979497544,49.07215724848239\" style=\"fill:#ECB172A0;stroke-width:0\"/>\n",
       "\n",
       "  <!-- Text -->\n",
       "  <text x=\"223.240277\" y=\"69.072157\" font-size=\"1.0rem\" font-weight=\"100\" text-anchor=\"middle\" >72</text>\n",
       "  <text x=\"261.531957\" y=\"32.010378\" font-size=\"1.0rem\" font-weight=\"100\" text-anchor=\"middle\" transform=\"rotate(0,261.531957,32.010378)\">48</text>\n",
       "  <text x=\"187.474299\" y=\"61.597858\" font-size=\"1.0rem\" font-weight=\"100\" text-anchor=\"middle\" transform=\"rotate(45,187.474299,61.597858)\">3</text>\n",
       "</svg>\n",
       "        </td>\n",
       "    </tr>\n",
       "</table></div></li></ul></div></li><li class='xr-section-item'><input id='section-677a20d7-c3aa-47a8-9e9d-6f629aa8dcc8' class='xr-section-summary-in' type='checkbox'  ><label for='section-677a20d7-c3aa-47a8-9e9d-6f629aa8dcc8' class='xr-section-summary' >Indexes: <span>(7)</span></label><div class='xr-section-inline-details'></div><div class='xr-section-details'><ul class='xr-var-list'><li class='xr-var-item'><div class='xr-index-name'><div>latitude</div></div><div class='xr-index-preview'>PandasIndex</div><div></div><input id='index-0375d405-e9db-4e2f-ab7d-b948f186d5f2' class='xr-index-data-in' type='checkbox'/><label for='index-0375d405-e9db-4e2f-ab7d-b948f186d5f2' title='Show/Hide index repr'><svg class='icon xr-icon-database'><use xlink:href='#icon-database'></use></svg></label><div class='xr-index-data'><pre>PandasIndex(Index([ -89.05263157894737,  -85.26315789473685,  -81.47368421052632,\n",
       "         -77.6842105263158,  -73.89473684210526,  -70.10526315789474,\n",
       "        -66.31578947368422, -62.526315789473685, -58.736842105263165,\n",
       "        -54.94736842105263,  -51.15789473684211,  -47.36842105263158,\n",
       "       -43.578947368421055,  -39.78947368421053,               -36.0,\n",
       "        -32.21052631578948, -28.421052631578952, -24.631578947368425,\n",
       "       -20.842105263157897,  -17.05263157894737,  -13.26315789473685,\n",
       "        -9.473684210526315,  -5.684210526315795, -1.8947368421052673,\n",
       "        1.8947368421052602,  5.6842105263157805,   9.473684210526315,\n",
       "        13.263157894736835,  17.052631578947363,   20.84210526315789,\n",
       "         24.63157894736841,  28.421052631578945,  32.210526315789465,\n",
       "         35.99999999999999,   39.78947368421052,   43.57894736842104,\n",
       "         47.36842105263156,   51.15789473684211,   54.94736842105263,\n",
       "         58.73684210526315,   62.52631578947367,   66.31578947368419,\n",
       "         70.10526315789474,   73.89473684210526,   77.68421052631578,\n",
       "          81.4736842105263,   85.26315789473682,   89.05263157894737],\n",
       "      dtype=&#x27;float64&#x27;, name=&#x27;latitude&#x27;))</pre></div></li><li class='xr-var-item'><div class='xr-index-name'><div>longitude</div></div><div class='xr-index-preview'>PandasIndex</div><div></div><input id='index-68b96c9f-1e9e-4ff9-b0cf-f5f317834502' class='xr-index-data-in' type='checkbox'/><label for='index-68b96c9f-1e9e-4ff9-b0cf-f5f317834502' title='Show/Hide index repr'><svg class='icon xr-icon-database'><use xlink:href='#icon-database'></use></svg></label><div class='xr-index-data'><pre>PandasIndex(Index([  1.25,   6.25,  11.25,  16.25,  21.25,  26.25,  31.25,  36.25,  41.25,\n",
       "        46.25,  51.25,  56.25,  61.25,  66.25,  71.25,  76.25,  81.25,  86.25,\n",
       "        91.25,  96.25, 101.25, 106.25, 111.25, 116.25, 121.25, 126.25, 131.25,\n",
       "       136.25, 141.25, 146.25, 151.25, 156.25, 161.25, 166.25, 171.25, 176.25,\n",
       "       181.25, 186.25, 191.25, 196.25, 201.25, 206.25, 211.25, 216.25, 221.25,\n",
       "       226.25, 231.25, 236.25, 241.25, 246.25, 251.25, 256.25, 261.25, 266.25,\n",
       "       271.25, 276.25, 281.25, 286.25, 291.25, 296.25, 301.25, 306.25, 311.25,\n",
       "       316.25, 321.25, 326.25, 331.25, 336.25, 341.25, 346.25, 351.25, 356.25],\n",
       "      dtype=&#x27;float64&#x27;, name=&#x27;longitude&#x27;))</pre></div></li><li class='xr-var-item'><div class='xr-index-name'><div>member_id</div></div><div class='xr-index-preview'>PandasIndex</div><div></div><input id='index-c9803de4-f481-4e0e-bdcc-1e0c35c3a67d' class='xr-index-data-in' type='checkbox'/><label for='index-c9803de4-f481-4e0e-bdcc-1e0c35c3a67d' title='Show/Hide index repr'><svg class='icon xr-icon-database'><use xlink:href='#icon-database'></use></svg></label><div class='xr-index-data'><pre>PandasIndex(Index([0, 1, 2], dtype=&#x27;int64&#x27;, name=&#x27;member_id&#x27;))</pre></div></li><li class='xr-var-item'><div class='xr-index-name'><div>ssp</div></div><div class='xr-index-preview'>PandasIndex</div><div></div><input id='index-a90dd1c3-9538-4bcd-8dd8-60eb60af4c53' class='xr-index-data-in' type='checkbox'/><label for='index-a90dd1c3-9538-4bcd-8dd8-60eb60af4c53' title='Show/Hide index repr'><svg class='icon xr-icon-database'><use xlink:href='#icon-database'></use></svg></label><div class='xr-index-data'><pre>PandasIndex(Index([&#x27;ssp126&#x27;, &#x27;ssp245&#x27;, &#x27;ssp370&#x27;, &#x27;ssp585&#x27;], dtype=&#x27;object&#x27;, name=&#x27;ssp&#x27;))</pre></div></li><li class='xr-var-item'><div class='xr-index-name'><div>time</div></div><div class='xr-index-preview'>PandasIndex</div><div></div><input id='index-fd3b4730-4a7d-4dc7-9566-e04d97e29665' class='xr-index-data-in' type='checkbox'/><label for='index-fd3b4730-4a7d-4dc7-9566-e04d97e29665' title='Show/Hide index repr'><svg class='icon xr-icon-database'><use xlink:href='#icon-database'></use></svg></label><div class='xr-index-data'><pre>PandasIndex(CFTimeIndex([2015-01-15 00:00:00, 2015-02-15 00:00:00, 2015-03-15 00:00:00,\n",
       "             2015-04-15 00:00:00, 2015-05-15 00:00:00, 2015-06-15 00:00:00,\n",
       "             2015-07-15 00:00:00, 2015-08-15 00:00:00, 2015-09-15 00:00:00,\n",
       "             2015-10-15 00:00:00,\n",
       "             ...\n",
       "             2099-04-15 00:00:00, 2099-05-15 00:00:00, 2099-06-15 00:00:00,\n",
       "             2099-07-15 00:00:00, 2099-08-15 00:00:00, 2099-09-15 00:00:00,\n",
       "             2099-10-15 00:00:00, 2099-11-15 00:00:00, 2099-12-15 00:00:00,\n",
       "             2100-01-15 00:00:00],\n",
       "            dtype=&#x27;object&#x27;, length=1021, calendar=&#x27;noleap&#x27;, freq=&#x27;None&#x27;))</pre></div></li><li class='xr-var-item'><div class='xr-index-name'><div>x</div></div><div class='xr-index-preview'>PandasIndex</div><div></div><input id='index-10389f75-5738-496d-b325-f472a3110968' class='xr-index-data-in' type='checkbox'/><label for='index-10389f75-5738-496d-b325-f472a3110968' title='Show/Hide index repr'><svg class='icon xr-icon-database'><use xlink:href='#icon-database'></use></svg></label><div class='xr-index-data'><pre>PandasIndex(Index([  1.875,   6.875,  11.875,  16.875,  21.875,  26.875,  31.875,  36.875,\n",
       "        41.875,  46.875,  51.875,  56.875,  61.875,  66.875,  71.875,  76.875,\n",
       "        81.875,  86.875,  91.875,  96.875, 101.875, 106.875, 111.875, 116.875,\n",
       "       121.875, 126.875, 131.875, 136.875, 141.875, 146.875, 151.875, 156.875,\n",
       "       161.875, 166.875, 171.875, 176.875, 181.875, 186.875, 191.875, 196.875,\n",
       "       201.875, 206.875, 211.875, 216.875, 221.875, 226.875, 231.875, 236.875,\n",
       "       241.875, 246.875, 251.875, 256.875, 261.875, 266.875, 271.875, 276.875,\n",
       "       281.875, 286.875, 291.875, 296.875, 301.875, 306.875, 311.875, 316.875,\n",
       "       321.875, 326.875, 331.875, 336.875, 341.875, 346.875, 351.875, 356.875],\n",
       "      dtype=&#x27;float64&#x27;, name=&#x27;x&#x27;))</pre></div></li><li class='xr-var-item'><div class='xr-index-name'><div>y</div></div><div class='xr-index-preview'>PandasIndex</div><div></div><input id='index-de0f7819-58dc-43e9-99d5-5e21ee597b46' class='xr-index-data-in' type='checkbox'/><label for='index-de0f7819-58dc-43e9-99d5-5e21ee597b46' title='Show/Hide index repr'><svg class='icon xr-icon-database'><use xlink:href='#icon-database'></use></svg></label><div class='xr-index-data'><pre>PandasIndex(Index([ -88.58638743455498,  -84.81675392670157,  -81.04712041884817,\n",
       "        -77.27748691099475,  -73.50785340314135,  -69.73821989528795,\n",
       "        -65.96858638743456,  -62.19895287958116,  -58.42931937172774,\n",
       "       -54.659685863874344,  -50.89005235602094,  -47.12041884816754,\n",
       "        -43.35078534031414,  -39.58115183246073,  -35.81151832460733,\n",
       "        -32.04188481675392, -28.272251308900525, -24.502617801047123,\n",
       "       -20.732984293193716, -16.963350785340317, -13.193717277486911,\n",
       "        -9.424083769633508,  -5.654450261780106, -1.8848167539267031,\n",
       "        1.8848167539266996,   5.654450261780106,   9.424083769633505,\n",
       "        13.193717277486911,  16.963350785340314,  20.732984293193716,\n",
       "         24.50261780104712,  28.272251308900522,   32.04188481675393,\n",
       "         35.81151832460733,   39.58115183246073,   43.35078534031413,\n",
       "         47.12041884816754,  50.890052356020945,  54.659685863874344,\n",
       "         58.42931937172774,   62.19895287958115,   65.96858638743456,\n",
       "         69.73821989528795,   73.50785340314135,   77.27748691099477,\n",
       "         81.04712041884817,   84.81675392670157,   88.58638743455498],\n",
       "      dtype=&#x27;float64&#x27;, name=&#x27;y&#x27;))</pre></div></li></ul></div></li><li class='xr-section-item'><input id='section-6a34c01d-2d00-4492-834d-a018b06e22ad' class='xr-section-summary-in' type='checkbox'  checked><label for='section-6a34c01d-2d00-4492-834d-a018b06e22ad' class='xr-section-summary' >Attributes: <span>(4)</span></label><div class='xr-section-inline-details'></div><div class='xr-section-details'><dl class='xr-attrs'><dt><span>original_member_ids :</span></dt><dd>[&#x27;r10i1p1f1&#x27;, &#x27;r11i1p1f1&#x27;, &#x27;r4i1p1f1&#x27;]</dd><dt><span>precipitation_units :</span></dt><dd>mm/day (converted from kg m-2 s-1)</dd><dt><span>source :</span></dt><dd>CMIP6 data processed for CSE151B</dd><dt><span>ssp :</span></dt><dd>ssp126</dd></dl></div></li></ul></div></div>"
      ],
      "text/plain": [
       "<xarray.Dataset>\n",
       "Dimensions:    (ssp: 4, time: 1021, latitude: 48, longitude: 72, x: 72, y: 48,\n",
       "                member_id: 3)\n",
       "Coordinates:\n",
       "    lat        (x, y) float64 dask.array<chunksize=(72, 48), meta=np.ndarray>\n",
       "  * latitude   (latitude) float64 -89.05 -85.26 -81.47 ... 81.47 85.26 89.05\n",
       "    lon        (x, y) float64 dask.array<chunksize=(72, 48), meta=np.ndarray>\n",
       "  * longitude  (longitude) float64 1.25 6.25 11.25 16.25 ... 346.2 351.2 356.2\n",
       "  * member_id  (member_id) int64 0 1 2\n",
       "  * ssp        (ssp) <U6 'ssp126' 'ssp245' 'ssp370' 'ssp585'\n",
       "  * time       (time) object 2015-01-15 00:00:00 ... 2100-01-15 00:00:00\n",
       "  * x          (x) float64 1.875 6.875 11.88 16.88 ... 341.9 346.9 351.9 356.9\n",
       "  * y          (y) float64 -88.59 -84.82 -81.05 -77.28 ... 81.05 84.82 88.59\n",
       "Data variables:\n",
       "    BC         (ssp, time, latitude, longitude) float64 dask.array<chunksize=(1, 24, 48, 72), meta=np.ndarray>\n",
       "    CH4        (ssp, time) float64 dask.array<chunksize=(1, 24), meta=np.ndarray>\n",
       "    CO2        (ssp, time) float64 dask.array<chunksize=(1, 24), meta=np.ndarray>\n",
       "    SO2        (ssp, time, latitude, longitude) float64 dask.array<chunksize=(1, 24, 48, 72), meta=np.ndarray>\n",
       "    pr         (ssp, time, member_id, y, x) float32 dask.array<chunksize=(1, 24, 1, 48, 72), meta=np.ndarray>\n",
       "    rsdt       (ssp, time, y, x) float32 dask.array<chunksize=(1, 24, 48, 72), meta=np.ndarray>\n",
       "    tas        (ssp, time, member_id, y, x) float32 dask.array<chunksize=(1, 24, 1, 48, 72), meta=np.ndarray>\n",
       "Attributes:\n",
       "    original_member_ids:  ['r10i1p1f1', 'r11i1p1f1', 'r4i1p1f1']\n",
       "    precipitation_units:  mm/day (converted from kg m-2 s-1)\n",
       "    source:               CMIP6 data processed for CSE151B\n",
       "    ssp:                  ssp126"
      ]
     },
     "execution_count": 36,
     "metadata": {},
     "output_type": "execute_result"
    }
   ],
   "source": [
    "data_path = \"processed_data_cse151b_v2_corrupted_ssp245/processed_data_cse151b_v2_corrupted_ssp245.zarr\"\n",
    "data = xr.open_zarr(data_path)\n",
    "data"
   ]
  },
  {
   "cell_type": "code",
   "execution_count": 37,
   "id": "da4864ad",
   "metadata": {},
   "outputs": [
    {
     "name": "stderr",
     "output_type": "stream",
     "text": [
      "Seed set to 42\n"
     ]
    }
   ],
   "source": [
    "# ----------------------------------------------\n",
    "# 🔧 Imports & Setup\n",
    "import numpy as np\n",
    "import pandas as pd\n",
    "import xarray as xr\n",
    "import dask.array as da\n",
    "import torch\n",
    "import torch.nn as nn\n",
    "import torch.optim as optim\n",
    "import pytorch_lightning as pl\n",
    "from torch.utils.data import Dataset, DataLoader\n",
    "from pytorch_lightning import Trainer\n",
    "from datetime import datetime\n",
    "# ----------------------------------------------\n",
    "\n",
    "# ----------------------------------------------\n",
    "# 📦 Config (keep your original structure)\n",
    "config = {\n",
    "    \"data\": {\n",
    "        \"path\": data_path,\n",
    "        \"input_vars\": [\"CO2\", \"SO2\", \"CH4\", \"BC\", \"rsdt\"],\n",
    "        \"output_vars\": [\"tas\", \"pr\"],\n",
    "        \"target_member_id\": 0,\n",
    "        \"train_ssps\": [\"ssp126\", \"ssp370\", \"ssp585\"],\n",
    "        \"test_ssp\": \"ssp245\",\n",
    "        \"test_months\": 360,\n",
    "        \"batch_size\": 64,\n",
    "        \"num_workers\": 0, # Previously 4\n",
    "    },\n",
    "    \"model\": {\n",
    "        \"type\": \"simple_cnn\",\n",
    "        \"kernel_size\": 3,\n",
    "        \"init_dim\": 64,\n",
    "        \"depth\": 4,\n",
    "        \"dropout_rate\": 0.1,\n",
    "    },\n",
    "    \"training\": {\n",
    "        \"lr\": 1e-3,\n",
    "    },\n",
    "    \"trainer\": {\n",
    "        \"max_epochs\": 10,\n",
    "        \"accelerator\": \"gpu\",\n",
    "        \"devices\": \"1\",\n",
    "        \"precision\": 32,\n",
    "        \"deterministic\": True,\n",
    "        \"num_sanity_val_steps\": 0,\n",
    "    },\n",
    "    \"seed\": 42,\n",
    "}\n",
    "pl.seed_everything(config[\"seed\"])\n",
    "# ----------------------------------------------\n",
    "\n",
    "# ----------------------------------------------\n",
    "# Helper: Latitude Weights\n",
    "def get_lat_weights(lat_vals):\n",
    "    lat_rad = np.deg2rad(lat_vals)\n",
    "    weights = np.cos(lat_rad)\n",
    "    return weights / np.mean(weights)"
   ]
  },
  {
   "cell_type": "code",
   "execution_count": 38,
   "id": "b4e192c5",
   "metadata": {},
   "outputs": [],
   "source": [
    "def get_lat_weights(latitude_values):\n",
    "    lat_rad = np.deg2rad(latitude_values)\n",
    "    weights = np.cos(lat_rad)\n",
    "    return weights / np.mean(weights)"
   ]
  },
  {
   "cell_type": "code",
   "execution_count": 39,
   "id": "17832d93",
   "metadata": {},
   "outputs": [],
   "source": [
    "class ResidualBlock(nn.Module):\n",
    "    def __init__(self, in_channels, out_channels, kernel_size=3, stride=1):\n",
    "        super().__init__()\n",
    "        self.conv1 = nn.Conv2d(in_channels, out_channels, kernel_size, stride=stride, padding=kernel_size // 2)\n",
    "        self.bn1 = nn.BatchNorm2d(out_channels)\n",
    "        self.relu = nn.ReLU(inplace=True)\n",
    "        self.conv2 = nn.Conv2d(out_channels, out_channels, kernel_size, padding=kernel_size // 2)\n",
    "        self.bn2 = nn.BatchNorm2d(out_channels)\n",
    "        self.skip = nn.Sequential()\n",
    "        if stride != 1 or in_channels != out_channels:\n",
    "            self.skip = nn.Sequential(\n",
    "                nn.Conv2d(in_channels, out_channels, kernel_size=1, stride=stride), nn.BatchNorm2d(out_channels)\n",
    "            )\n",
    "\n",
    "    def forward(self, x):\n",
    "        identity = x\n",
    "        out = self.relu(self.bn1(self.conv1(x)))\n",
    "        out = self.bn2(self.conv2(out))\n",
    "        out += self.skip(identity)\n",
    "        return self.relu(out)\n",
    "\n",
    "class SimpleCNN(nn.Module):\n",
    "    def __init__(self, n_input_channels, n_output_channels, kernel_size=3, init_dim=64, depth=4, dropout_rate=0.2):\n",
    "        super().__init__()\n",
    "        self.initial = nn.Sequential(\n",
    "            nn.Conv2d(n_input_channels, init_dim, kernel_size=kernel_size, padding=kernel_size // 2),\n",
    "            nn.BatchNorm2d(init_dim),\n",
    "            nn.ReLU(inplace=True),\n",
    "        )\n",
    "        self.res_blocks = nn.ModuleList()\n",
    "        current_dim = init_dim\n",
    "        for i in range(depth):\n",
    "            out_dim = current_dim * 2 if i < depth - 1 else current_dim\n",
    "            self.res_blocks.append(ResidualBlock(current_dim, out_dim))\n",
    "            if i < depth - 1:\n",
    "                current_dim *= 2\n",
    "        self.dropout = nn.Dropout2d(dropout_rate)\n",
    "        self.final = nn.Sequential(\n",
    "            nn.Conv2d(current_dim, current_dim // 2, kernel_size=kernel_size, padding=kernel_size // 2),\n",
    "            nn.BatchNorm2d(current_dim // 2),\n",
    "            nn.ReLU(inplace=True),\n",
    "            nn.Conv2d(current_dim // 2, n_output_channels, kernel_size=1),\n",
    "        )\n",
    "\n",
    "    def forward(self, x):\n",
    "        x = self.initial(x)\n",
    "        for res_block in self.res_blocks:\n",
    "            x = res_block(x)\n",
    "        return self.final(self.dropout(x))\n"
   ]
  },
  {
   "cell_type": "code",
   "execution_count": 40,
   "id": "adb13fc2",
   "metadata": {},
   "outputs": [],
   "source": [
    "class Normalizer:\n",
    "    def __init__(self):\n",
    "        self.mean_in, self.std_in = None, None\n",
    "        self.mean_out, self.std_out = None, None\n",
    "\n",
    "    def set_input_statistics(self, mean, std):\n",
    "        self.mean_in = mean\n",
    "        self.std_in = std\n",
    "\n",
    "    def set_output_statistics(self, mean, std):\n",
    "        self.mean_out = mean\n",
    "        self.std_out = std\n",
    "\n",
    "    def normalize(self, data, data_type):\n",
    "        if data_type == \"input\":\n",
    "            return (data - self.mean_in) / self.std_in\n",
    "        elif data_type == \"output\":\n",
    "            return (data - self.mean_out) / self.std_out\n",
    "\n",
    "    def inverse_transform_output(self, data):\n",
    "        return data * self.std_out + self.mean_out\n"
   ]
  },
  {
   "cell_type": "code",
   "execution_count": 41,
   "id": "6c1cce7c",
   "metadata": {},
   "outputs": [],
   "source": [
    "class ClimateDataset(Dataset):\n",
    "    def __init__(self, inputs_dask, outputs_dask, output_is_normalized=True):\n",
    "        self.size = inputs_dask.shape[0]\n",
    "        print(f\"Creating dataset with {self.size} samples...\")\n",
    "\n",
    "        inputs_np = inputs_dask.compute()\n",
    "        outputs_np = outputs_dask.compute()\n",
    "\n",
    "        self.inputs = torch.from_numpy(inputs_np).float()\n",
    "        self.outputs = torch.from_numpy(outputs_np).float()\n",
    "\n",
    "        if torch.isnan(self.inputs).any() or torch.isnan(self.outputs).any():\n",
    "            raise ValueError(\"NaNs found in dataset\")\n",
    "\n",
    "    def __len__(self):\n",
    "        return self.size\n",
    "\n",
    "    def __getitem__(self, idx):\n",
    "        return self.inputs[idx], self.outputs[idx]\n",
    "\n",
    "\n",
    "class ClimateDataModule(pl.LightningDataModule):\n",
    "    def __init__(\n",
    "        self,\n",
    "        path,\n",
    "        input_vars,\n",
    "        output_vars,\n",
    "        train_ssps,\n",
    "        test_ssp,\n",
    "        target_member_id,\n",
    "        # val_split=0.1,\n",
    "        test_months=360,\n",
    "        batch_size=32,\n",
    "        num_workers=0,\n",
    "        seed=42,\n",
    "    ):\n",
    "        super().__init__()\n",
    "        self.path = path\n",
    "        self.input_vars = input_vars\n",
    "        self.output_vars = output_vars\n",
    "        self.train_ssps = train_ssps\n",
    "        self.test_ssp = test_ssp\n",
    "        self.target_member_id = target_member_id\n",
    "        # self.val_split = val_split\n",
    "        self.test_months = test_months\n",
    "        self.batch_size = batch_size\n",
    "        self.num_workers = num_workers\n",
    "        self.seed = seed\n",
    "        self.normalizer = Normalizer()\n",
    "\n",
    "    def prepare_data(self):\n",
    "        assert os.path.exists(self.path), f\"Data path not found: {self.path}\"\n",
    "\n",
    "    def setup(self, stage=None):\n",
    "        ds = xr.open_zarr(self.path, consolidated=False, chunks={\"time\": 24})\n",
    "        spatial_template = ds[\"rsdt\"].isel(time=0, ssp=0, drop=True)\n",
    "\n",
    "        def load_ssp(ssp):\n",
    "            input_dask, output_dask = [], []\n",
    "            for var in self.input_vars:\n",
    "                da_var = ds[var].sel(ssp=ssp)\n",
    "                if \"latitude\" in da_var.dims:\n",
    "                    da_var = da_var.rename({\"latitude\": \"y\", \"longitude\": \"x\"})\n",
    "                if \"member_id\" in da_var.dims:\n",
    "                    da_var = da_var.sel(member_id=self.target_member_id)\n",
    "                if set(da_var.dims) == {\"time\"}:\n",
    "                    da_var = da_var.broadcast_like(spatial_template).transpose(\"time\", \"y\", \"x\")\n",
    "                input_dask.append(da_var.data)\n",
    "\n",
    "            for var in self.output_vars:\n",
    "                da_out = ds[var].sel(ssp=ssp, member_id=self.target_member_id)\n",
    "                if \"latitude\" in da_out.dims:\n",
    "                    da_out = da_out.rename({\"latitude\": \"y\", \"longitude\": \"x\"})\n",
    "                output_dask.append(da_out.data)\n",
    "\n",
    "            return da.stack(input_dask, axis=1), da.stack(output_dask, axis=1)\n",
    "\n",
    "        train_input, train_output, val_input, val_output = [], [], None, None\n",
    "\n",
    "        for ssp in self.train_ssps:\n",
    "            x, y = load_ssp(ssp)\n",
    "            if ssp == \"ssp370\":\n",
    "                val_input = x[-self.test_months:]\n",
    "                val_output = y[-self.test_months:]\n",
    "                train_input.append(x[:-self.test_months])\n",
    "                train_output.append(y[:-self.test_months])\n",
    "            else:\n",
    "                train_input.append(x)\n",
    "                train_output.append(y)\n",
    "\n",
    "        train_input = da.concatenate(train_input, axis=0)\n",
    "        train_output = da.concatenate(train_output, axis=0)\n",
    "\n",
    "        self.normalizer.set_input_statistics(\n",
    "            mean=da.nanmean(train_input, axis=(0, 2, 3), keepdims=True).compute(),\n",
    "            std=da.nanstd(train_input, axis=(0, 2, 3), keepdims=True).compute(),\n",
    "        )\n",
    "        self.normalizer.set_output_statistics(\n",
    "            mean=da.nanmean(train_output, axis=(0, 2, 3), keepdims=True).compute(),\n",
    "            std=da.nanstd(train_output, axis=(0, 2, 3), keepdims=True).compute(),\n",
    "        )\n",
    "\n",
    "        train_input_norm = self.normalizer.normalize(train_input, \"input\")\n",
    "        train_output_norm = self.normalizer.normalize(train_output, \"output\")\n",
    "        val_input_norm = self.normalizer.normalize(val_input, \"input\")\n",
    "        val_output_norm = self.normalizer.normalize(val_output, \"output\")\n",
    "\n",
    "        test_input, test_output = load_ssp(self.test_ssp)\n",
    "        test_input = test_input[-self.test_months:]\n",
    "        test_output = test_output[-self.test_months:]\n",
    "        test_input_norm = self.normalizer.normalize(test_input, \"input\")\n",
    "\n",
    "        self.train_dataset = ClimateDataset(train_input_norm, train_output_norm)\n",
    "        self.val_dataset = ClimateDataset(val_input_norm, val_output_norm)\n",
    "        self.test_dataset = ClimateDataset(test_input_norm, test_output, output_is_normalized=False)\n",
    "\n",
    "        self.lat = spatial_template.y.values\n",
    "        self.lon = spatial_template.x.values\n",
    "        self.area_weights = xr.DataArray(get_lat_weights(self.lat), dims=[\"y\"], coords={\"y\": self.lat})\n",
    "\n",
    "    def train_dataloader(self):\n",
    "        return DataLoader(self.train_dataset, batch_size=self.batch_size, shuffle=True,\n",
    "                          num_workers=self.num_workers, pin_memory=True)\n",
    "\n",
    "    def val_dataloader(self):\n",
    "        return DataLoader(self.val_dataset, batch_size=self.batch_size, shuffle=False,\n",
    "                          num_workers=self.num_workers, pin_memory=True)\n",
    "\n",
    "    def test_dataloader(self):\n",
    "        return DataLoader(self.test_dataset, batch_size=self.batch_size, shuffle=False,\n",
    "                          num_workers=self.num_workers, pin_memory=True)\n",
    "\n",
    "    def get_lat_weights(self):\n",
    "        return self.area_weights\n",
    "\n",
    "    def get_coords(self):\n",
    "        return self.lat, self.lon"
   ]
  },
  {
   "cell_type": "code",
   "execution_count": 42,
   "id": "fdbdd2c5",
   "metadata": {},
   "outputs": [],
   "source": [
    "import pandas as pd\n",
    "\n",
    "class ClimateEmulationModule(pl.LightningModule):\n",
    "    def __init__(self, model, learning_rate=1e-4):\n",
    "        super().__init__()\n",
    "        self.model = model\n",
    "        self.save_hyperparameters(ignore=['model']) # Save all hyperparameters except the model to self.hparams.<param_name>\n",
    "        self.criterion = nn.MSELoss()\n",
    "        self.normalizer = None\n",
    "        self.val_preds, self.val_targets = [], []\n",
    "        self.test_preds, self.test_targets = [], []\n",
    "\n",
    "    def forward(self, x):\n",
    "        return self.model(x)\n",
    "\n",
    "    def on_fit_start(self):\n",
    "        self.normalizer = self.trainer.datamodule.normalizer  # Get the normalizer from the datamodule (see above)\n",
    "\n",
    "    def training_step(self, batch, batch_idx):\n",
    "        x, y = batch # Unpack inputs and targets (this is the output of the _getitem_ method in the Dataset above)\n",
    "        y_hat = self(x)   # Forward pass\n",
    "        loss = self.criterion(y_hat, y)  # Calculate loss\n",
    "        self.log(\"train/loss\", loss)  # Log loss for tracking\n",
    "        return loss\n",
    "\n",
    "    def validation_step(self, batch, batch_idx):\n",
    "        x, y = batch\n",
    "        y_hat = self(x)\n",
    "        loss = self.criterion(y_hat, y)\n",
    "        self.log(\"val/loss\", loss)\n",
    "\n",
    "        y_hat_np = self.normalizer.inverse_transform_output(y_hat.detach().cpu().numpy())\n",
    "        y_np = self.normalizer.inverse_transform_output(y.detach().cpu().numpy())\n",
    "        self.val_preds.append(y_hat_np)\n",
    "        self.val_targets.append(y_np)\n",
    "\n",
    "        return loss\n",
    "\n",
    "    def on_validation_epoch_end(self):\n",
    "        # Concatenate all predictions and ground truths from each val step/batch into one array\n",
    "        preds = np.concatenate(self.val_preds, axis=0)\n",
    "        trues = np.concatenate(self.val_targets, axis=0)\n",
    "        self._evaluate(preds, trues, phase=\"val\")\n",
    "        np.save(\"val_preds.npy\", preds)\n",
    "        np.save(\"val_trues.npy\", trues)\n",
    "        self.val_preds.clear()\n",
    "        self.val_targets.clear()\n",
    "\n",
    "    def test_step(self, batch, batch_idx):\n",
    "        x, y = batch\n",
    "        y_hat = self(x)\n",
    "        y_hat_np = self.normalizer.inverse_transform_output(y_hat.detach().cpu().numpy())\n",
    "        y_np = y.detach().cpu().numpy()\n",
    "        self.test_preds.append(y_hat_np)\n",
    "        self.test_targets.append(y_np)\n",
    "\n",
    "    def on_test_epoch_end(self):\n",
    "        # Concatenate all predictions and ground truths from each test step/batch into one array\n",
    "        preds = np.concatenate(self.test_preds, axis=0)\n",
    "        trues = np.concatenate(self.test_targets, axis=0)\n",
    "        self._evaluate(preds, trues, phase=\"test\")\n",
    "        self._save_submission(preds)\n",
    "        self.test_preds.clear()\n",
    "        self.test_targets.clear()\n",
    "\n",
    "    def configure_optimizers(self):\n",
    "        return optim.Adam(self.parameters(), lr=self.hparams.learning_rate)\n",
    "\n",
    "    def _evaluate(self, preds, trues, phase=\"val\"):\n",
    "        datamodule = self.trainer.datamodule\n",
    "        area_weights = datamodule.get_lat_weights()\n",
    "        lat, lon = datamodule.get_coords()\n",
    "        time = np.arange(preds.shape[0])\n",
    "        output_vars = datamodule.output_vars\n",
    "\n",
    "        for i, var in enumerate(output_vars):\n",
    "            p = preds[:, i]\n",
    "            t = trues[:, i]\n",
    "            p_xr = xr.DataArray(p, dims=[\"time\", \"y\", \"x\"], coords={\"time\": time, \"y\": lat, \"x\": lon})\n",
    "            t_xr = xr.DataArray(t, dims=[\"time\", \"y\", \"x\"], coords={\"time\": time, \"y\": lat, \"x\": lon})\n",
    "\n",
    "            # RMSE\n",
    "            rmse = np.sqrt(((p_xr - t_xr) ** 2).weighted(area_weights).mean((\"time\", \"y\", \"x\")).item())\n",
    "            # RMSE of time-mean\n",
    "            mean_rmse = np.sqrt(((p_xr.mean(\"time\") - t_xr.mean(\"time\")) ** 2).weighted(area_weights).mean((\"y\", \"x\")).item())\n",
    "            # MAE of time-stddev\n",
    "            std_mae = np.abs(p_xr.std(\"time\") - t_xr.std(\"time\")).weighted(area_weights).mean((\"y\", \"x\")).item()\n",
    "\n",
    "            print(f\"[{phase.upper()}] {var}: RMSE={rmse:.4f}, Time-Mean RMSE={mean_rmse:.4f}, Time-Stddev MAE={std_mae:.4f}\")\n",
    "            self.log_dict({\n",
    "                f\"{phase}/{var}/rmse\": rmse,\n",
    "                f\"{phase}/{var}/time_mean_rmse\": mean_rmse,\n",
    "                f\"{phase}/{var}/time_std_mae\": std_mae,\n",
    "            })\n",
    "\n",
    "    def _save_submission(self, predictions):\n",
    "        datamodule = self.trainer.datamodule\n",
    "        lat, lon = datamodule.get_coords()\n",
    "        output_vars = datamodule.output_vars\n",
    "        time = np.arange(predictions.shape[0])\n",
    "\n",
    "        rows = []\n",
    "        for t_idx, t in enumerate(time):\n",
    "            for var_idx, var in enumerate(output_vars):\n",
    "                for y_idx, y in enumerate(lat):\n",
    "                    for x_idx, x in enumerate(lon):\n",
    "                        row_id = f\"t{t_idx:03d}_{var}_{y:.2f}_{x:.2f}\"\n",
    "                        pred = predictions[t_idx, var_idx, y_idx, x_idx]\n",
    "                        rows.append({\"ID\": row_id, \"Prediction\": pred})\n",
    "\n",
    "        df = pd.DataFrame(rows)\n",
    "        os.makedirs(\"submissions\", exist_ok=True)\n",
    "        filepath = f\"submissions/kaggle_submission_{datetime.now().strftime('%Y%m%d_%H%M%S')}.csv\"\n",
    "        df.to_csv(filepath, index=False)\n",
    "        print(f\"✅ Submission saved to: {filepath}\")"
   ]
  },
  {
   "cell_type": "code",
   "execution_count": 43,
   "id": "bfbbf3ef",
   "metadata": {},
   "outputs": [
    {
     "name": "stdout",
     "output_type": "stream",
     "text": [
      "Creating dataset with 2703 samples...\n",
      "Creating dataset with 360 samples...\n",
      "Creating dataset with 360 samples...\n"
     ]
    }
   ],
   "source": [
    "# ----------------------------------------------\n",
    "# 🧑‍💻 Run the Full Pipeline\n",
    "# Load data\n",
    "datamodule = ClimateDataModule(\n",
    "    path=config[\"data\"][\"path\"],\n",
    "    input_vars=config[\"data\"][\"input_vars\"],\n",
    "    output_vars=config[\"data\"][\"output_vars\"],\n",
    "    train_ssps=config[\"data\"][\"train_ssps\"],\n",
    "    test_ssp=config[\"data\"][\"test_ssp\"],\n",
    "    target_member_id=config[\"data\"][\"target_member_id\"],\n",
    "    test_months=config[\"data\"][\"test_months\"],\n",
    "    batch_size=config[\"data\"][\"batch_size\"],\n",
    "    num_workers=config[\"data\"][\"num_workers\"],\n",
    "    seed=config[\"seed\"]\n",
    ")\n",
    "\n",
    "datamodule.prepare_data()\n",
    "datamodule.setup()"
   ]
  },
  {
   "cell_type": "markdown",
   "id": "1d35306a",
   "metadata": {},
   "source": [
    "## Save Best & Every 1 Epochs"
   ]
  },
  {
   "cell_type": "code",
   "execution_count": 44,
   "id": "72221ef9",
   "metadata": {},
   "outputs": [],
   "source": [
    "from pytorch_lightning.callbacks import ModelCheckpoint\n",
    "\n",
    "# Save best val_loss model\n",
    "best_ckpt_callback = ModelCheckpoint(\n",
    "    dirpath=\"checkpoints/\",\n",
    "    filename=\"best-{epoch:02d}-{val_loss:.4f}\",\n",
    "    save_top_k=1,\n",
    "    monitor=\"val/loss\",\n",
    "    mode=\"min\"\n",
    ")\n",
    "\n",
    "# Save every 5 epochs\n",
    "periodic_ckpt_callback = ModelCheckpoint(\n",
    "    dirpath=\"checkpoints/\",\n",
    "    filename=\"{epoch:02d}\",\n",
    "    save_top_k=-1,              # Keep all periodic checkpoints\n",
    "    every_n_epochs=1           # Save every 5 epochs\n",
    ")"
   ]
  },
  {
   "cell_type": "code",
   "execution_count": null,
   "id": "0de86fac",
   "metadata": {},
   "outputs": [],
   "source": []
  },
  {
   "cell_type": "code",
   "execution_count": null,
   "id": "e872c4bd",
   "metadata": {},
   "outputs": [],
   "source": []
  },
  {
   "cell_type": "code",
   "execution_count": null,
   "id": "064c81c2",
   "metadata": {},
   "outputs": [],
   "source": []
  },
  {
   "cell_type": "code",
   "execution_count": 45,
   "id": "ac733522",
   "metadata": {},
   "outputs": [],
   "source": [
    "config[\"model\"][\"dropout_rate\"] = 0.3\n",
    "config[\"data\"][\"batch_size\"] = 32\n",
    "config[\"training\"][\"lr\"] = 8e-4\n",
    "config[\"trainer\"][\"precision\"] = 16\n",
    "config[\"trainer\"][\"max_epochs\"] = 90"
   ]
  },
  {
   "cell_type": "code",
   "execution_count": 46,
   "id": "82eb5cfc",
   "metadata": {},
   "outputs": [],
   "source": [
    "# Initialize model\n",
    "model = SimpleCNN(\n",
    "    n_input_channels=len(config[\"data\"][\"input_vars\"]),\n",
    "    n_output_channels=len(config[\"data\"][\"output_vars\"]),\n",
    "    kernel_size=config[\"model\"][\"kernel_size\"],\n",
    "    init_dim=config[\"model\"][\"init_dim\"],\n",
    "    depth=config[\"model\"][\"depth\"],\n",
    "    dropout_rate=config[\"model\"][\"dropout_rate\"]\n",
    ")"
   ]
  },
  {
   "cell_type": "code",
   "execution_count": 47,
   "id": "ceda14d3",
   "metadata": {
    "scrolled": false
   },
   "outputs": [
    {
     "name": "stderr",
     "output_type": "stream",
     "text": [
      "C:\\Users\\20187\\anaconda3\\Lib\\site-packages\\lightning_fabric\\connector.py:571: `precision=16` is supported for historical reasons but its usage is discouraged. Please set your precision to 16-mixed instead!\n",
      "Using 16bit Automatic Mixed Precision (AMP)\n",
      "GPU available: True (cuda), used: True\n",
      "TPU available: False, using: 0 TPU cores\n",
      "HPU available: False, using: 0 HPUs\n"
     ]
    },
    {
     "name": "stdout",
     "output_type": "stream",
     "text": [
      "Creating dataset with 2703 samples...\n",
      "Creating dataset with 360 samples...\n",
      "Creating dataset with 360 samples...\n"
     ]
    },
    {
     "name": "stderr",
     "output_type": "stream",
     "text": [
      "LOCAL_RANK: 0 - CUDA_VISIBLE_DEVICES: [0]\n",
      "\n",
      "  | Name      | Type      | Params | Mode \n",
      "------------------------------------------------\n",
      "0 | model     | SimpleCNN | 10.7 M | train\n",
      "1 | criterion | MSELoss   | 0      | train\n",
      "------------------------------------------------\n",
      "10.7 M    Trainable params\n",
      "0         Non-trainable params\n",
      "10.7 M    Total params\n",
      "42.923    Total estimated model params size (MB)\n",
      "47        Modules in train mode\n",
      "0         Modules in eval mode\n",
      "C:\\Users\\20187\\anaconda3\\Lib\\site-packages\\pytorch_lightning\\trainer\\connectors\\data_connector.py:425: The 'train_dataloader' does not have many workers which may be a bottleneck. Consider increasing the value of the `num_workers` argument` to `num_workers=19` in the `DataLoader` to improve performance.\n",
      "C:\\Users\\20187\\anaconda3\\Lib\\site-packages\\pytorch_lightning\\loops\\fit_loop.py:310: The number of training batches (43) is smaller than the logging interval Trainer(log_every_n_steps=50). Set a lower value for log_every_n_steps if you want to see logs for the training epoch.\n",
      "C:\\Users\\20187\\anaconda3\\Lib\\site-packages\\pytorch_lightning\\trainer\\connectors\\data_connector.py:425: The 'val_dataloader' does not have many workers which may be a bottleneck. Consider increasing the value of the `num_workers` argument` to `num_workers=19` in the `DataLoader` to improve performance.\n"
     ]
    },
    {
     "data": {
      "application/vnd.jupyter.widget-view+json": {
       "model_id": "8011056075f8490889e4dbbdd4dc8b58",
       "version_major": 2,
       "version_minor": 0
      },
      "text/plain": [
       "Training: |                                                                                      | 0/? [00:00<…"
      ]
     },
     "metadata": {},
     "output_type": "display_data"
    },
    {
     "data": {
      "application/vnd.jupyter.widget-view+json": {
       "model_id": "",
       "version_major": 2,
       "version_minor": 0
      },
      "text/plain": [
       "Validation: |                                                                                    | 0/? [00:00<…"
      ]
     },
     "metadata": {},
     "output_type": "display_data"
    },
    {
     "name": "stdout",
     "output_type": "stream",
     "text": [
      "[VAL] tas: RMSE=9.4591, Time-Mean RMSE=8.1548, Time-Stddev MAE=1.8955\n",
      "[VAL] pr: RMSE=3.4185, Time-Mean RMSE=2.0343, Time-Stddev MAE=1.8625\n"
     ]
    },
    {
     "data": {
      "application/vnd.jupyter.widget-view+json": {
       "model_id": "",
       "version_major": 2,
       "version_minor": 0
      },
      "text/plain": [
       "Validation: |                                                                                    | 0/? [00:00<…"
      ]
     },
     "metadata": {},
     "output_type": "display_data"
    },
    {
     "name": "stdout",
     "output_type": "stream",
     "text": [
      "[VAL] tas: RMSE=8.3506, Time-Mean RMSE=5.5542, Time-Stddev MAE=3.1767\n",
      "[VAL] pr: RMSE=3.2835, Time-Mean RMSE=1.7522, Time-Stddev MAE=1.7195\n"
     ]
    },
    {
     "data": {
      "application/vnd.jupyter.widget-view+json": {
       "model_id": "",
       "version_major": 2,
       "version_minor": 0
      },
      "text/plain": [
       "Validation: |                                                                                    | 0/? [00:00<…"
      ]
     },
     "metadata": {},
     "output_type": "display_data"
    },
    {
     "name": "stdout",
     "output_type": "stream",
     "text": [
      "[VAL] tas: RMSE=6.8420, Time-Mean RMSE=5.0557, Time-Stddev MAE=1.9602\n",
      "[VAL] pr: RMSE=3.2876, Time-Mean RMSE=1.7929, Time-Stddev MAE=1.5544\n"
     ]
    },
    {
     "data": {
      "application/vnd.jupyter.widget-view+json": {
       "model_id": "",
       "version_major": 2,
       "version_minor": 0
      },
      "text/plain": [
       "Validation: |                                                                                    | 0/? [00:00<…"
      ]
     },
     "metadata": {},
     "output_type": "display_data"
    },
    {
     "name": "stdout",
     "output_type": "stream",
     "text": [
      "[VAL] tas: RMSE=6.3528, Time-Mean RMSE=4.8630, Time-Stddev MAE=1.5336\n",
      "[VAL] pr: RMSE=3.0495, Time-Mean RMSE=1.4476, Time-Stddev MAE=1.5469\n"
     ]
    },
    {
     "data": {
      "application/vnd.jupyter.widget-view+json": {
       "model_id": "",
       "version_major": 2,
       "version_minor": 0
      },
      "text/plain": [
       "Validation: |                                                                                    | 0/? [00:00<…"
      ]
     },
     "metadata": {},
     "output_type": "display_data"
    },
    {
     "name": "stdout",
     "output_type": "stream",
     "text": [
      "[VAL] tas: RMSE=6.0203, Time-Mean RMSE=4.5496, Time-Stddev MAE=1.4144\n",
      "[VAL] pr: RMSE=2.9769, Time-Mean RMSE=1.3437, Time-Stddev MAE=1.5630\n"
     ]
    },
    {
     "data": {
      "application/vnd.jupyter.widget-view+json": {
       "model_id": "",
       "version_major": 2,
       "version_minor": 0
      },
      "text/plain": [
       "Validation: |                                                                                    | 0/? [00:00<…"
      ]
     },
     "metadata": {},
     "output_type": "display_data"
    },
    {
     "name": "stdout",
     "output_type": "stream",
     "text": [
      "[VAL] tas: RMSE=5.2864, Time-Mean RMSE=3.7137, Time-Stddev MAE=1.4076\n",
      "[VAL] pr: RMSE=2.9346, Time-Mean RMSE=1.2864, Time-Stddev MAE=1.3870\n"
     ]
    },
    {
     "data": {
      "application/vnd.jupyter.widget-view+json": {
       "model_id": "",
       "version_major": 2,
       "version_minor": 0
      },
      "text/plain": [
       "Validation: |                                                                                    | 0/? [00:00<…"
      ]
     },
     "metadata": {},
     "output_type": "display_data"
    },
    {
     "name": "stdout",
     "output_type": "stream",
     "text": [
      "[VAL] tas: RMSE=4.8821, Time-Mean RMSE=3.4011, Time-Stddev MAE=1.3510\n",
      "[VAL] pr: RMSE=2.7537, Time-Mean RMSE=0.9443, Time-Stddev MAE=1.4988\n"
     ]
    },
    {
     "data": {
      "application/vnd.jupyter.widget-view+json": {
       "model_id": "",
       "version_major": 2,
       "version_minor": 0
      },
      "text/plain": [
       "Validation: |                                                                                    | 0/? [00:00<…"
      ]
     },
     "metadata": {},
     "output_type": "display_data"
    },
    {
     "name": "stdout",
     "output_type": "stream",
     "text": [
      "[VAL] tas: RMSE=4.7342, Time-Mean RMSE=3.2335, Time-Stddev MAE=1.4095\n",
      "[VAL] pr: RMSE=2.7751, Time-Mean RMSE=0.9646, Time-Stddev MAE=1.5073\n"
     ]
    },
    {
     "data": {
      "application/vnd.jupyter.widget-view+json": {
       "model_id": "",
       "version_major": 2,
       "version_minor": 0
      },
      "text/plain": [
       "Validation: |                                                                                    | 0/? [00:00<…"
      ]
     },
     "metadata": {},
     "output_type": "display_data"
    },
    {
     "name": "stdout",
     "output_type": "stream",
     "text": [
      "[VAL] tas: RMSE=4.8835, Time-Mean RMSE=3.5679, Time-Stddev MAE=1.0664\n",
      "[VAL] pr: RMSE=2.7944, Time-Mean RMSE=1.0447, Time-Stddev MAE=1.4719\n"
     ]
    },
    {
     "data": {
      "application/vnd.jupyter.widget-view+json": {
       "model_id": "",
       "version_major": 2,
       "version_minor": 0
      },
      "text/plain": [
       "Validation: |                                                                                    | 0/? [00:00<…"
      ]
     },
     "metadata": {},
     "output_type": "display_data"
    },
    {
     "name": "stdout",
     "output_type": "stream",
     "text": [
      "[VAL] tas: RMSE=4.4323, Time-Mean RMSE=3.0948, Time-Stddev MAE=1.2340\n",
      "[VAL] pr: RMSE=2.6953, Time-Mean RMSE=0.8585, Time-Stddev MAE=1.4916\n"
     ]
    },
    {
     "data": {
      "application/vnd.jupyter.widget-view+json": {
       "model_id": "",
       "version_major": 2,
       "version_minor": 0
      },
      "text/plain": [
       "Validation: |                                                                                    | 0/? [00:00<…"
      ]
     },
     "metadata": {},
     "output_type": "display_data"
    },
    {
     "name": "stdout",
     "output_type": "stream",
     "text": [
      "[VAL] tas: RMSE=4.6145, Time-Mean RMSE=3.3196, Time-Stddev MAE=1.0887\n",
      "[VAL] pr: RMSE=2.6626, Time-Mean RMSE=0.7624, Time-Stddev MAE=1.3909\n"
     ]
    },
    {
     "data": {
      "application/vnd.jupyter.widget-view+json": {
       "model_id": "",
       "version_major": 2,
       "version_minor": 0
      },
      "text/plain": [
       "Validation: |                                                                                    | 0/? [00:00<…"
      ]
     },
     "metadata": {},
     "output_type": "display_data"
    },
    {
     "name": "stdout",
     "output_type": "stream",
     "text": [
      "[VAL] tas: RMSE=4.3092, Time-Mean RMSE=3.0475, Time-Stddev MAE=1.0932\n",
      "[VAL] pr: RMSE=2.6027, Time-Mean RMSE=0.6636, Time-Stddev MAE=1.4153\n"
     ]
    },
    {
     "data": {
      "application/vnd.jupyter.widget-view+json": {
       "model_id": "",
       "version_major": 2,
       "version_minor": 0
      },
      "text/plain": [
       "Validation: |                                                                                    | 0/? [00:00<…"
      ]
     },
     "metadata": {},
     "output_type": "display_data"
    },
    {
     "name": "stdout",
     "output_type": "stream",
     "text": [
      "[VAL] tas: RMSE=4.4565, Time-Mean RMSE=3.0330, Time-Stddev MAE=1.0510\n",
      "[VAL] pr: RMSE=2.6820, Time-Mean RMSE=0.7512, Time-Stddev MAE=1.3480\n"
     ]
    },
    {
     "data": {
      "application/vnd.jupyter.widget-view+json": {
       "model_id": "",
       "version_major": 2,
       "version_minor": 0
      },
      "text/plain": [
       "Validation: |                                                                                    | 0/? [00:00<…"
      ]
     },
     "metadata": {},
     "output_type": "display_data"
    },
    {
     "name": "stdout",
     "output_type": "stream",
     "text": [
      "[VAL] tas: RMSE=4.2497, Time-Mean RMSE=2.9581, Time-Stddev MAE=0.9007\n",
      "[VAL] pr: RMSE=2.5977, Time-Mean RMSE=0.6644, Time-Stddev MAE=1.3702\n"
     ]
    },
    {
     "data": {
      "application/vnd.jupyter.widget-view+json": {
       "model_id": "",
       "version_major": 2,
       "version_minor": 0
      },
      "text/plain": [
       "Validation: |                                                                                    | 0/? [00:00<…"
      ]
     },
     "metadata": {},
     "output_type": "display_data"
    },
    {
     "name": "stdout",
     "output_type": "stream",
     "text": [
      "[VAL] tas: RMSE=4.1393, Time-Mean RMSE=2.8229, Time-Stddev MAE=0.9646\n",
      "[VAL] pr: RMSE=2.6235, Time-Mean RMSE=0.8329, Time-Stddev MAE=1.3488\n"
     ]
    },
    {
     "data": {
      "application/vnd.jupyter.widget-view+json": {
       "model_id": "",
       "version_major": 2,
       "version_minor": 0
      },
      "text/plain": [
       "Validation: |                                                                                    | 0/? [00:00<…"
      ]
     },
     "metadata": {},
     "output_type": "display_data"
    },
    {
     "name": "stdout",
     "output_type": "stream",
     "text": [
      "[VAL] tas: RMSE=4.0406, Time-Mean RMSE=2.7949, Time-Stddev MAE=0.8811\n",
      "[VAL] pr: RMSE=2.5728, Time-Mean RMSE=0.8290, Time-Stddev MAE=1.3764\n"
     ]
    },
    {
     "data": {
      "application/vnd.jupyter.widget-view+json": {
       "model_id": "",
       "version_major": 2,
       "version_minor": 0
      },
      "text/plain": [
       "Validation: |                                                                                    | 0/? [00:00<…"
      ]
     },
     "metadata": {},
     "output_type": "display_data"
    },
    {
     "name": "stdout",
     "output_type": "stream",
     "text": [
      "[VAL] tas: RMSE=3.9191, Time-Mean RMSE=2.5865, Time-Stddev MAE=0.9416\n",
      "[VAL] pr: RMSE=2.4792, Time-Mean RMSE=0.5381, Time-Stddev MAE=1.2285\n"
     ]
    },
    {
     "data": {
      "application/vnd.jupyter.widget-view+json": {
       "model_id": "",
       "version_major": 2,
       "version_minor": 0
      },
      "text/plain": [
       "Validation: |                                                                                    | 0/? [00:00<…"
      ]
     },
     "metadata": {},
     "output_type": "display_data"
    },
    {
     "name": "stdout",
     "output_type": "stream",
     "text": [
      "[VAL] tas: RMSE=3.8655, Time-Mean RMSE=2.5638, Time-Stddev MAE=1.0308\n",
      "[VAL] pr: RMSE=2.4667, Time-Mean RMSE=0.6644, Time-Stddev MAE=1.2736\n"
     ]
    },
    {
     "data": {
      "application/vnd.jupyter.widget-view+json": {
       "model_id": "",
       "version_major": 2,
       "version_minor": 0
      },
      "text/plain": [
       "Validation: |                                                                                    | 0/? [00:00<…"
      ]
     },
     "metadata": {},
     "output_type": "display_data"
    },
    {
     "name": "stdout",
     "output_type": "stream",
     "text": [
      "[VAL] tas: RMSE=3.6575, Time-Mean RMSE=2.4202, Time-Stddev MAE=0.8680\n",
      "[VAL] pr: RMSE=2.4425, Time-Mean RMSE=0.7008, Time-Stddev MAE=1.2618\n"
     ]
    },
    {
     "data": {
      "application/vnd.jupyter.widget-view+json": {
       "model_id": "",
       "version_major": 2,
       "version_minor": 0
      },
      "text/plain": [
       "Validation: |                                                                                    | 0/? [00:00<…"
      ]
     },
     "metadata": {},
     "output_type": "display_data"
    },
    {
     "name": "stdout",
     "output_type": "stream",
     "text": [
      "[VAL] tas: RMSE=3.7225, Time-Mean RMSE=2.4060, Time-Stddev MAE=0.8704\n",
      "[VAL] pr: RMSE=2.4270, Time-Mean RMSE=0.5338, Time-Stddev MAE=1.2503\n"
     ]
    },
    {
     "data": {
      "application/vnd.jupyter.widget-view+json": {
       "model_id": "",
       "version_major": 2,
       "version_minor": 0
      },
      "text/plain": [
       "Validation: |                                                                                    | 0/? [00:00<…"
      ]
     },
     "metadata": {},
     "output_type": "display_data"
    },
    {
     "name": "stdout",
     "output_type": "stream",
     "text": [
      "[VAL] tas: RMSE=3.8791, Time-Mean RMSE=2.7313, Time-Stddev MAE=0.8235\n",
      "[VAL] pr: RMSE=2.4239, Time-Mean RMSE=0.6397, Time-Stddev MAE=1.2156\n"
     ]
    },
    {
     "data": {
      "application/vnd.jupyter.widget-view+json": {
       "model_id": "",
       "version_major": 2,
       "version_minor": 0
      },
      "text/plain": [
       "Validation: |                                                                                    | 0/? [00:00<…"
      ]
     },
     "metadata": {},
     "output_type": "display_data"
    },
    {
     "name": "stdout",
     "output_type": "stream",
     "text": [
      "[VAL] tas: RMSE=3.3941, Time-Mean RMSE=2.0626, Time-Stddev MAE=0.8545\n",
      "[VAL] pr: RMSE=2.5106, Time-Mean RMSE=0.9001, Time-Stddev MAE=1.2359\n"
     ]
    },
    {
     "data": {
      "application/vnd.jupyter.widget-view+json": {
       "model_id": "",
       "version_major": 2,
       "version_minor": 0
      },
      "text/plain": [
       "Validation: |                                                                                    | 0/? [00:00<…"
      ]
     },
     "metadata": {},
     "output_type": "display_data"
    },
    {
     "name": "stdout",
     "output_type": "stream",
     "text": [
      "[VAL] tas: RMSE=3.3404, Time-Mean RMSE=1.9592, Time-Stddev MAE=1.0374\n",
      "[VAL] pr: RMSE=2.3890, Time-Mean RMSE=0.7454, Time-Stddev MAE=1.1211\n"
     ]
    },
    {
     "data": {
      "application/vnd.jupyter.widget-view+json": {
       "model_id": "",
       "version_major": 2,
       "version_minor": 0
      },
      "text/plain": [
       "Validation: |                                                                                    | 0/? [00:00<…"
      ]
     },
     "metadata": {},
     "output_type": "display_data"
    },
    {
     "name": "stdout",
     "output_type": "stream",
     "text": [
      "[VAL] tas: RMSE=3.2765, Time-Mean RMSE=1.9554, Time-Stddev MAE=0.9086\n",
      "[VAL] pr: RMSE=2.2984, Time-Mean RMSE=0.5663, Time-Stddev MAE=1.0321\n"
     ]
    },
    {
     "data": {
      "application/vnd.jupyter.widget-view+json": {
       "model_id": "",
       "version_major": 2,
       "version_minor": 0
      },
      "text/plain": [
       "Validation: |                                                                                    | 0/? [00:00<…"
      ]
     },
     "metadata": {},
     "output_type": "display_data"
    },
    {
     "name": "stdout",
     "output_type": "stream",
     "text": [
      "[VAL] tas: RMSE=3.1627, Time-Mean RMSE=1.9003, Time-Stddev MAE=0.6966\n",
      "[VAL] pr: RMSE=2.2402, Time-Mean RMSE=0.4493, Time-Stddev MAE=1.0188\n"
     ]
    },
    {
     "data": {
      "application/vnd.jupyter.widget-view+json": {
       "model_id": "",
       "version_major": 2,
       "version_minor": 0
      },
      "text/plain": [
       "Validation: |                                                                                    | 0/? [00:00<…"
      ]
     },
     "metadata": {},
     "output_type": "display_data"
    },
    {
     "name": "stdout",
     "output_type": "stream",
     "text": [
      "[VAL] tas: RMSE=3.0815, Time-Mean RMSE=1.8105, Time-Stddev MAE=0.8771\n",
      "[VAL] pr: RMSE=2.2583, Time-Mean RMSE=0.5502, Time-Stddev MAE=0.9828\n"
     ]
    },
    {
     "data": {
      "application/vnd.jupyter.widget-view+json": {
       "model_id": "",
       "version_major": 2,
       "version_minor": 0
      },
      "text/plain": [
       "Validation: |                                                                                    | 0/? [00:00<…"
      ]
     },
     "metadata": {},
     "output_type": "display_data"
    },
    {
     "name": "stdout",
     "output_type": "stream",
     "text": [
      "[VAL] tas: RMSE=3.0155, Time-Mean RMSE=1.7173, Time-Stddev MAE=0.6247\n",
      "[VAL] pr: RMSE=2.3121, Time-Mean RMSE=0.7984, Time-Stddev MAE=0.9172\n"
     ]
    },
    {
     "data": {
      "application/vnd.jupyter.widget-view+json": {
       "model_id": "",
       "version_major": 2,
       "version_minor": 0
      },
      "text/plain": [
       "Validation: |                                                                                    | 0/? [00:00<…"
      ]
     },
     "metadata": {},
     "output_type": "display_data"
    },
    {
     "name": "stdout",
     "output_type": "stream",
     "text": [
      "[VAL] tas: RMSE=3.0141, Time-Mean RMSE=1.7410, Time-Stddev MAE=0.8223\n",
      "[VAL] pr: RMSE=2.1842, Time-Mean RMSE=0.4979, Time-Stddev MAE=1.0341\n"
     ]
    },
    {
     "data": {
      "application/vnd.jupyter.widget-view+json": {
       "model_id": "",
       "version_major": 2,
       "version_minor": 0
      },
      "text/plain": [
       "Validation: |                                                                                    | 0/? [00:00<…"
      ]
     },
     "metadata": {},
     "output_type": "display_data"
    },
    {
     "name": "stdout",
     "output_type": "stream",
     "text": [
      "[VAL] tas: RMSE=3.0421, Time-Mean RMSE=1.8208, Time-Stddev MAE=0.7910\n",
      "[VAL] pr: RMSE=2.2628, Time-Mean RMSE=0.7198, Time-Stddev MAE=0.9831\n"
     ]
    },
    {
     "data": {
      "application/vnd.jupyter.widget-view+json": {
       "model_id": "",
       "version_major": 2,
       "version_minor": 0
      },
      "text/plain": [
       "Validation: |                                                                                    | 0/? [00:00<…"
      ]
     },
     "metadata": {},
     "output_type": "display_data"
    },
    {
     "name": "stdout",
     "output_type": "stream",
     "text": [
      "[VAL] tas: RMSE=3.1503, Time-Mean RMSE=2.0232, Time-Stddev MAE=0.8207\n",
      "[VAL] pr: RMSE=2.4235, Time-Mean RMSE=0.9753, Time-Stddev MAE=1.0638\n"
     ]
    },
    {
     "data": {
      "application/vnd.jupyter.widget-view+json": {
       "model_id": "",
       "version_major": 2,
       "version_minor": 0
      },
      "text/plain": [
       "Validation: |                                                                                    | 0/? [00:00<…"
      ]
     },
     "metadata": {},
     "output_type": "display_data"
    },
    {
     "name": "stdout",
     "output_type": "stream",
     "text": [
      "[VAL] tas: RMSE=2.6345, Time-Mean RMSE=1.4082, Time-Stddev MAE=0.7507\n",
      "[VAL] pr: RMSE=2.1343, Time-Mean RMSE=0.4876, Time-Stddev MAE=0.9576\n"
     ]
    },
    {
     "data": {
      "application/vnd.jupyter.widget-view+json": {
       "model_id": "",
       "version_major": 2,
       "version_minor": 0
      },
      "text/plain": [
       "Validation: |                                                                                    | 0/? [00:00<…"
      ]
     },
     "metadata": {},
     "output_type": "display_data"
    },
    {
     "name": "stdout",
     "output_type": "stream",
     "text": [
      "[VAL] tas: RMSE=2.7290, Time-Mean RMSE=1.5004, Time-Stddev MAE=0.6239\n",
      "[VAL] pr: RMSE=2.2023, Time-Mean RMSE=0.5928, Time-Stddev MAE=0.9448\n"
     ]
    },
    {
     "data": {
      "application/vnd.jupyter.widget-view+json": {
       "model_id": "",
       "version_major": 2,
       "version_minor": 0
      },
      "text/plain": [
       "Validation: |                                                                                    | 0/? [00:00<…"
      ]
     },
     "metadata": {},
     "output_type": "display_data"
    },
    {
     "name": "stdout",
     "output_type": "stream",
     "text": [
      "[VAL] tas: RMSE=2.7062, Time-Mean RMSE=1.5123, Time-Stddev MAE=0.7496\n",
      "[VAL] pr: RMSE=2.2470, Time-Mean RMSE=0.7317, Time-Stddev MAE=0.9754\n"
     ]
    },
    {
     "data": {
      "application/vnd.jupyter.widget-view+json": {
       "model_id": "",
       "version_major": 2,
       "version_minor": 0
      },
      "text/plain": [
       "Validation: |                                                                                    | 0/? [00:00<…"
      ]
     },
     "metadata": {},
     "output_type": "display_data"
    },
    {
     "name": "stdout",
     "output_type": "stream",
     "text": [
      "[VAL] tas: RMSE=2.5073, Time-Mean RMSE=1.4256, Time-Stddev MAE=0.6848\n",
      "[VAL] pr: RMSE=2.1211, Time-Mean RMSE=0.5339, Time-Stddev MAE=0.9401\n"
     ]
    },
    {
     "data": {
      "application/vnd.jupyter.widget-view+json": {
       "model_id": "",
       "version_major": 2,
       "version_minor": 0
      },
      "text/plain": [
       "Validation: |                                                                                    | 0/? [00:00<…"
      ]
     },
     "metadata": {},
     "output_type": "display_data"
    },
    {
     "name": "stdout",
     "output_type": "stream",
     "text": [
      "[VAL] tas: RMSE=2.5129, Time-Mean RMSE=1.4054, Time-Stddev MAE=0.6120\n",
      "[VAL] pr: RMSE=2.1838, Time-Mean RMSE=0.5885, Time-Stddev MAE=0.9483\n"
     ]
    },
    {
     "data": {
      "application/vnd.jupyter.widget-view+json": {
       "model_id": "",
       "version_major": 2,
       "version_minor": 0
      },
      "text/plain": [
       "Validation: |                                                                                    | 0/? [00:00<…"
      ]
     },
     "metadata": {},
     "output_type": "display_data"
    },
    {
     "name": "stdout",
     "output_type": "stream",
     "text": [
      "[VAL] tas: RMSE=2.4933, Time-Mean RMSE=1.3065, Time-Stddev MAE=0.5195\n",
      "[VAL] pr: RMSE=2.0736, Time-Mean RMSE=0.3799, Time-Stddev MAE=0.9269\n"
     ]
    },
    {
     "data": {
      "application/vnd.jupyter.widget-view+json": {
       "model_id": "",
       "version_major": 2,
       "version_minor": 0
      },
      "text/plain": [
       "Validation: |                                                                                    | 0/? [00:00<…"
      ]
     },
     "metadata": {},
     "output_type": "display_data"
    },
    {
     "name": "stdout",
     "output_type": "stream",
     "text": [
      "[VAL] tas: RMSE=2.2668, Time-Mean RMSE=1.0689, Time-Stddev MAE=0.5327\n",
      "[VAL] pr: RMSE=2.1336, Time-Mean RMSE=0.5576, Time-Stddev MAE=0.8604\n"
     ]
    },
    {
     "data": {
      "application/vnd.jupyter.widget-view+json": {
       "model_id": "",
       "version_major": 2,
       "version_minor": 0
      },
      "text/plain": [
       "Validation: |                                                                                    | 0/? [00:00<…"
      ]
     },
     "metadata": {},
     "output_type": "display_data"
    },
    {
     "name": "stdout",
     "output_type": "stream",
     "text": [
      "[VAL] tas: RMSE=2.3159, Time-Mean RMSE=1.2760, Time-Stddev MAE=0.5621\n",
      "[VAL] pr: RMSE=2.0634, Time-Mean RMSE=0.4032, Time-Stddev MAE=0.8482\n"
     ]
    },
    {
     "data": {
      "application/vnd.jupyter.widget-view+json": {
       "model_id": "",
       "version_major": 2,
       "version_minor": 0
      },
      "text/plain": [
       "Validation: |                                                                                    | 0/? [00:00<…"
      ]
     },
     "metadata": {},
     "output_type": "display_data"
    },
    {
     "name": "stdout",
     "output_type": "stream",
     "text": [
      "[VAL] tas: RMSE=2.3051, Time-Mean RMSE=1.2278, Time-Stddev MAE=0.5810\n",
      "[VAL] pr: RMSE=2.0826, Time-Mean RMSE=0.4130, Time-Stddev MAE=0.8297\n"
     ]
    },
    {
     "data": {
      "application/vnd.jupyter.widget-view+json": {
       "model_id": "",
       "version_major": 2,
       "version_minor": 0
      },
      "text/plain": [
       "Validation: |                                                                                    | 0/? [00:00<…"
      ]
     },
     "metadata": {},
     "output_type": "display_data"
    },
    {
     "name": "stdout",
     "output_type": "stream",
     "text": [
      "[VAL] tas: RMSE=2.4418, Time-Mean RMSE=1.4359, Time-Stddev MAE=0.6638\n",
      "[VAL] pr: RMSE=2.0198, Time-Mean RMSE=0.3390, Time-Stddev MAE=0.8566\n"
     ]
    },
    {
     "data": {
      "application/vnd.jupyter.widget-view+json": {
       "model_id": "",
       "version_major": 2,
       "version_minor": 0
      },
      "text/plain": [
       "Validation: |                                                                                    | 0/? [00:00<…"
      ]
     },
     "metadata": {},
     "output_type": "display_data"
    },
    {
     "name": "stdout",
     "output_type": "stream",
     "text": [
      "[VAL] tas: RMSE=2.0935, Time-Mean RMSE=1.0257, Time-Stddev MAE=0.5392\n",
      "[VAL] pr: RMSE=2.0368, Time-Mean RMSE=0.4113, Time-Stddev MAE=0.8645\n"
     ]
    },
    {
     "data": {
      "application/vnd.jupyter.widget-view+json": {
       "model_id": "",
       "version_major": 2,
       "version_minor": 0
      },
      "text/plain": [
       "Validation: |                                                                                    | 0/? [00:00<…"
      ]
     },
     "metadata": {},
     "output_type": "display_data"
    },
    {
     "name": "stdout",
     "output_type": "stream",
     "text": [
      "[VAL] tas: RMSE=2.2220, Time-Mean RMSE=1.2381, Time-Stddev MAE=0.4994\n",
      "[VAL] pr: RMSE=2.0744, Time-Mean RMSE=0.5184, Time-Stddev MAE=0.9288\n"
     ]
    },
    {
     "data": {
      "application/vnd.jupyter.widget-view+json": {
       "model_id": "",
       "version_major": 2,
       "version_minor": 0
      },
      "text/plain": [
       "Validation: |                                                                                    | 0/? [00:00<…"
      ]
     },
     "metadata": {},
     "output_type": "display_data"
    },
    {
     "name": "stdout",
     "output_type": "stream",
     "text": [
      "[VAL] tas: RMSE=2.0300, Time-Mean RMSE=0.9469, Time-Stddev MAE=0.5863\n",
      "[VAL] pr: RMSE=2.0068, Time-Mean RMSE=0.3575, Time-Stddev MAE=0.8531\n"
     ]
    },
    {
     "data": {
      "application/vnd.jupyter.widget-view+json": {
       "model_id": "",
       "version_major": 2,
       "version_minor": 0
      },
      "text/plain": [
       "Validation: |                                                                                    | 0/? [00:00<…"
      ]
     },
     "metadata": {},
     "output_type": "display_data"
    },
    {
     "name": "stdout",
     "output_type": "stream",
     "text": [
      "[VAL] tas: RMSE=2.0579, Time-Mean RMSE=1.0304, Time-Stddev MAE=0.5286\n",
      "[VAL] pr: RMSE=2.0614, Time-Mean RMSE=0.4623, Time-Stddev MAE=0.8110\n"
     ]
    },
    {
     "data": {
      "application/vnd.jupyter.widget-view+json": {
       "model_id": "",
       "version_major": 2,
       "version_minor": 0
      },
      "text/plain": [
       "Validation: |                                                                                    | 0/? [00:00<…"
      ]
     },
     "metadata": {},
     "output_type": "display_data"
    },
    {
     "name": "stdout",
     "output_type": "stream",
     "text": [
      "[VAL] tas: RMSE=2.1804, Time-Mean RMSE=1.2451, Time-Stddev MAE=0.6063\n",
      "[VAL] pr: RMSE=2.1077, Time-Mean RMSE=0.3868, Time-Stddev MAE=0.9055\n"
     ]
    },
    {
     "data": {
      "application/vnd.jupyter.widget-view+json": {
       "model_id": "",
       "version_major": 2,
       "version_minor": 0
      },
      "text/plain": [
       "Validation: |                                                                                    | 0/? [00:00<…"
      ]
     },
     "metadata": {},
     "output_type": "display_data"
    },
    {
     "name": "stdout",
     "output_type": "stream",
     "text": [
      "[VAL] tas: RMSE=1.9976, Time-Mean RMSE=0.9968, Time-Stddev MAE=0.5866\n",
      "[VAL] pr: RMSE=2.1033, Time-Mean RMSE=0.4694, Time-Stddev MAE=0.8703\n"
     ]
    },
    {
     "data": {
      "application/vnd.jupyter.widget-view+json": {
       "model_id": "",
       "version_major": 2,
       "version_minor": 0
      },
      "text/plain": [
       "Validation: |                                                                                    | 0/? [00:00<…"
      ]
     },
     "metadata": {},
     "output_type": "display_data"
    },
    {
     "name": "stdout",
     "output_type": "stream",
     "text": [
      "[VAL] tas: RMSE=2.0557, Time-Mean RMSE=0.9869, Time-Stddev MAE=0.5579\n",
      "[VAL] pr: RMSE=2.0351, Time-Mean RMSE=0.3256, Time-Stddev MAE=0.8035\n"
     ]
    },
    {
     "data": {
      "application/vnd.jupyter.widget-view+json": {
       "model_id": "",
       "version_major": 2,
       "version_minor": 0
      },
      "text/plain": [
       "Validation: |                                                                                    | 0/? [00:00<…"
      ]
     },
     "metadata": {},
     "output_type": "display_data"
    },
    {
     "name": "stdout",
     "output_type": "stream",
     "text": [
      "[VAL] tas: RMSE=1.8764, Time-Mean RMSE=0.8134, Time-Stddev MAE=0.4840\n",
      "[VAL] pr: RMSE=2.0106, Time-Mean RMSE=0.3994, Time-Stddev MAE=0.8408\n"
     ]
    },
    {
     "data": {
      "application/vnd.jupyter.widget-view+json": {
       "model_id": "",
       "version_major": 2,
       "version_minor": 0
      },
      "text/plain": [
       "Validation: |                                                                                    | 0/? [00:00<…"
      ]
     },
     "metadata": {},
     "output_type": "display_data"
    },
    {
     "name": "stdout",
     "output_type": "stream",
     "text": [
      "[VAL] tas: RMSE=2.0781, Time-Mean RMSE=1.2189, Time-Stddev MAE=0.5013\n",
      "[VAL] pr: RMSE=1.9843, Time-Mean RMSE=0.3366, Time-Stddev MAE=0.8223\n"
     ]
    },
    {
     "data": {
      "application/vnd.jupyter.widget-view+json": {
       "model_id": "",
       "version_major": 2,
       "version_minor": 0
      },
      "text/plain": [
       "Validation: |                                                                                    | 0/? [00:00<…"
      ]
     },
     "metadata": {},
     "output_type": "display_data"
    },
    {
     "name": "stdout",
     "output_type": "stream",
     "text": [
      "[VAL] tas: RMSE=2.2285, Time-Mean RMSE=1.3609, Time-Stddev MAE=0.5293\n",
      "[VAL] pr: RMSE=2.0603, Time-Mean RMSE=0.4453, Time-Stddev MAE=0.9228\n"
     ]
    },
    {
     "data": {
      "application/vnd.jupyter.widget-view+json": {
       "model_id": "",
       "version_major": 2,
       "version_minor": 0
      },
      "text/plain": [
       "Validation: |                                                                                    | 0/? [00:00<…"
      ]
     },
     "metadata": {},
     "output_type": "display_data"
    },
    {
     "name": "stdout",
     "output_type": "stream",
     "text": [
      "[VAL] tas: RMSE=1.8693, Time-Mean RMSE=0.8770, Time-Stddev MAE=0.5127\n",
      "[VAL] pr: RMSE=1.9949, Time-Mean RMSE=0.3426, Time-Stddev MAE=0.7951\n"
     ]
    },
    {
     "data": {
      "application/vnd.jupyter.widget-view+json": {
       "model_id": "",
       "version_major": 2,
       "version_minor": 0
      },
      "text/plain": [
       "Validation: |                                                                                    | 0/? [00:00<…"
      ]
     },
     "metadata": {},
     "output_type": "display_data"
    },
    {
     "name": "stdout",
     "output_type": "stream",
     "text": [
      "[VAL] tas: RMSE=1.9353, Time-Mean RMSE=0.9754, Time-Stddev MAE=0.4634\n",
      "[VAL] pr: RMSE=1.9768, Time-Mean RMSE=0.3122, Time-Stddev MAE=0.7848\n"
     ]
    },
    {
     "data": {
      "application/vnd.jupyter.widget-view+json": {
       "model_id": "",
       "version_major": 2,
       "version_minor": 0
      },
      "text/plain": [
       "Validation: |                                                                                    | 0/? [00:00<…"
      ]
     },
     "metadata": {},
     "output_type": "display_data"
    },
    {
     "name": "stdout",
     "output_type": "stream",
     "text": [
      "[VAL] tas: RMSE=1.9819, Time-Mean RMSE=1.0346, Time-Stddev MAE=0.5117\n",
      "[VAL] pr: RMSE=1.9887, Time-Mean RMSE=0.3342, Time-Stddev MAE=0.7758\n"
     ]
    },
    {
     "data": {
      "application/vnd.jupyter.widget-view+json": {
       "model_id": "",
       "version_major": 2,
       "version_minor": 0
      },
      "text/plain": [
       "Validation: |                                                                                    | 0/? [00:00<…"
      ]
     },
     "metadata": {},
     "output_type": "display_data"
    },
    {
     "name": "stdout",
     "output_type": "stream",
     "text": [
      "[VAL] tas: RMSE=1.9833, Time-Mean RMSE=1.0056, Time-Stddev MAE=0.5141\n",
      "[VAL] pr: RMSE=2.0817, Time-Mean RMSE=0.3906, Time-Stddev MAE=0.8488\n"
     ]
    },
    {
     "data": {
      "application/vnd.jupyter.widget-view+json": {
       "model_id": "",
       "version_major": 2,
       "version_minor": 0
      },
      "text/plain": [
       "Validation: |                                                                                    | 0/? [00:00<…"
      ]
     },
     "metadata": {},
     "output_type": "display_data"
    },
    {
     "name": "stdout",
     "output_type": "stream",
     "text": [
      "[VAL] tas: RMSE=1.9862, Time-Mean RMSE=1.0122, Time-Stddev MAE=0.5444\n",
      "[VAL] pr: RMSE=2.0832, Time-Mean RMSE=0.4298, Time-Stddev MAE=0.8586\n"
     ]
    },
    {
     "data": {
      "application/vnd.jupyter.widget-view+json": {
       "model_id": "",
       "version_major": 2,
       "version_minor": 0
      },
      "text/plain": [
       "Validation: |                                                                                    | 0/? [00:00<…"
      ]
     },
     "metadata": {},
     "output_type": "display_data"
    },
    {
     "name": "stdout",
     "output_type": "stream",
     "text": [
      "[VAL] tas: RMSE=1.9169, Time-Mean RMSE=0.9583, Time-Stddev MAE=0.5020\n",
      "[VAL] pr: RMSE=1.9967, Time-Mean RMSE=0.3346, Time-Stddev MAE=0.8559\n"
     ]
    },
    {
     "data": {
      "application/vnd.jupyter.widget-view+json": {
       "model_id": "",
       "version_major": 2,
       "version_minor": 0
      },
      "text/plain": [
       "Validation: |                                                                                    | 0/? [00:00<…"
      ]
     },
     "metadata": {},
     "output_type": "display_data"
    },
    {
     "name": "stdout",
     "output_type": "stream",
     "text": [
      "[VAL] tas: RMSE=1.9505, Time-Mean RMSE=0.8916, Time-Stddev MAE=0.4873\n",
      "[VAL] pr: RMSE=1.9852, Time-Mean RMSE=0.3389, Time-Stddev MAE=0.8140\n"
     ]
    },
    {
     "data": {
      "application/vnd.jupyter.widget-view+json": {
       "model_id": "",
       "version_major": 2,
       "version_minor": 0
      },
      "text/plain": [
       "Validation: |                                                                                    | 0/? [00:00<…"
      ]
     },
     "metadata": {},
     "output_type": "display_data"
    },
    {
     "name": "stdout",
     "output_type": "stream",
     "text": [
      "[VAL] tas: RMSE=1.7772, Time-Mean RMSE=0.8059, Time-Stddev MAE=0.4320\n",
      "[VAL] pr: RMSE=1.9650, Time-Mean RMSE=0.2936, Time-Stddev MAE=0.7639\n"
     ]
    },
    {
     "data": {
      "application/vnd.jupyter.widget-view+json": {
       "model_id": "",
       "version_major": 2,
       "version_minor": 0
      },
      "text/plain": [
       "Validation: |                                                                                    | 0/? [00:00<…"
      ]
     },
     "metadata": {},
     "output_type": "display_data"
    },
    {
     "name": "stdout",
     "output_type": "stream",
     "text": [
      "[VAL] tas: RMSE=1.7905, Time-Mean RMSE=0.8630, Time-Stddev MAE=0.4648\n",
      "[VAL] pr: RMSE=1.9771, Time-Mean RMSE=0.3414, Time-Stddev MAE=0.7721\n"
     ]
    },
    {
     "data": {
      "application/vnd.jupyter.widget-view+json": {
       "model_id": "",
       "version_major": 2,
       "version_minor": 0
      },
      "text/plain": [
       "Validation: |                                                                                    | 0/? [00:00<…"
      ]
     },
     "metadata": {},
     "output_type": "display_data"
    },
    {
     "name": "stdout",
     "output_type": "stream",
     "text": [
      "[VAL] tas: RMSE=1.7066, Time-Mean RMSE=0.7032, Time-Stddev MAE=0.4040\n",
      "[VAL] pr: RMSE=1.9647, Time-Mean RMSE=0.2857, Time-Stddev MAE=0.7663\n"
     ]
    },
    {
     "data": {
      "application/vnd.jupyter.widget-view+json": {
       "model_id": "",
       "version_major": 2,
       "version_minor": 0
      },
      "text/plain": [
       "Validation: |                                                                                    | 0/? [00:00<…"
      ]
     },
     "metadata": {},
     "output_type": "display_data"
    },
    {
     "name": "stdout",
     "output_type": "stream",
     "text": [
      "[VAL] tas: RMSE=1.8736, Time-Mean RMSE=0.9637, Time-Stddev MAE=0.4176\n",
      "[VAL] pr: RMSE=2.0021, Time-Mean RMSE=0.3028, Time-Stddev MAE=0.8334\n"
     ]
    },
    {
     "data": {
      "application/vnd.jupyter.widget-view+json": {
       "model_id": "",
       "version_major": 2,
       "version_minor": 0
      },
      "text/plain": [
       "Validation: |                                                                                    | 0/? [00:00<…"
      ]
     },
     "metadata": {},
     "output_type": "display_data"
    },
    {
     "name": "stdout",
     "output_type": "stream",
     "text": [
      "[VAL] tas: RMSE=1.9192, Time-Mean RMSE=1.0157, Time-Stddev MAE=0.4728\n",
      "[VAL] pr: RMSE=2.0734, Time-Mean RMSE=0.4989, Time-Stddev MAE=0.8066\n"
     ]
    },
    {
     "data": {
      "application/vnd.jupyter.widget-view+json": {
       "model_id": "",
       "version_major": 2,
       "version_minor": 0
      },
      "text/plain": [
       "Validation: |                                                                                    | 0/? [00:00<…"
      ]
     },
     "metadata": {},
     "output_type": "display_data"
    },
    {
     "name": "stdout",
     "output_type": "stream",
     "text": [
      "[VAL] tas: RMSE=1.7461, Time-Mean RMSE=0.7536, Time-Stddev MAE=0.4035\n",
      "[VAL] pr: RMSE=1.9757, Time-Mean RMSE=0.3082, Time-Stddev MAE=0.7748\n"
     ]
    },
    {
     "data": {
      "application/vnd.jupyter.widget-view+json": {
       "model_id": "",
       "version_major": 2,
       "version_minor": 0
      },
      "text/plain": [
       "Validation: |                                                                                    | 0/? [00:00<…"
      ]
     },
     "metadata": {},
     "output_type": "display_data"
    },
    {
     "name": "stdout",
     "output_type": "stream",
     "text": [
      "[VAL] tas: RMSE=1.8627, Time-Mean RMSE=0.9889, Time-Stddev MAE=0.5227\n",
      "[VAL] pr: RMSE=1.9737, Time-Mean RMSE=0.3061, Time-Stddev MAE=0.7769\n"
     ]
    },
    {
     "data": {
      "application/vnd.jupyter.widget-view+json": {
       "model_id": "",
       "version_major": 2,
       "version_minor": 0
      },
      "text/plain": [
       "Validation: |                                                                                    | 0/? [00:00<…"
      ]
     },
     "metadata": {},
     "output_type": "display_data"
    },
    {
     "name": "stdout",
     "output_type": "stream",
     "text": [
      "[VAL] tas: RMSE=1.8051, Time-Mean RMSE=0.9020, Time-Stddev MAE=0.4650\n",
      "[VAL] pr: RMSE=1.9884, Time-Mean RMSE=0.4056, Time-Stddev MAE=0.7724\n"
     ]
    },
    {
     "data": {
      "application/vnd.jupyter.widget-view+json": {
       "model_id": "",
       "version_major": 2,
       "version_minor": 0
      },
      "text/plain": [
       "Validation: |                                                                                    | 0/? [00:00<…"
      ]
     },
     "metadata": {},
     "output_type": "display_data"
    },
    {
     "name": "stdout",
     "output_type": "stream",
     "text": [
      "[VAL] tas: RMSE=1.8689, Time-Mean RMSE=0.9556, Time-Stddev MAE=0.4335\n",
      "[VAL] pr: RMSE=1.9671, Time-Mean RMSE=0.2996, Time-Stddev MAE=0.7724\n"
     ]
    },
    {
     "data": {
      "application/vnd.jupyter.widget-view+json": {
       "model_id": "",
       "version_major": 2,
       "version_minor": 0
      },
      "text/plain": [
       "Validation: |                                                                                    | 0/? [00:00<…"
      ]
     },
     "metadata": {},
     "output_type": "display_data"
    },
    {
     "name": "stdout",
     "output_type": "stream",
     "text": [
      "[VAL] tas: RMSE=1.8940, Time-Mean RMSE=0.9994, Time-Stddev MAE=0.4673\n",
      "[VAL] pr: RMSE=1.9735, Time-Mean RMSE=0.3055, Time-Stddev MAE=0.8049\n"
     ]
    },
    {
     "data": {
      "application/vnd.jupyter.widget-view+json": {
       "model_id": "",
       "version_major": 2,
       "version_minor": 0
      },
      "text/plain": [
       "Validation: |                                                                                    | 0/? [00:00<…"
      ]
     },
     "metadata": {},
     "output_type": "display_data"
    },
    {
     "name": "stdout",
     "output_type": "stream",
     "text": [
      "[VAL] tas: RMSE=1.9523, Time-Mean RMSE=1.1294, Time-Stddev MAE=0.4836\n",
      "[VAL] pr: RMSE=2.0421, Time-Mean RMSE=0.4908, Time-Stddev MAE=0.8168\n"
     ]
    },
    {
     "data": {
      "application/vnd.jupyter.widget-view+json": {
       "model_id": "",
       "version_major": 2,
       "version_minor": 0
      },
      "text/plain": [
       "Validation: |                                                                                    | 0/? [00:00<…"
      ]
     },
     "metadata": {},
     "output_type": "display_data"
    },
    {
     "name": "stdout",
     "output_type": "stream",
     "text": [
      "[VAL] tas: RMSE=2.8170, Time-Mean RMSE=1.9510, Time-Stddev MAE=0.5140\n",
      "[VAL] pr: RMSE=2.0750, Time-Mean RMSE=0.4565, Time-Stddev MAE=0.8299\n"
     ]
    },
    {
     "data": {
      "application/vnd.jupyter.widget-view+json": {
       "model_id": "",
       "version_major": 2,
       "version_minor": 0
      },
      "text/plain": [
       "Validation: |                                                                                    | 0/? [00:00<…"
      ]
     },
     "metadata": {},
     "output_type": "display_data"
    },
    {
     "name": "stdout",
     "output_type": "stream",
     "text": [
      "[VAL] tas: RMSE=1.7696, Time-Mean RMSE=0.8398, Time-Stddev MAE=0.3778\n",
      "[VAL] pr: RMSE=2.0106, Time-Mean RMSE=0.3415, Time-Stddev MAE=0.8356\n"
     ]
    },
    {
     "data": {
      "application/vnd.jupyter.widget-view+json": {
       "model_id": "",
       "version_major": 2,
       "version_minor": 0
      },
      "text/plain": [
       "Validation: |                                                                                    | 0/? [00:00<…"
      ]
     },
     "metadata": {},
     "output_type": "display_data"
    },
    {
     "name": "stdout",
     "output_type": "stream",
     "text": [
      "[VAL] tas: RMSE=1.8633, Time-Mean RMSE=1.0341, Time-Stddev MAE=0.4068\n",
      "[VAL] pr: RMSE=1.9682, Time-Mean RMSE=0.2895, Time-Stddev MAE=0.7735\n"
     ]
    },
    {
     "data": {
      "application/vnd.jupyter.widget-view+json": {
       "model_id": "",
       "version_major": 2,
       "version_minor": 0
      },
      "text/plain": [
       "Validation: |                                                                                    | 0/? [00:00<…"
      ]
     },
     "metadata": {},
     "output_type": "display_data"
    },
    {
     "name": "stdout",
     "output_type": "stream",
     "text": [
      "[VAL] tas: RMSE=1.6135, Time-Mean RMSE=0.6782, Time-Stddev MAE=0.3729\n",
      "[VAL] pr: RMSE=1.9588, Time-Mean RMSE=0.2905, Time-Stddev MAE=0.7916\n"
     ]
    },
    {
     "data": {
      "application/vnd.jupyter.widget-view+json": {
       "model_id": "",
       "version_major": 2,
       "version_minor": 0
      },
      "text/plain": [
       "Validation: |                                                                                    | 0/? [00:00<…"
      ]
     },
     "metadata": {},
     "output_type": "display_data"
    },
    {
     "name": "stdout",
     "output_type": "stream",
     "text": [
      "[VAL] tas: RMSE=1.7131, Time-Mean RMSE=0.8602, Time-Stddev MAE=0.3983\n",
      "[VAL] pr: RMSE=1.9658, Time-Mean RMSE=0.2725, Time-Stddev MAE=0.7973\n"
     ]
    },
    {
     "data": {
      "application/vnd.jupyter.widget-view+json": {
       "model_id": "",
       "version_major": 2,
       "version_minor": 0
      },
      "text/plain": [
       "Validation: |                                                                                    | 0/? [00:00<…"
      ]
     },
     "metadata": {},
     "output_type": "display_data"
    },
    {
     "name": "stdout",
     "output_type": "stream",
     "text": [
      "[VAL] tas: RMSE=1.8464, Time-Mean RMSE=1.1242, Time-Stddev MAE=0.4431\n",
      "[VAL] pr: RMSE=1.9563, Time-Mean RMSE=0.2651, Time-Stddev MAE=0.8261\n"
     ]
    },
    {
     "data": {
      "application/vnd.jupyter.widget-view+json": {
       "model_id": "",
       "version_major": 2,
       "version_minor": 0
      },
      "text/plain": [
       "Validation: |                                                                                    | 0/? [00:00<…"
      ]
     },
     "metadata": {},
     "output_type": "display_data"
    },
    {
     "name": "stdout",
     "output_type": "stream",
     "text": [
      "[VAL] tas: RMSE=1.9594, Time-Mean RMSE=1.0863, Time-Stddev MAE=0.4403\n",
      "[VAL] pr: RMSE=2.0377, Time-Mean RMSE=0.3984, Time-Stddev MAE=0.9145\n"
     ]
    },
    {
     "data": {
      "application/vnd.jupyter.widget-view+json": {
       "model_id": "",
       "version_major": 2,
       "version_minor": 0
      },
      "text/plain": [
       "Validation: |                                                                                    | 0/? [00:00<…"
      ]
     },
     "metadata": {},
     "output_type": "display_data"
    },
    {
     "name": "stdout",
     "output_type": "stream",
     "text": [
      "[VAL] tas: RMSE=2.1506, Time-Mean RMSE=1.3703, Time-Stddev MAE=0.4152\n",
      "[VAL] pr: RMSE=2.2987, Time-Mean RMSE=0.8595, Time-Stddev MAE=0.8397\n"
     ]
    },
    {
     "data": {
      "application/vnd.jupyter.widget-view+json": {
       "model_id": "",
       "version_major": 2,
       "version_minor": 0
      },
      "text/plain": [
       "Validation: |                                                                                    | 0/? [00:00<…"
      ]
     },
     "metadata": {},
     "output_type": "display_data"
    },
    {
     "name": "stdout",
     "output_type": "stream",
     "text": [
      "[VAL] tas: RMSE=1.7350, Time-Mean RMSE=0.7925, Time-Stddev MAE=0.4588\n",
      "[VAL] pr: RMSE=1.9668, Time-Mean RMSE=0.3063, Time-Stddev MAE=0.7795\n"
     ]
    },
    {
     "data": {
      "application/vnd.jupyter.widget-view+json": {
       "model_id": "",
       "version_major": 2,
       "version_minor": 0
      },
      "text/plain": [
       "Validation: |                                                                                    | 0/? [00:00<…"
      ]
     },
     "metadata": {},
     "output_type": "display_data"
    },
    {
     "name": "stdout",
     "output_type": "stream",
     "text": [
      "[VAL] tas: RMSE=1.6697, Time-Mean RMSE=0.8693, Time-Stddev MAE=0.3666\n",
      "[VAL] pr: RMSE=1.9550, Time-Mean RMSE=0.2767, Time-Stddev MAE=0.7623\n"
     ]
    },
    {
     "data": {
      "application/vnd.jupyter.widget-view+json": {
       "model_id": "",
       "version_major": 2,
       "version_minor": 0
      },
      "text/plain": [
       "Validation: |                                                                                    | 0/? [00:00<…"
      ]
     },
     "metadata": {},
     "output_type": "display_data"
    },
    {
     "name": "stdout",
     "output_type": "stream",
     "text": [
      "[VAL] tas: RMSE=1.6599, Time-Mean RMSE=0.7616, Time-Stddev MAE=0.4131\n",
      "[VAL] pr: RMSE=1.9726, Time-Mean RMSE=0.3204, Time-Stddev MAE=0.8348\n"
     ]
    },
    {
     "data": {
      "application/vnd.jupyter.widget-view+json": {
       "model_id": "",
       "version_major": 2,
       "version_minor": 0
      },
      "text/plain": [
       "Validation: |                                                                                    | 0/? [00:00<…"
      ]
     },
     "metadata": {},
     "output_type": "display_data"
    },
    {
     "name": "stdout",
     "output_type": "stream",
     "text": [
      "[VAL] tas: RMSE=1.6018, Time-Mean RMSE=0.6777, Time-Stddev MAE=0.4255\n",
      "[VAL] pr: RMSE=1.9499, Time-Mean RMSE=0.2599, Time-Stddev MAE=0.7378\n"
     ]
    },
    {
     "data": {
      "application/vnd.jupyter.widget-view+json": {
       "model_id": "",
       "version_major": 2,
       "version_minor": 0
      },
      "text/plain": [
       "Validation: |                                                                                    | 0/? [00:00<…"
      ]
     },
     "metadata": {},
     "output_type": "display_data"
    },
    {
     "name": "stdout",
     "output_type": "stream",
     "text": [
      "[VAL] tas: RMSE=1.6545, Time-Mean RMSE=0.7783, Time-Stddev MAE=0.4221\n",
      "[VAL] pr: RMSE=1.9497, Time-Mean RMSE=0.2479, Time-Stddev MAE=0.7843\n"
     ]
    },
    {
     "data": {
      "application/vnd.jupyter.widget-view+json": {
       "model_id": "",
       "version_major": 2,
       "version_minor": 0
      },
      "text/plain": [
       "Validation: |                                                                                    | 0/? [00:00<…"
      ]
     },
     "metadata": {},
     "output_type": "display_data"
    },
    {
     "name": "stdout",
     "output_type": "stream",
     "text": [
      "[VAL] tas: RMSE=1.6106, Time-Mean RMSE=0.7719, Time-Stddev MAE=0.3957\n",
      "[VAL] pr: RMSE=1.9581, Time-Mean RMSE=0.2568, Time-Stddev MAE=0.7978\n"
     ]
    },
    {
     "data": {
      "application/vnd.jupyter.widget-view+json": {
       "model_id": "",
       "version_major": 2,
       "version_minor": 0
      },
      "text/plain": [
       "Validation: |                                                                                    | 0/? [00:00<…"
      ]
     },
     "metadata": {},
     "output_type": "display_data"
    },
    {
     "name": "stdout",
     "output_type": "stream",
     "text": [
      "[VAL] tas: RMSE=1.6344, Time-Mean RMSE=0.7486, Time-Stddev MAE=0.3766\n",
      "[VAL] pr: RMSE=1.9542, Time-Mean RMSE=0.2735, Time-Stddev MAE=0.7993\n"
     ]
    },
    {
     "data": {
      "application/vnd.jupyter.widget-view+json": {
       "model_id": "",
       "version_major": 2,
       "version_minor": 0
      },
      "text/plain": [
       "Validation: |                                                                                    | 0/? [00:00<…"
      ]
     },
     "metadata": {},
     "output_type": "display_data"
    },
    {
     "name": "stdout",
     "output_type": "stream",
     "text": [
      "[VAL] tas: RMSE=1.8280, Time-Mean RMSE=1.0858, Time-Stddev MAE=0.3231\n",
      "[VAL] pr: RMSE=1.9776, Time-Mean RMSE=0.3227, Time-Stddev MAE=0.8113\n"
     ]
    },
    {
     "data": {
      "application/vnd.jupyter.widget-view+json": {
       "model_id": "",
       "version_major": 2,
       "version_minor": 0
      },
      "text/plain": [
       "Validation: |                                                                                    | 0/? [00:00<…"
      ]
     },
     "metadata": {},
     "output_type": "display_data"
    },
    {
     "name": "stdout",
     "output_type": "stream",
     "text": [
      "[VAL] tas: RMSE=1.5591, Time-Mean RMSE=0.6253, Time-Stddev MAE=0.3220\n",
      "[VAL] pr: RMSE=1.9683, Time-Mean RMSE=0.3174, Time-Stddev MAE=0.7671\n"
     ]
    },
    {
     "data": {
      "application/vnd.jupyter.widget-view+json": {
       "model_id": "",
       "version_major": 2,
       "version_minor": 0
      },
      "text/plain": [
       "Validation: |                                                                                    | 0/? [00:00<…"
      ]
     },
     "metadata": {},
     "output_type": "display_data"
    },
    {
     "name": "stdout",
     "output_type": "stream",
     "text": [
      "[VAL] tas: RMSE=1.6840, Time-Mean RMSE=0.8813, Time-Stddev MAE=0.3491\n",
      "[VAL] pr: RMSE=1.9551, Time-Mean RMSE=0.2649, Time-Stddev MAE=0.8014\n"
     ]
    },
    {
     "data": {
      "application/vnd.jupyter.widget-view+json": {
       "model_id": "",
       "version_major": 2,
       "version_minor": 0
      },
      "text/plain": [
       "Validation: |                                                                                    | 0/? [00:00<…"
      ]
     },
     "metadata": {},
     "output_type": "display_data"
    },
    {
     "name": "stdout",
     "output_type": "stream",
     "text": [
      "[VAL] tas: RMSE=1.5589, Time-Mean RMSE=0.6282, Time-Stddev MAE=0.4033\n",
      "[VAL] pr: RMSE=1.9497, Time-Mean RMSE=0.2567, Time-Stddev MAE=0.7549\n"
     ]
    },
    {
     "data": {
      "application/vnd.jupyter.widget-view+json": {
       "model_id": "",
       "version_major": 2,
       "version_minor": 0
      },
      "text/plain": [
       "Validation: |                                                                                    | 0/? [00:00<…"
      ]
     },
     "metadata": {},
     "output_type": "display_data"
    },
    {
     "name": "stdout",
     "output_type": "stream",
     "text": [
      "[VAL] tas: RMSE=1.6124, Time-Mean RMSE=0.6563, Time-Stddev MAE=0.3709\n",
      "[VAL] pr: RMSE=1.9660, Time-Mean RMSE=0.2690, Time-Stddev MAE=0.7849\n"
     ]
    },
    {
     "data": {
      "application/vnd.jupyter.widget-view+json": {
       "model_id": "",
       "version_major": 2,
       "version_minor": 0
      },
      "text/plain": [
       "Validation: |                                                                                    | 0/? [00:00<…"
      ]
     },
     "metadata": {},
     "output_type": "display_data"
    },
    {
     "name": "stdout",
     "output_type": "stream",
     "text": [
      "[VAL] tas: RMSE=1.5383, Time-Mean RMSE=0.6688, Time-Stddev MAE=0.3350\n",
      "[VAL] pr: RMSE=1.9620, Time-Mean RMSE=0.3071, Time-Stddev MAE=0.7789\n"
     ]
    },
    {
     "data": {
      "application/vnd.jupyter.widget-view+json": {
       "model_id": "",
       "version_major": 2,
       "version_minor": 0
      },
      "text/plain": [
       "Validation: |                                                                                    | 0/? [00:00<…"
      ]
     },
     "metadata": {},
     "output_type": "display_data"
    },
    {
     "name": "stdout",
     "output_type": "stream",
     "text": [
      "[VAL] tas: RMSE=1.6339, Time-Mean RMSE=0.7467, Time-Stddev MAE=0.3745\n",
      "[VAL] pr: RMSE=1.9573, Time-Mean RMSE=0.2452, Time-Stddev MAE=0.7731\n"
     ]
    },
    {
     "name": "stderr",
     "output_type": "stream",
     "text": [
      "`Trainer.fit` stopped: `max_epochs=90` reached.\n"
     ]
    }
   ],
   "source": [
    "climate_model = ClimateEmulationModule(\n",
    "    model=model,\n",
    "    learning_rate=config[\"training\"][\"lr\"]\n",
    ")\n",
    "\n",
    "trainer = Trainer(\n",
    "    **config[\"trainer\"],\n",
    "    callbacks=[best_ckpt_callback, periodic_ckpt_callback]\n",
    ")\n",
    "trainer.fit(climate_model, datamodule=datamodule)\n",
    "\n"
   ]
  },
  {
   "cell_type": "code",
   "execution_count": null,
   "id": "29de1a77",
   "metadata": {},
   "outputs": [],
   "source": []
  },
  {
   "cell_type": "code",
   "execution_count": null,
   "id": "c38c8dd1",
   "metadata": {},
   "outputs": [],
   "source": []
  },
  {
   "cell_type": "code",
   "execution_count": null,
   "id": "2a7c708c",
   "metadata": {},
   "outputs": [],
   "source": []
  },
  {
   "cell_type": "code",
   "execution_count": 50,
   "id": "ee4dc812",
   "metadata": {},
   "outputs": [
    {
     "name": "stdout",
     "output_type": "stream",
     "text": [
      "Creating dataset with 2703 samples...\n",
      "Creating dataset with 360 samples...\n",
      "Creating dataset with 360 samples...\n"
     ]
    },
    {
     "name": "stderr",
     "output_type": "stream",
     "text": [
      "LOCAL_RANK: 0 - CUDA_VISIBLE_DEVICES: [0]\n",
      "C:\\Users\\20187\\anaconda3\\Lib\\site-packages\\pytorch_lightning\\trainer\\connectors\\data_connector.py:425: The 'val_dataloader' does not have many workers which may be a bottleneck. Consider increasing the value of the `num_workers` argument` to `num_workers=19` in the `DataLoader` to improve performance.\n"
     ]
    },
    {
     "data": {
      "application/vnd.jupyter.widget-view+json": {
       "model_id": "418ef4972f8e4297a965264fc60be46f",
       "version_major": 2,
       "version_minor": 0
      },
      "text/plain": [
       "Validation: |                                                                                    | 0/? [00:00<…"
      ]
     },
     "metadata": {},
     "output_type": "display_data"
    },
    {
     "name": "stdout",
     "output_type": "stream",
     "text": [
      "[VAL] tas: RMSE=1.9625, Time-Mean RMSE=1.0126, Time-Stddev MAE=0.5086\n",
      "[VAL] pr: RMSE=1.9889, Time-Mean RMSE=0.3572, Time-Stddev MAE=0.8115\n"
     ]
    },
    {
     "data": {
      "text/html": [
       "<pre style=\"white-space:pre;overflow-x:auto;line-height:normal;font-family:Menlo,'DejaVu Sans Mono',consolas,'Courier New',monospace\">┏━━━━━━━━━━━━━━━━━━━━━━━━━━━┳━━━━━━━━━━━━━━━━━━━━━━━━━━━┓\n",
       "┃<span style=\"font-weight: bold\">      Validate metric      </span>┃<span style=\"font-weight: bold\">       DataLoader 0        </span>┃\n",
       "┡━━━━━━━━━━━━━━━━━━━━━━━━━━━╇━━━━━━━━━━━━━━━━━━━━━━━━━━━┩\n",
       "│<span style=\"color: #008080; text-decoration-color: #008080\">         val/loss          </span>│<span style=\"color: #800080; text-decoration-color: #800080\">    0.16238053143024445    </span>│\n",
       "│<span style=\"color: #008080; text-decoration-color: #008080\">        val/pr/rmse        </span>│<span style=\"color: #800080; text-decoration-color: #800080\">    1.9888890981674194     </span>│\n",
       "│<span style=\"color: #008080; text-decoration-color: #008080\">   val/pr/time_mean_rmse   </span>│<span style=\"color: #800080; text-decoration-color: #800080\">    0.35721397399902344    </span>│\n",
       "│<span style=\"color: #008080; text-decoration-color: #008080\">    val/pr/time_std_mae    </span>│<span style=\"color: #800080; text-decoration-color: #800080\">    0.8114876747131348     </span>│\n",
       "│<span style=\"color: #008080; text-decoration-color: #008080\">       val/tas/rmse        </span>│<span style=\"color: #800080; text-decoration-color: #800080\">     1.962520956993103     </span>│\n",
       "│<span style=\"color: #008080; text-decoration-color: #008080\">  val/tas/time_mean_rmse   </span>│<span style=\"color: #800080; text-decoration-color: #800080\">     1.012589454650879     </span>│\n",
       "│<span style=\"color: #008080; text-decoration-color: #008080\">   val/tas/time_std_mae    </span>│<span style=\"color: #800080; text-decoration-color: #800080\">     0.508617639541626     </span>│\n",
       "└───────────────────────────┴───────────────────────────┘\n",
       "</pre>\n"
      ],
      "text/plain": [
       "┏━━━━━━━━━━━━━━━━━━━━━━━━━━━┳━━━━━━━━━━━━━━━━━━━━━━━━━━━┓\n",
       "┃\u001b[1m \u001b[0m\u001b[1m     Validate metric     \u001b[0m\u001b[1m \u001b[0m┃\u001b[1m \u001b[0m\u001b[1m      DataLoader 0       \u001b[0m\u001b[1m \u001b[0m┃\n",
       "┡━━━━━━━━━━━━━━━━━━━━━━━━━━━╇━━━━━━━━━━━━━━━━━━━━━━━━━━━┩\n",
       "│\u001b[36m \u001b[0m\u001b[36m        val/loss         \u001b[0m\u001b[36m \u001b[0m│\u001b[35m \u001b[0m\u001b[35m   0.16238053143024445   \u001b[0m\u001b[35m \u001b[0m│\n",
       "│\u001b[36m \u001b[0m\u001b[36m       val/pr/rmse       \u001b[0m\u001b[36m \u001b[0m│\u001b[35m \u001b[0m\u001b[35m   1.9888890981674194    \u001b[0m\u001b[35m \u001b[0m│\n",
       "│\u001b[36m \u001b[0m\u001b[36m  val/pr/time_mean_rmse  \u001b[0m\u001b[36m \u001b[0m│\u001b[35m \u001b[0m\u001b[35m   0.35721397399902344   \u001b[0m\u001b[35m \u001b[0m│\n",
       "│\u001b[36m \u001b[0m\u001b[36m   val/pr/time_std_mae   \u001b[0m\u001b[36m \u001b[0m│\u001b[35m \u001b[0m\u001b[35m   0.8114876747131348    \u001b[0m\u001b[35m \u001b[0m│\n",
       "│\u001b[36m \u001b[0m\u001b[36m      val/tas/rmse       \u001b[0m\u001b[36m \u001b[0m│\u001b[35m \u001b[0m\u001b[35m    1.962520956993103    \u001b[0m\u001b[35m \u001b[0m│\n",
       "│\u001b[36m \u001b[0m\u001b[36m val/tas/time_mean_rmse  \u001b[0m\u001b[36m \u001b[0m│\u001b[35m \u001b[0m\u001b[35m    1.012589454650879    \u001b[0m\u001b[35m \u001b[0m│\n",
       "│\u001b[36m \u001b[0m\u001b[36m  val/tas/time_std_mae   \u001b[0m\u001b[36m \u001b[0m│\u001b[35m \u001b[0m\u001b[35m    0.508617639541626    \u001b[0m\u001b[35m \u001b[0m│\n",
       "└───────────────────────────┴───────────────────────────┘\n"
      ]
     },
     "metadata": {},
     "output_type": "display_data"
    },
    {
     "name": "stdout",
     "output_type": "stream",
     "text": [
      "Creating dataset with 2703 samples...\n",
      "Creating dataset with 360 samples...\n",
      "Creating dataset with 360 samples...\n"
     ]
    },
    {
     "name": "stderr",
     "output_type": "stream",
     "text": [
      "LOCAL_RANK: 0 - CUDA_VISIBLE_DEVICES: [0]\n",
      "C:\\Users\\20187\\anaconda3\\Lib\\site-packages\\pytorch_lightning\\trainer\\connectors\\data_connector.py:425: The 'test_dataloader' does not have many workers which may be a bottleneck. Consider increasing the value of the `num_workers` argument` to `num_workers=19` in the `DataLoader` to improve performance.\n"
     ]
    },
    {
     "data": {
      "application/vnd.jupyter.widget-view+json": {
       "model_id": "3f3956d458b54f6ab3822fb7794853ed",
       "version_major": 2,
       "version_minor": 0
      },
      "text/plain": [
       "Testing: |                                                                                       | 0/? [00:00<…"
      ]
     },
     "metadata": {},
     "output_type": "display_data"
    },
    {
     "name": "stdout",
     "output_type": "stream",
     "text": [
      "[TEST] tas: RMSE=290.4433, Time-Mean RMSE=290.4037, Time-Stddev MAE=3.4937\n",
      "[TEST] pr: RMSE=4.0517, Time-Mean RMSE=3.6055, Time-Stddev MAE=1.3102\n",
      "✅ Submission saved to: submissions/kaggle_submission_20250515_230434.csv\n"
     ]
    },
    {
     "data": {
      "text/html": [
       "<pre style=\"white-space:pre;overflow-x:auto;line-height:normal;font-family:Menlo,'DejaVu Sans Mono',consolas,'Courier New',monospace\">┏━━━━━━━━━━━━━━━━━━━━━━━━━━━┳━━━━━━━━━━━━━━━━━━━━━━━━━━━┓\n",
       "┃<span style=\"font-weight: bold\">        Test metric        </span>┃<span style=\"font-weight: bold\">       DataLoader 0        </span>┃\n",
       "┡━━━━━━━━━━━━━━━━━━━━━━━━━━━╇━━━━━━━━━━━━━━━━━━━━━━━━━━━┩\n",
       "│<span style=\"color: #008080; text-decoration-color: #008080\">       test/pr/rmse        </span>│<span style=\"color: #800080; text-decoration-color: #800080\">     4.051677227020264     </span>│\n",
       "│<span style=\"color: #008080; text-decoration-color: #008080\">  test/pr/time_mean_rmse   </span>│<span style=\"color: #800080; text-decoration-color: #800080\">    3.6055140495300293     </span>│\n",
       "│<span style=\"color: #008080; text-decoration-color: #008080\">   test/pr/time_std_mae    </span>│<span style=\"color: #800080; text-decoration-color: #800080\">    1.3101829290390015     </span>│\n",
       "│<span style=\"color: #008080; text-decoration-color: #008080\">       test/tas/rmse       </span>│<span style=\"color: #800080; text-decoration-color: #800080\">     290.4433288574219     </span>│\n",
       "│<span style=\"color: #008080; text-decoration-color: #008080\">  test/tas/time_mean_rmse  </span>│<span style=\"color: #800080; text-decoration-color: #800080\">     290.4036560058594     </span>│\n",
       "│<span style=\"color: #008080; text-decoration-color: #008080\">   test/tas/time_std_mae   </span>│<span style=\"color: #800080; text-decoration-color: #800080\">    3.4936981201171875     </span>│\n",
       "└───────────────────────────┴───────────────────────────┘\n",
       "</pre>\n"
      ],
      "text/plain": [
       "┏━━━━━━━━━━━━━━━━━━━━━━━━━━━┳━━━━━━━━━━━━━━━━━━━━━━━━━━━┓\n",
       "┃\u001b[1m \u001b[0m\u001b[1m       Test metric       \u001b[0m\u001b[1m \u001b[0m┃\u001b[1m \u001b[0m\u001b[1m      DataLoader 0       \u001b[0m\u001b[1m \u001b[0m┃\n",
       "┡━━━━━━━━━━━━━━━━━━━━━━━━━━━╇━━━━━━━━━━━━━━━━━━━━━━━━━━━┩\n",
       "│\u001b[36m \u001b[0m\u001b[36m      test/pr/rmse       \u001b[0m\u001b[36m \u001b[0m│\u001b[35m \u001b[0m\u001b[35m    4.051677227020264    \u001b[0m\u001b[35m \u001b[0m│\n",
       "│\u001b[36m \u001b[0m\u001b[36m test/pr/time_mean_rmse  \u001b[0m\u001b[36m \u001b[0m│\u001b[35m \u001b[0m\u001b[35m   3.6055140495300293    \u001b[0m\u001b[35m \u001b[0m│\n",
       "│\u001b[36m \u001b[0m\u001b[36m  test/pr/time_std_mae   \u001b[0m\u001b[36m \u001b[0m│\u001b[35m \u001b[0m\u001b[35m   1.3101829290390015    \u001b[0m\u001b[35m \u001b[0m│\n",
       "│\u001b[36m \u001b[0m\u001b[36m      test/tas/rmse      \u001b[0m\u001b[36m \u001b[0m│\u001b[35m \u001b[0m\u001b[35m    290.4433288574219    \u001b[0m\u001b[35m \u001b[0m│\n",
       "│\u001b[36m \u001b[0m\u001b[36m test/tas/time_mean_rmse \u001b[0m\u001b[36m \u001b[0m│\u001b[35m \u001b[0m\u001b[35m    290.4036560058594    \u001b[0m\u001b[35m \u001b[0m│\n",
       "│\u001b[36m \u001b[0m\u001b[36m  test/tas/time_std_mae  \u001b[0m\u001b[36m \u001b[0m│\u001b[35m \u001b[0m\u001b[35m   3.4936981201171875    \u001b[0m\u001b[35m \u001b[0m│\n",
       "└───────────────────────────┴───────────────────────────┘\n"
      ]
     },
     "metadata": {},
     "output_type": "display_data"
    },
    {
     "data": {
      "text/plain": [
       "[{'test/tas/rmse': 290.4433288574219,\n",
       "  'test/tas/time_mean_rmse': 290.4036560058594,\n",
       "  'test/tas/time_std_mae': 3.4936981201171875,\n",
       "  'test/pr/rmse': 4.051677227020264,\n",
       "  'test/pr/time_mean_rmse': 3.6055140495300293,\n",
       "  'test/pr/time_std_mae': 1.3101829290390015}]"
      ]
     },
     "execution_count": 50,
     "metadata": {},
     "output_type": "execute_result"
    }
   ],
   "source": [
    "# Validate + Test\n",
    "trainer.validate(climate_model, datamodule=datamodule)\n",
    "trainer.test(climate_model, datamodule=datamodule)\n",
    "# ----------------------------------------------\n",
    "\n",
    "# Submission CSV will be saved in 'submissions/' as per your baseline code"
   ]
  },
  {
   "cell_type": "code",
   "execution_count": null,
   "id": "6d4a9767",
   "metadata": {},
   "outputs": [],
   "source": []
  }
 ],
 "metadata": {
  "kernelspec": {
   "display_name": "Python 3 (ipykernel)",
   "language": "python",
   "name": "python3"
  },
  "language_info": {
   "codemirror_mode": {
    "name": "ipython",
    "version": 3
   },
   "file_extension": ".py",
   "mimetype": "text/x-python",
   "name": "python",
   "nbconvert_exporter": "python",
   "pygments_lexer": "ipython3",
   "version": "3.11.5"
  }
 },
 "nbformat": 4,
 "nbformat_minor": 5
}
