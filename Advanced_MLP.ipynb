{
 "cells": [
  {
   "cell_type": "code",
   "execution_count": 1,
   "id": "21b60915-e224-4906-843e-cc0b8570ee14",
   "metadata": {},
   "outputs": [],
   "source": [
    "!pip install xarray zarr dask lightning matplotlib wandb cftime einops --quiet\n",
    "\n",
    "import os\n",
    "from datetime import datetime\n",
    "import numpy as np\n",
    "import xarray as xr\n",
    "import dask.array as da\n",
    "import torch\n",
    "import torch.nn as nn\n",
    "import torch.optim as optim\n",
    "import matplotlib.pyplot as plt\n",
    "from torch.utils.data import Dataset, DataLoader\n",
    "import lightning.pytorch as pl"
   ]
  },
  {
   "cell_type": "code",
   "execution_count": 2,
   "id": "626049a3-ca18-4213-97d1-4acd81146ec7",
   "metadata": {
    "scrolled": true
   },
   "outputs": [
    {
     "name": "stdout",
     "output_type": "stream",
     "text": [
      " Volume in drive C is OS\n",
      " Volume Serial Number is 1AD0-BCE1\n",
      "\n",
      " Directory of C:\\Users\\20187\\CSE 151B\\Project\n",
      "\n",
      "05/16/2025  07:05 PM    <DIR>          .\n",
      "05/15/2025  07:46 PM    <DIR>          ..\n",
      "05/16/2025  06:39 PM    <DIR>          .ipynb_checkpoints\n",
      "05/14/2025  03:26 AM           326,605 1.2.2 Plot.png\n",
      "05/14/2025  04:25 AM         1,143,745 1.EC.png\n",
      "05/16/2025  06:37 PM    <DIR>          checkpoints\n",
      "05/15/2025  10:46 PM            19,827 CNN 90 Epoch.png\n",
      "05/16/2025  06:06 PM           258,257 CNN Baseline.ipynb\n",
      "05/13/2025  06:59 PM            73,136 CSE151B_2025_Milestone.pdf\n",
      "05/16/2025  06:50 PM           204,507 Epoch Test.ipynb\n",
      "05/16/2025  06:44 PM    <DIR>          lightning_logs\n",
      "05/16/2025  07:05 PM            50,248 MLP.ipynb\n",
      "05/16/2025  06:37 PM    <DIR>          Model CKPT\n",
      "05/15/2025  05:06 AM           117,389 Performance 10 Epochs.png\n",
      "05/15/2025  05:02 AM           118,348 Performance 30 Epochs.png\n",
      "05/13/2025  07:24 PM    <DIR>          processed_data_cse151b_v2_corrupted_ssp245\n",
      "04/01/2025  08:00 AM        26,032,011 sample_submission.csv\n",
      "05/15/2025  11:30 PM         1,177,616 starter-template-for-cse-151b-competition.ipynb\n",
      "05/16/2025  07:01 PM    <DIR>          submissions\n",
      "05/16/2025  07:01 PM         9,953,408 val_preds.npy\n",
      "05/16/2025  07:01 PM         9,953,408 val_trues.npy\n",
      "              13 File(s)     49,428,505 bytes\n",
      "               8 Dir(s)  64,291,602,432 bytes free\n"
     ]
    }
   ],
   "source": [
    "ls"
   ]
  },
  {
   "cell_type": "code",
   "execution_count": 3,
   "id": "e2153d81-d74c-431f-bf43-f32d66f0feda",
   "metadata": {},
   "outputs": [
    {
     "name": "stderr",
     "output_type": "stream",
     "text": [
      "Seed set to 42\n"
     ]
    },
    {
     "data": {
      "text/plain": [
       "42"
      ]
     },
     "execution_count": 3,
     "metadata": {},
     "output_type": "execute_result"
    }
   ],
   "source": [
    "#NOTE Change the data directory according to where you have your zarr files stored\n",
    "config = {\n",
    "    \"data\": {\n",
    "        \"path\": \"processed_data_cse151b_v2_corrupted_ssp245/processed_data_cse151b_v2_corrupted_ssp245.zarr\",\n",
    "        # \"path\": \"/Users/charles/Downloads/cse151b-spring2025-competition/processed_data_cse151b_v2_corrupted_ssp245/processed_data_cse151b_v2_corrupted_ssp245.zarr\",\n",
    "        \"input_vars\": [\"CO2\", \"SO2\", \"CH4\", \"BC\", \"rsdt\"],\n",
    "        \"output_vars\": [\"tas\", \"pr\"],\n",
    "        \"target_member_id\": 0,\n",
    "        \"train_ssps\": [\"ssp126\", \"ssp370\", \"ssp585\"],\n",
    "        \"test_ssp\": \"ssp245\",\n",
    "        \"test_months\": 360,\n",
    "        \"batch_size\": 64,\n",
    "        \"num_workers\": 0,\n",
    "    },\n",
    "    \"model\": {\n",
    "        \"type\": \"mlp\",\n",
    "        \"input_dim\": 64,                      # will override n_input_channels if provided\n",
    "        \"hidden_dims\": [128, 128, 128, 128],  # replace hidden_dim + depth\n",
    "        \"dropout\": 0.1,                       # matches the __init__ arg name\n",
    "        \"activation\": \"relu\",                 # you can still read this if you wire it up\n",
    "    },\n",
    "    \"training\": {\n",
    "        \"lr\": 1e-3,\n",
    "    },\n",
    "    \"trainer\": {\n",
    "        \"max_epochs\": 1000,\n",
    "        \"accelerator\": \"auto\",\n",
    "        \"devices\": \"auto\",\n",
    "        \"precision\": 32,\n",
    "        \"deterministic\": True,\n",
    "        \"num_sanity_val_steps\": 0,\n",
    "    },\n",
    "    \"seed\": 42,\n",
    "}\n",
    "pl.seed_everything(config[\"seed\"])  # Set seed for reproducibility"
   ]
  },
  {
   "cell_type": "code",
   "execution_count": 4,
   "id": "3af0832b-5f37-4b05-904f-cd9165e9791d",
   "metadata": {},
   "outputs": [],
   "source": [
    "def get_lat_weights(latitude_values):\n",
    "    lat_rad = np.deg2rad(latitude_values)\n",
    "    weights = np.cos(lat_rad)\n",
    "    return weights / np.mean(weights)"
   ]
  },
  {
   "cell_type": "code",
   "execution_count": 5,
   "id": "8225a27b-f4d4-499b-aae1-4c4f75e8a230",
   "metadata": {},
   "outputs": [],
   "source": [
    "import torch\n",
    "import torch.nn as nn\n",
    "import torch.nn.functional as F\n",
    "\n",
    "class ResidualBlock1D(nn.Module):\n",
    "    def __init__(self, in_dim: int, out_dim: int):\n",
    "        super().__init__()\n",
    "        self.fc1 = nn.Linear(in_dim, out_dim)\n",
    "        self.bn1 = nn.BatchNorm1d(out_dim)\n",
    "        self.relu = nn.ReLU(inplace=True)\n",
    "        self.fc2 = nn.Linear(out_dim, out_dim)\n",
    "        self.bn2 = nn.BatchNorm1d(out_dim)\n",
    "\n",
    "        # if dims mismatch, project the shortcut\n",
    "        self.shortcut = (\n",
    "            nn.Linear(in_dim, out_dim)\n",
    "            if in_dim != out_dim\n",
    "            else nn.Identity()\n",
    "        )\n",
    "\n",
    "    def forward(self, x):\n",
    "        identity = self.shortcut(x)\n",
    "        out = self.relu(self.bn1(self.fc1(x)))\n",
    "        out = self.bn2(self.fc2(out))\n",
    "        out += identity\n",
    "        return self.relu(out)\n",
    "\n",
    "class MLP(nn.Module):\n",
    "    def __init__(\n",
    "        self,\n",
    "        n_input_channels: int,\n",
    "        n_output_channels: int,\n",
    "        input_dim: int = None,                      # total flattened inputs = C_in * H * W\n",
    "        hidden_dims: list[int] = [128, 128, 128, 128],\n",
    "        dropout: float = 0.1,\n",
    "        activation: str = \"relu\",\n",
    "        spatial_shape: tuple[int,int] = None,       # (H, W)\n",
    "    ):\n",
    "        super().__init__()\n",
    "\n",
    "        # figure out how many features we’re flattening\n",
    "        # if input_dim not given, assume no spatial flattening (rare for climate)\n",
    "        in_features = input_dim if input_dim is not None else n_input_channels\n",
    "\n",
    "        # keep spatial dims for the final reshape\n",
    "        self.spatial_shape     = spatial_shape\n",
    "        self.n_output_channels = n_output_channels\n",
    "\n",
    "        self.flatten = nn.Flatten()\n",
    "\n",
    "        # build the hidden‐layer stack\n",
    "        dims = [in_features] + hidden_dims\n",
    "        self.layers = nn.ModuleList(\n",
    "            nn.Linear(d_in, d_out) \n",
    "            for d_in, d_out in zip(dims[:-1], dims[1:])\n",
    "        )\n",
    "\n",
    "        # final projection: to either C_out (scalar) or full map size\n",
    "        if spatial_shape is None:\n",
    "            out_features = n_output_channels\n",
    "        else:\n",
    "            H, W = spatial_shape\n",
    "            out_features = n_output_channels * H * W\n",
    "\n",
    "        self.output = nn.Linear(hidden_dims[-1], out_features)\n",
    "        self.dropout = nn.Dropout(dropout)\n",
    "\n",
    "        # module‐based activation\n",
    "        act = activation.lower()\n",
    "        if act == \"relu\":\n",
    "            self.activation = nn.ReLU(inplace=True)\n",
    "        elif act == \"tanh\":\n",
    "            self.activation = nn.Tanh()\n",
    "        else:\n",
    "            raise ValueError(f\"Unsupported activation: {activation}\")\n",
    "\n",
    "    def forward(self, x):\n",
    "        x = self.flatten(x)                    # [B, in_features]\n",
    "        for layer in self.layers:\n",
    "            x = layer(x)\n",
    "            x = self.activation(x)\n",
    "            x = self.dropout(x)\n",
    "\n",
    "        x = self.output(x)                     # [B, out_features]\n",
    "        if self.spatial_shape is not None:\n",
    "            B = x.shape[0]\n",
    "            H, W = self.spatial_shape\n",
    "            # reshape to [B, C_out, H, W]\n",
    "            x = x.view(B, self.n_output_channels, H, W)\n",
    "        return x\n"
   ]
  },
  {
   "cell_type": "code",
   "execution_count": 6,
   "id": "9e0bd87e-4734-4d76-8826-7e9a9fdc1e6f",
   "metadata": {},
   "outputs": [],
   "source": [
    "class Normalizer:\n",
    "    def __init__(self):\n",
    "        self.mean_in, self.std_in = None, None\n",
    "        self.mean_out, self.std_out = None, None\n",
    "\n",
    "    def set_input_statistics(self, mean, std):\n",
    "        self.mean_in = mean\n",
    "        self.std_in = std\n",
    "\n",
    "    def set_output_statistics(self, mean, std):\n",
    "        self.mean_out = mean\n",
    "        self.std_out = std\n",
    "\n",
    "    def normalize(self, data, data_type):\n",
    "        if data_type == \"input\":\n",
    "            return (data - self.mean_in) / self.std_in\n",
    "        elif data_type == \"output\":\n",
    "            return (data - self.mean_out) / self.std_out\n",
    "\n",
    "    def inverse_transform_output(self, data):\n",
    "        return data * self.std_out + self.mean_out\n"
   ]
  },
  {
   "cell_type": "code",
   "execution_count": 7,
   "id": "b12e7254-852d-40b6-8dd5-db9c61f58839",
   "metadata": {},
   "outputs": [],
   "source": [
    "class ClimateDataset(Dataset):\n",
    "    def __init__(self, inputs_dask, outputs_dask, output_is_normalized=True):\n",
    "        self.size = inputs_dask.shape[0]\n",
    "        print(f\"Creating dataset with {self.size} samples...\")\n",
    "\n",
    "        inputs_np = inputs_dask.compute()\n",
    "        outputs_np = outputs_dask.compute()\n",
    "\n",
    "        self.inputs = torch.from_numpy(inputs_np).float()\n",
    "        self.outputs = torch.from_numpy(outputs_np).float()\n",
    "\n",
    "        if torch.isnan(self.inputs).any() or torch.isnan(self.outputs).any():\n",
    "            raise ValueError(\"NaNs found in dataset\")\n",
    "\n",
    "    def __len__(self):\n",
    "        return self.size\n",
    "\n",
    "    def __getitem__(self, idx):\n",
    "        return self.inputs[idx], self.outputs[idx]\n",
    "\n",
    "\n",
    "class ClimateDataModule(pl.LightningDataModule):\n",
    "    def __init__(\n",
    "        self,\n",
    "        path,\n",
    "        input_vars,\n",
    "        output_vars,\n",
    "        train_ssps,\n",
    "        test_ssp,\n",
    "        target_member_id,\n",
    "        # val_split=0.1,\n",
    "        test_months=360,\n",
    "        batch_size=32,\n",
    "        num_workers=0,\n",
    "        seed=42,\n",
    "    ):\n",
    "        super().__init__()\n",
    "        self.path = path\n",
    "        self.input_vars = input_vars\n",
    "        self.output_vars = output_vars\n",
    "        self.train_ssps = train_ssps\n",
    "        self.test_ssp = test_ssp\n",
    "        self.target_member_id = target_member_id\n",
    "        # self.val_split = val_split\n",
    "        self.test_months = test_months\n",
    "        self.batch_size = batch_size\n",
    "        self.num_workers = num_workers\n",
    "        self.seed = seed\n",
    "        self.normalizer = Normalizer()\n",
    "\n",
    "    def prepare_data(self):\n",
    "        assert os.path.exists(self.path), f\"Data path not found: {self.path}\"\n",
    "\n",
    "    def setup(self, stage=None):\n",
    "        ds = xr.open_zarr(self.path, consolidated=False, chunks={\"time\": 24})\n",
    "        spatial_template = ds[\"rsdt\"].isel(time=0, ssp=0, drop=True)\n",
    "\n",
    "        def load_ssp(ssp):\n",
    "            input_dask, output_dask = [], []\n",
    "            for var in self.input_vars:\n",
    "                da_var = ds[var].sel(ssp=ssp)\n",
    "                if \"latitude\" in da_var.dims:\n",
    "                    da_var = da_var.rename({\"latitude\": \"y\", \"longitude\": \"x\"})\n",
    "                if \"member_id\" in da_var.dims:\n",
    "                    da_var = da_var.sel(member_id=self.target_member_id)\n",
    "                if set(da_var.dims) == {\"time\"}:\n",
    "                    da_var = da_var.broadcast_like(spatial_template).transpose(\"time\", \"y\", \"x\")\n",
    "                input_dask.append(da_var.data)\n",
    "\n",
    "            for var in self.output_vars:\n",
    "                da_out = ds[var].sel(ssp=ssp, member_id=self.target_member_id)\n",
    "                if \"latitude\" in da_out.dims:\n",
    "                    da_out = da_out.rename({\"latitude\": \"y\", \"longitude\": \"x\"})\n",
    "                output_dask.append(da_out.data)\n",
    "\n",
    "            return da.stack(input_dask, axis=1), da.stack(output_dask, axis=1)\n",
    "\n",
    "        train_input, train_output, val_input, val_output = [], [], None, None\n",
    "\n",
    "        for ssp in self.train_ssps:\n",
    "            x, y = load_ssp(ssp)\n",
    "            if ssp == \"ssp370\":\n",
    "                val_input = x[-self.test_months:]\n",
    "                val_output = y[-self.test_months:]\n",
    "                train_input.append(x[:-self.test_months])\n",
    "                train_output.append(y[:-self.test_months])\n",
    "            else:\n",
    "                train_input.append(x)\n",
    "                train_output.append(y)\n",
    "\n",
    "        train_input = da.concatenate(train_input, axis=0)\n",
    "        train_output = da.concatenate(train_output, axis=0)\n",
    "\n",
    "        self.normalizer.set_input_statistics(\n",
    "            mean=da.nanmean(train_input, axis=(0, 2, 3), keepdims=True).compute(),\n",
    "            std=da.nanstd(train_input, axis=(0, 2, 3), keepdims=True).compute(),\n",
    "        )\n",
    "        self.normalizer.set_output_statistics(\n",
    "            mean=da.nanmean(train_output, axis=(0, 2, 3), keepdims=True).compute(),\n",
    "            std=da.nanstd(train_output, axis=(0, 2, 3), keepdims=True).compute(),\n",
    "        )\n",
    "\n",
    "        train_input_norm = self.normalizer.normalize(train_input, \"input\")\n",
    "        train_output_norm = self.normalizer.normalize(train_output, \"output\")\n",
    "        val_input_norm = self.normalizer.normalize(val_input, \"input\")\n",
    "        val_output_norm = self.normalizer.normalize(val_output, \"output\")\n",
    "\n",
    "        test_input, test_output = load_ssp(self.test_ssp)\n",
    "        test_input = test_input[-self.test_months:]\n",
    "        test_output = test_output[-self.test_months:]\n",
    "        test_input_norm = self.normalizer.normalize(test_input, \"input\")\n",
    "\n",
    "        self.train_dataset = ClimateDataset(train_input_norm, train_output_norm)\n",
    "        self.val_dataset = ClimateDataset(val_input_norm, val_output_norm)\n",
    "        self.test_dataset = ClimateDataset(test_input_norm, test_output, output_is_normalized=False)\n",
    "\n",
    "        self.lat = spatial_template.y.values\n",
    "        self.lon = spatial_template.x.values\n",
    "        self.area_weights = xr.DataArray(get_lat_weights(self.lat), dims=[\"y\"], coords={\"y\": self.lat})\n",
    "\n",
    "    def train_dataloader(self):\n",
    "        return DataLoader(self.train_dataset, batch_size=self.batch_size, shuffle=True,\n",
    "                          num_workers=self.num_workers, pin_memory=True)\n",
    "\n",
    "    def val_dataloader(self):\n",
    "        return DataLoader(self.val_dataset, batch_size=self.batch_size, shuffle=False,\n",
    "                          num_workers=self.num_workers, pin_memory=True)\n",
    "\n",
    "    def test_dataloader(self):\n",
    "        return DataLoader(self.test_dataset, batch_size=self.batch_size, shuffle=False,\n",
    "                          num_workers=self.num_workers, pin_memory=True)\n",
    "\n",
    "    def get_lat_weights(self):\n",
    "        return self.area_weights\n",
    "\n",
    "    def get_coords(self):\n",
    "        return self.lat, self.lon"
   ]
  },
  {
   "cell_type": "code",
   "execution_count": 8,
   "id": "cc4fb35b-7dc7-4348-9a7e-96d08a9358b6",
   "metadata": {},
   "outputs": [],
   "source": [
    "import pandas as pd\n",
    "\n",
    "class ClimateEmulationModule(pl.LightningModule):\n",
    "    def __init__(self, model, learning_rate=1e-4):\n",
    "        super().__init__()\n",
    "        self.model = model\n",
    "        self.save_hyperparameters(ignore=['model']) # Save all hyperparameters except the model to self.hparams.<param_name>\n",
    "        self.criterion = nn.MSELoss()\n",
    "        self.normalizer = None\n",
    "        self.val_preds, self.val_targets = [], []\n",
    "        self.test_preds, self.test_targets = [], []\n",
    "\n",
    "    def forward(self, x):\n",
    "        return self.model(x)\n",
    "\n",
    "    def on_fit_start(self):\n",
    "        self.normalizer = self.trainer.datamodule.normalizer  # Get the normalizer from the datamodule (see above)\n",
    "\n",
    "    def training_step(self, batch, batch_idx):\n",
    "        x, y = batch # Unpack inputs and targets (this is the output of the _getitem_ method in the Dataset above)\n",
    "        y_hat = self(x)   # Forward pass\n",
    "        loss = self.criterion(y_hat, y)  # Calculate loss\n",
    "        self.log(\"train/loss\", loss)  # Log loss for tracking\n",
    "        return loss\n",
    "\n",
    "    def validation_step(self, batch, batch_idx):\n",
    "        x, y = batch\n",
    "        y_hat = self(x)\n",
    "        loss = self.criterion(y_hat, y)\n",
    "        self.log(\"val/loss\", loss)\n",
    "\n",
    "        y_hat_np = self.normalizer.inverse_transform_output(y_hat.detach().cpu().numpy())\n",
    "        y_np = self.normalizer.inverse_transform_output(y.detach().cpu().numpy())\n",
    "        self.val_preds.append(y_hat_np)\n",
    "        self.val_targets.append(y_np)\n",
    "\n",
    "        return loss\n",
    "\n",
    "    def on_validation_epoch_end(self):\n",
    "        # Concatenate all predictions and ground truths from each val step/batch into one array\n",
    "        preds = np.concatenate(self.val_preds, axis=0)\n",
    "        trues = np.concatenate(self.val_targets, axis=0)\n",
    "        self._evaluate(preds, trues, phase=\"val\")\n",
    "        np.save(\"val_preds.npy\", preds)\n",
    "        np.save(\"val_trues.npy\", trues)\n",
    "        self.val_preds.clear()\n",
    "        self.val_targets.clear()\n",
    "\n",
    "    def test_step(self, batch, batch_idx):\n",
    "        x, y = batch\n",
    "        y_hat = self(x)\n",
    "        y_hat_np = self.normalizer.inverse_transform_output(y_hat.detach().cpu().numpy())\n",
    "        y_np = y.detach().cpu().numpy()\n",
    "        self.test_preds.append(y_hat_np)\n",
    "        self.test_targets.append(y_np)\n",
    "\n",
    "    def on_test_epoch_end(self):\n",
    "        # Concatenate all predictions and ground truths from each test step/batch into one array\n",
    "        preds = np.concatenate(self.test_preds, axis=0)\n",
    "        trues = np.concatenate(self.test_targets, axis=0)\n",
    "        self._evaluate(preds, trues, phase=\"test\")\n",
    "        self._save_submission(preds)\n",
    "        self.test_preds.clear()\n",
    "        self.test_targets.clear()\n",
    "\n",
    "    def configure_optimizers(self):\n",
    "        return optim.Adam(self.parameters(), lr=self.hparams.learning_rate)\n",
    "\n",
    "    def _evaluate(self, preds, trues, phase=\"val\"):\n",
    "        datamodule = self.trainer.datamodule\n",
    "        area_weights = datamodule.get_lat_weights()\n",
    "        lat, lon = datamodule.get_coords()\n",
    "        time = np.arange(preds.shape[0])\n",
    "        output_vars = datamodule.output_vars\n",
    "\n",
    "        for i, var in enumerate(output_vars):\n",
    "            p = preds[:, i]\n",
    "            t = trues[:, i]\n",
    "            p_xr = xr.DataArray(p, dims=[\"time\", \"y\", \"x\"], coords={\"time\": time, \"y\": lat, \"x\": lon})\n",
    "            t_xr = xr.DataArray(t, dims=[\"time\", \"y\", \"x\"], coords={\"time\": time, \"y\": lat, \"x\": lon})\n",
    "\n",
    "            # RMSE\n",
    "            rmse = np.sqrt(((p_xr - t_xr) ** 2).weighted(area_weights).mean((\"time\", \"y\", \"x\")).item())\n",
    "            # RMSE of time-mean\n",
    "            mean_rmse = np.sqrt(((p_xr.mean(\"time\") - t_xr.mean(\"time\")) ** 2).weighted(area_weights).mean((\"y\", \"x\")).item())\n",
    "            # MAE of time-stddev\n",
    "            std_mae = np.abs(p_xr.std(\"time\") - t_xr.std(\"time\")).weighted(area_weights).mean((\"y\", \"x\")).item()\n",
    "\n",
    "            print(f\"[{phase.upper()}] {var}: RMSE={rmse:.4f}, Time-Mean RMSE={mean_rmse:.4f}, Time-Stddev MAE={std_mae:.4f}\")\n",
    "            self.log_dict({\n",
    "                f\"{phase}/{var}/rmse\": rmse,\n",
    "                f\"{phase}/{var}/time_mean_rmse\": mean_rmse,\n",
    "                f\"{phase}/{var}/time_std_mae\": std_mae,\n",
    "            })\n",
    "\n",
    "    def _save_submission(self, predictions):\n",
    "        datamodule = self.trainer.datamodule\n",
    "        lat, lon = datamodule.get_coords()\n",
    "        output_vars = datamodule.output_vars\n",
    "        time = np.arange(predictions.shape[0])\n",
    "\n",
    "        rows = []\n",
    "        for t_idx, t in enumerate(time):\n",
    "            for var_idx, var in enumerate(output_vars):\n",
    "                for y_idx, y in enumerate(lat):\n",
    "                    for x_idx, x in enumerate(lon):\n",
    "                        row_id = f\"t{t_idx:03d}_{var}_{y:.2f}_{x:.2f}\"\n",
    "                        pred = predictions[t_idx, var_idx, y_idx, x_idx]\n",
    "                        rows.append({\"ID\": row_id, \"Prediction\": pred})\n",
    "\n",
    "        df = pd.DataFrame(rows)\n",
    "        os.makedirs(\"submissions\", exist_ok=True)\n",
    "        filepath = f\"submissions/kaggle_submission_{datetime.now().strftime('%Y%m%d_%H%M%S')}.csv\"\n",
    "        df.to_csv(filepath, index=False)\n",
    "        print(f\"✅ Submission saved to: {filepath}\")\n",
    "        "
   ]
  },
  {
   "cell_type": "code",
   "execution_count": 12,
   "id": "df972a57",
   "metadata": {},
   "outputs": [],
   "source": [
    "# Save the best model\n",
    "\n",
    "from lightning.pytorch.callbacks import ModelCheckpoint\n",
    "from lightning.pytorch import Trainer\n",
    "\n",
    "# Define checkpoint callback to monitor val_loss (you can change to any metric you log, e.g., 'val/tas_rmse')\n",
    "best_ckpt_callback = ModelCheckpoint(\n",
    "    dirpath=\"checkpoints/\",\n",
    "    filename=\"best-{epoch:02d}-{val/tas/rmse:.4f}\",\n",
    "    monitor=\"val/tas/rmse\",   # <-- make sure you are logging this metric during validation\n",
    "    save_top_k=1,\n",
    "    mode=\"min\",  # 'min' because lower loss is better; use 'max' if higher metric is better\n",
    ")"
   ]
  },
  {
   "cell_type": "code",
   "execution_count": 25,
   "id": "7b189df0",
   "metadata": {},
   "outputs": [],
   "source": [
    "# config[\"data\"][\"batch_size\"] = 32\n",
    "# config[\"training\"][\"lr\"] = 8e-4\n",
    "\n",
    "config[\"model\"][\"dropout\"] = 0.05\n",
    "config[\"trainer\"][\"precision\"] = 64\n",
    "config[\"trainer\"][\"max_epochs\"] = 500"
   ]
  },
  {
   "cell_type": "code",
   "execution_count": 26,
   "id": "5742d73a-4df3-43d5-b49a-15c17ac47251",
   "metadata": {},
   "outputs": [
    {
     "name": "stdout",
     "output_type": "stream",
     "text": [
      "Creating dataset with 2703 samples...\n",
      "Creating dataset with 360 samples...\n",
      "Creating dataset with 360 samples...\n"
     ]
    },
    {
     "name": "stderr",
     "output_type": "stream",
     "text": [
      "Using default `ModelCheckpoint`. Consider installing `litmodels` package to enable `LitModelCheckpoint` for automatic upload to the Lightning model registry.\n",
      "GPU available: True (cuda), used: True\n",
      "TPU available: False, using: 0 TPU cores\n",
      "HPU available: False, using: 0 HPUs\n"
     ]
    },
    {
     "name": "stdout",
     "output_type": "stream",
     "text": [
      "Creating dataset with 2703 samples...\n",
      "Creating dataset with 360 samples...\n",
      "Creating dataset with 360 samples...\n"
     ]
    },
    {
     "name": "stderr",
     "output_type": "stream",
     "text": [
      "LOCAL_RANK: 0 - CUDA_VISIBLE_DEVICES: [0]\n",
      "\n",
      "  | Name      | Type    | Params | Mode \n",
      "----------------------------------------------\n",
      "0 | model     | MLP     | 3.2 M  | train\n",
      "1 | criterion | MSELoss | 0      | train\n",
      "----------------------------------------------\n",
      "3.2 M     Trainable params\n",
      "0         Non-trainable params\n",
      "3.2 M     Total params\n",
      "12.613    Total estimated model params size (MB)\n",
      "11        Modules in train mode\n",
      "0         Modules in eval mode\n",
      "C:\\Users\\20187\\anaconda3\\Lib\\site-packages\\lightning\\pytorch\\trainer\\connectors\\data_connector.py:425: The 'train_dataloader' does not have many workers which may be a bottleneck. Consider increasing the value of the `num_workers` argument` to `num_workers=19` in the `DataLoader` to improve performance.\n",
      "C:\\Users\\20187\\anaconda3\\Lib\\site-packages\\lightning\\pytorch\\loops\\fit_loop.py:310: The number of training batches (43) is smaller than the logging interval Trainer(log_every_n_steps=50). Set a lower value for log_every_n_steps if you want to see logs for the training epoch.\n",
      "C:\\Users\\20187\\anaconda3\\Lib\\site-packages\\lightning\\pytorch\\trainer\\connectors\\data_connector.py:425: The 'val_dataloader' does not have many workers which may be a bottleneck. Consider increasing the value of the `num_workers` argument` to `num_workers=19` in the `DataLoader` to improve performance.\n"
     ]
    },
    {
     "data": {
      "application/vnd.jupyter.widget-view+json": {
       "model_id": "5a3343466c564b239a7bd5b803953ead",
       "version_major": 2,
       "version_minor": 0
      },
      "text/plain": [
       "Training: |                                                                                      | 0/? [00:00<…"
      ]
     },
     "metadata": {},
     "output_type": "display_data"
    },
    {
     "data": {
      "application/vnd.jupyter.widget-view+json": {
       "model_id": "",
       "version_major": 2,
       "version_minor": 0
      },
      "text/plain": [
       "Validation: |                                                                                    | 0/? [00:00<…"
      ]
     },
     "metadata": {},
     "output_type": "display_data"
    },
    {
     "name": "stdout",
     "output_type": "stream",
     "text": [
      "[VAL] tas: RMSE=4.8357, Time-Mean RMSE=2.4710, Time-Stddev MAE=1.5886\n",
      "[VAL] pr: RMSE=2.6943, Time-Mean RMSE=0.5256, Time-Stddev MAE=1.5270\n"
     ]
    },
    {
     "data": {
      "application/vnd.jupyter.widget-view+json": {
       "model_id": "",
       "version_major": 2,
       "version_minor": 0
      },
      "text/plain": [
       "Validation: |                                                                                    | 0/? [00:00<…"
      ]
     },
     "metadata": {},
     "output_type": "display_data"
    },
    {
     "name": "stdout",
     "output_type": "stream",
     "text": [
      "[VAL] tas: RMSE=3.9806, Time-Mean RMSE=2.3362, Time-Stddev MAE=1.0271\n",
      "[VAL] pr: RMSE=2.5937, Time-Mean RMSE=0.4180, Time-Stddev MAE=1.4763\n"
     ]
    },
    {
     "data": {
      "application/vnd.jupyter.widget-view+json": {
       "model_id": "",
       "version_major": 2,
       "version_minor": 0
      },
      "text/plain": [
       "Validation: |                                                                                    | 0/? [00:00<…"
      ]
     },
     "metadata": {},
     "output_type": "display_data"
    },
    {
     "name": "stdout",
     "output_type": "stream",
     "text": [
      "[VAL] tas: RMSE=3.3919, Time-Mean RMSE=1.4982, Time-Stddev MAE=1.0378\n",
      "[VAL] pr: RMSE=2.5651, Time-Mean RMSE=0.3878, Time-Stddev MAE=1.4629\n"
     ]
    },
    {
     "data": {
      "application/vnd.jupyter.widget-view+json": {
       "model_id": "",
       "version_major": 2,
       "version_minor": 0
      },
      "text/plain": [
       "Validation: |                                                                                    | 0/? [00:00<…"
      ]
     },
     "metadata": {},
     "output_type": "display_data"
    },
    {
     "name": "stdout",
     "output_type": "stream",
     "text": [
      "[VAL] tas: RMSE=3.5283, Time-Mean RMSE=1.7148, Time-Stddev MAE=1.2005\n",
      "[VAL] pr: RMSE=2.5552, Time-Mean RMSE=0.3862, Time-Stddev MAE=1.4782\n"
     ]
    },
    {
     "data": {
      "application/vnd.jupyter.widget-view+json": {
       "model_id": "",
       "version_major": 2,
       "version_minor": 0
      },
      "text/plain": [
       "Validation: |                                                                                    | 0/? [00:00<…"
      ]
     },
     "metadata": {},
     "output_type": "display_data"
    },
    {
     "name": "stdout",
     "output_type": "stream",
     "text": [
      "[VAL] tas: RMSE=3.0397, Time-Mean RMSE=0.6344, Time-Stddev MAE=0.9833\n",
      "[VAL] pr: RMSE=2.5162, Time-Mean RMSE=0.3121, Time-Stddev MAE=1.3743\n"
     ]
    },
    {
     "data": {
      "application/vnd.jupyter.widget-view+json": {
       "model_id": "",
       "version_major": 2,
       "version_minor": 0
      },
      "text/plain": [
       "Validation: |                                                                                    | 0/? [00:00<…"
      ]
     },
     "metadata": {},
     "output_type": "display_data"
    },
    {
     "name": "stdout",
     "output_type": "stream",
     "text": [
      "[VAL] tas: RMSE=3.3917, Time-Mean RMSE=0.9171, Time-Stddev MAE=0.8089\n",
      "[VAL] pr: RMSE=2.5377, Time-Mean RMSE=0.3235, Time-Stddev MAE=1.3477\n"
     ]
    },
    {
     "data": {
      "application/vnd.jupyter.widget-view+json": {
       "model_id": "",
       "version_major": 2,
       "version_minor": 0
      },
      "text/plain": [
       "Validation: |                                                                                    | 0/? [00:00<…"
      ]
     },
     "metadata": {},
     "output_type": "display_data"
    },
    {
     "name": "stdout",
     "output_type": "stream",
     "text": [
      "[VAL] tas: RMSE=2.8132, Time-Mean RMSE=1.7093, Time-Stddev MAE=0.5381\n",
      "[VAL] pr: RMSE=2.3317, Time-Mean RMSE=0.3355, Time-Stddev MAE=1.2356\n"
     ]
    },
    {
     "data": {
      "application/vnd.jupyter.widget-view+json": {
       "model_id": "",
       "version_major": 2,
       "version_minor": 0
      },
      "text/plain": [
       "Validation: |                                                                                    | 0/? [00:00<…"
      ]
     },
     "metadata": {},
     "output_type": "display_data"
    },
    {
     "name": "stdout",
     "output_type": "stream",
     "text": [
      "[VAL] tas: RMSE=2.7903, Time-Mean RMSE=1.5436, Time-Stddev MAE=0.5004\n",
      "[VAL] pr: RMSE=2.2921, Time-Mean RMSE=0.3595, Time-Stddev MAE=1.1037\n"
     ]
    },
    {
     "data": {
      "application/vnd.jupyter.widget-view+json": {
       "model_id": "",
       "version_major": 2,
       "version_minor": 0
      },
      "text/plain": [
       "Validation: |                                                                                    | 0/? [00:00<…"
      ]
     },
     "metadata": {},
     "output_type": "display_data"
    },
    {
     "name": "stdout",
     "output_type": "stream",
     "text": [
      "[VAL] tas: RMSE=2.7646, Time-Mean RMSE=0.5738, Time-Stddev MAE=0.9192\n",
      "[VAL] pr: RMSE=2.2584, Time-Mean RMSE=0.2877, Time-Stddev MAE=1.0767\n"
     ]
    },
    {
     "data": {
      "application/vnd.jupyter.widget-view+json": {
       "model_id": "",
       "version_major": 2,
       "version_minor": 0
      },
      "text/plain": [
       "Validation: |                                                                                    | 0/? [00:00<…"
      ]
     },
     "metadata": {},
     "output_type": "display_data"
    },
    {
     "name": "stdout",
     "output_type": "stream",
     "text": [
      "[VAL] tas: RMSE=2.5674, Time-Mean RMSE=1.8076, Time-Stddev MAE=0.5158\n",
      "[VAL] pr: RMSE=2.1157, Time-Mean RMSE=0.3403, Time-Stddev MAE=1.0136\n"
     ]
    },
    {
     "data": {
      "application/vnd.jupyter.widget-view+json": {
       "model_id": "",
       "version_major": 2,
       "version_minor": 0
      },
      "text/plain": [
       "Validation: |                                                                                    | 0/? [00:00<…"
      ]
     },
     "metadata": {},
     "output_type": "display_data"
    },
    {
     "name": "stdout",
     "output_type": "stream",
     "text": [
      "[VAL] tas: RMSE=2.2289, Time-Mean RMSE=1.2854, Time-Stddev MAE=0.5972\n",
      "[VAL] pr: RMSE=2.0935, Time-Mean RMSE=0.3158, Time-Stddev MAE=1.0044\n"
     ]
    },
    {
     "data": {
      "application/vnd.jupyter.widget-view+json": {
       "model_id": "",
       "version_major": 2,
       "version_minor": 0
      },
      "text/plain": [
       "Validation: |                                                                                    | 0/? [00:00<…"
      ]
     },
     "metadata": {},
     "output_type": "display_data"
    },
    {
     "name": "stdout",
     "output_type": "stream",
     "text": [
      "[VAL] tas: RMSE=2.6758, Time-Mean RMSE=1.5186, Time-Stddev MAE=0.7647\n",
      "[VAL] pr: RMSE=2.1360, Time-Mean RMSE=0.3621, Time-Stddev MAE=0.9803\n"
     ]
    },
    {
     "data": {
      "application/vnd.jupyter.widget-view+json": {
       "model_id": "",
       "version_major": 2,
       "version_minor": 0
      },
      "text/plain": [
       "Validation: |                                                                                    | 0/? [00:00<…"
      ]
     },
     "metadata": {},
     "output_type": "display_data"
    },
    {
     "name": "stdout",
     "output_type": "stream",
     "text": [
      "[VAL] tas: RMSE=2.1290, Time-Mean RMSE=1.4349, Time-Stddev MAE=0.3867\n",
      "[VAL] pr: RMSE=2.0446, Time-Mean RMSE=0.3407, Time-Stddev MAE=0.9135\n"
     ]
    },
    {
     "data": {
      "application/vnd.jupyter.widget-view+json": {
       "model_id": "",
       "version_major": 2,
       "version_minor": 0
      },
      "text/plain": [
       "Validation: |                                                                                    | 0/? [00:00<…"
      ]
     },
     "metadata": {},
     "output_type": "display_data"
    },
    {
     "name": "stdout",
     "output_type": "stream",
     "text": [
      "[VAL] tas: RMSE=2.0547, Time-Mean RMSE=1.2482, Time-Stddev MAE=0.4494\n",
      "[VAL] pr: RMSE=2.0166, Time-Mean RMSE=0.2921, Time-Stddev MAE=0.8774\n"
     ]
    },
    {
     "data": {
      "application/vnd.jupyter.widget-view+json": {
       "model_id": "",
       "version_major": 2,
       "version_minor": 0
      },
      "text/plain": [
       "Validation: |                                                                                    | 0/? [00:00<…"
      ]
     },
     "metadata": {},
     "output_type": "display_data"
    },
    {
     "name": "stdout",
     "output_type": "stream",
     "text": [
      "[VAL] tas: RMSE=1.9788, Time-Mean RMSE=1.3332, Time-Stddev MAE=0.4484\n",
      "[VAL] pr: RMSE=2.0156, Time-Mean RMSE=0.3231, Time-Stddev MAE=0.9272\n"
     ]
    },
    {
     "data": {
      "application/vnd.jupyter.widget-view+json": {
       "model_id": "",
       "version_major": 2,
       "version_minor": 0
      },
      "text/plain": [
       "Validation: |                                                                                    | 0/? [00:00<…"
      ]
     },
     "metadata": {},
     "output_type": "display_data"
    },
    {
     "name": "stdout",
     "output_type": "stream",
     "text": [
      "[VAL] tas: RMSE=2.6909, Time-Mean RMSE=2.1802, Time-Stddev MAE=0.6394\n",
      "[VAL] pr: RMSE=2.0256, Time-Mean RMSE=0.3746, Time-Stddev MAE=0.9896\n"
     ]
    },
    {
     "data": {
      "application/vnd.jupyter.widget-view+json": {
       "model_id": "",
       "version_major": 2,
       "version_minor": 0
      },
      "text/plain": [
       "Validation: |                                                                                    | 0/? [00:00<…"
      ]
     },
     "metadata": {},
     "output_type": "display_data"
    },
    {
     "name": "stdout",
     "output_type": "stream",
     "text": [
      "[VAL] tas: RMSE=1.9257, Time-Mean RMSE=1.3826, Time-Stddev MAE=0.2911\n",
      "[VAL] pr: RMSE=1.9908, Time-Mean RMSE=0.3073, Time-Stddev MAE=0.8684\n"
     ]
    },
    {
     "data": {
      "application/vnd.jupyter.widget-view+json": {
       "model_id": "",
       "version_major": 2,
       "version_minor": 0
      },
      "text/plain": [
       "Validation: |                                                                                    | 0/? [00:00<…"
      ]
     },
     "metadata": {},
     "output_type": "display_data"
    },
    {
     "name": "stdout",
     "output_type": "stream",
     "text": [
      "[VAL] tas: RMSE=1.7093, Time-Mean RMSE=0.9287, Time-Stddev MAE=0.4061\n",
      "[VAL] pr: RMSE=1.9895, Time-Mean RMSE=0.2709, Time-Stddev MAE=0.9058\n"
     ]
    },
    {
     "data": {
      "application/vnd.jupyter.widget-view+json": {
       "model_id": "",
       "version_major": 2,
       "version_minor": 0
      },
      "text/plain": [
       "Validation: |                                                                                    | 0/? [00:00<…"
      ]
     },
     "metadata": {},
     "output_type": "display_data"
    },
    {
     "name": "stdout",
     "output_type": "stream",
     "text": [
      "[VAL] tas: RMSE=1.8620, Time-Mean RMSE=1.2336, Time-Stddev MAE=0.4179\n",
      "[VAL] pr: RMSE=1.9807, Time-Mean RMSE=0.2956, Time-Stddev MAE=0.8807\n"
     ]
    },
    {
     "data": {
      "application/vnd.jupyter.widget-view+json": {
       "model_id": "",
       "version_major": 2,
       "version_minor": 0
      },
      "text/plain": [
       "Validation: |                                                                                    | 0/? [00:00<…"
      ]
     },
     "metadata": {},
     "output_type": "display_data"
    },
    {
     "name": "stdout",
     "output_type": "stream",
     "text": [
      "[VAL] tas: RMSE=2.0616, Time-Mean RMSE=1.4582, Time-Stddev MAE=0.3248\n",
      "[VAL] pr: RMSE=1.9834, Time-Mean RMSE=0.3169, Time-Stddev MAE=0.8512\n"
     ]
    },
    {
     "data": {
      "application/vnd.jupyter.widget-view+json": {
       "model_id": "",
       "version_major": 2,
       "version_minor": 0
      },
      "text/plain": [
       "Validation: |                                                                                    | 0/? [00:00<…"
      ]
     },
     "metadata": {},
     "output_type": "display_data"
    },
    {
     "name": "stdout",
     "output_type": "stream",
     "text": [
      "[VAL] tas: RMSE=1.4742, Time-Mean RMSE=0.7353, Time-Stddev MAE=0.3168\n",
      "[VAL] pr: RMSE=1.9684, Time-Mean RMSE=0.2707, Time-Stddev MAE=0.8619\n"
     ]
    },
    {
     "data": {
      "application/vnd.jupyter.widget-view+json": {
       "model_id": "",
       "version_major": 2,
       "version_minor": 0
      },
      "text/plain": [
       "Validation: |                                                                                    | 0/? [00:00<…"
      ]
     },
     "metadata": {},
     "output_type": "display_data"
    },
    {
     "name": "stdout",
     "output_type": "stream",
     "text": [
      "[VAL] tas: RMSE=1.6135, Time-Mean RMSE=0.7931, Time-Stddev MAE=0.3023\n",
      "[VAL] pr: RMSE=1.9710, Time-Mean RMSE=0.2546, Time-Stddev MAE=0.8610\n"
     ]
    },
    {
     "data": {
      "application/vnd.jupyter.widget-view+json": {
       "model_id": "",
       "version_major": 2,
       "version_minor": 0
      },
      "text/plain": [
       "Validation: |                                                                                    | 0/? [00:00<…"
      ]
     },
     "metadata": {},
     "output_type": "display_data"
    },
    {
     "name": "stdout",
     "output_type": "stream",
     "text": [
      "[VAL] tas: RMSE=1.8890, Time-Mean RMSE=1.3611, Time-Stddev MAE=0.4457\n",
      "[VAL] pr: RMSE=1.9766, Time-Mean RMSE=0.2941, Time-Stddev MAE=0.9078\n"
     ]
    },
    {
     "data": {
      "application/vnd.jupyter.widget-view+json": {
       "model_id": "",
       "version_major": 2,
       "version_minor": 0
      },
      "text/plain": [
       "Validation: |                                                                                    | 0/? [00:00<…"
      ]
     },
     "metadata": {},
     "output_type": "display_data"
    },
    {
     "name": "stdout",
     "output_type": "stream",
     "text": [
      "[VAL] tas: RMSE=1.5333, Time-Mean RMSE=0.8408, Time-Stddev MAE=0.1673\n",
      "[VAL] pr: RMSE=1.9647, Time-Mean RMSE=0.2626, Time-Stddev MAE=0.7724\n"
     ]
    },
    {
     "data": {
      "application/vnd.jupyter.widget-view+json": {
       "model_id": "",
       "version_major": 2,
       "version_minor": 0
      },
      "text/plain": [
       "Validation: |                                                                                    | 0/? [00:00<…"
      ]
     },
     "metadata": {},
     "output_type": "display_data"
    },
    {
     "name": "stdout",
     "output_type": "stream",
     "text": [
      "[VAL] tas: RMSE=1.8469, Time-Mean RMSE=1.2723, Time-Stddev MAE=0.3177\n",
      "[VAL] pr: RMSE=1.9665, Time-Mean RMSE=0.2736, Time-Stddev MAE=0.8791\n"
     ]
    },
    {
     "data": {
      "application/vnd.jupyter.widget-view+json": {
       "model_id": "",
       "version_major": 2,
       "version_minor": 0
      },
      "text/plain": [
       "Validation: |                                                                                    | 0/? [00:00<…"
      ]
     },
     "metadata": {},
     "output_type": "display_data"
    },
    {
     "name": "stdout",
     "output_type": "stream",
     "text": [
      "[VAL] tas: RMSE=1.5741, Time-Mean RMSE=0.7134, Time-Stddev MAE=0.3561\n",
      "[VAL] pr: RMSE=1.9710, Time-Mean RMSE=0.2535, Time-Stddev MAE=0.8672\n"
     ]
    },
    {
     "data": {
      "application/vnd.jupyter.widget-view+json": {
       "model_id": "",
       "version_major": 2,
       "version_minor": 0
      },
      "text/plain": [
       "Validation: |                                                                                    | 0/? [00:00<…"
      ]
     },
     "metadata": {},
     "output_type": "display_data"
    },
    {
     "name": "stdout",
     "output_type": "stream",
     "text": [
      "[VAL] tas: RMSE=1.7765, Time-Mean RMSE=1.1624, Time-Stddev MAE=0.3667\n",
      "[VAL] pr: RMSE=1.9693, Time-Mean RMSE=0.2903, Time-Stddev MAE=0.8799\n"
     ]
    },
    {
     "data": {
      "application/vnd.jupyter.widget-view+json": {
       "model_id": "",
       "version_major": 2,
       "version_minor": 0
      },
      "text/plain": [
       "Validation: |                                                                                    | 0/? [00:00<…"
      ]
     },
     "metadata": {},
     "output_type": "display_data"
    },
    {
     "name": "stdout",
     "output_type": "stream",
     "text": [
      "[VAL] tas: RMSE=1.8785, Time-Mean RMSE=1.3384, Time-Stddev MAE=0.2459\n",
      "[VAL] pr: RMSE=1.9676, Time-Mean RMSE=0.3102, Time-Stddev MAE=0.8400\n"
     ]
    },
    {
     "data": {
      "application/vnd.jupyter.widget-view+json": {
       "model_id": "",
       "version_major": 2,
       "version_minor": 0
      },
      "text/plain": [
       "Validation: |                                                                                    | 0/? [00:00<…"
      ]
     },
     "metadata": {},
     "output_type": "display_data"
    },
    {
     "name": "stdout",
     "output_type": "stream",
     "text": [
      "[VAL] tas: RMSE=1.9884, Time-Mean RMSE=1.1827, Time-Stddev MAE=0.4027\n",
      "[VAL] pr: RMSE=2.0180, Time-Mean RMSE=0.2980, Time-Stddev MAE=0.9083\n"
     ]
    },
    {
     "data": {
      "application/vnd.jupyter.widget-view+json": {
       "model_id": "",
       "version_major": 2,
       "version_minor": 0
      },
      "text/plain": [
       "Validation: |                                                                                    | 0/? [00:00<…"
      ]
     },
     "metadata": {},
     "output_type": "display_data"
    },
    {
     "name": "stdout",
     "output_type": "stream",
     "text": [
      "[VAL] tas: RMSE=1.9869, Time-Mean RMSE=1.2939, Time-Stddev MAE=0.4850\n",
      "[VAL] pr: RMSE=1.9835, Time-Mean RMSE=0.2917, Time-Stddev MAE=0.9183\n"
     ]
    },
    {
     "data": {
      "application/vnd.jupyter.widget-view+json": {
       "model_id": "",
       "version_major": 2,
       "version_minor": 0
      },
      "text/plain": [
       "Validation: |                                                                                    | 0/? [00:00<…"
      ]
     },
     "metadata": {},
     "output_type": "display_data"
    },
    {
     "name": "stdout",
     "output_type": "stream",
     "text": [
      "[VAL] tas: RMSE=1.4980, Time-Mean RMSE=0.4661, Time-Stddev MAE=0.2133\n",
      "[VAL] pr: RMSE=1.9881, Time-Mean RMSE=0.2389, Time-Stddev MAE=0.7760\n"
     ]
    },
    {
     "data": {
      "application/vnd.jupyter.widget-view+json": {
       "model_id": "",
       "version_major": 2,
       "version_minor": 0
      },
      "text/plain": [
       "Validation: |                                                                                    | 0/? [00:00<…"
      ]
     },
     "metadata": {},
     "output_type": "display_data"
    },
    {
     "name": "stdout",
     "output_type": "stream",
     "text": [
      "[VAL] tas: RMSE=1.8104, Time-Mean RMSE=1.0220, Time-Stddev MAE=0.2941\n",
      "[VAL] pr: RMSE=1.9910, Time-Mean RMSE=0.2982, Time-Stddev MAE=0.8617\n"
     ]
    },
    {
     "data": {
      "application/vnd.jupyter.widget-view+json": {
       "model_id": "",
       "version_major": 2,
       "version_minor": 0
      },
      "text/plain": [
       "Validation: |                                                                                    | 0/? [00:00<…"
      ]
     },
     "metadata": {},
     "output_type": "display_data"
    },
    {
     "name": "stdout",
     "output_type": "stream",
     "text": [
      "[VAL] tas: RMSE=1.8277, Time-Mean RMSE=1.1884, Time-Stddev MAE=0.2684\n",
      "[VAL] pr: RMSE=1.9773, Time-Mean RMSE=0.2926, Time-Stddev MAE=0.8430\n"
     ]
    },
    {
     "data": {
      "application/vnd.jupyter.widget-view+json": {
       "model_id": "",
       "version_major": 2,
       "version_minor": 0
      },
      "text/plain": [
       "Validation: |                                                                                    | 0/? [00:00<…"
      ]
     },
     "metadata": {},
     "output_type": "display_data"
    },
    {
     "name": "stdout",
     "output_type": "stream",
     "text": [
      "[VAL] tas: RMSE=1.6299, Time-Mean RMSE=0.7173, Time-Stddev MAE=0.4106\n",
      "[VAL] pr: RMSE=1.9804, Time-Mean RMSE=0.2845, Time-Stddev MAE=0.8994\n"
     ]
    },
    {
     "data": {
      "application/vnd.jupyter.widget-view+json": {
       "model_id": "",
       "version_major": 2,
       "version_minor": 0
      },
      "text/plain": [
       "Validation: |                                                                                    | 0/? [00:00<…"
      ]
     },
     "metadata": {},
     "output_type": "display_data"
    },
    {
     "name": "stdout",
     "output_type": "stream",
     "text": [
      "[VAL] tas: RMSE=1.3964, Time-Mean RMSE=0.4817, Time-Stddev MAE=0.3144\n",
      "[VAL] pr: RMSE=1.9534, Time-Mean RMSE=0.2397, Time-Stddev MAE=0.8331\n"
     ]
    },
    {
     "data": {
      "application/vnd.jupyter.widget-view+json": {
       "model_id": "",
       "version_major": 2,
       "version_minor": 0
      },
      "text/plain": [
       "Validation: |                                                                                    | 0/? [00:00<…"
      ]
     },
     "metadata": {},
     "output_type": "display_data"
    },
    {
     "name": "stdout",
     "output_type": "stream",
     "text": [
      "[VAL] tas: RMSE=1.5003, Time-Mean RMSE=0.7955, Time-Stddev MAE=0.3458\n",
      "[VAL] pr: RMSE=1.9519, Time-Mean RMSE=0.2434, Time-Stddev MAE=0.8540\n"
     ]
    },
    {
     "data": {
      "application/vnd.jupyter.widget-view+json": {
       "model_id": "",
       "version_major": 2,
       "version_minor": 0
      },
      "text/plain": [
       "Validation: |                                                                                    | 0/? [00:00<…"
      ]
     },
     "metadata": {},
     "output_type": "display_data"
    },
    {
     "name": "stdout",
     "output_type": "stream",
     "text": [
      "[VAL] tas: RMSE=1.3347, Time-Mean RMSE=0.4284, Time-Stddev MAE=0.3698\n",
      "[VAL] pr: RMSE=1.9490, Time-Mean RMSE=0.2398, Time-Stddev MAE=0.8372\n"
     ]
    },
    {
     "data": {
      "application/vnd.jupyter.widget-view+json": {
       "model_id": "",
       "version_major": 2,
       "version_minor": 0
      },
      "text/plain": [
       "Validation: |                                                                                    | 0/? [00:00<…"
      ]
     },
     "metadata": {},
     "output_type": "display_data"
    },
    {
     "name": "stdout",
     "output_type": "stream",
     "text": [
      "[VAL] tas: RMSE=1.5846, Time-Mean RMSE=0.7755, Time-Stddev MAE=0.5713\n",
      "[VAL] pr: RMSE=1.9827, Time-Mean RMSE=0.2736, Time-Stddev MAE=0.9183\n"
     ]
    },
    {
     "data": {
      "application/vnd.jupyter.widget-view+json": {
       "model_id": "",
       "version_major": 2,
       "version_minor": 0
      },
      "text/plain": [
       "Validation: |                                                                                    | 0/? [00:00<…"
      ]
     },
     "metadata": {},
     "output_type": "display_data"
    },
    {
     "name": "stdout",
     "output_type": "stream",
     "text": [
      "[VAL] tas: RMSE=1.8978, Time-Mean RMSE=0.6931, Time-Stddev MAE=0.3855\n",
      "[VAL] pr: RMSE=2.1358, Time-Mean RMSE=0.2838, Time-Stddev MAE=0.8336\n"
     ]
    },
    {
     "data": {
      "application/vnd.jupyter.widget-view+json": {
       "model_id": "",
       "version_major": 2,
       "version_minor": 0
      },
      "text/plain": [
       "Validation: |                                                                                    | 0/? [00:00<…"
      ]
     },
     "metadata": {},
     "output_type": "display_data"
    },
    {
     "name": "stdout",
     "output_type": "stream",
     "text": [
      "[VAL] tas: RMSE=1.8131, Time-Mean RMSE=0.8128, Time-Stddev MAE=0.5767\n",
      "[VAL] pr: RMSE=2.0049, Time-Mean RMSE=0.2736, Time-Stddev MAE=0.9068\n"
     ]
    },
    {
     "data": {
      "application/vnd.jupyter.widget-view+json": {
       "model_id": "",
       "version_major": 2,
       "version_minor": 0
      },
      "text/plain": [
       "Validation: |                                                                                    | 0/? [00:00<…"
      ]
     },
     "metadata": {},
     "output_type": "display_data"
    },
    {
     "name": "stdout",
     "output_type": "stream",
     "text": [
      "[VAL] tas: RMSE=1.6078, Time-Mean RMSE=0.9304, Time-Stddev MAE=0.4610\n",
      "[VAL] pr: RMSE=1.9726, Time-Mean RMSE=0.2927, Time-Stddev MAE=0.9153\n"
     ]
    },
    {
     "data": {
      "application/vnd.jupyter.widget-view+json": {
       "model_id": "",
       "version_major": 2,
       "version_minor": 0
      },
      "text/plain": [
       "Validation: |                                                                                    | 0/? [00:00<…"
      ]
     },
     "metadata": {},
     "output_type": "display_data"
    },
    {
     "name": "stdout",
     "output_type": "stream",
     "text": [
      "[VAL] tas: RMSE=1.3795, Time-Mean RMSE=0.5381, Time-Stddev MAE=0.3227\n",
      "[VAL] pr: RMSE=1.9450, Time-Mean RMSE=0.2344, Time-Stddev MAE=0.8289\n"
     ]
    },
    {
     "data": {
      "application/vnd.jupyter.widget-view+json": {
       "model_id": "",
       "version_major": 2,
       "version_minor": 0
      },
      "text/plain": [
       "Validation: |                                                                                    | 0/? [00:00<…"
      ]
     },
     "metadata": {},
     "output_type": "display_data"
    },
    {
     "name": "stdout",
     "output_type": "stream",
     "text": [
      "[VAL] tas: RMSE=1.4469, Time-Mean RMSE=0.7493, Time-Stddev MAE=0.2891\n",
      "[VAL] pr: RMSE=1.9508, Time-Mean RMSE=0.2706, Time-Stddev MAE=0.8399\n"
     ]
    },
    {
     "data": {
      "application/vnd.jupyter.widget-view+json": {
       "model_id": "",
       "version_major": 2,
       "version_minor": 0
      },
      "text/plain": [
       "Validation: |                                                                                    | 0/? [00:00<…"
      ]
     },
     "metadata": {},
     "output_type": "display_data"
    },
    {
     "name": "stdout",
     "output_type": "stream",
     "text": [
      "[VAL] tas: RMSE=1.4130, Time-Mean RMSE=0.7158, Time-Stddev MAE=0.2329\n",
      "[VAL] pr: RMSE=1.9439, Time-Mean RMSE=0.2438, Time-Stddev MAE=0.7607\n"
     ]
    },
    {
     "data": {
      "application/vnd.jupyter.widget-view+json": {
       "model_id": "",
       "version_major": 2,
       "version_minor": 0
      },
      "text/plain": [
       "Validation: |                                                                                    | 0/? [00:00<…"
      ]
     },
     "metadata": {},
     "output_type": "display_data"
    },
    {
     "name": "stdout",
     "output_type": "stream",
     "text": [
      "[VAL] tas: RMSE=1.7842, Time-Mean RMSE=0.9365, Time-Stddev MAE=0.2961\n",
      "[VAL] pr: RMSE=1.9987, Time-Mean RMSE=0.2528, Time-Stddev MAE=0.8357\n"
     ]
    },
    {
     "data": {
      "application/vnd.jupyter.widget-view+json": {
       "model_id": "",
       "version_major": 2,
       "version_minor": 0
      },
      "text/plain": [
       "Validation: |                                                                                    | 0/? [00:00<…"
      ]
     },
     "metadata": {},
     "output_type": "display_data"
    },
    {
     "name": "stdout",
     "output_type": "stream",
     "text": [
      "[VAL] tas: RMSE=1.6483, Time-Mean RMSE=0.7988, Time-Stddev MAE=0.3980\n",
      "[VAL] pr: RMSE=1.9839, Time-Mean RMSE=0.3019, Time-Stddev MAE=0.8898\n"
     ]
    },
    {
     "data": {
      "application/vnd.jupyter.widget-view+json": {
       "model_id": "",
       "version_major": 2,
       "version_minor": 0
      },
      "text/plain": [
       "Validation: |                                                                                    | 0/? [00:00<…"
      ]
     },
     "metadata": {},
     "output_type": "display_data"
    },
    {
     "name": "stdout",
     "output_type": "stream",
     "text": [
      "[VAL] tas: RMSE=1.4373, Time-Mean RMSE=0.6971, Time-Stddev MAE=0.3201\n",
      "[VAL] pr: RMSE=1.9458, Time-Mean RMSE=0.2408, Time-Stddev MAE=0.8202\n"
     ]
    },
    {
     "data": {
      "application/vnd.jupyter.widget-view+json": {
       "model_id": "",
       "version_major": 2,
       "version_minor": 0
      },
      "text/plain": [
       "Validation: |                                                                                    | 0/? [00:00<…"
      ]
     },
     "metadata": {},
     "output_type": "display_data"
    },
    {
     "name": "stdout",
     "output_type": "stream",
     "text": [
      "[VAL] tas: RMSE=1.4033, Time-Mean RMSE=0.6645, Time-Stddev MAE=0.2940\n",
      "[VAL] pr: RMSE=1.9505, Time-Mean RMSE=0.2707, Time-Stddev MAE=0.8296\n"
     ]
    },
    {
     "data": {
      "application/vnd.jupyter.widget-view+json": {
       "model_id": "",
       "version_major": 2,
       "version_minor": 0
      },
      "text/plain": [
       "Validation: |                                                                                    | 0/? [00:00<…"
      ]
     },
     "metadata": {},
     "output_type": "display_data"
    },
    {
     "name": "stdout",
     "output_type": "stream",
     "text": [
      "[VAL] tas: RMSE=1.4851, Time-Mean RMSE=0.6040, Time-Stddev MAE=0.5668\n",
      "[VAL] pr: RMSE=1.9584, Time-Mean RMSE=0.2675, Time-Stddev MAE=0.9038\n"
     ]
    },
    {
     "data": {
      "application/vnd.jupyter.widget-view+json": {
       "model_id": "",
       "version_major": 2,
       "version_minor": 0
      },
      "text/plain": [
       "Validation: |                                                                                    | 0/? [00:00<…"
      ]
     },
     "metadata": {},
     "output_type": "display_data"
    },
    {
     "name": "stdout",
     "output_type": "stream",
     "text": [
      "[VAL] tas: RMSE=1.4694, Time-Mean RMSE=0.7815, Time-Stddev MAE=0.2891\n",
      "[VAL] pr: RMSE=1.9522, Time-Mean RMSE=0.2630, Time-Stddev MAE=0.8400\n"
     ]
    },
    {
     "data": {
      "application/vnd.jupyter.widget-view+json": {
       "model_id": "",
       "version_major": 2,
       "version_minor": 0
      },
      "text/plain": [
       "Validation: |                                                                                    | 0/? [00:00<…"
      ]
     },
     "metadata": {},
     "output_type": "display_data"
    },
    {
     "name": "stdout",
     "output_type": "stream",
     "text": [
      "[VAL] tas: RMSE=1.3466, Time-Mean RMSE=0.4714, Time-Stddev MAE=0.3914\n",
      "[VAL] pr: RMSE=1.9482, Time-Mean RMSE=0.2583, Time-Stddev MAE=0.8425\n"
     ]
    },
    {
     "data": {
      "application/vnd.jupyter.widget-view+json": {
       "model_id": "",
       "version_major": 2,
       "version_minor": 0
      },
      "text/plain": [
       "Validation: |                                                                                    | 0/? [00:00<…"
      ]
     },
     "metadata": {},
     "output_type": "display_data"
    },
    {
     "name": "stdout",
     "output_type": "stream",
     "text": [
      "[VAL] tas: RMSE=1.4009, Time-Mean RMSE=0.5099, Time-Stddev MAE=0.3931\n",
      "[VAL] pr: RMSE=1.9550, Time-Mean RMSE=0.2685, Time-Stddev MAE=0.8565\n"
     ]
    },
    {
     "data": {
      "application/vnd.jupyter.widget-view+json": {
       "model_id": "",
       "version_major": 2,
       "version_minor": 0
      },
      "text/plain": [
       "Validation: |                                                                                    | 0/? [00:00<…"
      ]
     },
     "metadata": {},
     "output_type": "display_data"
    },
    {
     "name": "stdout",
     "output_type": "stream",
     "text": [
      "[VAL] tas: RMSE=1.3717, Time-Mean RMSE=0.5188, Time-Stddev MAE=0.3189\n",
      "[VAL] pr: RMSE=1.9544, Time-Mean RMSE=0.2659, Time-Stddev MAE=0.8546\n"
     ]
    },
    {
     "data": {
      "application/vnd.jupyter.widget-view+json": {
       "model_id": "",
       "version_major": 2,
       "version_minor": 0
      },
      "text/plain": [
       "Validation: |                                                                                    | 0/? [00:00<…"
      ]
     },
     "metadata": {},
     "output_type": "display_data"
    },
    {
     "name": "stdout",
     "output_type": "stream",
     "text": [
      "[VAL] tas: RMSE=1.7124, Time-Mean RMSE=0.8771, Time-Stddev MAE=0.5651\n",
      "[VAL] pr: RMSE=1.9861, Time-Mean RMSE=0.3141, Time-Stddev MAE=0.9278\n"
     ]
    },
    {
     "data": {
      "application/vnd.jupyter.widget-view+json": {
       "model_id": "",
       "version_major": 2,
       "version_minor": 0
      },
      "text/plain": [
       "Validation: |                                                                                    | 0/? [00:00<…"
      ]
     },
     "metadata": {},
     "output_type": "display_data"
    },
    {
     "name": "stdout",
     "output_type": "stream",
     "text": [
      "[VAL] tas: RMSE=1.3937, Time-Mean RMSE=0.3702, Time-Stddev MAE=0.2554\n",
      "[VAL] pr: RMSE=1.9552, Time-Mean RMSE=0.2532, Time-Stddev MAE=0.8163\n"
     ]
    },
    {
     "data": {
      "application/vnd.jupyter.widget-view+json": {
       "model_id": "",
       "version_major": 2,
       "version_minor": 0
      },
      "text/plain": [
       "Validation: |                                                                                    | 0/? [00:00<…"
      ]
     },
     "metadata": {},
     "output_type": "display_data"
    },
    {
     "name": "stdout",
     "output_type": "stream",
     "text": [
      "[VAL] tas: RMSE=1.2872, Time-Mean RMSE=0.3761, Time-Stddev MAE=0.2772\n",
      "[VAL] pr: RMSE=1.9431, Time-Mean RMSE=0.2310, Time-Stddev MAE=0.8213\n"
     ]
    },
    {
     "data": {
      "application/vnd.jupyter.widget-view+json": {
       "model_id": "",
       "version_major": 2,
       "version_minor": 0
      },
      "text/plain": [
       "Validation: |                                                                                    | 0/? [00:00<…"
      ]
     },
     "metadata": {},
     "output_type": "display_data"
    },
    {
     "name": "stdout",
     "output_type": "stream",
     "text": [
      "[VAL] tas: RMSE=1.4324, Time-Mean RMSE=0.5991, Time-Stddev MAE=0.2615\n",
      "[VAL] pr: RMSE=1.9578, Time-Mean RMSE=0.2782, Time-Stddev MAE=0.8021\n"
     ]
    },
    {
     "data": {
      "application/vnd.jupyter.widget-view+json": {
       "model_id": "",
       "version_major": 2,
       "version_minor": 0
      },
      "text/plain": [
       "Validation: |                                                                                    | 0/? [00:00<…"
      ]
     },
     "metadata": {},
     "output_type": "display_data"
    },
    {
     "name": "stdout",
     "output_type": "stream",
     "text": [
      "[VAL] tas: RMSE=1.5106, Time-Mean RMSE=0.8498, Time-Stddev MAE=0.2956\n",
      "[VAL] pr: RMSE=1.9505, Time-Mean RMSE=0.2559, Time-Stddev MAE=0.8263\n"
     ]
    },
    {
     "data": {
      "application/vnd.jupyter.widget-view+json": {
       "model_id": "",
       "version_major": 2,
       "version_minor": 0
      },
      "text/plain": [
       "Validation: |                                                                                    | 0/? [00:00<…"
      ]
     },
     "metadata": {},
     "output_type": "display_data"
    },
    {
     "name": "stdout",
     "output_type": "stream",
     "text": [
      "[VAL] tas: RMSE=1.6405, Time-Mean RMSE=0.4601, Time-Stddev MAE=0.5007\n",
      "[VAL] pr: RMSE=2.0144, Time-Mean RMSE=0.2833, Time-Stddev MAE=0.9060\n"
     ]
    },
    {
     "data": {
      "application/vnd.jupyter.widget-view+json": {
       "model_id": "",
       "version_major": 2,
       "version_minor": 0
      },
      "text/plain": [
       "Validation: |                                                                                    | 0/? [00:00<…"
      ]
     },
     "metadata": {},
     "output_type": "display_data"
    },
    {
     "name": "stdout",
     "output_type": "stream",
     "text": [
      "[VAL] tas: RMSE=1.4684, Time-Mean RMSE=0.7589, Time-Stddev MAE=0.2244\n",
      "[VAL] pr: RMSE=1.9506, Time-Mean RMSE=0.2615, Time-Stddev MAE=0.8089\n"
     ]
    },
    {
     "data": {
      "application/vnd.jupyter.widget-view+json": {
       "model_id": "",
       "version_major": 2,
       "version_minor": 0
      },
      "text/plain": [
       "Validation: |                                                                                    | 0/? [00:00<…"
      ]
     },
     "metadata": {},
     "output_type": "display_data"
    },
    {
     "name": "stdout",
     "output_type": "stream",
     "text": [
      "[VAL] tas: RMSE=1.4748, Time-Mean RMSE=0.7208, Time-Stddev MAE=0.2671\n",
      "[VAL] pr: RMSE=1.9478, Time-Mean RMSE=0.2634, Time-Stddev MAE=0.8370\n"
     ]
    },
    {
     "data": {
      "application/vnd.jupyter.widget-view+json": {
       "model_id": "",
       "version_major": 2,
       "version_minor": 0
      },
      "text/plain": [
       "Validation: |                                                                                    | 0/? [00:00<…"
      ]
     },
     "metadata": {},
     "output_type": "display_data"
    },
    {
     "name": "stdout",
     "output_type": "stream",
     "text": [
      "[VAL] tas: RMSE=1.3939, Time-Mean RMSE=0.6412, Time-Stddev MAE=0.3509\n",
      "[VAL] pr: RMSE=1.9413, Time-Mean RMSE=0.2430, Time-Stddev MAE=0.8291\n"
     ]
    },
    {
     "data": {
      "application/vnd.jupyter.widget-view+json": {
       "model_id": "",
       "version_major": 2,
       "version_minor": 0
      },
      "text/plain": [
       "Validation: |                                                                                    | 0/? [00:00<…"
      ]
     },
     "metadata": {},
     "output_type": "display_data"
    },
    {
     "name": "stdout",
     "output_type": "stream",
     "text": [
      "[VAL] tas: RMSE=1.4962, Time-Mean RMSE=0.6826, Time-Stddev MAE=0.2689\n",
      "[VAL] pr: RMSE=1.9441, Time-Mean RMSE=0.2427, Time-Stddev MAE=0.7539\n"
     ]
    },
    {
     "data": {
      "application/vnd.jupyter.widget-view+json": {
       "model_id": "",
       "version_major": 2,
       "version_minor": 0
      },
      "text/plain": [
       "Validation: |                                                                                    | 0/? [00:00<…"
      ]
     },
     "metadata": {},
     "output_type": "display_data"
    },
    {
     "name": "stdout",
     "output_type": "stream",
     "text": [
      "[VAL] tas: RMSE=1.2982, Time-Mean RMSE=0.4282, Time-Stddev MAE=0.2369\n",
      "[VAL] pr: RMSE=1.9399, Time-Mean RMSE=0.2381, Time-Stddev MAE=0.8004\n"
     ]
    },
    {
     "data": {
      "application/vnd.jupyter.widget-view+json": {
       "model_id": "",
       "version_major": 2,
       "version_minor": 0
      },
      "text/plain": [
       "Validation: |                                                                                    | 0/? [00:00<…"
      ]
     },
     "metadata": {},
     "output_type": "display_data"
    },
    {
     "name": "stdout",
     "output_type": "stream",
     "text": [
      "[VAL] tas: RMSE=1.2633, Time-Mean RMSE=0.4506, Time-Stddev MAE=0.2688\n",
      "[VAL] pr: RMSE=1.9411, Time-Mean RMSE=0.2369, Time-Stddev MAE=0.8239\n"
     ]
    },
    {
     "data": {
      "application/vnd.jupyter.widget-view+json": {
       "model_id": "",
       "version_major": 2,
       "version_minor": 0
      },
      "text/plain": [
       "Validation: |                                                                                    | 0/? [00:00<…"
      ]
     },
     "metadata": {},
     "output_type": "display_data"
    },
    {
     "name": "stdout",
     "output_type": "stream",
     "text": [
      "[VAL] tas: RMSE=1.7676, Time-Mean RMSE=0.5540, Time-Stddev MAE=0.2206\n",
      "[VAL] pr: RMSE=2.0859, Time-Mean RMSE=0.2571, Time-Stddev MAE=0.7440\n"
     ]
    },
    {
     "data": {
      "application/vnd.jupyter.widget-view+json": {
       "model_id": "",
       "version_major": 2,
       "version_minor": 0
      },
      "text/plain": [
       "Validation: |                                                                                    | 0/? [00:00<…"
      ]
     },
     "metadata": {},
     "output_type": "display_data"
    },
    {
     "name": "stdout",
     "output_type": "stream",
     "text": [
      "[VAL] tas: RMSE=1.3622, Time-Mean RMSE=0.6120, Time-Stddev MAE=0.3730\n",
      "[VAL] pr: RMSE=1.9448, Time-Mean RMSE=0.2496, Time-Stddev MAE=0.8479\n"
     ]
    },
    {
     "data": {
      "application/vnd.jupyter.widget-view+json": {
       "model_id": "",
       "version_major": 2,
       "version_minor": 0
      },
      "text/plain": [
       "Validation: |                                                                                    | 0/? [00:00<…"
      ]
     },
     "metadata": {},
     "output_type": "display_data"
    },
    {
     "name": "stdout",
     "output_type": "stream",
     "text": [
      "[VAL] tas: RMSE=2.5324, Time-Mean RMSE=0.9322, Time-Stddev MAE=0.3306\n",
      "[VAL] pr: RMSE=2.2666, Time-Mean RMSE=0.4151, Time-Stddev MAE=0.9366\n"
     ]
    },
    {
     "data": {
      "application/vnd.jupyter.widget-view+json": {
       "model_id": "",
       "version_major": 2,
       "version_minor": 0
      },
      "text/plain": [
       "Validation: |                                                                                    | 0/? [00:00<…"
      ]
     },
     "metadata": {},
     "output_type": "display_data"
    },
    {
     "name": "stdout",
     "output_type": "stream",
     "text": [
      "[VAL] tas: RMSE=1.5346, Time-Mean RMSE=0.8145, Time-Stddev MAE=0.3618\n",
      "[VAL] pr: RMSE=1.9624, Time-Mean RMSE=0.2656, Time-Stddev MAE=0.8653\n"
     ]
    },
    {
     "data": {
      "application/vnd.jupyter.widget-view+json": {
       "model_id": "",
       "version_major": 2,
       "version_minor": 0
      },
      "text/plain": [
       "Validation: |                                                                                    | 0/? [00:00<…"
      ]
     },
     "metadata": {},
     "output_type": "display_data"
    },
    {
     "name": "stdout",
     "output_type": "stream",
     "text": [
      "[VAL] tas: RMSE=1.4608, Time-Mean RMSE=0.8200, Time-Stddev MAE=0.2483\n",
      "[VAL] pr: RMSE=1.9575, Time-Mean RMSE=0.2816, Time-Stddev MAE=0.8241\n"
     ]
    },
    {
     "data": {
      "application/vnd.jupyter.widget-view+json": {
       "model_id": "",
       "version_major": 2,
       "version_minor": 0
      },
      "text/plain": [
       "Validation: |                                                                                    | 0/? [00:00<…"
      ]
     },
     "metadata": {},
     "output_type": "display_data"
    },
    {
     "name": "stdout",
     "output_type": "stream",
     "text": [
      "[VAL] tas: RMSE=1.4545, Time-Mean RMSE=0.4383, Time-Stddev MAE=0.3370\n",
      "[VAL] pr: RMSE=1.9527, Time-Mean RMSE=0.2401, Time-Stddev MAE=0.7479\n"
     ]
    },
    {
     "data": {
      "application/vnd.jupyter.widget-view+json": {
       "model_id": "",
       "version_major": 2,
       "version_minor": 0
      },
      "text/plain": [
       "Validation: |                                                                                    | 0/? [00:00<…"
      ]
     },
     "metadata": {},
     "output_type": "display_data"
    },
    {
     "name": "stdout",
     "output_type": "stream",
     "text": [
      "[VAL] tas: RMSE=1.6064, Time-Mean RMSE=0.9149, Time-Stddev MAE=0.3602\n",
      "[VAL] pr: RMSE=1.9639, Time-Mean RMSE=0.3077, Time-Stddev MAE=0.8558\n"
     ]
    },
    {
     "data": {
      "application/vnd.jupyter.widget-view+json": {
       "model_id": "",
       "version_major": 2,
       "version_minor": 0
      },
      "text/plain": [
       "Validation: |                                                                                    | 0/? [00:00<…"
      ]
     },
     "metadata": {},
     "output_type": "display_data"
    },
    {
     "name": "stdout",
     "output_type": "stream",
     "text": [
      "[VAL] tas: RMSE=1.3751, Time-Mean RMSE=0.5168, Time-Stddev MAE=0.2775\n",
      "[VAL] pr: RMSE=1.9441, Time-Mean RMSE=0.2656, Time-Stddev MAE=0.8170\n"
     ]
    },
    {
     "data": {
      "application/vnd.jupyter.widget-view+json": {
       "model_id": "",
       "version_major": 2,
       "version_minor": 0
      },
      "text/plain": [
       "Validation: |                                                                                    | 0/? [00:00<…"
      ]
     },
     "metadata": {},
     "output_type": "display_data"
    },
    {
     "name": "stdout",
     "output_type": "stream",
     "text": [
      "[VAL] tas: RMSE=1.4492, Time-Mean RMSE=0.7357, Time-Stddev MAE=0.3563\n",
      "[VAL] pr: RMSE=1.9504, Time-Mean RMSE=0.2786, Time-Stddev MAE=0.8563\n"
     ]
    },
    {
     "data": {
      "application/vnd.jupyter.widget-view+json": {
       "model_id": "",
       "version_major": 2,
       "version_minor": 0
      },
      "text/plain": [
       "Validation: |                                                                                    | 0/? [00:00<…"
      ]
     },
     "metadata": {},
     "output_type": "display_data"
    },
    {
     "name": "stdout",
     "output_type": "stream",
     "text": [
      "[VAL] tas: RMSE=1.3178, Time-Mean RMSE=0.3690, Time-Stddev MAE=0.3245\n",
      "[VAL] pr: RMSE=1.9409, Time-Mean RMSE=0.2477, Time-Stddev MAE=0.8001\n"
     ]
    },
    {
     "data": {
      "application/vnd.jupyter.widget-view+json": {
       "model_id": "",
       "version_major": 2,
       "version_minor": 0
      },
      "text/plain": [
       "Validation: |                                                                                    | 0/? [00:00<…"
      ]
     },
     "metadata": {},
     "output_type": "display_data"
    },
    {
     "name": "stdout",
     "output_type": "stream",
     "text": [
      "[VAL] tas: RMSE=1.3506, Time-Mean RMSE=0.4523, Time-Stddev MAE=0.1684\n",
      "[VAL] pr: RMSE=1.9465, Time-Mean RMSE=0.2539, Time-Stddev MAE=0.8047\n"
     ]
    },
    {
     "data": {
      "application/vnd.jupyter.widget-view+json": {
       "model_id": "",
       "version_major": 2,
       "version_minor": 0
      },
      "text/plain": [
       "Validation: |                                                                                    | 0/? [00:00<…"
      ]
     },
     "metadata": {},
     "output_type": "display_data"
    },
    {
     "name": "stdout",
     "output_type": "stream",
     "text": [
      "[VAL] tas: RMSE=1.5240, Time-Mean RMSE=0.9049, Time-Stddev MAE=0.2957\n",
      "[VAL] pr: RMSE=1.9641, Time-Mean RMSE=0.3133, Time-Stddev MAE=0.8534\n"
     ]
    },
    {
     "data": {
      "application/vnd.jupyter.widget-view+json": {
       "model_id": "",
       "version_major": 2,
       "version_minor": 0
      },
      "text/plain": [
       "Validation: |                                                                                    | 0/? [00:00<…"
      ]
     },
     "metadata": {},
     "output_type": "display_data"
    },
    {
     "name": "stdout",
     "output_type": "stream",
     "text": [
      "[VAL] tas: RMSE=1.4408, Time-Mean RMSE=0.7515, Time-Stddev MAE=0.2524\n",
      "[VAL] pr: RMSE=1.9452, Time-Mean RMSE=0.2777, Time-Stddev MAE=0.7989\n"
     ]
    },
    {
     "data": {
      "application/vnd.jupyter.widget-view+json": {
       "model_id": "",
       "version_major": 2,
       "version_minor": 0
      },
      "text/plain": [
       "Validation: |                                                                                    | 0/? [00:00<…"
      ]
     },
     "metadata": {},
     "output_type": "display_data"
    },
    {
     "name": "stdout",
     "output_type": "stream",
     "text": [
      "[VAL] tas: RMSE=1.3743, Time-Mean RMSE=0.6678, Time-Stddev MAE=0.2251\n",
      "[VAL] pr: RMSE=1.9429, Time-Mean RMSE=0.2544, Time-Stddev MAE=0.8085\n"
     ]
    },
    {
     "data": {
      "application/vnd.jupyter.widget-view+json": {
       "model_id": "",
       "version_major": 2,
       "version_minor": 0
      },
      "text/plain": [
       "Validation: |                                                                                    | 0/? [00:00<…"
      ]
     },
     "metadata": {},
     "output_type": "display_data"
    },
    {
     "name": "stdout",
     "output_type": "stream",
     "text": [
      "[VAL] tas: RMSE=1.3178, Time-Mean RMSE=0.5416, Time-Stddev MAE=0.3233\n",
      "[VAL] pr: RMSE=1.9393, Time-Mean RMSE=0.2349, Time-Stddev MAE=0.8198\n"
     ]
    },
    {
     "data": {
      "application/vnd.jupyter.widget-view+json": {
       "model_id": "",
       "version_major": 2,
       "version_minor": 0
      },
      "text/plain": [
       "Validation: |                                                                                    | 0/? [00:00<…"
      ]
     },
     "metadata": {},
     "output_type": "display_data"
    },
    {
     "name": "stdout",
     "output_type": "stream",
     "text": [
      "[VAL] tas: RMSE=1.3609, Time-Mean RMSE=0.5534, Time-Stddev MAE=0.1420\n",
      "[VAL] pr: RMSE=1.9615, Time-Mean RMSE=0.2523, Time-Stddev MAE=0.7543\n"
     ]
    },
    {
     "data": {
      "application/vnd.jupyter.widget-view+json": {
       "model_id": "",
       "version_major": 2,
       "version_minor": 0
      },
      "text/plain": [
       "Validation: |                                                                                    | 0/? [00:00<…"
      ]
     },
     "metadata": {},
     "output_type": "display_data"
    },
    {
     "name": "stdout",
     "output_type": "stream",
     "text": [
      "[VAL] tas: RMSE=1.5439, Time-Mean RMSE=0.7320, Time-Stddev MAE=0.3966\n",
      "[VAL] pr: RMSE=1.9857, Time-Mean RMSE=0.2558, Time-Stddev MAE=0.9072\n"
     ]
    },
    {
     "data": {
      "application/vnd.jupyter.widget-view+json": {
       "model_id": "",
       "version_major": 2,
       "version_minor": 0
      },
      "text/plain": [
       "Validation: |                                                                                    | 0/? [00:00<…"
      ]
     },
     "metadata": {},
     "output_type": "display_data"
    },
    {
     "name": "stdout",
     "output_type": "stream",
     "text": [
      "[VAL] tas: RMSE=1.3225, Time-Mean RMSE=0.5178, Time-Stddev MAE=0.3158\n",
      "[VAL] pr: RMSE=1.9464, Time-Mean RMSE=0.2557, Time-Stddev MAE=0.8279\n"
     ]
    },
    {
     "data": {
      "application/vnd.jupyter.widget-view+json": {
       "model_id": "",
       "version_major": 2,
       "version_minor": 0
      },
      "text/plain": [
       "Validation: |                                                                                    | 0/? [00:00<…"
      ]
     },
     "metadata": {},
     "output_type": "display_data"
    },
    {
     "name": "stdout",
     "output_type": "stream",
     "text": [
      "[VAL] tas: RMSE=2.0398, Time-Mean RMSE=0.5743, Time-Stddev MAE=0.4599\n",
      "[VAL] pr: RMSE=2.0998, Time-Mean RMSE=0.3018, Time-Stddev MAE=0.9084\n"
     ]
    },
    {
     "data": {
      "application/vnd.jupyter.widget-view+json": {
       "model_id": "",
       "version_major": 2,
       "version_minor": 0
      },
      "text/plain": [
       "Validation: |                                                                                    | 0/? [00:00<…"
      ]
     },
     "metadata": {},
     "output_type": "display_data"
    },
    {
     "name": "stdout",
     "output_type": "stream",
     "text": [
      "[VAL] tas: RMSE=1.3655, Time-Mean RMSE=0.5395, Time-Stddev MAE=0.2540\n",
      "[VAL] pr: RMSE=1.9418, Time-Mean RMSE=0.2446, Time-Stddev MAE=0.7874\n"
     ]
    },
    {
     "data": {
      "application/vnd.jupyter.widget-view+json": {
       "model_id": "",
       "version_major": 2,
       "version_minor": 0
      },
      "text/plain": [
       "Validation: |                                                                                    | 0/? [00:00<…"
      ]
     },
     "metadata": {},
     "output_type": "display_data"
    },
    {
     "name": "stdout",
     "output_type": "stream",
     "text": [
      "[VAL] tas: RMSE=1.4002, Time-Mean RMSE=0.5938, Time-Stddev MAE=0.2332\n",
      "[VAL] pr: RMSE=1.9576, Time-Mean RMSE=0.2496, Time-Stddev MAE=0.7976\n"
     ]
    },
    {
     "data": {
      "application/vnd.jupyter.widget-view+json": {
       "model_id": "",
       "version_major": 2,
       "version_minor": 0
      },
      "text/plain": [
       "Validation: |                                                                                    | 0/? [00:00<…"
      ]
     },
     "metadata": {},
     "output_type": "display_data"
    },
    {
     "name": "stdout",
     "output_type": "stream",
     "text": [
      "[VAL] tas: RMSE=2.4934, Time-Mean RMSE=0.9116, Time-Stddev MAE=0.2428\n",
      "[VAL] pr: RMSE=2.2519, Time-Mean RMSE=0.4239, Time-Stddev MAE=0.8393\n"
     ]
    },
    {
     "data": {
      "application/vnd.jupyter.widget-view+json": {
       "model_id": "",
       "version_major": 2,
       "version_minor": 0
      },
      "text/plain": [
       "Validation: |                                                                                    | 0/? [00:00<…"
      ]
     },
     "metadata": {},
     "output_type": "display_data"
    },
    {
     "name": "stdout",
     "output_type": "stream",
     "text": [
      "[VAL] tas: RMSE=1.2877, Time-Mean RMSE=0.4300, Time-Stddev MAE=0.2037\n",
      "[VAL] pr: RMSE=1.9396, Time-Mean RMSE=0.2438, Time-Stddev MAE=0.7752\n"
     ]
    },
    {
     "data": {
      "application/vnd.jupyter.widget-view+json": {
       "model_id": "",
       "version_major": 2,
       "version_minor": 0
      },
      "text/plain": [
       "Validation: |                                                                                    | 0/? [00:00<…"
      ]
     },
     "metadata": {},
     "output_type": "display_data"
    },
    {
     "name": "stdout",
     "output_type": "stream",
     "text": [
      "[VAL] tas: RMSE=1.3416, Time-Mean RMSE=0.5791, Time-Stddev MAE=0.2262\n",
      "[VAL] pr: RMSE=1.9392, Time-Mean RMSE=0.2391, Time-Stddev MAE=0.7977\n"
     ]
    },
    {
     "data": {
      "application/vnd.jupyter.widget-view+json": {
       "model_id": "",
       "version_major": 2,
       "version_minor": 0
      },
      "text/plain": [
       "Validation: |                                                                                    | 0/? [00:00<…"
      ]
     },
     "metadata": {},
     "output_type": "display_data"
    },
    {
     "name": "stdout",
     "output_type": "stream",
     "text": [
      "[VAL] tas: RMSE=1.5098, Time-Mean RMSE=0.9558, Time-Stddev MAE=0.2341\n",
      "[VAL] pr: RMSE=1.9367, Time-Mean RMSE=0.2446, Time-Stddev MAE=0.7936\n"
     ]
    },
    {
     "data": {
      "application/vnd.jupyter.widget-view+json": {
       "model_id": "",
       "version_major": 2,
       "version_minor": 0
      },
      "text/plain": [
       "Validation: |                                                                                    | 0/? [00:00<…"
      ]
     },
     "metadata": {},
     "output_type": "display_data"
    },
    {
     "name": "stdout",
     "output_type": "stream",
     "text": [
      "[VAL] tas: RMSE=1.3583, Time-Mean RMSE=0.5470, Time-Stddev MAE=0.2743\n",
      "[VAL] pr: RMSE=1.9488, Time-Mean RMSE=0.2648, Time-Stddev MAE=0.7871\n"
     ]
    },
    {
     "data": {
      "application/vnd.jupyter.widget-view+json": {
       "model_id": "",
       "version_major": 2,
       "version_minor": 0
      },
      "text/plain": [
       "Validation: |                                                                                    | 0/? [00:00<…"
      ]
     },
     "metadata": {},
     "output_type": "display_data"
    },
    {
     "name": "stdout",
     "output_type": "stream",
     "text": [
      "[VAL] tas: RMSE=1.5543, Time-Mean RMSE=0.9019, Time-Stddev MAE=0.3112\n",
      "[VAL] pr: RMSE=1.9538, Time-Mean RMSE=0.3135, Time-Stddev MAE=0.8029\n"
     ]
    },
    {
     "data": {
      "application/vnd.jupyter.widget-view+json": {
       "model_id": "",
       "version_major": 2,
       "version_minor": 0
      },
      "text/plain": [
       "Validation: |                                                                                    | 0/? [00:00<…"
      ]
     },
     "metadata": {},
     "output_type": "display_data"
    },
    {
     "name": "stdout",
     "output_type": "stream",
     "text": [
      "[VAL] tas: RMSE=1.4902, Time-Mean RMSE=0.8458, Time-Stddev MAE=0.2276\n",
      "[VAL] pr: RMSE=1.9483, Time-Mean RMSE=0.2730, Time-Stddev MAE=0.8145\n"
     ]
    },
    {
     "data": {
      "application/vnd.jupyter.widget-view+json": {
       "model_id": "",
       "version_major": 2,
       "version_minor": 0
      },
      "text/plain": [
       "Validation: |                                                                                    | 0/? [00:00<…"
      ]
     },
     "metadata": {},
     "output_type": "display_data"
    },
    {
     "name": "stdout",
     "output_type": "stream",
     "text": [
      "[VAL] tas: RMSE=1.4365, Time-Mean RMSE=0.7993, Time-Stddev MAE=0.2189\n",
      "[VAL] pr: RMSE=1.9375, Time-Mean RMSE=0.2434, Time-Stddev MAE=0.7671\n"
     ]
    },
    {
     "data": {
      "application/vnd.jupyter.widget-view+json": {
       "model_id": "",
       "version_major": 2,
       "version_minor": 0
      },
      "text/plain": [
       "Validation: |                                                                                    | 0/? [00:00<…"
      ]
     },
     "metadata": {},
     "output_type": "display_data"
    },
    {
     "name": "stdout",
     "output_type": "stream",
     "text": [
      "[VAL] tas: RMSE=1.5161, Time-Mean RMSE=0.3538, Time-Stddev MAE=0.4129\n",
      "[VAL] pr: RMSE=1.9635, Time-Mean RMSE=0.2682, Time-Stddev MAE=0.8231\n"
     ]
    },
    {
     "data": {
      "application/vnd.jupyter.widget-view+json": {
       "model_id": "",
       "version_major": 2,
       "version_minor": 0
      },
      "text/plain": [
       "Validation: |                                                                                    | 0/? [00:00<…"
      ]
     },
     "metadata": {},
     "output_type": "display_data"
    },
    {
     "name": "stdout",
     "output_type": "stream",
     "text": [
      "[VAL] tas: RMSE=1.9492, Time-Mean RMSE=0.8162, Time-Stddev MAE=0.5153\n",
      "[VAL] pr: RMSE=2.0681, Time-Mean RMSE=0.2826, Time-Stddev MAE=0.8973\n"
     ]
    },
    {
     "data": {
      "application/vnd.jupyter.widget-view+json": {
       "model_id": "",
       "version_major": 2,
       "version_minor": 0
      },
      "text/plain": [
       "Validation: |                                                                                    | 0/? [00:00<…"
      ]
     },
     "metadata": {},
     "output_type": "display_data"
    },
    {
     "name": "stdout",
     "output_type": "stream",
     "text": [
      "[VAL] tas: RMSE=1.3361, Time-Mean RMSE=0.5296, Time-Stddev MAE=0.3335\n",
      "[VAL] pr: RMSE=1.9393, Time-Mean RMSE=0.2396, Time-Stddev MAE=0.8011\n"
     ]
    },
    {
     "data": {
      "application/vnd.jupyter.widget-view+json": {
       "model_id": "",
       "version_major": 2,
       "version_minor": 0
      },
      "text/plain": [
       "Validation: |                                                                                    | 0/? [00:00<…"
      ]
     },
     "metadata": {},
     "output_type": "display_data"
    },
    {
     "name": "stdout",
     "output_type": "stream",
     "text": [
      "[VAL] tas: RMSE=1.3065, Time-Mean RMSE=0.4999, Time-Stddev MAE=0.2323\n",
      "[VAL] pr: RMSE=1.9423, Time-Mean RMSE=0.2504, Time-Stddev MAE=0.8099\n"
     ]
    },
    {
     "data": {
      "application/vnd.jupyter.widget-view+json": {
       "model_id": "",
       "version_major": 2,
       "version_minor": 0
      },
      "text/plain": [
       "Validation: |                                                                                    | 0/? [00:00<…"
      ]
     },
     "metadata": {},
     "output_type": "display_data"
    },
    {
     "name": "stdout",
     "output_type": "stream",
     "text": [
      "[VAL] tas: RMSE=1.3323, Time-Mean RMSE=0.5635, Time-Stddev MAE=0.2906\n",
      "[VAL] pr: RMSE=1.9440, Time-Mean RMSE=0.2647, Time-Stddev MAE=0.8045\n"
     ]
    },
    {
     "data": {
      "application/vnd.jupyter.widget-view+json": {
       "model_id": "",
       "version_major": 2,
       "version_minor": 0
      },
      "text/plain": [
       "Validation: |                                                                                    | 0/? [00:00<…"
      ]
     },
     "metadata": {},
     "output_type": "display_data"
    },
    {
     "name": "stdout",
     "output_type": "stream",
     "text": [
      "[VAL] tas: RMSE=1.4557, Time-Mean RMSE=0.7485, Time-Stddev MAE=0.2266\n",
      "[VAL] pr: RMSE=1.9414, Time-Mean RMSE=0.2753, Time-Stddev MAE=0.7821\n"
     ]
    },
    {
     "data": {
      "application/vnd.jupyter.widget-view+json": {
       "model_id": "",
       "version_major": 2,
       "version_minor": 0
      },
      "text/plain": [
       "Validation: |                                                                                    | 0/? [00:00<…"
      ]
     },
     "metadata": {},
     "output_type": "display_data"
    },
    {
     "name": "stdout",
     "output_type": "stream",
     "text": [
      "[VAL] tas: RMSE=1.4735, Time-Mean RMSE=0.5041, Time-Stddev MAE=0.2487\n",
      "[VAL] pr: RMSE=1.9658, Time-Mean RMSE=0.2411, Time-Stddev MAE=0.8325\n"
     ]
    },
    {
     "data": {
      "application/vnd.jupyter.widget-view+json": {
       "model_id": "",
       "version_major": 2,
       "version_minor": 0
      },
      "text/plain": [
       "Validation: |                                                                                    | 0/? [00:00<…"
      ]
     },
     "metadata": {},
     "output_type": "display_data"
    },
    {
     "name": "stdout",
     "output_type": "stream",
     "text": [
      "[VAL] tas: RMSE=1.8701, Time-Mean RMSE=0.8842, Time-Stddev MAE=0.2367\n",
      "[VAL] pr: RMSE=2.0520, Time-Mean RMSE=0.2880, Time-Stddev MAE=0.8132\n"
     ]
    },
    {
     "data": {
      "application/vnd.jupyter.widget-view+json": {
       "model_id": "",
       "version_major": 2,
       "version_minor": 0
      },
      "text/plain": [
       "Validation: |                                                                                    | 0/? [00:00<…"
      ]
     },
     "metadata": {},
     "output_type": "display_data"
    },
    {
     "name": "stdout",
     "output_type": "stream",
     "text": [
      "[VAL] tas: RMSE=1.2913, Time-Mean RMSE=0.4081, Time-Stddev MAE=0.2408\n",
      "[VAL] pr: RMSE=1.9376, Time-Mean RMSE=0.2432, Time-Stddev MAE=0.7680\n"
     ]
    },
    {
     "data": {
      "application/vnd.jupyter.widget-view+json": {
       "model_id": "",
       "version_major": 2,
       "version_minor": 0
      },
      "text/plain": [
       "Validation: |                                                                                    | 0/? [00:00<…"
      ]
     },
     "metadata": {},
     "output_type": "display_data"
    },
    {
     "name": "stdout",
     "output_type": "stream",
     "text": [
      "[VAL] tas: RMSE=1.3785, Time-Mean RMSE=0.6119, Time-Stddev MAE=0.2833\n",
      "[VAL] pr: RMSE=1.9469, Time-Mean RMSE=0.3097, Time-Stddev MAE=0.7929\n"
     ]
    },
    {
     "data": {
      "application/vnd.jupyter.widget-view+json": {
       "model_id": "",
       "version_major": 2,
       "version_minor": 0
      },
      "text/plain": [
       "Validation: |                                                                                    | 0/? [00:00<…"
      ]
     },
     "metadata": {},
     "output_type": "display_data"
    },
    {
     "name": "stdout",
     "output_type": "stream",
     "text": [
      "[VAL] tas: RMSE=1.3139, Time-Mean RMSE=0.5931, Time-Stddev MAE=0.2804\n",
      "[VAL] pr: RMSE=1.9415, Time-Mean RMSE=0.2704, Time-Stddev MAE=0.8067\n"
     ]
    },
    {
     "data": {
      "application/vnd.jupyter.widget-view+json": {
       "model_id": "",
       "version_major": 2,
       "version_minor": 0
      },
      "text/plain": [
       "Validation: |                                                                                    | 0/? [00:00<…"
      ]
     },
     "metadata": {},
     "output_type": "display_data"
    },
    {
     "name": "stdout",
     "output_type": "stream",
     "text": [
      "[VAL] tas: RMSE=1.4272, Time-Mean RMSE=0.5686, Time-Stddev MAE=0.2899\n",
      "[VAL] pr: RMSE=1.9506, Time-Mean RMSE=0.2659, Time-Stddev MAE=0.7971\n"
     ]
    },
    {
     "data": {
      "application/vnd.jupyter.widget-view+json": {
       "model_id": "",
       "version_major": 2,
       "version_minor": 0
      },
      "text/plain": [
       "Validation: |                                                                                    | 0/? [00:00<…"
      ]
     },
     "metadata": {},
     "output_type": "display_data"
    },
    {
     "name": "stdout",
     "output_type": "stream",
     "text": [
      "[VAL] tas: RMSE=1.7260, Time-Mean RMSE=0.9050, Time-Stddev MAE=0.3081\n",
      "[VAL] pr: RMSE=1.9982, Time-Mean RMSE=0.2935, Time-Stddev MAE=0.8485\n"
     ]
    },
    {
     "data": {
      "application/vnd.jupyter.widget-view+json": {
       "model_id": "",
       "version_major": 2,
       "version_minor": 0
      },
      "text/plain": [
       "Validation: |                                                                                    | 0/? [00:00<…"
      ]
     },
     "metadata": {},
     "output_type": "display_data"
    },
    {
     "name": "stdout",
     "output_type": "stream",
     "text": [
      "[VAL] tas: RMSE=1.4205, Time-Mean RMSE=0.7442, Time-Stddev MAE=0.2519\n",
      "[VAL] pr: RMSE=1.9562, Time-Mean RMSE=0.2858, Time-Stddev MAE=0.8307\n"
     ]
    },
    {
     "data": {
      "application/vnd.jupyter.widget-view+json": {
       "model_id": "",
       "version_major": 2,
       "version_minor": 0
      },
      "text/plain": [
       "Validation: |                                                                                    | 0/? [00:00<…"
      ]
     },
     "metadata": {},
     "output_type": "display_data"
    },
    {
     "name": "stdout",
     "output_type": "stream",
     "text": [
      "[VAL] tas: RMSE=1.3729, Time-Mean RMSE=0.5895, Time-Stddev MAE=0.2995\n",
      "[VAL] pr: RMSE=1.9411, Time-Mean RMSE=0.2411, Time-Stddev MAE=0.8185\n"
     ]
    },
    {
     "data": {
      "application/vnd.jupyter.widget-view+json": {
       "model_id": "",
       "version_major": 2,
       "version_minor": 0
      },
      "text/plain": [
       "Validation: |                                                                                    | 0/? [00:00<…"
      ]
     },
     "metadata": {},
     "output_type": "display_data"
    },
    {
     "name": "stdout",
     "output_type": "stream",
     "text": [
      "[VAL] tas: RMSE=1.3737, Time-Mean RMSE=0.5969, Time-Stddev MAE=0.3015\n",
      "[VAL] pr: RMSE=1.9469, Time-Mean RMSE=0.2364, Time-Stddev MAE=0.8462\n"
     ]
    },
    {
     "data": {
      "application/vnd.jupyter.widget-view+json": {
       "model_id": "",
       "version_major": 2,
       "version_minor": 0
      },
      "text/plain": [
       "Validation: |                                                                                    | 0/? [00:00<…"
      ]
     },
     "metadata": {},
     "output_type": "display_data"
    },
    {
     "name": "stdout",
     "output_type": "stream",
     "text": [
      "[VAL] tas: RMSE=1.3496, Time-Mean RMSE=0.6279, Time-Stddev MAE=0.2223\n",
      "[VAL] pr: RMSE=1.9445, Time-Mean RMSE=0.2751, Time-Stddev MAE=0.7974\n"
     ]
    },
    {
     "data": {
      "application/vnd.jupyter.widget-view+json": {
       "model_id": "",
       "version_major": 2,
       "version_minor": 0
      },
      "text/plain": [
       "Validation: |                                                                                    | 0/? [00:00<…"
      ]
     },
     "metadata": {},
     "output_type": "display_data"
    },
    {
     "name": "stdout",
     "output_type": "stream",
     "text": [
      "[VAL] tas: RMSE=1.4608, Time-Mean RMSE=0.8254, Time-Stddev MAE=0.2234\n",
      "[VAL] pr: RMSE=1.9439, Time-Mean RMSE=0.2674, Time-Stddev MAE=0.7860\n"
     ]
    },
    {
     "data": {
      "application/vnd.jupyter.widget-view+json": {
       "model_id": "",
       "version_major": 2,
       "version_minor": 0
      },
      "text/plain": [
       "Validation: |                                                                                    | 0/? [00:00<…"
      ]
     },
     "metadata": {},
     "output_type": "display_data"
    },
    {
     "name": "stdout",
     "output_type": "stream",
     "text": [
      "[VAL] tas: RMSE=1.4106, Time-Mean RMSE=0.7182, Time-Stddev MAE=0.2765\n",
      "[VAL] pr: RMSE=1.9342, Time-Mean RMSE=0.2364, Time-Stddev MAE=0.7729\n"
     ]
    },
    {
     "data": {
      "application/vnd.jupyter.widget-view+json": {
       "model_id": "",
       "version_major": 2,
       "version_minor": 0
      },
      "text/plain": [
       "Validation: |                                                                                    | 0/? [00:00<…"
      ]
     },
     "metadata": {},
     "output_type": "display_data"
    },
    {
     "name": "stdout",
     "output_type": "stream",
     "text": [
      "[VAL] tas: RMSE=1.3997, Time-Mean RMSE=0.7054, Time-Stddev MAE=0.2382\n",
      "[VAL] pr: RMSE=1.9370, Time-Mean RMSE=0.2382, Time-Stddev MAE=0.7939\n"
     ]
    },
    {
     "data": {
      "application/vnd.jupyter.widget-view+json": {
       "model_id": "",
       "version_major": 2,
       "version_minor": 0
      },
      "text/plain": [
       "Validation: |                                                                                    | 0/? [00:00<…"
      ]
     },
     "metadata": {},
     "output_type": "display_data"
    },
    {
     "name": "stdout",
     "output_type": "stream",
     "text": [
      "[VAL] tas: RMSE=1.3669, Time-Mean RMSE=0.6930, Time-Stddev MAE=0.1978\n",
      "[VAL] pr: RMSE=1.9425, Time-Mean RMSE=0.2580, Time-Stddev MAE=0.7872\n"
     ]
    },
    {
     "data": {
      "application/vnd.jupyter.widget-view+json": {
       "model_id": "",
       "version_major": 2,
       "version_minor": 0
      },
      "text/plain": [
       "Validation: |                                                                                    | 0/? [00:00<…"
      ]
     },
     "metadata": {},
     "output_type": "display_data"
    },
    {
     "name": "stdout",
     "output_type": "stream",
     "text": [
      "[VAL] tas: RMSE=1.3310, Time-Mean RMSE=0.5702, Time-Stddev MAE=0.2274\n",
      "[VAL] pr: RMSE=1.9397, Time-Mean RMSE=0.2478, Time-Stddev MAE=0.7925\n"
     ]
    },
    {
     "data": {
      "application/vnd.jupyter.widget-view+json": {
       "model_id": "",
       "version_major": 2,
       "version_minor": 0
      },
      "text/plain": [
       "Validation: |                                                                                    | 0/? [00:00<…"
      ]
     },
     "metadata": {},
     "output_type": "display_data"
    },
    {
     "name": "stdout",
     "output_type": "stream",
     "text": [
      "[VAL] tas: RMSE=1.2573, Time-Mean RMSE=0.4654, Time-Stddev MAE=0.2015\n",
      "[VAL] pr: RMSE=1.9380, Time-Mean RMSE=0.2544, Time-Stddev MAE=0.7762\n"
     ]
    },
    {
     "data": {
      "application/vnd.jupyter.widget-view+json": {
       "model_id": "",
       "version_major": 2,
       "version_minor": 0
      },
      "text/plain": [
       "Validation: |                                                                                    | 0/? [00:00<…"
      ]
     },
     "metadata": {},
     "output_type": "display_data"
    },
    {
     "name": "stdout",
     "output_type": "stream",
     "text": [
      "[VAL] tas: RMSE=1.2883, Time-Mean RMSE=0.5333, Time-Stddev MAE=0.2153\n",
      "[VAL] pr: RMSE=1.9379, Time-Mean RMSE=0.2679, Time-Stddev MAE=0.7605\n"
     ]
    },
    {
     "data": {
      "application/vnd.jupyter.widget-view+json": {
       "model_id": "",
       "version_major": 2,
       "version_minor": 0
      },
      "text/plain": [
       "Validation: |                                                                                    | 0/? [00:00<…"
      ]
     },
     "metadata": {},
     "output_type": "display_data"
    },
    {
     "name": "stdout",
     "output_type": "stream",
     "text": [
      "[VAL] tas: RMSE=1.4745, Time-Mean RMSE=0.7884, Time-Stddev MAE=0.1823\n",
      "[VAL] pr: RMSE=1.9372, Time-Mean RMSE=0.2344, Time-Stddev MAE=0.7766\n"
     ]
    },
    {
     "data": {
      "application/vnd.jupyter.widget-view+json": {
       "model_id": "",
       "version_major": 2,
       "version_minor": 0
      },
      "text/plain": [
       "Validation: |                                                                                    | 0/? [00:00<…"
      ]
     },
     "metadata": {},
     "output_type": "display_data"
    },
    {
     "name": "stdout",
     "output_type": "stream",
     "text": [
      "[VAL] tas: RMSE=1.3238, Time-Mean RMSE=0.5853, Time-Stddev MAE=0.2703\n",
      "[VAL] pr: RMSE=1.9379, Time-Mean RMSE=0.2519, Time-Stddev MAE=0.7853\n"
     ]
    },
    {
     "data": {
      "application/vnd.jupyter.widget-view+json": {
       "model_id": "",
       "version_major": 2,
       "version_minor": 0
      },
      "text/plain": [
       "Validation: |                                                                                    | 0/? [00:00<…"
      ]
     },
     "metadata": {},
     "output_type": "display_data"
    },
    {
     "name": "stdout",
     "output_type": "stream",
     "text": [
      "[VAL] tas: RMSE=1.3141, Time-Mean RMSE=0.5722, Time-Stddev MAE=0.2859\n",
      "[VAL] pr: RMSE=1.9420, Time-Mean RMSE=0.2603, Time-Stddev MAE=0.8137\n"
     ]
    },
    {
     "data": {
      "application/vnd.jupyter.widget-view+json": {
       "model_id": "",
       "version_major": 2,
       "version_minor": 0
      },
      "text/plain": [
       "Validation: |                                                                                    | 0/? [00:00<…"
      ]
     },
     "metadata": {},
     "output_type": "display_data"
    },
    {
     "name": "stdout",
     "output_type": "stream",
     "text": [
      "[VAL] tas: RMSE=1.2826, Time-Mean RMSE=0.4471, Time-Stddev MAE=0.2357\n",
      "[VAL] pr: RMSE=1.9454, Time-Mean RMSE=0.2736, Time-Stddev MAE=0.7884\n"
     ]
    },
    {
     "data": {
      "application/vnd.jupyter.widget-view+json": {
       "model_id": "",
       "version_major": 2,
       "version_minor": 0
      },
      "text/plain": [
       "Validation: |                                                                                    | 0/? [00:00<…"
      ]
     },
     "metadata": {},
     "output_type": "display_data"
    },
    {
     "name": "stdout",
     "output_type": "stream",
     "text": [
      "[VAL] tas: RMSE=1.5032, Time-Mean RMSE=0.7175, Time-Stddev MAE=0.2713\n",
      "[VAL] pr: RMSE=1.9593, Time-Mean RMSE=0.2947, Time-Stddev MAE=0.8273\n"
     ]
    },
    {
     "data": {
      "application/vnd.jupyter.widget-view+json": {
       "model_id": "",
       "version_major": 2,
       "version_minor": 0
      },
      "text/plain": [
       "Validation: |                                                                                    | 0/? [00:00<…"
      ]
     },
     "metadata": {},
     "output_type": "display_data"
    },
    {
     "name": "stdout",
     "output_type": "stream",
     "text": [
      "[VAL] tas: RMSE=1.5885, Time-Mean RMSE=0.5172, Time-Stddev MAE=0.2647\n",
      "[VAL] pr: RMSE=1.9911, Time-Mean RMSE=0.2820, Time-Stddev MAE=0.8022\n"
     ]
    },
    {
     "data": {
      "application/vnd.jupyter.widget-view+json": {
       "model_id": "",
       "version_major": 2,
       "version_minor": 0
      },
      "text/plain": [
       "Validation: |                                                                                    | 0/? [00:00<…"
      ]
     },
     "metadata": {},
     "output_type": "display_data"
    },
    {
     "name": "stdout",
     "output_type": "stream",
     "text": [
      "[VAL] tas: RMSE=1.7843, Time-Mean RMSE=0.6864, Time-Stddev MAE=0.3303\n",
      "[VAL] pr: RMSE=2.0224, Time-Mean RMSE=0.2596, Time-Stddev MAE=0.8232\n"
     ]
    },
    {
     "data": {
      "application/vnd.jupyter.widget-view+json": {
       "model_id": "",
       "version_major": 2,
       "version_minor": 0
      },
      "text/plain": [
       "Validation: |                                                                                    | 0/? [00:00<…"
      ]
     },
     "metadata": {},
     "output_type": "display_data"
    },
    {
     "name": "stdout",
     "output_type": "stream",
     "text": [
      "[VAL] tas: RMSE=1.6812, Time-Mean RMSE=1.0327, Time-Stddev MAE=0.2307\n",
      "[VAL] pr: RMSE=1.9821, Time-Mean RMSE=0.3655, Time-Stddev MAE=0.7852\n"
     ]
    },
    {
     "data": {
      "application/vnd.jupyter.widget-view+json": {
       "model_id": "",
       "version_major": 2,
       "version_minor": 0
      },
      "text/plain": [
       "Validation: |                                                                                    | 0/? [00:00<…"
      ]
     },
     "metadata": {},
     "output_type": "display_data"
    },
    {
     "name": "stdout",
     "output_type": "stream",
     "text": [
      "[VAL] tas: RMSE=2.4132, Time-Mean RMSE=0.6381, Time-Stddev MAE=0.3000\n",
      "[VAL] pr: RMSE=2.2444, Time-Mean RMSE=0.3061, Time-Stddev MAE=0.8704\n"
     ]
    },
    {
     "data": {
      "application/vnd.jupyter.widget-view+json": {
       "model_id": "",
       "version_major": 2,
       "version_minor": 0
      },
      "text/plain": [
       "Validation: |                                                                                    | 0/? [00:00<…"
      ]
     },
     "metadata": {},
     "output_type": "display_data"
    },
    {
     "name": "stdout",
     "output_type": "stream",
     "text": [
      "[VAL] tas: RMSE=1.5836, Time-Mean RMSE=0.8108, Time-Stddev MAE=0.2145\n",
      "[VAL] pr: RMSE=1.9640, Time-Mean RMSE=0.2922, Time-Stddev MAE=0.7995\n"
     ]
    },
    {
     "data": {
      "application/vnd.jupyter.widget-view+json": {
       "model_id": "",
       "version_major": 2,
       "version_minor": 0
      },
      "text/plain": [
       "Validation: |                                                                                    | 0/? [00:00<…"
      ]
     },
     "metadata": {},
     "output_type": "display_data"
    },
    {
     "name": "stdout",
     "output_type": "stream",
     "text": [
      "[VAL] tas: RMSE=1.6178, Time-Mean RMSE=1.0199, Time-Stddev MAE=0.2553\n",
      "[VAL] pr: RMSE=1.9524, Time-Mean RMSE=0.2847, Time-Stddev MAE=0.8060\n"
     ]
    },
    {
     "data": {
      "application/vnd.jupyter.widget-view+json": {
       "model_id": "",
       "version_major": 2,
       "version_minor": 0
      },
      "text/plain": [
       "Validation: |                                                                                    | 0/? [00:00<…"
      ]
     },
     "metadata": {},
     "output_type": "display_data"
    },
    {
     "name": "stdout",
     "output_type": "stream",
     "text": [
      "[VAL] tas: RMSE=1.4269, Time-Mean RMSE=0.6683, Time-Stddev MAE=0.1643\n",
      "[VAL] pr: RMSE=1.9628, Time-Mean RMSE=0.2770, Time-Stddev MAE=0.7662\n"
     ]
    },
    {
     "data": {
      "application/vnd.jupyter.widget-view+json": {
       "model_id": "",
       "version_major": 2,
       "version_minor": 0
      },
      "text/plain": [
       "Validation: |                                                                                    | 0/? [00:00<…"
      ]
     },
     "metadata": {},
     "output_type": "display_data"
    },
    {
     "name": "stdout",
     "output_type": "stream",
     "text": [
      "[VAL] tas: RMSE=1.4879, Time-Mean RMSE=0.6603, Time-Stddev MAE=0.3304\n",
      "[VAL] pr: RMSE=1.9620, Time-Mean RMSE=0.2932, Time-Stddev MAE=0.8343\n"
     ]
    },
    {
     "data": {
      "application/vnd.jupyter.widget-view+json": {
       "model_id": "",
       "version_major": 2,
       "version_minor": 0
      },
      "text/plain": [
       "Validation: |                                                                                    | 0/? [00:00<…"
      ]
     },
     "metadata": {},
     "output_type": "display_data"
    },
    {
     "name": "stdout",
     "output_type": "stream",
     "text": [
      "[VAL] tas: RMSE=1.2698, Time-Mean RMSE=0.4103, Time-Stddev MAE=0.1761\n",
      "[VAL] pr: RMSE=1.9414, Time-Mean RMSE=0.2522, Time-Stddev MAE=0.7709\n"
     ]
    },
    {
     "data": {
      "application/vnd.jupyter.widget-view+json": {
       "model_id": "",
       "version_major": 2,
       "version_minor": 0
      },
      "text/plain": [
       "Validation: |                                                                                    | 0/? [00:00<…"
      ]
     },
     "metadata": {},
     "output_type": "display_data"
    },
    {
     "name": "stdout",
     "output_type": "stream",
     "text": [
      "[VAL] tas: RMSE=1.5037, Time-Mean RMSE=0.7663, Time-Stddev MAE=0.3124\n",
      "[VAL] pr: RMSE=1.9567, Time-Mean RMSE=0.2605, Time-Stddev MAE=0.8221\n"
     ]
    },
    {
     "data": {
      "application/vnd.jupyter.widget-view+json": {
       "model_id": "",
       "version_major": 2,
       "version_minor": 0
      },
      "text/plain": [
       "Validation: |                                                                                    | 0/? [00:00<…"
      ]
     },
     "metadata": {},
     "output_type": "display_data"
    },
    {
     "name": "stdout",
     "output_type": "stream",
     "text": [
      "[VAL] tas: RMSE=1.4988, Time-Mean RMSE=0.8556, Time-Stddev MAE=0.2459\n",
      "[VAL] pr: RMSE=1.9497, Time-Mean RMSE=0.3015, Time-Stddev MAE=0.7923\n"
     ]
    },
    {
     "data": {
      "application/vnd.jupyter.widget-view+json": {
       "model_id": "",
       "version_major": 2,
       "version_minor": 0
      },
      "text/plain": [
       "Validation: |                                                                                    | 0/? [00:00<…"
      ]
     },
     "metadata": {},
     "output_type": "display_data"
    },
    {
     "name": "stdout",
     "output_type": "stream",
     "text": [
      "[VAL] tas: RMSE=1.3633, Time-Mean RMSE=0.6243, Time-Stddev MAE=0.2660\n",
      "[VAL] pr: RMSE=1.9445, Time-Mean RMSE=0.2739, Time-Stddev MAE=0.7839\n"
     ]
    },
    {
     "data": {
      "application/vnd.jupyter.widget-view+json": {
       "model_id": "",
       "version_major": 2,
       "version_minor": 0
      },
      "text/plain": [
       "Validation: |                                                                                    | 0/? [00:00<…"
      ]
     },
     "metadata": {},
     "output_type": "display_data"
    },
    {
     "name": "stdout",
     "output_type": "stream",
     "text": [
      "[VAL] tas: RMSE=1.4404, Time-Mean RMSE=0.7541, Time-Stddev MAE=0.2376\n",
      "[VAL] pr: RMSE=1.9473, Time-Mean RMSE=0.2862, Time-Stddev MAE=0.7790\n"
     ]
    },
    {
     "data": {
      "application/vnd.jupyter.widget-view+json": {
       "model_id": "",
       "version_major": 2,
       "version_minor": 0
      },
      "text/plain": [
       "Validation: |                                                                                    | 0/? [00:00<…"
      ]
     },
     "metadata": {},
     "output_type": "display_data"
    },
    {
     "name": "stdout",
     "output_type": "stream",
     "text": [
      "[VAL] tas: RMSE=1.3232, Time-Mean RMSE=0.5612, Time-Stddev MAE=0.1814\n",
      "[VAL] pr: RMSE=1.9418, Time-Mean RMSE=0.2637, Time-Stddev MAE=0.7712\n"
     ]
    },
    {
     "data": {
      "application/vnd.jupyter.widget-view+json": {
       "model_id": "",
       "version_major": 2,
       "version_minor": 0
      },
      "text/plain": [
       "Validation: |                                                                                    | 0/? [00:00<…"
      ]
     },
     "metadata": {},
     "output_type": "display_data"
    },
    {
     "name": "stdout",
     "output_type": "stream",
     "text": [
      "[VAL] tas: RMSE=1.3111, Time-Mean RMSE=0.5064, Time-Stddev MAE=0.1802\n",
      "[VAL] pr: RMSE=1.9392, Time-Mean RMSE=0.2605, Time-Stddev MAE=0.7665\n"
     ]
    },
    {
     "data": {
      "application/vnd.jupyter.widget-view+json": {
       "model_id": "",
       "version_major": 2,
       "version_minor": 0
      },
      "text/plain": [
       "Validation: |                                                                                    | 0/? [00:00<…"
      ]
     },
     "metadata": {},
     "output_type": "display_data"
    },
    {
     "name": "stdout",
     "output_type": "stream",
     "text": [
      "[VAL] tas: RMSE=1.3431, Time-Mean RMSE=0.5410, Time-Stddev MAE=0.2598\n",
      "[VAL] pr: RMSE=1.9404, Time-Mean RMSE=0.2622, Time-Stddev MAE=0.7936\n"
     ]
    },
    {
     "data": {
      "application/vnd.jupyter.widget-view+json": {
       "model_id": "",
       "version_major": 2,
       "version_minor": 0
      },
      "text/plain": [
       "Validation: |                                                                                    | 0/? [00:00<…"
      ]
     },
     "metadata": {},
     "output_type": "display_data"
    },
    {
     "name": "stdout",
     "output_type": "stream",
     "text": [
      "[VAL] tas: RMSE=1.4025, Time-Mean RMSE=0.6965, Time-Stddev MAE=0.1564\n",
      "[VAL] pr: RMSE=1.9518, Time-Mean RMSE=0.2808, Time-Stddev MAE=0.7557\n"
     ]
    },
    {
     "data": {
      "application/vnd.jupyter.widget-view+json": {
       "model_id": "",
       "version_major": 2,
       "version_minor": 0
      },
      "text/plain": [
       "Validation: |                                                                                    | 0/? [00:00<…"
      ]
     },
     "metadata": {},
     "output_type": "display_data"
    },
    {
     "name": "stdout",
     "output_type": "stream",
     "text": [
      "[VAL] tas: RMSE=1.2201, Time-Mean RMSE=0.3546, Time-Stddev MAE=0.1846\n",
      "[VAL] pr: RMSE=1.9427, Time-Mean RMSE=0.2817, Time-Stddev MAE=0.7862\n"
     ]
    },
    {
     "data": {
      "application/vnd.jupyter.widget-view+json": {
       "model_id": "",
       "version_major": 2,
       "version_minor": 0
      },
      "text/plain": [
       "Validation: |                                                                                    | 0/? [00:00<…"
      ]
     },
     "metadata": {},
     "output_type": "display_data"
    },
    {
     "name": "stdout",
     "output_type": "stream",
     "text": [
      "[VAL] tas: RMSE=1.2920, Time-Mean RMSE=0.5558, Time-Stddev MAE=0.1966\n",
      "[VAL] pr: RMSE=1.9365, Time-Mean RMSE=0.2466, Time-Stddev MAE=0.7626\n"
     ]
    },
    {
     "data": {
      "application/vnd.jupyter.widget-view+json": {
       "model_id": "",
       "version_major": 2,
       "version_minor": 0
      },
      "text/plain": [
       "Validation: |                                                                                    | 0/? [00:00<…"
      ]
     },
     "metadata": {},
     "output_type": "display_data"
    },
    {
     "name": "stdout",
     "output_type": "stream",
     "text": [
      "[VAL] tas: RMSE=1.3676, Time-Mean RMSE=0.6689, Time-Stddev MAE=0.2264\n",
      "[VAL] pr: RMSE=1.9435, Time-Mean RMSE=0.2581, Time-Stddev MAE=0.8047\n"
     ]
    },
    {
     "data": {
      "application/vnd.jupyter.widget-view+json": {
       "model_id": "",
       "version_major": 2,
       "version_minor": 0
      },
      "text/plain": [
       "Validation: |                                                                                    | 0/? [00:00<…"
      ]
     },
     "metadata": {},
     "output_type": "display_data"
    },
    {
     "name": "stdout",
     "output_type": "stream",
     "text": [
      "[VAL] tas: RMSE=1.4350, Time-Mean RMSE=0.7366, Time-Stddev MAE=0.2436\n",
      "[VAL] pr: RMSE=1.9451, Time-Mean RMSE=0.2605, Time-Stddev MAE=0.7907\n"
     ]
    },
    {
     "data": {
      "application/vnd.jupyter.widget-view+json": {
       "model_id": "",
       "version_major": 2,
       "version_minor": 0
      },
      "text/plain": [
       "Validation: |                                                                                    | 0/? [00:00<…"
      ]
     },
     "metadata": {},
     "output_type": "display_data"
    },
    {
     "name": "stdout",
     "output_type": "stream",
     "text": [
      "[VAL] tas: RMSE=1.5323, Time-Mean RMSE=0.8865, Time-Stddev MAE=0.2576\n",
      "[VAL] pr: RMSE=1.9464, Time-Mean RMSE=0.2776, Time-Stddev MAE=0.7957\n"
     ]
    },
    {
     "data": {
      "application/vnd.jupyter.widget-view+json": {
       "model_id": "",
       "version_major": 2,
       "version_minor": 0
      },
      "text/plain": [
       "Validation: |                                                                                    | 0/? [00:00<…"
      ]
     },
     "metadata": {},
     "output_type": "display_data"
    },
    {
     "name": "stdout",
     "output_type": "stream",
     "text": [
      "[VAL] tas: RMSE=1.3870, Time-Mean RMSE=0.6978, Time-Stddev MAE=0.2226\n",
      "[VAL] pr: RMSE=1.9429, Time-Mean RMSE=0.2813, Time-Stddev MAE=0.7818\n"
     ]
    },
    {
     "data": {
      "application/vnd.jupyter.widget-view+json": {
       "model_id": "",
       "version_major": 2,
       "version_minor": 0
      },
      "text/plain": [
       "Validation: |                                                                                    | 0/? [00:00<…"
      ]
     },
     "metadata": {},
     "output_type": "display_data"
    },
    {
     "name": "stdout",
     "output_type": "stream",
     "text": [
      "[VAL] tas: RMSE=1.4057, Time-Mean RMSE=0.6217, Time-Stddev MAE=0.2581\n",
      "[VAL] pr: RMSE=1.9484, Time-Mean RMSE=0.2860, Time-Stddev MAE=0.7734\n"
     ]
    },
    {
     "data": {
      "application/vnd.jupyter.widget-view+json": {
       "model_id": "",
       "version_major": 2,
       "version_minor": 0
      },
      "text/plain": [
       "Validation: |                                                                                    | 0/? [00:00<…"
      ]
     },
     "metadata": {},
     "output_type": "display_data"
    },
    {
     "name": "stdout",
     "output_type": "stream",
     "text": [
      "[VAL] tas: RMSE=1.4104, Time-Mean RMSE=0.6867, Time-Stddev MAE=0.2897\n",
      "[VAL] pr: RMSE=1.9544, Time-Mean RMSE=0.2993, Time-Stddev MAE=0.8122\n"
     ]
    },
    {
     "data": {
      "application/vnd.jupyter.widget-view+json": {
       "model_id": "",
       "version_major": 2,
       "version_minor": 0
      },
      "text/plain": [
       "Validation: |                                                                                    | 0/? [00:00<…"
      ]
     },
     "metadata": {},
     "output_type": "display_data"
    },
    {
     "name": "stdout",
     "output_type": "stream",
     "text": [
      "[VAL] tas: RMSE=1.3456, Time-Mean RMSE=0.6186, Time-Stddev MAE=0.2286\n",
      "[VAL] pr: RMSE=1.9426, Time-Mean RMSE=0.2646, Time-Stddev MAE=0.7979\n"
     ]
    },
    {
     "data": {
      "application/vnd.jupyter.widget-view+json": {
       "model_id": "",
       "version_major": 2,
       "version_minor": 0
      },
      "text/plain": [
       "Validation: |                                                                                    | 0/? [00:00<…"
      ]
     },
     "metadata": {},
     "output_type": "display_data"
    },
    {
     "name": "stdout",
     "output_type": "stream",
     "text": [
      "[VAL] tas: RMSE=1.4105, Time-Mean RMSE=0.4593, Time-Stddev MAE=0.2872\n",
      "[VAL] pr: RMSE=1.9603, Time-Mean RMSE=0.2326, Time-Stddev MAE=0.8119\n"
     ]
    },
    {
     "data": {
      "application/vnd.jupyter.widget-view+json": {
       "model_id": "",
       "version_major": 2,
       "version_minor": 0
      },
      "text/plain": [
       "Validation: |                                                                                    | 0/? [00:00<…"
      ]
     },
     "metadata": {},
     "output_type": "display_data"
    },
    {
     "name": "stdout",
     "output_type": "stream",
     "text": [
      "[VAL] tas: RMSE=1.3203, Time-Mean RMSE=0.5563, Time-Stddev MAE=0.1780\n",
      "[VAL] pr: RMSE=1.9455, Time-Mean RMSE=0.2776, Time-Stddev MAE=0.7654\n"
     ]
    },
    {
     "data": {
      "application/vnd.jupyter.widget-view+json": {
       "model_id": "",
       "version_major": 2,
       "version_minor": 0
      },
      "text/plain": [
       "Validation: |                                                                                    | 0/? [00:00<…"
      ]
     },
     "metadata": {},
     "output_type": "display_data"
    },
    {
     "name": "stdout",
     "output_type": "stream",
     "text": [
      "[VAL] tas: RMSE=1.3176, Time-Mean RMSE=0.4864, Time-Stddev MAE=0.1765\n",
      "[VAL] pr: RMSE=1.9436, Time-Mean RMSE=0.2515, Time-Stddev MAE=0.7388\n"
     ]
    },
    {
     "data": {
      "application/vnd.jupyter.widget-view+json": {
       "model_id": "",
       "version_major": 2,
       "version_minor": 0
      },
      "text/plain": [
       "Validation: |                                                                                    | 0/? [00:00<…"
      ]
     },
     "metadata": {},
     "output_type": "display_data"
    },
    {
     "name": "stdout",
     "output_type": "stream",
     "text": [
      "[VAL] tas: RMSE=1.2863, Time-Mean RMSE=0.4993, Time-Stddev MAE=0.2081\n",
      "[VAL] pr: RMSE=1.9401, Time-Mean RMSE=0.2534, Time-Stddev MAE=0.7832\n"
     ]
    },
    {
     "data": {
      "application/vnd.jupyter.widget-view+json": {
       "model_id": "",
       "version_major": 2,
       "version_minor": 0
      },
      "text/plain": [
       "Validation: |                                                                                    | 0/? [00:00<…"
      ]
     },
     "metadata": {},
     "output_type": "display_data"
    },
    {
     "name": "stdout",
     "output_type": "stream",
     "text": [
      "[VAL] tas: RMSE=1.4123, Time-Mean RMSE=0.7578, Time-Stddev MAE=0.1913\n",
      "[VAL] pr: RMSE=1.9461, Time-Mean RMSE=0.2829, Time-Stddev MAE=0.7855\n"
     ]
    },
    {
     "data": {
      "application/vnd.jupyter.widget-view+json": {
       "model_id": "",
       "version_major": 2,
       "version_minor": 0
      },
      "text/plain": [
       "Validation: |                                                                                    | 0/? [00:00<…"
      ]
     },
     "metadata": {},
     "output_type": "display_data"
    },
    {
     "name": "stdout",
     "output_type": "stream",
     "text": [
      "[VAL] tas: RMSE=1.2732, Time-Mean RMSE=0.4607, Time-Stddev MAE=0.2075\n",
      "[VAL] pr: RMSE=1.9420, Time-Mean RMSE=0.2716, Time-Stddev MAE=0.7775\n"
     ]
    },
    {
     "data": {
      "application/vnd.jupyter.widget-view+json": {
       "model_id": "",
       "version_major": 2,
       "version_minor": 0
      },
      "text/plain": [
       "Validation: |                                                                                    | 0/? [00:00<…"
      ]
     },
     "metadata": {},
     "output_type": "display_data"
    },
    {
     "name": "stdout",
     "output_type": "stream",
     "text": [
      "[VAL] tas: RMSE=1.2244, Time-Mean RMSE=0.3946, Time-Stddev MAE=0.2106\n",
      "[VAL] pr: RMSE=1.9356, Time-Mean RMSE=0.2351, Time-Stddev MAE=0.7473\n"
     ]
    },
    {
     "data": {
      "application/vnd.jupyter.widget-view+json": {
       "model_id": "",
       "version_major": 2,
       "version_minor": 0
      },
      "text/plain": [
       "Validation: |                                                                                    | 0/? [00:00<…"
      ]
     },
     "metadata": {},
     "output_type": "display_data"
    },
    {
     "name": "stdout",
     "output_type": "stream",
     "text": [
      "[VAL] tas: RMSE=1.5250, Time-Mean RMSE=0.8879, Time-Stddev MAE=0.1945\n",
      "[VAL] pr: RMSE=1.9530, Time-Mean RMSE=0.2834, Time-Stddev MAE=0.7681\n"
     ]
    },
    {
     "data": {
      "application/vnd.jupyter.widget-view+json": {
       "model_id": "",
       "version_major": 2,
       "version_minor": 0
      },
      "text/plain": [
       "Validation: |                                                                                    | 0/? [00:00<…"
      ]
     },
     "metadata": {},
     "output_type": "display_data"
    },
    {
     "name": "stdout",
     "output_type": "stream",
     "text": [
      "[VAL] tas: RMSE=1.5976, Time-Mean RMSE=0.7655, Time-Stddev MAE=0.3486\n",
      "[VAL] pr: RMSE=1.9636, Time-Mean RMSE=0.3096, Time-Stddev MAE=0.8133\n"
     ]
    },
    {
     "data": {
      "application/vnd.jupyter.widget-view+json": {
       "model_id": "",
       "version_major": 2,
       "version_minor": 0
      },
      "text/plain": [
       "Validation: |                                                                                    | 0/? [00:00<…"
      ]
     },
     "metadata": {},
     "output_type": "display_data"
    },
    {
     "name": "stdout",
     "output_type": "stream",
     "text": [
      "[VAL] tas: RMSE=1.6096, Time-Mean RMSE=0.7742, Time-Stddev MAE=0.2206\n",
      "[VAL] pr: RMSE=2.0098, Time-Mean RMSE=0.2818, Time-Stddev MAE=0.7658\n"
     ]
    },
    {
     "data": {
      "application/vnd.jupyter.widget-view+json": {
       "model_id": "",
       "version_major": 2,
       "version_minor": 0
      },
      "text/plain": [
       "Validation: |                                                                                    | 0/? [00:00<…"
      ]
     },
     "metadata": {},
     "output_type": "display_data"
    },
    {
     "name": "stdout",
     "output_type": "stream",
     "text": [
      "[VAL] tas: RMSE=1.6153, Time-Mean RMSE=0.8003, Time-Stddev MAE=0.2054\n",
      "[VAL] pr: RMSE=1.9654, Time-Mean RMSE=0.2694, Time-Stddev MAE=0.8033\n"
     ]
    },
    {
     "data": {
      "application/vnd.jupyter.widget-view+json": {
       "model_id": "",
       "version_major": 2,
       "version_minor": 0
      },
      "text/plain": [
       "Validation: |                                                                                    | 0/? [00:00<…"
      ]
     },
     "metadata": {},
     "output_type": "display_data"
    },
    {
     "name": "stdout",
     "output_type": "stream",
     "text": [
      "[VAL] tas: RMSE=1.7669, Time-Mean RMSE=1.1927, Time-Stddev MAE=0.2390\n",
      "[VAL] pr: RMSE=1.9762, Time-Mean RMSE=0.3334, Time-Stddev MAE=0.8477\n"
     ]
    },
    {
     "data": {
      "application/vnd.jupyter.widget-view+json": {
       "model_id": "",
       "version_major": 2,
       "version_minor": 0
      },
      "text/plain": [
       "Validation: |                                                                                    | 0/? [00:00<…"
      ]
     },
     "metadata": {},
     "output_type": "display_data"
    },
    {
     "name": "stdout",
     "output_type": "stream",
     "text": [
      "[VAL] tas: RMSE=1.7120, Time-Mean RMSE=0.6952, Time-Stddev MAE=0.2431\n",
      "[VAL] pr: RMSE=2.0075, Time-Mean RMSE=0.3474, Time-Stddev MAE=0.8353\n"
     ]
    },
    {
     "data": {
      "application/vnd.jupyter.widget-view+json": {
       "model_id": "",
       "version_major": 2,
       "version_minor": 0
      },
      "text/plain": [
       "Validation: |                                                                                    | 0/? [00:00<…"
      ]
     },
     "metadata": {},
     "output_type": "display_data"
    },
    {
     "name": "stdout",
     "output_type": "stream",
     "text": [
      "[VAL] tas: RMSE=1.4281, Time-Mean RMSE=0.4930, Time-Stddev MAE=0.1636\n",
      "[VAL] pr: RMSE=1.9448, Time-Mean RMSE=0.2530, Time-Stddev MAE=0.7337\n"
     ]
    },
    {
     "data": {
      "application/vnd.jupyter.widget-view+json": {
       "model_id": "",
       "version_major": 2,
       "version_minor": 0
      },
      "text/plain": [
       "Validation: |                                                                                    | 0/? [00:00<…"
      ]
     },
     "metadata": {},
     "output_type": "display_data"
    },
    {
     "name": "stdout",
     "output_type": "stream",
     "text": [
      "[VAL] tas: RMSE=1.4158, Time-Mean RMSE=0.6267, Time-Stddev MAE=0.1973\n",
      "[VAL] pr: RMSE=1.9552, Time-Mean RMSE=0.2803, Time-Stddev MAE=0.7879\n"
     ]
    },
    {
     "data": {
      "application/vnd.jupyter.widget-view+json": {
       "model_id": "",
       "version_major": 2,
       "version_minor": 0
      },
      "text/plain": [
       "Validation: |                                                                                    | 0/? [00:00<…"
      ]
     },
     "metadata": {},
     "output_type": "display_data"
    },
    {
     "name": "stdout",
     "output_type": "stream",
     "text": [
      "[VAL] tas: RMSE=1.4993, Time-Mean RMSE=0.8516, Time-Stddev MAE=0.2216\n",
      "[VAL] pr: RMSE=1.9547, Time-Mean RMSE=0.2801, Time-Stddev MAE=0.7925\n"
     ]
    },
    {
     "data": {
      "application/vnd.jupyter.widget-view+json": {
       "model_id": "",
       "version_major": 2,
       "version_minor": 0
      },
      "text/plain": [
       "Validation: |                                                                                    | 0/? [00:00<…"
      ]
     },
     "metadata": {},
     "output_type": "display_data"
    },
    {
     "name": "stdout",
     "output_type": "stream",
     "text": [
      "[VAL] tas: RMSE=1.4098, Time-Mean RMSE=0.7604, Time-Stddev MAE=0.2048\n",
      "[VAL] pr: RMSE=1.9428, Time-Mean RMSE=0.2698, Time-Stddev MAE=0.7682\n"
     ]
    },
    {
     "data": {
      "application/vnd.jupyter.widget-view+json": {
       "model_id": "",
       "version_major": 2,
       "version_minor": 0
      },
      "text/plain": [
       "Validation: |                                                                                    | 0/? [00:00<…"
      ]
     },
     "metadata": {},
     "output_type": "display_data"
    },
    {
     "name": "stdout",
     "output_type": "stream",
     "text": [
      "[VAL] tas: RMSE=1.3122, Time-Mean RMSE=0.5406, Time-Stddev MAE=0.1999\n",
      "[VAL] pr: RMSE=1.9536, Time-Mean RMSE=0.2669, Time-Stddev MAE=0.7718\n"
     ]
    },
    {
     "data": {
      "application/vnd.jupyter.widget-view+json": {
       "model_id": "",
       "version_major": 2,
       "version_minor": 0
      },
      "text/plain": [
       "Validation: |                                                                                    | 0/? [00:00<…"
      ]
     },
     "metadata": {},
     "output_type": "display_data"
    },
    {
     "name": "stdout",
     "output_type": "stream",
     "text": [
      "[VAL] tas: RMSE=1.5630, Time-Mean RMSE=0.9271, Time-Stddev MAE=0.2109\n",
      "[VAL] pr: RMSE=1.9633, Time-Mean RMSE=0.3075, Time-Stddev MAE=0.7830\n"
     ]
    },
    {
     "data": {
      "application/vnd.jupyter.widget-view+json": {
       "model_id": "",
       "version_major": 2,
       "version_minor": 0
      },
      "text/plain": [
       "Validation: |                                                                                    | 0/? [00:00<…"
      ]
     },
     "metadata": {},
     "output_type": "display_data"
    },
    {
     "name": "stdout",
     "output_type": "stream",
     "text": [
      "[VAL] tas: RMSE=1.3607, Time-Mean RMSE=0.5738, Time-Stddev MAE=0.2093\n",
      "[VAL] pr: RMSE=1.9390, Time-Mean RMSE=0.2311, Time-Stddev MAE=0.7613\n"
     ]
    },
    {
     "data": {
      "application/vnd.jupyter.widget-view+json": {
       "model_id": "",
       "version_major": 2,
       "version_minor": 0
      },
      "text/plain": [
       "Validation: |                                                                                    | 0/? [00:00<…"
      ]
     },
     "metadata": {},
     "output_type": "display_data"
    },
    {
     "name": "stdout",
     "output_type": "stream",
     "text": [
      "[VAL] tas: RMSE=1.5451, Time-Mean RMSE=0.8145, Time-Stddev MAE=0.2703\n",
      "[VAL] pr: RMSE=1.9542, Time-Mean RMSE=0.2833, Time-Stddev MAE=0.7783\n"
     ]
    },
    {
     "data": {
      "application/vnd.jupyter.widget-view+json": {
       "model_id": "",
       "version_major": 2,
       "version_minor": 0
      },
      "text/plain": [
       "Validation: |                                                                                    | 0/? [00:00<…"
      ]
     },
     "metadata": {},
     "output_type": "display_data"
    },
    {
     "name": "stdout",
     "output_type": "stream",
     "text": [
      "[VAL] tas: RMSE=1.3538, Time-Mean RMSE=0.5085, Time-Stddev MAE=0.1825\n",
      "[VAL] pr: RMSE=1.9421, Time-Mean RMSE=0.2679, Time-Stddev MAE=0.7698\n"
     ]
    },
    {
     "data": {
      "application/vnd.jupyter.widget-view+json": {
       "model_id": "",
       "version_major": 2,
       "version_minor": 0
      },
      "text/plain": [
       "Validation: |                                                                                    | 0/? [00:00<…"
      ]
     },
     "metadata": {},
     "output_type": "display_data"
    },
    {
     "name": "stdout",
     "output_type": "stream",
     "text": [
      "[VAL] tas: RMSE=1.3733, Time-Mean RMSE=0.5301, Time-Stddev MAE=0.2606\n",
      "[VAL] pr: RMSE=1.9448, Time-Mean RMSE=0.2515, Time-Stddev MAE=0.7833\n"
     ]
    },
    {
     "data": {
      "application/vnd.jupyter.widget-view+json": {
       "model_id": "",
       "version_major": 2,
       "version_minor": 0
      },
      "text/plain": [
       "Validation: |                                                                                    | 0/? [00:00<…"
      ]
     },
     "metadata": {},
     "output_type": "display_data"
    },
    {
     "name": "stdout",
     "output_type": "stream",
     "text": [
      "[VAL] tas: RMSE=1.2750, Time-Mean RMSE=0.5356, Time-Stddev MAE=0.2101\n",
      "[VAL] pr: RMSE=1.9370, Time-Mean RMSE=0.2528, Time-Stddev MAE=0.7676\n"
     ]
    },
    {
     "data": {
      "application/vnd.jupyter.widget-view+json": {
       "model_id": "",
       "version_major": 2,
       "version_minor": 0
      },
      "text/plain": [
       "Validation: |                                                                                    | 0/? [00:00<…"
      ]
     },
     "metadata": {},
     "output_type": "display_data"
    },
    {
     "name": "stdout",
     "output_type": "stream",
     "text": [
      "[VAL] tas: RMSE=1.5312, Time-Mean RMSE=0.6144, Time-Stddev MAE=0.1700\n",
      "[VAL] pr: RMSE=1.9666, Time-Mean RMSE=0.2488, Time-Stddev MAE=0.7675\n"
     ]
    },
    {
     "data": {
      "application/vnd.jupyter.widget-view+json": {
       "model_id": "",
       "version_major": 2,
       "version_minor": 0
      },
      "text/plain": [
       "Validation: |                                                                                    | 0/? [00:00<…"
      ]
     },
     "metadata": {},
     "output_type": "display_data"
    },
    {
     "name": "stdout",
     "output_type": "stream",
     "text": [
      "[VAL] tas: RMSE=1.4320, Time-Mean RMSE=0.3924, Time-Stddev MAE=0.1833\n",
      "[VAL] pr: RMSE=1.9439, Time-Mean RMSE=0.2313, Time-Stddev MAE=0.7620\n"
     ]
    },
    {
     "data": {
      "application/vnd.jupyter.widget-view+json": {
       "model_id": "",
       "version_major": 2,
       "version_minor": 0
      },
      "text/plain": [
       "Validation: |                                                                                    | 0/? [00:00<…"
      ]
     },
     "metadata": {},
     "output_type": "display_data"
    },
    {
     "name": "stdout",
     "output_type": "stream",
     "text": [
      "[VAL] tas: RMSE=1.3599, Time-Mean RMSE=0.5337, Time-Stddev MAE=0.2190\n",
      "[VAL] pr: RMSE=1.9409, Time-Mean RMSE=0.2323, Time-Stddev MAE=0.7533\n"
     ]
    },
    {
     "data": {
      "application/vnd.jupyter.widget-view+json": {
       "model_id": "",
       "version_major": 2,
       "version_minor": 0
      },
      "text/plain": [
       "Validation: |                                                                                    | 0/? [00:00<…"
      ]
     },
     "metadata": {},
     "output_type": "display_data"
    },
    {
     "name": "stdout",
     "output_type": "stream",
     "text": [
      "[VAL] tas: RMSE=1.3937, Time-Mean RMSE=0.4426, Time-Stddev MAE=0.2872\n",
      "[VAL] pr: RMSE=1.9390, Time-Mean RMSE=0.2333, Time-Stddev MAE=0.7429\n"
     ]
    },
    {
     "data": {
      "application/vnd.jupyter.widget-view+json": {
       "model_id": "",
       "version_major": 2,
       "version_minor": 0
      },
      "text/plain": [
       "Validation: |                                                                                    | 0/? [00:00<…"
      ]
     },
     "metadata": {},
     "output_type": "display_data"
    },
    {
     "name": "stdout",
     "output_type": "stream",
     "text": [
      "[VAL] tas: RMSE=1.4554, Time-Mean RMSE=0.8053, Time-Stddev MAE=0.2275\n",
      "[VAL] pr: RMSE=1.9488, Time-Mean RMSE=0.2850, Time-Stddev MAE=0.7863\n"
     ]
    },
    {
     "data": {
      "application/vnd.jupyter.widget-view+json": {
       "model_id": "",
       "version_major": 2,
       "version_minor": 0
      },
      "text/plain": [
       "Validation: |                                                                                    | 0/? [00:00<…"
      ]
     },
     "metadata": {},
     "output_type": "display_data"
    },
    {
     "name": "stdout",
     "output_type": "stream",
     "text": [
      "[VAL] tas: RMSE=1.3663, Time-Mean RMSE=0.6064, Time-Stddev MAE=0.1939\n",
      "[VAL] pr: RMSE=1.9448, Time-Mean RMSE=0.2559, Time-Stddev MAE=0.7738\n"
     ]
    },
    {
     "data": {
      "application/vnd.jupyter.widget-view+json": {
       "model_id": "",
       "version_major": 2,
       "version_minor": 0
      },
      "text/plain": [
       "Validation: |                                                                                    | 0/? [00:00<…"
      ]
     },
     "metadata": {},
     "output_type": "display_data"
    },
    {
     "name": "stdout",
     "output_type": "stream",
     "text": [
      "[VAL] tas: RMSE=1.6675, Time-Mean RMSE=0.9562, Time-Stddev MAE=0.2307\n",
      "[VAL] pr: RMSE=1.9785, Time-Mean RMSE=0.2781, Time-Stddev MAE=0.8256\n"
     ]
    },
    {
     "data": {
      "application/vnd.jupyter.widget-view+json": {
       "model_id": "",
       "version_major": 2,
       "version_minor": 0
      },
      "text/plain": [
       "Validation: |                                                                                    | 0/? [00:00<…"
      ]
     },
     "metadata": {},
     "output_type": "display_data"
    },
    {
     "name": "stdout",
     "output_type": "stream",
     "text": [
      "[VAL] tas: RMSE=1.4506, Time-Mean RMSE=0.7819, Time-Stddev MAE=0.2204\n",
      "[VAL] pr: RMSE=1.9435, Time-Mean RMSE=0.2646, Time-Stddev MAE=0.7590\n"
     ]
    },
    {
     "data": {
      "application/vnd.jupyter.widget-view+json": {
       "model_id": "",
       "version_major": 2,
       "version_minor": 0
      },
      "text/plain": [
       "Validation: |                                                                                    | 0/? [00:00<…"
      ]
     },
     "metadata": {},
     "output_type": "display_data"
    },
    {
     "name": "stdout",
     "output_type": "stream",
     "text": [
      "[VAL] tas: RMSE=1.4624, Time-Mean RMSE=0.7463, Time-Stddev MAE=0.1896\n",
      "[VAL] pr: RMSE=1.9489, Time-Mean RMSE=0.2811, Time-Stddev MAE=0.7759\n"
     ]
    },
    {
     "data": {
      "application/vnd.jupyter.widget-view+json": {
       "model_id": "",
       "version_major": 2,
       "version_minor": 0
      },
      "text/plain": [
       "Validation: |                                                                                    | 0/? [00:00<…"
      ]
     },
     "metadata": {},
     "output_type": "display_data"
    },
    {
     "name": "stdout",
     "output_type": "stream",
     "text": [
      "[VAL] tas: RMSE=1.4467, Time-Mean RMSE=0.6575, Time-Stddev MAE=0.2597\n",
      "[VAL] pr: RMSE=1.9384, Time-Mean RMSE=0.2351, Time-Stddev MAE=0.7496\n"
     ]
    },
    {
     "data": {
      "application/vnd.jupyter.widget-view+json": {
       "model_id": "",
       "version_major": 2,
       "version_minor": 0
      },
      "text/plain": [
       "Validation: |                                                                                    | 0/? [00:00<…"
      ]
     },
     "metadata": {},
     "output_type": "display_data"
    },
    {
     "name": "stdout",
     "output_type": "stream",
     "text": [
      "[VAL] tas: RMSE=1.5033, Time-Mean RMSE=0.8698, Time-Stddev MAE=0.2227\n",
      "[VAL] pr: RMSE=1.9525, Time-Mean RMSE=0.2979, Time-Stddev MAE=0.7882\n"
     ]
    },
    {
     "data": {
      "application/vnd.jupyter.widget-view+json": {
       "model_id": "",
       "version_major": 2,
       "version_minor": 0
      },
      "text/plain": [
       "Validation: |                                                                                    | 0/? [00:00<…"
      ]
     },
     "metadata": {},
     "output_type": "display_data"
    },
    {
     "name": "stdout",
     "output_type": "stream",
     "text": [
      "[VAL] tas: RMSE=1.3254, Time-Mean RMSE=0.5058, Time-Stddev MAE=0.1868\n",
      "[VAL] pr: RMSE=1.9465, Time-Mean RMSE=0.2731, Time-Stddev MAE=0.7731\n"
     ]
    },
    {
     "data": {
      "application/vnd.jupyter.widget-view+json": {
       "model_id": "",
       "version_major": 2,
       "version_minor": 0
      },
      "text/plain": [
       "Validation: |                                                                                    | 0/? [00:00<…"
      ]
     },
     "metadata": {},
     "output_type": "display_data"
    },
    {
     "name": "stdout",
     "output_type": "stream",
     "text": [
      "[VAL] tas: RMSE=1.3846, Time-Mean RMSE=0.7233, Time-Stddev MAE=0.1731\n",
      "[VAL] pr: RMSE=1.9413, Time-Mean RMSE=0.2639, Time-Stddev MAE=0.7622\n"
     ]
    },
    {
     "data": {
      "application/vnd.jupyter.widget-view+json": {
       "model_id": "",
       "version_major": 2,
       "version_minor": 0
      },
      "text/plain": [
       "Validation: |                                                                                    | 0/? [00:00<…"
      ]
     },
     "metadata": {},
     "output_type": "display_data"
    },
    {
     "name": "stdout",
     "output_type": "stream",
     "text": [
      "[VAL] tas: RMSE=1.3114, Time-Mean RMSE=0.3999, Time-Stddev MAE=0.2361\n",
      "[VAL] pr: RMSE=1.9385, Time-Mean RMSE=0.2329, Time-Stddev MAE=0.7451\n"
     ]
    },
    {
     "data": {
      "application/vnd.jupyter.widget-view+json": {
       "model_id": "",
       "version_major": 2,
       "version_minor": 0
      },
      "text/plain": [
       "Validation: |                                                                                    | 0/? [00:00<…"
      ]
     },
     "metadata": {},
     "output_type": "display_data"
    },
    {
     "name": "stdout",
     "output_type": "stream",
     "text": [
      "[VAL] tas: RMSE=2.3063, Time-Mean RMSE=0.7612, Time-Stddev MAE=0.3047\n",
      "[VAL] pr: RMSE=2.1419, Time-Mean RMSE=0.3396, Time-Stddev MAE=0.8182\n"
     ]
    },
    {
     "data": {
      "application/vnd.jupyter.widget-view+json": {
       "model_id": "",
       "version_major": 2,
       "version_minor": 0
      },
      "text/plain": [
       "Validation: |                                                                                    | 0/? [00:00<…"
      ]
     },
     "metadata": {},
     "output_type": "display_data"
    },
    {
     "name": "stdout",
     "output_type": "stream",
     "text": [
      "[VAL] tas: RMSE=1.3871, Time-Mean RMSE=0.4530, Time-Stddev MAE=0.1913\n",
      "[VAL] pr: RMSE=1.9400, Time-Mean RMSE=0.2407, Time-Stddev MAE=0.7582\n"
     ]
    },
    {
     "data": {
      "application/vnd.jupyter.widget-view+json": {
       "model_id": "",
       "version_major": 2,
       "version_minor": 0
      },
      "text/plain": [
       "Validation: |                                                                                    | 0/? [00:00<…"
      ]
     },
     "metadata": {},
     "output_type": "display_data"
    },
    {
     "name": "stdout",
     "output_type": "stream",
     "text": [
      "[VAL] tas: RMSE=1.4451, Time-Mean RMSE=0.7872, Time-Stddev MAE=0.1921\n",
      "[VAL] pr: RMSE=1.9498, Time-Mean RMSE=0.2597, Time-Stddev MAE=0.7819\n"
     ]
    },
    {
     "data": {
      "application/vnd.jupyter.widget-view+json": {
       "model_id": "",
       "version_major": 2,
       "version_minor": 0
      },
      "text/plain": [
       "Validation: |                                                                                    | 0/? [00:00<…"
      ]
     },
     "metadata": {},
     "output_type": "display_data"
    },
    {
     "name": "stdout",
     "output_type": "stream",
     "text": [
      "[VAL] tas: RMSE=1.4361, Time-Mean RMSE=0.7342, Time-Stddev MAE=0.2017\n",
      "[VAL] pr: RMSE=1.9464, Time-Mean RMSE=0.2345, Time-Stddev MAE=0.7830\n"
     ]
    },
    {
     "data": {
      "application/vnd.jupyter.widget-view+json": {
       "model_id": "",
       "version_major": 2,
       "version_minor": 0
      },
      "text/plain": [
       "Validation: |                                                                                    | 0/? [00:00<…"
      ]
     },
     "metadata": {},
     "output_type": "display_data"
    },
    {
     "name": "stdout",
     "output_type": "stream",
     "text": [
      "[VAL] tas: RMSE=1.3492, Time-Mean RMSE=0.6352, Time-Stddev MAE=0.1516\n",
      "[VAL] pr: RMSE=1.9390, Time-Mean RMSE=0.2581, Time-Stddev MAE=0.7586\n"
     ]
    },
    {
     "data": {
      "application/vnd.jupyter.widget-view+json": {
       "model_id": "",
       "version_major": 2,
       "version_minor": 0
      },
      "text/plain": [
       "Validation: |                                                                                    | 0/? [00:00<…"
      ]
     },
     "metadata": {},
     "output_type": "display_data"
    },
    {
     "name": "stdout",
     "output_type": "stream",
     "text": [
      "[VAL] tas: RMSE=1.3192, Time-Mean RMSE=0.5354, Time-Stddev MAE=0.2516\n",
      "[VAL] pr: RMSE=1.9372, Time-Mean RMSE=0.2525, Time-Stddev MAE=0.7492\n"
     ]
    },
    {
     "data": {
      "application/vnd.jupyter.widget-view+json": {
       "model_id": "",
       "version_major": 2,
       "version_minor": 0
      },
      "text/plain": [
       "Validation: |                                                                                    | 0/? [00:00<…"
      ]
     },
     "metadata": {},
     "output_type": "display_data"
    },
    {
     "name": "stdout",
     "output_type": "stream",
     "text": [
      "[VAL] tas: RMSE=1.3615, Time-Mean RMSE=0.6345, Time-Stddev MAE=0.1965\n",
      "[VAL] pr: RMSE=1.9437, Time-Mean RMSE=0.2584, Time-Stddev MAE=0.7846\n"
     ]
    },
    {
     "data": {
      "application/vnd.jupyter.widget-view+json": {
       "model_id": "",
       "version_major": 2,
       "version_minor": 0
      },
      "text/plain": [
       "Validation: |                                                                                    | 0/? [00:00<…"
      ]
     },
     "metadata": {},
     "output_type": "display_data"
    },
    {
     "name": "stdout",
     "output_type": "stream",
     "text": [
      "[VAL] tas: RMSE=1.4311, Time-Mean RMSE=0.6984, Time-Stddev MAE=0.1652\n",
      "[VAL] pr: RMSE=1.9467, Time-Mean RMSE=0.2588, Time-Stddev MAE=0.7772\n"
     ]
    },
    {
     "data": {
      "application/vnd.jupyter.widget-view+json": {
       "model_id": "",
       "version_major": 2,
       "version_minor": 0
      },
      "text/plain": [
       "Validation: |                                                                                    | 0/? [00:00<…"
      ]
     },
     "metadata": {},
     "output_type": "display_data"
    },
    {
     "name": "stdout",
     "output_type": "stream",
     "text": [
      "[VAL] tas: RMSE=1.3449, Time-Mean RMSE=0.4828, Time-Stddev MAE=0.1663\n",
      "[VAL] pr: RMSE=1.9427, Time-Mean RMSE=0.2410, Time-Stddev MAE=0.7555\n"
     ]
    },
    {
     "data": {
      "application/vnd.jupyter.widget-view+json": {
       "model_id": "",
       "version_major": 2,
       "version_minor": 0
      },
      "text/plain": [
       "Validation: |                                                                                    | 0/? [00:00<…"
      ]
     },
     "metadata": {},
     "output_type": "display_data"
    },
    {
     "name": "stdout",
     "output_type": "stream",
     "text": [
      "[VAL] tas: RMSE=1.2949, Time-Mean RMSE=0.4129, Time-Stddev MAE=0.1729\n",
      "[VAL] pr: RMSE=1.9350, Time-Mean RMSE=0.2306, Time-Stddev MAE=0.7317\n"
     ]
    },
    {
     "data": {
      "application/vnd.jupyter.widget-view+json": {
       "model_id": "",
       "version_major": 2,
       "version_minor": 0
      },
      "text/plain": [
       "Validation: |                                                                                    | 0/? [00:00<…"
      ]
     },
     "metadata": {},
     "output_type": "display_data"
    },
    {
     "name": "stdout",
     "output_type": "stream",
     "text": [
      "[VAL] tas: RMSE=1.4178, Time-Mean RMSE=0.4860, Time-Stddev MAE=0.1718\n",
      "[VAL] pr: RMSE=1.9440, Time-Mean RMSE=0.2454, Time-Stddev MAE=0.7687\n"
     ]
    },
    {
     "data": {
      "application/vnd.jupyter.widget-view+json": {
       "model_id": "",
       "version_major": 2,
       "version_minor": 0
      },
      "text/plain": [
       "Validation: |                                                                                    | 0/? [00:00<…"
      ]
     },
     "metadata": {},
     "output_type": "display_data"
    },
    {
     "name": "stdout",
     "output_type": "stream",
     "text": [
      "[VAL] tas: RMSE=1.2728, Time-Mean RMSE=0.4807, Time-Stddev MAE=0.1945\n",
      "[VAL] pr: RMSE=1.9398, Time-Mean RMSE=0.2428, Time-Stddev MAE=0.7679\n"
     ]
    },
    {
     "data": {
      "application/vnd.jupyter.widget-view+json": {
       "model_id": "",
       "version_major": 2,
       "version_minor": 0
      },
      "text/plain": [
       "Validation: |                                                                                    | 0/? [00:00<…"
      ]
     },
     "metadata": {},
     "output_type": "display_data"
    },
    {
     "name": "stdout",
     "output_type": "stream",
     "text": [
      "[VAL] tas: RMSE=1.3312, Time-Mean RMSE=0.5393, Time-Stddev MAE=0.2104\n",
      "[VAL] pr: RMSE=1.9407, Time-Mean RMSE=0.2483, Time-Stddev MAE=0.7626\n"
     ]
    },
    {
     "data": {
      "application/vnd.jupyter.widget-view+json": {
       "model_id": "",
       "version_major": 2,
       "version_minor": 0
      },
      "text/plain": [
       "Validation: |                                                                                    | 0/? [00:00<…"
      ]
     },
     "metadata": {},
     "output_type": "display_data"
    },
    {
     "name": "stdout",
     "output_type": "stream",
     "text": [
      "[VAL] tas: RMSE=1.4177, Time-Mean RMSE=0.7144, Time-Stddev MAE=0.1623\n",
      "[VAL] pr: RMSE=1.9450, Time-Mean RMSE=0.2574, Time-Stddev MAE=0.7767\n"
     ]
    },
    {
     "data": {
      "application/vnd.jupyter.widget-view+json": {
       "model_id": "",
       "version_major": 2,
       "version_minor": 0
      },
      "text/plain": [
       "Validation: |                                                                                    | 0/? [00:00<…"
      ]
     },
     "metadata": {},
     "output_type": "display_data"
    },
    {
     "name": "stdout",
     "output_type": "stream",
     "text": [
      "[VAL] tas: RMSE=1.3642, Time-Mean RMSE=0.6576, Time-Stddev MAE=0.1947\n",
      "[VAL] pr: RMSE=1.9454, Time-Mean RMSE=0.2817, Time-Stddev MAE=0.7873\n"
     ]
    },
    {
     "data": {
      "application/vnd.jupyter.widget-view+json": {
       "model_id": "",
       "version_major": 2,
       "version_minor": 0
      },
      "text/plain": [
       "Validation: |                                                                                    | 0/? [00:00<…"
      ]
     },
     "metadata": {},
     "output_type": "display_data"
    },
    {
     "name": "stdout",
     "output_type": "stream",
     "text": [
      "[VAL] tas: RMSE=1.3811, Time-Mean RMSE=0.6444, Time-Stddev MAE=0.2157\n",
      "[VAL] pr: RMSE=1.9465, Time-Mean RMSE=0.2681, Time-Stddev MAE=0.7879\n"
     ]
    },
    {
     "data": {
      "application/vnd.jupyter.widget-view+json": {
       "model_id": "",
       "version_major": 2,
       "version_minor": 0
      },
      "text/plain": [
       "Validation: |                                                                                    | 0/? [00:00<…"
      ]
     },
     "metadata": {},
     "output_type": "display_data"
    },
    {
     "name": "stdout",
     "output_type": "stream",
     "text": [
      "[VAL] tas: RMSE=1.2805, Time-Mean RMSE=0.4853, Time-Stddev MAE=0.1389\n",
      "[VAL] pr: RMSE=1.9381, Time-Mean RMSE=0.2506, Time-Stddev MAE=0.7363\n"
     ]
    },
    {
     "data": {
      "application/vnd.jupyter.widget-view+json": {
       "model_id": "",
       "version_major": 2,
       "version_minor": 0
      },
      "text/plain": [
       "Validation: |                                                                                    | 0/? [00:00<…"
      ]
     },
     "metadata": {},
     "output_type": "display_data"
    },
    {
     "name": "stdout",
     "output_type": "stream",
     "text": [
      "[VAL] tas: RMSE=1.3374, Time-Mean RMSE=0.5601, Time-Stddev MAE=0.1708\n",
      "[VAL] pr: RMSE=1.9401, Time-Mean RMSE=0.2441, Time-Stddev MAE=0.7468\n"
     ]
    },
    {
     "data": {
      "application/vnd.jupyter.widget-view+json": {
       "model_id": "",
       "version_major": 2,
       "version_minor": 0
      },
      "text/plain": [
       "Validation: |                                                                                    | 0/? [00:00<…"
      ]
     },
     "metadata": {},
     "output_type": "display_data"
    },
    {
     "name": "stdout",
     "output_type": "stream",
     "text": [
      "[VAL] tas: RMSE=1.2881, Time-Mean RMSE=0.4603, Time-Stddev MAE=0.1799\n",
      "[VAL] pr: RMSE=1.9361, Time-Mean RMSE=0.2394, Time-Stddev MAE=0.7481\n"
     ]
    },
    {
     "data": {
      "application/vnd.jupyter.widget-view+json": {
       "model_id": "",
       "version_major": 2,
       "version_minor": 0
      },
      "text/plain": [
       "Validation: |                                                                                    | 0/? [00:00<…"
      ]
     },
     "metadata": {},
     "output_type": "display_data"
    },
    {
     "name": "stdout",
     "output_type": "stream",
     "text": [
      "[VAL] tas: RMSE=1.3316, Time-Mean RMSE=0.6146, Time-Stddev MAE=0.2199\n",
      "[VAL] pr: RMSE=1.9416, Time-Mean RMSE=0.2562, Time-Stddev MAE=0.7640\n"
     ]
    },
    {
     "data": {
      "application/vnd.jupyter.widget-view+json": {
       "model_id": "",
       "version_major": 2,
       "version_minor": 0
      },
      "text/plain": [
       "Validation: |                                                                                    | 0/? [00:00<…"
      ]
     },
     "metadata": {},
     "output_type": "display_data"
    },
    {
     "name": "stdout",
     "output_type": "stream",
     "text": [
      "[VAL] tas: RMSE=1.4496, Time-Mean RMSE=0.7316, Time-Stddev MAE=0.1735\n",
      "[VAL] pr: RMSE=1.9446, Time-Mean RMSE=0.2598, Time-Stddev MAE=0.7713\n"
     ]
    },
    {
     "data": {
      "application/vnd.jupyter.widget-view+json": {
       "model_id": "",
       "version_major": 2,
       "version_minor": 0
      },
      "text/plain": [
       "Validation: |                                                                                    | 0/? [00:00<…"
      ]
     },
     "metadata": {},
     "output_type": "display_data"
    },
    {
     "name": "stdout",
     "output_type": "stream",
     "text": [
      "[VAL] tas: RMSE=1.3344, Time-Mean RMSE=0.5068, Time-Stddev MAE=0.2206\n",
      "[VAL] pr: RMSE=1.9400, Time-Mean RMSE=0.2550, Time-Stddev MAE=0.7548\n"
     ]
    },
    {
     "data": {
      "application/vnd.jupyter.widget-view+json": {
       "model_id": "",
       "version_major": 2,
       "version_minor": 0
      },
      "text/plain": [
       "Validation: |                                                                                    | 0/? [00:00<…"
      ]
     },
     "metadata": {},
     "output_type": "display_data"
    },
    {
     "name": "stdout",
     "output_type": "stream",
     "text": [
      "[VAL] tas: RMSE=1.3401, Time-Mean RMSE=0.4671, Time-Stddev MAE=0.2277\n",
      "[VAL] pr: RMSE=1.9409, Time-Mean RMSE=0.2418, Time-Stddev MAE=0.7730\n"
     ]
    },
    {
     "data": {
      "application/vnd.jupyter.widget-view+json": {
       "model_id": "",
       "version_major": 2,
       "version_minor": 0
      },
      "text/plain": [
       "Validation: |                                                                                    | 0/? [00:00<…"
      ]
     },
     "metadata": {},
     "output_type": "display_data"
    },
    {
     "name": "stdout",
     "output_type": "stream",
     "text": [
      "[VAL] tas: RMSE=1.3513, Time-Mean RMSE=0.3870, Time-Stddev MAE=0.2273\n",
      "[VAL] pr: RMSE=1.9461, Time-Mean RMSE=0.2495, Time-Stddev MAE=0.7014\n"
     ]
    },
    {
     "data": {
      "application/vnd.jupyter.widget-view+json": {
       "model_id": "",
       "version_major": 2,
       "version_minor": 0
      },
      "text/plain": [
       "Validation: |                                                                                    | 0/? [00:00<…"
      ]
     },
     "metadata": {},
     "output_type": "display_data"
    },
    {
     "name": "stdout",
     "output_type": "stream",
     "text": [
      "[VAL] tas: RMSE=1.4760, Time-Mean RMSE=0.5733, Time-Stddev MAE=0.3291\n",
      "[VAL] pr: RMSE=1.9469, Time-Mean RMSE=0.2502, Time-Stddev MAE=0.7482\n"
     ]
    },
    {
     "data": {
      "application/vnd.jupyter.widget-view+json": {
       "model_id": "",
       "version_major": 2,
       "version_minor": 0
      },
      "text/plain": [
       "Validation: |                                                                                    | 0/? [00:00<…"
      ]
     },
     "metadata": {},
     "output_type": "display_data"
    },
    {
     "name": "stdout",
     "output_type": "stream",
     "text": [
      "[VAL] tas: RMSE=1.4615, Time-Mean RMSE=0.8279, Time-Stddev MAE=0.1702\n",
      "[VAL] pr: RMSE=1.9468, Time-Mean RMSE=0.2770, Time-Stddev MAE=0.7699\n"
     ]
    },
    {
     "data": {
      "application/vnd.jupyter.widget-view+json": {
       "model_id": "",
       "version_major": 2,
       "version_minor": 0
      },
      "text/plain": [
       "Validation: |                                                                                    | 0/? [00:00<…"
      ]
     },
     "metadata": {},
     "output_type": "display_data"
    },
    {
     "name": "stdout",
     "output_type": "stream",
     "text": [
      "[VAL] tas: RMSE=1.4294, Time-Mean RMSE=0.4411, Time-Stddev MAE=0.2771\n",
      "[VAL] pr: RMSE=1.9451, Time-Mean RMSE=0.2395, Time-Stddev MAE=0.7592\n"
     ]
    },
    {
     "data": {
      "application/vnd.jupyter.widget-view+json": {
       "model_id": "",
       "version_major": 2,
       "version_minor": 0
      },
      "text/plain": [
       "Validation: |                                                                                    | 0/? [00:00<…"
      ]
     },
     "metadata": {},
     "output_type": "display_data"
    },
    {
     "name": "stdout",
     "output_type": "stream",
     "text": [
      "[VAL] tas: RMSE=1.3892, Time-Mean RMSE=0.6155, Time-Stddev MAE=0.1826\n",
      "[VAL] pr: RMSE=1.9451, Time-Mean RMSE=0.2805, Time-Stddev MAE=0.7683\n"
     ]
    },
    {
     "data": {
      "application/vnd.jupyter.widget-view+json": {
       "model_id": "",
       "version_major": 2,
       "version_minor": 0
      },
      "text/plain": [
       "Validation: |                                                                                    | 0/? [00:00<…"
      ]
     },
     "metadata": {},
     "output_type": "display_data"
    },
    {
     "name": "stdout",
     "output_type": "stream",
     "text": [
      "[VAL] tas: RMSE=1.3441, Time-Mean RMSE=0.3803, Time-Stddev MAE=0.1617\n",
      "[VAL] pr: RMSE=1.9420, Time-Mean RMSE=0.2555, Time-Stddev MAE=0.7426\n"
     ]
    },
    {
     "data": {
      "application/vnd.jupyter.widget-view+json": {
       "model_id": "",
       "version_major": 2,
       "version_minor": 0
      },
      "text/plain": [
       "Validation: |                                                                                    | 0/? [00:00<…"
      ]
     },
     "metadata": {},
     "output_type": "display_data"
    },
    {
     "name": "stdout",
     "output_type": "stream",
     "text": [
      "[VAL] tas: RMSE=1.3957, Time-Mean RMSE=0.6678, Time-Stddev MAE=0.2235\n",
      "[VAL] pr: RMSE=1.9470, Time-Mean RMSE=0.2679, Time-Stddev MAE=0.7848\n"
     ]
    },
    {
     "data": {
      "application/vnd.jupyter.widget-view+json": {
       "model_id": "",
       "version_major": 2,
       "version_minor": 0
      },
      "text/plain": [
       "Validation: |                                                                                    | 0/? [00:00<…"
      ]
     },
     "metadata": {},
     "output_type": "display_data"
    },
    {
     "name": "stdout",
     "output_type": "stream",
     "text": [
      "[VAL] tas: RMSE=1.3290, Time-Mean RMSE=0.5227, Time-Stddev MAE=0.1771\n",
      "[VAL] pr: RMSE=1.9425, Time-Mean RMSE=0.2572, Time-Stddev MAE=0.7606\n"
     ]
    },
    {
     "data": {
      "application/vnd.jupyter.widget-view+json": {
       "model_id": "",
       "version_major": 2,
       "version_minor": 0
      },
      "text/plain": [
       "Validation: |                                                                                    | 0/? [00:00<…"
      ]
     },
     "metadata": {},
     "output_type": "display_data"
    },
    {
     "name": "stdout",
     "output_type": "stream",
     "text": [
      "[VAL] tas: RMSE=1.2864, Time-Mean RMSE=0.3335, Time-Stddev MAE=0.2369\n",
      "[VAL] pr: RMSE=1.9550, Time-Mean RMSE=0.2462, Time-Stddev MAE=0.7698\n"
     ]
    },
    {
     "data": {
      "application/vnd.jupyter.widget-view+json": {
       "model_id": "",
       "version_major": 2,
       "version_minor": 0
      },
      "text/plain": [
       "Validation: |                                                                                    | 0/? [00:00<…"
      ]
     },
     "metadata": {},
     "output_type": "display_data"
    },
    {
     "name": "stdout",
     "output_type": "stream",
     "text": [
      "[VAL] tas: RMSE=1.3614, Time-Mean RMSE=0.5418, Time-Stddev MAE=0.2607\n",
      "[VAL] pr: RMSE=1.9586, Time-Mean RMSE=0.2899, Time-Stddev MAE=0.7834\n"
     ]
    },
    {
     "data": {
      "application/vnd.jupyter.widget-view+json": {
       "model_id": "",
       "version_major": 2,
       "version_minor": 0
      },
      "text/plain": [
       "Validation: |                                                                                    | 0/? [00:00<…"
      ]
     },
     "metadata": {},
     "output_type": "display_data"
    },
    {
     "name": "stdout",
     "output_type": "stream",
     "text": [
      "[VAL] tas: RMSE=1.3405, Time-Mean RMSE=0.5318, Time-Stddev MAE=0.1919\n",
      "[VAL] pr: RMSE=1.9422, Time-Mean RMSE=0.2445, Time-Stddev MAE=0.7651\n"
     ]
    },
    {
     "data": {
      "application/vnd.jupyter.widget-view+json": {
       "model_id": "",
       "version_major": 2,
       "version_minor": 0
      },
      "text/plain": [
       "Validation: |                                                                                    | 0/? [00:00<…"
      ]
     },
     "metadata": {},
     "output_type": "display_data"
    },
    {
     "name": "stdout",
     "output_type": "stream",
     "text": [
      "[VAL] tas: RMSE=1.3219, Time-Mean RMSE=0.5251, Time-Stddev MAE=0.1535\n",
      "[VAL] pr: RMSE=1.9376, Time-Mean RMSE=0.2402, Time-Stddev MAE=0.7408\n"
     ]
    },
    {
     "data": {
      "application/vnd.jupyter.widget-view+json": {
       "model_id": "",
       "version_major": 2,
       "version_minor": 0
      },
      "text/plain": [
       "Validation: |                                                                                    | 0/? [00:00<…"
      ]
     },
     "metadata": {},
     "output_type": "display_data"
    },
    {
     "name": "stdout",
     "output_type": "stream",
     "text": [
      "[VAL] tas: RMSE=1.5293, Time-Mean RMSE=0.5277, Time-Stddev MAE=0.1548\n",
      "[VAL] pr: RMSE=1.9465, Time-Mean RMSE=0.2426, Time-Stddev MAE=0.7535\n"
     ]
    },
    {
     "data": {
      "application/vnd.jupyter.widget-view+json": {
       "model_id": "",
       "version_major": 2,
       "version_minor": 0
      },
      "text/plain": [
       "Validation: |                                                                                    | 0/? [00:00<…"
      ]
     },
     "metadata": {},
     "output_type": "display_data"
    },
    {
     "name": "stdout",
     "output_type": "stream",
     "text": [
      "[VAL] tas: RMSE=1.3045, Time-Mean RMSE=0.4207, Time-Stddev MAE=0.1818\n",
      "[VAL] pr: RMSE=1.9378, Time-Mean RMSE=0.2299, Time-Stddev MAE=0.7346\n"
     ]
    },
    {
     "data": {
      "application/vnd.jupyter.widget-view+json": {
       "model_id": "",
       "version_major": 2,
       "version_minor": 0
      },
      "text/plain": [
       "Validation: |                                                                                    | 0/? [00:00<…"
      ]
     },
     "metadata": {},
     "output_type": "display_data"
    },
    {
     "name": "stdout",
     "output_type": "stream",
     "text": [
      "[VAL] tas: RMSE=1.2825, Time-Mean RMSE=0.4186, Time-Stddev MAE=0.2287\n",
      "[VAL] pr: RMSE=1.9374, Time-Mean RMSE=0.2437, Time-Stddev MAE=0.7693\n"
     ]
    },
    {
     "data": {
      "application/vnd.jupyter.widget-view+json": {
       "model_id": "",
       "version_major": 2,
       "version_minor": 0
      },
      "text/plain": [
       "Validation: |                                                                                    | 0/? [00:00<…"
      ]
     },
     "metadata": {},
     "output_type": "display_data"
    },
    {
     "name": "stdout",
     "output_type": "stream",
     "text": [
      "[VAL] tas: RMSE=1.2820, Time-Mean RMSE=0.4757, Time-Stddev MAE=0.1960\n",
      "[VAL] pr: RMSE=1.9376, Time-Mean RMSE=0.2456, Time-Stddev MAE=0.7551\n"
     ]
    },
    {
     "data": {
      "application/vnd.jupyter.widget-view+json": {
       "model_id": "",
       "version_major": 2,
       "version_minor": 0
      },
      "text/plain": [
       "Validation: |                                                                                    | 0/? [00:00<…"
      ]
     },
     "metadata": {},
     "output_type": "display_data"
    },
    {
     "name": "stdout",
     "output_type": "stream",
     "text": [
      "[VAL] tas: RMSE=1.5656, Time-Mean RMSE=0.7698, Time-Stddev MAE=0.2078\n",
      "[VAL] pr: RMSE=1.9512, Time-Mean RMSE=0.2941, Time-Stddev MAE=0.7766\n"
     ]
    },
    {
     "data": {
      "application/vnd.jupyter.widget-view+json": {
       "model_id": "",
       "version_major": 2,
       "version_minor": 0
      },
      "text/plain": [
       "Validation: |                                                                                    | 0/? [00:00<…"
      ]
     },
     "metadata": {},
     "output_type": "display_data"
    },
    {
     "name": "stdout",
     "output_type": "stream",
     "text": [
      "[VAL] tas: RMSE=1.5609, Time-Mean RMSE=0.6542, Time-Stddev MAE=0.1986\n",
      "[VAL] pr: RMSE=1.9977, Time-Mean RMSE=0.2713, Time-Stddev MAE=0.7859\n"
     ]
    },
    {
     "data": {
      "application/vnd.jupyter.widget-view+json": {
       "model_id": "",
       "version_major": 2,
       "version_minor": 0
      },
      "text/plain": [
       "Validation: |                                                                                    | 0/? [00:00<…"
      ]
     },
     "metadata": {},
     "output_type": "display_data"
    },
    {
     "name": "stdout",
     "output_type": "stream",
     "text": [
      "[VAL] tas: RMSE=1.2364, Time-Mean RMSE=0.4167, Time-Stddev MAE=0.2079\n",
      "[VAL] pr: RMSE=1.9351, Time-Mean RMSE=0.2398, Time-Stddev MAE=0.7582\n"
     ]
    },
    {
     "data": {
      "application/vnd.jupyter.widget-view+json": {
       "model_id": "",
       "version_major": 2,
       "version_minor": 0
      },
      "text/plain": [
       "Validation: |                                                                                    | 0/? [00:00<…"
      ]
     },
     "metadata": {},
     "output_type": "display_data"
    },
    {
     "name": "stdout",
     "output_type": "stream",
     "text": [
      "[VAL] tas: RMSE=1.2732, Time-Mean RMSE=0.4434, Time-Stddev MAE=0.1620\n",
      "[VAL] pr: RMSE=1.9379, Time-Mean RMSE=0.2292, Time-Stddev MAE=0.7397\n"
     ]
    },
    {
     "data": {
      "application/vnd.jupyter.widget-view+json": {
       "model_id": "",
       "version_major": 2,
       "version_minor": 0
      },
      "text/plain": [
       "Validation: |                                                                                    | 0/? [00:00<…"
      ]
     },
     "metadata": {},
     "output_type": "display_data"
    },
    {
     "name": "stdout",
     "output_type": "stream",
     "text": [
      "[VAL] tas: RMSE=1.2433, Time-Mean RMSE=0.3738, Time-Stddev MAE=0.1978\n",
      "[VAL] pr: RMSE=1.9414, Time-Mean RMSE=0.2701, Time-Stddev MAE=0.7551\n"
     ]
    },
    {
     "data": {
      "application/vnd.jupyter.widget-view+json": {
       "model_id": "",
       "version_major": 2,
       "version_minor": 0
      },
      "text/plain": [
       "Validation: |                                                                                    | 0/? [00:00<…"
      ]
     },
     "metadata": {},
     "output_type": "display_data"
    },
    {
     "name": "stdout",
     "output_type": "stream",
     "text": [
      "[VAL] tas: RMSE=1.3699, Time-Mean RMSE=0.6468, Time-Stddev MAE=0.1955\n",
      "[VAL] pr: RMSE=1.9422, Time-Mean RMSE=0.2658, Time-Stddev MAE=0.7358\n"
     ]
    },
    {
     "data": {
      "application/vnd.jupyter.widget-view+json": {
       "model_id": "",
       "version_major": 2,
       "version_minor": 0
      },
      "text/plain": [
       "Validation: |                                                                                    | 0/? [00:00<…"
      ]
     },
     "metadata": {},
     "output_type": "display_data"
    },
    {
     "name": "stdout",
     "output_type": "stream",
     "text": [
      "[VAL] tas: RMSE=1.7611, Time-Mean RMSE=1.1352, Time-Stddev MAE=0.2869\n",
      "[VAL] pr: RMSE=1.9887, Time-Mean RMSE=0.2938, Time-Stddev MAE=0.8480\n"
     ]
    },
    {
     "data": {
      "application/vnd.jupyter.widget-view+json": {
       "model_id": "",
       "version_major": 2,
       "version_minor": 0
      },
      "text/plain": [
       "Validation: |                                                                                    | 0/? [00:00<…"
      ]
     },
     "metadata": {},
     "output_type": "display_data"
    },
    {
     "name": "stdout",
     "output_type": "stream",
     "text": [
      "[VAL] tas: RMSE=1.4370, Time-Mean RMSE=0.7300, Time-Stddev MAE=0.1841\n",
      "[VAL] pr: RMSE=1.9534, Time-Mean RMSE=0.2617, Time-Stddev MAE=0.7660\n"
     ]
    },
    {
     "data": {
      "application/vnd.jupyter.widget-view+json": {
       "model_id": "",
       "version_major": 2,
       "version_minor": 0
      },
      "text/plain": [
       "Validation: |                                                                                    | 0/? [00:00<…"
      ]
     },
     "metadata": {},
     "output_type": "display_data"
    },
    {
     "name": "stdout",
     "output_type": "stream",
     "text": [
      "[VAL] tas: RMSE=1.4432, Time-Mean RMSE=0.6069, Time-Stddev MAE=0.2548\n",
      "[VAL] pr: RMSE=1.9428, Time-Mean RMSE=0.2475, Time-Stddev MAE=0.7566\n"
     ]
    },
    {
     "data": {
      "application/vnd.jupyter.widget-view+json": {
       "model_id": "",
       "version_major": 2,
       "version_minor": 0
      },
      "text/plain": [
       "Validation: |                                                                                    | 0/? [00:00<…"
      ]
     },
     "metadata": {},
     "output_type": "display_data"
    },
    {
     "name": "stdout",
     "output_type": "stream",
     "text": [
      "[VAL] tas: RMSE=1.3682, Time-Mean RMSE=0.5216, Time-Stddev MAE=0.2087\n",
      "[VAL] pr: RMSE=1.9454, Time-Mean RMSE=0.2726, Time-Stddev MAE=0.7666\n"
     ]
    },
    {
     "data": {
      "application/vnd.jupyter.widget-view+json": {
       "model_id": "",
       "version_major": 2,
       "version_minor": 0
      },
      "text/plain": [
       "Validation: |                                                                                    | 0/? [00:00<…"
      ]
     },
     "metadata": {},
     "output_type": "display_data"
    },
    {
     "name": "stdout",
     "output_type": "stream",
     "text": [
      "[VAL] tas: RMSE=1.4017, Time-Mean RMSE=0.6066, Time-Stddev MAE=0.2092\n",
      "[VAL] pr: RMSE=1.9447, Time-Mean RMSE=0.2512, Time-Stddev MAE=0.7817\n"
     ]
    },
    {
     "data": {
      "application/vnd.jupyter.widget-view+json": {
       "model_id": "",
       "version_major": 2,
       "version_minor": 0
      },
      "text/plain": [
       "Validation: |                                                                                    | 0/? [00:00<…"
      ]
     },
     "metadata": {},
     "output_type": "display_data"
    },
    {
     "name": "stdout",
     "output_type": "stream",
     "text": [
      "[VAL] tas: RMSE=1.2809, Time-Mean RMSE=0.3713, Time-Stddev MAE=0.1941\n",
      "[VAL] pr: RMSE=1.9443, Time-Mean RMSE=0.2554, Time-Stddev MAE=0.7648\n"
     ]
    },
    {
     "data": {
      "application/vnd.jupyter.widget-view+json": {
       "model_id": "",
       "version_major": 2,
       "version_minor": 0
      },
      "text/plain": [
       "Validation: |                                                                                    | 0/? [00:00<…"
      ]
     },
     "metadata": {},
     "output_type": "display_data"
    },
    {
     "name": "stdout",
     "output_type": "stream",
     "text": [
      "[VAL] tas: RMSE=1.5361, Time-Mean RMSE=0.6568, Time-Stddev MAE=0.2311\n",
      "[VAL] pr: RMSE=2.0019, Time-Mean RMSE=0.2662, Time-Stddev MAE=0.7727\n"
     ]
    },
    {
     "data": {
      "application/vnd.jupyter.widget-view+json": {
       "model_id": "",
       "version_major": 2,
       "version_minor": 0
      },
      "text/plain": [
       "Validation: |                                                                                    | 0/? [00:00<…"
      ]
     },
     "metadata": {},
     "output_type": "display_data"
    },
    {
     "name": "stdout",
     "output_type": "stream",
     "text": [
      "[VAL] tas: RMSE=1.3966, Time-Mean RMSE=0.6225, Time-Stddev MAE=0.1810\n",
      "[VAL] pr: RMSE=1.9397, Time-Mean RMSE=0.2500, Time-Stddev MAE=0.7569\n"
     ]
    },
    {
     "data": {
      "application/vnd.jupyter.widget-view+json": {
       "model_id": "",
       "version_major": 2,
       "version_minor": 0
      },
      "text/plain": [
       "Validation: |                                                                                    | 0/? [00:00<…"
      ]
     },
     "metadata": {},
     "output_type": "display_data"
    },
    {
     "name": "stdout",
     "output_type": "stream",
     "text": [
      "[VAL] tas: RMSE=1.3513, Time-Mean RMSE=0.5229, Time-Stddev MAE=0.2470\n",
      "[VAL] pr: RMSE=1.9417, Time-Mean RMSE=0.2385, Time-Stddev MAE=0.7428\n"
     ]
    },
    {
     "data": {
      "application/vnd.jupyter.widget-view+json": {
       "model_id": "",
       "version_major": 2,
       "version_minor": 0
      },
      "text/plain": [
       "Validation: |                                                                                    | 0/? [00:00<…"
      ]
     },
     "metadata": {},
     "output_type": "display_data"
    },
    {
     "name": "stdout",
     "output_type": "stream",
     "text": [
      "[VAL] tas: RMSE=1.2905, Time-Mean RMSE=0.3870, Time-Stddev MAE=0.1880\n",
      "[VAL] pr: RMSE=1.9467, Time-Mean RMSE=0.2659, Time-Stddev MAE=0.7677\n"
     ]
    },
    {
     "data": {
      "application/vnd.jupyter.widget-view+json": {
       "model_id": "",
       "version_major": 2,
       "version_minor": 0
      },
      "text/plain": [
       "Validation: |                                                                                    | 0/? [00:00<…"
      ]
     },
     "metadata": {},
     "output_type": "display_data"
    },
    {
     "name": "stdout",
     "output_type": "stream",
     "text": [
      "[VAL] tas: RMSE=1.2796, Time-Mean RMSE=0.4968, Time-Stddev MAE=0.2278\n",
      "[VAL] pr: RMSE=1.9332, Time-Mean RMSE=0.2197, Time-Stddev MAE=0.7646\n"
     ]
    },
    {
     "data": {
      "application/vnd.jupyter.widget-view+json": {
       "model_id": "",
       "version_major": 2,
       "version_minor": 0
      },
      "text/plain": [
       "Validation: |                                                                                    | 0/? [00:00<…"
      ]
     },
     "metadata": {},
     "output_type": "display_data"
    },
    {
     "name": "stdout",
     "output_type": "stream",
     "text": [
      "[VAL] tas: RMSE=1.6482, Time-Mean RMSE=0.5975, Time-Stddev MAE=0.3401\n",
      "[VAL] pr: RMSE=2.0100, Time-Mean RMSE=0.3699, Time-Stddev MAE=0.8492\n"
     ]
    },
    {
     "data": {
      "application/vnd.jupyter.widget-view+json": {
       "model_id": "",
       "version_major": 2,
       "version_minor": 0
      },
      "text/plain": [
       "Validation: |                                                                                    | 0/? [00:00<…"
      ]
     },
     "metadata": {},
     "output_type": "display_data"
    },
    {
     "name": "stdout",
     "output_type": "stream",
     "text": [
      "[VAL] tas: RMSE=1.4553, Time-Mean RMSE=0.6292, Time-Stddev MAE=0.2186\n",
      "[VAL] pr: RMSE=1.9556, Time-Mean RMSE=0.2775, Time-Stddev MAE=0.8129\n"
     ]
    },
    {
     "data": {
      "application/vnd.jupyter.widget-view+json": {
       "model_id": "",
       "version_major": 2,
       "version_minor": 0
      },
      "text/plain": [
       "Validation: |                                                                                    | 0/? [00:00<…"
      ]
     },
     "metadata": {},
     "output_type": "display_data"
    },
    {
     "name": "stdout",
     "output_type": "stream",
     "text": [
      "[VAL] tas: RMSE=1.3757, Time-Mean RMSE=0.5273, Time-Stddev MAE=0.2403\n",
      "[VAL] pr: RMSE=1.9460, Time-Mean RMSE=0.2529, Time-Stddev MAE=0.7745\n"
     ]
    },
    {
     "data": {
      "application/vnd.jupyter.widget-view+json": {
       "model_id": "",
       "version_major": 2,
       "version_minor": 0
      },
      "text/plain": [
       "Validation: |                                                                                    | 0/? [00:00<…"
      ]
     },
     "metadata": {},
     "output_type": "display_data"
    },
    {
     "name": "stdout",
     "output_type": "stream",
     "text": [
      "[VAL] tas: RMSE=1.3468, Time-Mean RMSE=0.5434, Time-Stddev MAE=0.1536\n",
      "[VAL] pr: RMSE=1.9421, Time-Mean RMSE=0.2608, Time-Stddev MAE=0.7458\n"
     ]
    },
    {
     "data": {
      "application/vnd.jupyter.widget-view+json": {
       "model_id": "",
       "version_major": 2,
       "version_minor": 0
      },
      "text/plain": [
       "Validation: |                                                                                    | 0/? [00:00<…"
      ]
     },
     "metadata": {},
     "output_type": "display_data"
    },
    {
     "name": "stdout",
     "output_type": "stream",
     "text": [
      "[VAL] tas: RMSE=1.3591, Time-Mean RMSE=0.4854, Time-Stddev MAE=0.2062\n",
      "[VAL] pr: RMSE=1.9436, Time-Mean RMSE=0.2604, Time-Stddev MAE=0.7654\n"
     ]
    },
    {
     "data": {
      "application/vnd.jupyter.widget-view+json": {
       "model_id": "",
       "version_major": 2,
       "version_minor": 0
      },
      "text/plain": [
       "Validation: |                                                                                    | 0/? [00:00<…"
      ]
     },
     "metadata": {},
     "output_type": "display_data"
    },
    {
     "name": "stdout",
     "output_type": "stream",
     "text": [
      "[VAL] tas: RMSE=1.3255, Time-Mean RMSE=0.4201, Time-Stddev MAE=0.2416\n",
      "[VAL] pr: RMSE=1.9458, Time-Mean RMSE=0.2681, Time-Stddev MAE=0.7693\n"
     ]
    },
    {
     "data": {
      "application/vnd.jupyter.widget-view+json": {
       "model_id": "",
       "version_major": 2,
       "version_minor": 0
      },
      "text/plain": [
       "Validation: |                                                                                    | 0/? [00:00<…"
      ]
     },
     "metadata": {},
     "output_type": "display_data"
    },
    {
     "name": "stdout",
     "output_type": "stream",
     "text": [
      "[VAL] tas: RMSE=1.3093, Time-Mean RMSE=0.5359, Time-Stddev MAE=0.2163\n",
      "[VAL] pr: RMSE=1.9423, Time-Mean RMSE=0.2688, Time-Stddev MAE=0.7740\n"
     ]
    },
    {
     "data": {
      "application/vnd.jupyter.widget-view+json": {
       "model_id": "",
       "version_major": 2,
       "version_minor": 0
      },
      "text/plain": [
       "Validation: |                                                                                    | 0/? [00:00<…"
      ]
     },
     "metadata": {},
     "output_type": "display_data"
    },
    {
     "name": "stdout",
     "output_type": "stream",
     "text": [
      "[VAL] tas: RMSE=1.2857, Time-Mean RMSE=0.5150, Time-Stddev MAE=0.2204\n",
      "[VAL] pr: RMSE=1.9403, Time-Mean RMSE=0.2636, Time-Stddev MAE=0.7638\n"
     ]
    },
    {
     "data": {
      "application/vnd.jupyter.widget-view+json": {
       "model_id": "",
       "version_major": 2,
       "version_minor": 0
      },
      "text/plain": [
       "Validation: |                                                                                    | 0/? [00:00<…"
      ]
     },
     "metadata": {},
     "output_type": "display_data"
    },
    {
     "name": "stdout",
     "output_type": "stream",
     "text": [
      "[VAL] tas: RMSE=1.3766, Time-Mean RMSE=0.6557, Time-Stddev MAE=0.2416\n",
      "[VAL] pr: RMSE=1.9435, Time-Mean RMSE=0.2527, Time-Stddev MAE=0.7842\n"
     ]
    },
    {
     "data": {
      "application/vnd.jupyter.widget-view+json": {
       "model_id": "",
       "version_major": 2,
       "version_minor": 0
      },
      "text/plain": [
       "Validation: |                                                                                    | 0/? [00:00<…"
      ]
     },
     "metadata": {},
     "output_type": "display_data"
    },
    {
     "name": "stdout",
     "output_type": "stream",
     "text": [
      "[VAL] tas: RMSE=1.3451, Time-Mean RMSE=0.3728, Time-Stddev MAE=0.2019\n",
      "[VAL] pr: RMSE=1.9431, Time-Mean RMSE=0.2303, Time-Stddev MAE=0.7705\n"
     ]
    },
    {
     "data": {
      "application/vnd.jupyter.widget-view+json": {
       "model_id": "",
       "version_major": 2,
       "version_minor": 0
      },
      "text/plain": [
       "Validation: |                                                                                    | 0/? [00:00<…"
      ]
     },
     "metadata": {},
     "output_type": "display_data"
    },
    {
     "name": "stdout",
     "output_type": "stream",
     "text": [
      "[VAL] tas: RMSE=1.4737, Time-Mean RMSE=0.7575, Time-Stddev MAE=0.1654\n",
      "[VAL] pr: RMSE=1.9489, Time-Mean RMSE=0.2673, Time-Stddev MAE=0.7554\n"
     ]
    },
    {
     "data": {
      "application/vnd.jupyter.widget-view+json": {
       "model_id": "",
       "version_major": 2,
       "version_minor": 0
      },
      "text/plain": [
       "Validation: |                                                                                    | 0/? [00:00<…"
      ]
     },
     "metadata": {},
     "output_type": "display_data"
    },
    {
     "name": "stdout",
     "output_type": "stream",
     "text": [
      "[VAL] tas: RMSE=1.7874, Time-Mean RMSE=0.9239, Time-Stddev MAE=0.1888\n",
      "[VAL] pr: RMSE=1.9848, Time-Mean RMSE=0.3246, Time-Stddev MAE=0.7798\n"
     ]
    },
    {
     "data": {
      "application/vnd.jupyter.widget-view+json": {
       "model_id": "",
       "version_major": 2,
       "version_minor": 0
      },
      "text/plain": [
       "Validation: |                                                                                    | 0/? [00:00<…"
      ]
     },
     "metadata": {},
     "output_type": "display_data"
    },
    {
     "name": "stdout",
     "output_type": "stream",
     "text": [
      "[VAL] tas: RMSE=1.9922, Time-Mean RMSE=0.5675, Time-Stddev MAE=0.2772\n",
      "[VAL] pr: RMSE=2.1085, Time-Mean RMSE=0.3268, Time-Stddev MAE=0.7957\n"
     ]
    },
    {
     "data": {
      "application/vnd.jupyter.widget-view+json": {
       "model_id": "",
       "version_major": 2,
       "version_minor": 0
      },
      "text/plain": [
       "Validation: |                                                                                    | 0/? [00:00<…"
      ]
     },
     "metadata": {},
     "output_type": "display_data"
    },
    {
     "name": "stdout",
     "output_type": "stream",
     "text": [
      "[VAL] tas: RMSE=1.3302, Time-Mean RMSE=0.4102, Time-Stddev MAE=0.2426\n",
      "[VAL] pr: RMSE=1.9431, Time-Mean RMSE=0.2386, Time-Stddev MAE=0.7854\n"
     ]
    },
    {
     "data": {
      "application/vnd.jupyter.widget-view+json": {
       "model_id": "",
       "version_major": 2,
       "version_minor": 0
      },
      "text/plain": [
       "Validation: |                                                                                    | 0/? [00:00<…"
      ]
     },
     "metadata": {},
     "output_type": "display_data"
    },
    {
     "name": "stdout",
     "output_type": "stream",
     "text": [
      "[VAL] tas: RMSE=1.3549, Time-Mean RMSE=0.6471, Time-Stddev MAE=0.1795\n",
      "[VAL] pr: RMSE=1.9452, Time-Mean RMSE=0.2803, Time-Stddev MAE=0.7701\n"
     ]
    },
    {
     "data": {
      "application/vnd.jupyter.widget-view+json": {
       "model_id": "",
       "version_major": 2,
       "version_minor": 0
      },
      "text/plain": [
       "Validation: |                                                                                    | 0/? [00:00<…"
      ]
     },
     "metadata": {},
     "output_type": "display_data"
    },
    {
     "name": "stdout",
     "output_type": "stream",
     "text": [
      "[VAL] tas: RMSE=1.3379, Time-Mean RMSE=0.5827, Time-Stddev MAE=0.2235\n",
      "[VAL] pr: RMSE=1.9420, Time-Mean RMSE=0.2627, Time-Stddev MAE=0.7790\n"
     ]
    },
    {
     "data": {
      "application/vnd.jupyter.widget-view+json": {
       "model_id": "",
       "version_major": 2,
       "version_minor": 0
      },
      "text/plain": [
       "Validation: |                                                                                    | 0/? [00:00<…"
      ]
     },
     "metadata": {},
     "output_type": "display_data"
    },
    {
     "name": "stdout",
     "output_type": "stream",
     "text": [
      "[VAL] tas: RMSE=1.4312, Time-Mean RMSE=0.3772, Time-Stddev MAE=0.2050\n",
      "[VAL] pr: RMSE=1.9539, Time-Mean RMSE=0.2303, Time-Stddev MAE=0.7976\n"
     ]
    },
    {
     "data": {
      "application/vnd.jupyter.widget-view+json": {
       "model_id": "",
       "version_major": 2,
       "version_minor": 0
      },
      "text/plain": [
       "Validation: |                                                                                    | 0/? [00:00<…"
      ]
     },
     "metadata": {},
     "output_type": "display_data"
    },
    {
     "name": "stdout",
     "output_type": "stream",
     "text": [
      "[VAL] tas: RMSE=1.3937, Time-Mean RMSE=0.7056, Time-Stddev MAE=0.2166\n",
      "[VAL] pr: RMSE=1.9426, Time-Mean RMSE=0.2529, Time-Stddev MAE=0.7801\n"
     ]
    },
    {
     "data": {
      "application/vnd.jupyter.widget-view+json": {
       "model_id": "",
       "version_major": 2,
       "version_minor": 0
      },
      "text/plain": [
       "Validation: |                                                                                    | 0/? [00:00<…"
      ]
     },
     "metadata": {},
     "output_type": "display_data"
    },
    {
     "name": "stdout",
     "output_type": "stream",
     "text": [
      "[VAL] tas: RMSE=1.2625, Time-Mean RMSE=0.4376, Time-Stddev MAE=0.1804\n",
      "[VAL] pr: RMSE=1.9383, Time-Mean RMSE=0.2542, Time-Stddev MAE=0.7761\n"
     ]
    },
    {
     "data": {
      "application/vnd.jupyter.widget-view+json": {
       "model_id": "",
       "version_major": 2,
       "version_minor": 0
      },
      "text/plain": [
       "Validation: |                                                                                    | 0/? [00:00<…"
      ]
     },
     "metadata": {},
     "output_type": "display_data"
    },
    {
     "name": "stdout",
     "output_type": "stream",
     "text": [
      "[VAL] tas: RMSE=1.3646, Time-Mean RMSE=0.6871, Time-Stddev MAE=0.1830\n",
      "[VAL] pr: RMSE=1.9448, Time-Mean RMSE=0.2829, Time-Stddev MAE=0.7654\n"
     ]
    },
    {
     "data": {
      "application/vnd.jupyter.widget-view+json": {
       "model_id": "",
       "version_major": 2,
       "version_minor": 0
      },
      "text/plain": [
       "Validation: |                                                                                    | 0/? [00:00<…"
      ]
     },
     "metadata": {},
     "output_type": "display_data"
    },
    {
     "name": "stdout",
     "output_type": "stream",
     "text": [
      "[VAL] tas: RMSE=1.3766, Time-Mean RMSE=0.6844, Time-Stddev MAE=0.1991\n",
      "[VAL] pr: RMSE=1.9472, Time-Mean RMSE=0.2859, Time-Stddev MAE=0.7710\n"
     ]
    },
    {
     "data": {
      "application/vnd.jupyter.widget-view+json": {
       "model_id": "",
       "version_major": 2,
       "version_minor": 0
      },
      "text/plain": [
       "Validation: |                                                                                    | 0/? [00:00<…"
      ]
     },
     "metadata": {},
     "output_type": "display_data"
    },
    {
     "name": "stdout",
     "output_type": "stream",
     "text": [
      "[VAL] tas: RMSE=1.2671, Time-Mean RMSE=0.4315, Time-Stddev MAE=0.1548\n",
      "[VAL] pr: RMSE=1.9360, Time-Mean RMSE=0.2338, Time-Stddev MAE=0.7509\n"
     ]
    },
    {
     "data": {
      "application/vnd.jupyter.widget-view+json": {
       "model_id": "",
       "version_major": 2,
       "version_minor": 0
      },
      "text/plain": [
       "Validation: |                                                                                    | 0/? [00:00<…"
      ]
     },
     "metadata": {},
     "output_type": "display_data"
    },
    {
     "name": "stdout",
     "output_type": "stream",
     "text": [
      "[VAL] tas: RMSE=1.3409, Time-Mean RMSE=0.5891, Time-Stddev MAE=0.1914\n",
      "[VAL] pr: RMSE=1.9395, Time-Mean RMSE=0.2433, Time-Stddev MAE=0.7691\n"
     ]
    },
    {
     "data": {
      "application/vnd.jupyter.widget-view+json": {
       "model_id": "",
       "version_major": 2,
       "version_minor": 0
      },
      "text/plain": [
       "Validation: |                                                                                    | 0/? [00:00<…"
      ]
     },
     "metadata": {},
     "output_type": "display_data"
    },
    {
     "name": "stdout",
     "output_type": "stream",
     "text": [
      "[VAL] tas: RMSE=1.2965, Time-Mean RMSE=0.4147, Time-Stddev MAE=0.1764\n",
      "[VAL] pr: RMSE=1.9362, Time-Mean RMSE=0.2250, Time-Stddev MAE=0.7582\n"
     ]
    },
    {
     "data": {
      "application/vnd.jupyter.widget-view+json": {
       "model_id": "",
       "version_major": 2,
       "version_minor": 0
      },
      "text/plain": [
       "Validation: |                                                                                    | 0/? [00:00<…"
      ]
     },
     "metadata": {},
     "output_type": "display_data"
    },
    {
     "name": "stdout",
     "output_type": "stream",
     "text": [
      "[VAL] tas: RMSE=1.3168, Time-Mean RMSE=0.4825, Time-Stddev MAE=0.1902\n",
      "[VAL] pr: RMSE=1.9408, Time-Mean RMSE=0.2618, Time-Stddev MAE=0.7531\n"
     ]
    },
    {
     "data": {
      "application/vnd.jupyter.widget-view+json": {
       "model_id": "",
       "version_major": 2,
       "version_minor": 0
      },
      "text/plain": [
       "Validation: |                                                                                    | 0/? [00:00<…"
      ]
     },
     "metadata": {},
     "output_type": "display_data"
    },
    {
     "name": "stdout",
     "output_type": "stream",
     "text": [
      "[VAL] tas: RMSE=1.3696, Time-Mean RMSE=0.5864, Time-Stddev MAE=0.1746\n",
      "[VAL] pr: RMSE=1.9363, Time-Mean RMSE=0.2277, Time-Stddev MAE=0.7458\n"
     ]
    },
    {
     "data": {
      "application/vnd.jupyter.widget-view+json": {
       "model_id": "",
       "version_major": 2,
       "version_minor": 0
      },
      "text/plain": [
       "Validation: |                                                                                    | 0/? [00:00<…"
      ]
     },
     "metadata": {},
     "output_type": "display_data"
    },
    {
     "name": "stdout",
     "output_type": "stream",
     "text": [
      "[VAL] tas: RMSE=1.4104, Time-Mean RMSE=0.7330, Time-Stddev MAE=0.1727\n",
      "[VAL] pr: RMSE=1.9406, Time-Mean RMSE=0.2559, Time-Stddev MAE=0.7472\n"
     ]
    },
    {
     "data": {
      "application/vnd.jupyter.widget-view+json": {
       "model_id": "",
       "version_major": 2,
       "version_minor": 0
      },
      "text/plain": [
       "Validation: |                                                                                    | 0/? [00:00<…"
      ]
     },
     "metadata": {},
     "output_type": "display_data"
    },
    {
     "name": "stdout",
     "output_type": "stream",
     "text": [
      "[VAL] tas: RMSE=1.3812, Time-Mean RMSE=0.6547, Time-Stddev MAE=0.2402\n",
      "[VAL] pr: RMSE=1.9411, Time-Mean RMSE=0.2540, Time-Stddev MAE=0.7526\n"
     ]
    },
    {
     "data": {
      "application/vnd.jupyter.widget-view+json": {
       "model_id": "",
       "version_major": 2,
       "version_minor": 0
      },
      "text/plain": [
       "Validation: |                                                                                    | 0/? [00:00<…"
      ]
     },
     "metadata": {},
     "output_type": "display_data"
    },
    {
     "name": "stdout",
     "output_type": "stream",
     "text": [
      "[VAL] tas: RMSE=1.3791, Time-Mean RMSE=0.6983, Time-Stddev MAE=0.2118\n",
      "[VAL] pr: RMSE=1.9385, Time-Mean RMSE=0.2456, Time-Stddev MAE=0.7433\n"
     ]
    },
    {
     "data": {
      "application/vnd.jupyter.widget-view+json": {
       "model_id": "",
       "version_major": 2,
       "version_minor": 0
      },
      "text/plain": [
       "Validation: |                                                                                    | 0/? [00:00<…"
      ]
     },
     "metadata": {},
     "output_type": "display_data"
    },
    {
     "name": "stdout",
     "output_type": "stream",
     "text": [
      "[VAL] tas: RMSE=1.3480, Time-Mean RMSE=0.5321, Time-Stddev MAE=0.1975\n",
      "[VAL] pr: RMSE=1.9493, Time-Mean RMSE=0.2438, Time-Stddev MAE=0.7874\n"
     ]
    },
    {
     "data": {
      "application/vnd.jupyter.widget-view+json": {
       "model_id": "",
       "version_major": 2,
       "version_minor": 0
      },
      "text/plain": [
       "Validation: |                                                                                    | 0/? [00:00<…"
      ]
     },
     "metadata": {},
     "output_type": "display_data"
    },
    {
     "name": "stdout",
     "output_type": "stream",
     "text": [
      "[VAL] tas: RMSE=1.3489, Time-Mean RMSE=0.6356, Time-Stddev MAE=0.1749\n",
      "[VAL] pr: RMSE=1.9428, Time-Mean RMSE=0.2725, Time-Stddev MAE=0.7553\n"
     ]
    },
    {
     "data": {
      "application/vnd.jupyter.widget-view+json": {
       "model_id": "",
       "version_major": 2,
       "version_minor": 0
      },
      "text/plain": [
       "Validation: |                                                                                    | 0/? [00:00<…"
      ]
     },
     "metadata": {},
     "output_type": "display_data"
    },
    {
     "name": "stdout",
     "output_type": "stream",
     "text": [
      "[VAL] tas: RMSE=1.3254, Time-Mean RMSE=0.6058, Time-Stddev MAE=0.1747\n",
      "[VAL] pr: RMSE=1.9412, Time-Mean RMSE=0.2558, Time-Stddev MAE=0.7493\n"
     ]
    },
    {
     "data": {
      "application/vnd.jupyter.widget-view+json": {
       "model_id": "",
       "version_major": 2,
       "version_minor": 0
      },
      "text/plain": [
       "Validation: |                                                                                    | 0/? [00:00<…"
      ]
     },
     "metadata": {},
     "output_type": "display_data"
    },
    {
     "name": "stdout",
     "output_type": "stream",
     "text": [
      "[VAL] tas: RMSE=1.3291, Time-Mean RMSE=0.4817, Time-Stddev MAE=0.2316\n",
      "[VAL] pr: RMSE=1.9396, Time-Mean RMSE=0.2597, Time-Stddev MAE=0.7613\n"
     ]
    },
    {
     "data": {
      "application/vnd.jupyter.widget-view+json": {
       "model_id": "",
       "version_major": 2,
       "version_minor": 0
      },
      "text/plain": [
       "Validation: |                                                                                    | 0/? [00:00<…"
      ]
     },
     "metadata": {},
     "output_type": "display_data"
    },
    {
     "name": "stdout",
     "output_type": "stream",
     "text": [
      "[VAL] tas: RMSE=1.3936, Time-Mean RMSE=0.6621, Time-Stddev MAE=0.1907\n",
      "[VAL] pr: RMSE=1.9377, Time-Mean RMSE=0.2377, Time-Stddev MAE=0.7474\n"
     ]
    },
    {
     "data": {
      "application/vnd.jupyter.widget-view+json": {
       "model_id": "",
       "version_major": 2,
       "version_minor": 0
      },
      "text/plain": [
       "Validation: |                                                                                    | 0/? [00:00<…"
      ]
     },
     "metadata": {},
     "output_type": "display_data"
    },
    {
     "name": "stdout",
     "output_type": "stream",
     "text": [
      "[VAL] tas: RMSE=1.2763, Time-Mean RMSE=0.4821, Time-Stddev MAE=0.2038\n",
      "[VAL] pr: RMSE=1.9378, Time-Mean RMSE=0.2403, Time-Stddev MAE=0.7392\n"
     ]
    },
    {
     "data": {
      "application/vnd.jupyter.widget-view+json": {
       "model_id": "",
       "version_major": 2,
       "version_minor": 0
      },
      "text/plain": [
       "Validation: |                                                                                    | 0/? [00:00<…"
      ]
     },
     "metadata": {},
     "output_type": "display_data"
    },
    {
     "name": "stdout",
     "output_type": "stream",
     "text": [
      "[VAL] tas: RMSE=1.3747, Time-Mean RMSE=0.4761, Time-Stddev MAE=0.2432\n",
      "[VAL] pr: RMSE=1.9408, Time-Mean RMSE=0.2614, Time-Stddev MAE=0.7700\n"
     ]
    },
    {
     "data": {
      "application/vnd.jupyter.widget-view+json": {
       "model_id": "",
       "version_major": 2,
       "version_minor": 0
      },
      "text/plain": [
       "Validation: |                                                                                    | 0/? [00:00<…"
      ]
     },
     "metadata": {},
     "output_type": "display_data"
    },
    {
     "name": "stdout",
     "output_type": "stream",
     "text": [
      "[VAL] tas: RMSE=2.3179, Time-Mean RMSE=0.6665, Time-Stddev MAE=0.2667\n",
      "[VAL] pr: RMSE=2.1993, Time-Mean RMSE=0.4139, Time-Stddev MAE=0.7580\n"
     ]
    },
    {
     "data": {
      "application/vnd.jupyter.widget-view+json": {
       "model_id": "",
       "version_major": 2,
       "version_minor": 0
      },
      "text/plain": [
       "Validation: |                                                                                    | 0/? [00:00<…"
      ]
     },
     "metadata": {},
     "output_type": "display_data"
    },
    {
     "name": "stdout",
     "output_type": "stream",
     "text": [
      "[VAL] tas: RMSE=1.4732, Time-Mean RMSE=0.8150, Time-Stddev MAE=0.2183\n",
      "[VAL] pr: RMSE=1.9532, Time-Mean RMSE=0.3040, Time-Stddev MAE=0.7741\n"
     ]
    },
    {
     "data": {
      "application/vnd.jupyter.widget-view+json": {
       "model_id": "",
       "version_major": 2,
       "version_minor": 0
      },
      "text/plain": [
       "Validation: |                                                                                    | 0/? [00:00<…"
      ]
     },
     "metadata": {},
     "output_type": "display_data"
    },
    {
     "name": "stdout",
     "output_type": "stream",
     "text": [
      "[VAL] tas: RMSE=1.8657, Time-Mean RMSE=0.6668, Time-Stddev MAE=0.3746\n",
      "[VAL] pr: RMSE=2.1161, Time-Mean RMSE=0.3335, Time-Stddev MAE=0.8453\n"
     ]
    },
    {
     "data": {
      "application/vnd.jupyter.widget-view+json": {
       "model_id": "",
       "version_major": 2,
       "version_minor": 0
      },
      "text/plain": [
       "Validation: |                                                                                    | 0/? [00:00<…"
      ]
     },
     "metadata": {},
     "output_type": "display_data"
    },
    {
     "name": "stdout",
     "output_type": "stream",
     "text": [
      "[VAL] tas: RMSE=1.4811, Time-Mean RMSE=0.8399, Time-Stddev MAE=0.2804\n",
      "[VAL] pr: RMSE=1.9461, Time-Mean RMSE=0.2707, Time-Stddev MAE=0.7852\n"
     ]
    },
    {
     "data": {
      "application/vnd.jupyter.widget-view+json": {
       "model_id": "",
       "version_major": 2,
       "version_minor": 0
      },
      "text/plain": [
       "Validation: |                                                                                    | 0/? [00:00<…"
      ]
     },
     "metadata": {},
     "output_type": "display_data"
    },
    {
     "name": "stdout",
     "output_type": "stream",
     "text": [
      "[VAL] tas: RMSE=1.7972, Time-Mean RMSE=1.0417, Time-Stddev MAE=0.1847\n",
      "[VAL] pr: RMSE=2.0207, Time-Mean RMSE=0.2849, Time-Stddev MAE=0.7958\n"
     ]
    },
    {
     "data": {
      "application/vnd.jupyter.widget-view+json": {
       "model_id": "",
       "version_major": 2,
       "version_minor": 0
      },
      "text/plain": [
       "Validation: |                                                                                    | 0/? [00:00<…"
      ]
     },
     "metadata": {},
     "output_type": "display_data"
    },
    {
     "name": "stdout",
     "output_type": "stream",
     "text": [
      "[VAL] tas: RMSE=1.4495, Time-Mean RMSE=0.7392, Time-Stddev MAE=0.2747\n",
      "[VAL] pr: RMSE=1.9532, Time-Mean RMSE=0.2877, Time-Stddev MAE=0.8077\n"
     ]
    },
    {
     "data": {
      "application/vnd.jupyter.widget-view+json": {
       "model_id": "",
       "version_major": 2,
       "version_minor": 0
      },
      "text/plain": [
       "Validation: |                                                                                    | 0/? [00:00<…"
      ]
     },
     "metadata": {},
     "output_type": "display_data"
    },
    {
     "name": "stdout",
     "output_type": "stream",
     "text": [
      "[VAL] tas: RMSE=1.6932, Time-Mean RMSE=1.0562, Time-Stddev MAE=0.1802\n",
      "[VAL] pr: RMSE=1.9588, Time-Mean RMSE=0.2995, Time-Stddev MAE=0.7731\n"
     ]
    },
    {
     "data": {
      "application/vnd.jupyter.widget-view+json": {
       "model_id": "",
       "version_major": 2,
       "version_minor": 0
      },
      "text/plain": [
       "Validation: |                                                                                    | 0/? [00:00<…"
      ]
     },
     "metadata": {},
     "output_type": "display_data"
    },
    {
     "name": "stdout",
     "output_type": "stream",
     "text": [
      "[VAL] tas: RMSE=1.5273, Time-Mean RMSE=0.9237, Time-Stddev MAE=0.1966\n",
      "[VAL] pr: RMSE=1.9562, Time-Mean RMSE=0.3151, Time-Stddev MAE=0.7820\n"
     ]
    },
    {
     "data": {
      "application/vnd.jupyter.widget-view+json": {
       "model_id": "",
       "version_major": 2,
       "version_minor": 0
      },
      "text/plain": [
       "Validation: |                                                                                    | 0/? [00:00<…"
      ]
     },
     "metadata": {},
     "output_type": "display_data"
    },
    {
     "name": "stdout",
     "output_type": "stream",
     "text": [
      "[VAL] tas: RMSE=1.3714, Time-Mean RMSE=0.5126, Time-Stddev MAE=0.1895\n",
      "[VAL] pr: RMSE=1.9442, Time-Mean RMSE=0.2563, Time-Stddev MAE=0.7644\n"
     ]
    },
    {
     "data": {
      "application/vnd.jupyter.widget-view+json": {
       "model_id": "",
       "version_major": 2,
       "version_minor": 0
      },
      "text/plain": [
       "Validation: |                                                                                    | 0/? [00:00<…"
      ]
     },
     "metadata": {},
     "output_type": "display_data"
    },
    {
     "name": "stdout",
     "output_type": "stream",
     "text": [
      "[VAL] tas: RMSE=1.5009, Time-Mean RMSE=0.8475, Time-Stddev MAE=0.2454\n",
      "[VAL] pr: RMSE=1.9593, Time-Mean RMSE=0.2922, Time-Stddev MAE=0.7974\n"
     ]
    },
    {
     "data": {
      "application/vnd.jupyter.widget-view+json": {
       "model_id": "",
       "version_major": 2,
       "version_minor": 0
      },
      "text/plain": [
       "Validation: |                                                                                    | 0/? [00:00<…"
      ]
     },
     "metadata": {},
     "output_type": "display_data"
    },
    {
     "name": "stdout",
     "output_type": "stream",
     "text": [
      "[VAL] tas: RMSE=1.6220, Time-Mean RMSE=0.8281, Time-Stddev MAE=0.2519\n",
      "[VAL] pr: RMSE=2.0384, Time-Mean RMSE=0.3083, Time-Stddev MAE=0.8156\n"
     ]
    },
    {
     "data": {
      "application/vnd.jupyter.widget-view+json": {
       "model_id": "",
       "version_major": 2,
       "version_minor": 0
      },
      "text/plain": [
       "Validation: |                                                                                    | 0/? [00:00<…"
      ]
     },
     "metadata": {},
     "output_type": "display_data"
    },
    {
     "name": "stdout",
     "output_type": "stream",
     "text": [
      "[VAL] tas: RMSE=1.4459, Time-Mean RMSE=0.6699, Time-Stddev MAE=0.1775\n",
      "[VAL] pr: RMSE=1.9483, Time-Mean RMSE=0.2637, Time-Stddev MAE=0.7979\n"
     ]
    },
    {
     "data": {
      "application/vnd.jupyter.widget-view+json": {
       "model_id": "",
       "version_major": 2,
       "version_minor": 0
      },
      "text/plain": [
       "Validation: |                                                                                    | 0/? [00:00<…"
      ]
     },
     "metadata": {},
     "output_type": "display_data"
    },
    {
     "name": "stdout",
     "output_type": "stream",
     "text": [
      "[VAL] tas: RMSE=1.9350, Time-Mean RMSE=0.5753, Time-Stddev MAE=0.1584\n",
      "[VAL] pr: RMSE=2.1464, Time-Mean RMSE=0.2912, Time-Stddev MAE=0.7680\n"
     ]
    },
    {
     "data": {
      "application/vnd.jupyter.widget-view+json": {
       "model_id": "",
       "version_major": 2,
       "version_minor": 0
      },
      "text/plain": [
       "Validation: |                                                                                    | 0/? [00:00<…"
      ]
     },
     "metadata": {},
     "output_type": "display_data"
    },
    {
     "name": "stdout",
     "output_type": "stream",
     "text": [
      "[VAL] tas: RMSE=1.4492, Time-Mean RMSE=0.7699, Time-Stddev MAE=0.2023\n",
      "[VAL] pr: RMSE=1.9463, Time-Mean RMSE=0.2645, Time-Stddev MAE=0.7683\n"
     ]
    },
    {
     "data": {
      "application/vnd.jupyter.widget-view+json": {
       "model_id": "",
       "version_major": 2,
       "version_minor": 0
      },
      "text/plain": [
       "Validation: |                                                                                    | 0/? [00:00<…"
      ]
     },
     "metadata": {},
     "output_type": "display_data"
    },
    {
     "name": "stdout",
     "output_type": "stream",
     "text": [
      "[VAL] tas: RMSE=1.4783, Time-Mean RMSE=0.7832, Time-Stddev MAE=0.2027\n",
      "[VAL] pr: RMSE=1.9503, Time-Mean RMSE=0.2888, Time-Stddev MAE=0.7555\n"
     ]
    },
    {
     "data": {
      "application/vnd.jupyter.widget-view+json": {
       "model_id": "",
       "version_major": 2,
       "version_minor": 0
      },
      "text/plain": [
       "Validation: |                                                                                    | 0/? [00:00<…"
      ]
     },
     "metadata": {},
     "output_type": "display_data"
    },
    {
     "name": "stdout",
     "output_type": "stream",
     "text": [
      "[VAL] tas: RMSE=1.3463, Time-Mean RMSE=0.5997, Time-Stddev MAE=0.1466\n",
      "[VAL] pr: RMSE=1.9450, Time-Mean RMSE=0.2689, Time-Stddev MAE=0.7383\n"
     ]
    },
    {
     "data": {
      "application/vnd.jupyter.widget-view+json": {
       "model_id": "",
       "version_major": 2,
       "version_minor": 0
      },
      "text/plain": [
       "Validation: |                                                                                    | 0/? [00:00<…"
      ]
     },
     "metadata": {},
     "output_type": "display_data"
    },
    {
     "name": "stdout",
     "output_type": "stream",
     "text": [
      "[VAL] tas: RMSE=1.4384, Time-Mean RMSE=0.6865, Time-Stddev MAE=0.2846\n",
      "[VAL] pr: RMSE=1.9710, Time-Mean RMSE=0.3083, Time-Stddev MAE=0.7777\n"
     ]
    },
    {
     "data": {
      "application/vnd.jupyter.widget-view+json": {
       "model_id": "",
       "version_major": 2,
       "version_minor": 0
      },
      "text/plain": [
       "Validation: |                                                                                    | 0/? [00:00<…"
      ]
     },
     "metadata": {},
     "output_type": "display_data"
    },
    {
     "name": "stdout",
     "output_type": "stream",
     "text": [
      "[VAL] tas: RMSE=1.4325, Time-Mean RMSE=0.6812, Time-Stddev MAE=0.2242\n",
      "[VAL] pr: RMSE=1.9656, Time-Mean RMSE=0.2666, Time-Stddev MAE=0.7870\n"
     ]
    },
    {
     "data": {
      "application/vnd.jupyter.widget-view+json": {
       "model_id": "",
       "version_major": 2,
       "version_minor": 0
      },
      "text/plain": [
       "Validation: |                                                                                    | 0/? [00:00<…"
      ]
     },
     "metadata": {},
     "output_type": "display_data"
    },
    {
     "name": "stdout",
     "output_type": "stream",
     "text": [
      "[VAL] tas: RMSE=1.3925, Time-Mean RMSE=0.4232, Time-Stddev MAE=0.2710\n",
      "[VAL] pr: RMSE=1.9804, Time-Mean RMSE=0.2554, Time-Stddev MAE=0.7972\n"
     ]
    },
    {
     "data": {
      "application/vnd.jupyter.widget-view+json": {
       "model_id": "",
       "version_major": 2,
       "version_minor": 0
      },
      "text/plain": [
       "Validation: |                                                                                    | 0/? [00:00<…"
      ]
     },
     "metadata": {},
     "output_type": "display_data"
    },
    {
     "name": "stdout",
     "output_type": "stream",
     "text": [
      "[VAL] tas: RMSE=1.6467, Time-Mean RMSE=0.3830, Time-Stddev MAE=0.2601\n",
      "[VAL] pr: RMSE=2.0269, Time-Mean RMSE=0.2332, Time-Stddev MAE=0.7843\n"
     ]
    },
    {
     "data": {
      "application/vnd.jupyter.widget-view+json": {
       "model_id": "",
       "version_major": 2,
       "version_minor": 0
      },
      "text/plain": [
       "Validation: |                                                                                    | 0/? [00:00<…"
      ]
     },
     "metadata": {},
     "output_type": "display_data"
    },
    {
     "name": "stdout",
     "output_type": "stream",
     "text": [
      "[VAL] tas: RMSE=1.2800, Time-Mean RMSE=0.4107, Time-Stddev MAE=0.1826\n",
      "[VAL] pr: RMSE=1.9449, Time-Mean RMSE=0.2436, Time-Stddev MAE=0.7700\n"
     ]
    },
    {
     "data": {
      "application/vnd.jupyter.widget-view+json": {
       "model_id": "",
       "version_major": 2,
       "version_minor": 0
      },
      "text/plain": [
       "Validation: |                                                                                    | 0/? [00:00<…"
      ]
     },
     "metadata": {},
     "output_type": "display_data"
    },
    {
     "name": "stdout",
     "output_type": "stream",
     "text": [
      "[VAL] tas: RMSE=1.3521, Time-Mean RMSE=0.6748, Time-Stddev MAE=0.1665\n",
      "[VAL] pr: RMSE=1.9405, Time-Mean RMSE=0.2629, Time-Stddev MAE=0.7563\n"
     ]
    },
    {
     "data": {
      "application/vnd.jupyter.widget-view+json": {
       "model_id": "",
       "version_major": 2,
       "version_minor": 0
      },
      "text/plain": [
       "Validation: |                                                                                    | 0/? [00:00<…"
      ]
     },
     "metadata": {},
     "output_type": "display_data"
    },
    {
     "name": "stdout",
     "output_type": "stream",
     "text": [
      "[VAL] tas: RMSE=1.4163, Time-Mean RMSE=0.7924, Time-Stddev MAE=0.2234\n",
      "[VAL] pr: RMSE=1.9456, Time-Mean RMSE=0.2552, Time-Stddev MAE=0.7688\n"
     ]
    },
    {
     "data": {
      "application/vnd.jupyter.widget-view+json": {
       "model_id": "",
       "version_major": 2,
       "version_minor": 0
      },
      "text/plain": [
       "Validation: |                                                                                    | 0/? [00:00<…"
      ]
     },
     "metadata": {},
     "output_type": "display_data"
    },
    {
     "name": "stdout",
     "output_type": "stream",
     "text": [
      "[VAL] tas: RMSE=1.4174, Time-Mean RMSE=0.7351, Time-Stddev MAE=0.1843\n",
      "[VAL] pr: RMSE=1.9440, Time-Mean RMSE=0.2657, Time-Stddev MAE=0.7726\n"
     ]
    },
    {
     "data": {
      "application/vnd.jupyter.widget-view+json": {
       "model_id": "",
       "version_major": 2,
       "version_minor": 0
      },
      "text/plain": [
       "Validation: |                                                                                    | 0/? [00:00<…"
      ]
     },
     "metadata": {},
     "output_type": "display_data"
    },
    {
     "name": "stdout",
     "output_type": "stream",
     "text": [
      "[VAL] tas: RMSE=1.3221, Time-Mean RMSE=0.4566, Time-Stddev MAE=0.1966\n",
      "[VAL] pr: RMSE=1.9427, Time-Mean RMSE=0.2518, Time-Stddev MAE=0.7683\n"
     ]
    },
    {
     "data": {
      "application/vnd.jupyter.widget-view+json": {
       "model_id": "",
       "version_major": 2,
       "version_minor": 0
      },
      "text/plain": [
       "Validation: |                                                                                    | 0/? [00:00<…"
      ]
     },
     "metadata": {},
     "output_type": "display_data"
    },
    {
     "name": "stdout",
     "output_type": "stream",
     "text": [
      "[VAL] tas: RMSE=1.3001, Time-Mean RMSE=0.5046, Time-Stddev MAE=0.1948\n",
      "[VAL] pr: RMSE=1.9437, Time-Mean RMSE=0.2521, Time-Stddev MAE=0.7755\n"
     ]
    },
    {
     "data": {
      "application/vnd.jupyter.widget-view+json": {
       "model_id": "",
       "version_major": 2,
       "version_minor": 0
      },
      "text/plain": [
       "Validation: |                                                                                    | 0/? [00:00<…"
      ]
     },
     "metadata": {},
     "output_type": "display_data"
    },
    {
     "name": "stdout",
     "output_type": "stream",
     "text": [
      "[VAL] tas: RMSE=1.4064, Time-Mean RMSE=0.5796, Time-Stddev MAE=0.2047\n",
      "[VAL] pr: RMSE=1.9426, Time-Mean RMSE=0.2571, Time-Stddev MAE=0.7322\n"
     ]
    },
    {
     "data": {
      "application/vnd.jupyter.widget-view+json": {
       "model_id": "",
       "version_major": 2,
       "version_minor": 0
      },
      "text/plain": [
       "Validation: |                                                                                    | 0/? [00:00<…"
      ]
     },
     "metadata": {},
     "output_type": "display_data"
    },
    {
     "name": "stdout",
     "output_type": "stream",
     "text": [
      "[VAL] tas: RMSE=1.2887, Time-Mean RMSE=0.4522, Time-Stddev MAE=0.1715\n",
      "[VAL] pr: RMSE=1.9369, Time-Mean RMSE=0.2399, Time-Stddev MAE=0.7421\n"
     ]
    },
    {
     "data": {
      "application/vnd.jupyter.widget-view+json": {
       "model_id": "",
       "version_major": 2,
       "version_minor": 0
      },
      "text/plain": [
       "Validation: |                                                                                    | 0/? [00:00<…"
      ]
     },
     "metadata": {},
     "output_type": "display_data"
    },
    {
     "name": "stdout",
     "output_type": "stream",
     "text": [
      "[VAL] tas: RMSE=1.3117, Time-Mean RMSE=0.4544, Time-Stddev MAE=0.1596\n",
      "[VAL] pr: RMSE=1.9397, Time-Mean RMSE=0.2504, Time-Stddev MAE=0.7446\n"
     ]
    },
    {
     "data": {
      "application/vnd.jupyter.widget-view+json": {
       "model_id": "",
       "version_major": 2,
       "version_minor": 0
      },
      "text/plain": [
       "Validation: |                                                                                    | 0/? [00:00<…"
      ]
     },
     "metadata": {},
     "output_type": "display_data"
    },
    {
     "name": "stdout",
     "output_type": "stream",
     "text": [
      "[VAL] tas: RMSE=1.2926, Time-Mean RMSE=0.5267, Time-Stddev MAE=0.1544\n",
      "[VAL] pr: RMSE=1.9396, Time-Mean RMSE=0.2465, Time-Stddev MAE=0.7625\n"
     ]
    },
    {
     "data": {
      "application/vnd.jupyter.widget-view+json": {
       "model_id": "",
       "version_major": 2,
       "version_minor": 0
      },
      "text/plain": [
       "Validation: |                                                                                    | 0/? [00:00<…"
      ]
     },
     "metadata": {},
     "output_type": "display_data"
    },
    {
     "name": "stdout",
     "output_type": "stream",
     "text": [
      "[VAL] tas: RMSE=1.3468, Time-Mean RMSE=0.6283, Time-Stddev MAE=0.1931\n",
      "[VAL] pr: RMSE=1.9428, Time-Mean RMSE=0.2617, Time-Stddev MAE=0.7773\n"
     ]
    },
    {
     "data": {
      "application/vnd.jupyter.widget-view+json": {
       "model_id": "",
       "version_major": 2,
       "version_minor": 0
      },
      "text/plain": [
       "Validation: |                                                                                    | 0/? [00:00<…"
      ]
     },
     "metadata": {},
     "output_type": "display_data"
    },
    {
     "name": "stdout",
     "output_type": "stream",
     "text": [
      "[VAL] tas: RMSE=1.3222, Time-Mean RMSE=0.6160, Time-Stddev MAE=0.1489\n",
      "[VAL] pr: RMSE=1.9379, Time-Mean RMSE=0.2467, Time-Stddev MAE=0.7443\n"
     ]
    },
    {
     "data": {
      "application/vnd.jupyter.widget-view+json": {
       "model_id": "",
       "version_major": 2,
       "version_minor": 0
      },
      "text/plain": [
       "Validation: |                                                                                    | 0/? [00:00<…"
      ]
     },
     "metadata": {},
     "output_type": "display_data"
    },
    {
     "name": "stdout",
     "output_type": "stream",
     "text": [
      "[VAL] tas: RMSE=1.6731, Time-Mean RMSE=1.1297, Time-Stddev MAE=0.1673\n",
      "[VAL] pr: RMSE=1.9524, Time-Mean RMSE=0.2858, Time-Stddev MAE=0.7622\n"
     ]
    },
    {
     "data": {
      "application/vnd.jupyter.widget-view+json": {
       "model_id": "",
       "version_major": 2,
       "version_minor": 0
      },
      "text/plain": [
       "Validation: |                                                                                    | 0/? [00:00<…"
      ]
     },
     "metadata": {},
     "output_type": "display_data"
    },
    {
     "name": "stdout",
     "output_type": "stream",
     "text": [
      "[VAL] tas: RMSE=1.2777, Time-Mean RMSE=0.4098, Time-Stddev MAE=0.1604\n",
      "[VAL] pr: RMSE=1.9390, Time-Mean RMSE=0.2391, Time-Stddev MAE=0.7260\n"
     ]
    },
    {
     "data": {
      "application/vnd.jupyter.widget-view+json": {
       "model_id": "",
       "version_major": 2,
       "version_minor": 0
      },
      "text/plain": [
       "Validation: |                                                                                    | 0/? [00:00<…"
      ]
     },
     "metadata": {},
     "output_type": "display_data"
    },
    {
     "name": "stdout",
     "output_type": "stream",
     "text": [
      "[VAL] tas: RMSE=1.3217, Time-Mean RMSE=0.4757, Time-Stddev MAE=0.1848\n",
      "[VAL] pr: RMSE=1.9476, Time-Mean RMSE=0.2261, Time-Stddev MAE=0.7546\n"
     ]
    },
    {
     "data": {
      "application/vnd.jupyter.widget-view+json": {
       "model_id": "",
       "version_major": 2,
       "version_minor": 0
      },
      "text/plain": [
       "Validation: |                                                                                    | 0/? [00:00<…"
      ]
     },
     "metadata": {},
     "output_type": "display_data"
    },
    {
     "name": "stdout",
     "output_type": "stream",
     "text": [
      "[VAL] tas: RMSE=1.5163, Time-Mean RMSE=0.8082, Time-Stddev MAE=0.2087\n",
      "[VAL] pr: RMSE=1.9451, Time-Mean RMSE=0.2643, Time-Stddev MAE=0.7641\n"
     ]
    },
    {
     "data": {
      "application/vnd.jupyter.widget-view+json": {
       "model_id": "",
       "version_major": 2,
       "version_minor": 0
      },
      "text/plain": [
       "Validation: |                                                                                    | 0/? [00:00<…"
      ]
     },
     "metadata": {},
     "output_type": "display_data"
    },
    {
     "name": "stdout",
     "output_type": "stream",
     "text": [
      "[VAL] tas: RMSE=1.6565, Time-Mean RMSE=0.4661, Time-Stddev MAE=0.2741\n",
      "[VAL] pr: RMSE=2.0388, Time-Mean RMSE=0.2716, Time-Stddev MAE=0.8014\n"
     ]
    },
    {
     "data": {
      "application/vnd.jupyter.widget-view+json": {
       "model_id": "",
       "version_major": 2,
       "version_minor": 0
      },
      "text/plain": [
       "Validation: |                                                                                    | 0/? [00:00<…"
      ]
     },
     "metadata": {},
     "output_type": "display_data"
    },
    {
     "name": "stdout",
     "output_type": "stream",
     "text": [
      "[VAL] tas: RMSE=1.4604, Time-Mean RMSE=0.4158, Time-Stddev MAE=0.2734\n",
      "[VAL] pr: RMSE=1.9638, Time-Mean RMSE=0.2098, Time-Stddev MAE=0.7590\n"
     ]
    },
    {
     "data": {
      "application/vnd.jupyter.widget-view+json": {
       "model_id": "",
       "version_major": 2,
       "version_minor": 0
      },
      "text/plain": [
       "Validation: |                                                                                    | 0/? [00:00<…"
      ]
     },
     "metadata": {},
     "output_type": "display_data"
    },
    {
     "name": "stdout",
     "output_type": "stream",
     "text": [
      "[VAL] tas: RMSE=2.2805, Time-Mean RMSE=0.5756, Time-Stddev MAE=0.2461\n",
      "[VAL] pr: RMSE=2.2314, Time-Mean RMSE=0.3666, Time-Stddev MAE=0.8202\n"
     ]
    },
    {
     "data": {
      "application/vnd.jupyter.widget-view+json": {
       "model_id": "",
       "version_major": 2,
       "version_minor": 0
      },
      "text/plain": [
       "Validation: |                                                                                    | 0/? [00:00<…"
      ]
     },
     "metadata": {},
     "output_type": "display_data"
    },
    {
     "name": "stdout",
     "output_type": "stream",
     "text": [
      "[VAL] tas: RMSE=2.2361, Time-Mean RMSE=0.8621, Time-Stddev MAE=0.3587\n",
      "[VAL] pr: RMSE=2.2007, Time-Mean RMSE=0.3115, Time-Stddev MAE=0.8501\n"
     ]
    },
    {
     "data": {
      "application/vnd.jupyter.widget-view+json": {
       "model_id": "",
       "version_major": 2,
       "version_minor": 0
      },
      "text/plain": [
       "Validation: |                                                                                    | 0/? [00:00<…"
      ]
     },
     "metadata": {},
     "output_type": "display_data"
    },
    {
     "name": "stdout",
     "output_type": "stream",
     "text": [
      "[VAL] tas: RMSE=1.3371, Time-Mean RMSE=0.4636, Time-Stddev MAE=0.1862\n",
      "[VAL] pr: RMSE=1.9447, Time-Mean RMSE=0.2341, Time-Stddev MAE=0.7419\n"
     ]
    },
    {
     "data": {
      "application/vnd.jupyter.widget-view+json": {
       "model_id": "",
       "version_major": 2,
       "version_minor": 0
      },
      "text/plain": [
       "Validation: |                                                                                    | 0/? [00:00<…"
      ]
     },
     "metadata": {},
     "output_type": "display_data"
    },
    {
     "name": "stdout",
     "output_type": "stream",
     "text": [
      "[VAL] tas: RMSE=1.2748, Time-Mean RMSE=0.4448, Time-Stddev MAE=0.1981\n",
      "[VAL] pr: RMSE=1.9402, Time-Mean RMSE=0.2583, Time-Stddev MAE=0.7594\n"
     ]
    },
    {
     "data": {
      "application/vnd.jupyter.widget-view+json": {
       "model_id": "",
       "version_major": 2,
       "version_minor": 0
      },
      "text/plain": [
       "Validation: |                                                                                    | 0/? [00:00<…"
      ]
     },
     "metadata": {},
     "output_type": "display_data"
    },
    {
     "name": "stdout",
     "output_type": "stream",
     "text": [
      "[VAL] tas: RMSE=1.2795, Time-Mean RMSE=0.3824, Time-Stddev MAE=0.1585\n",
      "[VAL] pr: RMSE=1.9359, Time-Mean RMSE=0.2287, Time-Stddev MAE=0.7235\n"
     ]
    },
    {
     "data": {
      "application/vnd.jupyter.widget-view+json": {
       "model_id": "",
       "version_major": 2,
       "version_minor": 0
      },
      "text/plain": [
       "Validation: |                                                                                    | 0/? [00:00<…"
      ]
     },
     "metadata": {},
     "output_type": "display_data"
    },
    {
     "name": "stdout",
     "output_type": "stream",
     "text": [
      "[VAL] tas: RMSE=1.3195, Time-Mean RMSE=0.5129, Time-Stddev MAE=0.1628\n",
      "[VAL] pr: RMSE=1.9369, Time-Mean RMSE=0.2371, Time-Stddev MAE=0.7237\n"
     ]
    },
    {
     "data": {
      "application/vnd.jupyter.widget-view+json": {
       "model_id": "",
       "version_major": 2,
       "version_minor": 0
      },
      "text/plain": [
       "Validation: |                                                                                    | 0/? [00:00<…"
      ]
     },
     "metadata": {},
     "output_type": "display_data"
    },
    {
     "name": "stdout",
     "output_type": "stream",
     "text": [
      "[VAL] tas: RMSE=1.3820, Time-Mean RMSE=0.4914, Time-Stddev MAE=0.2015\n",
      "[VAL] pr: RMSE=1.9595, Time-Mean RMSE=0.2292, Time-Stddev MAE=0.7786\n"
     ]
    },
    {
     "data": {
      "application/vnd.jupyter.widget-view+json": {
       "model_id": "",
       "version_major": 2,
       "version_minor": 0
      },
      "text/plain": [
       "Validation: |                                                                                    | 0/? [00:00<…"
      ]
     },
     "metadata": {},
     "output_type": "display_data"
    },
    {
     "name": "stdout",
     "output_type": "stream",
     "text": [
      "[VAL] tas: RMSE=1.4063, Time-Mean RMSE=0.7586, Time-Stddev MAE=0.2018\n",
      "[VAL] pr: RMSE=1.9506, Time-Mean RMSE=0.3005, Time-Stddev MAE=0.7856\n"
     ]
    },
    {
     "data": {
      "application/vnd.jupyter.widget-view+json": {
       "model_id": "",
       "version_major": 2,
       "version_minor": 0
      },
      "text/plain": [
       "Validation: |                                                                                    | 0/? [00:00<…"
      ]
     },
     "metadata": {},
     "output_type": "display_data"
    },
    {
     "name": "stdout",
     "output_type": "stream",
     "text": [
      "[VAL] tas: RMSE=1.2712, Time-Mean RMSE=0.3452, Time-Stddev MAE=0.2013\n",
      "[VAL] pr: RMSE=1.9451, Time-Mean RMSE=0.2277, Time-Stddev MAE=0.7886\n"
     ]
    },
    {
     "data": {
      "application/vnd.jupyter.widget-view+json": {
       "model_id": "",
       "version_major": 2,
       "version_minor": 0
      },
      "text/plain": [
       "Validation: |                                                                                    | 0/? [00:00<…"
      ]
     },
     "metadata": {},
     "output_type": "display_data"
    },
    {
     "name": "stdout",
     "output_type": "stream",
     "text": [
      "[VAL] tas: RMSE=1.3426, Time-Mean RMSE=0.5174, Time-Stddev MAE=0.1897\n",
      "[VAL] pr: RMSE=1.9429, Time-Mean RMSE=0.2603, Time-Stddev MAE=0.7598\n"
     ]
    },
    {
     "data": {
      "application/vnd.jupyter.widget-view+json": {
       "model_id": "",
       "version_major": 2,
       "version_minor": 0
      },
      "text/plain": [
       "Validation: |                                                                                    | 0/? [00:00<…"
      ]
     },
     "metadata": {},
     "output_type": "display_data"
    },
    {
     "name": "stdout",
     "output_type": "stream",
     "text": [
      "[VAL] tas: RMSE=1.3236, Time-Mean RMSE=0.5422, Time-Stddev MAE=0.2015\n",
      "[VAL] pr: RMSE=1.9376, Time-Mean RMSE=0.2470, Time-Stddev MAE=0.7445\n"
     ]
    },
    {
     "data": {
      "application/vnd.jupyter.widget-view+json": {
       "model_id": "",
       "version_major": 2,
       "version_minor": 0
      },
      "text/plain": [
       "Validation: |                                                                                    | 0/? [00:00<…"
      ]
     },
     "metadata": {},
     "output_type": "display_data"
    },
    {
     "name": "stdout",
     "output_type": "stream",
     "text": [
      "[VAL] tas: RMSE=1.3102, Time-Mean RMSE=0.5322, Time-Stddev MAE=0.1690\n",
      "[VAL] pr: RMSE=1.9556, Time-Mean RMSE=0.2486, Time-Stddev MAE=0.7637\n"
     ]
    },
    {
     "data": {
      "application/vnd.jupyter.widget-view+json": {
       "model_id": "",
       "version_major": 2,
       "version_minor": 0
      },
      "text/plain": [
       "Validation: |                                                                                    | 0/? [00:00<…"
      ]
     },
     "metadata": {},
     "output_type": "display_data"
    },
    {
     "name": "stdout",
     "output_type": "stream",
     "text": [
      "[VAL] tas: RMSE=1.2728, Time-Mean RMSE=0.3206, Time-Stddev MAE=0.1773\n",
      "[VAL] pr: RMSE=1.9394, Time-Mean RMSE=0.2558, Time-Stddev MAE=0.7437\n"
     ]
    },
    {
     "data": {
      "application/vnd.jupyter.widget-view+json": {
       "model_id": "",
       "version_major": 2,
       "version_minor": 0
      },
      "text/plain": [
       "Validation: |                                                                                    | 0/? [00:00<…"
      ]
     },
     "metadata": {},
     "output_type": "display_data"
    },
    {
     "name": "stdout",
     "output_type": "stream",
     "text": [
      "[VAL] tas: RMSE=1.2730, Time-Mean RMSE=0.4174, Time-Stddev MAE=0.1816\n",
      "[VAL] pr: RMSE=1.9369, Time-Mean RMSE=0.2342, Time-Stddev MAE=0.7472\n"
     ]
    },
    {
     "data": {
      "application/vnd.jupyter.widget-view+json": {
       "model_id": "",
       "version_major": 2,
       "version_minor": 0
      },
      "text/plain": [
       "Validation: |                                                                                    | 0/? [00:00<…"
      ]
     },
     "metadata": {},
     "output_type": "display_data"
    },
    {
     "name": "stdout",
     "output_type": "stream",
     "text": [
      "[VAL] tas: RMSE=1.2658, Time-Mean RMSE=0.4345, Time-Stddev MAE=0.1630\n",
      "[VAL] pr: RMSE=1.9370, Time-Mean RMSE=0.2415, Time-Stddev MAE=0.7409\n"
     ]
    },
    {
     "data": {
      "application/vnd.jupyter.widget-view+json": {
       "model_id": "",
       "version_major": 2,
       "version_minor": 0
      },
      "text/plain": [
       "Validation: |                                                                                    | 0/? [00:00<…"
      ]
     },
     "metadata": {},
     "output_type": "display_data"
    },
    {
     "name": "stdout",
     "output_type": "stream",
     "text": [
      "[VAL] tas: RMSE=1.2993, Time-Mean RMSE=0.4624, Time-Stddev MAE=0.2081\n",
      "[VAL] pr: RMSE=1.9390, Time-Mean RMSE=0.2532, Time-Stddev MAE=0.7537\n"
     ]
    },
    {
     "data": {
      "application/vnd.jupyter.widget-view+json": {
       "model_id": "",
       "version_major": 2,
       "version_minor": 0
      },
      "text/plain": [
       "Validation: |                                                                                    | 0/? [00:00<…"
      ]
     },
     "metadata": {},
     "output_type": "display_data"
    },
    {
     "name": "stdout",
     "output_type": "stream",
     "text": [
      "[VAL] tas: RMSE=1.3014, Time-Mean RMSE=0.4364, Time-Stddev MAE=0.2159\n",
      "[VAL] pr: RMSE=1.9370, Time-Mean RMSE=0.2326, Time-Stddev MAE=0.7485\n"
     ]
    },
    {
     "data": {
      "application/vnd.jupyter.widget-view+json": {
       "model_id": "",
       "version_major": 2,
       "version_minor": 0
      },
      "text/plain": [
       "Validation: |                                                                                    | 0/? [00:00<…"
      ]
     },
     "metadata": {},
     "output_type": "display_data"
    },
    {
     "name": "stdout",
     "output_type": "stream",
     "text": [
      "[VAL] tas: RMSE=1.2998, Time-Mean RMSE=0.3794, Time-Stddev MAE=0.2026\n",
      "[VAL] pr: RMSE=1.9423, Time-Mean RMSE=0.2489, Time-Stddev MAE=0.7690\n"
     ]
    },
    {
     "data": {
      "application/vnd.jupyter.widget-view+json": {
       "model_id": "",
       "version_major": 2,
       "version_minor": 0
      },
      "text/plain": [
       "Validation: |                                                                                    | 0/? [00:00<…"
      ]
     },
     "metadata": {},
     "output_type": "display_data"
    },
    {
     "name": "stdout",
     "output_type": "stream",
     "text": [
      "[VAL] tas: RMSE=1.3632, Time-Mean RMSE=0.3672, Time-Stddev MAE=0.2208\n",
      "[VAL] pr: RMSE=1.9406, Time-Mean RMSE=0.2339, Time-Stddev MAE=0.7400\n"
     ]
    },
    {
     "data": {
      "application/vnd.jupyter.widget-view+json": {
       "model_id": "",
       "version_major": 2,
       "version_minor": 0
      },
      "text/plain": [
       "Validation: |                                                                                    | 0/? [00:00<…"
      ]
     },
     "metadata": {},
     "output_type": "display_data"
    },
    {
     "name": "stdout",
     "output_type": "stream",
     "text": [
      "[VAL] tas: RMSE=1.3457, Time-Mean RMSE=0.4455, Time-Stddev MAE=0.1713\n",
      "[VAL] pr: RMSE=1.9425, Time-Mean RMSE=0.2275, Time-Stddev MAE=0.7604\n"
     ]
    },
    {
     "data": {
      "application/vnd.jupyter.widget-view+json": {
       "model_id": "",
       "version_major": 2,
       "version_minor": 0
      },
      "text/plain": [
       "Validation: |                                                                                    | 0/? [00:00<…"
      ]
     },
     "metadata": {},
     "output_type": "display_data"
    },
    {
     "name": "stdout",
     "output_type": "stream",
     "text": [
      "[VAL] tas: RMSE=1.3303, Time-Mean RMSE=0.5873, Time-Stddev MAE=0.1855\n",
      "[VAL] pr: RMSE=1.9413, Time-Mean RMSE=0.2638, Time-Stddev MAE=0.7701\n"
     ]
    },
    {
     "data": {
      "application/vnd.jupyter.widget-view+json": {
       "model_id": "",
       "version_major": 2,
       "version_minor": 0
      },
      "text/plain": [
       "Validation: |                                                                                    | 0/? [00:00<…"
      ]
     },
     "metadata": {},
     "output_type": "display_data"
    },
    {
     "name": "stdout",
     "output_type": "stream",
     "text": [
      "[VAL] tas: RMSE=1.2898, Time-Mean RMSE=0.4596, Time-Stddev MAE=0.2308\n",
      "[VAL] pr: RMSE=1.9429, Time-Mean RMSE=0.2747, Time-Stddev MAE=0.7558\n"
     ]
    },
    {
     "data": {
      "application/vnd.jupyter.widget-view+json": {
       "model_id": "",
       "version_major": 2,
       "version_minor": 0
      },
      "text/plain": [
       "Validation: |                                                                                    | 0/? [00:00<…"
      ]
     },
     "metadata": {},
     "output_type": "display_data"
    },
    {
     "name": "stdout",
     "output_type": "stream",
     "text": [
      "[VAL] tas: RMSE=1.3247, Time-Mean RMSE=0.5984, Time-Stddev MAE=0.1819\n",
      "[VAL] pr: RMSE=1.9424, Time-Mean RMSE=0.2761, Time-Stddev MAE=0.7511\n"
     ]
    },
    {
     "data": {
      "application/vnd.jupyter.widget-view+json": {
       "model_id": "",
       "version_major": 2,
       "version_minor": 0
      },
      "text/plain": [
       "Validation: |                                                                                    | 0/? [00:00<…"
      ]
     },
     "metadata": {},
     "output_type": "display_data"
    },
    {
     "name": "stdout",
     "output_type": "stream",
     "text": [
      "[VAL] tas: RMSE=1.2541, Time-Mean RMSE=0.4423, Time-Stddev MAE=0.2007\n",
      "[VAL] pr: RMSE=1.9382, Time-Mean RMSE=0.2487, Time-Stddev MAE=0.7560\n"
     ]
    },
    {
     "data": {
      "application/vnd.jupyter.widget-view+json": {
       "model_id": "",
       "version_major": 2,
       "version_minor": 0
      },
      "text/plain": [
       "Validation: |                                                                                    | 0/? [00:00<…"
      ]
     },
     "metadata": {},
     "output_type": "display_data"
    },
    {
     "name": "stdout",
     "output_type": "stream",
     "text": [
      "[VAL] tas: RMSE=1.5562, Time-Mean RMSE=0.9618, Time-Stddev MAE=0.2234\n",
      "[VAL] pr: RMSE=1.9473, Time-Mean RMSE=0.2782, Time-Stddev MAE=0.7899\n"
     ]
    },
    {
     "data": {
      "application/vnd.jupyter.widget-view+json": {
       "model_id": "",
       "version_major": 2,
       "version_minor": 0
      },
      "text/plain": [
       "Validation: |                                                                                    | 0/? [00:00<…"
      ]
     },
     "metadata": {},
     "output_type": "display_data"
    },
    {
     "name": "stdout",
     "output_type": "stream",
     "text": [
      "[VAL] tas: RMSE=1.2457, Time-Mean RMSE=0.3717, Time-Stddev MAE=0.1299\n",
      "[VAL] pr: RMSE=1.9377, Time-Mean RMSE=0.2498, Time-Stddev MAE=0.7446\n"
     ]
    },
    {
     "data": {
      "application/vnd.jupyter.widget-view+json": {
       "model_id": "",
       "version_major": 2,
       "version_minor": 0
      },
      "text/plain": [
       "Validation: |                                                                                    | 0/? [00:00<…"
      ]
     },
     "metadata": {},
     "output_type": "display_data"
    },
    {
     "name": "stdout",
     "output_type": "stream",
     "text": [
      "[VAL] tas: RMSE=1.3332, Time-Mean RMSE=0.4639, Time-Stddev MAE=0.1512\n",
      "[VAL] pr: RMSE=1.9353, Time-Mean RMSE=0.2218, Time-Stddev MAE=0.7259\n"
     ]
    },
    {
     "data": {
      "application/vnd.jupyter.widget-view+json": {
       "model_id": "",
       "version_major": 2,
       "version_minor": 0
      },
      "text/plain": [
       "Validation: |                                                                                    | 0/? [00:00<…"
      ]
     },
     "metadata": {},
     "output_type": "display_data"
    },
    {
     "name": "stdout",
     "output_type": "stream",
     "text": [
      "[VAL] tas: RMSE=1.3374, Time-Mean RMSE=0.4250, Time-Stddev MAE=0.2190\n",
      "[VAL] pr: RMSE=1.9384, Time-Mean RMSE=0.2132, Time-Stddev MAE=0.7533\n"
     ]
    },
    {
     "data": {
      "application/vnd.jupyter.widget-view+json": {
       "model_id": "",
       "version_major": 2,
       "version_minor": 0
      },
      "text/plain": [
       "Validation: |                                                                                    | 0/? [00:00<…"
      ]
     },
     "metadata": {},
     "output_type": "display_data"
    },
    {
     "name": "stdout",
     "output_type": "stream",
     "text": [
      "[VAL] tas: RMSE=1.4595, Time-Mean RMSE=0.7823, Time-Stddev MAE=0.2654\n",
      "[VAL] pr: RMSE=1.9542, Time-Mean RMSE=0.2942, Time-Stddev MAE=0.7682\n"
     ]
    },
    {
     "data": {
      "application/vnd.jupyter.widget-view+json": {
       "model_id": "",
       "version_major": 2,
       "version_minor": 0
      },
      "text/plain": [
       "Validation: |                                                                                    | 0/? [00:00<…"
      ]
     },
     "metadata": {},
     "output_type": "display_data"
    },
    {
     "name": "stdout",
     "output_type": "stream",
     "text": [
      "[VAL] tas: RMSE=1.7749, Time-Mean RMSE=0.8704, Time-Stddev MAE=0.1922\n",
      "[VAL] pr: RMSE=2.0435, Time-Mean RMSE=0.3194, Time-Stddev MAE=0.7827\n"
     ]
    },
    {
     "data": {
      "application/vnd.jupyter.widget-view+json": {
       "model_id": "",
       "version_major": 2,
       "version_minor": 0
      },
      "text/plain": [
       "Validation: |                                                                                    | 0/? [00:00<…"
      ]
     },
     "metadata": {},
     "output_type": "display_data"
    },
    {
     "name": "stdout",
     "output_type": "stream",
     "text": [
      "[VAL] tas: RMSE=1.4695, Time-Mean RMSE=0.3991, Time-Stddev MAE=0.3386\n",
      "[VAL] pr: RMSE=1.9820, Time-Mean RMSE=0.2647, Time-Stddev MAE=0.8095\n"
     ]
    },
    {
     "data": {
      "application/vnd.jupyter.widget-view+json": {
       "model_id": "",
       "version_major": 2,
       "version_minor": 0
      },
      "text/plain": [
       "Validation: |                                                                                    | 0/? [00:00<…"
      ]
     },
     "metadata": {},
     "output_type": "display_data"
    },
    {
     "name": "stdout",
     "output_type": "stream",
     "text": [
      "[VAL] tas: RMSE=1.4983, Time-Mean RMSE=0.6342, Time-Stddev MAE=0.2666\n",
      "[VAL] pr: RMSE=1.9527, Time-Mean RMSE=0.2562, Time-Stddev MAE=0.7632\n"
     ]
    },
    {
     "data": {
      "application/vnd.jupyter.widget-view+json": {
       "model_id": "",
       "version_major": 2,
       "version_minor": 0
      },
      "text/plain": [
       "Validation: |                                                                                    | 0/? [00:00<…"
      ]
     },
     "metadata": {},
     "output_type": "display_data"
    },
    {
     "name": "stdout",
     "output_type": "stream",
     "text": [
      "[VAL] tas: RMSE=1.3998, Time-Mean RMSE=0.6703, Time-Stddev MAE=0.1659\n",
      "[VAL] pr: RMSE=1.9433, Time-Mean RMSE=0.2450, Time-Stddev MAE=0.7724\n"
     ]
    },
    {
     "data": {
      "application/vnd.jupyter.widget-view+json": {
       "model_id": "",
       "version_major": 2,
       "version_minor": 0
      },
      "text/plain": [
       "Validation: |                                                                                    | 0/? [00:00<…"
      ]
     },
     "metadata": {},
     "output_type": "display_data"
    },
    {
     "name": "stdout",
     "output_type": "stream",
     "text": [
      "[VAL] tas: RMSE=1.4263, Time-Mean RMSE=0.5606, Time-Stddev MAE=0.1485\n",
      "[VAL] pr: RMSE=1.9518, Time-Mean RMSE=0.2892, Time-Stddev MAE=0.7492\n"
     ]
    },
    {
     "data": {
      "application/vnd.jupyter.widget-view+json": {
       "model_id": "",
       "version_major": 2,
       "version_minor": 0
      },
      "text/plain": [
       "Validation: |                                                                                    | 0/? [00:00<…"
      ]
     },
     "metadata": {},
     "output_type": "display_data"
    },
    {
     "name": "stdout",
     "output_type": "stream",
     "text": [
      "[VAL] tas: RMSE=1.3141, Time-Mean RMSE=0.4223, Time-Stddev MAE=0.2016\n",
      "[VAL] pr: RMSE=1.9419, Time-Mean RMSE=0.2599, Time-Stddev MAE=0.7343\n"
     ]
    },
    {
     "data": {
      "application/vnd.jupyter.widget-view+json": {
       "model_id": "",
       "version_major": 2,
       "version_minor": 0
      },
      "text/plain": [
       "Validation: |                                                                                    | 0/? [00:00<…"
      ]
     },
     "metadata": {},
     "output_type": "display_data"
    },
    {
     "name": "stdout",
     "output_type": "stream",
     "text": [
      "[VAL] tas: RMSE=1.2649, Time-Mean RMSE=0.3749, Time-Stddev MAE=0.1841\n",
      "[VAL] pr: RMSE=1.9406, Time-Mean RMSE=0.2420, Time-Stddev MAE=0.7426\n"
     ]
    },
    {
     "data": {
      "application/vnd.jupyter.widget-view+json": {
       "model_id": "",
       "version_major": 2,
       "version_minor": 0
      },
      "text/plain": [
       "Validation: |                                                                                    | 0/? [00:00<…"
      ]
     },
     "metadata": {},
     "output_type": "display_data"
    },
    {
     "name": "stdout",
     "output_type": "stream",
     "text": [
      "[VAL] tas: RMSE=1.4798, Time-Mean RMSE=0.7564, Time-Stddev MAE=0.2057\n",
      "[VAL] pr: RMSE=1.9689, Time-Mean RMSE=0.2940, Time-Stddev MAE=0.7998\n"
     ]
    },
    {
     "data": {
      "application/vnd.jupyter.widget-view+json": {
       "model_id": "",
       "version_major": 2,
       "version_minor": 0
      },
      "text/plain": [
       "Validation: |                                                                                    | 0/? [00:00<…"
      ]
     },
     "metadata": {},
     "output_type": "display_data"
    },
    {
     "name": "stdout",
     "output_type": "stream",
     "text": [
      "[VAL] tas: RMSE=1.3702, Time-Mean RMSE=0.5975, Time-Stddev MAE=0.2615\n",
      "[VAL] pr: RMSE=1.9446, Time-Mean RMSE=0.2560, Time-Stddev MAE=0.7681\n"
     ]
    },
    {
     "data": {
      "application/vnd.jupyter.widget-view+json": {
       "model_id": "",
       "version_major": 2,
       "version_minor": 0
      },
      "text/plain": [
       "Validation: |                                                                                    | 0/? [00:00<…"
      ]
     },
     "metadata": {},
     "output_type": "display_data"
    },
    {
     "name": "stdout",
     "output_type": "stream",
     "text": [
      "[VAL] tas: RMSE=1.5363, Time-Mean RMSE=0.9019, Time-Stddev MAE=0.2342\n",
      "[VAL] pr: RMSE=1.9513, Time-Mean RMSE=0.2769, Time-Stddev MAE=0.7738\n"
     ]
    },
    {
     "data": {
      "application/vnd.jupyter.widget-view+json": {
       "model_id": "",
       "version_major": 2,
       "version_minor": 0
      },
      "text/plain": [
       "Validation: |                                                                                    | 0/? [00:00<…"
      ]
     },
     "metadata": {},
     "output_type": "display_data"
    },
    {
     "name": "stdout",
     "output_type": "stream",
     "text": [
      "[VAL] tas: RMSE=1.5386, Time-Mean RMSE=0.7898, Time-Stddev MAE=0.2022\n",
      "[VAL] pr: RMSE=1.9596, Time-Mean RMSE=0.2440, Time-Stddev MAE=0.7707\n"
     ]
    },
    {
     "data": {
      "application/vnd.jupyter.widget-view+json": {
       "model_id": "",
       "version_major": 2,
       "version_minor": 0
      },
      "text/plain": [
       "Validation: |                                                                                    | 0/? [00:00<…"
      ]
     },
     "metadata": {},
     "output_type": "display_data"
    },
    {
     "name": "stdout",
     "output_type": "stream",
     "text": [
      "[VAL] tas: RMSE=1.8091, Time-Mean RMSE=0.4132, Time-Stddev MAE=0.3133\n",
      "[VAL] pr: RMSE=2.0365, Time-Mean RMSE=0.2581, Time-Stddev MAE=0.8106\n"
     ]
    },
    {
     "data": {
      "application/vnd.jupyter.widget-view+json": {
       "model_id": "",
       "version_major": 2,
       "version_minor": 0
      },
      "text/plain": [
       "Validation: |                                                                                    | 0/? [00:00<…"
      ]
     },
     "metadata": {},
     "output_type": "display_data"
    },
    {
     "name": "stdout",
     "output_type": "stream",
     "text": [
      "[VAL] tas: RMSE=1.4179, Time-Mean RMSE=0.5834, Time-Stddev MAE=0.1498\n",
      "[VAL] pr: RMSE=1.9459, Time-Mean RMSE=0.2381, Time-Stddev MAE=0.7662\n"
     ]
    },
    {
     "data": {
      "application/vnd.jupyter.widget-view+json": {
       "model_id": "",
       "version_major": 2,
       "version_minor": 0
      },
      "text/plain": [
       "Validation: |                                                                                    | 0/? [00:00<…"
      ]
     },
     "metadata": {},
     "output_type": "display_data"
    },
    {
     "name": "stdout",
     "output_type": "stream",
     "text": [
      "[VAL] tas: RMSE=1.4330, Time-Mean RMSE=0.5221, Time-Stddev MAE=0.2502\n",
      "[VAL] pr: RMSE=1.9576, Time-Mean RMSE=0.2851, Time-Stddev MAE=0.7830\n"
     ]
    },
    {
     "data": {
      "application/vnd.jupyter.widget-view+json": {
       "model_id": "",
       "version_major": 2,
       "version_minor": 0
      },
      "text/plain": [
       "Validation: |                                                                                    | 0/? [00:00<…"
      ]
     },
     "metadata": {},
     "output_type": "display_data"
    },
    {
     "name": "stdout",
     "output_type": "stream",
     "text": [
      "[VAL] tas: RMSE=1.5095, Time-Mean RMSE=0.5047, Time-Stddev MAE=0.2463\n",
      "[VAL] pr: RMSE=1.9777, Time-Mean RMSE=0.2850, Time-Stddev MAE=0.8049\n"
     ]
    },
    {
     "data": {
      "application/vnd.jupyter.widget-view+json": {
       "model_id": "",
       "version_major": 2,
       "version_minor": 0
      },
      "text/plain": [
       "Validation: |                                                                                    | 0/? [00:00<…"
      ]
     },
     "metadata": {},
     "output_type": "display_data"
    },
    {
     "name": "stdout",
     "output_type": "stream",
     "text": [
      "[VAL] tas: RMSE=1.5075, Time-Mean RMSE=0.9063, Time-Stddev MAE=0.2097\n",
      "[VAL] pr: RMSE=1.9596, Time-Mean RMSE=0.3166, Time-Stddev MAE=0.7894\n"
     ]
    },
    {
     "data": {
      "application/vnd.jupyter.widget-view+json": {
       "model_id": "",
       "version_major": 2,
       "version_minor": 0
      },
      "text/plain": [
       "Validation: |                                                                                    | 0/? [00:00<…"
      ]
     },
     "metadata": {},
     "output_type": "display_data"
    },
    {
     "name": "stdout",
     "output_type": "stream",
     "text": [
      "[VAL] tas: RMSE=1.5629, Time-Mean RMSE=0.9789, Time-Stddev MAE=0.2454\n",
      "[VAL] pr: RMSE=1.9456, Time-Mean RMSE=0.2591, Time-Stddev MAE=0.7588\n"
     ]
    },
    {
     "data": {
      "application/vnd.jupyter.widget-view+json": {
       "model_id": "",
       "version_major": 2,
       "version_minor": 0
      },
      "text/plain": [
       "Validation: |                                                                                    | 0/? [00:00<…"
      ]
     },
     "metadata": {},
     "output_type": "display_data"
    },
    {
     "name": "stdout",
     "output_type": "stream",
     "text": [
      "[VAL] tas: RMSE=1.8409, Time-Mean RMSE=0.6817, Time-Stddev MAE=0.2907\n",
      "[VAL] pr: RMSE=2.1015, Time-Mean RMSE=0.3460, Time-Stddev MAE=0.8560\n"
     ]
    },
    {
     "data": {
      "application/vnd.jupyter.widget-view+json": {
       "model_id": "",
       "version_major": 2,
       "version_minor": 0
      },
      "text/plain": [
       "Validation: |                                                                                    | 0/? [00:00<…"
      ]
     },
     "metadata": {},
     "output_type": "display_data"
    },
    {
     "name": "stdout",
     "output_type": "stream",
     "text": [
      "[VAL] tas: RMSE=1.4807, Time-Mean RMSE=0.5293, Time-Stddev MAE=0.2399\n",
      "[VAL] pr: RMSE=1.9489, Time-Mean RMSE=0.2591, Time-Stddev MAE=0.7795\n"
     ]
    },
    {
     "data": {
      "application/vnd.jupyter.widget-view+json": {
       "model_id": "",
       "version_major": 2,
       "version_minor": 0
      },
      "text/plain": [
       "Validation: |                                                                                    | 0/? [00:00<…"
      ]
     },
     "metadata": {},
     "output_type": "display_data"
    },
    {
     "name": "stdout",
     "output_type": "stream",
     "text": [
      "[VAL] tas: RMSE=1.4626, Time-Mean RMSE=0.7861, Time-Stddev MAE=0.2429\n",
      "[VAL] pr: RMSE=1.9472, Time-Mean RMSE=0.2666, Time-Stddev MAE=0.7735\n"
     ]
    },
    {
     "data": {
      "application/vnd.jupyter.widget-view+json": {
       "model_id": "",
       "version_major": 2,
       "version_minor": 0
      },
      "text/plain": [
       "Validation: |                                                                                    | 0/? [00:00<…"
      ]
     },
     "metadata": {},
     "output_type": "display_data"
    },
    {
     "name": "stdout",
     "output_type": "stream",
     "text": [
      "[VAL] tas: RMSE=1.4108, Time-Mean RMSE=0.7283, Time-Stddev MAE=0.2068\n",
      "[VAL] pr: RMSE=1.9427, Time-Mean RMSE=0.2410, Time-Stddev MAE=0.7673\n"
     ]
    },
    {
     "data": {
      "application/vnd.jupyter.widget-view+json": {
       "model_id": "",
       "version_major": 2,
       "version_minor": 0
      },
      "text/plain": [
       "Validation: |                                                                                    | 0/? [00:00<…"
      ]
     },
     "metadata": {},
     "output_type": "display_data"
    },
    {
     "name": "stdout",
     "output_type": "stream",
     "text": [
      "[VAL] tas: RMSE=1.3494, Time-Mean RMSE=0.6084, Time-Stddev MAE=0.2577\n",
      "[VAL] pr: RMSE=1.9426, Time-Mean RMSE=0.2599, Time-Stddev MAE=0.7787\n"
     ]
    },
    {
     "data": {
      "application/vnd.jupyter.widget-view+json": {
       "model_id": "",
       "version_major": 2,
       "version_minor": 0
      },
      "text/plain": [
       "Validation: |                                                                                    | 0/? [00:00<…"
      ]
     },
     "metadata": {},
     "output_type": "display_data"
    },
    {
     "name": "stdout",
     "output_type": "stream",
     "text": [
      "[VAL] tas: RMSE=1.3238, Time-Mean RMSE=0.5646, Time-Stddev MAE=0.1863\n",
      "[VAL] pr: RMSE=1.9420, Time-Mean RMSE=0.2563, Time-Stddev MAE=0.7418\n"
     ]
    },
    {
     "data": {
      "application/vnd.jupyter.widget-view+json": {
       "model_id": "",
       "version_major": 2,
       "version_minor": 0
      },
      "text/plain": [
       "Validation: |                                                                                    | 0/? [00:00<…"
      ]
     },
     "metadata": {},
     "output_type": "display_data"
    },
    {
     "name": "stdout",
     "output_type": "stream",
     "text": [
      "[VAL] tas: RMSE=1.2890, Time-Mean RMSE=0.4492, Time-Stddev MAE=0.1677\n",
      "[VAL] pr: RMSE=1.9395, Time-Mean RMSE=0.2497, Time-Stddev MAE=0.7516\n"
     ]
    },
    {
     "data": {
      "application/vnd.jupyter.widget-view+json": {
       "model_id": "",
       "version_major": 2,
       "version_minor": 0
      },
      "text/plain": [
       "Validation: |                                                                                    | 0/? [00:00<…"
      ]
     },
     "metadata": {},
     "output_type": "display_data"
    },
    {
     "name": "stdout",
     "output_type": "stream",
     "text": [
      "[VAL] tas: RMSE=1.3086, Time-Mean RMSE=0.4580, Time-Stddev MAE=0.1780\n",
      "[VAL] pr: RMSE=1.9419, Time-Mean RMSE=0.2454, Time-Stddev MAE=0.7094\n"
     ]
    },
    {
     "data": {
      "application/vnd.jupyter.widget-view+json": {
       "model_id": "",
       "version_major": 2,
       "version_minor": 0
      },
      "text/plain": [
       "Validation: |                                                                                    | 0/? [00:00<…"
      ]
     },
     "metadata": {},
     "output_type": "display_data"
    },
    {
     "name": "stdout",
     "output_type": "stream",
     "text": [
      "[VAL] tas: RMSE=1.3800, Time-Mean RMSE=0.5614, Time-Stddev MAE=0.1728\n",
      "[VAL] pr: RMSE=1.9478, Time-Mean RMSE=0.2633, Time-Stddev MAE=0.7778\n"
     ]
    },
    {
     "data": {
      "application/vnd.jupyter.widget-view+json": {
       "model_id": "",
       "version_major": 2,
       "version_minor": 0
      },
      "text/plain": [
       "Validation: |                                                                                    | 0/? [00:00<…"
      ]
     },
     "metadata": {},
     "output_type": "display_data"
    },
    {
     "name": "stdout",
     "output_type": "stream",
     "text": [
      "[VAL] tas: RMSE=1.4413, Time-Mean RMSE=0.7493, Time-Stddev MAE=0.1903\n",
      "[VAL] pr: RMSE=1.9498, Time-Mean RMSE=0.2675, Time-Stddev MAE=0.7722\n"
     ]
    },
    {
     "data": {
      "application/vnd.jupyter.widget-view+json": {
       "model_id": "",
       "version_major": 2,
       "version_minor": 0
      },
      "text/plain": [
       "Validation: |                                                                                    | 0/? [00:00<…"
      ]
     },
     "metadata": {},
     "output_type": "display_data"
    },
    {
     "name": "stdout",
     "output_type": "stream",
     "text": [
      "[VAL] tas: RMSE=1.3606, Time-Mean RMSE=0.6655, Time-Stddev MAE=0.2167\n",
      "[VAL] pr: RMSE=1.9474, Time-Mean RMSE=0.2869, Time-Stddev MAE=0.7703\n"
     ]
    },
    {
     "data": {
      "application/vnd.jupyter.widget-view+json": {
       "model_id": "",
       "version_major": 2,
       "version_minor": 0
      },
      "text/plain": [
       "Validation: |                                                                                    | 0/? [00:00<…"
      ]
     },
     "metadata": {},
     "output_type": "display_data"
    },
    {
     "name": "stdout",
     "output_type": "stream",
     "text": [
      "[VAL] tas: RMSE=1.5347, Time-Mean RMSE=0.9529, Time-Stddev MAE=0.1718\n",
      "[VAL] pr: RMSE=1.9494, Time-Mean RMSE=0.2919, Time-Stddev MAE=0.7580\n"
     ]
    },
    {
     "data": {
      "application/vnd.jupyter.widget-view+json": {
       "model_id": "",
       "version_major": 2,
       "version_minor": 0
      },
      "text/plain": [
       "Validation: |                                                                                    | 0/? [00:00<…"
      ]
     },
     "metadata": {},
     "output_type": "display_data"
    },
    {
     "name": "stdout",
     "output_type": "stream",
     "text": [
      "[VAL] tas: RMSE=1.5053, Time-Mean RMSE=0.8598, Time-Stddev MAE=0.2000\n",
      "[VAL] pr: RMSE=1.9493, Time-Mean RMSE=0.2847, Time-Stddev MAE=0.7477\n"
     ]
    },
    {
     "data": {
      "application/vnd.jupyter.widget-view+json": {
       "model_id": "",
       "version_major": 2,
       "version_minor": 0
      },
      "text/plain": [
       "Validation: |                                                                                    | 0/? [00:00<…"
      ]
     },
     "metadata": {},
     "output_type": "display_data"
    },
    {
     "name": "stdout",
     "output_type": "stream",
     "text": [
      "[VAL] tas: RMSE=1.4043, Time-Mean RMSE=0.6874, Time-Stddev MAE=0.1847\n",
      "[VAL] pr: RMSE=1.9450, Time-Mean RMSE=0.2738, Time-Stddev MAE=0.7541\n"
     ]
    },
    {
     "data": {
      "application/vnd.jupyter.widget-view+json": {
       "model_id": "",
       "version_major": 2,
       "version_minor": 0
      },
      "text/plain": [
       "Validation: |                                                                                    | 0/? [00:00<…"
      ]
     },
     "metadata": {},
     "output_type": "display_data"
    },
    {
     "name": "stdout",
     "output_type": "stream",
     "text": [
      "[VAL] tas: RMSE=1.3195, Time-Mean RMSE=0.4486, Time-Stddev MAE=0.1896\n",
      "[VAL] pr: RMSE=1.9417, Time-Mean RMSE=0.2228, Time-Stddev MAE=0.7263\n"
     ]
    },
    {
     "data": {
      "application/vnd.jupyter.widget-view+json": {
       "model_id": "",
       "version_major": 2,
       "version_minor": 0
      },
      "text/plain": [
       "Validation: |                                                                                    | 0/? [00:00<…"
      ]
     },
     "metadata": {},
     "output_type": "display_data"
    },
    {
     "name": "stdout",
     "output_type": "stream",
     "text": [
      "[VAL] tas: RMSE=1.3273, Time-Mean RMSE=0.4804, Time-Stddev MAE=0.1910\n",
      "[VAL] pr: RMSE=1.9421, Time-Mean RMSE=0.2583, Time-Stddev MAE=0.7476\n"
     ]
    },
    {
     "data": {
      "application/vnd.jupyter.widget-view+json": {
       "model_id": "",
       "version_major": 2,
       "version_minor": 0
      },
      "text/plain": [
       "Validation: |                                                                                    | 0/? [00:00<…"
      ]
     },
     "metadata": {},
     "output_type": "display_data"
    },
    {
     "name": "stdout",
     "output_type": "stream",
     "text": [
      "[VAL] tas: RMSE=1.3350, Time-Mean RMSE=0.5769, Time-Stddev MAE=0.1574\n",
      "[VAL] pr: RMSE=1.9412, Time-Mean RMSE=0.2487, Time-Stddev MAE=0.7352\n"
     ]
    },
    {
     "data": {
      "application/vnd.jupyter.widget-view+json": {
       "model_id": "",
       "version_major": 2,
       "version_minor": 0
      },
      "text/plain": [
       "Validation: |                                                                                    | 0/? [00:00<…"
      ]
     },
     "metadata": {},
     "output_type": "display_data"
    },
    {
     "name": "stdout",
     "output_type": "stream",
     "text": [
      "[VAL] tas: RMSE=1.3565, Time-Mean RMSE=0.5714, Time-Stddev MAE=0.2086\n",
      "[VAL] pr: RMSE=1.9404, Time-Mean RMSE=0.2346, Time-Stddev MAE=0.7474\n"
     ]
    },
    {
     "data": {
      "application/vnd.jupyter.widget-view+json": {
       "model_id": "",
       "version_major": 2,
       "version_minor": 0
      },
      "text/plain": [
       "Validation: |                                                                                    | 0/? [00:00<…"
      ]
     },
     "metadata": {},
     "output_type": "display_data"
    },
    {
     "name": "stdout",
     "output_type": "stream",
     "text": [
      "[VAL] tas: RMSE=1.5733, Time-Mean RMSE=0.9068, Time-Stddev MAE=0.2505\n",
      "[VAL] pr: RMSE=1.9538, Time-Mean RMSE=0.2738, Time-Stddev MAE=0.7802\n"
     ]
    },
    {
     "data": {
      "application/vnd.jupyter.widget-view+json": {
       "model_id": "",
       "version_major": 2,
       "version_minor": 0
      },
      "text/plain": [
       "Validation: |                                                                                    | 0/? [00:00<…"
      ]
     },
     "metadata": {},
     "output_type": "display_data"
    },
    {
     "name": "stdout",
     "output_type": "stream",
     "text": [
      "[VAL] tas: RMSE=1.3106, Time-Mean RMSE=0.5161, Time-Stddev MAE=0.1558\n",
      "[VAL] pr: RMSE=1.9417, Time-Mean RMSE=0.2478, Time-Stddev MAE=0.7529\n"
     ]
    },
    {
     "data": {
      "application/vnd.jupyter.widget-view+json": {
       "model_id": "",
       "version_major": 2,
       "version_minor": 0
      },
      "text/plain": [
       "Validation: |                                                                                    | 0/? [00:00<…"
      ]
     },
     "metadata": {},
     "output_type": "display_data"
    },
    {
     "name": "stdout",
     "output_type": "stream",
     "text": [
      "[VAL] tas: RMSE=1.4083, Time-Mean RMSE=0.4834, Time-Stddev MAE=0.2504\n",
      "[VAL] pr: RMSE=1.9439, Time-Mean RMSE=0.2412, Time-Stddev MAE=0.7422\n"
     ]
    },
    {
     "data": {
      "application/vnd.jupyter.widget-view+json": {
       "model_id": "",
       "version_major": 2,
       "version_minor": 0
      },
      "text/plain": [
       "Validation: |                                                                                    | 0/? [00:00<…"
      ]
     },
     "metadata": {},
     "output_type": "display_data"
    },
    {
     "name": "stdout",
     "output_type": "stream",
     "text": [
      "[VAL] tas: RMSE=1.4629, Time-Mean RMSE=0.3909, Time-Stddev MAE=0.2315\n",
      "[VAL] pr: RMSE=1.9510, Time-Mean RMSE=0.2521, Time-Stddev MAE=0.7548\n"
     ]
    },
    {
     "data": {
      "application/vnd.jupyter.widget-view+json": {
       "model_id": "",
       "version_major": 2,
       "version_minor": 0
      },
      "text/plain": [
       "Validation: |                                                                                    | 0/? [00:00<…"
      ]
     },
     "metadata": {},
     "output_type": "display_data"
    },
    {
     "name": "stdout",
     "output_type": "stream",
     "text": [
      "[VAL] tas: RMSE=1.3986, Time-Mean RMSE=0.4358, Time-Stddev MAE=0.2382\n",
      "[VAL] pr: RMSE=1.9421, Time-Mean RMSE=0.2318, Time-Stddev MAE=0.7617\n"
     ]
    },
    {
     "data": {
      "application/vnd.jupyter.widget-view+json": {
       "model_id": "",
       "version_major": 2,
       "version_minor": 0
      },
      "text/plain": [
       "Validation: |                                                                                    | 0/? [00:00<…"
      ]
     },
     "metadata": {},
     "output_type": "display_data"
    },
    {
     "name": "stdout",
     "output_type": "stream",
     "text": [
      "[VAL] tas: RMSE=1.3589, Time-Mean RMSE=0.5035, Time-Stddev MAE=0.2179\n",
      "[VAL] pr: RMSE=1.9444, Time-Mean RMSE=0.2484, Time-Stddev MAE=0.7742\n"
     ]
    },
    {
     "data": {
      "application/vnd.jupyter.widget-view+json": {
       "model_id": "",
       "version_major": 2,
       "version_minor": 0
      },
      "text/plain": [
       "Validation: |                                                                                    | 0/? [00:00<…"
      ]
     },
     "metadata": {},
     "output_type": "display_data"
    },
    {
     "name": "stdout",
     "output_type": "stream",
     "text": [
      "[VAL] tas: RMSE=1.3681, Time-Mean RMSE=0.6420, Time-Stddev MAE=0.2062\n",
      "[VAL] pr: RMSE=1.9434, Time-Mean RMSE=0.2638, Time-Stddev MAE=0.7563\n"
     ]
    },
    {
     "data": {
      "application/vnd.jupyter.widget-view+json": {
       "model_id": "",
       "version_major": 2,
       "version_minor": 0
      },
      "text/plain": [
       "Validation: |                                                                                    | 0/? [00:00<…"
      ]
     },
     "metadata": {},
     "output_type": "display_data"
    },
    {
     "name": "stdout",
     "output_type": "stream",
     "text": [
      "[VAL] tas: RMSE=1.5366, Time-Mean RMSE=0.8855, Time-Stddev MAE=0.2346\n",
      "[VAL] pr: RMSE=1.9533, Time-Mean RMSE=0.2921, Time-Stddev MAE=0.7808\n"
     ]
    },
    {
     "data": {
      "application/vnd.jupyter.widget-view+json": {
       "model_id": "",
       "version_major": 2,
       "version_minor": 0
      },
      "text/plain": [
       "Validation: |                                                                                    | 0/? [00:00<…"
      ]
     },
     "metadata": {},
     "output_type": "display_data"
    },
    {
     "name": "stdout",
     "output_type": "stream",
     "text": [
      "[VAL] tas: RMSE=1.5424, Time-Mean RMSE=0.8613, Time-Stddev MAE=0.2668\n",
      "[VAL] pr: RMSE=1.9512, Time-Mean RMSE=0.2847, Time-Stddev MAE=0.7570\n"
     ]
    },
    {
     "data": {
      "application/vnd.jupyter.widget-view+json": {
       "model_id": "",
       "version_major": 2,
       "version_minor": 0
      },
      "text/plain": [
       "Validation: |                                                                                    | 0/? [00:00<…"
      ]
     },
     "metadata": {},
     "output_type": "display_data"
    },
    {
     "name": "stdout",
     "output_type": "stream",
     "text": [
      "[VAL] tas: RMSE=1.5184, Time-Mean RMSE=0.7542, Time-Stddev MAE=0.2887\n",
      "[VAL] pr: RMSE=1.9501, Time-Mean RMSE=0.2762, Time-Stddev MAE=0.7477\n"
     ]
    },
    {
     "data": {
      "application/vnd.jupyter.widget-view+json": {
       "model_id": "",
       "version_major": 2,
       "version_minor": 0
      },
      "text/plain": [
       "Validation: |                                                                                    | 0/? [00:00<…"
      ]
     },
     "metadata": {},
     "output_type": "display_data"
    },
    {
     "name": "stdout",
     "output_type": "stream",
     "text": [
      "[VAL] tas: RMSE=1.5197, Time-Mean RMSE=0.9256, Time-Stddev MAE=0.1981\n",
      "[VAL] pr: RMSE=1.9491, Time-Mean RMSE=0.2768, Time-Stddev MAE=0.7482\n"
     ]
    },
    {
     "data": {
      "application/vnd.jupyter.widget-view+json": {
       "model_id": "",
       "version_major": 2,
       "version_minor": 0
      },
      "text/plain": [
       "Validation: |                                                                                    | 0/? [00:00<…"
      ]
     },
     "metadata": {},
     "output_type": "display_data"
    },
    {
     "name": "stdout",
     "output_type": "stream",
     "text": [
      "[VAL] tas: RMSE=1.5763, Time-Mean RMSE=0.6664, Time-Stddev MAE=0.2237\n",
      "[VAL] pr: RMSE=2.0201, Time-Mean RMSE=0.3429, Time-Stddev MAE=0.7780\n"
     ]
    },
    {
     "data": {
      "application/vnd.jupyter.widget-view+json": {
       "model_id": "",
       "version_major": 2,
       "version_minor": 0
      },
      "text/plain": [
       "Validation: |                                                                                    | 0/? [00:00<…"
      ]
     },
     "metadata": {},
     "output_type": "display_data"
    },
    {
     "name": "stdout",
     "output_type": "stream",
     "text": [
      "[VAL] tas: RMSE=1.5815, Time-Mean RMSE=0.9164, Time-Stddev MAE=0.2240\n",
      "[VAL] pr: RMSE=1.9551, Time-Mean RMSE=0.2929, Time-Stddev MAE=0.7871\n"
     ]
    },
    {
     "data": {
      "application/vnd.jupyter.widget-view+json": {
       "model_id": "",
       "version_major": 2,
       "version_minor": 0
      },
      "text/plain": [
       "Validation: |                                                                                    | 0/? [00:00<…"
      ]
     },
     "metadata": {},
     "output_type": "display_data"
    },
    {
     "name": "stdout",
     "output_type": "stream",
     "text": [
      "[VAL] tas: RMSE=1.6154, Time-Mean RMSE=1.0262, Time-Stddev MAE=0.2411\n",
      "[VAL] pr: RMSE=1.9695, Time-Mean RMSE=0.3042, Time-Stddev MAE=0.7921\n"
     ]
    },
    {
     "data": {
      "application/vnd.jupyter.widget-view+json": {
       "model_id": "",
       "version_major": 2,
       "version_minor": 0
      },
      "text/plain": [
       "Validation: |                                                                                    | 0/? [00:00<…"
      ]
     },
     "metadata": {},
     "output_type": "display_data"
    },
    {
     "name": "stdout",
     "output_type": "stream",
     "text": [
      "[VAL] tas: RMSE=1.3694, Time-Mean RMSE=0.5991, Time-Stddev MAE=0.2717\n",
      "[VAL] pr: RMSE=1.9417, Time-Mean RMSE=0.2415, Time-Stddev MAE=0.7630\n"
     ]
    },
    {
     "data": {
      "application/vnd.jupyter.widget-view+json": {
       "model_id": "",
       "version_major": 2,
       "version_minor": 0
      },
      "text/plain": [
       "Validation: |                                                                                    | 0/? [00:00<…"
      ]
     },
     "metadata": {},
     "output_type": "display_data"
    },
    {
     "name": "stdout",
     "output_type": "stream",
     "text": [
      "[VAL] tas: RMSE=1.4456, Time-Mean RMSE=0.7575, Time-Stddev MAE=0.1910\n",
      "[VAL] pr: RMSE=1.9495, Time-Mean RMSE=0.2721, Time-Stddev MAE=0.7857\n"
     ]
    },
    {
     "data": {
      "application/vnd.jupyter.widget-view+json": {
       "model_id": "",
       "version_major": 2,
       "version_minor": 0
      },
      "text/plain": [
       "Validation: |                                                                                    | 0/? [00:00<…"
      ]
     },
     "metadata": {},
     "output_type": "display_data"
    },
    {
     "name": "stdout",
     "output_type": "stream",
     "text": [
      "[VAL] tas: RMSE=1.5826, Time-Mean RMSE=0.9006, Time-Stddev MAE=0.2152\n",
      "[VAL] pr: RMSE=1.9543, Time-Mean RMSE=0.3020, Time-Stddev MAE=0.7908\n"
     ]
    },
    {
     "data": {
      "application/vnd.jupyter.widget-view+json": {
       "model_id": "",
       "version_major": 2,
       "version_minor": 0
      },
      "text/plain": [
       "Validation: |                                                                                    | 0/? [00:00<…"
      ]
     },
     "metadata": {},
     "output_type": "display_data"
    },
    {
     "name": "stdout",
     "output_type": "stream",
     "text": [
      "[VAL] tas: RMSE=1.4230, Time-Mean RMSE=0.7743, Time-Stddev MAE=0.2619\n",
      "[VAL] pr: RMSE=1.9486, Time-Mean RMSE=0.2680, Time-Stddev MAE=0.7885\n"
     ]
    },
    {
     "data": {
      "application/vnd.jupyter.widget-view+json": {
       "model_id": "",
       "version_major": 2,
       "version_minor": 0
      },
      "text/plain": [
       "Validation: |                                                                                    | 0/? [00:00<…"
      ]
     },
     "metadata": {},
     "output_type": "display_data"
    },
    {
     "name": "stdout",
     "output_type": "stream",
     "text": [
      "[VAL] tas: RMSE=1.4299, Time-Mean RMSE=0.7620, Time-Stddev MAE=0.2093\n",
      "[VAL] pr: RMSE=1.9483, Time-Mean RMSE=0.2818, Time-Stddev MAE=0.7566\n"
     ]
    },
    {
     "data": {
      "application/vnd.jupyter.widget-view+json": {
       "model_id": "",
       "version_major": 2,
       "version_minor": 0
      },
      "text/plain": [
       "Validation: |                                                                                    | 0/? [00:00<…"
      ]
     },
     "metadata": {},
     "output_type": "display_data"
    },
    {
     "name": "stdout",
     "output_type": "stream",
     "text": [
      "[VAL] tas: RMSE=1.3973, Time-Mean RMSE=0.6995, Time-Stddev MAE=0.2546\n",
      "[VAL] pr: RMSE=1.9458, Time-Mean RMSE=0.2542, Time-Stddev MAE=0.7739\n"
     ]
    },
    {
     "data": {
      "application/vnd.jupyter.widget-view+json": {
       "model_id": "",
       "version_major": 2,
       "version_minor": 0
      },
      "text/plain": [
       "Validation: |                                                                                    | 0/? [00:00<…"
      ]
     },
     "metadata": {},
     "output_type": "display_data"
    },
    {
     "name": "stdout",
     "output_type": "stream",
     "text": [
      "[VAL] tas: RMSE=1.4180, Time-Mean RMSE=0.7549, Time-Stddev MAE=0.2215\n",
      "[VAL] pr: RMSE=1.9476, Time-Mean RMSE=0.2713, Time-Stddev MAE=0.7787\n"
     ]
    },
    {
     "data": {
      "application/vnd.jupyter.widget-view+json": {
       "model_id": "",
       "version_major": 2,
       "version_minor": 0
      },
      "text/plain": [
       "Validation: |                                                                                    | 0/? [00:00<…"
      ]
     },
     "metadata": {},
     "output_type": "display_data"
    },
    {
     "name": "stdout",
     "output_type": "stream",
     "text": [
      "[VAL] tas: RMSE=1.4316, Time-Mean RMSE=0.7391, Time-Stddev MAE=0.2438\n",
      "[VAL] pr: RMSE=1.9567, Time-Mean RMSE=0.3123, Time-Stddev MAE=0.7625\n"
     ]
    },
    {
     "data": {
      "application/vnd.jupyter.widget-view+json": {
       "model_id": "",
       "version_major": 2,
       "version_minor": 0
      },
      "text/plain": [
       "Validation: |                                                                                    | 0/? [00:00<…"
      ]
     },
     "metadata": {},
     "output_type": "display_data"
    },
    {
     "name": "stdout",
     "output_type": "stream",
     "text": [
      "[VAL] tas: RMSE=1.3286, Time-Mean RMSE=0.4305, Time-Stddev MAE=0.1969\n",
      "[VAL] pr: RMSE=1.9446, Time-Mean RMSE=0.2482, Time-Stddev MAE=0.7622\n"
     ]
    },
    {
     "data": {
      "application/vnd.jupyter.widget-view+json": {
       "model_id": "",
       "version_major": 2,
       "version_minor": 0
      },
      "text/plain": [
       "Validation: |                                                                                    | 0/? [00:00<…"
      ]
     },
     "metadata": {},
     "output_type": "display_data"
    },
    {
     "name": "stdout",
     "output_type": "stream",
     "text": [
      "[VAL] tas: RMSE=1.4392, Time-Mean RMSE=0.7021, Time-Stddev MAE=0.1972\n",
      "[VAL] pr: RMSE=1.9525, Time-Mean RMSE=0.2963, Time-Stddev MAE=0.7551\n"
     ]
    },
    {
     "data": {
      "application/vnd.jupyter.widget-view+json": {
       "model_id": "",
       "version_major": 2,
       "version_minor": 0
      },
      "text/plain": [
       "Validation: |                                                                                    | 0/? [00:00<…"
      ]
     },
     "metadata": {},
     "output_type": "display_data"
    },
    {
     "name": "stdout",
     "output_type": "stream",
     "text": [
      "[VAL] tas: RMSE=1.4631, Time-Mean RMSE=0.8269, Time-Stddev MAE=0.2022\n",
      "[VAL] pr: RMSE=1.9510, Time-Mean RMSE=0.2934, Time-Stddev MAE=0.7624\n"
     ]
    },
    {
     "data": {
      "application/vnd.jupyter.widget-view+json": {
       "model_id": "",
       "version_major": 2,
       "version_minor": 0
      },
      "text/plain": [
       "Validation: |                                                                                    | 0/? [00:00<…"
      ]
     },
     "metadata": {},
     "output_type": "display_data"
    },
    {
     "name": "stdout",
     "output_type": "stream",
     "text": [
      "[VAL] tas: RMSE=1.4085, Time-Mean RMSE=0.7314, Time-Stddev MAE=0.2409\n",
      "[VAL] pr: RMSE=1.9452, Time-Mean RMSE=0.2657, Time-Stddev MAE=0.7818\n"
     ]
    },
    {
     "data": {
      "application/vnd.jupyter.widget-view+json": {
       "model_id": "",
       "version_major": 2,
       "version_minor": 0
      },
      "text/plain": [
       "Validation: |                                                                                    | 0/? [00:00<…"
      ]
     },
     "metadata": {},
     "output_type": "display_data"
    },
    {
     "name": "stdout",
     "output_type": "stream",
     "text": [
      "[VAL] tas: RMSE=1.5195, Time-Mean RMSE=0.7495, Time-Stddev MAE=0.2149\n",
      "[VAL] pr: RMSE=1.9645, Time-Mean RMSE=0.2809, Time-Stddev MAE=0.8056\n"
     ]
    },
    {
     "data": {
      "application/vnd.jupyter.widget-view+json": {
       "model_id": "",
       "version_major": 2,
       "version_minor": 0
      },
      "text/plain": [
       "Validation: |                                                                                    | 0/? [00:00<…"
      ]
     },
     "metadata": {},
     "output_type": "display_data"
    },
    {
     "name": "stdout",
     "output_type": "stream",
     "text": [
      "[VAL] tas: RMSE=1.3735, Time-Mean RMSE=0.6110, Time-Stddev MAE=0.2291\n",
      "[VAL] pr: RMSE=1.9469, Time-Mean RMSE=0.2681, Time-Stddev MAE=0.7545\n"
     ]
    },
    {
     "data": {
      "application/vnd.jupyter.widget-view+json": {
       "model_id": "",
       "version_major": 2,
       "version_minor": 0
      },
      "text/plain": [
       "Validation: |                                                                                    | 0/? [00:00<…"
      ]
     },
     "metadata": {},
     "output_type": "display_data"
    },
    {
     "name": "stdout",
     "output_type": "stream",
     "text": [
      "[VAL] tas: RMSE=1.3511, Time-Mean RMSE=0.5682, Time-Stddev MAE=0.1814\n",
      "[VAL] pr: RMSE=1.9428, Time-Mean RMSE=0.2617, Time-Stddev MAE=0.7555\n"
     ]
    },
    {
     "data": {
      "application/vnd.jupyter.widget-view+json": {
       "model_id": "",
       "version_major": 2,
       "version_minor": 0
      },
      "text/plain": [
       "Validation: |                                                                                    | 0/? [00:00<…"
      ]
     },
     "metadata": {},
     "output_type": "display_data"
    },
    {
     "name": "stdout",
     "output_type": "stream",
     "text": [
      "[VAL] tas: RMSE=1.3901, Time-Mean RMSE=0.6818, Time-Stddev MAE=0.2639\n",
      "[VAL] pr: RMSE=1.9496, Time-Mean RMSE=0.2681, Time-Stddev MAE=0.7958\n"
     ]
    },
    {
     "data": {
      "application/vnd.jupyter.widget-view+json": {
       "model_id": "",
       "version_major": 2,
       "version_minor": 0
      },
      "text/plain": [
       "Validation: |                                                                                    | 0/? [00:00<…"
      ]
     },
     "metadata": {},
     "output_type": "display_data"
    },
    {
     "name": "stdout",
     "output_type": "stream",
     "text": [
      "[VAL] tas: RMSE=1.4042, Time-Mean RMSE=0.6760, Time-Stddev MAE=0.2407\n",
      "[VAL] pr: RMSE=1.9513, Time-Mean RMSE=0.2962, Time-Stddev MAE=0.7643\n"
     ]
    },
    {
     "data": {
      "application/vnd.jupyter.widget-view+json": {
       "model_id": "",
       "version_major": 2,
       "version_minor": 0
      },
      "text/plain": [
       "Validation: |                                                                                    | 0/? [00:00<…"
      ]
     },
     "metadata": {},
     "output_type": "display_data"
    },
    {
     "name": "stdout",
     "output_type": "stream",
     "text": [
      "[VAL] tas: RMSE=1.4337, Time-Mean RMSE=0.7833, Time-Stddev MAE=0.1979\n",
      "[VAL] pr: RMSE=1.9497, Time-Mean RMSE=0.2796, Time-Stddev MAE=0.7695\n"
     ]
    },
    {
     "data": {
      "application/vnd.jupyter.widget-view+json": {
       "model_id": "",
       "version_major": 2,
       "version_minor": 0
      },
      "text/plain": [
       "Validation: |                                                                                    | 0/? [00:00<…"
      ]
     },
     "metadata": {},
     "output_type": "display_data"
    },
    {
     "name": "stdout",
     "output_type": "stream",
     "text": [
      "[VAL] tas: RMSE=1.7593, Time-Mean RMSE=0.8167, Time-Stddev MAE=0.1822\n",
      "[VAL] pr: RMSE=2.0496, Time-Mean RMSE=0.3421, Time-Stddev MAE=0.7828\n"
     ]
    },
    {
     "data": {
      "application/vnd.jupyter.widget-view+json": {
       "model_id": "",
       "version_major": 2,
       "version_minor": 0
      },
      "text/plain": [
       "Validation: |                                                                                    | 0/? [00:00<…"
      ]
     },
     "metadata": {},
     "output_type": "display_data"
    },
    {
     "name": "stdout",
     "output_type": "stream",
     "text": [
      "[VAL] tas: RMSE=1.6110, Time-Mean RMSE=1.0074, Time-Stddev MAE=0.2496\n",
      "[VAL] pr: RMSE=1.9503, Time-Mean RMSE=0.2831, Time-Stddev MAE=0.7645\n"
     ]
    },
    {
     "data": {
      "application/vnd.jupyter.widget-view+json": {
       "model_id": "",
       "version_major": 2,
       "version_minor": 0
      },
      "text/plain": [
       "Validation: |                                                                                    | 0/? [00:00<…"
      ]
     },
     "metadata": {},
     "output_type": "display_data"
    },
    {
     "name": "stdout",
     "output_type": "stream",
     "text": [
      "[VAL] tas: RMSE=1.5122, Time-Mean RMSE=0.7539, Time-Stddev MAE=0.3406\n",
      "[VAL] pr: RMSE=1.9790, Time-Mean RMSE=0.2724, Time-Stddev MAE=0.8332\n"
     ]
    },
    {
     "data": {
      "application/vnd.jupyter.widget-view+json": {
       "model_id": "",
       "version_major": 2,
       "version_minor": 0
      },
      "text/plain": [
       "Validation: |                                                                                    | 0/? [00:00<…"
      ]
     },
     "metadata": {},
     "output_type": "display_data"
    },
    {
     "name": "stdout",
     "output_type": "stream",
     "text": [
      "[VAL] tas: RMSE=2.4998, Time-Mean RMSE=0.8271, Time-Stddev MAE=0.7692\n",
      "[VAL] pr: RMSE=2.2694, Time-Mean RMSE=0.3379, Time-Stddev MAE=1.0302\n"
     ]
    },
    {
     "data": {
      "application/vnd.jupyter.widget-view+json": {
       "model_id": "",
       "version_major": 2,
       "version_minor": 0
      },
      "text/plain": [
       "Validation: |                                                                                    | 0/? [00:00<…"
      ]
     },
     "metadata": {},
     "output_type": "display_data"
    },
    {
     "name": "stdout",
     "output_type": "stream",
     "text": [
      "[VAL] tas: RMSE=1.6524, Time-Mean RMSE=0.8107, Time-Stddev MAE=0.2139\n",
      "[VAL] pr: RMSE=2.0052, Time-Mean RMSE=0.3291, Time-Stddev MAE=0.8176\n"
     ]
    },
    {
     "data": {
      "application/vnd.jupyter.widget-view+json": {
       "model_id": "",
       "version_major": 2,
       "version_minor": 0
      },
      "text/plain": [
       "Validation: |                                                                                    | 0/? [00:00<…"
      ]
     },
     "metadata": {},
     "output_type": "display_data"
    },
    {
     "name": "stdout",
     "output_type": "stream",
     "text": [
      "[VAL] tas: RMSE=1.5224, Time-Mean RMSE=0.5483, Time-Stddev MAE=0.2387\n",
      "[VAL] pr: RMSE=1.9947, Time-Mean RMSE=0.3116, Time-Stddev MAE=0.8438\n"
     ]
    },
    {
     "data": {
      "application/vnd.jupyter.widget-view+json": {
       "model_id": "",
       "version_major": 2,
       "version_minor": 0
      },
      "text/plain": [
       "Validation: |                                                                                    | 0/? [00:00<…"
      ]
     },
     "metadata": {},
     "output_type": "display_data"
    },
    {
     "name": "stdout",
     "output_type": "stream",
     "text": [
      "[VAL] tas: RMSE=1.4592, Time-Mean RMSE=0.6990, Time-Stddev MAE=0.1627\n",
      "[VAL] pr: RMSE=1.9593, Time-Mean RMSE=0.2762, Time-Stddev MAE=0.7710\n"
     ]
    },
    {
     "data": {
      "application/vnd.jupyter.widget-view+json": {
       "model_id": "",
       "version_major": 2,
       "version_minor": 0
      },
      "text/plain": [
       "Validation: |                                                                                    | 0/? [00:00<…"
      ]
     },
     "metadata": {},
     "output_type": "display_data"
    },
    {
     "name": "stdout",
     "output_type": "stream",
     "text": [
      "[VAL] tas: RMSE=1.3883, Time-Mean RMSE=0.5136, Time-Stddev MAE=0.1634\n",
      "[VAL] pr: RMSE=1.9452, Time-Mean RMSE=0.2338, Time-Stddev MAE=0.7595\n"
     ]
    },
    {
     "data": {
      "application/vnd.jupyter.widget-view+json": {
       "model_id": "",
       "version_major": 2,
       "version_minor": 0
      },
      "text/plain": [
       "Validation: |                                                                                    | 0/? [00:00<…"
      ]
     },
     "metadata": {},
     "output_type": "display_data"
    },
    {
     "name": "stdout",
     "output_type": "stream",
     "text": [
      "[VAL] tas: RMSE=1.3459, Time-Mean RMSE=0.5114, Time-Stddev MAE=0.1750\n",
      "[VAL] pr: RMSE=1.9480, Time-Mean RMSE=0.2297, Time-Stddev MAE=0.7434\n"
     ]
    },
    {
     "data": {
      "application/vnd.jupyter.widget-view+json": {
       "model_id": "",
       "version_major": 2,
       "version_minor": 0
      },
      "text/plain": [
       "Validation: |                                                                                    | 0/? [00:00<…"
      ]
     },
     "metadata": {},
     "output_type": "display_data"
    },
    {
     "name": "stdout",
     "output_type": "stream",
     "text": [
      "[VAL] tas: RMSE=1.6102, Time-Mean RMSE=0.6550, Time-Stddev MAE=0.2270\n",
      "[VAL] pr: RMSE=1.9947, Time-Mean RMSE=0.2664, Time-Stddev MAE=0.8104\n"
     ]
    },
    {
     "data": {
      "application/vnd.jupyter.widget-view+json": {
       "model_id": "",
       "version_major": 2,
       "version_minor": 0
      },
      "text/plain": [
       "Validation: |                                                                                    | 0/? [00:00<…"
      ]
     },
     "metadata": {},
     "output_type": "display_data"
    },
    {
     "name": "stdout",
     "output_type": "stream",
     "text": [
      "[VAL] tas: RMSE=1.4311, Time-Mean RMSE=0.6513, Time-Stddev MAE=0.2410\n",
      "[VAL] pr: RMSE=1.9520, Time-Mean RMSE=0.2885, Time-Stddev MAE=0.7953\n"
     ]
    },
    {
     "data": {
      "application/vnd.jupyter.widget-view+json": {
       "model_id": "",
       "version_major": 2,
       "version_minor": 0
      },
      "text/plain": [
       "Validation: |                                                                                    | 0/? [00:00<…"
      ]
     },
     "metadata": {},
     "output_type": "display_data"
    },
    {
     "name": "stdout",
     "output_type": "stream",
     "text": [
      "[VAL] tas: RMSE=1.5359, Time-Mean RMSE=0.7938, Time-Stddev MAE=0.2740\n",
      "[VAL] pr: RMSE=1.9629, Time-Mean RMSE=0.2626, Time-Stddev MAE=0.8045\n"
     ]
    },
    {
     "data": {
      "application/vnd.jupyter.widget-view+json": {
       "model_id": "",
       "version_major": 2,
       "version_minor": 0
      },
      "text/plain": [
       "Validation: |                                                                                    | 0/? [00:00<…"
      ]
     },
     "metadata": {},
     "output_type": "display_data"
    },
    {
     "name": "stdout",
     "output_type": "stream",
     "text": [
      "[VAL] tas: RMSE=2.5362, Time-Mean RMSE=1.4693, Time-Stddev MAE=0.3343\n",
      "[VAL] pr: RMSE=2.1169, Time-Mean RMSE=0.3196, Time-Stddev MAE=0.8673\n"
     ]
    },
    {
     "data": {
      "application/vnd.jupyter.widget-view+json": {
       "model_id": "",
       "version_major": 2,
       "version_minor": 0
      },
      "text/plain": [
       "Validation: |                                                                                    | 0/? [00:00<…"
      ]
     },
     "metadata": {},
     "output_type": "display_data"
    },
    {
     "name": "stdout",
     "output_type": "stream",
     "text": [
      "[VAL] tas: RMSE=1.5510, Time-Mean RMSE=0.8076, Time-Stddev MAE=0.3056\n",
      "[VAL] pr: RMSE=1.9479, Time-Mean RMSE=0.2577, Time-Stddev MAE=0.7481\n"
     ]
    },
    {
     "data": {
      "application/vnd.jupyter.widget-view+json": {
       "model_id": "",
       "version_major": 2,
       "version_minor": 0
      },
      "text/plain": [
       "Validation: |                                                                                    | 0/? [00:00<…"
      ]
     },
     "metadata": {},
     "output_type": "display_data"
    },
    {
     "name": "stdout",
     "output_type": "stream",
     "text": [
      "[VAL] tas: RMSE=1.4433, Time-Mean RMSE=0.6357, Time-Stddev MAE=0.2033\n",
      "[VAL] pr: RMSE=1.9592, Time-Mean RMSE=0.2780, Time-Stddev MAE=0.8003\n"
     ]
    },
    {
     "data": {
      "application/vnd.jupyter.widget-view+json": {
       "model_id": "",
       "version_major": 2,
       "version_minor": 0
      },
      "text/plain": [
       "Validation: |                                                                                    | 0/? [00:00<…"
      ]
     },
     "metadata": {},
     "output_type": "display_data"
    },
    {
     "name": "stdout",
     "output_type": "stream",
     "text": [
      "[VAL] tas: RMSE=1.3724, Time-Mean RMSE=0.6641, Time-Stddev MAE=0.2065\n",
      "[VAL] pr: RMSE=1.9473, Time-Mean RMSE=0.2634, Time-Stddev MAE=0.7357\n"
     ]
    },
    {
     "data": {
      "application/vnd.jupyter.widget-view+json": {
       "model_id": "",
       "version_major": 2,
       "version_minor": 0
      },
      "text/plain": [
       "Validation: |                                                                                    | 0/? [00:00<…"
      ]
     },
     "metadata": {},
     "output_type": "display_data"
    },
    {
     "name": "stdout",
     "output_type": "stream",
     "text": [
      "[VAL] tas: RMSE=1.3334, Time-Mean RMSE=0.4890, Time-Stddev MAE=0.1648\n",
      "[VAL] pr: RMSE=1.9409, Time-Mean RMSE=0.2399, Time-Stddev MAE=0.7437\n"
     ]
    },
    {
     "data": {
      "application/vnd.jupyter.widget-view+json": {
       "model_id": "",
       "version_major": 2,
       "version_minor": 0
      },
      "text/plain": [
       "Validation: |                                                                                    | 0/? [00:00<…"
      ]
     },
     "metadata": {},
     "output_type": "display_data"
    },
    {
     "name": "stdout",
     "output_type": "stream",
     "text": [
      "[VAL] tas: RMSE=1.3918, Time-Mean RMSE=0.6414, Time-Stddev MAE=0.1762\n",
      "[VAL] pr: RMSE=1.9436, Time-Mean RMSE=0.2639, Time-Stddev MAE=0.7527\n"
     ]
    },
    {
     "data": {
      "application/vnd.jupyter.widget-view+json": {
       "model_id": "",
       "version_major": 2,
       "version_minor": 0
      },
      "text/plain": [
       "Validation: |                                                                                    | 0/? [00:00<…"
      ]
     },
     "metadata": {},
     "output_type": "display_data"
    },
    {
     "name": "stdout",
     "output_type": "stream",
     "text": [
      "[VAL] tas: RMSE=1.3279, Time-Mean RMSE=0.5250, Time-Stddev MAE=0.2375\n",
      "[VAL] pr: RMSE=1.9428, Time-Mean RMSE=0.2549, Time-Stddev MAE=0.7393\n"
     ]
    },
    {
     "data": {
      "application/vnd.jupyter.widget-view+json": {
       "model_id": "",
       "version_major": 2,
       "version_minor": 0
      },
      "text/plain": [
       "Validation: |                                                                                    | 0/? [00:00<…"
      ]
     },
     "metadata": {},
     "output_type": "display_data"
    },
    {
     "name": "stdout",
     "output_type": "stream",
     "text": [
      "[VAL] tas: RMSE=1.3155, Time-Mean RMSE=0.5067, Time-Stddev MAE=0.1474\n",
      "[VAL] pr: RMSE=1.9399, Time-Mean RMSE=0.2405, Time-Stddev MAE=0.7407\n"
     ]
    },
    {
     "data": {
      "application/vnd.jupyter.widget-view+json": {
       "model_id": "",
       "version_major": 2,
       "version_minor": 0
      },
      "text/plain": [
       "Validation: |                                                                                    | 0/? [00:00<…"
      ]
     },
     "metadata": {},
     "output_type": "display_data"
    },
    {
     "name": "stdout",
     "output_type": "stream",
     "text": [
      "[VAL] tas: RMSE=1.2768, Time-Mean RMSE=0.4539, Time-Stddev MAE=0.1708\n",
      "[VAL] pr: RMSE=1.9383, Time-Mean RMSE=0.2416, Time-Stddev MAE=0.7540\n"
     ]
    },
    {
     "data": {
      "application/vnd.jupyter.widget-view+json": {
       "model_id": "",
       "version_major": 2,
       "version_minor": 0
      },
      "text/plain": [
       "Validation: |                                                                                    | 0/? [00:00<…"
      ]
     },
     "metadata": {},
     "output_type": "display_data"
    },
    {
     "name": "stdout",
     "output_type": "stream",
     "text": [
      "[VAL] tas: RMSE=1.2787, Time-Mean RMSE=0.3057, Time-Stddev MAE=0.1925\n",
      "[VAL] pr: RMSE=1.9407, Time-Mean RMSE=0.2258, Time-Stddev MAE=0.7539\n"
     ]
    },
    {
     "data": {
      "application/vnd.jupyter.widget-view+json": {
       "model_id": "",
       "version_major": 2,
       "version_minor": 0
      },
      "text/plain": [
       "Validation: |                                                                                    | 0/? [00:00<…"
      ]
     },
     "metadata": {},
     "output_type": "display_data"
    },
    {
     "name": "stdout",
     "output_type": "stream",
     "text": [
      "[VAL] tas: RMSE=1.3494, Time-Mean RMSE=0.5706, Time-Stddev MAE=0.1768\n",
      "[VAL] pr: RMSE=1.9405, Time-Mean RMSE=0.2481, Time-Stddev MAE=0.7404\n"
     ]
    },
    {
     "data": {
      "application/vnd.jupyter.widget-view+json": {
       "model_id": "",
       "version_major": 2,
       "version_minor": 0
      },
      "text/plain": [
       "Validation: |                                                                                    | 0/? [00:00<…"
      ]
     },
     "metadata": {},
     "output_type": "display_data"
    },
    {
     "name": "stdout",
     "output_type": "stream",
     "text": [
      "[VAL] tas: RMSE=1.3977, Time-Mean RMSE=0.5895, Time-Stddev MAE=0.2578\n",
      "[VAL] pr: RMSE=1.9605, Time-Mean RMSE=0.2426, Time-Stddev MAE=0.7825\n"
     ]
    },
    {
     "data": {
      "application/vnd.jupyter.widget-view+json": {
       "model_id": "",
       "version_major": 2,
       "version_minor": 0
      },
      "text/plain": [
       "Validation: |                                                                                    | 0/? [00:00<…"
      ]
     },
     "metadata": {},
     "output_type": "display_data"
    },
    {
     "name": "stdout",
     "output_type": "stream",
     "text": [
      "[VAL] tas: RMSE=1.2945, Time-Mean RMSE=0.4277, Time-Stddev MAE=0.1855\n",
      "[VAL] pr: RMSE=1.9382, Time-Mean RMSE=0.2382, Time-Stddev MAE=0.7555\n"
     ]
    },
    {
     "data": {
      "application/vnd.jupyter.widget-view+json": {
       "model_id": "",
       "version_major": 2,
       "version_minor": 0
      },
      "text/plain": [
       "Validation: |                                                                                    | 0/? [00:00<…"
      ]
     },
     "metadata": {},
     "output_type": "display_data"
    },
    {
     "name": "stdout",
     "output_type": "stream",
     "text": [
      "[VAL] tas: RMSE=1.2306, Time-Mean RMSE=0.3563, Time-Stddev MAE=0.2519\n",
      "[VAL] pr: RMSE=1.9351, Time-Mean RMSE=0.2262, Time-Stddev MAE=0.7491\n"
     ]
    },
    {
     "data": {
      "application/vnd.jupyter.widget-view+json": {
       "model_id": "",
       "version_major": 2,
       "version_minor": 0
      },
      "text/plain": [
       "Validation: |                                                                                    | 0/? [00:00<…"
      ]
     },
     "metadata": {},
     "output_type": "display_data"
    },
    {
     "name": "stdout",
     "output_type": "stream",
     "text": [
      "[VAL] tas: RMSE=1.2784, Time-Mean RMSE=0.4778, Time-Stddev MAE=0.1867\n",
      "[VAL] pr: RMSE=1.9401, Time-Mean RMSE=0.2469, Time-Stddev MAE=0.7649\n"
     ]
    },
    {
     "data": {
      "application/vnd.jupyter.widget-view+json": {
       "model_id": "",
       "version_major": 2,
       "version_minor": 0
      },
      "text/plain": [
       "Validation: |                                                                                    | 0/? [00:00<…"
      ]
     },
     "metadata": {},
     "output_type": "display_data"
    },
    {
     "name": "stdout",
     "output_type": "stream",
     "text": [
      "[VAL] tas: RMSE=1.2819, Time-Mean RMSE=0.5048, Time-Stddev MAE=0.1858\n",
      "[VAL] pr: RMSE=1.9422, Time-Mean RMSE=0.2614, Time-Stddev MAE=0.7584\n"
     ]
    },
    {
     "data": {
      "application/vnd.jupyter.widget-view+json": {
       "model_id": "",
       "version_major": 2,
       "version_minor": 0
      },
      "text/plain": [
       "Validation: |                                                                                    | 0/? [00:00<…"
      ]
     },
     "metadata": {},
     "output_type": "display_data"
    },
    {
     "name": "stdout",
     "output_type": "stream",
     "text": [
      "[VAL] tas: RMSE=1.2837, Time-Mean RMSE=0.5030, Time-Stddev MAE=0.1924\n",
      "[VAL] pr: RMSE=1.9371, Time-Mean RMSE=0.2391, Time-Stddev MAE=0.7367\n"
     ]
    },
    {
     "data": {
      "application/vnd.jupyter.widget-view+json": {
       "model_id": "",
       "version_major": 2,
       "version_minor": 0
      },
      "text/plain": [
       "Validation: |                                                                                    | 0/? [00:00<…"
      ]
     },
     "metadata": {},
     "output_type": "display_data"
    },
    {
     "name": "stdout",
     "output_type": "stream",
     "text": [
      "[VAL] tas: RMSE=1.3454, Time-Mean RMSE=0.5669, Time-Stddev MAE=0.1964\n",
      "[VAL] pr: RMSE=1.9454, Time-Mean RMSE=0.2617, Time-Stddev MAE=0.7671\n"
     ]
    },
    {
     "data": {
      "application/vnd.jupyter.widget-view+json": {
       "model_id": "",
       "version_major": 2,
       "version_minor": 0
      },
      "text/plain": [
       "Validation: |                                                                                    | 0/? [00:00<…"
      ]
     },
     "metadata": {},
     "output_type": "display_data"
    },
    {
     "name": "stdout",
     "output_type": "stream",
     "text": [
      "[VAL] tas: RMSE=1.4752, Time-Mean RMSE=0.8397, Time-Stddev MAE=0.2301\n",
      "[VAL] pr: RMSE=1.9525, Time-Mean RMSE=0.2912, Time-Stddev MAE=0.7656\n"
     ]
    },
    {
     "data": {
      "application/vnd.jupyter.widget-view+json": {
       "model_id": "",
       "version_major": 2,
       "version_minor": 0
      },
      "text/plain": [
       "Validation: |                                                                                    | 0/? [00:00<…"
      ]
     },
     "metadata": {},
     "output_type": "display_data"
    },
    {
     "name": "stdout",
     "output_type": "stream",
     "text": [
      "[VAL] tas: RMSE=1.5962, Time-Mean RMSE=1.0477, Time-Stddev MAE=0.2170\n",
      "[VAL] pr: RMSE=1.9512, Time-Mean RMSE=0.2901, Time-Stddev MAE=0.7758\n"
     ]
    },
    {
     "data": {
      "application/vnd.jupyter.widget-view+json": {
       "model_id": "",
       "version_major": 2,
       "version_minor": 0
      },
      "text/plain": [
       "Validation: |                                                                                    | 0/? [00:00<…"
      ]
     },
     "metadata": {},
     "output_type": "display_data"
    },
    {
     "name": "stdout",
     "output_type": "stream",
     "text": [
      "[VAL] tas: RMSE=1.7685, Time-Mean RMSE=1.1073, Time-Stddev MAE=0.2908\n",
      "[VAL] pr: RMSE=1.9602, Time-Mean RMSE=0.2963, Time-Stddev MAE=0.7738\n"
     ]
    },
    {
     "data": {
      "application/vnd.jupyter.widget-view+json": {
       "model_id": "",
       "version_major": 2,
       "version_minor": 0
      },
      "text/plain": [
       "Validation: |                                                                                    | 0/? [00:00<…"
      ]
     },
     "metadata": {},
     "output_type": "display_data"
    },
    {
     "name": "stdout",
     "output_type": "stream",
     "text": [
      "[VAL] tas: RMSE=1.3965, Time-Mean RMSE=0.7170, Time-Stddev MAE=0.1948\n",
      "[VAL] pr: RMSE=1.9437, Time-Mean RMSE=0.2545, Time-Stddev MAE=0.7702\n"
     ]
    },
    {
     "data": {
      "application/vnd.jupyter.widget-view+json": {
       "model_id": "",
       "version_major": 2,
       "version_minor": 0
      },
      "text/plain": [
       "Validation: |                                                                                    | 0/? [00:00<…"
      ]
     },
     "metadata": {},
     "output_type": "display_data"
    },
    {
     "name": "stdout",
     "output_type": "stream",
     "text": [
      "[VAL] tas: RMSE=1.3747, Time-Mean RMSE=0.6805, Time-Stddev MAE=0.1990\n",
      "[VAL] pr: RMSE=1.9485, Time-Mean RMSE=0.2773, Time-Stddev MAE=0.7635\n"
     ]
    },
    {
     "data": {
      "application/vnd.jupyter.widget-view+json": {
       "model_id": "",
       "version_major": 2,
       "version_minor": 0
      },
      "text/plain": [
       "Validation: |                                                                                    | 0/? [00:00<…"
      ]
     },
     "metadata": {},
     "output_type": "display_data"
    },
    {
     "name": "stdout",
     "output_type": "stream",
     "text": [
      "[VAL] tas: RMSE=1.3726, Time-Mean RMSE=0.6312, Time-Stddev MAE=0.2250\n",
      "[VAL] pr: RMSE=1.9452, Time-Mean RMSE=0.2631, Time-Stddev MAE=0.7557\n"
     ]
    },
    {
     "data": {
      "application/vnd.jupyter.widget-view+json": {
       "model_id": "",
       "version_major": 2,
       "version_minor": 0
      },
      "text/plain": [
       "Validation: |                                                                                    | 0/? [00:00<…"
      ]
     },
     "metadata": {},
     "output_type": "display_data"
    },
    {
     "name": "stdout",
     "output_type": "stream",
     "text": [
      "[VAL] tas: RMSE=1.4098, Time-Mean RMSE=0.7079, Time-Stddev MAE=0.1785\n",
      "[VAL] pr: RMSE=1.9468, Time-Mean RMSE=0.2609, Time-Stddev MAE=0.7409\n"
     ]
    },
    {
     "data": {
      "application/vnd.jupyter.widget-view+json": {
       "model_id": "",
       "version_major": 2,
       "version_minor": 0
      },
      "text/plain": [
       "Validation: |                                                                                    | 0/? [00:00<…"
      ]
     },
     "metadata": {},
     "output_type": "display_data"
    },
    {
     "name": "stdout",
     "output_type": "stream",
     "text": [
      "[VAL] tas: RMSE=1.3764, Time-Mean RMSE=0.5981, Time-Stddev MAE=0.2059\n",
      "[VAL] pr: RMSE=1.9413, Time-Mean RMSE=0.2348, Time-Stddev MAE=0.7563\n"
     ]
    },
    {
     "data": {
      "application/vnd.jupyter.widget-view+json": {
       "model_id": "",
       "version_major": 2,
       "version_minor": 0
      },
      "text/plain": [
       "Validation: |                                                                                    | 0/? [00:00<…"
      ]
     },
     "metadata": {},
     "output_type": "display_data"
    },
    {
     "name": "stdout",
     "output_type": "stream",
     "text": [
      "[VAL] tas: RMSE=1.4157, Time-Mean RMSE=0.6686, Time-Stddev MAE=0.2178\n",
      "[VAL] pr: RMSE=1.9581, Time-Mean RMSE=0.2760, Time-Stddev MAE=0.7775\n"
     ]
    },
    {
     "data": {
      "application/vnd.jupyter.widget-view+json": {
       "model_id": "",
       "version_major": 2,
       "version_minor": 0
      },
      "text/plain": [
       "Validation: |                                                                                    | 0/? [00:00<…"
      ]
     },
     "metadata": {},
     "output_type": "display_data"
    },
    {
     "name": "stdout",
     "output_type": "stream",
     "text": [
      "[VAL] tas: RMSE=1.5074, Time-Mean RMSE=0.6583, Time-Stddev MAE=0.1930\n",
      "[VAL] pr: RMSE=1.9813, Time-Mean RMSE=0.2909, Time-Stddev MAE=0.7916\n"
     ]
    },
    {
     "data": {
      "application/vnd.jupyter.widget-view+json": {
       "model_id": "",
       "version_major": 2,
       "version_minor": 0
      },
      "text/plain": [
       "Validation: |                                                                                    | 0/? [00:00<…"
      ]
     },
     "metadata": {},
     "output_type": "display_data"
    },
    {
     "name": "stdout",
     "output_type": "stream",
     "text": [
      "[VAL] tas: RMSE=1.4993, Time-Mean RMSE=0.7908, Time-Stddev MAE=0.3010\n",
      "[VAL] pr: RMSE=1.9575, Time-Mean RMSE=0.3017, Time-Stddev MAE=0.7945\n"
     ]
    },
    {
     "data": {
      "application/vnd.jupyter.widget-view+json": {
       "model_id": "",
       "version_major": 2,
       "version_minor": 0
      },
      "text/plain": [
       "Validation: |                                                                                    | 0/? [00:00<…"
      ]
     },
     "metadata": {},
     "output_type": "display_data"
    },
    {
     "name": "stdout",
     "output_type": "stream",
     "text": [
      "[VAL] tas: RMSE=1.3269, Time-Mean RMSE=0.5676, Time-Stddev MAE=0.2075\n",
      "[VAL] pr: RMSE=1.9394, Time-Mean RMSE=0.2432, Time-Stddev MAE=0.7355\n"
     ]
    },
    {
     "data": {
      "application/vnd.jupyter.widget-view+json": {
       "model_id": "",
       "version_major": 2,
       "version_minor": 0
      },
      "text/plain": [
       "Validation: |                                                                                    | 0/? [00:00<…"
      ]
     },
     "metadata": {},
     "output_type": "display_data"
    },
    {
     "name": "stdout",
     "output_type": "stream",
     "text": [
      "[VAL] tas: RMSE=1.3983, Time-Mean RMSE=0.6529, Time-Stddev MAE=0.1996\n",
      "[VAL] pr: RMSE=1.9431, Time-Mean RMSE=0.2465, Time-Stddev MAE=0.7506\n"
     ]
    },
    {
     "data": {
      "application/vnd.jupyter.widget-view+json": {
       "model_id": "",
       "version_major": 2,
       "version_minor": 0
      },
      "text/plain": [
       "Validation: |                                                                                    | 0/? [00:00<…"
      ]
     },
     "metadata": {},
     "output_type": "display_data"
    },
    {
     "name": "stdout",
     "output_type": "stream",
     "text": [
      "[VAL] tas: RMSE=1.4022, Time-Mean RMSE=0.6687, Time-Stddev MAE=0.2007\n",
      "[VAL] pr: RMSE=1.9473, Time-Mean RMSE=0.2855, Time-Stddev MAE=0.7589\n"
     ]
    },
    {
     "data": {
      "application/vnd.jupyter.widget-view+json": {
       "model_id": "",
       "version_major": 2,
       "version_minor": 0
      },
      "text/plain": [
       "Validation: |                                                                                    | 0/? [00:00<…"
      ]
     },
     "metadata": {},
     "output_type": "display_data"
    },
    {
     "name": "stdout",
     "output_type": "stream",
     "text": [
      "[VAL] tas: RMSE=1.4045, Time-Mean RMSE=0.6791, Time-Stddev MAE=0.1474\n",
      "[VAL] pr: RMSE=1.9503, Time-Mean RMSE=0.2798, Time-Stddev MAE=0.7529\n"
     ]
    },
    {
     "data": {
      "application/vnd.jupyter.widget-view+json": {
       "model_id": "",
       "version_major": 2,
       "version_minor": 0
      },
      "text/plain": [
       "Validation: |                                                                                    | 0/? [00:00<…"
      ]
     },
     "metadata": {},
     "output_type": "display_data"
    },
    {
     "name": "stdout",
     "output_type": "stream",
     "text": [
      "[VAL] tas: RMSE=1.8858, Time-Mean RMSE=0.6902, Time-Stddev MAE=0.2096\n",
      "[VAL] pr: RMSE=2.1411, Time-Mean RMSE=0.3178, Time-Stddev MAE=0.7603\n"
     ]
    },
    {
     "data": {
      "application/vnd.jupyter.widget-view+json": {
       "model_id": "",
       "version_major": 2,
       "version_minor": 0
      },
      "text/plain": [
       "Validation: |                                                                                    | 0/? [00:00<…"
      ]
     },
     "metadata": {},
     "output_type": "display_data"
    },
    {
     "name": "stdout",
     "output_type": "stream",
     "text": [
      "[VAL] tas: RMSE=1.5141, Time-Mean RMSE=0.8215, Time-Stddev MAE=0.2473\n",
      "[VAL] pr: RMSE=1.9571, Time-Mean RMSE=0.2887, Time-Stddev MAE=0.7715\n"
     ]
    },
    {
     "data": {
      "application/vnd.jupyter.widget-view+json": {
       "model_id": "",
       "version_major": 2,
       "version_minor": 0
      },
      "text/plain": [
       "Validation: |                                                                                    | 0/? [00:00<…"
      ]
     },
     "metadata": {},
     "output_type": "display_data"
    },
    {
     "name": "stdout",
     "output_type": "stream",
     "text": [
      "[VAL] tas: RMSE=1.6359, Time-Mean RMSE=1.0549, Time-Stddev MAE=0.2067\n",
      "[VAL] pr: RMSE=1.9641, Time-Mean RMSE=0.3315, Time-Stddev MAE=0.7549\n"
     ]
    },
    {
     "data": {
      "application/vnd.jupyter.widget-view+json": {
       "model_id": "",
       "version_major": 2,
       "version_minor": 0
      },
      "text/plain": [
       "Validation: |                                                                                    | 0/? [00:00<…"
      ]
     },
     "metadata": {},
     "output_type": "display_data"
    },
    {
     "name": "stdout",
     "output_type": "stream",
     "text": [
      "[VAL] tas: RMSE=1.3567, Time-Mean RMSE=0.5400, Time-Stddev MAE=0.1650\n",
      "[VAL] pr: RMSE=1.9444, Time-Mean RMSE=0.2497, Time-Stddev MAE=0.7798\n"
     ]
    },
    {
     "data": {
      "application/vnd.jupyter.widget-view+json": {
       "model_id": "",
       "version_major": 2,
       "version_minor": 0
      },
      "text/plain": [
       "Validation: |                                                                                    | 0/? [00:00<…"
      ]
     },
     "metadata": {},
     "output_type": "display_data"
    },
    {
     "name": "stdout",
     "output_type": "stream",
     "text": [
      "[VAL] tas: RMSE=1.4075, Time-Mean RMSE=0.5904, Time-Stddev MAE=0.2131\n",
      "[VAL] pr: RMSE=1.9463, Time-Mean RMSE=0.2563, Time-Stddev MAE=0.7556\n"
     ]
    },
    {
     "data": {
      "application/vnd.jupyter.widget-view+json": {
       "model_id": "",
       "version_major": 2,
       "version_minor": 0
      },
      "text/plain": [
       "Validation: |                                                                                    | 0/? [00:00<…"
      ]
     },
     "metadata": {},
     "output_type": "display_data"
    },
    {
     "name": "stdout",
     "output_type": "stream",
     "text": [
      "[VAL] tas: RMSE=1.3268, Time-Mean RMSE=0.5415, Time-Stddev MAE=0.1645\n",
      "[VAL] pr: RMSE=1.9393, Time-Mean RMSE=0.2445, Time-Stddev MAE=0.7494\n"
     ]
    },
    {
     "data": {
      "application/vnd.jupyter.widget-view+json": {
       "model_id": "",
       "version_major": 2,
       "version_minor": 0
      },
      "text/plain": [
       "Validation: |                                                                                    | 0/? [00:00<…"
      ]
     },
     "metadata": {},
     "output_type": "display_data"
    },
    {
     "name": "stdout",
     "output_type": "stream",
     "text": [
      "[VAL] tas: RMSE=1.3522, Time-Mean RMSE=0.5068, Time-Stddev MAE=0.1970\n",
      "[VAL] pr: RMSE=1.9505, Time-Mean RMSE=0.2446, Time-Stddev MAE=0.7533\n"
     ]
    },
    {
     "data": {
      "application/vnd.jupyter.widget-view+json": {
       "model_id": "",
       "version_major": 2,
       "version_minor": 0
      },
      "text/plain": [
       "Validation: |                                                                                    | 0/? [00:00<…"
      ]
     },
     "metadata": {},
     "output_type": "display_data"
    },
    {
     "name": "stdout",
     "output_type": "stream",
     "text": [
      "[VAL] tas: RMSE=1.2895, Time-Mean RMSE=0.3724, Time-Stddev MAE=0.1504\n",
      "[VAL] pr: RMSE=1.9427, Time-Mean RMSE=0.2444, Time-Stddev MAE=0.7261\n"
     ]
    },
    {
     "data": {
      "application/vnd.jupyter.widget-view+json": {
       "model_id": "",
       "version_major": 2,
       "version_minor": 0
      },
      "text/plain": [
       "Validation: |                                                                                    | 0/? [00:00<…"
      ]
     },
     "metadata": {},
     "output_type": "display_data"
    },
    {
     "name": "stdout",
     "output_type": "stream",
     "text": [
      "[VAL] tas: RMSE=1.3075, Time-Mean RMSE=0.4812, Time-Stddev MAE=0.1832\n",
      "[VAL] pr: RMSE=1.9483, Time-Mean RMSE=0.2523, Time-Stddev MAE=0.7536\n"
     ]
    },
    {
     "data": {
      "application/vnd.jupyter.widget-view+json": {
       "model_id": "",
       "version_major": 2,
       "version_minor": 0
      },
      "text/plain": [
       "Validation: |                                                                                    | 0/? [00:00<…"
      ]
     },
     "metadata": {},
     "output_type": "display_data"
    },
    {
     "name": "stdout",
     "output_type": "stream",
     "text": [
      "[VAL] tas: RMSE=1.2770, Time-Mean RMSE=0.4663, Time-Stddev MAE=0.1937\n",
      "[VAL] pr: RMSE=1.9432, Time-Mean RMSE=0.2513, Time-Stddev MAE=0.7395\n"
     ]
    },
    {
     "data": {
      "application/vnd.jupyter.widget-view+json": {
       "model_id": "",
       "version_major": 2,
       "version_minor": 0
      },
      "text/plain": [
       "Validation: |                                                                                    | 0/? [00:00<…"
      ]
     },
     "metadata": {},
     "output_type": "display_data"
    },
    {
     "name": "stdout",
     "output_type": "stream",
     "text": [
      "[VAL] tas: RMSE=1.4814, Time-Mean RMSE=0.8103, Time-Stddev MAE=0.2326\n",
      "[VAL] pr: RMSE=1.9502, Time-Mean RMSE=0.2952, Time-Stddev MAE=0.7717\n"
     ]
    },
    {
     "data": {
      "application/vnd.jupyter.widget-view+json": {
       "model_id": "",
       "version_major": 2,
       "version_minor": 0
      },
      "text/plain": [
       "Validation: |                                                                                    | 0/? [00:00<…"
      ]
     },
     "metadata": {},
     "output_type": "display_data"
    },
    {
     "name": "stdout",
     "output_type": "stream",
     "text": [
      "[VAL] tas: RMSE=1.3736, Time-Mean RMSE=0.6480, Time-Stddev MAE=0.1678\n",
      "[VAL] pr: RMSE=1.9423, Time-Mean RMSE=0.2476, Time-Stddev MAE=0.7553\n"
     ]
    },
    {
     "data": {
      "application/vnd.jupyter.widget-view+json": {
       "model_id": "",
       "version_major": 2,
       "version_minor": 0
      },
      "text/plain": [
       "Validation: |                                                                                    | 0/? [00:00<…"
      ]
     },
     "metadata": {},
     "output_type": "display_data"
    },
    {
     "name": "stdout",
     "output_type": "stream",
     "text": [
      "[VAL] tas: RMSE=1.3398, Time-Mean RMSE=0.4196, Time-Stddev MAE=0.1894\n",
      "[VAL] pr: RMSE=1.9511, Time-Mean RMSE=0.2631, Time-Stddev MAE=0.7694\n"
     ]
    },
    {
     "data": {
      "application/vnd.jupyter.widget-view+json": {
       "model_id": "",
       "version_major": 2,
       "version_minor": 0
      },
      "text/plain": [
       "Validation: |                                                                                    | 0/? [00:00<…"
      ]
     },
     "metadata": {},
     "output_type": "display_data"
    },
    {
     "name": "stdout",
     "output_type": "stream",
     "text": [
      "[VAL] tas: RMSE=1.2876, Time-Mean RMSE=0.5142, Time-Stddev MAE=0.1504\n",
      "[VAL] pr: RMSE=1.9390, Time-Mean RMSE=0.2385, Time-Stddev MAE=0.7469\n"
     ]
    },
    {
     "data": {
      "application/vnd.jupyter.widget-view+json": {
       "model_id": "",
       "version_major": 2,
       "version_minor": 0
      },
      "text/plain": [
       "Validation: |                                                                                    | 0/? [00:00<…"
      ]
     },
     "metadata": {},
     "output_type": "display_data"
    },
    {
     "name": "stdout",
     "output_type": "stream",
     "text": [
      "[VAL] tas: RMSE=1.4280, Time-Mean RMSE=0.7684, Time-Stddev MAE=0.2045\n",
      "[VAL] pr: RMSE=1.9461, Time-Mean RMSE=0.2690, Time-Stddev MAE=0.7396\n"
     ]
    },
    {
     "data": {
      "application/vnd.jupyter.widget-view+json": {
       "model_id": "",
       "version_major": 2,
       "version_minor": 0
      },
      "text/plain": [
       "Validation: |                                                                                    | 0/? [00:00<…"
      ]
     },
     "metadata": {},
     "output_type": "display_data"
    },
    {
     "name": "stdout",
     "output_type": "stream",
     "text": [
      "[VAL] tas: RMSE=1.4999, Time-Mean RMSE=0.8643, Time-Stddev MAE=0.2198\n",
      "[VAL] pr: RMSE=1.9537, Time-Mean RMSE=0.2767, Time-Stddev MAE=0.7748\n"
     ]
    },
    {
     "data": {
      "application/vnd.jupyter.widget-view+json": {
       "model_id": "",
       "version_major": 2,
       "version_minor": 0
      },
      "text/plain": [
       "Validation: |                                                                                    | 0/? [00:00<…"
      ]
     },
     "metadata": {},
     "output_type": "display_data"
    },
    {
     "name": "stdout",
     "output_type": "stream",
     "text": [
      "[VAL] tas: RMSE=1.3340, Time-Mean RMSE=0.4786, Time-Stddev MAE=0.2248\n",
      "[VAL] pr: RMSE=1.9402, Time-Mean RMSE=0.2289, Time-Stddev MAE=0.7385\n"
     ]
    },
    {
     "data": {
      "application/vnd.jupyter.widget-view+json": {
       "model_id": "",
       "version_major": 2,
       "version_minor": 0
      },
      "text/plain": [
       "Validation: |                                                                                    | 0/? [00:00<…"
      ]
     },
     "metadata": {},
     "output_type": "display_data"
    },
    {
     "name": "stdout",
     "output_type": "stream",
     "text": [
      "[VAL] tas: RMSE=2.4862, Time-Mean RMSE=1.0765, Time-Stddev MAE=0.2846\n",
      "[VAL] pr: RMSE=2.1607, Time-Mean RMSE=0.2809, Time-Stddev MAE=0.8134\n"
     ]
    },
    {
     "data": {
      "application/vnd.jupyter.widget-view+json": {
       "model_id": "",
       "version_major": 2,
       "version_minor": 0
      },
      "text/plain": [
       "Validation: |                                                                                    | 0/? [00:00<…"
      ]
     },
     "metadata": {},
     "output_type": "display_data"
    },
    {
     "name": "stdout",
     "output_type": "stream",
     "text": [
      "[VAL] tas: RMSE=1.6129, Time-Mean RMSE=0.9145, Time-Stddev MAE=0.2182\n",
      "[VAL] pr: RMSE=1.9679, Time-Mean RMSE=0.3144, Time-Stddev MAE=0.7679\n"
     ]
    },
    {
     "data": {
      "application/vnd.jupyter.widget-view+json": {
       "model_id": "",
       "version_major": 2,
       "version_minor": 0
      },
      "text/plain": [
       "Validation: |                                                                                    | 0/? [00:00<…"
      ]
     },
     "metadata": {},
     "output_type": "display_data"
    },
    {
     "name": "stdout",
     "output_type": "stream",
     "text": [
      "[VAL] tas: RMSE=1.5425, Time-Mean RMSE=0.8841, Time-Stddev MAE=0.2457\n",
      "[VAL] pr: RMSE=1.9541, Time-Mean RMSE=0.2940, Time-Stddev MAE=0.7671\n"
     ]
    },
    {
     "data": {
      "application/vnd.jupyter.widget-view+json": {
       "model_id": "",
       "version_major": 2,
       "version_minor": 0
      },
      "text/plain": [
       "Validation: |                                                                                    | 0/? [00:00<…"
      ]
     },
     "metadata": {},
     "output_type": "display_data"
    },
    {
     "name": "stdout",
     "output_type": "stream",
     "text": [
      "[VAL] tas: RMSE=1.5380, Time-Mean RMSE=0.8953, Time-Stddev MAE=0.2634\n",
      "[VAL] pr: RMSE=1.9563, Time-Mean RMSE=0.3041, Time-Stddev MAE=0.7907\n"
     ]
    },
    {
     "data": {
      "application/vnd.jupyter.widget-view+json": {
       "model_id": "",
       "version_major": 2,
       "version_minor": 0
      },
      "text/plain": [
       "Validation: |                                                                                    | 0/? [00:00<…"
      ]
     },
     "metadata": {},
     "output_type": "display_data"
    },
    {
     "name": "stdout",
     "output_type": "stream",
     "text": [
      "[VAL] tas: RMSE=1.8830, Time-Mean RMSE=1.0497, Time-Stddev MAE=0.2298\n",
      "[VAL] pr: RMSE=2.0536, Time-Mean RMSE=0.3688, Time-Stddev MAE=0.7703\n"
     ]
    },
    {
     "data": {
      "application/vnd.jupyter.widget-view+json": {
       "model_id": "",
       "version_major": 2,
       "version_minor": 0
      },
      "text/plain": [
       "Validation: |                                                                                    | 0/? [00:00<…"
      ]
     },
     "metadata": {},
     "output_type": "display_data"
    },
    {
     "name": "stdout",
     "output_type": "stream",
     "text": [
      "[VAL] tas: RMSE=1.5566, Time-Mean RMSE=0.9071, Time-Stddev MAE=0.2170\n",
      "[VAL] pr: RMSE=1.9520, Time-Mean RMSE=0.2830, Time-Stddev MAE=0.7418\n"
     ]
    },
    {
     "data": {
      "application/vnd.jupyter.widget-view+json": {
       "model_id": "",
       "version_major": 2,
       "version_minor": 0
      },
      "text/plain": [
       "Validation: |                                                                                    | 0/? [00:00<…"
      ]
     },
     "metadata": {},
     "output_type": "display_data"
    },
    {
     "name": "stdout",
     "output_type": "stream",
     "text": [
      "[VAL] tas: RMSE=1.3430, Time-Mean RMSE=0.6464, Time-Stddev MAE=0.2039\n",
      "[VAL] pr: RMSE=1.9438, Time-Mean RMSE=0.2588, Time-Stddev MAE=0.7555\n"
     ]
    },
    {
     "data": {
      "application/vnd.jupyter.widget-view+json": {
       "model_id": "",
       "version_major": 2,
       "version_minor": 0
      },
      "text/plain": [
       "Validation: |                                                                                    | 0/? [00:00<…"
      ]
     },
     "metadata": {},
     "output_type": "display_data"
    },
    {
     "name": "stdout",
     "output_type": "stream",
     "text": [
      "[VAL] tas: RMSE=1.4354, Time-Mean RMSE=0.7590, Time-Stddev MAE=0.2218\n",
      "[VAL] pr: RMSE=1.9499, Time-Mean RMSE=0.2869, Time-Stddev MAE=0.7648\n"
     ]
    },
    {
     "data": {
      "application/vnd.jupyter.widget-view+json": {
       "model_id": "",
       "version_major": 2,
       "version_minor": 0
      },
      "text/plain": [
       "Validation: |                                                                                    | 0/? [00:00<…"
      ]
     },
     "metadata": {},
     "output_type": "display_data"
    },
    {
     "name": "stdout",
     "output_type": "stream",
     "text": [
      "[VAL] tas: RMSE=1.4690, Time-Mean RMSE=0.7199, Time-Stddev MAE=0.1873\n",
      "[VAL] pr: RMSE=1.9733, Time-Mean RMSE=0.2716, Time-Stddev MAE=0.7983\n"
     ]
    },
    {
     "data": {
      "application/vnd.jupyter.widget-view+json": {
       "model_id": "",
       "version_major": 2,
       "version_minor": 0
      },
      "text/plain": [
       "Validation: |                                                                                    | 0/? [00:00<…"
      ]
     },
     "metadata": {},
     "output_type": "display_data"
    },
    {
     "name": "stdout",
     "output_type": "stream",
     "text": [
      "[VAL] tas: RMSE=1.3844, Time-Mean RMSE=0.6894, Time-Stddev MAE=0.2301\n",
      "[VAL] pr: RMSE=1.9485, Time-Mean RMSE=0.2819, Time-Stddev MAE=0.7778\n"
     ]
    },
    {
     "data": {
      "application/vnd.jupyter.widget-view+json": {
       "model_id": "",
       "version_major": 2,
       "version_minor": 0
      },
      "text/plain": [
       "Validation: |                                                                                    | 0/? [00:00<…"
      ]
     },
     "metadata": {},
     "output_type": "display_data"
    },
    {
     "name": "stdout",
     "output_type": "stream",
     "text": [
      "[VAL] tas: RMSE=1.3774, Time-Mean RMSE=0.6899, Time-Stddev MAE=0.2151\n",
      "[VAL] pr: RMSE=1.9472, Time-Mean RMSE=0.2828, Time-Stddev MAE=0.7772\n"
     ]
    },
    {
     "data": {
      "application/vnd.jupyter.widget-view+json": {
       "model_id": "",
       "version_major": 2,
       "version_minor": 0
      },
      "text/plain": [
       "Validation: |                                                                                    | 0/? [00:00<…"
      ]
     },
     "metadata": {},
     "output_type": "display_data"
    },
    {
     "name": "stdout",
     "output_type": "stream",
     "text": [
      "[VAL] tas: RMSE=1.6494, Time-Mean RMSE=0.8918, Time-Stddev MAE=0.2309\n",
      "[VAL] pr: RMSE=2.0149, Time-Mean RMSE=0.3497, Time-Stddev MAE=0.8176\n"
     ]
    },
    {
     "data": {
      "application/vnd.jupyter.widget-view+json": {
       "model_id": "",
       "version_major": 2,
       "version_minor": 0
      },
      "text/plain": [
       "Validation: |                                                                                    | 0/? [00:00<…"
      ]
     },
     "metadata": {},
     "output_type": "display_data"
    },
    {
     "name": "stdout",
     "output_type": "stream",
     "text": [
      "[VAL] tas: RMSE=1.4851, Time-Mean RMSE=0.8176, Time-Stddev MAE=0.2458\n",
      "[VAL] pr: RMSE=1.9582, Time-Mean RMSE=0.2853, Time-Stddev MAE=0.7773\n"
     ]
    },
    {
     "data": {
      "application/vnd.jupyter.widget-view+json": {
       "model_id": "",
       "version_major": 2,
       "version_minor": 0
      },
      "text/plain": [
       "Validation: |                                                                                    | 0/? [00:00<…"
      ]
     },
     "metadata": {},
     "output_type": "display_data"
    },
    {
     "name": "stdout",
     "output_type": "stream",
     "text": [
      "[VAL] tas: RMSE=1.4288, Time-Mean RMSE=0.7476, Time-Stddev MAE=0.1796\n",
      "[VAL] pr: RMSE=1.9515, Time-Mean RMSE=0.3037, Time-Stddev MAE=0.7439\n"
     ]
    },
    {
     "data": {
      "application/vnd.jupyter.widget-view+json": {
       "model_id": "",
       "version_major": 2,
       "version_minor": 0
      },
      "text/plain": [
       "Validation: |                                                                                    | 0/? [00:00<…"
      ]
     },
     "metadata": {},
     "output_type": "display_data"
    },
    {
     "name": "stdout",
     "output_type": "stream",
     "text": [
      "[VAL] tas: RMSE=1.4453, Time-Mean RMSE=0.7330, Time-Stddev MAE=0.2319\n",
      "[VAL] pr: RMSE=1.9466, Time-Mean RMSE=0.2701, Time-Stddev MAE=0.7619\n"
     ]
    },
    {
     "data": {
      "application/vnd.jupyter.widget-view+json": {
       "model_id": "",
       "version_major": 2,
       "version_minor": 0
      },
      "text/plain": [
       "Validation: |                                                                                    | 0/? [00:00<…"
      ]
     },
     "metadata": {},
     "output_type": "display_data"
    },
    {
     "name": "stdout",
     "output_type": "stream",
     "text": [
      "[VAL] tas: RMSE=1.3295, Time-Mean RMSE=0.6191, Time-Stddev MAE=0.1563\n",
      "[VAL] pr: RMSE=1.9420, Time-Mean RMSE=0.2562, Time-Stddev MAE=0.7531\n"
     ]
    },
    {
     "data": {
      "application/vnd.jupyter.widget-view+json": {
       "model_id": "",
       "version_major": 2,
       "version_minor": 0
      },
      "text/plain": [
       "Validation: |                                                                                    | 0/? [00:00<…"
      ]
     },
     "metadata": {},
     "output_type": "display_data"
    },
    {
     "name": "stdout",
     "output_type": "stream",
     "text": [
      "[VAL] tas: RMSE=1.5336, Time-Mean RMSE=0.9587, Time-Stddev MAE=0.2136\n",
      "[VAL] pr: RMSE=1.9468, Time-Mean RMSE=0.2801, Time-Stddev MAE=0.7615\n"
     ]
    },
    {
     "data": {
      "application/vnd.jupyter.widget-view+json": {
       "model_id": "",
       "version_major": 2,
       "version_minor": 0
      },
      "text/plain": [
       "Validation: |                                                                                    | 0/? [00:00<…"
      ]
     },
     "metadata": {},
     "output_type": "display_data"
    },
    {
     "name": "stdout",
     "output_type": "stream",
     "text": [
      "[VAL] tas: RMSE=1.4837, Time-Mean RMSE=0.8787, Time-Stddev MAE=0.2291\n",
      "[VAL] pr: RMSE=1.9463, Time-Mean RMSE=0.2633, Time-Stddev MAE=0.7640\n"
     ]
    },
    {
     "data": {
      "application/vnd.jupyter.widget-view+json": {
       "model_id": "",
       "version_major": 2,
       "version_minor": 0
      },
      "text/plain": [
       "Validation: |                                                                                    | 0/? [00:00<…"
      ]
     },
     "metadata": {},
     "output_type": "display_data"
    },
    {
     "name": "stdout",
     "output_type": "stream",
     "text": [
      "[VAL] tas: RMSE=1.5323, Time-Mean RMSE=0.9034, Time-Stddev MAE=0.1876\n",
      "[VAL] pr: RMSE=1.9492, Time-Mean RMSE=0.2809, Time-Stddev MAE=0.7682\n"
     ]
    },
    {
     "data": {
      "application/vnd.jupyter.widget-view+json": {
       "model_id": "",
       "version_major": 2,
       "version_minor": 0
      },
      "text/plain": [
       "Validation: |                                                                                    | 0/? [00:00<…"
      ]
     },
     "metadata": {},
     "output_type": "display_data"
    },
    {
     "name": "stdout",
     "output_type": "stream",
     "text": [
      "[VAL] tas: RMSE=1.3610, Time-Mean RMSE=0.6405, Time-Stddev MAE=0.2284\n",
      "[VAL] pr: RMSE=1.9397, Time-Mean RMSE=0.2461, Time-Stddev MAE=0.7521\n"
     ]
    },
    {
     "data": {
      "application/vnd.jupyter.widget-view+json": {
       "model_id": "",
       "version_major": 2,
       "version_minor": 0
      },
      "text/plain": [
       "Validation: |                                                                                    | 0/? [00:00<…"
      ]
     },
     "metadata": {},
     "output_type": "display_data"
    },
    {
     "name": "stdout",
     "output_type": "stream",
     "text": [
      "[VAL] tas: RMSE=1.3475, Time-Mean RMSE=0.4617, Time-Stddev MAE=0.2364\n",
      "[VAL] pr: RMSE=1.9401, Time-Mean RMSE=0.2452, Time-Stddev MAE=0.7475\n"
     ]
    },
    {
     "data": {
      "application/vnd.jupyter.widget-view+json": {
       "model_id": "",
       "version_major": 2,
       "version_minor": 0
      },
      "text/plain": [
       "Validation: |                                                                                    | 0/? [00:00<…"
      ]
     },
     "metadata": {},
     "output_type": "display_data"
    },
    {
     "name": "stdout",
     "output_type": "stream",
     "text": [
      "[VAL] tas: RMSE=1.3943, Time-Mean RMSE=0.6259, Time-Stddev MAE=0.1552\n",
      "[VAL] pr: RMSE=1.9438, Time-Mean RMSE=0.2626, Time-Stddev MAE=0.7523\n"
     ]
    },
    {
     "data": {
      "application/vnd.jupyter.widget-view+json": {
       "model_id": "",
       "version_major": 2,
       "version_minor": 0
      },
      "text/plain": [
       "Validation: |                                                                                    | 0/? [00:00<…"
      ]
     },
     "metadata": {},
     "output_type": "display_data"
    },
    {
     "name": "stdout",
     "output_type": "stream",
     "text": [
      "[VAL] tas: RMSE=1.3828, Time-Mean RMSE=0.6573, Time-Stddev MAE=0.1951\n",
      "[VAL] pr: RMSE=1.9570, Time-Mean RMSE=0.2748, Time-Stddev MAE=0.7769\n"
     ]
    },
    {
     "data": {
      "application/vnd.jupyter.widget-view+json": {
       "model_id": "",
       "version_major": 2,
       "version_minor": 0
      },
      "text/plain": [
       "Validation: |                                                                                    | 0/? [00:00<…"
      ]
     },
     "metadata": {},
     "output_type": "display_data"
    },
    {
     "name": "stdout",
     "output_type": "stream",
     "text": [
      "[VAL] tas: RMSE=1.3614, Time-Mean RMSE=0.3642, Time-Stddev MAE=0.2892\n",
      "[VAL] pr: RMSE=1.9485, Time-Mean RMSE=0.2378, Time-Stddev MAE=0.7513\n"
     ]
    },
    {
     "data": {
      "application/vnd.jupyter.widget-view+json": {
       "model_id": "",
       "version_major": 2,
       "version_minor": 0
      },
      "text/plain": [
       "Validation: |                                                                                    | 0/? [00:00<…"
      ]
     },
     "metadata": {},
     "output_type": "display_data"
    },
    {
     "name": "stdout",
     "output_type": "stream",
     "text": [
      "[VAL] tas: RMSE=1.2978, Time-Mean RMSE=0.4290, Time-Stddev MAE=0.2055\n",
      "[VAL] pr: RMSE=1.9386, Time-Mean RMSE=0.2397, Time-Stddev MAE=0.7233\n"
     ]
    },
    {
     "name": "stderr",
     "output_type": "stream",
     "text": [
      "`Trainer.fit` stopped: `max_epochs=500` reached.\n"
     ]
    }
   ],
   "source": [
    "datamodule = ClimateDataModule(**config[\"data\"])\n",
    "datamodule.setup()  # so .lat and .lon are populated\n",
    "\n",
    "# compute true flattened dims\n",
    "C_in = len(config[\"data\"][\"input_vars\"])\n",
    "H    = len(datamodule.lat)\n",
    "W    = len(datamodule.lon)\n",
    "flat_in = C_in * H * W\n",
    "\n",
    "model = MLP(\n",
    "    n_input_channels   = C_in,\n",
    "    n_output_channels  = len(config[\"data\"][\"output_vars\"]),\n",
    "    input_dim          = flat_in,                  # now matches flattened input\n",
    "    hidden_dims        = config[\"model\"][\"hidden_dims\"],\n",
    "    dropout            = config[\"model\"][\"dropout\"],\n",
    "    activation         = config[\"model\"][\"activation\"],\n",
    "    spatial_shape      = (H, W),                   # so final map has correct H×W\n",
    ")\n",
    "\n",
    "lightning_module = ClimateEmulationModule(\n",
    "    model,\n",
    "    learning_rate = config[\"training\"][\"lr\"]\n",
    ")\n",
    "\n",
    "trainer = pl.Trainer(**config[\"trainer\"])\n",
    "trainer.fit(lightning_module, datamodule=datamodule)"
   ]
  },
  {
   "cell_type": "code",
   "execution_count": 28,
   "id": "c1fb9694",
   "metadata": {},
   "outputs": [],
   "source": [
    "# Assuming you already have trainer and lightning_module\n",
    "trainer.save_checkpoint(\"checkpoints/advanced_mlp.ckpt\")"
   ]
  },
  {
   "cell_type": "code",
   "execution_count": null,
   "id": "216e9b44",
   "metadata": {},
   "outputs": [],
   "source": []
  },
  {
   "cell_type": "code",
   "execution_count": null,
   "id": "415114cc",
   "metadata": {},
   "outputs": [],
   "source": []
  },
  {
   "cell_type": "markdown",
   "id": "d4568ad4",
   "metadata": {},
   "source": [
    "### CKPT LOADER IF NEEDED"
   ]
  },
  {
   "cell_type": "code",
   "execution_count": 31,
   "id": "8855f366",
   "metadata": {},
   "outputs": [],
   "source": [
    "from lightning.pytorch.callbacks import ModelCheckpoint\n",
    "from lightning.pytorch import Trainer\n",
    "\n",
    "# 1. Recreate your model architecture (must match the saved ckpt model architecture)\n",
    "model = MLP(\n",
    "    n_input_channels   = C_in,\n",
    "    n_output_channels  = len(config[\"data\"][\"output_vars\"]),\n",
    "    input_dim          = flat_in,                  # now matches flattened input\n",
    "    hidden_dims        = config[\"model\"][\"hidden_dims\"],\n",
    "    dropout            = config[\"model\"][\"dropout\"],\n",
    "    activation         = config[\"model\"][\"activation\"],\n",
    "    spatial_shape      = (H, W),                   # so final map has correct H×W\n",
    ")\n",
    "\n",
    "# 2. Load from checkpoint into your ClimateEmulationModule\n",
    "lightning_module = ClimateEmulationModule.load_from_checkpoint(\n",
    "    checkpoint_path=\"checkpoints/advanced_mlp.ckpt\",\n",
    "    model=model,\n",
    "    learning_rate=config[\"training\"][\"lr\"]\n",
    ")\n",
    "\n",
    "# 3. Important: make sure to re-assign the normalizer from the datamodule (since it's not saved in ckpt)\n",
    "lightning_module.normalizer = datamodule.normalizer"
   ]
  },
  {
   "cell_type": "markdown",
   "id": "21d6b41f",
   "metadata": {},
   "source": [
    "### _____________________________________________________________________________________________"
   ]
  },
  {
   "cell_type": "code",
   "execution_count": null,
   "id": "daacdda4",
   "metadata": {},
   "outputs": [],
   "source": []
  },
  {
   "cell_type": "code",
   "execution_count": 32,
   "id": "fb82c079-7578-4cd8-8d2f-ecf5ac673cf1",
   "metadata": {},
   "outputs": [
    {
     "name": "stdout",
     "output_type": "stream",
     "text": [
      "Creating dataset with 2703 samples...\n",
      "Creating dataset with 360 samples...\n",
      "Creating dataset with 360 samples...\n"
     ]
    },
    {
     "name": "stderr",
     "output_type": "stream",
     "text": [
      "LOCAL_RANK: 0 - CUDA_VISIBLE_DEVICES: [0]\n",
      "C:\\Users\\20187\\anaconda3\\Lib\\site-packages\\lightning\\pytorch\\trainer\\connectors\\data_connector.py:425: The 'val_dataloader' does not have many workers which may be a bottleneck. Consider increasing the value of the `num_workers` argument` to `num_workers=19` in the `DataLoader` to improve performance.\n"
     ]
    },
    {
     "data": {
      "application/vnd.jupyter.widget-view+json": {
       "model_id": "10c629ede71c4d4b8ab22a0f0326c84e",
       "version_major": 2,
       "version_minor": 0
      },
      "text/plain": [
       "Validation: |                                                                                    | 0/? [00:00<…"
      ]
     },
     "metadata": {},
     "output_type": "display_data"
    },
    {
     "name": "stdout",
     "output_type": "stream",
     "text": [
      "[VAL] tas: RMSE=1.2978, Time-Mean RMSE=0.4290, Time-Stddev MAE=0.2055\n",
      "[VAL] pr: RMSE=1.9386, Time-Mean RMSE=0.2397, Time-Stddev MAE=0.7233\n"
     ]
    },
    {
     "data": {
      "text/html": [
       "<pre style=\"white-space:pre;overflow-x:auto;line-height:normal;font-family:Menlo,'DejaVu Sans Mono',consolas,'Courier New',monospace\">┏━━━━━━━━━━━━━━━━━━━━━━━━━━━┳━━━━━━━━━━━━━━━━━━━━━━━━━━━┓\n",
       "┃<span style=\"font-weight: bold\">      Validate metric      </span>┃<span style=\"font-weight: bold\">       DataLoader 0        </span>┃\n",
       "┡━━━━━━━━━━━━━━━━━━━━━━━━━━━╇━━━━━━━━━━━━━━━━━━━━━━━━━━━┩\n",
       "│<span style=\"color: #008080; text-decoration-color: #008080\">         val/loss          </span>│<span style=\"color: #800080; text-decoration-color: #800080\">    0.15152353328730722    </span>│\n",
       "│<span style=\"color: #008080; text-decoration-color: #008080\">        val/pr/rmse        </span>│<span style=\"color: #800080; text-decoration-color: #800080\">    1.9386225938796997     </span>│\n",
       "│<span style=\"color: #008080; text-decoration-color: #008080\">   val/pr/time_mean_rmse   </span>│<span style=\"color: #800080; text-decoration-color: #800080\">    0.23972150683403015    </span>│\n",
       "│<span style=\"color: #008080; text-decoration-color: #008080\">    val/pr/time_std_mae    </span>│<span style=\"color: #800080; text-decoration-color: #800080\">    0.7233270406723022     </span>│\n",
       "│<span style=\"color: #008080; text-decoration-color: #008080\">       val/tas/rmse        </span>│<span style=\"color: #800080; text-decoration-color: #800080\">    1.2978352308273315     </span>│\n",
       "│<span style=\"color: #008080; text-decoration-color: #008080\">  val/tas/time_mean_rmse   </span>│<span style=\"color: #800080; text-decoration-color: #800080\">    0.4289833605289459     </span>│\n",
       "│<span style=\"color: #008080; text-decoration-color: #008080\">   val/tas/time_std_mae    </span>│<span style=\"color: #800080; text-decoration-color: #800080\">    0.2055235505104065     </span>│\n",
       "└───────────────────────────┴───────────────────────────┘\n",
       "</pre>\n"
      ],
      "text/plain": [
       "┏━━━━━━━━━━━━━━━━━━━━━━━━━━━┳━━━━━━━━━━━━━━━━━━━━━━━━━━━┓\n",
       "┃\u001b[1m \u001b[0m\u001b[1m     Validate metric     \u001b[0m\u001b[1m \u001b[0m┃\u001b[1m \u001b[0m\u001b[1m      DataLoader 0       \u001b[0m\u001b[1m \u001b[0m┃\n",
       "┡━━━━━━━━━━━━━━━━━━━━━━━━━━━╇━━━━━━━━━━━━━━━━━━━━━━━━━━━┩\n",
       "│\u001b[36m \u001b[0m\u001b[36m        val/loss         \u001b[0m\u001b[36m \u001b[0m│\u001b[35m \u001b[0m\u001b[35m   0.15152353328730722   \u001b[0m\u001b[35m \u001b[0m│\n",
       "│\u001b[36m \u001b[0m\u001b[36m       val/pr/rmse       \u001b[0m\u001b[36m \u001b[0m│\u001b[35m \u001b[0m\u001b[35m   1.9386225938796997    \u001b[0m\u001b[35m \u001b[0m│\n",
       "│\u001b[36m \u001b[0m\u001b[36m  val/pr/time_mean_rmse  \u001b[0m\u001b[36m \u001b[0m│\u001b[35m \u001b[0m\u001b[35m   0.23972150683403015   \u001b[0m\u001b[35m \u001b[0m│\n",
       "│\u001b[36m \u001b[0m\u001b[36m   val/pr/time_std_mae   \u001b[0m\u001b[36m \u001b[0m│\u001b[35m \u001b[0m\u001b[35m   0.7233270406723022    \u001b[0m\u001b[35m \u001b[0m│\n",
       "│\u001b[36m \u001b[0m\u001b[36m      val/tas/rmse       \u001b[0m\u001b[36m \u001b[0m│\u001b[35m \u001b[0m\u001b[35m   1.2978352308273315    \u001b[0m\u001b[35m \u001b[0m│\n",
       "│\u001b[36m \u001b[0m\u001b[36m val/tas/time_mean_rmse  \u001b[0m\u001b[36m \u001b[0m│\u001b[35m \u001b[0m\u001b[35m   0.4289833605289459    \u001b[0m\u001b[35m \u001b[0m│\n",
       "│\u001b[36m \u001b[0m\u001b[36m  val/tas/time_std_mae   \u001b[0m\u001b[36m \u001b[0m│\u001b[35m \u001b[0m\u001b[35m   0.2055235505104065    \u001b[0m\u001b[35m \u001b[0m│\n",
       "└───────────────────────────┴───────────────────────────┘\n"
      ]
     },
     "metadata": {},
     "output_type": "display_data"
    },
    {
     "name": "stdout",
     "output_type": "stream",
     "text": [
      "Creating dataset with 2703 samples...\n",
      "Creating dataset with 360 samples...\n",
      "Creating dataset with 360 samples...\n"
     ]
    },
    {
     "name": "stderr",
     "output_type": "stream",
     "text": [
      "LOCAL_RANK: 0 - CUDA_VISIBLE_DEVICES: [0]\n",
      "C:\\Users\\20187\\anaconda3\\Lib\\site-packages\\lightning\\pytorch\\trainer\\connectors\\data_connector.py:425: The 'test_dataloader' does not have many workers which may be a bottleneck. Consider increasing the value of the `num_workers` argument` to `num_workers=19` in the `DataLoader` to improve performance.\n"
     ]
    },
    {
     "data": {
      "application/vnd.jupyter.widget-view+json": {
       "model_id": "40f7ddd92357456f82a9fc2f468121dd",
       "version_major": 2,
       "version_minor": 0
      },
      "text/plain": [
       "Testing: |                                                                                       | 0/? [00:00<…"
      ]
     },
     "metadata": {},
     "output_type": "display_data"
    },
    {
     "name": "stdout",
     "output_type": "stream",
     "text": [
      "[TEST] tas: RMSE=290.3607, Time-Mean RMSE=290.3177, Time-Stddev MAE=3.5760\n",
      "[TEST] pr: RMSE=4.2314, Time-Mean RMSE=3.7589, Time-Stddev MAE=1.3825\n",
      "✅ Submission saved to: submissions/kaggle_submission_20250516_200245.csv\n"
     ]
    },
    {
     "data": {
      "text/html": [
       "<pre style=\"white-space:pre;overflow-x:auto;line-height:normal;font-family:Menlo,'DejaVu Sans Mono',consolas,'Courier New',monospace\">┏━━━━━━━━━━━━━━━━━━━━━━━━━━━┳━━━━━━━━━━━━━━━━━━━━━━━━━━━┓\n",
       "┃<span style=\"font-weight: bold\">        Test metric        </span>┃<span style=\"font-weight: bold\">       DataLoader 0        </span>┃\n",
       "┡━━━━━━━━━━━━━━━━━━━━━━━━━━━╇━━━━━━━━━━━━━━━━━━━━━━━━━━━┩\n",
       "│<span style=\"color: #008080; text-decoration-color: #008080\">       test/pr/rmse        </span>│<span style=\"color: #800080; text-decoration-color: #800080\">     4.231359004974365     </span>│\n",
       "│<span style=\"color: #008080; text-decoration-color: #008080\">  test/pr/time_mean_rmse   </span>│<span style=\"color: #800080; text-decoration-color: #800080\">     3.758880376815796     </span>│\n",
       "│<span style=\"color: #008080; text-decoration-color: #008080\">   test/pr/time_std_mae    </span>│<span style=\"color: #800080; text-decoration-color: #800080\">    1.3824833631515503     </span>│\n",
       "│<span style=\"color: #008080; text-decoration-color: #008080\">       test/tas/rmse       </span>│<span style=\"color: #800080; text-decoration-color: #800080\">     290.3607482910156     </span>│\n",
       "│<span style=\"color: #008080; text-decoration-color: #008080\">  test/tas/time_mean_rmse  </span>│<span style=\"color: #800080; text-decoration-color: #800080\">    290.31768798828125     </span>│\n",
       "│<span style=\"color: #008080; text-decoration-color: #008080\">   test/tas/time_std_mae   </span>│<span style=\"color: #800080; text-decoration-color: #800080\">    3.5759944915771484     </span>│\n",
       "└───────────────────────────┴───────────────────────────┘\n",
       "</pre>\n"
      ],
      "text/plain": [
       "┏━━━━━━━━━━━━━━━━━━━━━━━━━━━┳━━━━━━━━━━━━━━━━━━━━━━━━━━━┓\n",
       "┃\u001b[1m \u001b[0m\u001b[1m       Test metric       \u001b[0m\u001b[1m \u001b[0m┃\u001b[1m \u001b[0m\u001b[1m      DataLoader 0       \u001b[0m\u001b[1m \u001b[0m┃\n",
       "┡━━━━━━━━━━━━━━━━━━━━━━━━━━━╇━━━━━━━━━━━━━━━━━━━━━━━━━━━┩\n",
       "│\u001b[36m \u001b[0m\u001b[36m      test/pr/rmse       \u001b[0m\u001b[36m \u001b[0m│\u001b[35m \u001b[0m\u001b[35m    4.231359004974365    \u001b[0m\u001b[35m \u001b[0m│\n",
       "│\u001b[36m \u001b[0m\u001b[36m test/pr/time_mean_rmse  \u001b[0m\u001b[36m \u001b[0m│\u001b[35m \u001b[0m\u001b[35m    3.758880376815796    \u001b[0m\u001b[35m \u001b[0m│\n",
       "│\u001b[36m \u001b[0m\u001b[36m  test/pr/time_std_mae   \u001b[0m\u001b[36m \u001b[0m│\u001b[35m \u001b[0m\u001b[35m   1.3824833631515503    \u001b[0m\u001b[35m \u001b[0m│\n",
       "│\u001b[36m \u001b[0m\u001b[36m      test/tas/rmse      \u001b[0m\u001b[36m \u001b[0m│\u001b[35m \u001b[0m\u001b[35m    290.3607482910156    \u001b[0m\u001b[35m \u001b[0m│\n",
       "│\u001b[36m \u001b[0m\u001b[36m test/tas/time_mean_rmse \u001b[0m\u001b[36m \u001b[0m│\u001b[35m \u001b[0m\u001b[35m   290.31768798828125    \u001b[0m\u001b[35m \u001b[0m│\n",
       "│\u001b[36m \u001b[0m\u001b[36m  test/tas/time_std_mae  \u001b[0m\u001b[36m \u001b[0m│\u001b[35m \u001b[0m\u001b[35m   3.5759944915771484    \u001b[0m\u001b[35m \u001b[0m│\n",
       "└───────────────────────────┴───────────────────────────┘\n"
      ]
     },
     "metadata": {},
     "output_type": "display_data"
    },
    {
     "data": {
      "text/plain": [
       "[{'test/tas/rmse': 290.3607482910156,\n",
       "  'test/tas/time_mean_rmse': 290.31768798828125,\n",
       "  'test/tas/time_std_mae': 3.5759944915771484,\n",
       "  'test/pr/rmse': 4.231359004974365,\n",
       "  'test/pr/time_mean_rmse': 3.758880376815796,\n",
       "  'test/pr/time_std_mae': 1.3824833631515503}]"
      ]
     },
     "execution_count": 32,
     "metadata": {},
     "output_type": "execute_result"
    }
   ],
   "source": [
    "# Validate + Test + CSV Generation\n",
    "trainer.validate(lightning_module, datamodule=datamodule)\n",
    "trainer.test(lightning_module, datamodule=datamodule)\n",
    "# ----------------------------------------------"
   ]
  },
  {
   "cell_type": "code",
   "execution_count": 123,
   "id": "e0dc3ce2-e035-48fe-9fa6-027d65458593",
   "metadata": {},
   "outputs": [
    {
     "data": {
      "text/plain": [
       "'/Users/charles/CSE-151B-Project'"
      ]
     },
     "execution_count": 123,
     "metadata": {},
     "output_type": "execute_result"
    }
   ],
   "source": [
    "pwd"
   ]
  },
  {
   "cell_type": "code",
   "execution_count": null,
   "id": "a2c74d33",
   "metadata": {},
   "outputs": [],
   "source": []
  },
  {
   "cell_type": "markdown",
   "id": "e394a1b7",
   "metadata": {},
   "source": [
    "### Test Metrics Visualization"
   ]
  },
  {
   "cell_type": "code",
   "execution_count": 44,
   "id": "7bfb8f3a",
   "metadata": {},
   "outputs": [
    {
     "data": {
      "image/png": "[encoded data removed]",
      "text/plain": [
       "<Figure size 1000x500 with 1 Axes>"
      ]
     },
     "metadata": {},
     "output_type": "display_data"
    }
   ],
   "source": [
    "from tensorboard.backend.event_processing.event_accumulator import EventAccumulator\n",
    "import matplotlib.pyplot as plt\n",
    "\n",
    "# Load the log directory\n",
    "log_dir = r\"C:\\Users\\20187\\CSE 151B\\Project\\lightning_logs\\version_40\"\n",
    "event_acc = EventAccumulator(log_dir)\n",
    "event_acc.Reload()\n",
    "\n",
    "# Get training and validation losses\n",
    "train_loss = event_acc.Scalars('train/loss') if 'train/loss' in event_acc.Tags()['scalars'] else []\n",
    "val_loss = event_acc.Scalars('val/loss') if 'val/loss' in event_acc.Tags()['scalars'] else []\n",
    "\n",
    "# Plot\n",
    "plt.figure(figsize=(10, 5))\n",
    "\n",
    "if train_loss:\n",
    "    plt.plot([x.step for x in train_loss], [x.value for x in train_loss], label='Train Loss')\n",
    "if val_loss:\n",
    "    plt.plot([x.step for x in val_loss], [x.value for x in val_loss], label='Val Loss')\n",
    "\n",
    "plt.xlabel('Steps')\n",
    "plt.ylabel('Loss')\n",
    "plt.title('Training & Validation Loss (MSE) Over Steps')\n",
    "plt.legend()\n",
    "plt.grid(True)\n",
    "\n",
    "plt.savefig('Training & Validation Loss (MSE) Over Steps.png')\n",
    "\n",
    "plt.show()"
   ]
  },
  {
   "cell_type": "code",
   "execution_count": 43,
   "id": "818c489a",
   "metadata": {},
   "outputs": [
    {
     "name": "stdout",
     "output_type": "stream",
     "text": [
      "Available tags:\n",
      " ['hp_metric', 'val/loss', 'val/tas/rmse', 'val/tas/time_mean_rmse', 'val/tas/time_std_mae', 'val/pr/rmse', 'val/pr/time_mean_rmse', 'val/pr/time_std_mae', 'epoch', 'train/loss', 'test/tas/rmse', 'test/tas/time_mean_rmse', 'test/tas/time_std_mae', 'test/pr/rmse', 'test/pr/time_mean_rmse', 'test/pr/time_std_mae']\n"
     ]
    },
    {
     "data": {
      "image/png": "[encoded data removed]",
      "text/plain": [
       "<Figure size 1400x800 with 1 Axes>"
      ]
     },
     "metadata": {},
     "output_type": "display_data"
    }
   ],
   "source": [
    "from tensorboard.backend.event_processing.event_accumulator import EventAccumulator\n",
    "import matplotlib.pyplot as plt\n",
    "\n",
    "# Load the log directory\n",
    "log_dir = r\"C:\\Users\\20187\\CSE 151B\\Project\\lightning_logs\\version_40\"\n",
    "event_acc = EventAccumulator(log_dir)\n",
    "event_acc.Reload()\n",
    "\n",
    "# Check available scalar tags\n",
    "tags = event_acc.Tags()['scalars']\n",
    "print(\"Available tags:\\n\", tags)\n",
    "\n",
    "# Define train and val metrics only (no test metrics)\n",
    "metrics_to_plot = [\n",
    "    'val/tas/rmse', 'val/tas/time_mean_rmse', 'val/tas/time_std_mae',\n",
    "    'val/pr/rmse', 'val/pr/time_mean_rmse', 'val/pr/time_std_mae',\n",
    "]\n",
    "\n",
    "# Plot\n",
    "plt.figure(figsize=(14, 8))\n",
    "\n",
    "for metric in metrics_to_plot:\n",
    "    if metric in tags:\n",
    "        events = event_acc.Scalars(metric)\n",
    "        steps = [x.step for x in events]\n",
    "        values = [x.value for x in events]\n",
    "        plt.plot(steps, values, label=metric)\n",
    "    else:\n",
    "        print(f\"Warning: '{metric}' not found in logs.\")\n",
    "\n",
    "plt.xlabel('Steps')\n",
    "plt.ylabel('Metric Value')\n",
    "plt.yscale('log')  # Optional: helps if values vary a lot\n",
    "plt.title('Validation Metrics Over Steps')\n",
    "plt.legend(bbox_to_anchor=(1.05, 1), loc='upper left')\n",
    "plt.grid(True)\n",
    "plt.tight_layout()\n",
    "\n",
    "plt.savefig('Validation Metrics Over Steps.png')\n",
    "\n",
    "plt.show()"
   ]
  },
  {
   "cell_type": "code",
   "execution_count": null,
   "id": "822ae242",
   "metadata": {},
   "outputs": [],
   "source": []
  },
  {
   "cell_type": "code",
   "execution_count": null,
   "id": "9727c0ee",
   "metadata": {},
   "outputs": [],
   "source": []
  },
  {
   "cell_type": "code",
   "execution_count": 46,
   "id": "9949044d",
   "metadata": {},
   "outputs": [
    {
     "ename": "NameError",
     "evalue": "name 'trues' is not defined",
     "output_type": "error",
     "traceback": [
      "\u001b[1;31m---------------------------------------------------------------------------\u001b[0m",
      "\u001b[1;31mNameError\u001b[0m                                 Traceback (most recent call last)",
      "Cell \u001b[1;32mIn[46], line 6\u001b[0m\n\u001b[0;32m      2\u001b[0m \u001b[38;5;28;01mimport\u001b[39;00m \u001b[38;5;21;01mmatplotlib\u001b[39;00m\u001b[38;5;21;01m.\u001b[39;00m\u001b[38;5;21;01mpyplot\u001b[39;00m \u001b[38;5;28;01mas\u001b[39;00m \u001b[38;5;21;01mplt\u001b[39;00m\n\u001b[0;32m      4\u001b[0m \u001b[38;5;66;03m# Example: assume y_true, y_pred are [N, H, W] arrays for one variable ('tas' or 'pr')\u001b[39;00m\n\u001b[0;32m      5\u001b[0m \u001b[38;5;66;03m# Replace these with your actual validation outputs and predictions\u001b[39;00m\n\u001b[1;32m----> 6\u001b[0m y_true \u001b[38;5;241m=\u001b[39m trues\n\u001b[0;32m      7\u001b[0m y_pred \u001b[38;5;241m=\u001b[39m preds\n\u001b[0;32m      9\u001b[0m \u001b[38;5;66;03m# Calculate per-sample RMSE\u001b[39;00m\n",
      "\u001b[1;31mNameError\u001b[0m: name 'trues' is not defined"
     ]
    }
   ],
   "source": []
  },
  {
   "cell_type": "code",
   "execution_count": null,
   "id": "16d617ba",
   "metadata": {},
   "outputs": [],
   "source": []
  }
 ],
 "metadata": {
  "kernelspec": {
   "display_name": "Python 3 (ipykernel)",
   "language": "python",
   "name": "python3"
  },
  "language_info": {
   "codemirror_mode": {
    "name": "ipython",
    "version": 3
   },
   "file_extension": ".py",
   "mimetype": "text/x-python",
   "name": "python",
   "nbconvert_exporter": "python",
   "pygments_lexer": "ipython3",
   "version": "3.11.5"
  }
 },
 "nbformat": 4,
 "nbformat_minor": 5
}
